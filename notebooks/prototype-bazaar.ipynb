{
 "cells": [
  {
   "cell_type": "code",
   "execution_count": 235,
   "id": "7c0fb1f5-fabf-43df-b3e3-8ca001667417",
   "metadata": {},
   "outputs": [],
   "source": [
    "import os\n",
    "import json\n",
    "import pandas as pd\n",
    "import matplotlib.pyplot as plt\n",
    "from collections import defaultdict\n",
    "from copy import deepcopy\n",
    "import numpy as np\n",
    "import plotly.express as px\n",
    "from sklearn.manifold import TSNE\n",
    "from sklearn.metrics.pairwise import cosine_similarity\n",
    "from dataclasses import dataclass, field\n",
    "from typing import List, Union, Tuple, Any, Optional, Dict\n",
    "from enum import Enum\n",
    "from tqdm import tqdm\n",
    "import numpy as np\n",
    "import random\n",
    "import backoff as backoff\n",
    "import openai\n",
    "openai.api_key = os.environ.get(\"OPENAI_API_KEY\")\n",
    "\n",
    "import sys\n",
    "sys.path.append(\"../\")\n",
    "from bazaar.bots import Bot\n",
    "\n",
    "%matplotlib inline"
   ]
  },
  {
   "cell_type": "code",
   "execution_count": 2,
   "id": "e205b218-b396-47a4-a165-0e0d22f57cf3",
   "metadata": {},
   "outputs": [
    {
     "data": {
      "text/plain": [
       "'/network/scratch/w/weissmar/tn/info-bazaar/notebooks'"
      ]
     },
     "execution_count": 2,
     "metadata": {},
     "output_type": "execute_result"
    }
   ],
   "source": [
    "os.getcwd()"
   ]
  },
  {
   "cell_type": "code",
   "execution_count": 99,
   "id": "a55d620a-ffa8-4e05-b6a7-4cb03e3bb285",
   "metadata": {},
   "outputs": [],
   "source": [
    "with open(\"../data/machine-learning/dataset_step_1.json\", \"r\") as f:\n",
    "    x = f.read()\n",
    "dataset = json.loads(x)"
   ]
  },
  {
   "cell_type": "code",
   "execution_count": null,
   "id": "620ce6b6-3e70-4a3f-985f-a90f8bd2c3b6",
   "metadata": {},
   "outputs": [],
   "source": [
    "\n",
    "HYDE_PROMPT = \"\"\"\n",
    "Below is a question. Your task is to create a paragraph from a fictional document that exactly answers that question. This excerpt might look out of context, but that’s ok — the important bit is that it unambiguously answers the question. Respond only with the text of this fictional excerpt, and nothing else.\n",
    "\n",
    "Question: {question}\n",
    "\"\"\"\n",
    "\n",
    "\n",
    "@backoff.on_exception(backoff.expo, (openai.error.RateLimitError, openai.error.ServiceUnavailableError))\n",
    "def hyde(question):\n",
    "    bot = Bot(\"hydebot\", \"gpt-3.5-turbo\", \"You are a helpful assistant.\")\n",
    "    bot.add_message(HYDE_PROMPT.format(question=question))\n",
    "    response = bot.complete()\n",
    "    # print(f\"fake doc: {response}\")\n",
    "    return response\n",
    "def calculate_embedding(text):\n",
    "    return openai.Embedding.create(\n",
    "        input=[text.replace(\"\\n\", \" \")], model=\"text-embedding-ada-002\"\n",
    "    )[\"data\"][0][\"embedding\"]\n"
   ]
  },
  {
   "cell_type": "code",
   "execution_count": 208,
   "id": "113a1b6f-1bc7-466c-89cf-ca753d22aa0f",
   "metadata": {},
   "outputs": [],
   "source": [
    "@dataclass\n",
    "class Principal:\n",
    "    name: str\n",
    "\n",
    "@dataclass\n",
    "class BuyerPrincipal(Principal):\n",
    "    queries: List[Query]\n",
    "\n",
    "@dataclass(frozen=True)\n",
    "class Nugget:\n",
    "    question: str\n",
    "    answer: str\n",
    "    embedding: str\n",
    "\n",
    "@dataclass(frozen=True)\n",
    "class Block:\n",
    "    block_id: str\n",
    "    content: str\n",
    "    num_tokens: int\n",
    "    embedding: List[float]\n",
    "    nuggets: Optional[List[Nugget]]\n",
    "\n",
    "@dataclass\n",
    "class Institution(Principal):\n",
    "    id: str\n",
    "    display_name: str\n",
    "    ror: str\n",
    "    country_code: str\n",
    "    type: str\n",
    "    blocks: Dict[str, Block] = field(default_factory=dict)\n",
    "   \n",
    "    def __init__(self, name=None, *args, **kwargs):\n",
    "        if not name:\n",
    "            name = kwargs.get('display_name', '')\n",
    "        super().__init__(name)\n",
    "        for k, v in kwargs.items():\n",
    "            setattr(self, k, v)\n",
    "\n",
    "    def __hash__(self):\n",
    "        return hash(self.id)\n",
    "\n",
    "@dataclass\n",
    "class Author(Principal):\n",
    "    id: str\n",
    "    display_name: str\n",
    "    orcid: str\n",
    "    last_known_institution: Optional[Institution] = None\n",
    "    related_concepts: Optional[List[str]] = None\n",
    "    blocks: Dict[str, Block] = field(default_factory=dict)\n",
    "    \n",
    "    def __init__(self, name=None, *args, **kwargs):\n",
    "        if not name:\n",
    "            name = kwargs.get('display_name', '')\n",
    "        super().__init__(name)\n",
    "        for k, v in kwargs.items():\n",
    "            setattr(self, k, v)\n",
    "\n",
    "    def __hash__(self):\n",
    "        return hash(self.id)\n",
    "\n",
    "\n",
    "@dataclass\n",
    "class Vendor:\n",
    "    principal: Union[Author, Institution]\n",
    "    block_price: List[int]\n",
    "    observed_blocks: Optional[List[Block]] = field(default_factory=list)\n",
    "    response_time_guarantee: int = 0\n",
    "\n",
    "    def check_bb(bb_queries: List[Query]):\n",
    "        for bb_query in bb_queries:\n",
    "            pass\n",
    "    \n",
    "\n",
    "@dataclass\n",
    "class Quote:\n",
    "    query: str\n",
    "    most_similar_question_answered_in_block: str\n",
    "    answer_block: str\n",
    "    block_price: int\n",
    "    eta: Union[int, None] = None\n",
    "\n",
    "class Urgency(Enum):\n",
    "    DAY = \"day\"\n",
    "    HOUR = \"hour\"\n",
    "    INSTANT = \"instant\"\n",
    "\n",
    "@dataclass\n",
    "class Query:\n",
    "    query: str\n",
    "    max_budget: int\n",
    "    urgency: Urgency\n",
    "\n",
    "@dataclass\n",
    "class BulletinBoard:\n",
    "    queries: List[Query]"
   ]
  },
  {
   "cell_type": "code",
   "execution_count": 203,
   "id": "a59797c5-7376-42ea-bef6-784116a068b7",
   "metadata": {},
   "outputs": [
    {
     "name": "stderr",
     "output_type": "stream",
     "text": [
      "100%|████████████████████████████████████████████████████████████████████████████████████████████████████████████████████████████████████████████████████████████████████████| 89/89 [00:00<00:00, 11243.09it/s]\n"
     ]
    }
   ],
   "source": [
    "# Build the queries and set them on a Principal\n",
    "queries = []\n",
    "for arxiv_id, data in tqdm(dataset.items()):\n",
    "    for block in data['blocks']:\n",
    "        for nugget in block.get('nuggets', []):\n",
    "            # Assuming mean budget is 1000 and standard deviation is 200\n",
    "            mu = 0.0  # mean of the underlying normal distribution\n",
    "            sigma = 1.0  # standard deviation of the underlying normal distribution\n",
    "            max_budget = np.random.lognormal(mean=mu, sigma=sigma, size=1)\n",
    "            urgency = random.choice(list(Urgency))\n",
    "            query = Query(nugget['question'], max_budget, urgency)\n",
    "            queries.append(query)\n",
    "buyer_principal = BuyerPrincipal(name=\"skinner\", queries=queries)"
   ]
  },
  {
   "cell_type": "code",
   "execution_count": 182,
   "id": "4602f8a9-9ece-431e-ab07-7a3c2abd6cc7",
   "metadata": {},
   "outputs": [
    {
     "name": "stderr",
     "output_type": "stream",
     "text": [
      "100%|████████████████████████████████████████████████████████████████████████████████████████████████████████████████████████████████████████████████████████████████████████| 89/89 [00:00<00:00, 18858.90it/s]\n"
     ]
    }
   ],
   "source": [
    "# Build all authors and institutions\n",
    "authors = {}\n",
    "institutions = {}\n",
    "\n",
    "for arxiv_id, data in tqdm(dataset.items()):\n",
    "    for authorship in data['authorships']:\n",
    "        for ins in authorship['institutions']:\n",
    "            if ins['id'] not in institutions:\n",
    "                institution = Institution(**ins, blocks={})\n",
    "                institutions[institution.id] = institution\n",
    "        author = Author(**authorship['author'], blocks={})\n",
    "        if author not in authors:\n",
    "            authors[author.id] = author\n",
    "        "
   ]
  },
  {
   "cell_type": "code",
   "execution_count": 183,
   "id": "45bdbfb0-eaa5-4c74-bd5c-ee25c364aaf9",
   "metadata": {},
   "outputs": [
    {
     "name": "stderr",
     "output_type": "stream",
     "text": [
      "100%|█████████████████████████████████████████████████████████████████████████████████████████████████████████████████████████████████████████████████████████████████████████| 89/89 [00:00<00:00, 2673.62it/s]\n"
     ]
    }
   ],
   "source": [
    "\n",
    "for arxiv_id, data in tqdm(dataset.items()):\n",
    "    for block in data['blocks']:\n",
    "        if block.get(\"nuggets\") is None:\n",
    "            block[\"nuggets\"] = []\n",
    "        block_obj = Block(**block)\n",
    "        \n",
    "        for authorship in data['authorships']:\n",
    "            for ins in authorship['institutions']:\n",
    "                institutions[ins['id']].blocks[block_obj.block_id] = block_obj\n",
    "            authors[authorship['author']['id']].blocks[block_obj.block_id] = block_obj"
   ]
  },
  {
   "cell_type": "code",
   "execution_count": 185,
   "id": "5ae5e884-6a93-4fed-8ba5-bbd1038b6e7b",
   "metadata": {},
   "outputs": [],
   "source": [
    "# Create vendors and assign some blocks to them\n",
    "def assign_blocks_to_vendor(principal, block_fraction=0.1):\n",
    "    num_blocks = len(principal.blocks)\n",
    "    num_blocks_to_vendor = int(num_blocks * block_fraction)\n",
    "    \n",
    "    mu = 0.0  # mean of the underlying normal distribution\n",
    "    sigma = 1.0  # standard deviation of the underlying normal distribution\n",
    "    block_prices = np.random.lognormal(mean=mu, sigma=sigma, size=num_blocks_to_vendor)\n",
    "\n",
    "    observed_blocks = {}\n",
    "    block_keys = list(principal.blocks.keys())\n",
    "    random.shuffle(block_keys)\n",
    "\n",
    "    for i, key in enumerate(block_keys):\n",
    "        if i == num_blocks_to_vendor:\n",
    "            break\n",
    "        observed_blocks[key] = principal.blocks[key]\n",
    "        del principal.blocks[key]\n",
    "        \n",
    "    response_time_guarantee = np.random.randint(1, 10) \n",
    "\n",
    "    vendor = Vendor(principal=principal, block_price=block_prices.tolist(), observed_blocks=observed_blocks, response_time_guarantee=response_time_guarantee)\n",
    "\n",
    "    return vendor\n",
    "\n",
    "vendors = []\n",
    "for author in authors.values():\n",
    "    vendors.append(assign_blocks_to_vendor(author))\n",
    "for institution in institutions.values():\n",
    "    vendors.append(assign_blocks_to_vendor(institution))\n"
   ]
  },
  {
   "cell_type": "code",
   "execution_count": 230,
   "id": "737ca89d-7e4f-4c83-a305-e0a00eaff917",
   "metadata": {},
   "outputs": [],
   "source": []
  },
  {
   "cell_type": "code",
   "execution_count": null,
   "id": "a092f4c0-e24e-48b0-8828-53c006337cdf",
   "metadata": {},
   "outputs": [],
   "source": []
  },
  {
   "cell_type": "code",
   "execution_count": 205,
   "id": "cb2ff307-5f32-4b53-8010-7bbeaa3ab285",
   "metadata": {},
   "outputs": [],
   "source": [
    "# OK! We have:\n",
    "# - A Principal with Queries\n",
    "# - A BulletinBoard (BB) you can post queries to.\n",
    "# - Some Authors and Institutions with Blocks and Nuggets\n",
    "# - Some Vendors assigned Blocks to Hoc\n",
    "# - All the pricing shit sampled\n"
   ]
  },
  {
   "cell_type": "code",
   "execution_count": 236,
   "id": "2cfc41d0-e76d-428c-8284-4d4b38f48442",
   "metadata": {},
   "outputs": [],
   "source": [
    "bb = BulletinBoard(queries=[buyer_principal.queries.pop()])"
   ]
  },
  {
   "cell_type": "code",
   "execution_count": 239,
   "id": "1a0fcf2b-4378-49bd-842c-e6ec3d6d6fd8",
   "metadata": {},
   "outputs": [],
   "source": [
    "doc = hyde(bb.queries[0])"
   ]
  },
  {
   "cell_type": "code",
   "execution_count": 242,
   "id": "2a0334d7-5b7f-419b-97aa-f386c4225c98",
   "metadata": {},
   "outputs": [],
   "source": [
    "emb = calculate_embedding(doc)"
   ]
  },
  {
   "cell_type": "code",
   "execution_count": 253,
   "id": "ebd58e72-f8e9-433c-897b-899c4545e6b9",
   "metadata": {},
   "outputs": [
    {
     "name": "stdout",
     "output_type": "stream",
     "text": [
      "number of fucks: 2765\n"
     ]
    }
   ],
   "source": [
    "fucks = []\n",
    "for vendor in vendors:\n",
    "    for block in vendor.observed_blocks:\n",
    "        for query in bb.queries:\n",
    "            fucks.append(\"fuck.\")\n",
    "print(f\"number of vendors: {len(vendors)}\")\n",
    "print(f\"number of fucks: {len(fucks)}\")"
   ]
  },
  {
   "cell_type": "code",
   "execution_count": null,
   "id": "fe01734b-82e6-406c-91d7-fb693b76c7b6",
   "metadata": {},
   "outputs": [],
   "source": []
  },
  {
   "cell_type": "code",
   "execution_count": null,
   "id": "dc491190-352c-46bf-8226-4a50cabc0f59",
   "metadata": {},
   "outputs": [],
   "source": [
    "        "
   ]
  },
  {
   "cell_type": "code",
   "execution_count": 192,
   "id": "e871867e-a8cb-42c2-8284-1c5b4276747d",
   "metadata": {},
   "outputs": [],
   "source": [
    "quote = Quote('What is AI?', 'What is Machine Learning?', 'AI is a field of computer science...', 200)\n"
   ]
  }
 ],
 "metadata": {
  "kernelspec": {
   "display_name": "Python 3 (ipykernel)",
   "language": "python",
   "name": "python3"
  },
  "language_info": {
   "codemirror_mode": {
    "name": "ipython",
    "version": 3
   },
   "file_extension": ".py",
   "mimetype": "text/x-python",
   "name": "python",
   "nbconvert_exporter": "python",
   "pygments_lexer": "ipython3",
   "version": "3.8.15"
  }
 },
 "nbformat": 4,
 "nbformat_minor": 5
}
