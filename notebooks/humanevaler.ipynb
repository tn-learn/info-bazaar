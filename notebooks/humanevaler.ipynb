{
 "cells": [
  {
   "cell_type": "code",
   "execution_count": 1,
   "id": "57a9e074-1e85-4b94-a56f-0aef9daa0102",
   "metadata": {},
   "outputs": [],
   "source": [
    "import sys\n",
    "sys.path.append(\"/Users/nrahaman/Python/info-bazaar\")\n",
    "sys.path.append(\"/Users/nrahaman/Python/speedrun\")"
   ]
  },
  {
   "cell_type": "code",
   "execution_count": 72,
   "id": "f82accdb-ab9d-4a4f-815a-dcce303f869d",
   "metadata": {},
   "outputs": [],
   "source": [
    "import pandas as pd\n",
    "import seaborn as sns\n",
    "from pathlib import Path\n",
    "from itertools import product\n",
    "from tqdm import tqdm\n",
    "import random\n",
    "import numpy as np\n",
    "\n",
    "from bazaar.py_utils import load_dict, dump_dict"
   ]
  },
  {
   "cell_type": "code",
   "execution_count": 114,
   "id": "426de25a-cb4c-4359-9d73-e4ade93a0595",
   "metadata": {},
   "outputs": [
    {
     "name": "stdin",
     "output_type": "stream",
     "text": [
      "who u? nasim / martin nasim\n"
     ]
    }
   ],
   "source": [
    "user = input(\"who u? nasim / martin\")"
   ]
  },
  {
   "cell_type": "code",
   "execution_count": 115,
   "id": "2fb2db0e-4afd-4816-b6a1-7f0909e2a929",
   "metadata": {},
   "outputs": [],
   "source": [
    "if user == \"nasim\": \n",
    "    noinspect_path = Path(\"/Users/nrahaman/Downloads/likert_debate_eval_gpt-3.5-turbo_fupnoinspect-STAR-RemoteLlama-2-70b-chat-hf-STAR.csv\")\n",
    "    normal_path = Path(\"/Users/nrahaman/Downloads/likert_debate_eval_gpt-3.5-turbo_fup-v3-STAR-RemoteLlama-2-70b-chat-hf-STAR.csv\")\n",
    "else: \n",
    "    raise NotImplementedError(\"plz fill\")"
   ]
  },
  {
   "cell_type": "code",
   "execution_count": 17,
   "id": "0a0c2ff3-dca0-4f13-b25e-212a2aa2ea6b",
   "metadata": {},
   "outputs": [],
   "source": [
    "noinspect_df = pd.read_csv(noinspect_path)\n",
    "normal_df = pd.read_csv(normal_path)"
   ]
  },
  {
   "cell_type": "code",
   "execution_count": 18,
   "id": "f95b284a-a6ae-4e08-b260-7fe7112e6c00",
   "metadata": {},
   "outputs": [],
   "source": [
    "def get_unique_qs(df): \n",
    "    return df[\"question\"].unique().tolist()\n",
    "\n",
    "\n",
    "def keep_at_budget(df, budget): \n",
    "    return df[df[\"budget\"].round() == budget]\n",
    "\n",
    "\n",
    "def keep_at_question(df, question): \n",
    "    return df[df[\"question\"] == question]"
   ]
  },
  {
   "cell_type": "code",
   "execution_count": 19,
   "id": "14b6ae57-d1eb-4255-8e7b-46a5d6201d6c",
   "metadata": {},
   "outputs": [],
   "source": [
    "shared_qs = list(set(get_unique_qs(noinspect_df)).intersection(set(get_unique_qs(normal_df))))"
   ]
  },
  {
   "cell_type": "code",
   "execution_count": 116,
   "id": "0c175cc2-4a3f-40b8-a12c-db2638180f1d",
   "metadata": {},
   "outputs": [],
   "source": [
    "if user == \"nasim\": \n",
    "    pre_humaneval_path = \"./assets/verdicts_pre-humaneval.json\"\n",
    "else: \n",
    "    raise NotImplementedError(\"plz fill\")\n",
    "    \n",
    "shuffled_verdicts = load_dict(pre_humaneval_path)"
   ]
  },
  {
   "cell_type": "code",
   "execution_count": 117,
   "id": "27580d99-b638-4520-86b1-76a645ea27ff",
   "metadata": {},
   "outputs": [],
   "source": [
    "for v in shuffled_verdicts: \n",
    "    question = v[\"question\"]\n",
    "    budget_a, budget_b = v[\"budget_pair\"]\n",
    "    budget_a_answer = keep_at_budget(keep_at_question(normal_df, question), budget_a).iloc[0].answer\n",
    "    budget_b_answer = keep_at_budget(keep_at_question(normal_df, question), budget_b).iloc[0].answer\n",
    "    flip = random.randint(0, 1) == 1\n",
    "    \n",
    "    if f\"human_verdict_{user}\" in v: \n",
    "        continue\n",
    "        \n",
    "    has_been_looked_at_by_human = len([k for k in v if k.startswith(\"human_verdict_\")]) > 0\n",
    "    \n",
    "    if not has_been_looked_at_by_human: \n",
    "        continue\n",
    "    \n",
    "    print(\"Question:\", question)\n",
    "    print(\"-\" * 50)\n",
    "    if not flip: \n",
    "        print(\"Answer A:\", budget_a_answer)\n",
    "        print(\"-\" * 50)\n",
    "        print(\"Answer B:\", budget_b_answer)\n",
    "        print(\"-\" * 50)\n",
    "    else: \n",
    "        print(\"Answer A:\", budget_b_answer)\n",
    "        print(\"-\" * 50)\n",
    "        print(\"Answer B:\", budget_a_answer)\n",
    "        print(\"-\" * 50)\n",
    "    better = input(\"Which one better?\")\n",
    "    if better in [\"A\", \"B\"]: \n",
    "        if flip: \n",
    "            better = {\"A\": \"B\", \"B\": \"A\"}[better]\n",
    "        v[f\"human_verdict_{user}\"] = better\n",
    "    elif better == \"q\": \n",
    "        break\n",
    "    elif better == \"c\": \n",
    "        continue\n",
    "    else: \n",
    "        raise ValueError\n",
    "    print(\"-\" * 50)\n",
    "    print(\"-\" * 50)\n",
    "    print()\n",
    "    \n",
    "    "
   ]
  },
  {
   "cell_type": "code",
   "execution_count": 108,
   "id": "066af4f2-9cbe-4ee6-97a9-a983010b0df8",
   "metadata": {},
   "outputs": [],
   "source": [
    "human_verdicts = [v for v in shuffled_verdicts if f\"human_verdict_{user}\" in v]"
   ]
  },
  {
   "cell_type": "code",
   "execution_count": 110,
   "id": "f8e1ec2b-20e1-485d-8c9d-612a7ce0b78e",
   "metadata": {},
   "outputs": [],
   "source": [
    "matches = [(1 if v[f\"human_verdict_{user}\"] == v[\"verdict\"] else 0) for v in human_verdicts]"
   ]
  },
  {
   "cell_type": "code",
   "execution_count": 111,
   "id": "5195593e-ee6d-4414-86ba-a055e057fcca",
   "metadata": {},
   "outputs": [
    {
     "data": {
      "text/plain": [
       "0.7"
      ]
     },
     "execution_count": 111,
     "metadata": {},
     "output_type": "execute_result"
    }
   ],
   "source": [
    "np.mean(matches)"
   ]
  },
  {
   "cell_type": "code",
   "execution_count": 112,
   "id": "c2609322-6ff6-42f0-9f75-406e01d84a64",
   "metadata": {},
   "outputs": [
    {
     "data": {
      "text/plain": [
       "50"
      ]
     },
     "execution_count": 112,
     "metadata": {},
     "output_type": "execute_result"
    }
   ],
   "source": [
    "len(matches)"
   ]
  },
  {
   "cell_type": "code",
   "execution_count": 113,
   "id": "13bcc02a-603b-435c-826b-3806b63541c5",
   "metadata": {},
   "outputs": [],
   "source": [
    "_ = dump_dict(shuffled_verdicts, \"./assets/verdicts_pre-humaneval.json\")"
   ]
  },
  {
   "cell_type": "code",
   "execution_count": null,
   "id": "3c54c616-6cb1-4dd8-88ec-022dadea1877",
   "metadata": {},
   "outputs": [],
   "source": []
  }
 ],
 "metadata": {
  "kernelspec": {
   "display_name": "Python 3 (ipykernel)",
   "language": "python",
   "name": "python3"
  },
  "language_info": {
   "codemirror_mode": {
    "name": "ipython",
    "version": 3
   },
   "file_extension": ".py",
   "mimetype": "text/x-python",
   "name": "python",
   "nbconvert_exporter": "python",
   "pygments_lexer": "ipython3",
   "version": "3.9.16"
  }
 },
 "nbformat": 4,
 "nbformat_minor": 5
}
