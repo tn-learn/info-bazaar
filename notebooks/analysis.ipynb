{
 "cells": [
  {
   "cell_type": "code",
   "execution_count": 1,
   "id": "33b20edb-e68f-420c-9937-28058c0453c1",
   "metadata": {},
   "outputs": [],
   "source": [
    "import pandas as pd\n",
    "from pathlib import Path"
   ]
  },
  {
   "cell_type": "code",
   "execution_count": 2,
   "id": "d750cd22-8c0f-46cb-934a-472437113535",
   "metadata": {},
   "outputs": [],
   "source": [
    "root = Path(\"./assets/rational_choice_results\")\n",
    "\n",
    "dfs = []\n",
    "for path in root.glob(\"*.csv\"): \n",
    "    dfs.append(pd.read_csv(path))\n",
    "dfs = pd.concat(dfs, axis=0)"
   ]
  },
  {
   "cell_type": "code",
   "execution_count": 61,
   "id": "cc0f904c-2af3-4245-854a-c97abbdb23ce",
   "metadata": {},
   "outputs": [
    {
     "name": "stdout",
     "output_type": "stream",
     "text": [
      "assets/rational_choice_results/Michael-Bobby-51.0-94.0-rephrase_both-True.csv\n",
      "assets/rational_choice_results/Michael-Bobby-51.0-94.0-rephrase_both-True.csv\n",
      "assets/rational_choice_results/Michael-Bobby-51.0-94.0-rephrase_both-True.csv\n",
      "assets/rational_choice_results/Michael-Bobby-51.0-94.0-rephrase_both-True.csv\n",
      "assets/rational_choice_results/Michael-Bobby-51.0-94.0-rephrase_both-True.csv\n",
      "assets/rational_choice_results/Michael-Bobby-51.0-94.0-rephrase_both-True.csv\n",
      "assets/rational_choice_results/Michael-Bobby-51.0-94.0-rephrase_both-True.csv\n",
      "assets/rational_choice_results/Michael-Bobby-51.0-94.0-rephrase_both-True.csv\n",
      "assets/rational_choice_results/Michael-Bobby-51.0-94.0-rephrase_both-True.csv\n",
      "assets/rational_choice_results/Michael-Bobby-51.0-94.0-rephrase_both-True.csv\n",
      "assets/rational_choice_results/Michael-Bobby-51.0-94.0-rephrase_both-True.csv\n",
      "assets/rational_choice_results/Michael-Bobby-51.0-94.0-rephrase_both-True.csv\n",
      "assets/rational_choice_results/Michael-Bobby-51.0-94.0-rephrase_both-True.csv\n"
     ]
    }
   ],
   "source": [
    "for p in root.glob(\"*.csv\"): \n",
    "    print(path)"
   ]
  },
  {
   "cell_type": "code",
   "execution_count": 4,
   "id": "da2d23c0-877d-4350-b9e1-d9e969af19a8",
   "metadata": {},
   "outputs": [
    {
     "data": {
      "text/plain": [
       "0     How do biases and fairness issues arise in LLM...\n",
       "1     What is the name of the architecture that has ...\n",
       "2     What is the purpose of model selection in mach...\n",
       "3     How many days after its release did ChatGPT at...\n",
       "4     What is the purpose of cross-validation in mac...\n",
       "                            ...                        \n",
       "25    How does reinforcement learning apply to Instr...\n",
       "26                      What is reinforcement learning?\n",
       "27    What is the significance of the date November ...\n",
       "28         What is the purpose of pre-training in LLMs?\n",
       "29    What is the difference between continuous prom...\n",
       "Name: query_text, Length: 404, dtype: object"
      ]
     },
     "execution_count": 4,
     "metadata": {},
     "output_type": "execute_result"
    }
   ],
   "source": [
    "dfs[\"query_text\"]"
   ]
  },
  {
   "cell_type": "code",
   "execution_count": 7,
   "id": "d2691426-7178-482b-be3e-8d309702d7dd",
   "metadata": {},
   "outputs": [],
   "source": [
    "df = dfs.reset_index()"
   ]
  },
  {
   "cell_type": "code",
   "execution_count": null,
   "id": "b495e025-618a-46de-b251-290fef150fd9",
   "metadata": {},
   "outputs": [],
   "source": [
    "unique_qs = df[\"query_text\"].unique().tolist()"
   ]
  },
  {
   "cell_type": "code",
   "execution_count": 8,
   "id": "9ff7fc61-2847-49ab-b6bc-b39b976abe52",
   "metadata": {},
   "outputs": [
    {
     "data": {
      "text/plain": [
       "Index(['level_0', 'index', 'Unnamed: 0', 'exp_type', 'selection_mechanism',\n",
       "       'model', 'query_text', 'is_reversed', 'program_output', 'choice'],\n",
       "      dtype='object')"
      ]
     },
     "execution_count": 8,
     "metadata": {},
     "output_type": "execute_result"
    }
   ],
   "source": [
    "df.keys()"
   ]
  },
  {
   "cell_type": "code",
   "execution_count": 12,
   "id": "a9460090-04d2-41dc-bb11-db6073bd359d",
   "metadata": {},
   "outputs": [
    {
     "data": {
      "text/plain": [
       "array(['debate', 'direct', 'cot'], dtype=object)"
      ]
     },
     "execution_count": 12,
     "metadata": {},
     "output_type": "execute_result"
    }
   ],
   "source": [
    "df[\"selection_mechanism\"].unique()"
   ]
  },
  {
   "cell_type": "code",
   "execution_count": 76,
   "id": "2fe0c3a9-2d2c-4fbf-bf85-8738def81a9f",
   "metadata": {},
   "outputs": [],
   "source": [
    "def to_qset(d): \n",
    "    return set(d.query_text)"
   ]
  },
  {
   "cell_type": "code",
   "execution_count": 80,
   "id": "a63a9920-084e-47b1-824c-f6f5c491ce5a",
   "metadata": {},
   "outputs": [],
   "source": [
    "valid_qs = list(to_qset(debate).intersection(to_qset(cot).intersection(to_qset(direct))))"
   ]
  },
  {
   "cell_type": "code",
   "execution_count": 23,
   "id": "3e30fb42-18ef-4361-a629-190cb61fc6b1",
   "metadata": {},
   "outputs": [],
   "source": [
    "debate = df[(df[\"selection_mechanism\"] == \"debate\") & (~df[\"is_reversed\"])]\n",
    "cot = df[df[\"selection_mechanism\"] == \"cot\"]\n",
    "direct = df[df[\"selection_mechanism\"] == \"direct\"]"
   ]
  },
  {
   "cell_type": "code",
   "execution_count": 84,
   "id": "d46929c9-796f-47b2-aa68-e2fd6f93ba27",
   "metadata": {},
   "outputs": [],
   "source": [
    "# Filter by questions\n",
    "debate = debate[debate[\"query_text\"].isin(valid_qs)]\n",
    "cot = cot[cot[\"query_text\"].isin(valid_qs)]\n",
    "direct = direct[direct[\"query_text\"].isin(valid_qs)]"
   ]
  },
  {
   "cell_type": "code",
   "execution_count": 88,
   "id": "942a4652-e09d-4af5-8ced-cfcdfc85f24e",
   "metadata": {},
   "outputs": [],
   "source": [
    "debate_cheaper_prop = (debate[\"choice\"] == \"cheaper_one\").sum() / debate.shape[0]\n",
    "debate_pricey_prop = (debate[\"choice\"] == \"pricey_one\").sum() / debate.shape[0]\n",
    "debate_both_prop = (debate[\"choice\"] == \"both\").sum() / debate.shape[0]"
   ]
  },
  {
   "cell_type": "code",
   "execution_count": 89,
   "id": "65ee8b9c-9971-4836-a2ea-ae2bae197355",
   "metadata": {
    "tags": []
   },
   "outputs": [],
   "source": [
    "cot_cheaper_prop = (cot[\"choice\"] == \"cheaper_one\").sum() / cot.shape[0]\n",
    "cot_pricey_prop = (cot[\"choice\"] == \"pricey_one\").sum() / cot.shape[0]\n",
    "cot_both_prop = (cot[\"choice\"] == \"both\").sum() / cot.shape[0]"
   ]
  },
  {
   "cell_type": "code",
   "execution_count": 90,
   "id": "a1961ecd-7f8a-4090-a63a-05c739ceb9c0",
   "metadata": {},
   "outputs": [],
   "source": [
    "direct_cheaper_prop = (direct[\"choice\"] == \"cheaper_one\").sum() / direct.shape[0]\n",
    "direct_pricey_prop = (direct[\"choice\"] == \"pricey_one\").sum() / direct.shape[0]\n",
    "direct_both_prop = (direct[\"choice\"] == \"both\").sum() / direct.shape[0]"
   ]
  },
  {
   "cell_type": "code",
   "execution_count": 91,
   "id": "d713426a-619d-4257-84dd-869464637a72",
   "metadata": {},
   "outputs": [
    {
     "name": "stdout",
     "output_type": "stream",
     "text": [
      "0.5\n",
      "0.06451612903225806\n",
      "0.16393442622950818\n"
     ]
    }
   ],
   "source": [
    "print(debate_cheaper_prop)\n",
    "print(cot_cheaper_prop)\n",
    "print(direct_cheaper_prop)"
   ]
  },
  {
   "cell_type": "code",
   "execution_count": 92,
   "id": "df3d32d8-ae13-4bae-ae9d-b9b0cf5858aa",
   "metadata": {},
   "outputs": [
    {
     "name": "stdout",
     "output_type": "stream",
     "text": [
      "0.4215686274509804\n",
      "0.8387096774193549\n",
      "0.8032786885245902\n"
     ]
    }
   ],
   "source": [
    "print(debate_pricey_prop)\n",
    "print(cot_pricey_prop)\n",
    "print(direct_pricey_prop)"
   ]
  },
  {
   "cell_type": "code",
   "execution_count": 94,
   "id": "edf0d36f-15d2-4b9b-8694-f12d02c62fdb",
   "metadata": {},
   "outputs": [
    {
     "name": "stdout",
     "output_type": "stream",
     "text": [
      "\n",
      "For Option 1, the price is $30, and the content partially answers the question. The content explains the purpose of cross-validation in machine learning, specifically mentioning its use in testing the generalization abilities of classifiers and determining the optimal hyperparameter configuration for each classifier. However, it does not fully elaborate on the purpose of cross-validation, as it only discusses its use in the context of classifier validation. Therefore, this option is not the best choice.\n",
      "\n",
      "For Option 2, the price is $50, and the content fully answers the question. The content explains the purpose of cross-validation in machine learning, including its use in testing the generalization abilities of classifiers and determining the optimal hyperparameter configuration for each classifier. Additionally, it provides more detail on the process of cross-validation, including the use of a 5-fold cross validation on the entire dataset and the evaluation of performance based on accuracy, F1 scores, and space utilized. This option is the best choice because it provides a comprehensive answer to the question.\n",
      "\n",
      "VERDICT:\n",
      "Option 1: Pass\n",
      "Option 2: Buy\n"
     ]
    }
   ],
   "source": [
    "print(cot.iloc[4].program_output)"
   ]
  },
  {
   "cell_type": "code",
   "execution_count": 73,
   "id": "ed7f00f3-fbf2-4186-80ee-821efec06637",
   "metadata": {},
   "outputs": [
    {
     "data": {
      "text/plain": [
       "(30,)"
      ]
     },
     "execution_count": 73,
     "metadata": {},
     "output_type": "execute_result"
    }
   ],
   "source": [
    "direct.query_text.unique().shape"
   ]
  },
  {
   "cell_type": "code",
   "execution_count": null,
   "id": "1f98a086-fa30-4fa6-8737-df37200916fc",
   "metadata": {},
   "outputs": [],
   "source": []
  },
  {
   "cell_type": "code",
   "execution_count": null,
   "id": "fbebe918-d8f6-471d-96e5-e604cdf9425f",
   "metadata": {},
   "outputs": [],
   "source": []
  },
  {
   "cell_type": "code",
   "execution_count": null,
   "id": "f5787abe-5644-4821-a75d-cdffeb221851",
   "metadata": {},
   "outputs": [],
   "source": []
  },
  {
   "cell_type": "code",
   "execution_count": 27,
   "id": "6c1bb55f-3e52-4eea-a0ce-09c4e1f3e60e",
   "metadata": {},
   "outputs": [
    {
     "data": {
      "text/plain": [
       "array(['different_price'], dtype=object)"
      ]
     },
     "execution_count": 27,
     "metadata": {},
     "output_type": "execute_result"
    }
   ],
   "source": [
    "debate[\"exp_type\"].unique()"
   ]
  },
  {
   "cell_type": "code",
   "execution_count": 17,
   "id": "08ad3e32-0112-4811-84e8-568a6630fe71",
   "metadata": {},
   "outputs": [
    {
     "data": {
      "text/plain": [
       "array([False,  True])"
      ]
     },
     "execution_count": 17,
     "metadata": {},
     "output_type": "execute_result"
    }
   ],
   "source": [
    "df[df[\"selection_mechanism\"] == \"debate\"][\"is_reversed\"].unique()"
   ]
  },
  {
   "cell_type": "code",
   "execution_count": null,
   "id": "ce1044f7-2ee7-44c1-ba97-c46d528249ca",
   "metadata": {},
   "outputs": [],
   "source": []
  }
 ],
 "metadata": {
  "kernelspec": {
   "display_name": "Python 3 (ipykernel)",
   "language": "python",
   "name": "python3"
  },
  "language_info": {
   "codemirror_mode": {
    "name": "ipython",
    "version": 3
   },
   "file_extension": ".py",
   "mimetype": "text/x-python",
   "name": "python",
   "nbconvert_exporter": "python",
   "pygments_lexer": "ipython3",
   "version": "3.9.16"
  }
 },
 "nbformat": 4,
 "nbformat_minor": 5
}
