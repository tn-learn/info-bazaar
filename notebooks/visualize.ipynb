{
 "cells": [
  {
   "cell_type": "code",
   "execution_count": 10,
   "metadata": {},
   "outputs": [],
   "source": [
    "import os\n",
    "import json\n",
    "import pandas as pd\n",
    "import matplotlib.pyplot as plt\n",
    "from collections import defaultdict\n",
    "from copy import deepcopy\n",
    "import numpy as np\n",
    "import plotly.express as px\n",
    "from sklearn.manifold import TSNE\n",
    "\n",
    "%matplotlib inline"
   ]
  },
  {
   "cell_type": "code",
   "execution_count": 11,
   "metadata": {},
   "outputs": [
    {
     "data": {
      "text/plain": [
       "'/network/scratch/w/weissmar/tn/info-bazaar/notebooks'"
      ]
     },
     "execution_count": 11,
     "metadata": {},
     "output_type": "execute_result"
    }
   ],
   "source": [
    "os.getcwd()"
   ]
  },
  {
   "cell_type": "code",
   "execution_count": 30,
   "metadata": {},
   "outputs": [],
   "source": [
    "with open(\"../data/machine-learning/dataset_step_1.json\", \"r\") as f:\n",
    "    x = f.read()"
   ]
  },
  {
   "cell_type": "code",
   "execution_count": 31,
   "metadata": {},
   "outputs": [],
   "source": [
    "dataset = json.loads(x)"
   ]
  },
  {
   "cell_type": "code",
   "execution_count": null,
   "metadata": {},
   "outputs": [],
   "source": []
  },
  {
   "cell_type": "code",
   "execution_count": 32,
   "metadata": {},
   "outputs": [
    {
     "name": "stderr",
     "output_type": "stream",
     "text": [
      "/home/mila/w/weissmar/.conda/envs/tn/lib/python3.8/site-packages/sklearn/manifold/_t_sne.py:805: FutureWarning:\n",
      "\n",
      "The default learning rate in TSNE will change from 200.0 to 'auto' in 1.2.\n",
      "\n",
      "/home/mila/w/weissmar/.conda/envs/tn/lib/python3.8/site-packages/sklearn/manifold/_t_sne.py:991: FutureWarning:\n",
      "\n",
      "The PCA initialization in TSNE will change to have the standard deviation of PC1 equal to 1e-4 in 1.2. This will ensure better convergence.\n",
      "\n"
     ]
    },
    {
     "data": {
      "application/vnd.plotly.v1+json": {
       "config": {
        "plotlyServerURL": "https://plot.ly"
       },
       "data": [
        {
         "customdata": [
          [
           "Oil palm is the third largest oil crop in the world by planted area.",
           "What is the ranking of oil palm among oil crops in terms of planted area?"
          ]
         ],
         "hovertemplate": "arxiv_id=2105.11207<br>x=%{x}<br>y=%{y}<br>nugget_answer=%{customdata[0]}<br>nugget_question=%{customdata[1]}<extra></extra>",
         "legendgroup": "2105.11207",
         "marker": {
          "color": "#636efa",
          "symbol": "circle"
         },
         "mode": "markers",
         "name": "2105.11207",
         "orientation": "v",
         "showlegend": true,
         "type": "scatter",
         "x": [
          -87.77142333984375
         ],
         "xaxis": "x",
         "y": [
          -152.3853759765625
         ],
         "yaxis": "y"
        },
        {
         "customdata": [
          [
           "Engineers have developed control systems to keep automated systems on course.",
           "What have engineers developed to keep automated systems on course?"
          ]
         ],
         "hovertemplate": "arxiv_id=2105.10766<br>x=%{x}<br>y=%{y}<br>nugget_answer=%{customdata[0]}<br>nugget_question=%{customdata[1]}<extra></extra>",
         "legendgroup": "2105.10766",
         "marker": {
          "color": "#EF553B",
          "symbol": "circle"
         },
         "mode": "markers",
         "name": "2105.10766",
         "orientation": "v",
         "showlegend": true,
         "type": "scatter",
         "x": [
          88.6175308227539
         ],
         "xaxis": "x",
         "y": [
          10.817819595336914
         ],
         "yaxis": "y"
        },
        {
         "customdata": [
          [
           "Many datasets are relational in nature.",
           "What is the nature of many datasets?"
          ]
         ],
         "hovertemplate": "arxiv_id=2105.02315<br>x=%{x}<br>y=%{y}<br>nugget_answer=%{customdata[0]}<br>nugget_question=%{customdata[1]}<extra></extra>",
         "legendgroup": "2105.02315",
         "marker": {
          "color": "#00cc96",
          "symbol": "circle"
         },
         "mode": "markers",
         "name": "2105.02315",
         "orientation": "v",
         "showlegend": true,
         "type": "scatter",
         "x": [
          52.65987777709961
         ],
         "xaxis": "x",
         "y": [
          -55.73139190673828
         ],
         "yaxis": "y"
        },
        {
         "customdata": [
          [
           "Social biases in algorithms.",
           "What has been investigated and identified in a number of contexts?"
          ]
         ],
         "hovertemplate": "arxiv_id=2105.02091<br>x=%{x}<br>y=%{y}<br>nugget_answer=%{customdata[0]}<br>nugget_question=%{customdata[1]}<extra></extra>",
         "legendgroup": "2105.02091",
         "marker": {
          "color": "#ab63fa",
          "symbol": "circle"
         },
         "mode": "markers",
         "name": "2105.02091",
         "orientation": "v",
         "showlegend": true,
         "type": "scatter",
         "x": [
          -48.58763122558594
         ],
         "xaxis": "x",
         "y": [
          -46.863189697265625
         ],
         "yaxis": "y"
        },
        {
         "customdata": [
          [
           "Motion capture (mocap) data is a technique used to capture the movement of objects or people and record it as digital data.",
           "What is motion capture (mocap) data?"
          ]
         ],
         "hovertemplate": "arxiv_id=2105.02451<br>x=%{x}<br>y=%{y}<br>nugget_answer=%{customdata[0]}<br>nugget_question=%{customdata[1]}<extra></extra>",
         "legendgroup": "2105.02451",
         "marker": {
          "color": "#FFA15A",
          "symbol": "circle"
         },
         "mode": "markers",
         "name": "2105.02451",
         "orientation": "v",
         "showlegend": true,
         "type": "scatter",
         "x": [
          -48.23924255371094
         ],
         "xaxis": "x",
         "y": [
          101.69026947021484
         ],
         "yaxis": "y"
        },
        {
         "customdata": [
          [
           "Monte Carlo techniques refer to a set of sampling methods used in statistics, signal processing, and machine learning. These methods can be categorized into four main families: direct methods based on transformation of random variables, rejection sampling procedures, Markov chain Monte Carlo (MCMC) algorithms, and importance sampling (IS) schemes.",
           "What are Monte Carlo techniques?"
          ]
         ],
         "hovertemplate": "arxiv_id=2105.02579<br>x=%{x}<br>y=%{y}<br>nugget_answer=%{customdata[0]}<br>nugget_question=%{customdata[1]}<extra></extra>",
         "legendgroup": "2105.02579",
         "marker": {
          "color": "#19d3f3",
          "symbol": "circle"
         },
         "mode": "markers",
         "name": "2105.02579",
         "orientation": "v",
         "showlegend": true,
         "type": "scatter",
         "x": [
          117.49310302734375
         ],
         "xaxis": "x",
         "y": [
          -68.0289306640625
         ],
         "yaxis": "y"
        },
        {
         "customdata": [
          [
           "An ensemble is the combination of multiple models, trained to solve the same task and joined to improve the overall performance.",
           "What is an ensemble?"
          ]
         ],
         "hovertemplate": "arxiv_id=2105.02551<br>x=%{x}<br>y=%{y}<br>nugget_answer=%{customdata[0]}<br>nugget_question=%{customdata[1]}<extra></extra>",
         "legendgroup": "2105.02551",
         "marker": {
          "color": "#FF6692",
          "symbol": "circle"
         },
         "mode": "markers",
         "name": "2105.02551",
         "orientation": "v",
         "showlegend": true,
         "type": "scatter",
         "x": [
          23.35956382751465
         ],
         "xaxis": "x",
         "y": [
          56.26792907714844
         ],
         "yaxis": "y"
        },
        {
         "customdata": [
          [
           "The desirable properties of neural nets according to the common belief are stability to random noise (small G_f) and stability to diffeomorphisms (small D_f).",
           "What are the desirable properties of neural nets according to the common belief?"
          ]
         ],
         "hovertemplate": "arxiv_id=2105.02468<br>x=%{x}<br>y=%{y}<br>nugget_answer=%{customdata[0]}<br>nugget_question=%{customdata[1]}<extra></extra>",
         "legendgroup": "2105.02468",
         "marker": {
          "color": "#B6E880",
          "symbol": "circle"
         },
         "mode": "markers",
         "name": "2105.02468",
         "orientation": "v",
         "showlegend": true,
         "type": "scatter",
         "x": [
          34.241146087646484
         ],
         "xaxis": "x",
         "y": [
          11.829911231994629
         ],
         "yaxis": "y"
        },
        {
         "customdata": [
          [
           "Electrochemical systems are used for energy conversion and storage, as well as chemical manufacturing.",
           "What are electrochemical systems used for?"
          ]
         ],
         "hovertemplate": "arxiv_id=2105.03057<br>x=%{x}<br>y=%{y}<br>nugget_answer=%{customdata[0]}<br>nugget_question=%{customdata[1]}<extra></extra>",
         "legendgroup": "2105.03057",
         "marker": {
          "color": "#FF97FF",
          "symbol": "circle"
         },
         "mode": "markers",
         "name": "2105.03057",
         "orientation": "v",
         "showlegend": true,
         "type": "scatter",
         "x": [
          87.49837493896484
         ],
         "xaxis": "x",
         "y": [
          -21.95841407775879
         ],
         "yaxis": "y"
        },
        {
         "customdata": [
          [
           "Anonymous eschews notions of social hierarchy, membership, and set interests.",
           "What sets Anonymous apart from typical social groups?"
          ]
         ],
         "hovertemplate": "arxiv_id=2105.03168<br>x=%{x}<br>y=%{y}<br>nugget_answer=%{customdata[0]}<br>nugget_question=%{customdata[1]}<extra></extra>",
         "legendgroup": "2105.03168",
         "marker": {
          "color": "#FECB52",
          "symbol": "circle"
         },
         "mode": "markers",
         "name": "2105.03168",
         "orientation": "v",
         "showlegend": true,
         "type": "scatter",
         "x": [
          -95.29643249511719
         ],
         "xaxis": "x",
         "y": [
          150.8195037841797
         ],
         "yaxis": "y"
        },
        {
         "customdata": [
          [
           "The bag of words model is commonly used in signal processing, computer vision, and audio processing.",
           "What is the bag of words model commonly used in?"
          ]
         ],
         "hovertemplate": "arxiv_id=2105.03841<br>x=%{x}<br>y=%{y}<br>nugget_answer=%{customdata[0]}<br>nugget_question=%{customdata[1]}<extra></extra>",
         "legendgroup": "2105.03841",
         "marker": {
          "color": "#636efa",
          "symbol": "circle"
         },
         "mode": "markers",
         "name": "2105.03841",
         "orientation": "v",
         "showlegend": true,
         "type": "scatter",
         "x": [
          -49.819583892822266
         ],
         "xaxis": "x",
         "y": [
          55.01826858520508
         ],
         "yaxis": "y"
        },
        {
         "customdata": [
          [
           "Physical simulation plays an important role in designing high-performance engineering components.",
           "What is the role of physical simulation in designing engineering components?"
          ]
         ],
         "hovertemplate": "arxiv_id=2105.03534<br>x=%{x}<br>y=%{y}<br>nugget_answer=%{customdata[0]}<br>nugget_question=%{customdata[1]}<extra></extra>",
         "legendgroup": "2105.03534",
         "marker": {
          "color": "#EF553B",
          "symbol": "circle"
         },
         "mode": "markers",
         "name": "2105.03534",
         "orientation": "v",
         "showlegend": true,
         "type": "scatter",
         "x": [
          124.5882568359375
         ],
         "xaxis": "x",
         "y": [
          16.507722854614258
         ],
         "yaxis": "y"
        },
        {
         "customdata": [
          [
           "Recent innovations in deep learning models include GPT-2 and GPT-3.",
           "What are some recent innovations in deep learning models?"
          ]
         ],
         "hovertemplate": "arxiv_id=2105.03279<br>x=%{x}<br>y=%{y}<br>nugget_answer=%{customdata[0]}<br>nugget_question=%{customdata[1]}<extra></extra>",
         "legendgroup": "2105.03279",
         "marker": {
          "color": "#00cc96",
          "symbol": "circle"
         },
         "mode": "markers",
         "name": "2105.03279",
         "orientation": "v",
         "showlegend": true,
         "type": "scatter",
         "x": [
          -46.76781463623047
         ],
         "xaxis": "x",
         "y": [
          -4.212896823883057
         ],
         "yaxis": "y"
        },
        {
         "customdata": [
          [
           "Neural approaches to language generation refer to the use of neural networks to generate human-like text. These approaches have become predominant in various tasks such as concept-to-text Natural Language Generation (NLG), Summarisation, and Machine Translation. They are favored for their ability to achieve state-of-the-art performance through end-to-end training.",
           "What are neural approaches to language generation?"
          ]
         ],
         "hovertemplate": "arxiv_id=2105.03432<br>x=%{x}<br>y=%{y}<br>nugget_answer=%{customdata[0]}<br>nugget_question=%{customdata[1]}<extra></extra>",
         "legendgroup": "2105.03432",
         "marker": {
          "color": "#ab63fa",
          "symbol": "circle"
         },
         "mode": "markers",
         "name": "2105.03432",
         "orientation": "v",
         "showlegend": true,
         "type": "scatter",
         "x": [
          -15.158294677734375
         ],
         "xaxis": "x",
         "y": [
          61.413604736328125
         ],
         "yaxis": "y"
        },
        {
         "customdata": [
          [
           "The curse of dimensionality is a phenomenon in applied mathematics where the computational complexity of certain algorithms increases exponentially with the dimension of the problem. It is particularly challenging in high dimensional problems.",
           "What is the curse of dimensionality?"
          ]
         ],
         "hovertemplate": "arxiv_id=2105.03480<br>x=%{x}<br>y=%{y}<br>nugget_answer=%{customdata[0]}<br>nugget_question=%{customdata[1]}<extra></extra>",
         "legendgroup": "2105.03480",
         "marker": {
          "color": "#FFA15A",
          "symbol": "circle"
         },
         "mode": "markers",
         "name": "2105.03480",
         "orientation": "v",
         "showlegend": true,
         "type": "scatter",
         "x": [
          40.20380783081055
         ],
         "xaxis": "x",
         "y": [
          -123.76510620117188
         ],
         "yaxis": "y"
        },
        {
         "customdata": [
          [
           "Optimal control problems are a class of optimization problems that have many applications in engineering. They involve finding the best control inputs for a system to optimize a certain objective, such as trajectory planning, robot manipulator control, and humanoid robot control.",
           "What are optimal control problems?"
          ]
         ],
         "hovertemplate": "arxiv_id=2105.03336<br>x=%{x}<br>y=%{y}<br>nugget_answer=%{customdata[0]}<br>nugget_question=%{customdata[1]}<extra></extra>",
         "legendgroup": "2105.03336",
         "marker": {
          "color": "#19d3f3",
          "symbol": "circle"
         },
         "mode": "markers",
         "name": "2105.03336",
         "orientation": "v",
         "showlegend": true,
         "type": "scatter",
         "x": [
          73.8656234741211
         ],
         "xaxis": "x",
         "y": [
          36.12054443359375
         ],
         "yaxis": "y"
        },
        {
         "customdata": [
          [
           "Deep learning",
           "What is the dominant machine learning technique of recent times?"
          ]
         ],
         "hovertemplate": "arxiv_id=2105.04026<br>x=%{x}<br>y=%{y}<br>nugget_answer=%{customdata[0]}<br>nugget_question=%{customdata[1]}<extra></extra>",
         "legendgroup": "2105.04026",
         "marker": {
          "color": "#FF6692",
          "symbol": "circle"
         },
         "mode": "markers",
         "name": "2105.04026",
         "orientation": "v",
         "showlegend": true,
         "type": "scatter",
         "x": [
          -11.976883888244629
         ],
         "xaxis": "x",
         "y": [
          -60.70502853393555
         ],
         "yaxis": "y"
        },
        {
         "customdata": [
          [
           "ACM's consolidated article template was introduced in 2017.",
           "When was ACM's consolidated article template introduced?"
          ]
         ],
         "hovertemplate": "arxiv_id=2105.04117<br>x=%{x}<br>y=%{y}<br>nugget_answer=%{customdata[0]}<br>nugget_question=%{customdata[1]}<extra></extra>",
         "legendgroup": "2105.04117",
         "marker": {
          "color": "#B6E880",
          "symbol": "circle"
         },
         "mode": "markers",
         "name": "2105.04117",
         "orientation": "v",
         "showlegend": true,
         "type": "scatter",
         "x": [
          -88.93212127685547
         ],
         "xaxis": "x",
         "y": [
          29.648588180541992
         ],
         "yaxis": "y"
        },
        {
         "customdata": [
          [
           "An acknowledgment is a statement of gratitude or appreciation for someone's contribution or support.",
           "What is an acknowledgment?"
          ]
         ],
         "hovertemplate": "arxiv_id=2105.03875<br>x=%{x}<br>y=%{y}<br>nugget_answer=%{customdata[0]}<br>nugget_question=%{customdata[1]}<extra></extra>",
         "legendgroup": "2105.03875",
         "marker": {
          "color": "#FF97FF",
          "symbol": "circle"
         },
         "mode": "markers",
         "name": "2105.03875",
         "orientation": "v",
         "showlegend": true,
         "type": "scatter",
         "x": [
          -46.016502380371094
         ],
         "xaxis": "x",
         "y": [
          150.49661254882812
         ],
         "yaxis": "y"
        },
        {
         "customdata": [
          [
           "Recommender systems (RS) are widely used in countless online applications to provide personalized suggestions to each user.",
           "What are recommender systems?"
          ]
         ],
         "hovertemplate": "arxiv_id=2105.04170<br>x=%{x}<br>y=%{y}<br>nugget_answer=%{customdata[0]}<br>nugget_question=%{customdata[1]}<extra></extra>",
         "legendgroup": "2105.04170",
         "marker": {
          "color": "#FECB52",
          "symbol": "circle"
         },
         "mode": "markers",
         "name": "2105.04170",
         "orientation": "v",
         "showlegend": true,
         "type": "scatter",
         "x": [
          -90.06858825683594
         ],
         "xaxis": "x",
         "y": [
          -12.325581550598145
         ],
         "yaxis": "y"
        },
        {
         "customdata": [
          [
           "By the end of 2025, the number of mobile broadband subscriptions is estimated to increase to 9 billion.",
           "What is the estimated number of mobile broadband subscriptions by the end of 2025?"
          ]
         ],
         "hovertemplate": "arxiv_id=2105.04184<br>x=%{x}<br>y=%{y}<br>nugget_answer=%{customdata[0]}<br>nugget_question=%{customdata[1]}<extra></extra>",
         "legendgroup": "2105.04184",
         "marker": {
          "color": "#636efa",
          "symbol": "circle"
         },
         "mode": "markers",
         "name": "2105.04184",
         "orientation": "v",
         "showlegend": true,
         "type": "scatter",
         "x": [
          -122.18113708496094
         ],
         "xaxis": "x",
         "y": [
          -107.76997375488281
         ],
         "yaxis": "y"
        },
        {
         "customdata": [
          [
           "The consequences of natural disasters in the Kingdom of Tonga can be damaging for the population, especially those who heavily depend on local agriculture as a primary food source.",
           "What are the consequences of natural disasters in the Kingdom of Tonga?"
          ]
         ],
         "hovertemplate": "arxiv_id=2105.04356<br>x=%{x}<br>y=%{y}<br>nugget_answer=%{customdata[0]}<br>nugget_question=%{customdata[1]}<extra></extra>",
         "legendgroup": "2105.04356",
         "marker": {
          "color": "#EF553B",
          "symbol": "circle"
         },
         "mode": "markers",
         "name": "2105.04356",
         "orientation": "v",
         "showlegend": true,
         "type": "scatter",
         "x": [
          -56.58305740356445
         ],
         "xaxis": "x",
         "y": [
          -156.27561950683594
         ],
         "yaxis": "y"
        },
        {
         "customdata": [
          [
           "Computer vision and topology optimization are related in that both involve optimizing a set of elements/pixels in a grid and minimizing a functional to obtain an optimized configuration. In computer vision, the optimized configuration could be a set of segmentation labels, while in topology optimization, it could be thought of as material phases.",
           "How are computer vision and topology optimization related?"
          ]
         ],
         "hovertemplate": "arxiv_id=2105.04232<br>x=%{x}<br>y=%{y}<br>nugget_answer=%{customdata[0]}<br>nugget_question=%{customdata[1]}<extra></extra>",
         "legendgroup": "2105.04232",
         "marker": {
          "color": "#00cc96",
          "symbol": "circle"
         },
         "mode": "markers",
         "name": "2105.04232",
         "orientation": "v",
         "showlegend": true,
         "type": "scatter",
         "x": [
          86.11943817138672
         ],
         "xaxis": "x",
         "y": [
          97.66650390625
         ],
         "yaxis": "y"
        },
        {
         "customdata": [
          [
           "Prediction systems are being used for tasks such as predicting recidivism risk to help judges make bail decisions, assessing credit ratings, assessing the risk of defaulting on a loan, and predicting the risk of accidents for insurance purposes.",
           "What are some socially impactful tasks that prediction systems are being used for?"
          ]
         ],
         "hovertemplate": "arxiv_id=2105.04249<br>x=%{x}<br>y=%{y}<br>nugget_answer=%{customdata[0]}<br>nugget_question=%{customdata[1]}<extra></extra>",
         "legendgroup": "2105.04249",
         "marker": {
          "color": "#ab63fa",
          "symbol": "circle"
         },
         "mode": "markers",
         "name": "2105.04249",
         "orientation": "v",
         "showlegend": true,
         "type": "scatter",
         "x": [
          -77.44632720947266
         ],
         "xaxis": "x",
         "y": [
          -77.06874084472656
         ],
         "yaxis": "y"
        },
        {
         "customdata": [
          [
           "A Brain-Computer Interface (BCI) is a tool that allows the use of brain signals to control an external device or to emit a message.",
           "What is a Brain-Computer Interface (BCI)?"
          ]
         ],
         "hovertemplate": "arxiv_id=2105.04294<br>x=%{x}<br>y=%{y}<br>nugget_answer=%{customdata[0]}<br>nugget_question=%{customdata[1]}<extra></extra>",
         "legendgroup": "2105.04294",
         "marker": {
          "color": "#FFA15A",
          "symbol": "circle"
         },
         "mode": "markers",
         "name": "2105.04294",
         "orientation": "v",
         "showlegend": true,
         "type": "scatter",
         "x": [
          -12.833215713500977
         ],
         "xaxis": "x",
         "y": [
          105.80913543701172
         ],
         "yaxis": "y"
        },
        {
         "customdata": [
          [
           "The purpose of design optimization in engineering is to find solutions to technical problems.",
           "What is the purpose of design optimization in engineering?"
          ]
         ],
         "hovertemplate": "arxiv_id=2105.04247<br>x=%{x}<br>y=%{y}<br>nugget_answer=%{customdata[0]}<br>nugget_question=%{customdata[1]}<extra></extra>",
         "legendgroup": "2105.04247",
         "marker": {
          "color": "#19d3f3",
          "symbol": "circle"
         },
         "mode": "markers",
         "name": "2105.04247",
         "orientation": "v",
         "showlegend": true,
         "type": "scatter",
         "x": [
          94.1670150756836
         ],
         "xaxis": "x",
         "y": [
          59.893428802490234
         ],
         "yaxis": "y"
        },
        {
         "customdata": [
          [
           "Models based on artificial neural networks (ANNs) have achieved unexpected success in a wide range of machine learning and artificial intelligence fields such as computer vision, natural language processing, and reinforcement learning.",
           "What is the success of models based on artificial neural networks (ANNs)?"
          ]
         ],
         "hovertemplate": "arxiv_id=2105.04156<br>x=%{x}<br>y=%{y}<br>nugget_answer=%{customdata[0]}<br>nugget_question=%{customdata[1]}<extra></extra>",
         "legendgroup": "2105.04156",
         "marker": {
          "color": "#FF6692",
          "symbol": "circle"
         },
         "mode": "markers",
         "name": "2105.04156",
         "orientation": "v",
         "showlegend": true,
         "type": "scatter",
         "x": [
          -26.52454376220703
         ],
         "xaxis": "x",
         "y": [
          29.41507911682129
         ],
         "yaxis": "y"
        },
        {
         "customdata": [
          [
           "The new goal in optimization is to have the option of choosing from different solutions that are good enough to fulfill a task, rather than being guided by single-solution algorithms.",
           "What is the new goal in optimization with the advent of 3D printing and generative design?"
          ]
         ],
         "hovertemplate": "arxiv_id=2105.04252<br>x=%{x}<br>y=%{y}<br>nugget_answer=%{customdata[0]}<br>nugget_question=%{customdata[1]}<extra></extra>",
         "legendgroup": "2105.04252",
         "marker": {
          "color": "#B6E880",
          "symbol": "circle"
         },
         "mode": "markers",
         "name": "2105.04252",
         "orientation": "v",
         "showlegend": true,
         "type": "scatter",
         "x": [
          61.404441833496094
         ],
         "xaxis": "x",
         "y": [
          68.06834411621094
         ],
         "yaxis": "y"
        },
        {
         "customdata": [
          [
           "Graph Neural Networks (GNNs) have attracted the attention of many AI researchers.",
           "What has attracted the attention of many AI researchers?"
          ]
         ],
         "hovertemplate": "arxiv_id=2105.04528<br>x=%{x}<br>y=%{y}<br>nugget_answer=%{customdata[0]}<br>nugget_question=%{customdata[1]}<extra></extra>",
         "legendgroup": "2105.04528",
         "marker": {
          "color": "#FF97FF",
          "symbol": "circle"
         },
         "mode": "markers",
         "name": "2105.04528",
         "orientation": "v",
         "showlegend": true,
         "type": "scatter",
         "x": [
          -15.086366653442383
         ],
         "xaxis": "x",
         "y": [
          2.364419460296631
         ],
         "yaxis": "y"
        },
        {
         "customdata": [
          [
           "Cybersecurity has become a critical aspect for many companies because a vulnerability or breach in its infrastructure can generate a considerable loss of value in economical, reputational, digital, psychological, and societal terms.",
           "Why has cybersecurity become a critical aspect for many companies?"
          ]
         ],
         "hovertemplate": "arxiv_id=2105.04798<br>x=%{x}<br>y=%{y}<br>nugget_answer=%{customdata[0]}<br>nugget_question=%{customdata[1]}<extra></extra>",
         "legendgroup": "2105.04798",
         "marker": {
          "color": "#FECB52",
          "symbol": "circle"
         },
         "mode": "markers",
         "name": "2105.04798",
         "orientation": "v",
         "showlegend": true,
         "type": "scatter",
         "x": [
          -21.884553909301758
         ],
         "xaxis": "x",
         "y": [
          -123.33589172363281
         ],
         "yaxis": "y"
        },
        {
         "customdata": [
          [
           "Recommender systems play a central role in alleviating information overload problems by helping users to discover content relevant to their interests.",
           "What role do recommender systems play in alleviating information overload problems?"
          ]
         ],
         "hovertemplate": "arxiv_id=2105.04769<br>x=%{x}<br>y=%{y}<br>nugget_answer=%{customdata[0]}<br>nugget_question=%{customdata[1]}<extra></extra>",
         "legendgroup": "2105.04769",
         "marker": {
          "color": "#636efa",
          "symbol": "circle"
         },
         "mode": "markers",
         "name": "2105.04769",
         "orientation": "v",
         "showlegend": true,
         "type": "scatter",
         "x": [
          -89.09386444091797
         ],
         "xaxis": "x",
         "y": [
          -41.491546630859375
         ],
         "yaxis": "y"
        },
        {
         "customdata": [
          [
           "Data-driven discovery of dynamic models",
           "What has recently picked up much attention in data science and machine learning?"
          ]
         ],
         "hovertemplate": "arxiv_id=2105.04869<br>x=%{x}<br>y=%{y}<br>nugget_answer=%{customdata[0]}<br>nugget_question=%{customdata[1]}<extra></extra>",
         "legendgroup": "2105.04869",
         "marker": {
          "color": "#EF553B",
          "symbol": "circle"
         },
         "mode": "markers",
         "name": "2105.04869",
         "orientation": "v",
         "showlegend": true,
         "type": "scatter",
         "x": [
          15.120820045471191
         ],
         "xaxis": "x",
         "y": [
          -47.508201599121094
         ],
         "yaxis": "y"
        },
        {
         "customdata": [
          [
           "Recommender systems are algorithms that provide personalized recommendations to users based on their preferences and behavior.",
           "What are recommender systems?"
          ]
         ],
         "hovertemplate": "arxiv_id=2105.05008<br>x=%{x}<br>y=%{y}<br>nugget_answer=%{customdata[0]}<br>nugget_question=%{customdata[1]}<extra></extra>",
         "legendgroup": "2105.05008",
         "marker": {
          "color": "#00cc96",
          "symbol": "circle"
         },
         "mode": "markers",
         "name": "2105.05008",
         "orientation": "v",
         "showlegend": true,
         "type": "scatter",
         "x": [
          -115.57014465332031
         ],
         "xaxis": "x",
         "y": [
          -24.95276641845703
         ],
         "yaxis": "y"
        },
        {
         "customdata": [
          [
           "Spiking Neural Networks (SNNs) are the third generation of Artificial Neural Networks (ANN) that have high biological plausibility, temporal information processing capability, and low power consumption on neuromorphic chips.",
           "What are Spiking Neural Networks (SNNs)?"
          ]
         ],
         "hovertemplate": "arxiv_id=2105.04916<br>x=%{x}<br>y=%{y}<br>nugget_answer=%{customdata[0]}<br>nugget_question=%{customdata[1]}<extra></extra>",
         "legendgroup": "2105.04916",
         "marker": {
          "color": "#ab63fa",
          "symbol": "circle"
         },
         "mode": "markers",
         "name": "2105.04916",
         "orientation": "v",
         "showlegend": true,
         "type": "scatter",
         "x": [
          2.91337513923645
         ],
         "xaxis": "x",
         "y": [
          27.693490982055664
         ],
         "yaxis": "y"
        },
        {
         "customdata": [
          [
           "Uncertainties in practical engineering systems can exist in various forms, such as randomness associated with geometrical configurations, material properties, boundary conditions, and loading conditions.",
           "What are some forms of uncertainties in practical engineering systems?"
          ]
         ],
         "hovertemplate": "arxiv_id=2105.04979<br>x=%{x}<br>y=%{y}<br>nugget_answer=%{customdata[0]}<br>nugget_question=%{customdata[1]}<extra></extra>",
         "legendgroup": "2105.04979",
         "marker": {
          "color": "#FFA15A",
          "symbol": "circle"
         },
         "mode": "markers",
         "name": "2105.04979",
         "orientation": "v",
         "showlegend": true,
         "type": "scatter",
         "x": [
          123.64176940917969
         ],
         "xaxis": "x",
         "y": [
          -20.69507598876953
         ],
         "yaxis": "y"
        },
        {
         "customdata": [
          [
           "The three main approaches to teach computer science are CS unplugged activities, Tangible Programming Languages (TPLs), and Visual Programming Languages (VPLs).",
           "What are the three main approaches to teach computer science?"
          ]
         ],
         "hovertemplate": "arxiv_id=2105.04963<br>x=%{x}<br>y=%{y}<br>nugget_answer=%{customdata[0]}<br>nugget_question=%{customdata[1]}<extra></extra>",
         "legendgroup": "2105.04963",
         "marker": {
          "color": "#19d3f3",
          "symbol": "circle"
         },
         "mode": "markers",
         "name": "2105.04963",
         "orientation": "v",
         "showlegend": true,
         "type": "scatter",
         "x": [
          28.30478286743164
         ],
         "xaxis": "x",
         "y": [
          99.2282485961914
         ],
         "yaxis": "y"
        },
        {
         "customdata": [
          [
           "The field of structural health monitoring (SHM) is concerned with the development and implementation of online data acquisition and processing systems for the purpose of damage detection in structures and infrastructure.",
           "What is the field of structural health monitoring (SHM) concerned with?"
          ]
         ],
         "hovertemplate": "arxiv_id=2105.05622<br>x=%{x}<br>y=%{y}<br>nugget_answer=%{customdata[0]}<br>nugget_question=%{customdata[1]}<extra></extra>",
         "legendgroup": "2105.05622",
         "marker": {
          "color": "#FF6692",
          "symbol": "circle"
         },
         "mode": "markers",
         "name": "2105.05622",
         "orientation": "v",
         "showlegend": true,
         "type": "scatter",
         "x": [
          142.41659545898438
         ],
         "xaxis": "x",
         "y": [
          57.37278747558594
         ],
         "yaxis": "y"
        },
        {
         "customdata": [
          [
           "The radiative transfer equation (RTE) describes particle propagation and interaction with a background medium.",
           "What does the radiative transfer equation (RTE) describe?"
          ]
         ],
         "hovertemplate": "arxiv_id=2105.05690<br>x=%{x}<br>y=%{y}<br>nugget_answer=%{customdata[0]}<br>nugget_question=%{customdata[1]}<extra></extra>",
         "legendgroup": "2105.05690",
         "marker": {
          "color": "#B6E880",
          "symbol": "circle"
         },
         "mode": "markers",
         "name": "2105.05690",
         "orientation": "v",
         "showlegend": true,
         "type": "scatter",
         "x": [
          -129.62820434570312
         ],
         "xaxis": "x",
         "y": [
          82.41614532470703
         ],
         "yaxis": "y"
        },
        {
         "customdata": [
          [
           "Parameterized quantum circuits, also known as variational quantum circuits, are algorithms that rely on adjusting the parameters of a quantum circuit to perform specific tasks. These circuits can be tailored to the restrictions of NISQ devices and can realize input-output correlations that are intractable for classical computation.",
           "What are parameterized quantum circuits?"
          ]
         ],
         "hovertemplate": "arxiv_id=2105.05566<br>x=%{x}<br>y=%{y}<br>nugget_answer=%{customdata[0]}<br>nugget_question=%{customdata[1]}<extra></extra>",
         "legendgroup": "2105.05566",
         "marker": {
          "color": "#FF97FF",
          "symbol": "circle"
         },
         "mode": "markers",
         "name": "2105.05566",
         "orientation": "v",
         "showlegend": true,
         "type": "scatter",
         "x": [
          85.09703826904297
         ],
         "xaxis": "x",
         "y": [
          -93.59994506835938
         ],
         "yaxis": "y"
        },
        {
         "customdata": [
          [
           "Geometric deep learning is the approach of using inherent geometric structure in data, and symmetry derived from geometry, to improve deep learning models.",
           "What is geometric deep learning?"
          ]
         ],
         "hovertemplate": "arxiv_id=2105.05400<br>x=%{x}<br>y=%{y}<br>nugget_answer=%{customdata[0]}<br>nugget_question=%{customdata[1]}<extra></extra>",
         "legendgroup": "2105.05400",
         "marker": {
          "color": "#FECB52",
          "symbol": "circle"
         },
         "mode": "markers",
         "name": "2105.05400",
         "orientation": "v",
         "showlegend": true,
         "type": "scatter",
         "x": [
          14.881231307983398
         ],
         "xaxis": "x",
         "y": [
          -83.8965835571289
         ],
         "yaxis": "y"
        },
        {
         "customdata": [
          [
           "Contemporary statistical models based on deep learning trade off interpretability and simplicity of traditional models for powerful parameterizations and inductive biases.",
           "What is the trade-off of contemporary statistical models based on deep learning?"
          ]
         ],
         "hovertemplate": "arxiv_id=2105.05641<br>x=%{x}<br>y=%{y}<br>nugget_answer=%{customdata[0]}<br>nugget_question=%{customdata[1]}<extra></extra>",
         "legendgroup": "2105.05641",
         "marker": {
          "color": "#636efa",
          "symbol": "circle"
         },
         "mode": "markers",
         "name": "2105.05641",
         "orientation": "v",
         "showlegend": true,
         "type": "scatter",
         "x": [
          -16.018451690673828
         ],
         "xaxis": "x",
         "y": [
          -30.592897415161133
         ],
         "yaxis": "y"
        },
        {
         "customdata": [
          [
           "The repetitive manipulation or modification of the mesh system in standard finite element method (FEM) is a key time-costly issue in simulation-based engineering applications, which has motivated the development of isogeometric approaches.",
           "What is the motivation for developing isogeometric approaches?"
          ]
         ],
         "hovertemplate": "arxiv_id=2105.06363<br>x=%{x}<br>y=%{y}<br>nugget_answer=%{customdata[0]}<br>nugget_question=%{customdata[1]}<extra></extra>",
         "legendgroup": "2105.06363",
         "marker": {
          "color": "#EF553B",
          "symbol": "circle"
         },
         "mode": "markers",
         "name": "2105.06363",
         "orientation": "v",
         "showlegend": true,
         "type": "scatter",
         "x": [
          152.8948211669922
         ],
         "xaxis": "x",
         "y": [
          9.016365051269531
         ],
         "yaxis": "y"
        },
        {
         "customdata": [
          [
           "Video on demand and music streaming services are among the most successful application domains of Recommender Systems.",
           "What are some successful application domains of Recommender Systems?"
          ]
         ],
         "hovertemplate": "arxiv_id=2105.06275<br>x=%{x}<br>y=%{y}<br>nugget_answer=%{customdata[0]}<br>nugget_question=%{customdata[1]}<extra></extra>",
         "legendgroup": "2105.06275",
         "marker": {
          "color": "#00cc96",
          "symbol": "circle"
         },
         "mode": "markers",
         "name": "2105.06275",
         "orientation": "v",
         "showlegend": true,
         "type": "scatter",
         "x": [
          -119.66439056396484
         ],
         "xaxis": "x",
         "y": [
          -60.188148498535156
         ],
         "yaxis": "y"
        },
        {
         "customdata": [
          [
           "Graph-structured data widely exist in diverse real-world scenarios, such as social networks, e-commerce graphs, citation graphs, and biological networks.",
           "What are some examples of real-world scenarios where graph-structured data exists?"
          ]
         ],
         "hovertemplate": "arxiv_id=2105.06725<br>x=%{x}<br>y=%{y}<br>nugget_answer=%{customdata[0]}<br>nugget_question=%{customdata[1]}<extra></extra>",
         "legendgroup": "2105.06725",
         "marker": {
          "color": "#ab63fa",
          "symbol": "circle"
         },
         "mode": "markers",
         "name": "2105.06725",
         "orientation": "v",
         "showlegend": true,
         "type": "scatter",
         "x": [
          46.594966888427734
         ],
         "xaxis": "x",
         "y": [
          -27.5775203704834
         ],
         "yaxis": "y"
        },
        {
         "customdata": [
          [
           "A primary objective of educational institutions is equity of outcome, such as degree attainment.",
           "What is a primary objective of educational institutions?"
          ]
         ],
         "hovertemplate": "arxiv_id=2105.06604<br>x=%{x}<br>y=%{y}<br>nugget_answer=%{customdata[0]}<br>nugget_question=%{customdata[1]}<extra></extra>",
         "legendgroup": "2105.06604",
         "marker": {
          "color": "#FFA15A",
          "symbol": "circle"
         },
         "mode": "markers",
         "name": "2105.06604",
         "orientation": "v",
         "showlegend": true,
         "type": "scatter",
         "x": [
          -148.15380859375
         ],
         "xaxis": "x",
         "y": [
          23.54733657836914
         ],
         "yaxis": "y"
        },
        {
         "customdata": [
          [
           "Multi-messenger astrophysics is a field of study that combines observations from different types of messengers, such as gravitational waves, electromagnetic waves, and neutrinos, to gain a more complete understanding of astrophysical phenomena.",
           "What is multi-messenger astrophysics?"
          ]
         ],
         "hovertemplate": "arxiv_id=2105.06479<br>x=%{x}<br>y=%{y}<br>nugget_answer=%{customdata[0]}<br>nugget_question=%{customdata[1]}<extra></extra>",
         "legendgroup": "2105.06479",
         "marker": {
          "color": "#19d3f3",
          "symbol": "circle"
         },
         "mode": "markers",
         "name": "2105.06479",
         "orientation": "v",
         "showlegend": true,
         "type": "scatter",
         "x": [
          -95.9294204711914
         ],
         "xaxis": "x",
         "y": [
          82.19340515136719
         ],
         "yaxis": "y"
        },
        {
         "customdata": [
          [
           "The motivation behind developing algorithms and models in the field of Responsible ML or Trustworthy ML is to ensure that machine learning systems behave in a socially responsible manner. With the increase in the deployment of ML systems in the real world, there is a need to embody qualities such as fairness, explainability, privacy, and robustness in these systems.",
           "What is the motivation behind developing algorithms and models in the field of Responsible ML or Trustworthy ML?"
          ]
         ],
         "hovertemplate": "arxiv_id=2105.06591<br>x=%{x}<br>y=%{y}<br>nugget_answer=%{customdata[0]}<br>nugget_question=%{customdata[1]}<extra></extra>",
         "legendgroup": "2105.06591",
         "marker": {
          "color": "#FF6692",
          "symbol": "circle"
         },
         "mode": "markers",
         "name": "2105.06591",
         "orientation": "v",
         "showlegend": true,
         "type": "scatter",
         "x": [
          -39.59701919555664
         ],
         "xaxis": "x",
         "y": [
          -83.97456359863281
         ],
         "yaxis": "y"
        },
        {
         "customdata": [
          [
           "Standard neural networks fit a single point estimate of their weights, while Bayesian neural networks infer a posterior distribution over their weights given training data.",
           "What is the difference between standard neural networks and Bayesian neural networks?"
          ]
         ],
         "hovertemplate": "arxiv_id=2105.06964<br>x=%{x}<br>y=%{y}<br>nugget_answer=%{customdata[0]}<br>nugget_question=%{customdata[1]}<extra></extra>",
         "legendgroup": "2105.06964",
         "marker": {
          "color": "#B6E880",
          "symbol": "circle"
         },
         "mode": "markers",
         "name": "2105.06964",
         "orientation": "v",
         "showlegend": true,
         "type": "scatter",
         "x": [
          13.155715942382812
         ],
         "xaxis": "x",
         "y": [
          -11.780756950378418
         ],
         "yaxis": "y"
        },
        {
         "customdata": [
          [
           "Current tests to diagnose hearing loss require the active participation of the person being tested, which can be labor and time-intensive.",
           "Why are current tests to diagnose hearing loss labor and time-intensive?"
          ]
         ],
         "hovertemplate": "arxiv_id=2105.06844<br>x=%{x}<br>y=%{y}<br>nugget_answer=%{customdata[0]}<br>nugget_question=%{customdata[1]}<extra></extra>",
         "legendgroup": "2105.06844",
         "marker": {
          "color": "#FF97FF",
          "symbol": "circle"
         },
         "mode": "markers",
         "name": "2105.06844",
         "orientation": "v",
         "showlegend": true,
         "type": "scatter",
         "x": [
          39.25825881958008
         ],
         "xaxis": "x",
         "y": [
          147.47987365722656
         ],
         "yaxis": "y"
        }
       ],
       "layout": {
        "legend": {
         "title": {
          "text": "arxiv_id"
         },
         "tracegroupgap": 0
        },
        "margin": {
         "t": 60
        },
        "template": {
         "data": {
          "bar": [
           {
            "error_x": {
             "color": "#2a3f5f"
            },
            "error_y": {
             "color": "#2a3f5f"
            },
            "marker": {
             "line": {
              "color": "#E5ECF6",
              "width": 0.5
             },
             "pattern": {
              "fillmode": "overlay",
              "size": 10,
              "solidity": 0.2
             }
            },
            "type": "bar"
           }
          ],
          "barpolar": [
           {
            "marker": {
             "line": {
              "color": "#E5ECF6",
              "width": 0.5
             },
             "pattern": {
              "fillmode": "overlay",
              "size": 10,
              "solidity": 0.2
             }
            },
            "type": "barpolar"
           }
          ],
          "carpet": [
           {
            "aaxis": {
             "endlinecolor": "#2a3f5f",
             "gridcolor": "white",
             "linecolor": "white",
             "minorgridcolor": "white",
             "startlinecolor": "#2a3f5f"
            },
            "baxis": {
             "endlinecolor": "#2a3f5f",
             "gridcolor": "white",
             "linecolor": "white",
             "minorgridcolor": "white",
             "startlinecolor": "#2a3f5f"
            },
            "type": "carpet"
           }
          ],
          "choropleth": [
           {
            "colorbar": {
             "outlinewidth": 0,
             "ticks": ""
            },
            "type": "choropleth"
           }
          ],
          "contour": [
           {
            "colorbar": {
             "outlinewidth": 0,
             "ticks": ""
            },
            "colorscale": [
             [
              0,
              "#0d0887"
             ],
             [
              0.1111111111111111,
              "#46039f"
             ],
             [
              0.2222222222222222,
              "#7201a8"
             ],
             [
              0.3333333333333333,
              "#9c179e"
             ],
             [
              0.4444444444444444,
              "#bd3786"
             ],
             [
              0.5555555555555556,
              "#d8576b"
             ],
             [
              0.6666666666666666,
              "#ed7953"
             ],
             [
              0.7777777777777778,
              "#fb9f3a"
             ],
             [
              0.8888888888888888,
              "#fdca26"
             ],
             [
              1,
              "#f0f921"
             ]
            ],
            "type": "contour"
           }
          ],
          "contourcarpet": [
           {
            "colorbar": {
             "outlinewidth": 0,
             "ticks": ""
            },
            "type": "contourcarpet"
           }
          ],
          "heatmap": [
           {
            "colorbar": {
             "outlinewidth": 0,
             "ticks": ""
            },
            "colorscale": [
             [
              0,
              "#0d0887"
             ],
             [
              0.1111111111111111,
              "#46039f"
             ],
             [
              0.2222222222222222,
              "#7201a8"
             ],
             [
              0.3333333333333333,
              "#9c179e"
             ],
             [
              0.4444444444444444,
              "#bd3786"
             ],
             [
              0.5555555555555556,
              "#d8576b"
             ],
             [
              0.6666666666666666,
              "#ed7953"
             ],
             [
              0.7777777777777778,
              "#fb9f3a"
             ],
             [
              0.8888888888888888,
              "#fdca26"
             ],
             [
              1,
              "#f0f921"
             ]
            ],
            "type": "heatmap"
           }
          ],
          "heatmapgl": [
           {
            "colorbar": {
             "outlinewidth": 0,
             "ticks": ""
            },
            "colorscale": [
             [
              0,
              "#0d0887"
             ],
             [
              0.1111111111111111,
              "#46039f"
             ],
             [
              0.2222222222222222,
              "#7201a8"
             ],
             [
              0.3333333333333333,
              "#9c179e"
             ],
             [
              0.4444444444444444,
              "#bd3786"
             ],
             [
              0.5555555555555556,
              "#d8576b"
             ],
             [
              0.6666666666666666,
              "#ed7953"
             ],
             [
              0.7777777777777778,
              "#fb9f3a"
             ],
             [
              0.8888888888888888,
              "#fdca26"
             ],
             [
              1,
              "#f0f921"
             ]
            ],
            "type": "heatmapgl"
           }
          ],
          "histogram": [
           {
            "marker": {
             "pattern": {
              "fillmode": "overlay",
              "size": 10,
              "solidity": 0.2
             }
            },
            "type": "histogram"
           }
          ],
          "histogram2d": [
           {
            "colorbar": {
             "outlinewidth": 0,
             "ticks": ""
            },
            "colorscale": [
             [
              0,
              "#0d0887"
             ],
             [
              0.1111111111111111,
              "#46039f"
             ],
             [
              0.2222222222222222,
              "#7201a8"
             ],
             [
              0.3333333333333333,
              "#9c179e"
             ],
             [
              0.4444444444444444,
              "#bd3786"
             ],
             [
              0.5555555555555556,
              "#d8576b"
             ],
             [
              0.6666666666666666,
              "#ed7953"
             ],
             [
              0.7777777777777778,
              "#fb9f3a"
             ],
             [
              0.8888888888888888,
              "#fdca26"
             ],
             [
              1,
              "#f0f921"
             ]
            ],
            "type": "histogram2d"
           }
          ],
          "histogram2dcontour": [
           {
            "colorbar": {
             "outlinewidth": 0,
             "ticks": ""
            },
            "colorscale": [
             [
              0,
              "#0d0887"
             ],
             [
              0.1111111111111111,
              "#46039f"
             ],
             [
              0.2222222222222222,
              "#7201a8"
             ],
             [
              0.3333333333333333,
              "#9c179e"
             ],
             [
              0.4444444444444444,
              "#bd3786"
             ],
             [
              0.5555555555555556,
              "#d8576b"
             ],
             [
              0.6666666666666666,
              "#ed7953"
             ],
             [
              0.7777777777777778,
              "#fb9f3a"
             ],
             [
              0.8888888888888888,
              "#fdca26"
             ],
             [
              1,
              "#f0f921"
             ]
            ],
            "type": "histogram2dcontour"
           }
          ],
          "mesh3d": [
           {
            "colorbar": {
             "outlinewidth": 0,
             "ticks": ""
            },
            "type": "mesh3d"
           }
          ],
          "parcoords": [
           {
            "line": {
             "colorbar": {
              "outlinewidth": 0,
              "ticks": ""
             }
            },
            "type": "parcoords"
           }
          ],
          "pie": [
           {
            "automargin": true,
            "type": "pie"
           }
          ],
          "scatter": [
           {
            "fillpattern": {
             "fillmode": "overlay",
             "size": 10,
             "solidity": 0.2
            },
            "type": "scatter"
           }
          ],
          "scatter3d": [
           {
            "line": {
             "colorbar": {
              "outlinewidth": 0,
              "ticks": ""
             }
            },
            "marker": {
             "colorbar": {
              "outlinewidth": 0,
              "ticks": ""
             }
            },
            "type": "scatter3d"
           }
          ],
          "scattercarpet": [
           {
            "marker": {
             "colorbar": {
              "outlinewidth": 0,
              "ticks": ""
             }
            },
            "type": "scattercarpet"
           }
          ],
          "scattergeo": [
           {
            "marker": {
             "colorbar": {
              "outlinewidth": 0,
              "ticks": ""
             }
            },
            "type": "scattergeo"
           }
          ],
          "scattergl": [
           {
            "marker": {
             "colorbar": {
              "outlinewidth": 0,
              "ticks": ""
             }
            },
            "type": "scattergl"
           }
          ],
          "scattermapbox": [
           {
            "marker": {
             "colorbar": {
              "outlinewidth": 0,
              "ticks": ""
             }
            },
            "type": "scattermapbox"
           }
          ],
          "scatterpolar": [
           {
            "marker": {
             "colorbar": {
              "outlinewidth": 0,
              "ticks": ""
             }
            },
            "type": "scatterpolar"
           }
          ],
          "scatterpolargl": [
           {
            "marker": {
             "colorbar": {
              "outlinewidth": 0,
              "ticks": ""
             }
            },
            "type": "scatterpolargl"
           }
          ],
          "scatterternary": [
           {
            "marker": {
             "colorbar": {
              "outlinewidth": 0,
              "ticks": ""
             }
            },
            "type": "scatterternary"
           }
          ],
          "surface": [
           {
            "colorbar": {
             "outlinewidth": 0,
             "ticks": ""
            },
            "colorscale": [
             [
              0,
              "#0d0887"
             ],
             [
              0.1111111111111111,
              "#46039f"
             ],
             [
              0.2222222222222222,
              "#7201a8"
             ],
             [
              0.3333333333333333,
              "#9c179e"
             ],
             [
              0.4444444444444444,
              "#bd3786"
             ],
             [
              0.5555555555555556,
              "#d8576b"
             ],
             [
              0.6666666666666666,
              "#ed7953"
             ],
             [
              0.7777777777777778,
              "#fb9f3a"
             ],
             [
              0.8888888888888888,
              "#fdca26"
             ],
             [
              1,
              "#f0f921"
             ]
            ],
            "type": "surface"
           }
          ],
          "table": [
           {
            "cells": {
             "fill": {
              "color": "#EBF0F8"
             },
             "line": {
              "color": "white"
             }
            },
            "header": {
             "fill": {
              "color": "#C8D4E3"
             },
             "line": {
              "color": "white"
             }
            },
            "type": "table"
           }
          ]
         },
         "layout": {
          "annotationdefaults": {
           "arrowcolor": "#2a3f5f",
           "arrowhead": 0,
           "arrowwidth": 1
          },
          "autotypenumbers": "strict",
          "coloraxis": {
           "colorbar": {
            "outlinewidth": 0,
            "ticks": ""
           }
          },
          "colorscale": {
           "diverging": [
            [
             0,
             "#8e0152"
            ],
            [
             0.1,
             "#c51b7d"
            ],
            [
             0.2,
             "#de77ae"
            ],
            [
             0.3,
             "#f1b6da"
            ],
            [
             0.4,
             "#fde0ef"
            ],
            [
             0.5,
             "#f7f7f7"
            ],
            [
             0.6,
             "#e6f5d0"
            ],
            [
             0.7,
             "#b8e186"
            ],
            [
             0.8,
             "#7fbc41"
            ],
            [
             0.9,
             "#4d9221"
            ],
            [
             1,
             "#276419"
            ]
           ],
           "sequential": [
            [
             0,
             "#0d0887"
            ],
            [
             0.1111111111111111,
             "#46039f"
            ],
            [
             0.2222222222222222,
             "#7201a8"
            ],
            [
             0.3333333333333333,
             "#9c179e"
            ],
            [
             0.4444444444444444,
             "#bd3786"
            ],
            [
             0.5555555555555556,
             "#d8576b"
            ],
            [
             0.6666666666666666,
             "#ed7953"
            ],
            [
             0.7777777777777778,
             "#fb9f3a"
            ],
            [
             0.8888888888888888,
             "#fdca26"
            ],
            [
             1,
             "#f0f921"
            ]
           ],
           "sequentialminus": [
            [
             0,
             "#0d0887"
            ],
            [
             0.1111111111111111,
             "#46039f"
            ],
            [
             0.2222222222222222,
             "#7201a8"
            ],
            [
             0.3333333333333333,
             "#9c179e"
            ],
            [
             0.4444444444444444,
             "#bd3786"
            ],
            [
             0.5555555555555556,
             "#d8576b"
            ],
            [
             0.6666666666666666,
             "#ed7953"
            ],
            [
             0.7777777777777778,
             "#fb9f3a"
            ],
            [
             0.8888888888888888,
             "#fdca26"
            ],
            [
             1,
             "#f0f921"
            ]
           ]
          },
          "colorway": [
           "#636efa",
           "#EF553B",
           "#00cc96",
           "#ab63fa",
           "#FFA15A",
           "#19d3f3",
           "#FF6692",
           "#B6E880",
           "#FF97FF",
           "#FECB52"
          ],
          "font": {
           "color": "#2a3f5f"
          },
          "geo": {
           "bgcolor": "white",
           "lakecolor": "white",
           "landcolor": "#E5ECF6",
           "showlakes": true,
           "showland": true,
           "subunitcolor": "white"
          },
          "hoverlabel": {
           "align": "left"
          },
          "hovermode": "closest",
          "mapbox": {
           "style": "light"
          },
          "paper_bgcolor": "white",
          "plot_bgcolor": "#E5ECF6",
          "polar": {
           "angularaxis": {
            "gridcolor": "white",
            "linecolor": "white",
            "ticks": ""
           },
           "bgcolor": "#E5ECF6",
           "radialaxis": {
            "gridcolor": "white",
            "linecolor": "white",
            "ticks": ""
           }
          },
          "scene": {
           "xaxis": {
            "backgroundcolor": "#E5ECF6",
            "gridcolor": "white",
            "gridwidth": 2,
            "linecolor": "white",
            "showbackground": true,
            "ticks": "",
            "zerolinecolor": "white"
           },
           "yaxis": {
            "backgroundcolor": "#E5ECF6",
            "gridcolor": "white",
            "gridwidth": 2,
            "linecolor": "white",
            "showbackground": true,
            "ticks": "",
            "zerolinecolor": "white"
           },
           "zaxis": {
            "backgroundcolor": "#E5ECF6",
            "gridcolor": "white",
            "gridwidth": 2,
            "linecolor": "white",
            "showbackground": true,
            "ticks": "",
            "zerolinecolor": "white"
           }
          },
          "shapedefaults": {
           "line": {
            "color": "#2a3f5f"
           }
          },
          "ternary": {
           "aaxis": {
            "gridcolor": "white",
            "linecolor": "white",
            "ticks": ""
           },
           "baxis": {
            "gridcolor": "white",
            "linecolor": "white",
            "ticks": ""
           },
           "bgcolor": "#E5ECF6",
           "caxis": {
            "gridcolor": "white",
            "linecolor": "white",
            "ticks": ""
           }
          },
          "title": {
           "x": 0.05
          },
          "xaxis": {
           "automargin": true,
           "gridcolor": "white",
           "linecolor": "white",
           "ticks": "",
           "title": {
            "standoff": 15
           },
           "zerolinecolor": "white",
           "zerolinewidth": 2
          },
          "yaxis": {
           "automargin": true,
           "gridcolor": "white",
           "linecolor": "white",
           "ticks": "",
           "title": {
            "standoff": 15
           },
           "zerolinecolor": "white",
           "zerolinewidth": 2
          }
         }
        },
        "xaxis": {
         "anchor": "y",
         "domain": [
          0,
          1
         ],
         "title": {
          "text": "x"
         }
        },
        "yaxis": {
         "anchor": "x",
         "domain": [
          0,
          1
         ],
         "title": {
          "text": "y"
         }
        }
       }
      },
      "text/html": [
       "<div>                            <div id=\"3beac9ea-b0b6-4fa6-92ef-5e38334eab7c\" class=\"plotly-graph-div\" style=\"height:525px; width:100%;\"></div>            <script type=\"text/javascript\">                require([\"plotly\"], function(Plotly) {                    window.PLOTLYENV=window.PLOTLYENV || {};                                    if (document.getElementById(\"3beac9ea-b0b6-4fa6-92ef-5e38334eab7c\")) {                    Plotly.newPlot(                        \"3beac9ea-b0b6-4fa6-92ef-5e38334eab7c\",                        [{\"customdata\":[[\"Oil palm is the third largest oil crop in the world by planted area.\",\"What is the ranking of oil palm among oil crops in terms of planted area?\"]],\"hovertemplate\":\"arxiv_id=2105.11207\\u003cbr\\u003ex=%{x}\\u003cbr\\u003ey=%{y}\\u003cbr\\u003enugget_answer=%{customdata[0]}\\u003cbr\\u003enugget_question=%{customdata[1]}\\u003cextra\\u003e\\u003c\\u002fextra\\u003e\",\"legendgroup\":\"2105.11207\",\"marker\":{\"color\":\"#636efa\",\"symbol\":\"circle\"},\"mode\":\"markers\",\"name\":\"2105.11207\",\"orientation\":\"v\",\"showlegend\":true,\"x\":[-87.77142333984375],\"xaxis\":\"x\",\"y\":[-152.3853759765625],\"yaxis\":\"y\",\"type\":\"scatter\"},{\"customdata\":[[\"Engineers have developed control systems to keep automated systems on course.\",\"What have engineers developed to keep automated systems on course?\"]],\"hovertemplate\":\"arxiv_id=2105.10766\\u003cbr\\u003ex=%{x}\\u003cbr\\u003ey=%{y}\\u003cbr\\u003enugget_answer=%{customdata[0]}\\u003cbr\\u003enugget_question=%{customdata[1]}\\u003cextra\\u003e\\u003c\\u002fextra\\u003e\",\"legendgroup\":\"2105.10766\",\"marker\":{\"color\":\"#EF553B\",\"symbol\":\"circle\"},\"mode\":\"markers\",\"name\":\"2105.10766\",\"orientation\":\"v\",\"showlegend\":true,\"x\":[88.6175308227539],\"xaxis\":\"x\",\"y\":[10.817819595336914],\"yaxis\":\"y\",\"type\":\"scatter\"},{\"customdata\":[[\"Many datasets are relational in nature.\",\"What is the nature of many datasets?\"]],\"hovertemplate\":\"arxiv_id=2105.02315\\u003cbr\\u003ex=%{x}\\u003cbr\\u003ey=%{y}\\u003cbr\\u003enugget_answer=%{customdata[0]}\\u003cbr\\u003enugget_question=%{customdata[1]}\\u003cextra\\u003e\\u003c\\u002fextra\\u003e\",\"legendgroup\":\"2105.02315\",\"marker\":{\"color\":\"#00cc96\",\"symbol\":\"circle\"},\"mode\":\"markers\",\"name\":\"2105.02315\",\"orientation\":\"v\",\"showlegend\":true,\"x\":[52.65987777709961],\"xaxis\":\"x\",\"y\":[-55.73139190673828],\"yaxis\":\"y\",\"type\":\"scatter\"},{\"customdata\":[[\"Social biases in algorithms.\",\"What has been investigated and identified in a number of contexts?\"]],\"hovertemplate\":\"arxiv_id=2105.02091\\u003cbr\\u003ex=%{x}\\u003cbr\\u003ey=%{y}\\u003cbr\\u003enugget_answer=%{customdata[0]}\\u003cbr\\u003enugget_question=%{customdata[1]}\\u003cextra\\u003e\\u003c\\u002fextra\\u003e\",\"legendgroup\":\"2105.02091\",\"marker\":{\"color\":\"#ab63fa\",\"symbol\":\"circle\"},\"mode\":\"markers\",\"name\":\"2105.02091\",\"orientation\":\"v\",\"showlegend\":true,\"x\":[-48.58763122558594],\"xaxis\":\"x\",\"y\":[-46.863189697265625],\"yaxis\":\"y\",\"type\":\"scatter\"},{\"customdata\":[[\"Motion capture (mocap) data is a technique used to capture the movement of objects or people and record it as digital data.\",\"What is motion capture (mocap) data?\"]],\"hovertemplate\":\"arxiv_id=2105.02451\\u003cbr\\u003ex=%{x}\\u003cbr\\u003ey=%{y}\\u003cbr\\u003enugget_answer=%{customdata[0]}\\u003cbr\\u003enugget_question=%{customdata[1]}\\u003cextra\\u003e\\u003c\\u002fextra\\u003e\",\"legendgroup\":\"2105.02451\",\"marker\":{\"color\":\"#FFA15A\",\"symbol\":\"circle\"},\"mode\":\"markers\",\"name\":\"2105.02451\",\"orientation\":\"v\",\"showlegend\":true,\"x\":[-48.23924255371094],\"xaxis\":\"x\",\"y\":[101.69026947021484],\"yaxis\":\"y\",\"type\":\"scatter\"},{\"customdata\":[[\"Monte Carlo techniques refer to a set of sampling methods used in statistics, signal processing, and machine learning. These methods can be categorized into four main families: direct methods based on transformation of random variables, rejection sampling procedures, Markov chain Monte Carlo (MCMC) algorithms, and importance sampling (IS) schemes.\",\"What are Monte Carlo techniques?\"]],\"hovertemplate\":\"arxiv_id=2105.02579\\u003cbr\\u003ex=%{x}\\u003cbr\\u003ey=%{y}\\u003cbr\\u003enugget_answer=%{customdata[0]}\\u003cbr\\u003enugget_question=%{customdata[1]}\\u003cextra\\u003e\\u003c\\u002fextra\\u003e\",\"legendgroup\":\"2105.02579\",\"marker\":{\"color\":\"#19d3f3\",\"symbol\":\"circle\"},\"mode\":\"markers\",\"name\":\"2105.02579\",\"orientation\":\"v\",\"showlegend\":true,\"x\":[117.49310302734375],\"xaxis\":\"x\",\"y\":[-68.0289306640625],\"yaxis\":\"y\",\"type\":\"scatter\"},{\"customdata\":[[\"An ensemble is the combination of multiple models, trained to solve the same task and joined to improve the overall performance.\",\"What is an ensemble?\"]],\"hovertemplate\":\"arxiv_id=2105.02551\\u003cbr\\u003ex=%{x}\\u003cbr\\u003ey=%{y}\\u003cbr\\u003enugget_answer=%{customdata[0]}\\u003cbr\\u003enugget_question=%{customdata[1]}\\u003cextra\\u003e\\u003c\\u002fextra\\u003e\",\"legendgroup\":\"2105.02551\",\"marker\":{\"color\":\"#FF6692\",\"symbol\":\"circle\"},\"mode\":\"markers\",\"name\":\"2105.02551\",\"orientation\":\"v\",\"showlegend\":true,\"x\":[23.35956382751465],\"xaxis\":\"x\",\"y\":[56.26792907714844],\"yaxis\":\"y\",\"type\":\"scatter\"},{\"customdata\":[[\"The desirable properties of neural nets according to the common belief are stability to random noise (small G_f) and stability to diffeomorphisms (small D_f).\",\"What are the desirable properties of neural nets according to the common belief?\"]],\"hovertemplate\":\"arxiv_id=2105.02468\\u003cbr\\u003ex=%{x}\\u003cbr\\u003ey=%{y}\\u003cbr\\u003enugget_answer=%{customdata[0]}\\u003cbr\\u003enugget_question=%{customdata[1]}\\u003cextra\\u003e\\u003c\\u002fextra\\u003e\",\"legendgroup\":\"2105.02468\",\"marker\":{\"color\":\"#B6E880\",\"symbol\":\"circle\"},\"mode\":\"markers\",\"name\":\"2105.02468\",\"orientation\":\"v\",\"showlegend\":true,\"x\":[34.241146087646484],\"xaxis\":\"x\",\"y\":[11.829911231994629],\"yaxis\":\"y\",\"type\":\"scatter\"},{\"customdata\":[[\"Electrochemical systems are used for energy conversion and storage, as well as chemical manufacturing.\",\"What are electrochemical systems used for?\"]],\"hovertemplate\":\"arxiv_id=2105.03057\\u003cbr\\u003ex=%{x}\\u003cbr\\u003ey=%{y}\\u003cbr\\u003enugget_answer=%{customdata[0]}\\u003cbr\\u003enugget_question=%{customdata[1]}\\u003cextra\\u003e\\u003c\\u002fextra\\u003e\",\"legendgroup\":\"2105.03057\",\"marker\":{\"color\":\"#FF97FF\",\"symbol\":\"circle\"},\"mode\":\"markers\",\"name\":\"2105.03057\",\"orientation\":\"v\",\"showlegend\":true,\"x\":[87.49837493896484],\"xaxis\":\"x\",\"y\":[-21.95841407775879],\"yaxis\":\"y\",\"type\":\"scatter\"},{\"customdata\":[[\"Anonymous eschews notions of social hierarchy, membership, and set interests.\",\"What sets Anonymous apart from typical social groups?\"]],\"hovertemplate\":\"arxiv_id=2105.03168\\u003cbr\\u003ex=%{x}\\u003cbr\\u003ey=%{y}\\u003cbr\\u003enugget_answer=%{customdata[0]}\\u003cbr\\u003enugget_question=%{customdata[1]}\\u003cextra\\u003e\\u003c\\u002fextra\\u003e\",\"legendgroup\":\"2105.03168\",\"marker\":{\"color\":\"#FECB52\",\"symbol\":\"circle\"},\"mode\":\"markers\",\"name\":\"2105.03168\",\"orientation\":\"v\",\"showlegend\":true,\"x\":[-95.29643249511719],\"xaxis\":\"x\",\"y\":[150.8195037841797],\"yaxis\":\"y\",\"type\":\"scatter\"},{\"customdata\":[[\"The bag of words model is commonly used in signal processing, computer vision, and audio processing.\",\"What is the bag of words model commonly used in?\"]],\"hovertemplate\":\"arxiv_id=2105.03841\\u003cbr\\u003ex=%{x}\\u003cbr\\u003ey=%{y}\\u003cbr\\u003enugget_answer=%{customdata[0]}\\u003cbr\\u003enugget_question=%{customdata[1]}\\u003cextra\\u003e\\u003c\\u002fextra\\u003e\",\"legendgroup\":\"2105.03841\",\"marker\":{\"color\":\"#636efa\",\"symbol\":\"circle\"},\"mode\":\"markers\",\"name\":\"2105.03841\",\"orientation\":\"v\",\"showlegend\":true,\"x\":[-49.819583892822266],\"xaxis\":\"x\",\"y\":[55.01826858520508],\"yaxis\":\"y\",\"type\":\"scatter\"},{\"customdata\":[[\"Physical simulation plays an important role in designing high-performance engineering components.\",\"What is the role of physical simulation in designing engineering components?\"]],\"hovertemplate\":\"arxiv_id=2105.03534\\u003cbr\\u003ex=%{x}\\u003cbr\\u003ey=%{y}\\u003cbr\\u003enugget_answer=%{customdata[0]}\\u003cbr\\u003enugget_question=%{customdata[1]}\\u003cextra\\u003e\\u003c\\u002fextra\\u003e\",\"legendgroup\":\"2105.03534\",\"marker\":{\"color\":\"#EF553B\",\"symbol\":\"circle\"},\"mode\":\"markers\",\"name\":\"2105.03534\",\"orientation\":\"v\",\"showlegend\":true,\"x\":[124.5882568359375],\"xaxis\":\"x\",\"y\":[16.507722854614258],\"yaxis\":\"y\",\"type\":\"scatter\"},{\"customdata\":[[\"Recent innovations in deep learning models include GPT-2 and GPT-3.\",\"What are some recent innovations in deep learning models?\"]],\"hovertemplate\":\"arxiv_id=2105.03279\\u003cbr\\u003ex=%{x}\\u003cbr\\u003ey=%{y}\\u003cbr\\u003enugget_answer=%{customdata[0]}\\u003cbr\\u003enugget_question=%{customdata[1]}\\u003cextra\\u003e\\u003c\\u002fextra\\u003e\",\"legendgroup\":\"2105.03279\",\"marker\":{\"color\":\"#00cc96\",\"symbol\":\"circle\"},\"mode\":\"markers\",\"name\":\"2105.03279\",\"orientation\":\"v\",\"showlegend\":true,\"x\":[-46.76781463623047],\"xaxis\":\"x\",\"y\":[-4.212896823883057],\"yaxis\":\"y\",\"type\":\"scatter\"},{\"customdata\":[[\"Neural approaches to language generation refer to the use of neural networks to generate human-like text. These approaches have become predominant in various tasks such as concept-to-text Natural Language Generation (NLG), Summarisation, and Machine Translation. They are favored for their ability to achieve state-of-the-art performance through end-to-end training.\",\"What are neural approaches to language generation?\"]],\"hovertemplate\":\"arxiv_id=2105.03432\\u003cbr\\u003ex=%{x}\\u003cbr\\u003ey=%{y}\\u003cbr\\u003enugget_answer=%{customdata[0]}\\u003cbr\\u003enugget_question=%{customdata[1]}\\u003cextra\\u003e\\u003c\\u002fextra\\u003e\",\"legendgroup\":\"2105.03432\",\"marker\":{\"color\":\"#ab63fa\",\"symbol\":\"circle\"},\"mode\":\"markers\",\"name\":\"2105.03432\",\"orientation\":\"v\",\"showlegend\":true,\"x\":[-15.158294677734375],\"xaxis\":\"x\",\"y\":[61.413604736328125],\"yaxis\":\"y\",\"type\":\"scatter\"},{\"customdata\":[[\"The curse of dimensionality is a phenomenon in applied mathematics where the computational complexity of certain algorithms increases exponentially with the dimension of the problem. It is particularly challenging in high dimensional problems.\",\"What is the curse of dimensionality?\"]],\"hovertemplate\":\"arxiv_id=2105.03480\\u003cbr\\u003ex=%{x}\\u003cbr\\u003ey=%{y}\\u003cbr\\u003enugget_answer=%{customdata[0]}\\u003cbr\\u003enugget_question=%{customdata[1]}\\u003cextra\\u003e\\u003c\\u002fextra\\u003e\",\"legendgroup\":\"2105.03480\",\"marker\":{\"color\":\"#FFA15A\",\"symbol\":\"circle\"},\"mode\":\"markers\",\"name\":\"2105.03480\",\"orientation\":\"v\",\"showlegend\":true,\"x\":[40.20380783081055],\"xaxis\":\"x\",\"y\":[-123.76510620117188],\"yaxis\":\"y\",\"type\":\"scatter\"},{\"customdata\":[[\"Optimal control problems are a class of optimization problems that have many applications in engineering. They involve finding the best control inputs for a system to optimize a certain objective, such as trajectory planning, robot manipulator control, and humanoid robot control.\",\"What are optimal control problems?\"]],\"hovertemplate\":\"arxiv_id=2105.03336\\u003cbr\\u003ex=%{x}\\u003cbr\\u003ey=%{y}\\u003cbr\\u003enugget_answer=%{customdata[0]}\\u003cbr\\u003enugget_question=%{customdata[1]}\\u003cextra\\u003e\\u003c\\u002fextra\\u003e\",\"legendgroup\":\"2105.03336\",\"marker\":{\"color\":\"#19d3f3\",\"symbol\":\"circle\"},\"mode\":\"markers\",\"name\":\"2105.03336\",\"orientation\":\"v\",\"showlegend\":true,\"x\":[73.8656234741211],\"xaxis\":\"x\",\"y\":[36.12054443359375],\"yaxis\":\"y\",\"type\":\"scatter\"},{\"customdata\":[[\"Deep learning\",\"What is the dominant machine learning technique of recent times?\"]],\"hovertemplate\":\"arxiv_id=2105.04026\\u003cbr\\u003ex=%{x}\\u003cbr\\u003ey=%{y}\\u003cbr\\u003enugget_answer=%{customdata[0]}\\u003cbr\\u003enugget_question=%{customdata[1]}\\u003cextra\\u003e\\u003c\\u002fextra\\u003e\",\"legendgroup\":\"2105.04026\",\"marker\":{\"color\":\"#FF6692\",\"symbol\":\"circle\"},\"mode\":\"markers\",\"name\":\"2105.04026\",\"orientation\":\"v\",\"showlegend\":true,\"x\":[-11.976883888244629],\"xaxis\":\"x\",\"y\":[-60.70502853393555],\"yaxis\":\"y\",\"type\":\"scatter\"},{\"customdata\":[[\"ACM's consolidated article template was introduced in 2017.\",\"When was ACM's consolidated article template introduced?\"]],\"hovertemplate\":\"arxiv_id=2105.04117\\u003cbr\\u003ex=%{x}\\u003cbr\\u003ey=%{y}\\u003cbr\\u003enugget_answer=%{customdata[0]}\\u003cbr\\u003enugget_question=%{customdata[1]}\\u003cextra\\u003e\\u003c\\u002fextra\\u003e\",\"legendgroup\":\"2105.04117\",\"marker\":{\"color\":\"#B6E880\",\"symbol\":\"circle\"},\"mode\":\"markers\",\"name\":\"2105.04117\",\"orientation\":\"v\",\"showlegend\":true,\"x\":[-88.93212127685547],\"xaxis\":\"x\",\"y\":[29.648588180541992],\"yaxis\":\"y\",\"type\":\"scatter\"},{\"customdata\":[[\"An acknowledgment is a statement of gratitude or appreciation for someone's contribution or support.\",\"What is an acknowledgment?\"]],\"hovertemplate\":\"arxiv_id=2105.03875\\u003cbr\\u003ex=%{x}\\u003cbr\\u003ey=%{y}\\u003cbr\\u003enugget_answer=%{customdata[0]}\\u003cbr\\u003enugget_question=%{customdata[1]}\\u003cextra\\u003e\\u003c\\u002fextra\\u003e\",\"legendgroup\":\"2105.03875\",\"marker\":{\"color\":\"#FF97FF\",\"symbol\":\"circle\"},\"mode\":\"markers\",\"name\":\"2105.03875\",\"orientation\":\"v\",\"showlegend\":true,\"x\":[-46.016502380371094],\"xaxis\":\"x\",\"y\":[150.49661254882812],\"yaxis\":\"y\",\"type\":\"scatter\"},{\"customdata\":[[\"Recommender systems (RS) are widely used in countless online applications to provide personalized suggestions to each user.\",\"What are recommender systems?\"]],\"hovertemplate\":\"arxiv_id=2105.04170\\u003cbr\\u003ex=%{x}\\u003cbr\\u003ey=%{y}\\u003cbr\\u003enugget_answer=%{customdata[0]}\\u003cbr\\u003enugget_question=%{customdata[1]}\\u003cextra\\u003e\\u003c\\u002fextra\\u003e\",\"legendgroup\":\"2105.04170\",\"marker\":{\"color\":\"#FECB52\",\"symbol\":\"circle\"},\"mode\":\"markers\",\"name\":\"2105.04170\",\"orientation\":\"v\",\"showlegend\":true,\"x\":[-90.06858825683594],\"xaxis\":\"x\",\"y\":[-12.325581550598145],\"yaxis\":\"y\",\"type\":\"scatter\"},{\"customdata\":[[\"By the end of 2025, the number of mobile broadband subscriptions is estimated to increase to 9 billion.\",\"What is the estimated number of mobile broadband subscriptions by the end of 2025?\"]],\"hovertemplate\":\"arxiv_id=2105.04184\\u003cbr\\u003ex=%{x}\\u003cbr\\u003ey=%{y}\\u003cbr\\u003enugget_answer=%{customdata[0]}\\u003cbr\\u003enugget_question=%{customdata[1]}\\u003cextra\\u003e\\u003c\\u002fextra\\u003e\",\"legendgroup\":\"2105.04184\",\"marker\":{\"color\":\"#636efa\",\"symbol\":\"circle\"},\"mode\":\"markers\",\"name\":\"2105.04184\",\"orientation\":\"v\",\"showlegend\":true,\"x\":[-122.18113708496094],\"xaxis\":\"x\",\"y\":[-107.76997375488281],\"yaxis\":\"y\",\"type\":\"scatter\"},{\"customdata\":[[\"The consequences of natural disasters in the Kingdom of Tonga can be damaging for the population, especially those who heavily depend on local agriculture as a primary food source.\",\"What are the consequences of natural disasters in the Kingdom of Tonga?\"]],\"hovertemplate\":\"arxiv_id=2105.04356\\u003cbr\\u003ex=%{x}\\u003cbr\\u003ey=%{y}\\u003cbr\\u003enugget_answer=%{customdata[0]}\\u003cbr\\u003enugget_question=%{customdata[1]}\\u003cextra\\u003e\\u003c\\u002fextra\\u003e\",\"legendgroup\":\"2105.04356\",\"marker\":{\"color\":\"#EF553B\",\"symbol\":\"circle\"},\"mode\":\"markers\",\"name\":\"2105.04356\",\"orientation\":\"v\",\"showlegend\":true,\"x\":[-56.58305740356445],\"xaxis\":\"x\",\"y\":[-156.27561950683594],\"yaxis\":\"y\",\"type\":\"scatter\"},{\"customdata\":[[\"Computer vision and topology optimization are related in that both involve optimizing a set of elements\\u002fpixels in a grid and minimizing a functional to obtain an optimized configuration. In computer vision, the optimized configuration could be a set of segmentation labels, while in topology optimization, it could be thought of as material phases.\",\"How are computer vision and topology optimization related?\"]],\"hovertemplate\":\"arxiv_id=2105.04232\\u003cbr\\u003ex=%{x}\\u003cbr\\u003ey=%{y}\\u003cbr\\u003enugget_answer=%{customdata[0]}\\u003cbr\\u003enugget_question=%{customdata[1]}\\u003cextra\\u003e\\u003c\\u002fextra\\u003e\",\"legendgroup\":\"2105.04232\",\"marker\":{\"color\":\"#00cc96\",\"symbol\":\"circle\"},\"mode\":\"markers\",\"name\":\"2105.04232\",\"orientation\":\"v\",\"showlegend\":true,\"x\":[86.11943817138672],\"xaxis\":\"x\",\"y\":[97.66650390625],\"yaxis\":\"y\",\"type\":\"scatter\"},{\"customdata\":[[\"Prediction systems are being used for tasks such as predicting recidivism risk to help judges make bail decisions, assessing credit ratings, assessing the risk of defaulting on a loan, and predicting the risk of accidents for insurance purposes.\",\"What are some socially impactful tasks that prediction systems are being used for?\"]],\"hovertemplate\":\"arxiv_id=2105.04249\\u003cbr\\u003ex=%{x}\\u003cbr\\u003ey=%{y}\\u003cbr\\u003enugget_answer=%{customdata[0]}\\u003cbr\\u003enugget_question=%{customdata[1]}\\u003cextra\\u003e\\u003c\\u002fextra\\u003e\",\"legendgroup\":\"2105.04249\",\"marker\":{\"color\":\"#ab63fa\",\"symbol\":\"circle\"},\"mode\":\"markers\",\"name\":\"2105.04249\",\"orientation\":\"v\",\"showlegend\":true,\"x\":[-77.44632720947266],\"xaxis\":\"x\",\"y\":[-77.06874084472656],\"yaxis\":\"y\",\"type\":\"scatter\"},{\"customdata\":[[\"A Brain-Computer Interface (BCI) is a tool that allows the use of brain signals to control an external device or to emit a message.\",\"What is a Brain-Computer Interface (BCI)?\"]],\"hovertemplate\":\"arxiv_id=2105.04294\\u003cbr\\u003ex=%{x}\\u003cbr\\u003ey=%{y}\\u003cbr\\u003enugget_answer=%{customdata[0]}\\u003cbr\\u003enugget_question=%{customdata[1]}\\u003cextra\\u003e\\u003c\\u002fextra\\u003e\",\"legendgroup\":\"2105.04294\",\"marker\":{\"color\":\"#FFA15A\",\"symbol\":\"circle\"},\"mode\":\"markers\",\"name\":\"2105.04294\",\"orientation\":\"v\",\"showlegend\":true,\"x\":[-12.833215713500977],\"xaxis\":\"x\",\"y\":[105.80913543701172],\"yaxis\":\"y\",\"type\":\"scatter\"},{\"customdata\":[[\"The purpose of design optimization in engineering is to find solutions to technical problems.\",\"What is the purpose of design optimization in engineering?\"]],\"hovertemplate\":\"arxiv_id=2105.04247\\u003cbr\\u003ex=%{x}\\u003cbr\\u003ey=%{y}\\u003cbr\\u003enugget_answer=%{customdata[0]}\\u003cbr\\u003enugget_question=%{customdata[1]}\\u003cextra\\u003e\\u003c\\u002fextra\\u003e\",\"legendgroup\":\"2105.04247\",\"marker\":{\"color\":\"#19d3f3\",\"symbol\":\"circle\"},\"mode\":\"markers\",\"name\":\"2105.04247\",\"orientation\":\"v\",\"showlegend\":true,\"x\":[94.1670150756836],\"xaxis\":\"x\",\"y\":[59.893428802490234],\"yaxis\":\"y\",\"type\":\"scatter\"},{\"customdata\":[[\"Models based on artificial neural networks (ANNs) have achieved unexpected success in a wide range of machine learning and artificial intelligence fields such as computer vision, natural language processing, and reinforcement learning.\",\"What is the success of models based on artificial neural networks (ANNs)?\"]],\"hovertemplate\":\"arxiv_id=2105.04156\\u003cbr\\u003ex=%{x}\\u003cbr\\u003ey=%{y}\\u003cbr\\u003enugget_answer=%{customdata[0]}\\u003cbr\\u003enugget_question=%{customdata[1]}\\u003cextra\\u003e\\u003c\\u002fextra\\u003e\",\"legendgroup\":\"2105.04156\",\"marker\":{\"color\":\"#FF6692\",\"symbol\":\"circle\"},\"mode\":\"markers\",\"name\":\"2105.04156\",\"orientation\":\"v\",\"showlegend\":true,\"x\":[-26.52454376220703],\"xaxis\":\"x\",\"y\":[29.41507911682129],\"yaxis\":\"y\",\"type\":\"scatter\"},{\"customdata\":[[\"The new goal in optimization is to have the option of choosing from different solutions that are good enough to fulfill a task, rather than being guided by single-solution algorithms.\",\"What is the new goal in optimization with the advent of 3D printing and generative design?\"]],\"hovertemplate\":\"arxiv_id=2105.04252\\u003cbr\\u003ex=%{x}\\u003cbr\\u003ey=%{y}\\u003cbr\\u003enugget_answer=%{customdata[0]}\\u003cbr\\u003enugget_question=%{customdata[1]}\\u003cextra\\u003e\\u003c\\u002fextra\\u003e\",\"legendgroup\":\"2105.04252\",\"marker\":{\"color\":\"#B6E880\",\"symbol\":\"circle\"},\"mode\":\"markers\",\"name\":\"2105.04252\",\"orientation\":\"v\",\"showlegend\":true,\"x\":[61.404441833496094],\"xaxis\":\"x\",\"y\":[68.06834411621094],\"yaxis\":\"y\",\"type\":\"scatter\"},{\"customdata\":[[\"Graph Neural Networks (GNNs) have attracted the attention of many AI researchers.\",\"What has attracted the attention of many AI researchers?\"]],\"hovertemplate\":\"arxiv_id=2105.04528\\u003cbr\\u003ex=%{x}\\u003cbr\\u003ey=%{y}\\u003cbr\\u003enugget_answer=%{customdata[0]}\\u003cbr\\u003enugget_question=%{customdata[1]}\\u003cextra\\u003e\\u003c\\u002fextra\\u003e\",\"legendgroup\":\"2105.04528\",\"marker\":{\"color\":\"#FF97FF\",\"symbol\":\"circle\"},\"mode\":\"markers\",\"name\":\"2105.04528\",\"orientation\":\"v\",\"showlegend\":true,\"x\":[-15.086366653442383],\"xaxis\":\"x\",\"y\":[2.364419460296631],\"yaxis\":\"y\",\"type\":\"scatter\"},{\"customdata\":[[\"Cybersecurity has become a critical aspect for many companies because a vulnerability or breach in its infrastructure can generate a considerable loss of value in economical, reputational, digital, psychological, and societal terms.\",\"Why has cybersecurity become a critical aspect for many companies?\"]],\"hovertemplate\":\"arxiv_id=2105.04798\\u003cbr\\u003ex=%{x}\\u003cbr\\u003ey=%{y}\\u003cbr\\u003enugget_answer=%{customdata[0]}\\u003cbr\\u003enugget_question=%{customdata[1]}\\u003cextra\\u003e\\u003c\\u002fextra\\u003e\",\"legendgroup\":\"2105.04798\",\"marker\":{\"color\":\"#FECB52\",\"symbol\":\"circle\"},\"mode\":\"markers\",\"name\":\"2105.04798\",\"orientation\":\"v\",\"showlegend\":true,\"x\":[-21.884553909301758],\"xaxis\":\"x\",\"y\":[-123.33589172363281],\"yaxis\":\"y\",\"type\":\"scatter\"},{\"customdata\":[[\"Recommender systems play a central role in alleviating information overload problems by helping users to discover content relevant to their interests.\",\"What role do recommender systems play in alleviating information overload problems?\"]],\"hovertemplate\":\"arxiv_id=2105.04769\\u003cbr\\u003ex=%{x}\\u003cbr\\u003ey=%{y}\\u003cbr\\u003enugget_answer=%{customdata[0]}\\u003cbr\\u003enugget_question=%{customdata[1]}\\u003cextra\\u003e\\u003c\\u002fextra\\u003e\",\"legendgroup\":\"2105.04769\",\"marker\":{\"color\":\"#636efa\",\"symbol\":\"circle\"},\"mode\":\"markers\",\"name\":\"2105.04769\",\"orientation\":\"v\",\"showlegend\":true,\"x\":[-89.09386444091797],\"xaxis\":\"x\",\"y\":[-41.491546630859375],\"yaxis\":\"y\",\"type\":\"scatter\"},{\"customdata\":[[\"Data-driven discovery of dynamic models\",\"What has recently picked up much attention in data science and machine learning?\"]],\"hovertemplate\":\"arxiv_id=2105.04869\\u003cbr\\u003ex=%{x}\\u003cbr\\u003ey=%{y}\\u003cbr\\u003enugget_answer=%{customdata[0]}\\u003cbr\\u003enugget_question=%{customdata[1]}\\u003cextra\\u003e\\u003c\\u002fextra\\u003e\",\"legendgroup\":\"2105.04869\",\"marker\":{\"color\":\"#EF553B\",\"symbol\":\"circle\"},\"mode\":\"markers\",\"name\":\"2105.04869\",\"orientation\":\"v\",\"showlegend\":true,\"x\":[15.120820045471191],\"xaxis\":\"x\",\"y\":[-47.508201599121094],\"yaxis\":\"y\",\"type\":\"scatter\"},{\"customdata\":[[\"Recommender systems are algorithms that provide personalized recommendations to users based on their preferences and behavior.\",\"What are recommender systems?\"]],\"hovertemplate\":\"arxiv_id=2105.05008\\u003cbr\\u003ex=%{x}\\u003cbr\\u003ey=%{y}\\u003cbr\\u003enugget_answer=%{customdata[0]}\\u003cbr\\u003enugget_question=%{customdata[1]}\\u003cextra\\u003e\\u003c\\u002fextra\\u003e\",\"legendgroup\":\"2105.05008\",\"marker\":{\"color\":\"#00cc96\",\"symbol\":\"circle\"},\"mode\":\"markers\",\"name\":\"2105.05008\",\"orientation\":\"v\",\"showlegend\":true,\"x\":[-115.57014465332031],\"xaxis\":\"x\",\"y\":[-24.95276641845703],\"yaxis\":\"y\",\"type\":\"scatter\"},{\"customdata\":[[\"Spiking Neural Networks (SNNs) are the third generation of Artificial Neural Networks (ANN) that have high biological plausibility, temporal information processing capability, and low power consumption on neuromorphic chips.\",\"What are Spiking Neural Networks (SNNs)?\"]],\"hovertemplate\":\"arxiv_id=2105.04916\\u003cbr\\u003ex=%{x}\\u003cbr\\u003ey=%{y}\\u003cbr\\u003enugget_answer=%{customdata[0]}\\u003cbr\\u003enugget_question=%{customdata[1]}\\u003cextra\\u003e\\u003c\\u002fextra\\u003e\",\"legendgroup\":\"2105.04916\",\"marker\":{\"color\":\"#ab63fa\",\"symbol\":\"circle\"},\"mode\":\"markers\",\"name\":\"2105.04916\",\"orientation\":\"v\",\"showlegend\":true,\"x\":[2.91337513923645],\"xaxis\":\"x\",\"y\":[27.693490982055664],\"yaxis\":\"y\",\"type\":\"scatter\"},{\"customdata\":[[\"Uncertainties in practical engineering systems can exist in various forms, such as randomness associated with geometrical configurations, material properties, boundary conditions, and loading conditions.\",\"What are some forms of uncertainties in practical engineering systems?\"]],\"hovertemplate\":\"arxiv_id=2105.04979\\u003cbr\\u003ex=%{x}\\u003cbr\\u003ey=%{y}\\u003cbr\\u003enugget_answer=%{customdata[0]}\\u003cbr\\u003enugget_question=%{customdata[1]}\\u003cextra\\u003e\\u003c\\u002fextra\\u003e\",\"legendgroup\":\"2105.04979\",\"marker\":{\"color\":\"#FFA15A\",\"symbol\":\"circle\"},\"mode\":\"markers\",\"name\":\"2105.04979\",\"orientation\":\"v\",\"showlegend\":true,\"x\":[123.64176940917969],\"xaxis\":\"x\",\"y\":[-20.69507598876953],\"yaxis\":\"y\",\"type\":\"scatter\"},{\"customdata\":[[\"The three main approaches to teach computer science are CS unplugged activities, Tangible Programming Languages (TPLs), and Visual Programming Languages (VPLs).\",\"What are the three main approaches to teach computer science?\"]],\"hovertemplate\":\"arxiv_id=2105.04963\\u003cbr\\u003ex=%{x}\\u003cbr\\u003ey=%{y}\\u003cbr\\u003enugget_answer=%{customdata[0]}\\u003cbr\\u003enugget_question=%{customdata[1]}\\u003cextra\\u003e\\u003c\\u002fextra\\u003e\",\"legendgroup\":\"2105.04963\",\"marker\":{\"color\":\"#19d3f3\",\"symbol\":\"circle\"},\"mode\":\"markers\",\"name\":\"2105.04963\",\"orientation\":\"v\",\"showlegend\":true,\"x\":[28.30478286743164],\"xaxis\":\"x\",\"y\":[99.2282485961914],\"yaxis\":\"y\",\"type\":\"scatter\"},{\"customdata\":[[\"The field of structural health monitoring (SHM) is concerned with the development and implementation of online data acquisition and processing systems for the purpose of damage detection in structures and infrastructure.\",\"What is the field of structural health monitoring (SHM) concerned with?\"]],\"hovertemplate\":\"arxiv_id=2105.05622\\u003cbr\\u003ex=%{x}\\u003cbr\\u003ey=%{y}\\u003cbr\\u003enugget_answer=%{customdata[0]}\\u003cbr\\u003enugget_question=%{customdata[1]}\\u003cextra\\u003e\\u003c\\u002fextra\\u003e\",\"legendgroup\":\"2105.05622\",\"marker\":{\"color\":\"#FF6692\",\"symbol\":\"circle\"},\"mode\":\"markers\",\"name\":\"2105.05622\",\"orientation\":\"v\",\"showlegend\":true,\"x\":[142.41659545898438],\"xaxis\":\"x\",\"y\":[57.37278747558594],\"yaxis\":\"y\",\"type\":\"scatter\"},{\"customdata\":[[\"The radiative transfer equation (RTE) describes particle propagation and interaction with a background medium.\",\"What does the radiative transfer equation (RTE) describe?\"]],\"hovertemplate\":\"arxiv_id=2105.05690\\u003cbr\\u003ex=%{x}\\u003cbr\\u003ey=%{y}\\u003cbr\\u003enugget_answer=%{customdata[0]}\\u003cbr\\u003enugget_question=%{customdata[1]}\\u003cextra\\u003e\\u003c\\u002fextra\\u003e\",\"legendgroup\":\"2105.05690\",\"marker\":{\"color\":\"#B6E880\",\"symbol\":\"circle\"},\"mode\":\"markers\",\"name\":\"2105.05690\",\"orientation\":\"v\",\"showlegend\":true,\"x\":[-129.62820434570312],\"xaxis\":\"x\",\"y\":[82.41614532470703],\"yaxis\":\"y\",\"type\":\"scatter\"},{\"customdata\":[[\"Parameterized quantum circuits, also known as variational quantum circuits, are algorithms that rely on adjusting the parameters of a quantum circuit to perform specific tasks. These circuits can be tailored to the restrictions of NISQ devices and can realize input-output correlations that are intractable for classical computation.\",\"What are parameterized quantum circuits?\"]],\"hovertemplate\":\"arxiv_id=2105.05566\\u003cbr\\u003ex=%{x}\\u003cbr\\u003ey=%{y}\\u003cbr\\u003enugget_answer=%{customdata[0]}\\u003cbr\\u003enugget_question=%{customdata[1]}\\u003cextra\\u003e\\u003c\\u002fextra\\u003e\",\"legendgroup\":\"2105.05566\",\"marker\":{\"color\":\"#FF97FF\",\"symbol\":\"circle\"},\"mode\":\"markers\",\"name\":\"2105.05566\",\"orientation\":\"v\",\"showlegend\":true,\"x\":[85.09703826904297],\"xaxis\":\"x\",\"y\":[-93.59994506835938],\"yaxis\":\"y\",\"type\":\"scatter\"},{\"customdata\":[[\"Geometric deep learning is the approach of using inherent geometric structure in data, and symmetry derived from geometry, to improve deep learning models.\",\"What is geometric deep learning?\"]],\"hovertemplate\":\"arxiv_id=2105.05400\\u003cbr\\u003ex=%{x}\\u003cbr\\u003ey=%{y}\\u003cbr\\u003enugget_answer=%{customdata[0]}\\u003cbr\\u003enugget_question=%{customdata[1]}\\u003cextra\\u003e\\u003c\\u002fextra\\u003e\",\"legendgroup\":\"2105.05400\",\"marker\":{\"color\":\"#FECB52\",\"symbol\":\"circle\"},\"mode\":\"markers\",\"name\":\"2105.05400\",\"orientation\":\"v\",\"showlegend\":true,\"x\":[14.881231307983398],\"xaxis\":\"x\",\"y\":[-83.8965835571289],\"yaxis\":\"y\",\"type\":\"scatter\"},{\"customdata\":[[\"Contemporary statistical models based on deep learning trade off interpretability and simplicity of traditional models for powerful parameterizations and inductive biases.\",\"What is the trade-off of contemporary statistical models based on deep learning?\"]],\"hovertemplate\":\"arxiv_id=2105.05641\\u003cbr\\u003ex=%{x}\\u003cbr\\u003ey=%{y}\\u003cbr\\u003enugget_answer=%{customdata[0]}\\u003cbr\\u003enugget_question=%{customdata[1]}\\u003cextra\\u003e\\u003c\\u002fextra\\u003e\",\"legendgroup\":\"2105.05641\",\"marker\":{\"color\":\"#636efa\",\"symbol\":\"circle\"},\"mode\":\"markers\",\"name\":\"2105.05641\",\"orientation\":\"v\",\"showlegend\":true,\"x\":[-16.018451690673828],\"xaxis\":\"x\",\"y\":[-30.592897415161133],\"yaxis\":\"y\",\"type\":\"scatter\"},{\"customdata\":[[\"The repetitive manipulation or modification of the mesh system in standard finite element method (FEM) is a key time-costly issue in simulation-based engineering applications, which has motivated the development of isogeometric approaches.\",\"What is the motivation for developing isogeometric approaches?\"]],\"hovertemplate\":\"arxiv_id=2105.06363\\u003cbr\\u003ex=%{x}\\u003cbr\\u003ey=%{y}\\u003cbr\\u003enugget_answer=%{customdata[0]}\\u003cbr\\u003enugget_question=%{customdata[1]}\\u003cextra\\u003e\\u003c\\u002fextra\\u003e\",\"legendgroup\":\"2105.06363\",\"marker\":{\"color\":\"#EF553B\",\"symbol\":\"circle\"},\"mode\":\"markers\",\"name\":\"2105.06363\",\"orientation\":\"v\",\"showlegend\":true,\"x\":[152.8948211669922],\"xaxis\":\"x\",\"y\":[9.016365051269531],\"yaxis\":\"y\",\"type\":\"scatter\"},{\"customdata\":[[\"Video on demand and music streaming services are among the most successful application domains of Recommender Systems.\",\"What are some successful application domains of Recommender Systems?\"]],\"hovertemplate\":\"arxiv_id=2105.06275\\u003cbr\\u003ex=%{x}\\u003cbr\\u003ey=%{y}\\u003cbr\\u003enugget_answer=%{customdata[0]}\\u003cbr\\u003enugget_question=%{customdata[1]}\\u003cextra\\u003e\\u003c\\u002fextra\\u003e\",\"legendgroup\":\"2105.06275\",\"marker\":{\"color\":\"#00cc96\",\"symbol\":\"circle\"},\"mode\":\"markers\",\"name\":\"2105.06275\",\"orientation\":\"v\",\"showlegend\":true,\"x\":[-119.66439056396484],\"xaxis\":\"x\",\"y\":[-60.188148498535156],\"yaxis\":\"y\",\"type\":\"scatter\"},{\"customdata\":[[\"Graph-structured data widely exist in diverse real-world scenarios, such as social networks, e-commerce graphs, citation graphs, and biological networks.\",\"What are some examples of real-world scenarios where graph-structured data exists?\"]],\"hovertemplate\":\"arxiv_id=2105.06725\\u003cbr\\u003ex=%{x}\\u003cbr\\u003ey=%{y}\\u003cbr\\u003enugget_answer=%{customdata[0]}\\u003cbr\\u003enugget_question=%{customdata[1]}\\u003cextra\\u003e\\u003c\\u002fextra\\u003e\",\"legendgroup\":\"2105.06725\",\"marker\":{\"color\":\"#ab63fa\",\"symbol\":\"circle\"},\"mode\":\"markers\",\"name\":\"2105.06725\",\"orientation\":\"v\",\"showlegend\":true,\"x\":[46.594966888427734],\"xaxis\":\"x\",\"y\":[-27.5775203704834],\"yaxis\":\"y\",\"type\":\"scatter\"},{\"customdata\":[[\"A primary objective of educational institutions is equity of outcome, such as degree attainment.\",\"What is a primary objective of educational institutions?\"]],\"hovertemplate\":\"arxiv_id=2105.06604\\u003cbr\\u003ex=%{x}\\u003cbr\\u003ey=%{y}\\u003cbr\\u003enugget_answer=%{customdata[0]}\\u003cbr\\u003enugget_question=%{customdata[1]}\\u003cextra\\u003e\\u003c\\u002fextra\\u003e\",\"legendgroup\":\"2105.06604\",\"marker\":{\"color\":\"#FFA15A\",\"symbol\":\"circle\"},\"mode\":\"markers\",\"name\":\"2105.06604\",\"orientation\":\"v\",\"showlegend\":true,\"x\":[-148.15380859375],\"xaxis\":\"x\",\"y\":[23.54733657836914],\"yaxis\":\"y\",\"type\":\"scatter\"},{\"customdata\":[[\"Multi-messenger astrophysics is a field of study that combines observations from different types of messengers, such as gravitational waves, electromagnetic waves, and neutrinos, to gain a more complete understanding of astrophysical phenomena.\",\"What is multi-messenger astrophysics?\"]],\"hovertemplate\":\"arxiv_id=2105.06479\\u003cbr\\u003ex=%{x}\\u003cbr\\u003ey=%{y}\\u003cbr\\u003enugget_answer=%{customdata[0]}\\u003cbr\\u003enugget_question=%{customdata[1]}\\u003cextra\\u003e\\u003c\\u002fextra\\u003e\",\"legendgroup\":\"2105.06479\",\"marker\":{\"color\":\"#19d3f3\",\"symbol\":\"circle\"},\"mode\":\"markers\",\"name\":\"2105.06479\",\"orientation\":\"v\",\"showlegend\":true,\"x\":[-95.9294204711914],\"xaxis\":\"x\",\"y\":[82.19340515136719],\"yaxis\":\"y\",\"type\":\"scatter\"},{\"customdata\":[[\"The motivation behind developing algorithms and models in the field of Responsible ML or Trustworthy ML is to ensure that machine learning systems behave in a socially responsible manner. With the increase in the deployment of ML systems in the real world, there is a need to embody qualities such as fairness, explainability, privacy, and robustness in these systems.\",\"What is the motivation behind developing algorithms and models in the field of Responsible ML or Trustworthy ML?\"]],\"hovertemplate\":\"arxiv_id=2105.06591\\u003cbr\\u003ex=%{x}\\u003cbr\\u003ey=%{y}\\u003cbr\\u003enugget_answer=%{customdata[0]}\\u003cbr\\u003enugget_question=%{customdata[1]}\\u003cextra\\u003e\\u003c\\u002fextra\\u003e\",\"legendgroup\":\"2105.06591\",\"marker\":{\"color\":\"#FF6692\",\"symbol\":\"circle\"},\"mode\":\"markers\",\"name\":\"2105.06591\",\"orientation\":\"v\",\"showlegend\":true,\"x\":[-39.59701919555664],\"xaxis\":\"x\",\"y\":[-83.97456359863281],\"yaxis\":\"y\",\"type\":\"scatter\"},{\"customdata\":[[\"Standard neural networks fit a single point estimate of their weights, while Bayesian neural networks infer a posterior distribution over their weights given training data.\",\"What is the difference between standard neural networks and Bayesian neural networks?\"]],\"hovertemplate\":\"arxiv_id=2105.06964\\u003cbr\\u003ex=%{x}\\u003cbr\\u003ey=%{y}\\u003cbr\\u003enugget_answer=%{customdata[0]}\\u003cbr\\u003enugget_question=%{customdata[1]}\\u003cextra\\u003e\\u003c\\u002fextra\\u003e\",\"legendgroup\":\"2105.06964\",\"marker\":{\"color\":\"#B6E880\",\"symbol\":\"circle\"},\"mode\":\"markers\",\"name\":\"2105.06964\",\"orientation\":\"v\",\"showlegend\":true,\"x\":[13.155715942382812],\"xaxis\":\"x\",\"y\":[-11.780756950378418],\"yaxis\":\"y\",\"type\":\"scatter\"},{\"customdata\":[[\"Current tests to diagnose hearing loss require the active participation of the person being tested, which can be labor and time-intensive.\",\"Why are current tests to diagnose hearing loss labor and time-intensive?\"]],\"hovertemplate\":\"arxiv_id=2105.06844\\u003cbr\\u003ex=%{x}\\u003cbr\\u003ey=%{y}\\u003cbr\\u003enugget_answer=%{customdata[0]}\\u003cbr\\u003enugget_question=%{customdata[1]}\\u003cextra\\u003e\\u003c\\u002fextra\\u003e\",\"legendgroup\":\"2105.06844\",\"marker\":{\"color\":\"#FF97FF\",\"symbol\":\"circle\"},\"mode\":\"markers\",\"name\":\"2105.06844\",\"orientation\":\"v\",\"showlegend\":true,\"x\":[39.25825881958008],\"xaxis\":\"x\",\"y\":[147.47987365722656],\"yaxis\":\"y\",\"type\":\"scatter\"}],                        {\"template\":{\"data\":{\"histogram2dcontour\":[{\"type\":\"histogram2dcontour\",\"colorbar\":{\"outlinewidth\":0,\"ticks\":\"\"},\"colorscale\":[[0.0,\"#0d0887\"],[0.1111111111111111,\"#46039f\"],[0.2222222222222222,\"#7201a8\"],[0.3333333333333333,\"#9c179e\"],[0.4444444444444444,\"#bd3786\"],[0.5555555555555556,\"#d8576b\"],[0.6666666666666666,\"#ed7953\"],[0.7777777777777778,\"#fb9f3a\"],[0.8888888888888888,\"#fdca26\"],[1.0,\"#f0f921\"]]}],\"choropleth\":[{\"type\":\"choropleth\",\"colorbar\":{\"outlinewidth\":0,\"ticks\":\"\"}}],\"histogram2d\":[{\"type\":\"histogram2d\",\"colorbar\":{\"outlinewidth\":0,\"ticks\":\"\"},\"colorscale\":[[0.0,\"#0d0887\"],[0.1111111111111111,\"#46039f\"],[0.2222222222222222,\"#7201a8\"],[0.3333333333333333,\"#9c179e\"],[0.4444444444444444,\"#bd3786\"],[0.5555555555555556,\"#d8576b\"],[0.6666666666666666,\"#ed7953\"],[0.7777777777777778,\"#fb9f3a\"],[0.8888888888888888,\"#fdca26\"],[1.0,\"#f0f921\"]]}],\"heatmap\":[{\"type\":\"heatmap\",\"colorbar\":{\"outlinewidth\":0,\"ticks\":\"\"},\"colorscale\":[[0.0,\"#0d0887\"],[0.1111111111111111,\"#46039f\"],[0.2222222222222222,\"#7201a8\"],[0.3333333333333333,\"#9c179e\"],[0.4444444444444444,\"#bd3786\"],[0.5555555555555556,\"#d8576b\"],[0.6666666666666666,\"#ed7953\"],[0.7777777777777778,\"#fb9f3a\"],[0.8888888888888888,\"#fdca26\"],[1.0,\"#f0f921\"]]}],\"heatmapgl\":[{\"type\":\"heatmapgl\",\"colorbar\":{\"outlinewidth\":0,\"ticks\":\"\"},\"colorscale\":[[0.0,\"#0d0887\"],[0.1111111111111111,\"#46039f\"],[0.2222222222222222,\"#7201a8\"],[0.3333333333333333,\"#9c179e\"],[0.4444444444444444,\"#bd3786\"],[0.5555555555555556,\"#d8576b\"],[0.6666666666666666,\"#ed7953\"],[0.7777777777777778,\"#fb9f3a\"],[0.8888888888888888,\"#fdca26\"],[1.0,\"#f0f921\"]]}],\"contourcarpet\":[{\"type\":\"contourcarpet\",\"colorbar\":{\"outlinewidth\":0,\"ticks\":\"\"}}],\"contour\":[{\"type\":\"contour\",\"colorbar\":{\"outlinewidth\":0,\"ticks\":\"\"},\"colorscale\":[[0.0,\"#0d0887\"],[0.1111111111111111,\"#46039f\"],[0.2222222222222222,\"#7201a8\"],[0.3333333333333333,\"#9c179e\"],[0.4444444444444444,\"#bd3786\"],[0.5555555555555556,\"#d8576b\"],[0.6666666666666666,\"#ed7953\"],[0.7777777777777778,\"#fb9f3a\"],[0.8888888888888888,\"#fdca26\"],[1.0,\"#f0f921\"]]}],\"surface\":[{\"type\":\"surface\",\"colorbar\":{\"outlinewidth\":0,\"ticks\":\"\"},\"colorscale\":[[0.0,\"#0d0887\"],[0.1111111111111111,\"#46039f\"],[0.2222222222222222,\"#7201a8\"],[0.3333333333333333,\"#9c179e\"],[0.4444444444444444,\"#bd3786\"],[0.5555555555555556,\"#d8576b\"],[0.6666666666666666,\"#ed7953\"],[0.7777777777777778,\"#fb9f3a\"],[0.8888888888888888,\"#fdca26\"],[1.0,\"#f0f921\"]]}],\"mesh3d\":[{\"type\":\"mesh3d\",\"colorbar\":{\"outlinewidth\":0,\"ticks\":\"\"}}],\"scatter\":[{\"fillpattern\":{\"fillmode\":\"overlay\",\"size\":10,\"solidity\":0.2},\"type\":\"scatter\"}],\"parcoords\":[{\"type\":\"parcoords\",\"line\":{\"colorbar\":{\"outlinewidth\":0,\"ticks\":\"\"}}}],\"scatterpolargl\":[{\"type\":\"scatterpolargl\",\"marker\":{\"colorbar\":{\"outlinewidth\":0,\"ticks\":\"\"}}}],\"bar\":[{\"error_x\":{\"color\":\"#2a3f5f\"},\"error_y\":{\"color\":\"#2a3f5f\"},\"marker\":{\"line\":{\"color\":\"#E5ECF6\",\"width\":0.5},\"pattern\":{\"fillmode\":\"overlay\",\"size\":10,\"solidity\":0.2}},\"type\":\"bar\"}],\"scattergeo\":[{\"type\":\"scattergeo\",\"marker\":{\"colorbar\":{\"outlinewidth\":0,\"ticks\":\"\"}}}],\"scatterpolar\":[{\"type\":\"scatterpolar\",\"marker\":{\"colorbar\":{\"outlinewidth\":0,\"ticks\":\"\"}}}],\"histogram\":[{\"marker\":{\"pattern\":{\"fillmode\":\"overlay\",\"size\":10,\"solidity\":0.2}},\"type\":\"histogram\"}],\"scattergl\":[{\"type\":\"scattergl\",\"marker\":{\"colorbar\":{\"outlinewidth\":0,\"ticks\":\"\"}}}],\"scatter3d\":[{\"type\":\"scatter3d\",\"line\":{\"colorbar\":{\"outlinewidth\":0,\"ticks\":\"\"}},\"marker\":{\"colorbar\":{\"outlinewidth\":0,\"ticks\":\"\"}}}],\"scattermapbox\":[{\"type\":\"scattermapbox\",\"marker\":{\"colorbar\":{\"outlinewidth\":0,\"ticks\":\"\"}}}],\"scatterternary\":[{\"type\":\"scatterternary\",\"marker\":{\"colorbar\":{\"outlinewidth\":0,\"ticks\":\"\"}}}],\"scattercarpet\":[{\"type\":\"scattercarpet\",\"marker\":{\"colorbar\":{\"outlinewidth\":0,\"ticks\":\"\"}}}],\"carpet\":[{\"aaxis\":{\"endlinecolor\":\"#2a3f5f\",\"gridcolor\":\"white\",\"linecolor\":\"white\",\"minorgridcolor\":\"white\",\"startlinecolor\":\"#2a3f5f\"},\"baxis\":{\"endlinecolor\":\"#2a3f5f\",\"gridcolor\":\"white\",\"linecolor\":\"white\",\"minorgridcolor\":\"white\",\"startlinecolor\":\"#2a3f5f\"},\"type\":\"carpet\"}],\"table\":[{\"cells\":{\"fill\":{\"color\":\"#EBF0F8\"},\"line\":{\"color\":\"white\"}},\"header\":{\"fill\":{\"color\":\"#C8D4E3\"},\"line\":{\"color\":\"white\"}},\"type\":\"table\"}],\"barpolar\":[{\"marker\":{\"line\":{\"color\":\"#E5ECF6\",\"width\":0.5},\"pattern\":{\"fillmode\":\"overlay\",\"size\":10,\"solidity\":0.2}},\"type\":\"barpolar\"}],\"pie\":[{\"automargin\":true,\"type\":\"pie\"}]},\"layout\":{\"autotypenumbers\":\"strict\",\"colorway\":[\"#636efa\",\"#EF553B\",\"#00cc96\",\"#ab63fa\",\"#FFA15A\",\"#19d3f3\",\"#FF6692\",\"#B6E880\",\"#FF97FF\",\"#FECB52\"],\"font\":{\"color\":\"#2a3f5f\"},\"hovermode\":\"closest\",\"hoverlabel\":{\"align\":\"left\"},\"paper_bgcolor\":\"white\",\"plot_bgcolor\":\"#E5ECF6\",\"polar\":{\"bgcolor\":\"#E5ECF6\",\"angularaxis\":{\"gridcolor\":\"white\",\"linecolor\":\"white\",\"ticks\":\"\"},\"radialaxis\":{\"gridcolor\":\"white\",\"linecolor\":\"white\",\"ticks\":\"\"}},\"ternary\":{\"bgcolor\":\"#E5ECF6\",\"aaxis\":{\"gridcolor\":\"white\",\"linecolor\":\"white\",\"ticks\":\"\"},\"baxis\":{\"gridcolor\":\"white\",\"linecolor\":\"white\",\"ticks\":\"\"},\"caxis\":{\"gridcolor\":\"white\",\"linecolor\":\"white\",\"ticks\":\"\"}},\"coloraxis\":{\"colorbar\":{\"outlinewidth\":0,\"ticks\":\"\"}},\"colorscale\":{\"sequential\":[[0.0,\"#0d0887\"],[0.1111111111111111,\"#46039f\"],[0.2222222222222222,\"#7201a8\"],[0.3333333333333333,\"#9c179e\"],[0.4444444444444444,\"#bd3786\"],[0.5555555555555556,\"#d8576b\"],[0.6666666666666666,\"#ed7953\"],[0.7777777777777778,\"#fb9f3a\"],[0.8888888888888888,\"#fdca26\"],[1.0,\"#f0f921\"]],\"sequentialminus\":[[0.0,\"#0d0887\"],[0.1111111111111111,\"#46039f\"],[0.2222222222222222,\"#7201a8\"],[0.3333333333333333,\"#9c179e\"],[0.4444444444444444,\"#bd3786\"],[0.5555555555555556,\"#d8576b\"],[0.6666666666666666,\"#ed7953\"],[0.7777777777777778,\"#fb9f3a\"],[0.8888888888888888,\"#fdca26\"],[1.0,\"#f0f921\"]],\"diverging\":[[0,\"#8e0152\"],[0.1,\"#c51b7d\"],[0.2,\"#de77ae\"],[0.3,\"#f1b6da\"],[0.4,\"#fde0ef\"],[0.5,\"#f7f7f7\"],[0.6,\"#e6f5d0\"],[0.7,\"#b8e186\"],[0.8,\"#7fbc41\"],[0.9,\"#4d9221\"],[1,\"#276419\"]]},\"xaxis\":{\"gridcolor\":\"white\",\"linecolor\":\"white\",\"ticks\":\"\",\"title\":{\"standoff\":15},\"zerolinecolor\":\"white\",\"automargin\":true,\"zerolinewidth\":2},\"yaxis\":{\"gridcolor\":\"white\",\"linecolor\":\"white\",\"ticks\":\"\",\"title\":{\"standoff\":15},\"zerolinecolor\":\"white\",\"automargin\":true,\"zerolinewidth\":2},\"scene\":{\"xaxis\":{\"backgroundcolor\":\"#E5ECF6\",\"gridcolor\":\"white\",\"linecolor\":\"white\",\"showbackground\":true,\"ticks\":\"\",\"zerolinecolor\":\"white\",\"gridwidth\":2},\"yaxis\":{\"backgroundcolor\":\"#E5ECF6\",\"gridcolor\":\"white\",\"linecolor\":\"white\",\"showbackground\":true,\"ticks\":\"\",\"zerolinecolor\":\"white\",\"gridwidth\":2},\"zaxis\":{\"backgroundcolor\":\"#E5ECF6\",\"gridcolor\":\"white\",\"linecolor\":\"white\",\"showbackground\":true,\"ticks\":\"\",\"zerolinecolor\":\"white\",\"gridwidth\":2}},\"shapedefaults\":{\"line\":{\"color\":\"#2a3f5f\"}},\"annotationdefaults\":{\"arrowcolor\":\"#2a3f5f\",\"arrowhead\":0,\"arrowwidth\":1},\"geo\":{\"bgcolor\":\"white\",\"landcolor\":\"#E5ECF6\",\"subunitcolor\":\"white\",\"showland\":true,\"showlakes\":true,\"lakecolor\":\"white\"},\"title\":{\"x\":0.05},\"mapbox\":{\"style\":\"light\"}}},\"xaxis\":{\"anchor\":\"y\",\"domain\":[0.0,1.0],\"title\":{\"text\":\"x\"}},\"yaxis\":{\"anchor\":\"x\",\"domain\":[0.0,1.0],\"title\":{\"text\":\"y\"}},\"legend\":{\"title\":{\"text\":\"arxiv_id\"},\"tracegroupgap\":0},\"margin\":{\"t\":60}},                        {\"responsive\": true}                    ).then(function(){\n",
       "                            \n",
       "var gd = document.getElementById('3beac9ea-b0b6-4fa6-92ef-5e38334eab7c');\n",
       "var x = new MutationObserver(function (mutations, observer) {{\n",
       "        var display = window.getComputedStyle(gd).display;\n",
       "        if (!display || display === 'none') {{\n",
       "            console.log([gd, 'removed!']);\n",
       "            Plotly.purge(gd);\n",
       "            observer.disconnect();\n",
       "        }}\n",
       "}});\n",
       "\n",
       "// Listen for the removal of the full notebook cells\n",
       "var notebookContainer = gd.closest('#notebook-container');\n",
       "if (notebookContainer) {{\n",
       "    x.observe(notebookContainer, {childList: true});\n",
       "}}\n",
       "\n",
       "// Listen for the clearing of the current output cell\n",
       "var outputEl = gd.closest('.output');\n",
       "if (outputEl) {{\n",
       "    x.observe(outputEl, {childList: true});\n",
       "}}\n",
       "\n",
       "                        })                };                });            </script>        </div>"
      ]
     },
     "metadata": {},
     "output_type": "display_data"
    }
   ],
   "source": [
    "\n",
    "# Initialize empty lists\n",
    "all_embeddings = []\n",
    "all_arxiv_ids = []\n",
    "all_nugget_answers = []\n",
    "all_nugget_questions = []\n",
    "\n",
    "# Iterate over dataset to collect all embeddings and corresponding arxiv_id\n",
    "for arxiv_id, data in dataset.items():\n",
    "    for block in data['blocks']:\n",
    "        for nugget in block.get(\"nuggets\", []):\n",
    "            all_embeddings.append(np.array(nugget['embedding']))\n",
    "            all_arxiv_ids.append(arxiv_id) \n",
    "            all_nugget_answers.append(nugget['answer'])\n",
    "            all_nugget_questions.append(nugget['question'])\n",
    "            break\n",
    "\n",
    "# Convert lists to numpy arrays\n",
    "all_embeddings = np.array(all_embeddings)\n",
    "all_arxiv_ids = np.array(all_arxiv_ids)\n",
    "all_nugget_answers = np.array(all_nugget_answers)\n",
    "all_nugget_questions = np.array(all_nugget_questions)\n",
    "# Compute t-SNE\n",
    "tsne = TSNE(n_components=2, random_state=0,init=\"pca\")\n",
    "tsne_embeddings = tsne.fit_transform(all_embeddings)\n",
    "\n",
    "# Create a DataFrame to hold t-SNE, arxiv_id and nugget_answers\n",
    "df = pd.DataFrame({\n",
    "    'x': tsne_embeddings[:, 0],\n",
    "    'y': tsne_embeddings[:, 1],\n",
    "    'arxiv_id': all_arxiv_ids,\n",
    "    'nugget_question': all_nugget_questions,\n",
    "    'nugget_answer': all_nugget_answers\n",
    "})\n",
    "\n",
    "# Plot with plotly\n",
    "fig = px.scatter(df, x='x', y='y', color='arxiv_id', hover_data=['nugget_answer', 'nugget_question'])\n",
    "fig.show()\n"
   ]
  },
  {
   "cell_type": "code",
   "execution_count": 14,
   "metadata": {},
   "outputs": [
    {
     "name": "stderr",
     "output_type": "stream",
     "text": [
      "/home/mila/w/weissmar/.conda/envs/tn/lib/python3.8/site-packages/sklearn/manifold/_t_sne.py:795: FutureWarning:\n",
      "\n",
      "The default initialization in TSNE will change from 'random' to 'pca' in 1.2.\n",
      "\n",
      "/home/mila/w/weissmar/.conda/envs/tn/lib/python3.8/site-packages/sklearn/manifold/_t_sne.py:805: FutureWarning:\n",
      "\n",
      "The default learning rate in TSNE will change from 200.0 to 'auto' in 1.2.\n",
      "\n"
     ]
    },
    {
     "data": {
      "application/vnd.plotly.v1+json": {
       "config": {
        "plotlyServerURL": "https://plot.ly"
       },
       "data": [
        {
         "customdata": [
          [
           "The Integrated Sachs-Wolfe effect is a late-time re-procession of CMB patterns by the cosmic web."
          ],
          [
           "The Rees-Sciama effect is a late-time re-procession of CMB patterns on smaller scales."
          ],
          [
           "The amplitude of the ISW signal in cross-correlation with tracers of the matter distribution is approximately 1.38±0.32."
          ],
          [
           "The Planck team found an amplitude of the ISW signal of approximately 1.00±0.25 in cross-correlation functions."
          ],
          [
           "No high-significance detection of the ISW signal has been reported using catalogues of voids and superclusters."
          ],
          [
           "The detection significance of the ISW signal from isolated voids and superclusters in the BOSS data was 3.1σ."
          ],
          [
           "The detection significance of the ISW signal from voids with the most probable voids is approximately 3.4σ."
          ],
          [
           "The range of values reported for the ISW signal using stacking probes with merged sub-voids or supervoids is approximately 10."
          ],
          [
           "This paper uses a BOSS DR12 void catalogue called 'minimal' voids."
          ],
          [
           "The purpose of this paper is to test claims about the ISW signal using a different type of void catalogue and to study the implications of the findings."
          ]
         ],
         "hovertemplate": "arxiv_id=1701.08583<br>x=%{x}<br>y=%{y}<br>nugget_answer=%{customdata[0]}<extra></extra>",
         "legendgroup": "1701.08583",
         "marker": {
          "color": "#636efa",
          "symbol": "circle"
         },
         "mode": "markers",
         "name": "1701.08583",
         "orientation": "v",
         "showlegend": true,
         "type": "scatter",
         "x": [
          -23.709976196289062,
          -23.69084358215332,
          27.3092041015625,
          27.22140121459961,
          26.382587432861328,
          27.29556655883789,
          27.7257022857666,
          28.55935287475586,
          29.143413543701172,
          28.341691970825195
         ],
         "xaxis": "x",
         "y": [
          -10.015315055847168,
          -10.014915466308594,
          -1.6530016660690308,
          -1.8776729106903076,
          1.6242674589157104,
          0.6934676766395569,
          0.4696137607097626,
          0.07187481969594955,
          2.9466135501861572,
          2.386098623275757
         ],
         "yaxis": "y"
        },
        {
         "customdata": [
          [
           "Physical processes such as radiative cooling, star formation, and feedback processes."
          ],
          [
           "By ignoring the effects of physical processes on the distribution of baryons and dark matter."
          ],
          [
           "Ignoring the effects of physical processes on large-scale structure."
          ],
          [
           "The tension between observed abundance of massive clusters and predictions based on a {it Planck} cosmology."
          ],
          [
           "At least 0.06 eV (0.1 eV) when adopting a normal (inverted) hierarchy."
          ],
          [
           "Neutrinos act as a form of hot dark matter that resists significant gravitational collapse."
          ],
          [
           "To examine the combined effects of baryon physics and massive neutrinos on large-scale structure."
          ],
          [
           "i) the halo mass function; ii) total mass density profiles in bins of halo mass; iii) the mass-concentration relation; iv) the spatial clustering of haloes; v) the clustering of matter."
          ],
          [
           "By treating the effects of baryon physics and neutrinos independently and multiplying their separate effects."
          ]
         ],
         "hovertemplate": "arxiv_id=1702.02064<br>x=%{x}<br>y=%{y}<br>nugget_answer=%{customdata[0]}<extra></extra>",
         "legendgroup": "1702.02064",
         "marker": {
          "color": "#EF553B",
          "symbol": "circle"
         },
         "mode": "markers",
         "name": "1702.02064",
         "orientation": "v",
         "showlegend": true,
         "type": "scatter",
         "x": [
          -19.117523193359375,
          -28.037874221801758,
          -27.721736907958984,
          -15.356151580810547,
          33.93764877319336,
          -34.54612731933594,
          -28.074472427368164,
          -22.771310806274414,
          -28.50849151611328
         ],
         "xaxis": "x",
         "y": [
          10.358328819274902,
          -11.649763107299805,
          -12.092222213745117,
          2.546645402908325,
          -18.61853790283203,
          -4.8051018714904785,
          -9.045073509216309,
          3.5874361991882324,
          -10.813465118408203
         ],
         "yaxis": "y"
        },
        {
         "customdata": [
          [
           "Tracing the star-formation rate of galaxies across cosmic time."
          ],
          [
           "It sheds light on the build up of stellar mass and metal content at early times and clarifies the process of cosmic reionization."
          ],
          [
           "The lack of far-infrared (FIR) data for galaxies at z > 3."
          ],
          [
           "The citet{meurer1999} (M99) IRX-$\\beta$ relation."
          ],
          [
           "Calzetti-like reddening."
          ],
          [
           "The attenuation curve may be as steep, or steeper, than the SMC extinction curve at these redshifts."
          ],
          [
           "Previous UV luminosity corrections may have overestimated the dust attenuation and intrinsic luminosities at z ~ 3."
          ],
          [
           "No, direct measurements have not found strong evidence for a steep SMC-like curve."
          ],
          [
           "To use hydrodynamical simulations to constrain the form of the attenuation curve at z = 5."
          ],
          [
           "Because there is good consistency between measurements of the luminosity function and color magnitude relation at this redshift."
          ]
         ],
         "hovertemplate": "arxiv_id=1701.07869<br>x=%{x}<br>y=%{y}<br>nugget_answer=%{customdata[0]}<extra></extra>",
         "legendgroup": "1701.07869",
         "marker": {
          "color": "#00cc96",
          "symbol": "circle"
         },
         "mode": "markers",
         "name": "1701.07869",
         "orientation": "v",
         "showlegend": true,
         "type": "scatter",
         "x": [
          -11.576272010803223,
          -11.406837463378906,
          7.54652214050293,
          15.5901517868042,
          11.690258979797363,
          -2.4053080081939697,
          7.492292404174805,
          -0.7562282681465149,
          18.921537399291992,
          -3.656283140182495
         ],
         "xaxis": "x",
         "y": [
          12.879267692565918,
          9.79880142211914,
          0.4692087769508362,
          -2.6902916431427,
          18.400619506835938,
          5.246615409851074,
          -0.1405579149723053,
          4.496409893035889,
          0.131320983171463,
          4.42893648147583
         ],
         "yaxis": "y"
        },
        {
         "customdata": [
          [
           "Ultracool dwarfs are the lowest-mass members of the stellar population, encompassing the coolest stars, brown dwarfs, and planetary-mass objects."
          ],
          [
           "The discovery of brown dwarfs over 20 years ago launched the understanding of ultracool atmospheres."
          ],
          [
           "Wide-field imaging surveys such as DENIS, SDSS, 2MASS, UKIDSS, and WISE have been major drivers for ultracool discoveries."
          ],
          [
           "Large photometric samples have provided much of our fundamental knowledge about ultracool dwarfs."
          ],
          [
           "The surprising diversity of near-IR colors in L dwarfs is believed to be caused by variations in surface gravity and/or dusty clouds, or thermo-chemical instabilities."
          ],
          [
           "During the transition from L to T spectral types, there is a dramatic shift to bluer near-IR colors thought to be driven by the clearing of clouds and the formation of methane."
          ],
          [
           "UKIDSS and WISE have illustrated the diversity of late-T and Y dwarf near- and mid-IR colors."
          ],
          [
           "Large samples have revealed the mass and luminosity functions of the local ultracool population."
          ],
          [
           "Measurements of the space density of brown dwarfs have identified a relative paucity of L/T transition dwarfs, indicating that this evolutionary phase is short-lived."
          ],
          [
           "Proper motions have enabled searches to distinguish ultracool dwarfs from distant luminous red objects and to determine whether individual discoveries are members of star-forming regions."
          ],
          [
           "Proper motions have helped to find objects in crowded areas of the sky such as the Galactic plane and to identify ultracool dwarfs with atypical colors that were missed by color cuts used in photometry-only searches."
          ],
          [
           "Several studies have found clear evidence for dynamically cold (slow-moving) and hot (fast-moving) populations of ultracool dwarfs that are consistent with thin disk and thick disk/halo populations."
          ]
         ],
         "hovertemplate": "arxiv_id=1701.00490<br>x=%{x}<br>y=%{y}<br>nugget_answer=%{customdata[0]}<extra></extra>",
         "legendgroup": "1701.00490",
         "marker": {
          "color": "#ab63fa",
          "symbol": "circle"
         },
         "mode": "markers",
         "name": "1701.00490",
         "orientation": "v",
         "showlegend": true,
         "type": "scatter",
         "x": [
          8.677417755126953,
          11.052414894104004,
          11.8762788772583,
          10.679110527038574,
          8.263300895690918,
          8.299899101257324,
          9.361594200134277,
          10.411331176757812,
          6.684464931488037,
          12.179253578186035,
          12.613485336303711,
          8.999746322631836
         ],
         "xaxis": "x",
         "y": [
          31.291990280151367,
          31.095643997192383,
          27.977693557739258,
          30.137693405151367,
          26.789226531982422,
          25.523996353149414,
          27.04144287109375,
          29.30283546447754,
          30.459354400634766,
          29.669828414916992,
          29.54413604736328,
          30.25620460510254
         ],
         "yaxis": "y"
        },
        {
         "customdata": [
          [
           "Observational evidences in black hole X-ray binaries (BHBs) and active galactic nuclei (AGNs) support the coupling between the collimated relativistic jet and the accretion flow."
          ],
          [
           "There is a tight correlation between radio and X-ray luminosities in black hole X-ray binaries during their hard states."
          ],
          [
           "The relationship between radio luminosity, X-ray luminosity, and black hole mass in black hole X-ray binaries and low-luminosity active galactic nuclei is given by the equation: log(Lr) = 0.6log(Lx) + 0.78log(Mbh) + 7.33."
          ],
          [
           "The coupled accretion-jet model proposes that the thermal gas in a hot accretion flow is responsible for the X-ray emission, while the relativistic power-law distribution electrons in a jet produce the radio emission."
          ],
          [
           "The scatter in the correlation between radio and X-ray luminosities in black hole X-ray binaries and low-luminosity active galactic nuclei is 0.88 dex."
          ],
          [
           "The scatter in the correlation between radio and X-ray luminosities in black hole X-ray binaries and low-luminosity active galactic nuclei may be influenced by factors such as intrinsic variability in radio and X-rays, black hole spin, magnetic field strength, Doppler beaming effect, angular momentum of the accreting gas, and the environment."
          ],
          [
           "Active galactic nuclei with different radio loudness seem to follow relationships that are different in both normalization and correlation slope."
          ],
          [
           "Some black hole X-ray binaries and active galactic nuclei do not follow the correlation between radio and X-ray luminosities predicted by the original M03 FP during their fluctuations in luminosities."
          ],
          [
           "Some black hole X-ray binaries and active galactic nuclei exhibit a hybrid radio/X-ray correlation, where the radio luminosity is proportional to the X-ray luminosity to the power of approximately 1.3 when the X-ray luminosity is high, proportional to the X-ray luminosity to the power of approximately 0 when the X-ray luminosity is moderately low, and follows the original M03 FP when the X-ray luminosity is much lower."
          ],
          [
           "Quiescent active galactic nuclei, which have extremely low luminosities, do not follow the same correlation between radio and X-ray luminosities as normal low-luminosity active galactic nuclei."
          ],
          [
           "The difference in the correlation between radio and X-ray luminosities in quiescent active galactic nuclei compared to normal low-luminosity active galactic nuclei is due to the change in the origin of the X-ray emission. In quiescent active galactic nuclei, the X-ray emission originates from the jet instead of the hot accretion flow."
          ],
          [
           "In faint accretion systems, the relationship between radio luminosity and X-ray luminosity is steeper compared to normal low-luminosity active galactic nuclei."
          ]
         ],
         "hovertemplate": "arxiv_id=1701.06143<br>x=%{x}<br>y=%{y}<br>nugget_answer=%{customdata[0]}<extra></extra>",
         "legendgroup": "1701.06143",
         "marker": {
          "color": "#FFA15A",
          "symbol": "circle"
         },
         "mode": "markers",
         "name": "1701.06143",
         "orientation": "v",
         "showlegend": true,
         "type": "scatter",
         "x": [
          -5.825737953186035,
          -4.686333179473877,
          -4.466595649719238,
          -6.1482086181640625,
          -2.855327844619751,
          -3.4890360832214355,
          -1.241023302078247,
          -1.2172201871871948,
          -3.727125406265259,
          -1.7371556758880615,
          -2.4358766078948975,
          -3.0582938194274902
         ],
         "xaxis": "x",
         "y": [
          -8.100990295410156,
          -5.5333476066589355,
          -4.238574028015137,
          -9.392927169799805,
          -5.457055568695068,
          -5.215956687927246,
          -2.488398790359497,
          -3.9866795539855957,
          -4.498941898345947,
          -3.302356004714966,
          -3.630467414855957,
          -2.850098133087158
         ],
         "yaxis": "y"
        },
        {
         "customdata": [
          [
           "Core-collapse supernovae are the deaths of stars with initial masses heavier than about 8 solar masses."
          ],
          [
           "Core-collapse supernovae are important sources of trans-iron species as well as intermediate-mass and iron-group elements."
          ],
          [
           "Traditional studies of CCSN nucleosynthesis are based on artificial one-dimensional explosion models with free parameters."
          ],
          [
           "The free parameters in traditional CCSN nucleosynthesis models include the mass-cut, the electron fraction of the ejecta, and the explosion energy."
          ],
          [
           "Parameterized models fail to reproduce the thermodynamic history of the neutrino-driven ejecta, where the electron fraction and entropy are reset by neutrino interactions."
          ],
          [
           "It is difficult to predict nucleosynthesis of iron-group and trans-iron elements based on parameterized models because they do not capture the nucleosynthesis in the innermost ejecta."
          ],
          [
           "It is important to complement existing studies of nucleosynthesis with more consistent models of the supernova engine to improve predictions of nucleosynthesis in the innermost ejecta."
          ]
         ],
         "hovertemplate": "arxiv_id=1701.06786<br>x=%{x}<br>y=%{y}<br>nugget_answer=%{customdata[0]}<extra></extra>",
         "legendgroup": "1701.06786",
         "marker": {
          "color": "#19d3f3",
          "symbol": "circle"
         },
         "mode": "markers",
         "name": "1701.06786",
         "orientation": "v",
         "showlegend": true,
         "type": "scatter",
         "x": [
          -15.147476196289062,
          -15.074533462524414,
          -21.0059871673584,
          -20.882381439208984,
          -18.978673934936523,
          -18.300004959106445,
          -17.808591842651367
         ],
         "xaxis": "x",
         "y": [
          24.45587158203125,
          24.893739700317383,
          -15.476807594299316,
          -15.191587448120117,
          -13.087748527526855,
          -13.807103157043457,
          -14.441171646118164
         ],
         "yaxis": "y"
        },
        {
         "customdata": [
          [
           "Hubble"
          ],
          [
           "Elliptical galaxies are dispersion-dominated, while disk galaxies are rotation dominated."
          ],
          [
           "Elliptical galaxies also contain a substantial fraction of rotating component."
          ],
          [
           "Spin"
          ],
          [
           "As rotating disks"
          ],
          [
           "The role of mergers in determining the final morphology of a galaxy is not clear."
          ],
          [
           "The ratio between slow and fast rotators in a cosmological context"
          ],
          [
           "Merger remnants can approximate the spin-ellipticity distribution of observed galaxies."
          ],
          [
           "Massive round slow rotators through major and minor mergers"
          ],
          [
           "To examine the evolutions of thousands of galaxies in simulated clusters and understand the general trend of galaxy spin evolution."
          ]
         ],
         "hovertemplate": "arxiv_id=1702.00517<br>x=%{x}<br>y=%{y}<br>nugget_answer=%{customdata[0]}<extra></extra>",
         "legendgroup": "1702.00517",
         "marker": {
          "color": "#FF6692",
          "symbol": "circle"
         },
         "mode": "markers",
         "name": "1702.00517",
         "orientation": "v",
         "showlegend": true,
         "type": "scatter",
         "x": [
          31.13379669189453,
          -24.38145637512207,
          -24.656599044799805,
          3.3750972747802734,
          -34.245506286621094,
          -25.500518798828125,
          -31.118701934814453,
          -25.4661808013916,
          -28.52876091003418,
          5.90326452255249
         ],
         "xaxis": "x",
         "y": [
          19.283008575439453,
          16.793601989746094,
          15.90371322631836,
          -16.475908279418945,
          14.88118839263916,
          11.77907657623291,
          13.437349319458008,
          13.808816909790039,
          11.785502433776855,
          13.576119422912598
         ],
         "yaxis": "y"
        },
        {
         "customdata": [
          [
           "High-mass star formation plays a critical part in the evolution of galaxies."
          ],
          [
           "High-mass star formation starts in massive cold and dense gravitationally bound clumps that subsequently collapse and fragment into cores."
          ],
          [
           "The protostars in high-mass star formation are called massive young stellar objects (MYSOs)."
          ],
          [
           "The formation of an HII region signifies the arrival of the embedded MYSO onto the main sequence and is a key stage in the evolution of massive stars."
          ],
          [
           "Yes, high-mass stars continue to accrete material even after the formation of an HII region."
          ],
          [
           "Investigating HII regions in their earliest stages allows us to determine at what evolutionary stage high-mass stars stop accumulating their mass and how the accretion and outflow processes evolve after the protostar arrives on the main sequence."
          ],
          [
           "The bright emission of embedded HII regions is caused by dust absorbing ultraviolet radiation from the HII regions and re-emitting it at infrared wavelengths."
          ],
          [
           "Far-IR colors, interstellar masers, and molecular lines have been employed to identify HII region candidates."
          ],
          [
           "The class of the densest and most compact ionized nebula is known as hyper-compact HII regions (hchiis)."
          ],
          [
           "To date, approximately 600 young embedded compact and ultra-compact HII regions have been cataloged."
          ],
          [
           "Dust continuum emission in the submillimeter wavelength range can directly trace high column density regions in which high-mass stars form."
          ],
          [
           "The APEX Telescope Large Area Survey of the Galaxy (ATLASGAL) is a dust continuum survey at 870 μm that provides an unbiased view of the dense gas located throughout the mid-plane of the inner Galaxy."
          ],
          [
           "ATLASGAL has identified approximately 10,000 dense clumps."
          ],
          [
           "The IRAM 30m and Mopra 22m telescopes were used for follow-up molecular line surveys of the selected dust clumps."
          ],
          [
           "The clumps were originally selected as the brightest 870 μm clumps and later divided into three photometric categories based on their association with mid-IR emission."
          ],
          [
           "Additional information such as radio continuum observations is required to identify HII regions."
          ],
          [
           "The CORNISH survey and the targeted radio continuum observations conducted as part of the RMS survey have been used to identify HII regions associated with ATLASGAL clumps."
          ]
         ],
         "hovertemplate": "arxiv_id=1702.02062<br>x=%{x}<br>y=%{y}<br>nugget_answer=%{customdata[0]}<extra></extra>",
         "legendgroup": "1702.02062",
         "marker": {
          "color": "#B6E880",
          "symbol": "circle"
         },
         "mode": "markers",
         "name": "1702.02062",
         "orientation": "v",
         "showlegend": true,
         "type": "scatter",
         "x": [
          -13.277139663696289,
          -14.072440147399902,
          -10.039155960083008,
          -9.657221794128418,
          -9.948037147521973,
          -9.58260726928711,
          -6.683448791503906,
          16.128063201904297,
          13.942452430725098,
          13.131332397460938,
          -7.714431285858154,
          19.60757827758789,
          18.669189453125,
          20.03197479248047,
          19.695531845092773,
          15.662781715393066,
          18.595930099487305
         ],
         "xaxis": "x",
         "y": [
          15.763227462768555,
          18.307802200317383,
          17.7998104095459,
          18.907026290893555,
          20.885162353515625,
          19.70481300354004,
          28.988479614257812,
          12.314613342285156,
          36.80705642700195,
          36.73724365234375,
          28.656536102294922,
          12.336464881896973,
          13.624917030334473,
          15.733925819396973,
          15.362929344177246,
          12.626487731933594,
          12.913424491882324
         ],
         "yaxis": "y"
        },
        {
         "customdata": [
          [
           "The annual modulation effect is the variation in the event rate observed by DAMA experiments over the course of a year."
          ],
          [
           "The DAMA experiments have a total exposure of 1.33 ton $\times$ year."
          ],
          [
           "The observed annual modulation effect indicates the presence of Dark Matter particles in the Galactic halo at a significance level of 9.3$sigma$ C.L."
          ],
          [
           "The modulation amplitude of the single-hit events in the (2-6) keV energy interval is $(0.0112 pm 0.0012)$ cpd/kg/keV."
          ],
          [
           "The measured phase of the annual modulation effect is $(144 pm 7)$ days."
          ],
          [
           "The measured period of the annual modulation effect is $(0.998 pm 0.002)$ yr."
          ],
          [
           "Yes, the annual modulation effect measured by DAMA experiments is model-independent."
          ],
          [
           "Some candidates for Dark Matter particles include WIMPs (lightest neutralino) and axions."
          ],
          [
           "The mirror world hypothesis suggests the existence of a parallel gauge sector with particle and interaction content similar to that of known particles."
          ],
          [
           "The full dynamics of two sectors in the mirror world theory is governed by the Einstein-Hilbert action."
          ],
          [
           "Mirror matter refers to matter that is invisible in terms of ordinary photons but gravitationally coupled to our matter."
          ]
         ],
         "hovertemplate": "arxiv_id=1701.08590<br>x=%{x}<br>y=%{y}<br>nugget_answer=%{customdata[0]}<extra></extra>",
         "legendgroup": "1701.08590",
         "marker": {
          "color": "#FF97FF",
          "symbol": "circle"
         },
         "mode": "markers",
         "name": "1701.08590",
         "orientation": "v",
         "showlegend": true,
         "type": "scatter",
         "x": [
          27.28103256225586,
          28.285913467407227,
          0.2284112274646759,
          24.373491287231445,
          25.83548927307129,
          25.675792694091797,
          27.339174270629883,
          -36.987152099609375,
          -38.466552734375,
          -37.888397216796875,
          -39.07223892211914
         ],
         "xaxis": "x",
         "y": [
          -29.94756317138672,
          -29.127113342285156,
          -16.857641220092773,
          -28.13838005065918,
          -28.71759605407715,
          -28.658710479736328,
          -30.54357147216797,
          -5.675417900085449,
          -21.254077911376953,
          -21.88045310974121,
          -20.893924713134766
         ],
         "yaxis": "y"
        },
        {
         "customdata": [
          [
           "A statistically significant excess of GeV gamma rays."
          ],
          [
           "Spectral and morphological characteristics consistent with the annihilation of dark matter particles."
          ],
          [
           "Emission from a large population of unresolved millisecond pulsars (MSPs)."
          ],
          [
           "An unresolved point source population in the region surrounding the Galactic Center."
          ],
          [
           "The gamma-ray luminosity function comparison and the lack of a plausible mechanism for the presence of so many gamma-ray bright MSPs in the Inner Galaxy."
          ],
          [
           "Many more gamma-ray point sources in the Inner Galaxy would be expected."
          ],
          [
           "Only a few percent of the observed excess, once the effects of MSP evolution are accounted for."
          ],
          [
           "It would have to drastically exceed observations."
          ],
          [
           "A population of MSPs in the Inner Galaxy."
          ],
          [
           "It would require a comparably large population of LMXBs, which has not been observed."
          ],
          [
           "The connection between MSPs and LMXBs and the gamma-ray emission from the Milky Way's globular cluster population."
          ],
          [
           "The assumption that it is similar in the Inner Galaxy to the ratio measured in globular clusters."
          ],
          [
           "An upper limit."
          ],
          [
           "MSP interpretations of Fermi's gamma-ray excess."
          ]
         ],
         "hovertemplate": "arxiv_id=1701.02726<br>x=%{x}<br>y=%{y}<br>nugget_answer=%{customdata[0]}<extra></extra>",
         "legendgroup": "1701.02726",
         "marker": {
          "color": "#FECB52",
          "symbol": "circle"
         },
         "mode": "markers",
         "name": "1701.02726",
         "orientation": "v",
         "showlegend": true,
         "type": "scatter",
         "x": [
          10.06041431427002,
          -1.1940706968307495,
          4.707298278808594,
          2.730029582977295,
          2.43414568901062,
          2.2883148193359375,
          5.031428337097168,
          10.025574684143066,
          4.093465805053711,
          9.679527282714844,
          3.6680715084075928,
          0.664942741394043,
          33.22945785522461,
          3.823301315307617
         ],
         "xaxis": "x",
         "y": [
          -7.844657897949219,
          -16.396926879882812,
          -1.0485297441482544,
          2.608210802078247,
          -0.2240934520959854,
          1.057571530342102,
          44.03868865966797,
          44.61599349975586,
          0.8067900538444519,
          44.39283752441406,
          -0.7187044024467468,
          8.616573333740234,
          -21.461933135986328,
          -1.6797587871551514
         ],
         "yaxis": "y"
        },
        {
         "customdata": [
          [
           "Neutron backgrounds are often considered among the dominant backgrounds in many low-background experiments."
          ],
          [
           "Neutrino-less double beta-decay experiments rely on having a high energy resolution and very little background near the endpoint of the double beta-decay spectrum."
          ],
          [
           "Fast neutrons may produce a signal in the region of interest as they thermalize, or they may produce gamma rays that can produce such signals when they capture on detector materials."
          ],
          [
           "Examples of neutron-induced backgrounds include neutron captures on $^{136}$Xe, hydrogen, $^{65}$Cu, and $^{63}$Cu."
          ],
          [
           "Neutron-induced nuclear recoils are an important background in dark matter experiments, as they can produce a signal similar to what is expected from Weakly Interacting Massive Particles (WIMPs)."
          ],
          [
           "Techniques such as pulse shape discrimination, comparing ionization and scintillation light, and comparing ionization and phonon production are effective at discriminating between electron and nuclear recoils in dark matter experiments."
          ],
          [
           "Nuclear recoil backgrounds result from alpha-decays on the inner surface of the detector ejecting a nucleus into the active volume of the detector or from neutrons scattering in the active volume."
          ],
          [
           "Radiogenic neutrons primarily result from spontaneous fission of thorium, uranium, and uranium-235, or from the alpha-n reaction occurring when alpha-particles produced in these decay chains interact with nuclei in the material they are traveling in."
          ],
          [
           "Cosmogenic neutrons are typically mitigated by moving a detector deep underground, where the muon flux is greatly reduced. External muon vetoes can also be used to tag muons coincident with nuclear recoils produced by neutrons."
          ],
          [
           "Radiogenic neutrons result from nuclear interactions within a given material and can produce a signal identical to that expected from a Weakly Interacting Massive Particle (WIMP)."
          ],
          [
           "A quantitative description of radiogenic neutron backgrounds is necessary for low-background experiments to understand and minimize their backgrounds."
          ]
         ],
         "hovertemplate": "arxiv_id=1702.02465<br>x=%{x}<br>y=%{y}<br>nugget_answer=%{customdata[0]}<extra></extra>",
         "legendgroup": "1702.02465",
         "marker": {
          "color": "#636efa",
          "symbol": "circle"
         },
         "mode": "markers",
         "name": "1702.02465",
         "orientation": "v",
         "showlegend": true,
         "type": "scatter",
         "x": [
          -40.99982833862305,
          -39.343746185302734,
          -40.818363189697266,
          -41.86215591430664,
          -38.985626220703125,
          -38.53233337402344,
          -40.99932098388672,
          -40.46648025512695,
          -41.93069076538086,
          -39.68754959106445,
          -40.58208084106445
         ],
         "xaxis": "x",
         "y": [
          -8.917284965515137,
          -9.01389217376709,
          -5.876230239868164,
          -8.470490455627441,
          -6.135717868804932,
          -7.178443431854248,
          -7.137579441070557,
          -4.652685165405273,
          -5.986111640930176,
          -5.509939193725586,
          -9.240616798400879
         ],
         "yaxis": "y"
        },
        {
         "customdata": [
          [
           "1.7 solar masses"
          ],
          [
           "9±2 million years"
          ],
          [
           "156±11 parsecs"
          ],
          [
           "F4Ve"
          ],
          [
           "83 km/s"
          ],
          [
           "Transitional disk"
          ],
          [
           "Widely separated (approximately 3300 au)"
          ],
          [
           "1.3×10^-4 solar masses"
          ],
          [
           "1.5×10^-2 solar masses"
          ],
          [
           "Approximately 11 degrees"
          ],
          [
           "Approximately 10^-11 to 10^-8 solar masses per year"
          ],
          [
           "Approximately 50 au"
          ],
          [
           "Sub-au"
          ],
          [
           "Approximately 160 au"
          ],
          [
           "0.5 Jupiter masses"
          ],
          [
           "Greater than 100 au"
          ]
         ],
         "hovertemplate": "arxiv_id=1702.05108<br>x=%{x}<br>y=%{y}<br>nugget_answer=%{customdata[0]}<extra></extra>",
         "legendgroup": "1702.05108",
         "marker": {
          "color": "#EF553B",
          "symbol": "circle"
         },
         "mode": "markers",
         "name": "1702.05108",
         "orientation": "v",
         "showlegend": true,
         "type": "scatter",
         "x": [
          25.436128616333008,
          -15.24291706085205,
          31.290996551513672,
          42.62593460083008,
          11.652807235717773,
          -34.62135696411133,
          34.39067840576172,
          24.368547439575195,
          24.702777862548828,
          37.398040771484375,
          22.217676162719727,
          36.18117904663086,
          37.83602523803711,
          35.855525970458984,
          26.208202362060547,
          35.9493522644043
         ],
         "xaxis": "x",
         "y": [
          -13.53729248046875,
          38.37411880493164,
          -11.7530517578125,
          -7.115180492401123,
          -27.818578720092773,
          15.322710037231445,
          -10.626212120056152,
          -13.811029434204102,
          -14.172815322875977,
          -17.99150276184082,
          -13.092562675476074,
          -10.813364028930664,
          -8.3577241897583,
          -10.977819442749023,
          -15.07408332824707,
          -10.04617691040039
         ],
         "yaxis": "y"
        },
        {
         "customdata": [
          [
           "AGN feedback is the process in which mass and energy are transported from the nuclei of active galaxies to the host galaxy."
          ],
          [
           "Ultra-fast outflows are high-speed ionized gas outflows from the nuclei of active galaxies."
          ],
          [
           "The mass outflow rate of UFOs is between 0.01 and 1 solar masses per year."
          ],
          [
           "The kinetic energy of UFOs is between 10^42 and 10^45 ergs per second."
          ],
          [
           "Less than 10% of AGNs have relativistic jets."
          ],
          [
           "There is a possible interplay between fast outflows and relativistic jets, and they are also predicted to be connected by magneto-hydrodynamic (MHD) models."
          ],
          [
           "iras is located at R.A. 17h,03m,30.3830s, Dec. +45$^circ$, 40arcmin, 47arcsec.167."
          ],
          [
           "iras is a Narrow Line Seyfert 1 (NLS1) spiral galaxy."
          ],
          [
           "The black hole mass of iras is approximately $5.9\times10^6$ solar masses."
          ],
          [
           "The X-ray spectrum observations of iras revealed a series of absorption lines corresponding to at least 5 outflowing components with velocities ranging from 23,000 to 33,000 km/s."
          ],
          [
           "The energetics of the wind in iras suggest that it may be able to produce feedback on the host galaxy."
          ],
          [
           "The presence of large scale molecular gas outflowing at low velocity that is associated with the fast X-ray wind provides evidence for feedback in iras."
          ],
          [
           "iras is a radio loud (RL) NLS1 galaxy based on its bright and compact radio emission."
          ],
          [
           "High angular resolution, multi-frequency Very Long Baseline Interferometry (VLBI) radio observations were obtained near simultaneously with the XMM-Newton observations of iras."
          ],
          [
           "The paper uses a $Lambda$CDM cosmology with $h = 0.705$, $Omega_m = 0.27$, and $Omega_Lambda=0.73$."
          ],
          [
           "The redshift of iras corresponds to a luminosity distance of 269 Mpc."
          ],
          [
           "In iras, 1 mas corresponds to an angular scale of 1.16 pc."
          ],
          [
           "The spectral index, denoted as $alpha$, is defined such that $S(\nu)sim\nu^{-alpha}$."
          ],
          [
           "Position angles (P.A.) are defined positive north through east."
          ]
         ],
         "hovertemplate": "arxiv_id=1701.07298<br>x=%{x}<br>y=%{y}<br>nugget_answer=%{customdata[0]}<extra></extra>",
         "legendgroup": "1701.07298",
         "marker": {
          "color": "#00cc96",
          "symbol": "circle"
         },
         "mode": "markers",
         "name": "1701.07298",
         "orientation": "v",
         "showlegend": true,
         "type": "scatter",
         "x": [
          -4.404033184051514,
          -2.9362823963165283,
          20.184720993041992,
          19.513647079467773,
          -0.5500327944755554,
          -5.038717269897461,
          24.895727157592773,
          24.192081451416016,
          22.667007446289062,
          -2.1873199939727783,
          -3.626664638519287,
          -2.946606159210205,
          23.983957290649414,
          21.434917449951172,
          -29.60246467590332,
          16.229217529296875,
          24.871166229248047,
          -20.576852798461914,
          4.9188737869262695
         ],
         "xaxis": "x",
         "y": [
          0.4824666678905487,
          -9.573007583618164,
          -12.339208602905273,
          -12.209981918334961,
          -7.828683853149414,
          -10.52696418762207,
          -20.96052360534668,
          -21.890771865844727,
          -10.179224967956543,
          -12.428287506103516,
          -12.760242462158203,
          -12.506631851196289,
          -22.10008430480957,
          19.180421829223633,
          -5.498585224151611,
          -15.2789888381958,
          -18.87448501586914,
          -34.72257995605469,
          -32.64323425292969
         ],
         "yaxis": "y"
        },
        {
         "customdata": [
          [
           "White dwarfs are the inert remnants of stars with a Zero Age Main Sequence (ZAMS) mass of less than approximately 8 solar masses."
          ],
          [
           "As white dwarfs cool, they radiate away their energy."
          ],
          [
           "The pulsations in aging white dwarfs are caused by the excitation of g-mode oscillations in the partial ionization zone of hydrogen in the atmosphere of the white dwarf."
          ],
          [
           "Crystallization in cool white dwarfs releases latent heat, which significantly slows down the cooling rate."
          ],
          [
           "Only high mass white dwarfs have significantly crystallized cores while they are in the ZZ Ceti instability strip."
          ],
          [
           "The mean period spacing of radial overtones grows as the crystallized mass ratio increases in white dwarfs."
          ],
          [
           "The analysis of the luminosity function and color-magnitude diagram of the globular cluster NGC 6397 provides strong evidence for core crystallization in cool white dwarfs."
          ],
          [
           "The mass distribution of DA white dwarfs peaks at approximately 0.6 solar masses, with a tail toward higher masses."
          ],
          [
           "The lack of a large sample of high mass, variable DA white dwarfs has limited the testing of crystallization theory."
          ],
          [
           "There are approximately 30,000 spectroscopically confirmed white dwarfs in the SDSS catalogs."
          ],
          [
           "The goal of this work is to discover massive pulsating white dwarfs and carry out rigorous tests of crystallization theory using the SDSS WD catalogs."
          ],
          [
           "Currently, there are about 200 DAVs known."
          ],
          [
           "The study by Romero et al. (2013) found that a crystallized interior yields best-fitting solutions for 15 high mass DAVs."
          ],
          [
           "The most massive DAV currently known has a mass of 1.20 solar masses."
          ]
         ],
         "hovertemplate": "arxiv_id=1702.03343<br>x=%{x}<br>y=%{y}<br>nugget_answer=%{customdata[0]}<extra></extra>",
         "legendgroup": "1702.03343",
         "marker": {
          "color": "#ab63fa",
          "symbol": "circle"
         },
         "mode": "markers",
         "name": "1702.03343",
         "orientation": "v",
         "showlegend": true,
         "type": "scatter",
         "x": [
          7.669888496398926,
          4.47006893157959,
          2.9964282512664795,
          4.908748626708984,
          5.5552167892456055,
          3.1891748905181885,
          6.61297082901001,
          8.17906665802002,
          6.492324352264404,
          8.869430541992188,
          7.788038730621338,
          11.10216999053955,
          7.6037187576293945,
          25.88517189025879
         ],
         "xaxis": "x",
         "y": [
          32.678016662597656,
          34.33881759643555,
          34.93546676635742,
          34.67887878417969,
          36.46984100341797,
          35.647193908691406,
          34.63728713989258,
          33.41789627075195,
          36.42293167114258,
          34.23173141479492,
          35.240234375,
          38.12540817260742,
          38.0355339050293,
          -12.053548812866211
         ],
         "yaxis": "y"
        },
        {
         "customdata": [
          [
           "Collisionless linearly polarized SA waves cannot oscillate when the amplitude of shear-Alfvén fluctuations exceeds a certain limit."
          ],
          [
           "The development of pressure anisotropy, where the pressure tensor differs in the directions perpendicular and parallel to the magnetic field."
          ],
          [
           "It is an instability that can be triggered when the pressure anisotropy is below a certain threshold."
          ],
          [
           "The plasma self-organizes to prevent further changes in field strength, leading to the development of tension-less field-line structures."
          ],
          [
           "It is the net transfer of mechanical energy of a wave to the plasma thermal energy due to spatial correlations between the wave's self-generated pressure anisotropy and the rate of change of the magnetic field."
          ],
          [
           "It is a regime where collisions act to balance the generation of pressure anisotropy and shear-Alfvén waves cannot oscillate when the amplitude of fluctuations exceeds a certain limit."
          ],
          [
           "It slowly decays in time until its amplitude is below a certain limit, at which point it can oscillate."
          ],
          [
           "Magnetic energy dominates over kinetic energy."
          ]
         ],
         "hovertemplate": "arxiv_id=1701.03175<br>x=%{x}<br>y=%{y}<br>nugget_answer=%{customdata[0]}<extra></extra>",
         "legendgroup": "1701.03175",
         "marker": {
          "color": "#FFA15A",
          "symbol": "circle"
         },
         "mode": "markers",
         "name": "1701.03175",
         "orientation": "v",
         "showlegend": true,
         "type": "scatter",
         "x": [
          -10.683837890625,
          -8.01707649230957,
          -8.887706756591797,
          -2.3693323135375977,
          -6.967459201812744,
          -10.2196044921875,
          -11.13930892944336,
          1.0396244525909424
         ],
         "xaxis": "x",
         "y": [
          -35.65386962890625,
          -35.234413146972656,
          -35.67345428466797,
          -30.932893753051758,
          -34.23617172241211,
          -35.653865814208984,
          -37.57203674316406,
          -23.27947235107422
         ],
         "yaxis": "y"
        },
        {
         "customdata": [
          [
           "The issue of naturalness of the Higgs mass refers to the fine-tuning problem in which the Higgs mass is considered to be unnaturally light compared to a large effective theory cut-off."
          ],
          [
           "The consequence of theories that solve the naturalness problem is the prediction of fundamentally new physics close to the TeV scale."
          ],
          [
           "The concern is that null experimental searches at the LHC have not found evidence of new physics at the TeV scale, which poses a challenge to the solution of the Higgs naturalness problem."
          ],
          [
           "The proposed alternative approach suggests that the absence of new physics at the TeV scale can be compatible with a naturally light Higgs mass as a result of cosmological evolution in the early universe."
          ],
          [
           "The relaxion is a rolling scalar field that scans the Higgs mass while it evolves down its scalar potential in the early universe."
          ],
          [
           "In relaxion models, when the Higgs mass-squared passes through zero, a technically natural backreaction of the Higgs vacuum expectation value causes the relaxion to halt and freeze the Higgs vacuum expectation value at a small value."
          ],
          [
           "In the proposed approach, there is no backreaction from the Higgs onto the relaxion. Instead, the relaxion continues rolling once the Higgs vacuum expectation value reaches a small value."
          ],
          [
           "In the proposed approach, the vacuum expectation value of the relaxion backreacts on the inflationary sector and causes inflation to end."
          ],
          [
           "As the Universe cools, the decreasing value of the Hubble parameter backreacts on the relaxion field and causes it to stop rolling."
          ],
          [
           "The key point is that the period of time in which the relaxion evolves during the inflationary epoch is typically exponentially greater than the period of time between inflation ending and the Hubble parameter falling below a critical value."
          ],
          [
           "A small Higgs vacuum expectation value becomes a prediction of the theory in the proposed approach, even though the Higgs itself does not play a role in halting the relaxion evolution."
          ],
          [
           "The advantage is that it simplifies the relaxion sector of the theory, allowing for a minimal relaxion Lagrangian without additional scalar fields or new electroweak-symmetry-breaking physics."
          ],
          [
           "Section 1 of the paper discusses the issue of naturalness of the Higgs mass and the motivation for alternative approaches to naturalness."
          ],
          [
           "Section 2 of the paper demonstrates examples of how inflation could end with a weak-scale vacuum expectation value for the Higgs."
          ],
          [
           "Section 3 of the paper lists constraints on the relaxion parameter space."
          ],
          [
           "The final section of the paper concludes the findings and discussions."
          ]
         ],
         "hovertemplate": "arxiv_id=1701.09167<br>x=%{x}<br>y=%{y}<br>nugget_answer=%{customdata[0]}<extra></extra>",
         "legendgroup": "1701.09167",
         "marker": {
          "color": "#19d3f3",
          "symbol": "circle"
         },
         "mode": "markers",
         "name": "1701.09167",
         "orientation": "v",
         "showlegend": true,
         "type": "scatter",
         "x": [
          -32.80600357055664,
          -30.327404022216797,
          -31.228565216064453,
          -31.194124221801758,
          -31.205102920532227,
          -32.35103988647461,
          -31.898193359375,
          -33.773895263671875,
          -32.936058044433594,
          36.53993606567383,
          -31.607009887695312,
          -30.019851684570312,
          -32.807003021240234,
          -33.367305755615234,
          -29.91612434387207,
          -29.510061264038086
         ],
         "xaxis": "x",
         "y": [
          -17.82741928100586,
          -17.117748260498047,
          -17.370407104492188,
          -17.893033981323242,
          -22.684520721435547,
          -22.361295700073242,
          -21.74906349182129,
          -21.46501922607422,
          -23.76813507080078,
          0.9472716450691223,
          -20.886953353881836,
          -21.77412223815918,
          -18.35527992248535,
          -20.2705078125,
          -24.40081787109375,
          -30.755765914916992
         ],
         "yaxis": "y"
        },
        {
         "customdata": [
          [
           "The third dredge-up is the mechanism responsible for turning the abundance of AGB stars from O-rich into C-enriched."
          ],
          [
           "Carbon-rich AGB stars are stars on the Asymptotic Giant Branch that have atmospheres containing carbon-bearing molecules and dust made of amorphous carbon and silicon carbide."
          ],
          [
           "During the evolution of stars on the AGB, they cool, expand, grow in brightness, burn nuclear fuel faster, and eventually begin to pulsate."
          ],
          [
           "The sequence of pulsation and dust formation in AGB stars may drive a wind off the surface of the star into interstellar space."
          ],
          [
           "DARWIN models are dynamic model atmospheres that are used to study the atmospheres of AGB stars and have successfully reproduced observations of carbon-rich stars."
          ],
          [
           "The purpose of this paper is to extend a previous study on a C-rich AGB star and investigate the dynamic processes happening in the atmospheres of a set of C-rich AGB stars."
          ],
          [
           "Long-baseline optical interferometry is an essential tool to study the stratification of the atmosphere of AGB stars and allows for scanning the regions of molecules and dust formation."
          ],
          [
           "The targets of this study are the C-rich AGB stars R Lep, R Vol, Y Pav, AQ Sgr, U Hya, and X TrA."
          ]
         ],
         "hovertemplate": "arxiv_id=1701.04331<br>x=%{x}<br>y=%{y}<br>nugget_answer=%{customdata[0]}<extra></extra>",
         "legendgroup": "1701.04331",
         "marker": {
          "color": "#FF6692",
          "symbol": "circle"
         },
         "mode": "markers",
         "name": "1701.04331",
         "orientation": "v",
         "showlegend": true,
         "type": "scatter",
         "x": [
          4.609427452087402,
          2.9083805084228516,
          0.6124215126037598,
          0.10138295590877533,
          3.4454126358032227,
          4.644344806671143,
          20.434377670288086,
          5.377234935760498
         ],
         "xaxis": "x",
         "y": [
          19.286026000976562,
          18.41989517211914,
          20.054048538208008,
          20.11690902709961,
          17.447772979736328,
          17.813526153564453,
          19.69611930847168,
          17.654502868652344
         ],
         "yaxis": "y"
        },
        {
         "customdata": [
          [
           "The last decade of photometric and spectroscopic observations."
          ],
          [
           "Large and correlated star-to-star inhomogeneities in the abundance of several light elements, like C, N, Na, O, Mg, Al, and He."
          ],
          [
           "They are usually interpreted as being due to self-enrichment of a gas polluted by the proton capture processes."
          ],
          [
           "Intermediate-mass asymptotic giant branch (AGB) stars, fast rotating massive stars, interacting massive binary stars, and/or super-massive stars."
          ],
          [
           "There is still a lack of a convincing comprehensive model."
          ],
          [
           "Potassium."
          ],
          [
           "The [K/Fe] abundance ratio ranges from solar values up to +2.0 dex."
          ],
          [
           "There is a large anti-correlation between [K/Fe] and [Mg/Fe]."
          ],
          [
           "The [K/Fe] abundance ratio in NGC~2808 has a significant spread, but its amplitude is much smaller than that found in NGC~2419."
          ],
          [
           "There are significant correlations with [Na/Fe] and [Al/Fe], and anti-correlations with [O/Fe] and [Mg/Fe]."
          ],
          [
           "The [K/Fe] enhancement and the K-Mg anti-correlations are ascribable to the same self-enrichment process responsible for the observed chemical anomalies."
          ],
          [
           "They did not find any evidence of intrinsic K spread in the considered clusters."
          ],
          [
           "The mean [K/Fe] and [Fe/H] ratios of the considered clusters appear to lie onto the same [K/Fe] vs. [Fe/H] relation defined by field stars."
          ],
          [
           "They did not probe the extreme Mg-deficient population."
          ],
          [
           "The overall scenario of K abundances in Galactic field stars is not well understood, both from the observational and theoretical point of view."
          ],
          [
           "To study AGB-driven self-enrichment."
          ]
         ],
         "hovertemplate": "arxiv_id=1702.02953<br>x=%{x}<br>y=%{y}<br>nugget_answer=%{customdata[0]}<extra></extra>",
         "legendgroup": "1702.02953",
         "marker": {
          "color": "#B6E880",
          "symbol": "circle"
         },
         "mode": "markers",
         "name": "1702.02953",
         "orientation": "v",
         "showlegend": true,
         "type": "scatter",
         "x": [
          16.830564498901367,
          -0.8393131494522095,
          4.583059787750244,
          2.2426528930664062,
          -16.128467559814453,
          43.47011947631836,
          3.7302231788635254,
          2.338212490081787,
          2.425116539001465,
          2.274505138397217,
          3.418064832687378,
          0.7298868298530579,
          1.565398097038269,
          1.2245588302612305,
          1.8348519802093506,
          6.505506992340088
         ],
         "xaxis": "x",
         "y": [
          19.70505142211914,
          15.116779327392578,
          10.621301651000977,
          18.654613494873047,
          -8.283446311950684,
          -9.768312454223633,
          8.067525863647461,
          11.29191780090332,
          6.746931552886963,
          11.536151885986328,
          10.74299144744873,
          42.5822868347168,
          8.561179161071777,
          42.68351364135742,
          5.999857425689697,
          18.79477882385254
         ],
         "yaxis": "y"
        },
        {
         "customdata": [
          [
           "AGN have been observed to influence their surrounding interstellar and intergalactic medium."
          ],
          [
           "The duty-cycle of an active SMBH refers to the portion of time it is active."
          ],
          [
           "The ages of radio-loud AGN can be derived using the spectral properties of the radio plasma."
          ],
          [
           "The synchrotron radio remnant regions of AGN slowly fade as time passes due to preferential cooling of high energy particles and/or adiabatic expansion."
          ],
          [
           "Selecting radio sources that have a steep spectral index over a range of frequencies."
          ],
          [
           "The reason for the scarcity of detected AGN remnants compared to the entire population of active radio galaxies is still unknown."
          ],
          [
           "The recent availability of new deep images from the low frequency array."
          ],
          [
           "The determination of the active and switched off times of individual objects over a statistically significant sample."
          ],
          [
           "Bona fide remnants can show a total age of over a hundred Myr."
          ],
          [
           "The duration of the remnant phase in most cases appears to be shorter or comparable to that of the active phase."
          ],
          [
           "The duty cycle likely has a dependence on galaxy mass and source power during the active phase."
          ],
          [
           "The host galaxy of B2 0924+30 is IC 2476 (UGC 5043)."
          ],
          [
           "The redshift of B2 0924+30 is 0.026141."
          ],
          [
           "The radio luminosity of B2 0924+30 is approximately 10^23.8 W/Hz."
          ],
          [
           "Yes, B2 0924+30 is considered to be an AGN remnant."
          ]
         ],
         "hovertemplate": "arxiv_id=1701.06903<br>x=%{x}<br>y=%{y}<br>nugget_answer=%{customdata[0]}<extra></extra>",
         "legendgroup": "1701.06903",
         "marker": {
          "color": "#FF97FF",
          "symbol": "circle"
         },
         "mode": "markers",
         "name": "1701.06903",
         "orientation": "v",
         "showlegend": true,
         "type": "scatter",
         "x": [
          -3.4264392852783203,
          -37.92803192138672,
          1.646540880203247,
          1.0218325853347778,
          7.505311965942383,
          0.9086217880249023,
          22.340137481689453,
          33.13480758666992,
          -15.317956924438477,
          -25.801332473754883,
          -37.878196716308594,
          13.855868339538574,
          15.926082611083984,
          15.829017639160156,
          13.29085922241211
         ],
         "xaxis": "x",
         "y": [
          0.9909727573394775,
          7.1389312744140625,
          -5.697807312011719,
          -4.530750274658203,
          -13.129120826721191,
          -3.5812788009643555,
          18.442947387695312,
          32.42966079711914,
          37.7872428894043,
          36.233116149902344,
          7.14154052734375,
          -16.281089782714844,
          -16.262449264526367,
          -18.045228958129883,
          -15.072023391723633
         ],
         "yaxis": "y"
        },
        {
         "customdata": [
          [
           "Understanding the formation mechanism of high-mass stars is important to elucidate the structure and evolution of galaxies."
          ],
          [
           "The theories of high-mass star formation include monolithic collapse and competitive accretion."
          ],
          [
           "Possible sites of high-mass star formation include massive and dense clouds such as hot cores and infrared dark clouds."
          ],
          [
           "It is puzzling that high-mass star formation is not commonly associated with HII regions, which are the most obvious signature of O/early B star formation."
          ],
          [
           "Supersonic collision between interstellar molecular clouds is discussed as a possible triggering mechanism of high-mass star formation."
          ],
          [
           "Cloud-cloud collisions take place supersonically at a velocity of 10-30 km/s."
          ],
          [
           "Cloud-cloud collision increases the cloud density and the effective sound speed in the shocked interface layer."
          ],
          [
           "The mass accretion rate is enhanced by two orders of magnitude to 10^-4 - 10^-3 M_sun/yr due to cloud-cloud collision."
          ],
          [
           "The typical collision time scale is estimated to be 0.1 Myr."
          ],
          [
           "It is currently unknown if cloud-cloud collision is one of the major mechanisms of high-mass star formation."
          ],
          [
           "One of the difficulties in studying high-mass star formation is that the number of high-mass star forming regions is small compared to low-mass star formation sites."
          ],
          [
           "The nearest young O star cluster is the Orion Nebula Cluster (ONC) located at 410 pc from the sun."
          ]
         ],
         "hovertemplate": "arxiv_id=1701.04669<br>x=%{x}<br>y=%{y}<br>nugget_answer=%{customdata[0]}<extra></extra>",
         "legendgroup": "1701.04669",
         "marker": {
          "color": "#FECB52",
          "symbol": "circle"
         },
         "mode": "markers",
         "name": "1701.04669",
         "orientation": "v",
         "showlegend": true,
         "type": "scatter",
         "x": [
          -13.291361808776855,
          -14.736089706420898,
          -14.004256248474121,
          -11.755173683166504,
          -14.365510940551758,
          -14.50437068939209,
          -13.938141822814941,
          -15.351067543029785,
          -14.988656997680664,
          -13.26239013671875,
          -12.092950820922852,
          -5.5704426765441895
         ],
         "xaxis": "x",
         "y": [
          16.074609756469727,
          18.083412170410156,
          19.28049659729004,
          19.045028686523438,
          21.00191879272461,
          34.01813507080078,
          33.10696792602539,
          33.993316650390625,
          35.80588150024414,
          21.43796730041504,
          18.596078872680664,
          12.752605438232422
         ],
         "yaxis": "y"
        },
        {
         "customdata": [
          [
           "The CE phase is a brief but crucial phase in the formation of many compact binary systems, where one component of a binary system is engulfed by the stellar envelope of the secondary star."
          ],
          [
           "The CE phase is short-lived, lasting approximately a year to a few hundred years."
          ],
          [
           "Transient phenomena produced by the interaction between stars in binary systems include type Ia supernovae, gamma-ray bursts, ultra-luminous x-ray sources, novae, millisecond pulsars, gravitational waves, and common envelopes."
          ],
          [
           "The Bondi-Hoyle-Lyttleton accretion radius is the distance from a compact object at which it can accrete mass from its surroundings."
          ],
          [
           "Hypercritical accretion is a type of accretion that occurs when the mass transfer rate in a binary system is significantly larger than the Eddington limit for accretion."
          ],
          [
           "The CE phase has been studied analytically, numerically in one- and two-dimensions, and through three-dimensional hydrodynamical simulations."
          ]
         ],
         "hovertemplate": "arxiv_id=1702.03293<br>x=%{x}<br>y=%{y}<br>nugget_answer=%{customdata[0]}<extra></extra>",
         "legendgroup": "1702.03293",
         "marker": {
          "color": "#636efa",
          "symbol": "circle"
         },
         "mode": "markers",
         "name": "1702.03293",
         "orientation": "v",
         "showlegend": true,
         "type": "scatter",
         "x": [
          -25.804168701171875,
          -25.79200553894043,
          -26.637575149536133,
          -10.858268737792969,
          -9.86170768737793,
          -26.58329963684082
         ],
         "xaxis": "x",
         "y": [
          34.22837829589844,
          35.771827697753906,
          29.8934268951416,
          -8.467769622802734,
          -7.207189559936523,
          -29.079587936401367
         ],
         "yaxis": "y"
        },
        {
         "customdata": [
          [
           "Intrinsic alignments are correlations between galaxy shapes and the large-scale structure of the Universe."
          ],
          [
           "Intrinsic alignments are the main astrophysical systematic affecting cosmological constraints from weak gravitational lensing."
          ],
          [
           "Failing to account for intrinsic alignments can result in biased constraints on the equation of state of dark energy."
          ],
          [
           "State-of-the-art hydrodynamical simulations have typical volumes of $(100$ Mpc$/h)^3$."
          ],
          [
           "Future surveys will probe multi-Gpc$^3$ cosmological volumes."
          ],
          [
           "The alternative approach is to use dark matter-only (DMO) simulations."
          ],
          [
           "DMO simulations must be populated with galaxies bearing some statistical relation with their embedding dark matter haloes."
          ],
          [
           "Haloes have been shown to be subject to alignments up to large scales."
          ],
          [
           "To model observable 'satellite' galaxies in DMO simulations, one must specify how to populate haloes with satellites including a prescription for some level of alignment according to a 'halo model'."
          ],
          [
           "The purpose of this manuscript is to test the assumptions behind a model for populating dark matter haloes from DMO simulations with aligned galaxies."
          ]
         ],
         "hovertemplate": "arxiv_id=1702.03913<br>x=%{x}<br>y=%{y}<br>nugget_answer=%{customdata[0]}<extra></extra>",
         "legendgroup": "1702.03913",
         "marker": {
          "color": "#EF553B",
          "symbol": "circle"
         },
         "mode": "markers",
         "name": "1702.03913",
         "orientation": "v",
         "showlegend": true,
         "type": "scatter",
         "x": [
          -18.26275634765625,
          -18.365013122558594,
          -18.73716926574707,
          -18.986289978027344,
          -20.127845764160156,
          -30.492605209350586,
          -28.617855072021484,
          -27.514541625976562,
          -28.833160400390625,
          -29.24836540222168
         ],
         "xaxis": "x",
         "y": [
          3.622823476791382,
          3.0875184535980225,
          2.1534464359283447,
          -5.559065818786621,
          -5.67954683303833,
          1.0566577911376953,
          2.54032039642334,
          6.036566257476807,
          3.1048474311828613,
          2.2058095932006836
         ],
         "yaxis": "y"
        },
        {
         "customdata": [
          [
           "The flux of Solar Energetic Particles (SEPs)"
          ],
          [
           "Disrupt satellite communications and impact astronaut health and safety"
          ],
          [
           "The solar wind's magnetic field and its spatial and temporal variations"
          ],
          [
           "Using a transport equation"
          ],
          [
           "Particle drifts are significant for SEP propagation because they play a significant role in SEP propagation to the Earth, especially for heavier elements"
          ],
          [
           "Field-line meandering and cross-field diffusion"
          ],
          [
           "The HCS is the boundary between the two hemispheres of the Solar dipole field"
          ],
          [
           "The HCS changes the motion of charged particles due to the imposition of two distinct regions of drifts and the break-down of guiding centre motion at the sheet"
          ],
          [
           "The HCS consists of a complex 3D structure due to the varying and complicated distribution of mean magnetic flux direction on the solar surface and the tilt of the solar magnetic axis with respect to the rotation axis"
          ],
          [
           "Previous research on the HCS has mainly focused on galactic cosmic rays (GCRs) propagating inwards from the outer boundary of the heliosphere"
          ],
          [
           "The current study is investigating how the presence of the HCS affects the propagation of SEPs from the Sun to the Earth"
          ],
          [
           "The current study is assessing the effects of current sheet thickness and different dipole configurations on SEP propagation for protons of different energies"
          ],
          [
           "The purpose of presenting SEP time profiles at virtual observers is to provide a basis of comparison with real observations"
          ]
         ],
         "hovertemplate": "arxiv_id=1701.04286<br>x=%{x}<br>y=%{y}<br>nugget_answer=%{customdata[0]}<extra></extra>",
         "legendgroup": "1701.04286",
         "marker": {
          "color": "#00cc96",
          "symbol": "circle"
         },
         "mode": "markers",
         "name": "1701.04286",
         "orientation": "v",
         "showlegend": true,
         "type": "scatter",
         "x": [
          -1.3256787061691284,
          30.64590072631836,
          -3.1184520721435547,
          -8.619690895080566,
          -0.5260282754898071,
          -21.803010940551758,
          -3.182831048965454,
          -4.061727523803711,
          -3.4751665592193604,
          -1.7422127723693848,
          -1.1274398565292358,
          -0.10843200981616974,
          8.250833511352539
         ],
         "xaxis": "x",
         "y": [
          -35.13993835449219,
          22.44649314880371,
          -33.488285064697266,
          -42.29684066772461,
          -34.8505973815918,
          -29.971506118774414,
          -38.61482620239258,
          -38.335304260253906,
          -39.00944519042969,
          -37.375099182128906,
          -36.66175079345703,
          -36.645626068115234,
          12.830501556396484
         ],
         "yaxis": "y"
        },
        {
         "customdata": [
          [
           "Long duration gamma-ray bursts (GRBs) are produced when the core of a massive star collapses to a neutron star or a black hole."
          ],
          [
           "The jet in a long duration gamma-ray burst (GRB) is surrounded by a hot cocoon made by the shock-heated plasma."
          ],
          [
           "The total amount of energy deposited in the cocoon of a long duration gamma-ray burst (GRB) depends on the size of the star and the jet luminosity."
          ],
          [
           "The temperature, energy, and Lorentz factor of the cocoon are the main parameters that affect its luminosity in a long duration gamma-ray burst (GRB)."
          ],
          [
           "The radiation from the cocoon, once it breaks out of the star, expands and later decelerates into the stellar environment, provides information about the progenitor star in a long duration gamma-ray burst (GRB)."
          ],
          [
           "The simulations of gamma-ray bursts (GRBs) considered the hydrodynamic or magnetohydrodynamic interactions of the jet with the progenitor star."
          ],
          [
           "The simulations of gamma-ray bursts (GRBs) did not consider the radiation escaping the cocoon or the interaction of this radiation with the relativistic jet."
          ],
          [
           "The paper by Suzuki et al. mainly focused on the impact of the circumstellar medium on the early thermal X-ray emission."
          ],
          [
           "The paper by Nakar et al. included the mixing of the shocked jet and shocked stellar material in their calculation of cocoon radiation."
          ],
          [
           "This paper presented lightcurves and spectra of radiation escaping the cocoon in long duration gamma-ray bursts (GRBs) based on hydrodynamical simulations."
          ]
         ],
         "hovertemplate": "arxiv_id=1701.05198<br>x=%{x}<br>y=%{y}<br>nugget_answer=%{customdata[0]}<extra></extra>",
         "legendgroup": "1701.05198",
         "marker": {
          "color": "#ab63fa",
          "symbol": "circle"
         },
         "mode": "markers",
         "name": "1701.05198",
         "orientation": "v",
         "showlegend": true,
         "type": "scatter",
         "x": [
          -11.049018859863281,
          -9.832016944885254,
          -8.968425750732422,
          -8.467510223388672,
          -9.9600830078125,
          -10.495977401733398,
          -11.024595260620117,
          -6.074254989624023,
          -7.4185686111450195,
          -9.451199531555176
         ],
         "xaxis": "x",
         "y": [
          -12.203330993652344,
          -12.850408554077148,
          -12.343185424804688,
          -12.239094734191895,
          -11.78532886505127,
          -13.917430877685547,
          -14.414793014526367,
          -15.12340259552002,
          -15.002833366394043,
          -14.122577667236328
         ],
         "yaxis": "y"
        },
        {
         "customdata": [
          [
           "To present results on RR Lyrae stars with additional pulsational modes."
          ],
          [
           "The true complexity of their pulsational behaviour."
          ],
          [
           "AQ Leo is the first example of a star showing additional variability with a period ratio of 0.6-0.64 times the period of the first-overtone mode."
          ],
          [
           "It has not yet been explained."
          ],
          [
           "0.725 - 0.738."
          ],
          [
           "0.70 - 0.75."
          ],
          [
           "0.28 - 0.41 days."
          ],
          [
           "The pulsation nature of the newly discovered group of RR Lyrae stars."
          ]
         ],
         "hovertemplate": "arxiv_id=1701.00751<br>x=%{x}<br>y=%{y}<br>nugget_answer=%{customdata[0]}<extra></extra>",
         "legendgroup": "1701.00751",
         "marker": {
          "color": "#FFA15A",
          "symbol": "circle"
         },
         "mode": "markers",
         "name": "1701.00751",
         "orientation": "v",
         "showlegend": true,
         "type": "scatter",
         "x": [
          10.046416282653809,
          8.79357624053955,
          11.849702835083008,
          -14.841623306274414,
          35.678184509277344,
          35.666141510009766,
          37.26702117919922,
          9.792597770690918
         ],
         "xaxis": "x",
         "y": [
          20.55687141418457,
          21.41631507873535,
          21.715822219848633,
          -6.134189128875732,
          -21.259048461914062,
          -21.103546142578125,
          -21.03837013244629,
          20.678632736206055
         ],
         "yaxis": "y"
        },
        {
         "customdata": [
          [
           "Studying the initial conditions of gas before the formation of a massive protostar."
          ],
          [
           "They assume that the initial condition is a massive pre-stellar core (PSC)."
          ],
          [
           "They are expected to be highly deuterated and well-traced by species such as N2D+."
          ],
          [
           "They do not involve massive pre-stellar cores (PSCs) as the initial conditions."
          ],
          [
           "T13 used N2D+(3-2) to identify the C1-S core."
          ],
          [
           "The C1-S core is at a distance of about 5 kpc."
          ],
          [
           "The deuteration fraction measured in the C1-S core is approximately 0.2 to 0.7."
          ],
          [
           "T16 reported the detection of two protostellar outflow sources in the vicinity of the core center."
          ],
          [
           "If the protostars are embedded in the core, it would invalidate its status as a PSC."
          ],
          [
           "Another previously reported candidate massive PSC is G11.92-0.61-MM2."
          ],
          [
           "The non-detection of any molecular lines toward G11.92-0.61-MM2 makes it difficult to assess the reliability of the structure."
          ],
          [
           "The Cycle 2 observations of C1-S achieved a resolution of 0.2 arcseconds."
          ],
          [
           "The C1-S core remains a promising candidate to be a massive pre-stellar core (PSC)."
          ]
         ],
         "hovertemplate": "arxiv_id=1701.05953<br>x=%{x}<br>y=%{y}<br>nugget_answer=%{customdata[0]}<extra></extra>",
         "legendgroup": "1701.05953",
         "marker": {
          "color": "#19d3f3",
          "symbol": "circle"
         },
         "mode": "markers",
         "name": "1701.05953",
         "orientation": "v",
         "showlegend": true,
         "type": "scatter",
         "x": [
          -19.093721389770508,
          -20.49623680114746,
          32.40742111206055,
          -20.304262161254883,
          31.543638229370117,
          28.720542907714844,
          31.391572952270508,
          -7.065962791442871,
          -21.529380798339844,
          26.12727928161621,
          24.80098533630371,
          29.31772232055664,
          27.113203048706055
         ],
         "xaxis": "x",
         "y": [
          20.406702041625977,
          30.414026260375977,
          -3.1820201873779297,
          30.870580673217773,
          -4.491186141967773,
          -7.6604485511779785,
          -5.031758785247803,
          -1.2209762334823608,
          29.639604568481445,
          -6.017443656921387,
          1.840680480003357,
          -6.199398517608643,
          -6.568012714385986
         ],
         "yaxis": "y"
        },
        {
         "customdata": [
          [
           "FU Orionis objects and EXors are young stellar objects that undergo episodic accretion outbursts."
          ],
          [
           "The possible mechanisms to trigger the accretion outbursts of YSOs include disk thermal instability, gravitational instability and disk fragmentation, magneto-rotational instability and gravitational instability, planet-disk interactions, and encounters of stellar companions."
          ],
          [
           "Resolving properties of the circumstellar disks around FU Orionis objects and EXors on various spatial scales can help diagnose the probable outburst-triggering mechanisms in individual YSOs."
          ],
          [
           "(Sub)millimeter observations of dust spectral energy distributions can provide estimates for the overall gas mass in FU Orionis objects and EXors."
          ],
          [
           "Previous observations suggested that the short duration and repetitive accretion outbursts in EXors may not necessarily be triggered by disk gravitational instability."
          ],
          [
           "Previous observations suggested that the triggering mechanism for long duration outbursts in FU Orionis objects is less clear."
          ],
          [
           "The CARMA observations towards the FU Orionis-like object PP,13S* suggested that the surface density of the PP,13S* disk is ten times lower than the required density to trigger disk gravitational instability."
          ],
          [
           "Dunham et al. (2012) deduced that the FU Orionis object HBC,722 has a too low disk gas and dust mass to trigger gravitational instability."
          ]
         ],
         "hovertemplate": "arxiv_id=1701.06531<br>x=%{x}<br>y=%{y}<br>nugget_answer=%{customdata[0]}<extra></extra>",
         "legendgroup": "1701.06531",
         "marker": {
          "color": "#FF6692",
          "symbol": "circle"
         },
         "mode": "markers",
         "name": "1701.06531",
         "orientation": "v",
         "showlegend": true,
         "type": "scatter",
         "x": [
          -5.017764091491699,
          -6.878830432891846,
          -5.908844947814941,
          -5.197968482971191,
          -6.052595615386963,
          -5.696617603302002,
          -4.824004173278809,
          -4.80756950378418
         ],
         "xaxis": "x",
         "y": [
          34.51114273071289,
          34.21955490112305,
          34.15022277832031,
          33.05048370361328,
          36.26017761230469,
          36.230674743652344,
          38.56415557861328,
          38.55766677856445
         ],
         "yaxis": "y"
        },
        {
         "customdata": [
          [
           "One approach is to assume that the Lorentzian dispersion relation is modified by higher order corrections."
          ],
          [
           "The corrections to the spectrum depend on whether the dispersion relation respects the adiabaticity condition when the modes are inside the horizon."
          ],
          [
           "The gluing method overestimates the correction to the power spectrum by an extra factor of (H/M)."
          ],
          [
           "The numerical solution suggests that the exact behavior of the power spectrum is more involved and depends on other parameters in the problem."
          ],
          [
           "Effects of order one or higher on the power spectrum are often argued to be excluded due to the backreaction of excited states in the phase governed by the known physics."
          ],
          [
           "The upper bound on the second Bogolyubov coefficient is estimated to be of order sqrt(epsilon*eta) * H * M_pl / M^2."
          ],
          [
           "The back reaction of excited states with large Bogolyubov coefficients can be counteracted by simultaneously reducing the ratio of H and M."
          ],
          [
           "The largest value allowed for the new physics scale is approximately 21 * H."
          ],
          [
           "Super-excited initial conditions refer to highly excited initial conditions that can generate interesting observational effects."
          ],
          [
           "Super-excited states with k dependence can induce a running in the spectral index larger than O(epsilon^2). Position-dependent modulations of excited states with large occupation numbers can lead to the hemispherical anomaly."
          ],
          [
           "Rotational symmetry-breaking excited initial conditions can lead to statistically anisotropic power and bi-spectrum, which may have an impact for future galaxy surveys."
          ],
          [
           "The modified dispersion relations being explored have the form omega^2(k_ph) = bar(beta) * k_ph^6 - bar(alpha) * k_ph^4 + k_ph^2."
          ]
         ],
         "hovertemplate": "arxiv_id=1702.06101<br>x=%{x}<br>y=%{y}<br>nugget_answer=%{customdata[0]}<extra></extra>",
         "legendgroup": "1702.06101",
         "marker": {
          "color": "#B6E880",
          "symbol": "circle"
         },
         "mode": "markers",
         "name": "1702.06101",
         "orientation": "v",
         "showlegend": true,
         "type": "scatter",
         "x": [
          -19.932615280151367,
          -19.54656410217285,
          -16.696378707885742,
          -16.95684814453125,
          -18.985858917236328,
          -22.8797664642334,
          -23.199819564819336,
          -28.990095138549805,
          -29.47112464904785,
          -20.063779830932617,
          -28.40194320678711,
          -20.598020553588867
         ],
         "xaxis": "x",
         "y": [
          -39.137359619140625,
          -39.74306869506836,
          -38.819969177246094,
          -37.08772659301758,
          -37.071319580078125,
          -37.95625686645508,
          -37.36775588989258,
          -18.87979507446289,
          19.288400650024414,
          -36.11008071899414,
          18.51947593688965,
          -38.81312942504883
         ],
         "yaxis": "y"
        },
        {
         "customdata": [
          [
           "revealing cosmic reionization history with galaxy evolution"
          ],
          [
           "It occurred at z ~ 8 - 11"
          ],
          [
           "It completed at z ~ 6"
          ],
          [
           "low-mass galaxy formation with halo mass less than ~ 10^12 Msun"
          ],
          [
           "Lya emitters (LAEs)"
          ],
          [
           "Mh ~ 10^11 Msun"
          ],
          [
           "LAEs"
          ],
          [
           "Significant attenuation of Lyman-alpha fluxes due to neutral hydrogen in the IGM"
          ],
          [
           "Sufficient ionizing photons"
          ],
          [
           "Giant HII bubbles"
          ],
          [
           "James Webb Space Telescope (JWST), European Extremely Large Telescope (E-ELT), Thirty Meter Telescope (TMT), Giant Magellan Telescope (GMT)"
          ],
          [
           "Cosmic reionization and galaxy formation"
          ],
          [
           "They made patchy ionization structures in an inside-out fashion"
          ]
         ],
         "hovertemplate": "arxiv_id=1701.05571<br>x=%{x}<br>y=%{y}<br>nugget_answer=%{customdata[0]}<extra></extra>",
         "legendgroup": "1701.05571",
         "marker": {
          "color": "#FF97FF",
          "symbol": "circle"
         },
         "mode": "markers",
         "name": "1701.05571",
         "orientation": "v",
         "showlegend": true,
         "type": "scatter",
         "x": [
          -12.240219116210938,
          41.7702522277832,
          42.16616439819336,
          -15.190655708312988,
          47.39430236816406,
          22.774789810180664,
          47.375022888183594,
          10.475676536560059,
          9.177743911743164,
          31.173221588134766,
          27.647132873535156,
          -12.862625122070312,
          -4.550539493560791
         ],
         "xaxis": "x",
         "y": [
          10.932774543762207,
          -17.14834213256836,
          -17.011014938354492,
          14.078630447387695,
          -3.985133171081543,
          -14.531886100769043,
          -4.003594875335693,
          -0.8802251815795898,
          -5.449589729309082,
          18.017868041992188,
          22.943683624267578,
          11.254037857055664,
          -17.644418716430664
         ],
         "yaxis": "y"
        },
        {
         "customdata": [
          [
           "The nature of dark matter remains unknown."
          ],
          [
           "Cold dark matter is a scenario where dark matter is made of heavy, cold thermal relic particles that decoupled from baryonic matter in the early Universe."
          ],
          [
           "The $Lambda$CDM model is the standard cosmological model that includes cold dark matter (CDM) and dark energy. CDM accounts for about 26% of the current energy density of the Universe, while dark energy accounts for about 69%."
          ],
          [
           "The challenges for the $Lambda$CDM model include the 'too big to fail problem' and the 'Milky Way satellite problem'."
          ],
          [
           "The 'too big to fail problem' refers to the fact that the measured Galactic velocities indicate that dwarf galaxies are hosted by haloes that are less massive than those predicted by the $Lambda$CDM model."
          ],
          [
           "The 'Milky Way satellite problem' is related to predictions within the $Lambda$CDM cosmology for the number of dark matter sub-halos, which is much larger than the observed number of satellite galaxies that orbit close to the Milky Way."
          ],
          [
           "Possible solutions include lowering the total mass of the satellites through baryon or supernovae feedback effects, or modifying the underlying dark matter model."
          ],
          [
           "Mixed dark matter (MDM) models are a modified version of the cold dark matter (CDM) model that allow for a mixed cosmology with an additional dark and inert relic."
          ],
          [
           "The purpose is to study how cosmological measurements can be used to derive limits on the fraction of the non-cold dark matter (NCDM) component with respect to the total dark matter, as a function of its mass."
          ],
          [
           "The matter power spectrum in MDM scenarios can be used to compute the number of dwarf satellite galaxies and improve the compatibility with observations of the local Universe."
          ],
          [
           "Examples include fermions and bosons that froze-out when still relativistic, such as a sterile neutrino."
          ]
         ],
         "hovertemplate": "arxiv_id=1701.03128<br>x=%{x}<br>y=%{y}<br>nugget_answer=%{customdata[0]}<extra></extra>",
         "legendgroup": "1701.03128",
         "marker": {
          "color": "#FECB52",
          "symbol": "circle"
         },
         "mode": "markers",
         "name": "1701.03128",
         "orientation": "v",
         "showlegend": true,
         "type": "scatter",
         "x": [
          -33.59861755371094,
          -32.497154235839844,
          -30.426164627075195,
          -32.92502975463867,
          -32.82296371459961,
          -32.657527923583984,
          -25.751514434814453,
          -31.22184181213379,
          -30.308425903320312,
          -28.613176345825195,
          -34.77642059326172
         ],
         "xaxis": "x",
         "y": [
          -4.30522346496582,
          -2.863416910171509,
          -3.578395128250122,
          3.9560258388519287,
          4.449141979217529,
          3.3330600261688232,
          2.6447014808654785,
          -2.4960858821868896,
          -1.4502387046813965,
          0.538337230682373,
          -7.586147308349609
         ],
         "yaxis": "y"
        },
        {
         "customdata": [
          [
           "MACS~J0717.5+3745 is a merging galaxy cluster located at a redshift of $z=0.5458$."
          ],
          [
           "The global X-ray temperature of MACS~J0717.5+3745 is $11.6 pm 0.5$~keV."
          ],
          [
           "MACS~J0717.5+3745 consists of at least four separate merging substructures."
          ],
          [
           "A study of the Sunyaev-Zel'dovich (SZ) effect provided evidence for the presence of shock-heated gas in MACS~J0717.5+3745."
          ],
          [
           "The total mass of MACS~J0717.5+3745 is $M_{\rm{vir}} = left(3.5 pm 0.6\right) \times 10^{15} M_odot$."
          ],
          [
           "The radio halo in MACS~J0717.5+3745 extends over an area of about 1.6~Mpc."
          ],
          [
           "The radio relic in MACS~J0717.5+3745 is about 0.7--0.8~Mpc in size."
          ],
          [
           "The radio luminosity (1.4~GHz radio power) of MACS~J0717.5+3745 is the largest known for any cluster."
          ],
          [
           "The problem with the standard scenario for radio relics in clusters is that shock Mach numbers in clusters are typically low, making the Diffusive Shock Acceleration (DSA) mechanism inefficient."
          ]
         ],
         "hovertemplate": "arxiv_id=1701.04096<br>x=%{x}<br>y=%{y}<br>nugget_answer=%{customdata[0]}<extra></extra>",
         "legendgroup": "1701.04096",
         "marker": {
          "color": "#636efa",
          "symbol": "circle"
         },
         "mode": "markers",
         "name": "1701.04096",
         "orientation": "v",
         "showlegend": true,
         "type": "scatter",
         "x": [
          19.98575210571289,
          21.355403900146484,
          20.034194946289062,
          -5.844557285308838,
          21.406658172607422,
          19.500802993774414,
          19.654300689697266,
          18.582426071166992,
          -7.5722527503967285
         ],
         "xaxis": "x",
         "y": [
          -19.2854061126709,
          -18.227602005004883,
          -20.147945404052734,
          -14.030842781066895,
          -17.376270294189453,
          -17.985116958618164,
          -17.698936462402344,
          -18.457792282104492,
          1.2669624090194702
         ],
         "yaxis": "y"
        },
        {
         "customdata": [
          [
           "Angular momentum transport"
          ],
          [
           "MRI-driven turbulence"
          ],
          [
           "To probe numerical convergence of MHD turbulence in a particular disk model"
          ],
          [
           "Local and global models"
          ],
          [
           "Local models have a linear shear flow and are highly symmetric, while global models simulate a radial range within a disk without requiring a small scale height"
          ],
          [
           "-Omega^2 z"
          ],
          [
           "Unstratified models turn off the vertical component of gravity and use a uniform vertical density profile, while stratified models turn on the vertical component of gravity and use a $z$-dependent vertical density profile"
          ],
          [
           "Zero mean field models have all the currents that sustain the field contained within the simulation volume and can decay, while mean field models have one or more components of the field fixed by the boundary conditions and cannot decay"
          ],
          [
           "Explicit dissipation models incorporate dissipation directly in the model using parameters like viscosity and resistivity, while ILES models provide dissipation through the numerical scheme without explicit dissipation"
          ],
          [
           "Large-scale structures"
          ]
         ],
         "hovertemplate": "arxiv_id=1702.00777<br>x=%{x}<br>y=%{y}<br>nugget_answer=%{customdata[0]}<extra></extra>",
         "legendgroup": "1702.00777",
         "marker": {
          "color": "#EF553B",
          "symbol": "circle"
         },
         "mode": "markers",
         "name": "1702.00777",
         "orientation": "v",
         "showlegend": true,
         "type": "scatter",
         "x": [
          -8.31777572631836,
          20.28367042541504,
          19.243289947509766,
          -17.01984977722168,
          -16.515522003173828,
          43.76211166381836,
          -16.86766815185547,
          -15.586803436279297,
          -15.085681915283203,
          -5.024388790130615
         ],
         "xaxis": "x",
         "y": [
          -41.74626922607422,
          1.8204646110534668,
          0.9402769207954407,
          -28.310327529907227,
          -29.27199935913086,
          -15.74620532989502,
          -30.192909240722656,
          -30.84537124633789,
          -29.23114013671875,
          -21.829357147216797
         ],
         "yaxis": "y"
        },
        {
         "customdata": [
          [
           "Pulsars are powerful electromagnetic machines in the Universe that produce low-frequency electromagnetic waves and particle radiation."
          ],
          [
           "The energy source of pulsars is their huge rotational kinetic energy."
          ],
          [
           "The surface magnetic field of pulsars mediates the conversion of rotational kinetic energy into observed particle radiation."
          ],
          [
           "Fermi has increased the number of detected gamma-ray pulsars and established trends and correlations in their study."
          ],
          [
           "The numerical solutions provide information about the field structure and properties of more realistic configurations of pulsars."
          ],
          [
           "The dissipative magnetosphere models reveal that the emission of gamma-ray light-curves occurs near the equatorial current-sheet."
          ],
          [
           "The FIDO models improve the fitting of observed data by considering a hybrid form of conductivity and modulating the gamma-ray emission based on local physical properties."
          ],
          [
           "The study explored the spectral properties of FIDO models and found that the conductivity values depend on the spin-down rate and pulsar age."
          ],
          [
           "The Fermi cutoff energies contain information needed to determine the accelerating electric-field values in the FIDO models."
          ],
          [
           "The comparisons with Fermi data provide tight constraints on the conductivity values and uncover their dependence on the spin-down rate."
          ],
          [
           "The comparisons with Fermi data provide hints about the dependence of gap-widths and the multiplicity of emitting particles on the spin-down rate."
          ]
         ],
         "hovertemplate": "arxiv_id=1702.03069<br>x=%{x}<br>y=%{y}<br>nugget_answer=%{customdata[0]}<extra></extra>",
         "legendgroup": "1702.03069",
         "marker": {
          "color": "#00cc96",
          "symbol": "circle"
         },
         "mode": "markers",
         "name": "1702.03069",
         "orientation": "v",
         "showlegend": true,
         "type": "scatter",
         "x": [
          2.426337957382202,
          2.7462944984436035,
          2.3385581970214844,
          6.8516645431518555,
          -16.49687385559082,
          -6.402690410614014,
          3.823399305343628,
          4.027202129364014,
          4.869344234466553,
          4.936919689178467,
          5.24763298034668
         ],
         "xaxis": "x",
         "y": [
          -20.810352325439453,
          -22.00358009338379,
          -22.305988311767578,
          -37.0244140625,
          -36.64624786376953,
          -26.318025588989258,
          -39.99627685546875,
          -39.127967834472656,
          -40.33946990966797,
          -38.312477111816406,
          -38.011680603027344
         ],
         "yaxis": "y"
        },
        {
         "customdata": [
          [
           "The dominant nuclear fusion reaction in VLMS is the pp I chain reaction."
          ],
          [
           "The metallicity range of the usdL subclass of L subdwarfs is [Fe/H] ≤ -1.7."
          ],
          [
           "There are currently 36 L subdwarfs reported in the literature."
          ],
          [
           "According to the BT-Settl model fits, the metallicity of SDSS J0104+15 is [Fe/H] = -1.8 ± 0.2."
          ]
         ],
         "hovertemplate": "arxiv_id=1702.02001<br>x=%{x}<br>y=%{y}<br>nugget_answer=%{customdata[0]}<extra></extra>",
         "legendgroup": "1702.02001",
         "marker": {
          "color": "#ab63fa",
          "symbol": "circle"
         },
         "mode": "markers",
         "name": "1702.02001",
         "orientation": "v",
         "showlegend": true,
         "type": "scatter",
         "x": [
          -21.925172805786133,
          5.72575569152832,
          10.36896800994873,
          5.788676738739014
         ],
         "xaxis": "x",
         "y": [
          39.675357818603516,
          7.166697025299072,
          34.63902282714844,
          7.0471625328063965
         ],
         "yaxis": "y"
        },
        {
         "customdata": [
          [
           "Transit spectroscopy is the leading technique for studying exoplanet atmospheric composition."
          ],
          [
           "Transit observations have enabled the characterization of exoplanets for atmospheric molecular species, clouds, and/or hazes."
          ],
          [
           "Recent observational results have shown that hot Jupiter transit spectra demonstrate a complex continuum from clear sky to heavily clouded conditions."
          ],
          [
           "The anticipated launch of NASA's James Webb Space Telescope (JWST) is expected to revolutionize the field of exoplanet transit spectroscopy."
          ],
          [
           "Over the course of its mission, JWST is expected to provide in-depth observations of many tens of transiting exoplanets."
          ],
          [
           "JWST will probe planets in the poorly understood 2-4 Earth mass regime."
          ],
          [
           "JWST may even be capable of characterizing temperate Earth-sized planets."
          ],
          [
           "Refraction can affect the shape of an exoplanet transit lightcurve."
          ],
          [
           "Light multiple scattering has seen little study with regards to exoplanet transits."
          ],
          [
           "Scattering opacity in exoplanet transits has largely been treated as being equivalent to absorption opacity."
          ],
          [
           "The relative importance of scattering, refraction, and absorption remains largely unexplored for a wide portion of exoplanet parameter space."
          ],
          [
           "Studies on the relative importance of scattering, refraction, and absorption have been hindered by the lack of available simulation tools and a lack of a single, coherent theory of exoplanet transit spectroscopy."
          ]
         ],
         "hovertemplate": "arxiv_id=1701.05564<br>x=%{x}<br>y=%{y}<br>nugget_answer=%{customdata[0]}<extra></extra>",
         "legendgroup": "1701.05564",
         "marker": {
          "color": "#FFA15A",
          "symbol": "circle"
         },
         "mode": "markers",
         "name": "1701.05564",
         "orientation": "v",
         "showlegend": true,
         "type": "scatter",
         "x": [
          22.115158081054688,
          21.48891830444336,
          20.568115234375,
          27.98102569580078,
          27.70436668395996,
          27.766132354736328,
          27.68754768371582,
          18.121225357055664,
          18.425939559936523,
          19.345808029174805,
          18.457523345947266,
          18.737035751342773
         ],
         "xaxis": "x",
         "y": [
          25.286081314086914,
          25.483976364135742,
          26.15631675720215,
          24.279634475708008,
          25.304080963134766,
          26.941709518432617,
          27.127376556396484,
          26.223325729370117,
          29.06537437438965,
          28.72194480895996,
          27.99803924560547,
          27.719350814819336
         ],
         "yaxis": "y"
        },
        {
         "customdata": [
          [
           "The Habitable Zone (HZ) is the region around a star where a planet can support liquid water for certain values of the atmospheric pressure."
          ],
          [
           "It is estimated that there are approximately 10^10 Earth-sized planets that lie within the HZ of their stars in the Milky Way."
          ],
          [
           "Most HZ studies have focused on exoplanets around M-dwarfs because Earth-sized planets in the HZ are quite common and detailed characterizations of their atmospheres are easier since they are situated much closer to the host star."
          ],
          [
           "The potential discovery of Proxima Centauri b is significant because Proxima Centauri is the nearest star to the Earth and plans are already underway for exploring Proxima Centauri b."
          ],
          [
           "Exoplanetary atmospheres are an important area of research because spectroscopic analyses can potentially reveal the presence of life via biosignatures."
          ],
          [
           "Determining the escape rates of close-in exoplanets is important because high escape rates might deplete the planet of its atmosphere after a short period of time."
          ],
          [
           "One of the primary scientific goals of NASA's MAVEN mission is to determine the escape rates of Mars' atmosphere."
          ],
          [
           "The net ion escape rate estimated for Mars is approximately 2.5 x 10^24 s^-1."
          ],
          [
           "Sophisticated magnetohydrodynamical (MHD) models are necessary for studying the stellar wind-exoplanet interaction."
          ],
          [
           "Recent publications on magnetized and unmagnetized exoplanets have focused on studying atmospheric losses arising from stellar wind interaction."
          ]
         ],
         "hovertemplate": "arxiv_id=1702.04089<br>x=%{x}<br>y=%{y}<br>nugget_answer=%{customdata[0]}<extra></extra>",
         "legendgroup": "1702.04089",
         "marker": {
          "color": "#19d3f3",
          "symbol": "circle"
         },
         "mode": "markers",
         "name": "1702.04089",
         "orientation": "v",
         "showlegend": true,
         "type": "scatter",
         "x": [
          21.915639877319336,
          20.830228805541992,
          21.42784881591797,
          22.91391944885254,
          23.22136688232422,
          24.835134506225586,
          25.8041934967041,
          26.89934730529785,
          -2.6515257358551025,
          -2.869952917098999
         ],
         "xaxis": "x",
         "y": [
          34.557125091552734,
          33.94321060180664,
          33.271305084228516,
          31.853797912597656,
          29.8625545501709,
          30.899826049804688,
          30.952768325805664,
          31.85202407836914,
          -25.337472915649414,
          -25.408584594726562
         ],
         "yaxis": "y"
        },
        {
         "customdata": [
          [
           "The study of supernova remnants (SNRs) is focused on providing valuable information relevant to stellar evolution, the evolution of the Galaxy, and its interstellar medium."
          ],
          [
           "SNRs are primarily observed in X-rays, by emission from hot interior gas, and in radio, by synchrotron emission from relativistic electrons accelerated by the SNR shockwave."
          ],
          [
           "The observational constraints for different SNRs depend on the brightness of emissions in different wavebands by a given SNR and the instruments used to observe that SNR."
          ],
          [
           "Only a small fraction of the approximately 300 observed SNRs in our Galaxy have been well enough characterized to determine their evolutionary state, including explosion type, explosion energy, and age."
          ],
          [
           "The purpose of the presented set of SNR models and software implementation is to expedite the characterization of SNRs by providing a tool to obtain SNR physical properties of interest using different constraints from observations."
          ],
          [
           "Section 2 presents an overview of supernova remnant evolution."
          ],
          [
           "Section 3.1 describes some of the overall properties related to the calculation of SNR models, such as characteristic time and radius scales and electron-ion temperature equilibration."
          ],
          [
           "Section 3.2 describes the calculations for the standard evolutionary path of a SNR."
          ],
          [
           "Section 3.3 describes alternate evolutionary paths for SNRs, including cases of SNR in a cloudy ISM, the fractional energy loss model for SNR, and SNR evolution in a hot low-density ISM."
          ],
          [
           "Section 3.4 briefly describes the software."
          ],
          [
           "Section 4 gives results from example calculations done with the software."
          ],
          [
           "Section 5 gives a brief summary."
          ]
         ],
         "hovertemplate": "arxiv_id=1701.05942<br>x=%{x}<br>y=%{y}<br>nugget_answer=%{customdata[0]}<extra></extra>",
         "legendgroup": "1701.05942",
         "marker": {
          "color": "#FF6692",
          "symbol": "circle"
         },
         "mode": "markers",
         "name": "1701.05942",
         "orientation": "v",
         "showlegend": true,
         "type": "scatter",
         "x": [
          -5.578813552856445,
          9.515457153320312,
          9.7553071975708,
          -4.842433929443359,
          10.141498565673828,
          -6.310290336608887,
          11.039532661437988,
          12.060883522033691,
          11.965473175048828,
          -28.37082290649414,
          -28.15960693359375,
          -31.961750030517578
         ],
         "xaxis": "x",
         "y": [
          24.99856948852539,
          5.683201789855957,
          6.252984523773193,
          25.190902709960938,
          8.057463645935059,
          24.781925201416016,
          8.07218074798584,
          7.965684413909912,
          7.725939750671387,
          -33.905731201171875,
          -32.71782684326172,
          -32.05659484863281
         ],
         "yaxis": "y"
        },
        {
         "customdata": [
          [
           "They observed a lack of Lyman-(alpha) absorption in the spectra of high redshift quasars."
          ],
          [
           "They concluded that the neutral hydrogen fraction ((xHi)) in the intergalactic medium near (z=2) is extremely low ((xHi < 10^{-5}))."
          ],
          [
           "The lack of Gunn-Peterson troughs in the spectra of SDSS quasars with (z < 6) indicated that the intergalactic medium (IGM) was highly ionized."
          ],
          [
           "citet{Fan2006} observed a sharp increase in the effective optical depth to lya photons (\teff) at (z gtrsim 5.7), indicating an acceleration of the evolution of the IGM ionization state."
          ],
          [
           "citet{Becker2015} detected a (sim!110,h^{-1}),Mpc Gunn-Peterson trough covering the redshift range (5.523 leq z leq 5.879) in the lya forest towards the (z = 5.98) quasar ULAS J0148+0600."
          ],
          [
           "citet{Mesinger2010} proposed a novel approach where the fraction of pixels that have zero measured flux in both lya and lyb is used to directly measure an upper limit to the volume-weighted mean neutral hydrogen fraction."
          ],
          [
           "citet{McGreer2011,McGreer2014} concluded that reionization must be (almost) complete by (z sim 6) based on their measurements of dark pixels in the lya and lyb forests."
          ],
          [
           "The most recent optical depth measurements from emph{Planck} suggest a model-dependent redshift of reionization between (sim7.8) and (sim8.8)."
          ],
          [
           "The redshift of the quasar (uj) is (z = 7.084)."
          ]
         ],
         "hovertemplate": "arxiv_id=1702.03687<br>x=%{x}<br>y=%{y}<br>nugget_answer=%{customdata[0]}<extra></extra>",
         "legendgroup": "1702.03687",
         "marker": {
          "color": "#B6E880",
          "symbol": "circle"
         },
         "mode": "markers",
         "name": "1702.03687",
         "orientation": "v",
         "showlegend": true,
         "type": "scatter",
         "x": [
          7.952456474304199,
          11.128647804260254,
          10.092061996459961,
          12.309860229492188,
          13.070509910583496,
          12.204011917114258,
          12.386530876159668,
          12.774731636047363,
          17.296401977539062
         ],
         "xaxis": "x",
         "y": [
          1.804761290550232,
          0.6472371220588684,
          -0.060822244733572006,
          -2.206069231033325,
          -2.3513526916503906,
          0.35710495710372925,
          -3.349471092224121,
          -4.074647426605225,
          -15.518831253051758
         ],
         "yaxis": "y"
        },
        {
         "customdata": [
          [
           "Understanding the sources of cosmic reionization."
          ],
          [
           "At z > 6."
          ],
          [
           "Star-forming galaxies."
          ],
          [
           "They have steep faint-end slopes."
          ],
          [
           "Less than or equal to -16 mag."
          ],
          [
           "The numerical factor xi_ion."
          ],
          [
           "25.34 +/- 0.02 (log(xi_ion)/[erg^-1 Hz])."
          ],
          [
           "The fraction of escaping ionizing photons to those produced in a galaxy."
          ],
          [
           "Approximately 0.1."
          ],
          [
           "Approximately 0.6 and 0.9, respectively."
          ],
          [
           "Gravitational lensing."
          ],
          [
           "Cluster Lensing And Supernova survey with Hubble (CLASH)."
          ],
          [
           "Approximately 29 AB mag at the 5σ level."
          ],
          [
           "UV luminosity functions, properties of faint galaxies."
          ],
          [
           "Cosmology with Ωm = 0.3, ΩΛ = 0.7, Ωb = 0.04, and H0 = 70 km s^-1 Mpc^-1."
          ]
         ],
         "hovertemplate": "arxiv_id=1702.04867<br>x=%{x}<br>y=%{y}<br>nugget_answer=%{customdata[0]}<extra></extra>",
         "legendgroup": "1702.04867",
         "marker": {
          "color": "#FF97FF",
          "symbol": "circle"
         },
         "mode": "markers",
         "name": "1702.04867",
         "orientation": "v",
         "showlegend": true,
         "type": "scatter",
         "x": [
          -12.139300346374512,
          42.858402252197266,
          -12.368500709533691,
          -2.4469377994537354,
          29.132007598876953,
          31.3891544342041,
          31.502408981323242,
          8.395346641540527,
          35.97862243652344,
          35.75712585449219,
          15.043723106384277,
          16.747224807739258,
          29.577415466308594,
          -0.06255953758955002,
          -29.428020477294922
         ],
         "xaxis": "x",
         "y": [
          9.903984069824219,
          -16.63384246826172,
          13.958085060119629,
          7.022002220153809,
          -19.540542602539062,
          -16.501399993896484,
          -16.795318603515625,
          -4.90769624710083,
          -18.337047576904297,
          -19.271041870117188,
          16.924875259399414,
          15.97056770324707,
          -19.90323829650879,
          0.20789217948913574,
          -5.793047904968262
         ],
         "yaxis": "y"
        },
        {
         "customdata": [
          [
           "The radial velocity (RV) technique."
          ],
          [
           "About 20%."
          ],
          [
           "To determine the bulk densities of transiting planets and to look for more non-transiting planets in the system."
          ],
          [
           "Instrumental effects, time sampling effects, and the intrinsic variability of the star."
          ],
          [
           "Stellar variability."
          ],
          [
           "Techniques based on the stability and coherence of the periodic RV variability induced by a planet, compared to the transient nature of stellar activity."
          ],
          [
           "If the RV amplitude is not the same in all wavelengths, the variation is not caused by a planet but rather by a stellar spot."
          ],
          [
           "Photometry can provide information on the amount of stellar variability and its periodicity during the observations."
          ],
          [
           "Cross correlation function (CCF) properties, such as bisector span or full width at half maximum, and specific lines in the spectrum, such as ion{Ca}{II} H&K emission or the Hα line."
          ],
          [
           "Exploring a tool to distinguish between coherent and incoherent periodic signals."
          ]
         ],
         "hovertemplate": "arxiv_id=1702.03885<br>x=%{x}<br>y=%{y}<br>nugget_answer=%{customdata[0]}<extra></extra>",
         "legendgroup": "1702.03885",
         "marker": {
          "color": "#FECB52",
          "symbol": "circle"
         },
         "mode": "markers",
         "name": "1702.03885",
         "orientation": "v",
         "showlegend": true,
         "type": "scatter",
         "x": [
          18.802162170410156,
          36.09944534301758,
          22.827566146850586,
          14.023430824279785,
          14.846617698669434,
          16.353290557861328,
          14.835628509521484,
          15.71574878692627,
          17.115421295166016,
          27.91059112548828
         ],
         "xaxis": "x",
         "y": [
          22.041221618652344,
          -16.415781021118164,
          27.28778648376465,
          20.44439697265625,
          21.378156661987305,
          22.53974723815918,
          23.149810791015625,
          21.229087829589844,
          9.416807174682617,
          5.934597969055176
         ],
         "yaxis": "y"
        },
        {
         "customdata": [
          [
           "Blazars are Active Galactic Nuclei (AGN) with relativistically collimated jets."
          ],
          [
           "The central super-massive black hole in Blazars has a mass of approximately 10^8 solar masses."
          ],
          [
           "The two humps in the energy distribution of Blazars are one peaking in the IR-UV bands of clear Synchrotron origin and the other extending from hard X to gamma rays of likely inverse Compton nature."
          ],
          [
           "The two main flavors of Blazars are BL Lac-type sources and Flat Spectrum Radio Quasars (FSRQs)."
          ],
          [
           "FSRQs feature Compton-dominated spectra at gamma-ray energies, a conspicuous Big Blue Bump, and strong, broad optical emission lines."
          ],
          [
           "The observed synchrotron radiation in Blazars is emitted by relativistic electrons within the jet."
          ],
          [
           "The luminosity of the synchrotron radiation in Blazars is proportional to the density of relativistic electrons, the source size, the magnetic field, and the Lorentz factor of the electrons."
          ],
          [
           "The synchrotron self-Compton (SSC) radiation process is responsible for the gamma-ray outputs in many BL Lacs."
          ],
          [
           "The present paper focuses on the origin and modeling of apparently recurrent emissions in Blazars, particularly BL Lacs."
          ]
         ],
         "hovertemplate": "arxiv_id=1701.05350<br>x=%{x}<br>y=%{y}<br>nugget_answer=%{customdata[0]}<extra></extra>",
         "legendgroup": "1701.05350",
         "marker": {
          "color": "#636efa",
          "symbol": "circle"
         },
         "mode": "markers",
         "name": "1701.05350",
         "orientation": "v",
         "showlegend": true,
         "type": "scatter",
         "x": [
          0.5661756992340088,
          23.559965133666992,
          3.372183084487915,
          3.5092122554779053,
          5.048048973083496,
          1.0777946710586548,
          1.1759952306747437,
          2.034836769104004,
          4.696528434753418
         ],
         "xaxis": "x",
         "y": [
          -8.389422416687012,
          -10.307432174682617,
          -11.03147029876709,
          -9.303669929504395,
          -11.310708999633789,
          -11.89399528503418,
          -11.565408706665039,
          -12.993391036987305,
          -7.662334442138672
         ],
         "yaxis": "y"
        },
        {
         "customdata": [
          [
           "They form a massive iron core and may explode as CCSNe."
          ],
          [
           "They are types of supernovae that occur in a relatively narrow range of ZAMS masses."
          ],
          [
           "They are underenergetic, possibly underluminous, and have small ${}^{56}{\rm Ni}$ yields and peculiar nucleosynthetic abundances."
          ],
          [
           "They allow for self-consistent studies in 1D and have attracted significant interest in the CCSN mechanism community."
          ],
          [
           "They found an energetic explosion by the prompt shock mechanism with an energy of ${sim}2cdot 10^{51}$ erg."
          ]
         ],
         "hovertemplate": "arxiv_id=1702.03927<br>x=%{x}<br>y=%{y}<br>nugget_answer=%{customdata[0]}<extra></extra>",
         "legendgroup": "1702.03927",
         "marker": {
          "color": "#EF553B",
          "symbol": "circle"
         },
         "mode": "markers",
         "name": "1702.03927",
         "orientation": "v",
         "showlegend": true,
         "type": "scatter",
         "x": [
          -15.289205551147461,
          -1.2416322231292725,
          4.053753852844238,
          -21.72119903564453,
          16.596359252929688
         ],
         "xaxis": "x",
         "y": [
          25.93535614013672,
          29.3984432220459,
          28.954774856567383,
          -16.629859924316406,
          -11.6034574508667
         ],
         "yaxis": "y"
        },
        {
         "customdata": [
          [
           "October 2018"
          ],
          [
           "Near InfraRed Camera (NIRCam) and Mid InfraRed Instrument (MIRI)"
          ],
          [
           "0.7-25.5 μm"
          ],
          [
           "Lyman-break technique"
          ],
          [
           "Implications for the cosmic star formation rate density and the formation of massive galaxies"
          ],
          [
           "Advanced Camera for Surveys (ACS)"
          ],
          [
           "It effectively absorbs radiation with wavelengths shorter than the Lyman α transition"
          ],
          [
           "Wide-Field Camera 3 (WFC3)"
          ],
          [
           "Visible and Infrared Survey Telescope for Astronomy (VISTA)"
          ],
          [
           "Spitzer Space Telescope"
          ],
          [
           "James Webb Space Telescope (JWST)"
          ],
          [
           "First Billion Years, BlueTides, Renaissance"
          ],
          [
           "BehrooziSilk, Mason, Mashian"
          ],
          [
           "Some simulations are able to reproduce the galaxy population at z=0"
          ]
         ],
         "hovertemplate": "arxiv_id=1702.02146<br>x=%{x}<br>y=%{y}<br>nugget_answer=%{customdata[0]}<extra></extra>",
         "legendgroup": "1702.02146",
         "marker": {
          "color": "#00cc96",
          "symbol": "circle"
         },
         "mode": "markers",
         "name": "1702.02146",
         "orientation": "v",
         "showlegend": true,
         "type": "scatter",
         "x": [
          38.78523635864258,
          26.019906997680664,
          36.0773811340332,
          14.472784042358398,
          -13.279187202453613,
          27.583538055419922,
          10.154051780700684,
          28.209821701049805,
          26.726322174072266,
          29.03809356689453,
          28.196910858154297,
          43.04224395751953,
          42.10785675048828,
          -15.624313354492188
         ],
         "xaxis": "x",
         "y": [
          -13.550307273864746,
          20.160539627075195,
          -23.218996047973633,
          1.3050645589828491,
          12.416135787963867,
          19.19756507873535,
          -2.072779655456543,
          19.79014015197754,
          21.0541934967041,
          21.725404739379883,
          22.933408737182617,
          17.503711700439453,
          -3.605684518814087,
          10.204389572143555
         ],
         "yaxis": "y"
        },
        {
         "customdata": [
          [
           "Molecular clouds are composed of molecular (H$_2$) gas."
          ],
          [
           "Our understanding of molecular cloud and star formation is still limited."
          ],
          [
           "The density structure inside molecular clouds is governed by super-sonic turbulence."
          ],
          [
           "The density probability distribution function (pdf) of molecular clouds has a log-normal shape."
          ],
          [
           "The power-law tail in the density probability distribution function (pdf) of molecular clouds corresponds to small, pc-sized, high density gas clumps likely to collapse and form stars."
          ],
          [
           "The structure of molecular clouds has an imprint on the output stellar population."
          ],
          [
           "Low mass, low metallicity galaxies are primitive systems with large reservoirs of atomic gas and low abundance of metals."
          ],
          [
           "Metals affect the structure of star-forming clouds by acting as coolants and shielding cloud interiors from external radiation."
          ],
          [
           "The main effect of a lack of metals in pristine environments may be observational, rendering molecular gas hard to see or changing the balance of atomic and molecular gas in cold regions."
          ],
          [
           "Molecular cloud structure in our Galaxy is mapped by observing dust extinction, dust emission, or molecular line emission."
          ],
          [
           "Carbon monoxide (CO) is commonly used to trace H$_2$ molecules in molecular cloud structure mapping."
          ],
          [
           "In low metallicity environments, H$_2$ self-shielding becomes the primary shielding mechanism against dissociating radiation."
          ]
         ],
         "hovertemplate": "arxiv_id=1701.02748<br>x=%{x}<br>y=%{y}<br>nugget_answer=%{customdata[0]}<extra></extra>",
         "legendgroup": "1701.02748",
         "marker": {
          "color": "#ab63fa",
          "symbol": "circle"
         },
         "mode": "markers",
         "name": "1701.02748",
         "orientation": "v",
         "showlegend": true,
         "type": "scatter",
         "x": [
          -11.414382934570312,
          -12.637349128723145,
          -13.263898849487305,
          -14.01628589630127,
          -13.924284934997559,
          -11.041507720947266,
          -6.590013027191162,
          -10.831110954284668,
          -9.89720630645752,
          -10.610626220703125,
          -10.551377296447754,
          -11.393818855285645
         ],
         "xaxis": "x",
         "y": [
          30.11740493774414,
          21.840614318847656,
          31.767066955566406,
          29.654022216796875,
          29.45988655090332,
          27.475038528442383,
          16.732526779174805,
          25.911354064941406,
          25.355947494506836,
          28.45867156982422,
          30.727569580078125,
          25.01862907409668
         ],
         "yaxis": "y"
        },
        {
         "customdata": [
          [
           "The phenomenon of multiple populations in globular clusters refers to the presence of different stellar populations within a single cluster, characterized by variations in chemical abundances."
          ],
          [
           "The major source of the multiple populations phenomenon in globular clusters is the CNO-cycle burning of hydrogen, which involves the depletion or accumulation of elements used as catalysts in various CNO sub-cycles."
          ],
          [
           "The Mg-Al anti-correlation refers to the observed pattern of abundance variations between magnesium (Mg) and aluminum (Al) in globular clusters, which can vary significantly from one cluster to another."
          ],
          [
           "Studying the Mg-Al anti-correlation can provide strong constraints on the type of star responsible for the peculiar chemistry observed in globular clusters, as the Mg-Al cycle requires high temperatures."
          ],
          [
           "Magnesium and aluminum suffer much less internal mixing compared to other elements like carbon (C), nitrogen (N), sodium (Na), and oxygen (O), making their observed abundances less dependent on the evolutionary status of a star."
          ]
         ],
         "hovertemplate": "arxiv_id=1702.06083<br>x=%{x}<br>y=%{y}<br>nugget_answer=%{customdata[0]}<extra></extra>",
         "legendgroup": "1702.06083",
         "marker": {
          "color": "#FFA15A",
          "symbol": "circle"
         },
         "mode": "markers",
         "name": "1702.06083",
         "orientation": "v",
         "showlegend": true,
         "type": "scatter",
         "x": [
          -2.7308130264282227,
          -2.674797534942627,
          0.9718254208564758,
          0.779981255531311,
          0.23526206612586975
         ],
         "xaxis": "x",
         "y": [
          16.665067672729492,
          16.811338424682617,
          13.447149276733398,
          13.728495597839355,
          14.964852333068848
         ],
         "yaxis": "y"
        },
        {
         "customdata": [
          [
           "Both their radius and mass can be determined."
          ],
          [
           "Previous ground-based and space-based transit surveys."
          ],
          [
           "To understand planet formation, migration, and the composition of volatile-rich atmospheres."
          ],
          [
           "They occupy a region of parameter space that corresponds to the proposed dearth of short-period super-Neptune/sub-Jovian planets."
          ],
          [
           "Their atmospheres via transmission spectroscopy, spin-orbit (mis)alignments via the Rossiter-McLaughlin effect or doppler tomography, and possible presence of outer planets via transit timing variations."
          ],
          [
           "K2-105 b."
          ],
          [
           "High dispersion spectroscopy, high-contrast AO imaging, additional ground-based transit photometry, and radial velocity (RV) measurements."
          ],
          [
           "Approximately 230 parsecs."
          ],
          [
           "The international collaboration ESPRINT."
          ],
          [
           "ESPRINT (Equipo de Seguimiento de Planetas Rocosos Intepretando sus Transitos)."
          ]
         ],
         "hovertemplate": "arxiv_id=1701.01294<br>x=%{x}<br>y=%{y}<br>nugget_answer=%{customdata[0]}<extra></extra>",
         "legendgroup": "1701.01294",
         "marker": {
          "color": "#19d3f3",
          "symbol": "circle"
         },
         "mode": "markers",
         "name": "1701.01294",
         "orientation": "v",
         "showlegend": true,
         "type": "scatter",
         "x": [
          -24.323749542236328,
          22.34025764465332,
          24.115549087524414,
          5.373512268066406,
          19.992237091064453,
          43.298702239990234,
          20.035680770874023,
          31.475997924804688,
          32.24103927612305,
          31.724916458129883
         ],
         "xaxis": "x",
         "y": [
          -44.52772903442383,
          22.3322811126709,
          28.5228328704834,
          29.9512939453125,
          23.998559951782227,
          -9.434979438781738,
          21.805875778198242,
          -11.636537551879883,
          25.7076358795166,
          25.54265022277832
         ],
         "yaxis": "y"
        },
        {
         "customdata": [
          [
           "Fitting the spectral predictions of grid models to observations."
          ],
          [
           "By association with a stellar primary and evaluating the quality of fit."
          ],
          [
           "They can be traced back to the pioneering efforts of a few teams."
          ],
          [
           "Refining the thermal structure under the assumption of radiative-convective equilibrium."
          ],
          [
           "Thermochemical model, cloud model, convection model, and radiative transfer solver."
          ],
          [
           "Difficulty reproducing the general slope of near-infrared spectra of L dwarfs and discrepancies in inferred effective temperature."
          ],
          [
           "Low-gravity, low-metallicity/high-gravity, and unusual cloud properties."
          ],
          [
           "Confronting forward grid models with observations in a more nuanced manner."
          ],
          [
           "The weaker contrast in opacity windows and narrower temperature and pressure range."
          ],
          [
           "Introducing the new framework for performing retrievals in the cloudy L dwarf regime."
          ],
          [
           "Describing the validation of the retrieval technique using simulated targets."
          ],
          [
           "Presenting the first application of the retrieval technique to two mid-L dwarfs."
          ],
          [
           "Discussing the results and summarizing the conclusions."
          ]
         ],
         "hovertemplate": "arxiv_id=1701.01257<br>x=%{x}<br>y=%{y}<br>nugget_answer=%{customdata[0]}<extra></extra>",
         "legendgroup": "1701.01257",
         "marker": {
          "color": "#FF6692",
          "symbol": "circle"
         },
         "mode": "markers",
         "name": "1701.01257",
         "orientation": "v",
         "showlegend": true,
         "type": "scatter",
         "x": [
          -2.11106538772583,
          13.049859046936035,
          -22.44684600830078,
          -20.292747497558594,
          -20.331872940063477,
          7.380979537963867,
          -5.744654655456543,
          -2.2213127613067627,
          12.401579856872559,
          13.933329582214355,
          35.248138427734375,
          13.538797378540039,
          -30.131772994995117
         ],
         "xaxis": "x",
         "y": [
          -20.271692276000977,
          14.667195320129395,
          -20.75172996520996,
          -25.125911712646484,
          -25.123620986938477,
          26.993743896484375,
          16.803560256958008,
          -20.283597946166992,
          -38.72334289550781,
          32.01751708984375,
          7.841758728027344,
          31.912569046020508,
          -30.38810920715332
         ],
         "yaxis": "y"
        },
        {
         "customdata": [
          [
           "Obtaining spectroscopy of them."
          ],
          [
           "It measures the apparent radius of a planet during primary transit as a function of wavelength."
          ],
          [
           "To increase our understanding of exoplanet atmospheres."
          ],
          [
           "It is an instrument on the European Southern Observatory's (ESO) Very Large Telescope (VLT) used for exoplanet spectroscopy."
          ],
          [
           "It improves the performance of the instrument for exoplanet spectroscopy."
          ],
          [
           "To test the performance of FORS2 and confirm signals detected with the Hubble Space Telescope (HST)."
          ],
          [
           "It is an inflated hot-Jupiter with a mass and radius of approximately 0.48 MJ and 1.55 RJ, respectively."
          ],
          [
           "They revealed strong Rayleigh- and Mie-scattering by aerosols, and a strong K feature."
          ],
          [
           "Its previous observations show strong spectroscopic features that can be confirmed by FORS2."
          ]
         ],
         "hovertemplate": "arxiv_id=1702.02150<br>x=%{x}<br>y=%{y}<br>nugget_answer=%{customdata[0]}<extra></extra>",
         "legendgroup": "1702.02150",
         "marker": {
          "color": "#B6E880",
          "symbol": "circle"
         },
         "mode": "markers",
         "name": "1702.02150",
         "orientation": "v",
         "showlegend": true,
         "type": "scatter",
         "x": [
          18.274805068969727,
          18.233230590820312,
          23.71945571899414,
          25.386110305786133,
          24.718530654907227,
          23.575275421142578,
          26.8317813873291,
          -4.25588321685791,
          23.364032745361328
         ],
         "xaxis": "x",
         "y": [
          18.120267868041992,
          25.050222396850586,
          28.517234802246094,
          22.877580642700195,
          23.877805709838867,
          15.696285247802734,
          -15.184551239013672,
          -16.1890926361084,
          15.572290420532227
         ],
         "yaxis": "y"
        },
        {
         "customdata": [
          [
           "Superluminous supernovae (SLSNe) are a new class of intrinsically bright supernovae."
          ],
          [
           "Superluminous supernovae are classified based on their spectrophotometric behavior."
          ],
          [
           "Superluminous supernovae are divided into SLSNe I and SLSNe II, based on the presence or absence of hydrogen in their ejecta."
          ],
          [
           "SLSNe I are commonly found in dwarf, metal poor galaxies."
          ],
          [
           "The light curves of SLSNe I show significant differences in width and temporal evolution, with the rise times being correlated with the decline rates."
          ],
          [
           "The two groups of hydrogen-rich SLSNe are strongly interacting SNe (SLSNe IIn) and bright, broad-lined SNe (SLSNe II)."
          ],
          [
           "The most favored mechanism is a magnetar as a central engine, depositing additional energy into the supernova ejecta."
          ],
          [
           "SLSNe I are emerging as high redshift probes and might be a new class of distance indicators."
          ],
          [
           "Approaches to better understand SLSNe I include analyses of large datasets, spectropolarimetric studies, and spectroscopic modeling."
          ],
          [
           "The slowly evolving group of SLSNe I is of particular interest because their light curves decline at a rate consistent with powering by $^{56}$Co."
          ]
         ],
         "hovertemplate": "arxiv_id=1701.00941<br>x=%{x}<br>y=%{y}<br>nugget_answer=%{customdata[0]}<extra></extra>",
         "legendgroup": "1701.00941",
         "marker": {
          "color": "#FF97FF",
          "symbol": "circle"
         },
         "mode": "markers",
         "name": "1701.00941",
         "orientation": "v",
         "showlegend": true,
         "type": "scatter",
         "x": [
          -0.8326308727264404,
          -2.178959608078003,
          -1.4691390991210938,
          1.6081432104110718,
          1.4435921907424927,
          -0.7849577069282532,
          -16.871379852294922,
          1.377690315246582,
          2.918121814727783,
          1.3595466613769531
         ],
         "xaxis": "x",
         "y": [
          27.532609939575195,
          27.497520446777344,
          27.085718154907227,
          28.151405334472656,
          25.213001251220703,
          26.37066650390625,
          -15.180781364440918,
          27.05893898010254,
          25.846073150634766,
          25.749637603759766
         ],
         "yaxis": "y"
        },
        {
         "customdata": [
          [
           "Fast radio bursts (FRBs) are millisecond-duration flashes of coherent GHz radio emission of unknown physical origin."
          ],
          [
           "Most fast radio bursts (FRBs) arise from high Galactic latitudes."
          ],
          [
           "The inferred dispersion measures of fast radio bursts (FRBs) are much larger than expected for propagation through the cold plasma of our Galaxy and its halo, strongly suggesting that they are at cosmological distances."
          ],
          [
           "The only repeating case of fast radio bursts (FRBs) that has been detected is FRB 121102."
          ],
          [
           "The discovery of both persistent radio and optical sources associated with FRB 121102 and the identification of a host dwarf galaxy at a redshift of $z=0.193$ confirm a cosmological origin of this FRB."
          ],
          [
           "Four types of radio emission have been discussed for FRB 121102: rotationally-powered, magnetically-powered, gravitationally-powered, and kinetically-powered."
          ],
          [
           "Possible energy sources for FRB 121102 include millisecond magnetars, the release of magnetic energy in a magnetar's interior, accretion of magnetized materials onto a neutron star, and the magnetosphere of a regular pulsar combed by a nearby strong plasma stream."
          ],
          [
           "Recent observations of FRB 121102 have derived stringent constraints on the spin period and surface magnetic field strength of a central pulsar."
          ],
          [
           "The persistent radio emission source associated with FRB 121102 is mysterious and its physical origin remains controversial."
          ],
          [
           "Proposed models for the persistent radio emission source associated with FRB 121102 include the interaction of an ultra-relativistic pulsar wind with the supernova ejecta, the forward shock produced by the interaction between the fast outer layer of supernova ejecta and its ambient medium, and the heating effect of an FRB on its ambient self-absorbed synchrotron nebula."
          ],
          [
           "Some models for the persistent radio emission source associated with FRB 121102 assume a supernova ejecta with a mass of approximately 10 solar masses."
          ],
          [
           "One proposed solution to the non-detection of dispersion measure (DM) evolution in the persistent radio emission source associated with FRB 121102 is an ultra-stripped supernova with a mass of less than 0.1 solar masses."
          ],
          [
           "The new scenario proposed in this paper is a rapidly-rotating strongly"
          ]
         ],
         "hovertemplate": "arxiv_id=1702.05831<br>x=%{x}<br>y=%{y}<br>nugget_answer=%{customdata[0]}<extra></extra>",
         "legendgroup": "1702.05831",
         "marker": {
          "color": "#FECB52",
          "symbol": "circle"
         },
         "mode": "markers",
         "name": "1702.05831",
         "orientation": "v",
         "showlegend": true,
         "type": "scatter",
         "x": [
          7.163079738616943,
          8.355733871459961,
          8.676490783691406,
          9.335543632507324,
          10.910443305969238,
          8.048667907714844,
          8.388141632080078,
          7.802485942840576,
          9.847118377685547,
          9.318302154541016,
          10.293139457702637,
          10.441060066223145,
          -31.826112747192383
         ],
         "xaxis": "x",
         "y": [
          -17.770700454711914,
          -16.826175689697266,
          -17.312381744384766,
          -19.28799057006836,
          -19.08156394958496,
          -20.642234802246094,
          -21.655807495117188,
          -22.59702491760254,
          -20.465539932250977,
          -21.42992401123047,
          -21.668914794921875,
          -22.50986671447754,
          15.288342475891113
         ],
         "yaxis": "y"
        },
        {
         "customdata": [
          [
           "They are used to attribute approximated ages and distances to star clusters."
          ],
          [
           "It is based on theoretical stellar isochrones."
          ],
          [
           "The purpose is to derive quantitative measurements of their star formation and chemical enrichment histories."
          ],
          [
           "Additional intrinsic stellar properties are required."
          ],
          [
           "Its evolution is determined by complex and interconnected processes that cannot be simply modeled from first principles."
          ],
          [
           "To enable a quantitative comparison between model predictions and the properties of TP-AGB populations observed in nearby galaxies."
          ],
          [
           "Processes like third dredge-up, hot-bottom burning, low-temperature opacity changes, distinct spectra of carbon (C) stars, reprocessing of radiation by circumstellar dust, and expected pulsation periods."
          ],
          [
           "They are used to compute the stellar evolutionary tracks."
          ],
          [
           "The new isochrones include more details than the previous ones and are specifically designed to advance in the calibration of the TP-AGB evolution."
          ]
         ],
         "hovertemplate": "arxiv_id=1701.08510<br>x=%{x}<br>y=%{y}<br>nugget_answer=%{customdata[0]}<extra></extra>",
         "legendgroup": "1701.08510",
         "marker": {
          "color": "#636efa",
          "symbol": "circle"
         },
         "mode": "markers",
         "name": "1701.08510",
         "orientation": "v",
         "showlegend": true,
         "type": "scatter",
         "x": [
          9.742866516113281,
          10.52867317199707,
          8.063058853149414,
          14.048442840576172,
          -15.765046119689941,
          7.017613887786865,
          5.032824516296387,
          10.035090446472168,
          36.32908248901367
         ],
         "xaxis": "x",
         "y": [
          15.272276878356934,
          14.301358222961426,
          14.68458366394043,
          13.591431617736816,
          -10.019420623779297,
          14.113981246948242,
          21.544736862182617,
          15.003277778625488,
          15.38664722442627
         ],
         "yaxis": "y"
        },
        {
         "customdata": [
          [
           "The Magellanic Clouds are a highly-studied galaxy pair."
          ],
          [
           "Astronomers can study galaxy interactions and evolution in unprecedented detail."
          ],
          [
           "The tidal features include the Magellanic Bridge, the Magellanic Stream, and the Leading Arm."
          ],
          [
           "The Magellanic Bridge is a contiguous, gaseous tidal feature that spans the region between the LMC and SMC."
          ],
          [
           "The Magellanic Bridge is located at a distance of 55 kpc, the mean distance to the LMC and SMC."
          ],
          [
           "The bulk of the H\textsc{i} emission in the Magellanic Bridge has a radial velocity in the range of +100 km/s to +300 km/s."
          ],
          [
           "The Magellanic Bridge is thought to have formed approximately 200 Myr ago when the LMC and SMC were at their closest approach to one another."
          ],
          [
           "Tidal tails, streams, and bridges serve as a siphon for galactic material to be dispensed into the diffuse intergalactic medium."
          ],
          [
           "The stretching and compressing of tidally stripped gas may serve as a mechanism for the amplification of existing magnetic fields."
          ],
          [
           "Classically, the radio continuum tidal bridge connecting the 'Taffy' galaxies was estimated to have a similar magnetic-field strength to the pre-collision galaxies."
          ],
          [
           "Tidal dwarfs in the Leo Triplet have a total magnetic-field strength of $B_T = 3.3 pm 0.5 mu$G, while those in Stephan's Quintet have $B_T = 6.5 pm 1.9 mu$G."
          ],
          [
           "Polarization vectors in the plane of the sky trace out a path from the SMC along the western Bridge oriented in the direction of the LMC."
          ],
          [
           "Studies of Faraday rotation of background polarized radio sources towards the LMC have determined that the galaxy has a coherent magnetic field of strength approximately 1 $mu$G."
          ],
          [
           "Observations of the SMC using Faraday rotation measures and polarized starlight have shown a possible alignment of the magnetic field with the Magellanic Bridge."
          ],
          [
           "Faraday rotation towards extragalactic polarized sightlines has shown that a high-velocity cloud in the Leading Arm hosts a coherent magnetic field."
          ],
          [
           "The existence of a coherent magnetic field connecting the two Magellanic Clouds, known as the Pan-Magellanic Field, has not been directly confirmed."
          ],
          [
           "Faraday rotation is the rotation of the polarization angle of electromagnetic waves as they pass through a magneto-ionic material."
          ],
          [
           "The rotation measure is the total observed Faraday rotation, defined as the change in polarization angle per unit squared wavelength."
          ],
          [
           "Faraday rotation can be used to analyze magnetism when the rotating material is located along the line-of-sight."
          ]
         ],
         "hovertemplate": "arxiv_id=1701.05962<br>x=%{x}<br>y=%{y}<br>nugget_answer=%{customdata[0]}<extra></extra>",
         "legendgroup": "1701.05962",
         "marker": {
          "color": "#EF553B",
          "symbol": "circle"
         },
         "mode": "markers",
         "name": "1701.05962",
         "orientation": "v",
         "showlegend": true,
         "type": "scatter",
         "x": [
          -7.910506725311279,
          -8.972180366516113,
          8.965923309326172,
          8.605572700500488,
          8.828882217407227,
          10.154711723327637,
          8.06333065032959,
          1.5747226476669312,
          0.20243269205093384,
          2.47291898727417,
          4.755887985229492,
          5.524491310119629,
          4.368952751159668,
          5.642923831939697,
          4.178808212280273,
          5.942529678344727,
          -8.348804473876953,
          -8.915547370910645,
          -7.8639092445373535
         ],
         "xaxis": "x",
         "y": [
          10.581122398376465,
          11.017667770385742,
          -32.07645034790039,
          -31.2689151763916,
          -30.063716888427734,
          -28.242578506469727,
          -30.555831909179688,
          -27.642303466796875,
          -28.94548988342285,
          -28.13237190246582,
          -26.96275520324707,
          -31.56694793701172,
          -28.359352111816406,
          -30.082014083862305,
          -29.126161575317383,
          -29.275712966918945,
          -30.859704971313477,
          -30.937053680419922,
          -30.695627212524414
         ],
         "yaxis": "y"
        },
        {
         "customdata": [
          [
           "SU(5)"
          ],
          [
           "It leads to an effective potential without holes of depth O(1) in natural units and allows for the possibility of Planck-compatible cosmological inflation."
          ],
          [
           "A single volume modulus field"
          ],
          [
           "All the quadratic, bilinear, and trilinear scalar couplings vanish, leading to phenomenology that contradicts experimental constraints."
          ],
          [
           "Postulating universal values of m0, B0, and A0."
          ],
          [
           "A four-parameter theory that includes a universal gaugino mass."
          ],
          [
           "It relates B0 and A0 (B0 = A0 - m0)."
          ],
          [
           "Because it requires m0 = A0 = B0 = 0."
          ],
          [
           "Pure gravity mediation, in which the gaugino masses, A and B terms are determined by anomaly mediation, leaving only the gravitino mass as a free parameter."
          ],
          [
           "Models where the input universality scale differs from the GUT scale."
          ],
          [
           "Super-GUT"
          ],
          [
           "To accommodate smaller values of tan β and hence an acceptably long proton lifetime, while also having an acceptable value of the Higgs mass."
          ],
          [
           "A stau (or the stau is tachyonic)."
          ],
          [
           "The problem of the lightest sparticle being a stau (or the stau being tachyonic)."
          ]
         ],
         "hovertemplate": "arxiv_id=1702.00379<br>x=%{x}<br>y=%{y}<br>nugget_answer=%{customdata[0]}<extra></extra>",
         "legendgroup": "1702.00379",
         "marker": {
          "color": "#00cc96",
          "symbol": "circle"
         },
         "mode": "markers",
         "name": "1702.00379",
         "orientation": "v",
         "showlegend": true,
         "type": "scatter",
         "x": [
          40.684444427490234,
          22.933544158935547,
          -14.606402397155762,
          -29.405040740966797,
          -13.060042381286621,
          -35.77989959716797,
          -12.528796195983887,
          -12.429473876953125,
          -35.75732421875,
          -18.47786521911621,
          38.35945510864258,
          -32.52471923828125,
          -40.004886627197266,
          -39.85601806640625
         ],
         "xaxis": "x",
         "y": [
          -7.460216045379639,
          -2.890672206878662,
          -32.218109130859375,
          -15.959254264831543,
          -47.08344650268555,
          -17.0523738861084,
          -47.26448059082031,
          -47.62483596801758,
          -16.97315216064453,
          -9.506377220153809,
          -7.77792501449585,
          -15.712237358093262,
          -15.863309860229492,
          -15.86965274810791
         ],
         "yaxis": "y"
        },
        {
         "customdata": [
          [
           "Classical novae are the result of a thermonuclear runaway taking place on the surface of a white dwarf and are fueled by matter accreted onto the white dwarf from a companion star."
          ],
          [
           "During a nova outburst, approximately $10^{-3} - 10^{-7} M_{odot}$ of mass is ejected."
          ],
          [
           "The ejected mass during a nova outburst has velocities greater than $10^3$ km/s."
          ],
          [
           "Nova outbursts in the GeV gamma-ray regime have gamma-ray luminosities of $10^{34}-10^{36}$ erg s$^{-1}$."
          ],
          [
           "Nova outbursts in the GeV gamma-ray regime last for 2--8 weeks around optical maximum."
          ],
          [
           "The two potential classes of processes for producing gamma rays from relativistic particles are leptonic and hadronic processes."
          ],
          [
           "In the leptonic process, electrons are accelerated to relativistic speeds."
          ],
          [
           "In the hadronic process, ions are accelerated to relativistic speeds."
          ],
          [
           "The likely source of the accelerated particles in novae is strong shocks."
          ],
          [
           "The first nova detected by Fermi/LAT was V407 Cyg."
          ],
          [
           "A model was proposed wherein a shock was generated as the nova ejecta interacted with the dense ambient medium."
          ],
          [
           "A similar model was proposed to explain the inferred presence of relativistic particles in RS Oph."
          ],
          [
           "The novae detected by Fermi/LAT without a detectable red-giant companion are V1324 Sco, V959 Mon, V339 Del, V1369 Cen, and V5668 Sgr."
          ],
          [
           "In novae without a detectable red-giant companion, it is more likely that the shocks are being produced within the ejecta, due to different components of the ejecta colliding with one another (internal shocks)."
          ],
          [
           "There has been long-standing evidence for internal shocks in classical novae from X-ray observations."
          ],
          [
           "One idea for generating internal shocks in novae is the interaction of the binary with the puffed-up nova envelope, resulting in a relatively slow flow with density enhancement along the binary orbital plane."
          ]
         ],
         "hovertemplate": "arxiv_id=1701.03094<br>x=%{x}<br>y=%{y}<br>nugget_answer=%{customdata[0]}<extra></extra>",
         "legendgroup": "1701.03094",
         "marker": {
          "color": "#ab63fa",
          "symbol": "circle"
         },
         "mode": "markers",
         "name": "1701.03094",
         "orientation": "v",
         "showlegend": true,
         "type": "scatter",
         "x": [
          -30.43783187866211,
          13.629663467407227,
          13.700255393981934,
          11.84485912322998,
          11.617212295532227,
          -34.93183898925781,
          -34.29643630981445,
          -34.33707046508789,
          -30.23094367980957,
          19.3739070892334,
          -28.78188705444336,
          -25.928373336791992,
          19.510591506958008,
          -29.76820182800293,
          -30.73093032836914,
          -28.730878829956055
         ],
         "xaxis": "x",
         "y": [
          30.042354583740234,
          -11.00162410736084,
          -11.277044296264648,
          -9.944635391235352,
          -10.068724632263184,
          -10.3773832321167,
          -11.44110107421875,
          -11.371207237243652,
          27.98967933654785,
          -4.973956108093262,
          27.29477882385254,
          -17.776662826538086,
          -4.692362308502197,
          28.73305320739746,
          27.82834243774414,
          28.1669864654541
         ],
         "yaxis": "y"
        },
        {
         "customdata": [
          [
           "BL Lac objects are a class of radio-loud active galactic nuclei (AGNs) characterized by rapid and large-amplitude flux variability, flat radio spectra, peculiar infrared colors, and significant and variable optical polarization."
          ],
          [
           "The two subclasses of radio-loud AGNs are BL Lac objects and flat spectrum radio quasars (FSRQs)."
          ],
          [
           "Both BL Lacs and FSRQs feature a typical double-bumped spectral energy distribution (SED) with the first component peaking between the infrared (IR) and the X-rays and the second one in the gamma-rays."
          ],
          [
           "BL Lacs are traditionally discovered using radio, X-ray surveys, and/or their combination."
          ],
          [
           "The most efficient survey for discovering new BL Lacs is the Fermi gamma-ray one, particularly when combining gamma-ray observations with mid-IR colors analyses and follow-up optical spectroscopic observations."
          ],
          [
           "The major open issue for BL Lac objects is proving the existence of radio-weak BL Lac objects (RWBLs)."
          ],
          [
           "Proving the existence of radio-weak BL Lac objects would have implications on source counts and luminosity functions, gamma-ray association methods, and the unification scenario of AGNs."
          ]
         ],
         "hovertemplate": "arxiv_id=1701.06067<br>x=%{x}<br>y=%{y}<br>nugget_answer=%{customdata[0]}<extra></extra>",
         "legendgroup": "1701.06067",
         "marker": {
          "color": "#FFA15A",
          "symbol": "circle"
         },
         "mode": "markers",
         "name": "1701.06067",
         "orientation": "v",
         "showlegend": true,
         "type": "scatter",
         "x": [
          1.8524219989776611,
          3.165537118911743,
          4.5176310539245605,
          6.16942024230957,
          6.299234867095947,
          4.442824840545654,
          4.229452133178711
         ],
         "xaxis": "x",
         "y": [
          -8.040407180786133,
          -8.880148887634277,
          -10.753495216369629,
          -8.393270492553711,
          -8.552556037902832,
          -5.5772385597229,
          -5.465976238250732
         ],
         "yaxis": "y"
        },
        {
         "customdata": [
          [
           "Fast radio bursts are a recently identified type of transient radio emission."
          ],
          [
           "The localization of the host galaxy of the repeating Fast Radio Burst 121102 established that sources of FRBs are cosmological objects."
          ],
          [
           "The host galaxy of the repeating Fast Radio Burst 121102 is located at a distance of approximately 1 Gpc."
          ],
          [
           "The equation for the instantaneous (isotropic-equivalent) luminosity of FRB 121102 is L_{FRB} = 4πD^2(νF_ν) ≈ 10^42F_{1 Jy}D_{Gpc}^2 erg s^-1."
          ],
          [
           "The equation for the equipartition magnetic field energy density at the source of FRBs is B_eq = √(8π)(√(νF_ν)D)/(c^(3/2)τ) = 3 × 10^8τ_{-3}^-1 G."
          ],
          [
           "The brightness temperature implies the presence of a coherent mechanism in FRBs."
          ],
          [
           "The estimate of the wave intensity parameter in FRBs is a ≈ 10^5."
          ],
          [
           "The correct definition of the intensity parameter in FRBs is a_B = eE/(m_e cω_B) ≈ 1."
          ],
          [
           "The most promising loci of FRBs emission generation are magnetars and young pulsars."
          ],
          [
           "The two possible types of production of radio emission in FRBs are hypothetical radio emission accompanying giant flares in magnetars and giant pulses emitted by young pulsars."
          ],
          [
           "The sources of energy for FRBs in the case of magnetars are strong magnetic fields, while in the case of young pulsars it is the rotational energy."
          ]
         ],
         "hovertemplate": "arxiv_id=1701.02003<br>x=%{x}<br>y=%{y}<br>nugget_answer=%{customdata[0]}<extra></extra>",
         "legendgroup": "1701.02003",
         "marker": {
          "color": "#19d3f3",
          "symbol": "circle"
         },
         "mode": "markers",
         "name": "1701.02003",
         "orientation": "v",
         "showlegend": true,
         "type": "scatter",
         "x": [
          6.814301490783691,
          10.745113372802734,
          11.752110481262207,
          12.516009330749512,
          12.96444320678711,
          13.819753646850586,
          14.739189147949219,
          14.471062660217285,
          5.414252281188965,
          6.3568949699401855,
          4.0808610916137695
         ],
         "xaxis": "x",
         "y": [
          -17.645858764648438,
          -18.437299728393555,
          -17.752534866333008,
          -21.986675262451172,
          -22.90180015563965,
          -20.613759994506836,
          -21.789979934692383,
          -22.021377563476562,
          -20.658920288085938,
          -19.913034439086914,
          -21.715131759643555
         ],
         "yaxis": "y"
        },
        {
         "customdata": [
          [
           "The natural expectation is that dark matter haloes and their resident galaxies grow in tandem."
          ],
          [
           "The growth channels include mergers (major/minor, with/without gas) and gas accretion (smooth or clumpy)."
          ],
          [
           "Some baryonic processes involved in galaxy assembly are gas dissipation, star formation, and feedback processes due to active galactic nuclei or supernova."
          ],
          [
           "Baryonic processes can alter the dark matter distribution, especially in the most-central parts, through adiabatic halo contraction or halo expansion through gravitational heating from infalling gas clumps or outflows linked to feedback events."
          ],
          [
           "The relative distributions of dark matter and baryons in present-day galaxies contain clues about when and how they formed and how they have evolved."
          ],
          [
           "Halo growth is divided into two phases: an early phase of rapid growth via mergers and accretion, and a later phase of growth predominantly in the galaxy outskirts."
          ],
          [
           "During the early phase of halo growth, dark matter haloes experience an increase in core size and extent, while the halo concentration is kept fairly constant."
          ],
          [
           "The halo concentration is directly linked to the density of the universe at the epoch when the halo formed."
          ],
          [
           "During the later phase of halo growth, dark matter haloes get bigger in size while the core sizes may grow or shrink depending on various events."
          ],
          [
           "The observed dark matter density within the scale radius should reflect the epoch of halo assembly as well as imprints of how baryonic processes have altered the distribution of dark matter within the halo during galaxy evolution."
          ],
          [
           "Massive early-type galaxies formed through minor and/or dry major mergers have a significant fraction of stars formed ex-situ, low angular momentum content, old central stars, and high dark matter fraction at large radii."
          ],
          [
           "Events such as violent relaxation, adiabatic halo contraction, or halo expansion can affect the core sizes of dark matter haloes during the later phase of halo growth."
          ],
          [
           "At a fiducial 5 effective radii, dark matter is expected to dominate the mass profiles in ETGs."
          ],
          [
           "On average, the dark matter fraction within 5 effective radii in most ETGs is greater than or equal to 0.6."
          ],
          [
           "Dynamical mass tracers such as planetary nebulae (PNe) or globular clusters (GCs) are used to probe the dark matter fraction at large radii in ETGs."
          ]
         ],
         "hovertemplate": "arxiv_id=1701.05904<br>x=%{x}<br>y=%{y}<br>nugget_answer=%{customdata[0]}<extra></extra>",
         "legendgroup": "1701.05904",
         "marker": {
          "color": "#FF6692",
          "symbol": "circle"
         },
         "mode": "markers",
         "name": "1701.05904",
         "orientation": "v",
         "showlegend": true,
         "type": "scatter",
         "x": [
          -24.055179595947266,
          -26.63082504272461,
          -19.07140350341797,
          -24.786638259887695,
          -21.412240982055664,
          -25.944677352905273,
          -25.339418411254883,
          -22.991792678833008,
          -25.681507110595703,
          -22.521299362182617,
          -17.083494186401367,
          -25.429061889648438,
          -15.841072082519531,
          -15.739416122436523,
          -15.473105430603027
         ],
         "xaxis": "x",
         "y": [
          7.259747505187988,
          9.502705574035645,
          10.689412117004395,
          3.5083749294281006,
          4.9420857429504395,
          8.483595848083496,
          6.471340179443359,
          5.919469833374023,
          6.182670593261719,
          4.692489147186279,
          14.211149215698242,
          5.009316921234131,
          -1.4602760076522827,
          -1.6284412145614624,
          0.05327968671917915
         ],
         "yaxis": "y"
        },
        {
         "customdata": [
          [
           "Observations indicate a tight relationship between star formation rates and stellar masses."
          ],
          [
           "The Kennicutt-Schmidt relation is a relationship between star formation rates and gas surface densities."
          ],
          [
           "Bursty star formation refers to galaxies in which a significant fraction of star formation occurs in recurrent bursts, even if the star formation rate is time steady when averaged over cosmological timescales."
          ],
          [
           "A key prediction of the FIRE cosmological zoom-in simulations is bursty star formation at high redshift and in dwarf galaxies."
          ],
          [
           "The goal of the paper is to develop an analytic model to understand when and where galactic star formation is expected to be bursty vs. time steady."
          ],
          [
           "Bursty star formation in dwarf galaxies can produce cored dark matter halo profiles and help maintain a population of dwarf galaxies blue to z~0."
          ],
          [
           "The burstiness of star formation may explain several observational indications of time variable star formation on different timescales."
          ]
         ],
         "hovertemplate": "arxiv_id=1701.04824<br>x=%{x}<br>y=%{y}<br>nugget_answer=%{customdata[0]}<extra></extra>",
         "legendgroup": "1701.04824",
         "marker": {
          "color": "#B6E880",
          "symbol": "circle"
         },
         "mode": "markers",
         "name": "1701.04824",
         "orientation": "v",
         "showlegend": true,
         "type": "scatter",
         "x": [
          -5.705616474151611,
          -6.334840297698975,
          -10.257414817810059,
          -15.067862510681152,
          -9.944701194763184,
          -15.724421501159668,
          -9.661112785339355
         ],
         "xaxis": "x",
         "y": [
          6.930691719055176,
          7.476620197296143,
          14.477544784545898,
          11.902629852294922,
          13.26406478881836,
          11.621590614318848,
          14.583274841308594
         ],
         "yaxis": "y"
        },
        {
         "customdata": [
          [
           "About 10%"
          ],
          [
           "They are oblique magnetic rotators (OMR) with a dipolar magnetic field topology."
          ],
          [
           "The existence of well-ordered magnetic fields."
          ],
          [
           "Observable photometric, spectroscopic, and magnetic variability."
          ],
          [
           "The presence of large-scale magnetic fields."
          ],
          [
           "UV spectra and the Hα line."
          ],
          [
           "Magnetically confined wind shock (MCWS)."
          ],
          [
           "Accumulation of hot material close to the magnetic equatorial plane and X-ray radiation."
          ],
          [
           "σ Ori E"
          ],
          [
           "It works in opposition to the gravitational infall of the magnetospheric plasma."
          ],
          [
           "The existence of a centrifugal magnetosphere filled by stellar wind material."
          ],
          [
           "Optically thick emission arising from a stable rigidly rotating magnetosphere (RRM)."
          ],
          [
           "They originate in regions far from the stellar surface where the kinetic energy density of the gas is high enough to brake the magnetic field lines forming current sheets."
          ],
          [
           "Radio emissions at different frequencies."
          ],
          [
           "Physical parameters such as the global magnetic field topology, the spatial stratification of the thermal electron density, and the non-thermal electron number density."
          ],
          [
           "The efficiency of the electron acceleration mechanism and the effects of rotation, wind, and magnetic field geometry."
          ]
         ],
         "hovertemplate": "arxiv_id=1701.07679<br>x=%{x}<br>y=%{y}<br>nugget_answer=%{customdata[0]}<extra></extra>",
         "legendgroup": "1701.07679",
         "marker": {
          "color": "#FF97FF",
          "symbol": "circle"
         },
         "mode": "markers",
         "name": "1701.07679",
         "orientation": "v",
         "showlegend": true,
         "type": "scatter",
         "x": [
          36.15554428100586,
          -33.728614807128906,
          -3.3248836994171143,
          15.985666275024414,
          -3.433039426803589,
          16.537893295288086,
          -2.107612371444702,
          -6.287695407867432,
          44.530174255371094,
          -5.101785182952881,
          -3.664383888244629,
          -4.933712959289551,
          -6.649183750152588,
          7.571016788482666,
          -5.036941051483154,
          -4.396938800811768
         ],
         "xaxis": "x",
         "y": [
          -16.823162078857422,
          12.376482009887695,
          -30.053691864013672,
          20.75510597229004,
          -29.741943359375,
          10.345067024230957,
          -27.440763473510742,
          -27.450490951538086,
          -14.478710174560547,
          -24.799762725830078,
          -27.37833595275879,
          -27.46356201171875,
          -25.50340461730957,
          -14.294925689697266,
          -32.736778259277344,
          -32.906036376953125
         ],
         "yaxis": "y"
        },
        {
         "customdata": [
          [
           "Early-type galaxies are galaxies with either elliptical or lenticular morphologies."
          ],
          [
           "The two-phase evolution theory suggests that early-type galaxies undergo an initial phase of in-situ star formation followed by a phase of mass growth through the accretion of satellite systems."
          ],
          [
           "The main processes involved in the formation of lenticular galaxies are mergers/accretion and the removal of gas from a spiral galaxy through secular or environmental mechanisms."
          ],
          [
           "Ram pressure stripping is a process in which the intracluster medium strips gas away from galaxies as they fall into a cluster."
          ],
          [
           "The dominant processes in the formation of S0 galaxies in low-density field environments are mergers/interactions and secular processes such as gas loss through internal mechanisms."
          ],
          [
           "The alternate pathway for S0 galaxy formation suggests that these galaxies are initially compact spheroidal objects at high redshift, whose discs built up over time from cold gas accretion."
          ],
          [
           "Early-type galaxies can be classified based on their central kinematic measurements as centrally fast or slow rotators."
          ]
         ],
         "hovertemplate": "arxiv_id=1702.05099<br>x=%{x}<br>y=%{y}<br>nugget_answer=%{customdata[0]}<extra></extra>",
         "legendgroup": "1702.05099",
         "marker": {
          "color": "#FECB52",
          "symbol": "circle"
         },
         "mode": "markers",
         "name": "1702.05099",
         "orientation": "v",
         "showlegend": true,
         "type": "scatter",
         "x": [
          -22.538061141967773,
          -19.853275299072266,
          -20.28963279724121,
          -24.346830368041992,
          -19.46631622314453,
          -18.84625816345215,
          -23.019807815551758
         ],
         "xaxis": "x",
         "y": [
          15.61504077911377,
          15.286409378051758,
          12.719358444213867,
          25.095449447631836,
          12.892070770263672,
          13.452549934387207,
          15.311327934265137
         ],
         "yaxis": "y"
        },
        {
         "customdata": [
          [
           "The Crab Nebula is a pulsar wind nebula and the brightest steady source in the Northern sky above 1 TeV."
          ],
          [
           "The first high-confidence TeV detection of the Crab Nebula was in 1989 using the Whipple telescope."
          ],
          [
           "Photons from synchrotron emission of the electrons themselves are likely the dominant target for inverse-Compton up-scattering in the Crab Nebula."
          ],
          [
           "Yes, the Crab Nebula is generally believed to be steady at higher energies."
          ],
          [
           "The High Altitude Water Cherenkov (HAWC) observatory is a new instrument sensitive to multi-TeV hadron and gamma-ray air showers."
          ],
          [
           "The HAWC observatory is located at a latitude of +19°N at an altitude of 4,100 meters in the Sierra Negra, Mexico."
          ],
          [
           "The Water Cherenkov Detectors (WCDs) in HAWC consist of a 7.3-meter diameter, 5-meter tall steel tank lined with a plastic bladder and filled with purified water."
          ],
          [
           "Energetic particles that reach the HAWC detectors can interact in the water and produce optical light via Cherenkov radiation."
          ],
          [
           "The detector is fully efficient to gamma rays with a primary energy above 1 TeV."
          ],
          [
           "The discriminators in HAWC are used to estimate the total amount of charge collected in the PMTs by measuring the length of time that PMT pulses spend above certain thresholds."
          ],
          [
           "The hit rate of the 8-inch PMTs in HAWC is 20-30 kHz."
          ],
          [
           "The trigger condition for preserving events in HAWC is a simple multiplicity trigger, requiring some number of PMTs to be hit within 150 ns."
          ]
         ],
         "hovertemplate": "arxiv_id=1701.01778<br>x=%{x}<br>y=%{y}<br>nugget_answer=%{customdata[0]}<extra></extra>",
         "legendgroup": "1701.01778",
         "marker": {
          "color": "#636efa",
          "symbol": "circle"
         },
         "mode": "markers",
         "name": "1701.01778",
         "orientation": "v",
         "showlegend": true,
         "type": "scatter",
         "x": [
          16.97177505493164,
          17.84518051147461,
          0.8091026544570923,
          16.53995704650879,
          17.54368019104004,
          17.90268325805664,
          17.775705337524414,
          16.972429275512695,
          11.866473197937012,
          20.567975997924805,
          21.182952880859375,
          20.96673011779785
         ],
         "xaxis": "x",
         "y": [
          -7.2361159324646,
          -6.708629131317139,
          -13.16181755065918,
          -7.441898345947266,
          -29.881166458129883,
          -28.61715316772461,
          -30.551374435424805,
          -30.349510192871094,
          -7.924551486968994,
          -33.2944221496582,
          -32.30263900756836,
          -32.86930847167969
         ],
         "yaxis": "y"
        },
        {
         "customdata": [
          [
           "The aim is to achieve mmag-level precision."
          ],
          [
           "It is carried out via an internal, self-calibrating method."
          ],
          [
           "The precision aimed for is better than the precision of other currently available large catalogues of photometric standards."
          ],
          [
           "Additional calibrations were carried out to address unexpected systematic effects, such as linear trends with time and increased background level."
          ],
          [
           "It is necessary to check that the calibrations have removed all the systematic effects and that the accuracies achieved are close to the photon noise level."
          ],
          [
           "Future releases are expected to have improved accuracies as further calibrations are introduced into the data processing."
          ],
          [
           "Some validation is given to the processing of the spectral calibrations of the blue and red photometers due to the use of colour information in the calibration of the G-band photometry."
          ],
          [
           "Sections BpRpCal to Convergence cover the direct validations of the calibrations carried out in the photometric processing."
          ],
          [
           "Sections Accumulation to Constant cover internal consistency checks using the accumulated photometric data, the photometric residuals, and an analysis of the epoch photometry of constant sources."
          ],
          [
           "Section External describes external comparisons."
          ],
          [
           "Section Conclusions summarizes the conclusions."
          ],
          [
           "Further validation of the overall catalogue can be found in CU9Validation."
          ],
          [
           "The following subsection provides a brief description of the Gaia instruments and data."
          ]
         ],
         "hovertemplate": "arxiv_id=1701.05873<br>x=%{x}<br>y=%{y}<br>nugget_answer=%{customdata[0]}<extra></extra>",
         "legendgroup": "1701.05873",
         "marker": {
          "color": "#EF553B",
          "symbol": "circle"
         },
         "mode": "markers",
         "name": "1701.05873",
         "orientation": "v",
         "showlegend": true,
         "type": "scatter",
         "x": [
          38.631874084472656,
          38.58614730834961,
          37.54417037963867,
          37.03132247924805,
          36.65155792236328,
          36.752044677734375,
          34.679847717285156,
          34.407596588134766,
          33.502803802490234,
          -30.783721923828125,
          -30.094655990600586,
          34.11958694458008,
          23.13363265991211
         ],
         "xaxis": "x",
         "y": [
          15.371766090393066,
          12.701333045959473,
          15.323077201843262,
          12.144920349121094,
          12.240158081054688,
          14.831811904907227,
          10.688672065734863,
          10.998114585876465,
          11.865961074829102,
          -33.99214553833008,
          -31.328948974609375,
          8.637886047363281,
          21.285505294799805
         ],
         "yaxis": "y"
        },
        {
         "customdata": [
          [
           "The failure of the second reaction wheel in 2013."
          ],
          [
           "The spacecraft has been operating in a mode called K2, using the solar wind and periodic thruster firings to mitigate drift."
          ],
          [
           "The purpose is to enable continuing precision science with K2 by producing light curves with precision approaching that of the original Kepler mission."
          ],
          [
           "The pipeline developed in Paper I is called EVEREST (EPIC Variability Extraction and Removal for Exoplanet Science Targets)."
          ],
          [
           "EVEREST employs a variant of pixel level decorrelation (PLD) based on the method of Deming et al. (2015)."
          ],
          [
           "EVEREST 2.0 improves the precision of K2 light curves at all magnitudes relative to version 1.0."
          ],
          [
           "EVEREST 2.0 addresses certain issues with overfitting."
          ],
          [
           "EVEREST 2.0 reliably de-trends saturated stars and stars observed in short cadence mode."
          ],
          [
           "The mathematical framework of the EVEREST 2.0 model is derived in Section 2."
          ],
          [
           "The implementation of the EVEREST 2.0 pipeline is described in Section 3."
          ],
          [
           "The results are presented in Section 4."
          ],
          [
           "Section 5 briefly discusses how to use the EVEREST catalog and code."
          ],
          [
           "Section 6 provides a summary of the work."
          ]
         ],
         "hovertemplate": "arxiv_id=1702.05488<br>x=%{x}<br>y=%{y}<br>nugget_answer=%{customdata[0]}<extra></extra>",
         "legendgroup": "1702.05488",
         "marker": {
          "color": "#00cc96",
          "symbol": "circle"
         },
         "mode": "markers",
         "name": "1702.05488",
         "orientation": "v",
         "showlegend": true,
         "type": "scatter",
         "x": [
          -18.0534725189209,
          35.878082275390625,
          36.601165771484375,
          37.02863693237305,
          40.042877197265625,
          38.612762451171875,
          39.07484817504883,
          39.2071533203125,
          38.564125061035156,
          38.144588470458984,
          -28.5935115814209,
          39.020591735839844,
          -31.626564025878906
         ],
         "xaxis": "x",
         "y": [
          28.205686569213867,
          20.15053367614746,
          20.1601619720459,
          25.130706787109375,
          23.3399600982666,
          21.712509155273438,
          22.788185119628906,
          21.738468170166016,
          24.702388763427734,
          24.966121673583984,
          -32.13759231567383,
          26.07292938232422,
          -31.994766235351562
         ],
         "yaxis": "y"
        },
        {
         "customdata": [
          [
           "The globular cluster $omega$ Cen (NGC 5139) is peculiar and extreme in many aspects."
          ],
          [
           "It is one of the most massive and less relaxed globular clusters in our Galaxy. It shows no strong sign of mass segregation, rotates, and is flattened. It is known to host multiple stellar populations with different chemical abundances."
          ],
          [
           "The controversy is regarding the presence of an intermediate-mass black hole (IMBH) in its center."
          ],
          [
           "Finding IMBHs could provide useful insights to understand galaxy formation and evolution. IMBHs could be the seeds for the growth of super-massive black holes found in the centers of many galaxies."
          ],
          [
           "Observing the X-ray luminosity in the center of the cluster and measuring the radio continuum emissions are some methods used to estimate the mass of a possible IMBH."
          ],
          [
           "Globular clusters are almost gas-free, so the absence of accreting IMBHs does not necessarily mean there is no IMBH present."
          ],
          [
           "The two most studied signatures are a shallow cusp in the surface brightness profile and a rise in the velocity dispersion profile towards the center of the cluster."
          ],
          [
           "Mass segregation, core collapse, the presence of binary stars in the center, and radially-biased pressure anisotropy can produce similar signatures to an IMBH in a cluster."
          ],
          [
           "The first claim was made by Noyola and Gebhardt in 2008."
          ]
         ],
         "hovertemplate": "arxiv_id=1702.00725<br>x=%{x}<br>y=%{y}<br>nugget_answer=%{customdata[0]}<extra></extra>",
         "legendgroup": "1702.00725",
         "marker": {
          "color": "#ab63fa",
          "symbol": "circle"
         },
         "mode": "markers",
         "name": "1702.00725",
         "orientation": "v",
         "showlegend": true,
         "type": "scatter",
         "x": [
          -3.7671196460723877,
          -3.531205177307129,
          -10.978612899780273,
          -10.930914878845215,
          -8.51509952545166,
          -9.225822448730469,
          1.3623826503753662,
          -9.907477378845215,
          39.365257263183594
         ],
         "xaxis": "x",
         "y": [
          13.506747245788574,
          14.184697151184082,
          3.5635836124420166,
          5.409912109375,
          4.262912273406982,
          6.64133358001709,
          23.063621520996094,
          5.557614803314209,
          -13.08273696899414
         ],
         "yaxis": "y"
        },
        {
         "customdata": [
          [
           "The fact that they appear as unresolved point sources."
          ],
          [
           "Three-dimensional kinematic and chemical data from the expanding ejecta."
          ],
          [
           "Information about the explosion dynamics, nucleosynthetic yields, and mixing of the progenitor star's chemically distinct layers."
          ],
          [
           "The progenitor star system's evolutionary stages and mass-loss."
          ],
          [
           "The fate of the supernova's remnant core."
          ],
          [
           "The increasing interaction of the supernova with local environments."
          ],
          [
           "Inhomogeneous circumstellar and/or interstellar mediums (CSM/ISM), or non-spherical explosion."
          ],
          [
           "Both areas of research."
          ],
          [
           "Diversity and rates of supernova types and subclasses, as well as peak mean ejection velocities of chemically distinct layers."
          ],
          [
           "Detailed three-dimensional kinematic and chemical information of the ejecta and progenitor star mass loss distribution."
          ]
         ],
         "hovertemplate": "arxiv_id=1701.00891<br>x=%{x}<br>y=%{y}<br>nugget_answer=%{customdata[0]}<extra></extra>",
         "legendgroup": "1701.00891",
         "marker": {
          "color": "#FFA15A",
          "symbol": "circle"
         },
         "mode": "markers",
         "name": "1701.00891",
         "orientation": "v",
         "showlegend": true,
         "type": "scatter",
         "x": [
          2.9418725967407227,
          -4.857027053833008,
          -4.097265720367432,
          -6.752037525177002,
          -17.763853073120117,
          -18.84455108642578,
          -28.562410354614258,
          -22.964725494384766,
          -3.701882839202881,
          -5.155325412750244
         ],
         "xaxis": "x",
         "y": [
          3.147860527038574,
          20.401382446289062,
          21.81322479248047,
          20.583480834960938,
          26.09186363220215,
          25.140775680541992,
          23.454288482666016,
          -29.899381637573242,
          22.17371940612793,
          20.650178909301758
         ],
         "yaxis": "y"
        },
        {
         "customdata": [
          [
           "Galaxy mergers"
          ],
          [
           "Elliptical galaxies have a lower specific angular momentum than spiral galaxies."
          ],
          [
           "Galaxy mergers"
          ],
          [
           "Galaxy mergers can naturally explain the positions of elliptical galaxies."
          ],
          [
           "It follows closely that of the inner parts of its halos."
          ],
          [
           "Mergers are not the only responsible, early quenching can also result in low specific angular momentum."
          ],
          [
           "Galaxies form a continuous sequence instead of two sequences."
          ],
          [
           "It is regulated by their mass and dynamical state."
          ],
          [
           "It has a scatter that correlates with the bulge-to-total mass ratio."
          ],
          [
           "They can be classified as fast and slow rotators."
          ],
          [
           "It increases steeply with stellar mass."
          ],
          [
           "They can be very varied."
          ]
         ],
         "hovertemplate": "arxiv_id=1701.04407<br>x=%{x}<br>y=%{y}<br>nugget_answer=%{customdata[0]}<extra></extra>",
         "legendgroup": "1701.04407",
         "marker": {
          "color": "#19d3f3",
          "symbol": "circle"
         },
         "mode": "markers",
         "name": "1701.04407",
         "orientation": "v",
         "showlegend": true,
         "type": "scatter",
         "x": [
          -23.982711791992188,
          -24.433860778808594,
          -23.983352661132812,
          -24.572431564331055,
          -0.3695308566093445,
          -27.05376625061035,
          -17.86162567138672,
          -24.255130767822266,
          -5.705133438110352,
          -32.23330307006836,
          -4.932747840881348,
          -32.19047546386719
         ],
         "xaxis": "x",
         "y": [
          11.348438262939453,
          17.137130737304688,
          11.348644256591797,
          13.491340637207031,
          8.773212432861328,
          12.414660453796387,
          16.393220901489258,
          -44.423255920410156,
          5.236059188842773,
          12.469428062438965,
          6.437199592590332,
          10.795519828796387
         ],
         "yaxis": "y"
        },
        {
         "customdata": [
          [
           "Primordial non-Gaussianity (PNG) is one of the most promising probes to distinguish between different models of inflation."
          ],
          [
           "Inflation is a theory to describe an era of exponential expansion of the very early universe."
          ],
          [
           "Inflation can solve the horizon problem as well as the flatness problem."
          ],
          [
           "Inflation can explain the origin of structure formation through the creation of initial fluctuations."
          ],
          [
           "Measurements of the cosmic microwave background (CMB) with the Planck satellite provide the best constraints on primordial non-Gaussianity."
          ],
          [
           "Future galaxy surveys have the potential to significantly improve constraints on primordial non-Gaussianity."
          ],
          [
           "Redshift weighting is an analysis strategy that assigns weights to galaxies over a broad redshift range, taking into account the redshift evolution of the underlying physical theory."
          ],
          [
           "Redshift weighting has the potential to notably improve cosmological constraints from large scale structure surveys."
          ],
          [
           "Redshift weighting avoids information loss due to edge effects and disjoint bins, and reduces computational time by requiring a single analysis instead of measuring each redshift bin separately."
          ],
          [
           "The redshift weights are derived for optimising large scale structure surveys for local non-Gaussianity measurements."
          ]
         ],
         "hovertemplate": "arxiv_id=1702.05088<br>x=%{x}<br>y=%{y}<br>nugget_answer=%{customdata[0]}<extra></extra>",
         "legendgroup": "1702.05088",
         "marker": {
          "color": "#FF6692",
          "symbol": "circle"
         },
         "mode": "markers",
         "name": "1702.05088",
         "orientation": "v",
         "showlegend": true,
         "type": "scatter",
         "x": [
          -21.955101013183594,
          37.56055450439453,
          39.38719940185547,
          38.279457092285156,
          -21.9329891204834,
          -21.168909072875977,
          -38.84700393676758,
          -37.9957389831543,
          -38.54865264892578,
          -37.6109619140625
         ],
         "xaxis": "x",
         "y": [
          -7.149162769317627,
          1.2619104385375977,
          1.922684669494629,
          1.4990698099136353,
          -6.2351250648498535,
          -5.987148284912109,
          21.068313598632812,
          20.60024642944336,
          21.577306747436523,
          20.248207092285156
         ],
         "yaxis": "y"
        },
        {
         "customdata": [
          [
           "The existence of power-law stellar density cusps in dynamically relaxed clusters around massive black holes."
          ],
          [
           "Peebles"
          ],
          [
           "The nuclear star cluster around the massive black hole at the center of the Milky Way."
          ],
          [
           "The observations suggest the absence of a stellar cusp."
          ],
          [
           "Stellar collisions removing the envelopes of stars in the innermost, densest regions of the cusp."
          ],
          [
           "Around 80% of the stars formed more than 5 Gyr ago."
          ],
          [
           "Interaction with fragmenting gaseous discs in the past."
          ],
          [
           "To find the predicted stellar cusp of the nuclear stellar cluster around Sagittarius A*."
          ],
          [
           "0.47 ± 0.07"
          ],
          [
           "Even fainter stars."
          ]
         ],
         "hovertemplate": "arxiv_id=1701.03817<br>x=%{x}<br>y=%{y}<br>nugget_answer=%{customdata[0]}<extra></extra>",
         "legendgroup": "1701.03817",
         "marker": {
          "color": "#B6E880",
          "symbol": "circle"
         },
         "mode": "markers",
         "name": "1701.03817",
         "orientation": "v",
         "showlegend": true,
         "type": "scatter",
         "x": [
          -13.633200645446777,
          32.2021484375,
          -4.655178070068359,
          7.317144870758057,
          -16.072439193725586,
          -11.543070793151855,
          -19.666385650634766,
          -2.7118117809295654,
          36.39472961425781,
          -2.7722127437591553
         ],
         "xaxis": "x",
         "y": [
          4.610912322998047,
          19.53740692138672,
          11.376617431640625,
          2.9444446563720703,
          21.340991973876953,
          15.98349380493164,
          22.28324317932129,
          11.364531517028809,
          -22.006776809692383,
          8.51501178741455
         ],
         "yaxis": "y"
        },
        {
         "customdata": [
          [
           "The primary power-law X-ray emission from luminous accreting black holes originates from the corona."
          ],
          [
           "The primary power-law X-ray emission originates from the corona, which is a hot cloud close to the center of the accretion disc."
          ],
          [
           "Soft disc photons are Compton-upscattered in the corona to make the power-law continuum."
          ],
          [
           "The high-energy turnover in the power-law continuum is generally interpreted as the temperature of the corona."
          ],
          [
           "Rapid changes in the primary continuum, interpreted using X-ray reflection and reverberation signatures, indicate that the corona has a relatively small size."
          ],
          [
           "The fraction of the bolometric power passing through the corona ranges from about 10 to 50 percent."
          ],
          [
           "A compact corona in a luminous accreting black hole system must be a dynamic structure because the heating and cooling timescales for the hot electrons are less than the light crossing time of the corona."
          ],
          [
           "The thermal energy content of a spherical corona with typical properties is small."
          ],
          [
           "A spherical corona with typical properties has a very small mass."
          ],
          [
           "The luminosity obtained if all the coronal energy is released on a crossing time is much less than the Eddington luminosity."
          ],
          [
           "Higher luminosities in a compact corona require that both cooling and heating occur on a faster timescale."
          ],
          [
           "The energy supplying the heat in a compact corona must be stored in the corona, probably in the form of magnetic fields powered by the accretion disc."
          ],
          [
           "It is unclear what controls the plasma temperature, or temperatures, in the corona and how any stable equilibrium is established if only heating and cooling are involved."
          ],
          [
           "\textit{NuSTAR} observations of Active Galactic Nuclei (AGN) show that they avoid the region where pair production runs away, indicating that the process may play a role."
          ],
          [
           "Observations of some AGN indicate that the temperature of the corona is much smaller than expected on the basis of purely thermal pair production."
          ],
          [
           "Hybrid coronae containing a mixture of thermal and nonthermal particles are considered in the study."
          ],
          [
           "The highly magnetized corona is powered by dissipation of magnetic energy."
          ],
          [
           "In a compact corona, energetic particles may not have time to thermalize before inverse Compton cooling reduces their energy."
          ],
          [
           "The cooling of energetic pairs in the corona can result in a relatively cool thermal particle population with a temperature well below 100 keV."
          ],
          [
           "The lowest temperature objects can be the most pair-dominated."
          ],
          [
           "Hybrid models for the corona were introduced over two decades ago."
          ],
          [
           "Hybrid models provide a better explanation for the hard X-ray spectra of luminous accreting black holes than purely nonthermal or thermal models."
          ]
         ],
         "hovertemplate": "arxiv_id=1701.06774<br>x=%{x}<br>y=%{y}<br>nugget_answer=%{customdata[0]}<extra></extra>",
         "legendgroup": "1701.06774",
         "marker": {
          "color": "#FF97FF",
          "symbol": "circle"
         },
         "mode": "markers",
         "name": "1701.06774",
         "orientation": "v",
         "showlegend": true,
         "type": "scatter",
         "x": [
          -8.714147567749023,
          -8.538981437683105,
          -7.406858444213867,
          -10.0909423828125,
          -11.975556373596191,
          -9.897587776184082,
          -11.283393859863281,
          -12.853781700134277,
          -12.352058410644531,
          -13.580048561096191,
          -11.50178050994873,
          -9.433769226074219,
          -13.122567176818848,
          -2.63759708404541,
          -13.788782119750977,
          -14.940659523010254,
          -9.002714157104492,
          -14.77122974395752,
          -14.870662689208984,
          -16.900558471679688,
          -15.76064682006836,
          -7.185142993927002
         ],
         "xaxis": "x",
         "y": [
          -20.031614303588867,
          -20.16645622253418,
          -20.20122718811035,
          -21.198413848876953,
          -20.17683219909668,
          -19.031307220458984,
          -22.562698364257812,
          -19.386186599731445,
          -19.26585578918457,
          -17.898807525634766,
          -22.388402938842773,
          -22.984514236450195,
          -23.11463737487793,
          -0.3669596016407013,
          -20.793302536010742,
          -23.043092727661133,
          -23.001174926757812,
          -19.49945068359375,
          -20.106891632080078,
          -19.930543899536133,
          -24.02273941040039,
          -9.695903778076172
         ],
         "yaxis": "y"
        },
        {
         "customdata": [
          [
           "There is dynamical evidence for the existence of super massive black holes in the center of many nearby galaxies."
          ],
          [
           "The mass range of these super massive black holes is approximately $10^6-10^9$ M$_odot$."
          ],
          [
           "Scaling relations connect the mass of black holes with the properties of their host galaxies, such as the galactic bulge mass and the bulge stars velocity dispersion."
          ],
          [
           "The co-evolution between black holes and their host galaxies suggests a connection between the growth of the black hole and the evolution of the galaxy."
          ],
          [
           "The critical mass for triggering the co-evolution between black holes and galactic bulges is approximately $10^6$ M$_odot$."
          ],
          [
           "The detection of very bright quasars at high redshift implies the existence of black holes with masses of the order of $10^9$ M$_odot$ when the universe was about 1 Gyr old."
          ],
          [
           "One of the main challenges of current galaxy formation theories is understanding the rapid early evolution of black holes."
          ],
          [
           "Previous work by Prieto and Escala studied the mass transport process in high redshift galactic discs and the effect of supernova feedback on black hole growth."
          ],
          [
           "Outflows generated by AGN activity can have spatial extensions of at least kpc and can reach velocities of the order of 10^3 km/s."
          ],
          [
           "The paper is organized into sections that cover numerical details of the simulations, results based on gas dynamic analysis, discussion, and main conclusions."
          ]
         ],
         "hovertemplate": "arxiv_id=1701.06172<br>x=%{x}<br>y=%{y}<br>nugget_answer=%{customdata[0]}<extra></extra>",
         "legendgroup": "1701.06172",
         "marker": {
          "color": "#FECB52",
          "symbol": "circle"
         },
         "mode": "markers",
         "name": "1701.06172",
         "orientation": "v",
         "showlegend": true,
         "type": "scatter",
         "x": [
          -12.994197845458984,
          -11.39057731628418,
          -14.890822410583496,
          -14.314143180847168,
          -12.359234809875488,
          -11.34476375579834,
          -14.258862495422363,
          -16.393760681152344,
          -1.9533132314682007,
          -27.754249572753906
         ],
         "xaxis": "x",
         "y": [
          4.84333610534668,
          1.243109107017517,
          5.299740791320801,
          6.6320109367370605,
          1.1075496673583984,
          0.13026754558086395,
          7.626341342926025,
          6.8021240234375,
          -9.261635780334473,
          -30.06158447265625
         ],
         "yaxis": "y"
        },
        {
         "customdata": [
          [
           "Conditions such as photo-evaporation, close stellar encounters, and nearby supernovae can influence the subsequent evolution of newborn stars and their protoplanetary discs."
          ],
          [
           "Some suggested mechanisms for the removal of gas from protoplanetary discs include photo-evaporation, angular momentum transport, magnetic winds, and magnetic braking."
          ],
          [
           "The movement of protoplanetary discs through an ambient medium can influence their evolution."
          ],
          [
           "A previous work investigated the extent to which stars surrounded by protoplanetary discs can sweep up gas from their surroundings."
          ],
          [
           "The two processes that decrease the size of a protoplanetary disc when a star and its disc move through a gaseous environment are stripping of disc material by ram pressure and the accretion of interstellar medium with little to no azimuthal angular momentum."
          ],
          [
           "As disc material migrates inwards, the surface density profile of a protoplanetary disc increases at smaller radii."
          ],
          [
           "The inward migration of gas in a protoplanetary disc could play a role in planet formation and/or migration."
          ],
          [
           "The physical effects that determine the size of a protoplanetary disc and affect the process of entraining interstellar medium are ram pressure stripping, redistribution of angular momentum, close stellar encounters, and photo-evaporation."
          ],
          [
           "The purpose of the theoretical model presented in this paper is to describe the processes of ram pressure stripping and redistribution of angular momentum that can be implemented in future studies."
          ]
         ],
         "hovertemplate": "arxiv_id=1702.04383<br>x=%{x}<br>y=%{y}<br>nugget_answer=%{customdata[0]}<extra></extra>",
         "legendgroup": "1702.04383",
         "marker": {
          "color": "#636efa",
          "symbol": "circle"
         },
         "mode": "markers",
         "name": "1702.04383",
         "orientation": "v",
         "showlegend": true,
         "type": "scatter",
         "x": [
          -20.87504768371582,
          -23.28122329711914,
          -21.33893394470215,
          -20.174360275268555,
          -23.19260597229004,
          -22.318214416503906,
          -21.631147384643555,
          -22.756948471069336,
          -24.93221664428711
         ],
         "xaxis": "x",
         "y": [
          23.782434463500977,
          22.277681350708008,
          22.298044204711914,
          21.133682250976562,
          23.485815048217773,
          20.804298400878906,
          21.434709548950195,
          23.52309226989746,
          24.898893356323242
         ],
         "yaxis": "y"
        },
        {
         "customdata": [
          [
           "The Milky Way nuclear star cluster."
          ],
          [
           "Discrete velocities in three dimensions."
          ],
          [
           "The mass distribution of the star cluster and the presence of a central dark massive object."
          ],
          [
           "(4.1 ± 0.6) × 10^6 solar masses."
          ],
          [
           "A central dark mass of 2-5 × 10^6 solar masses."
          ],
          [
           "Orbit-based models."
          ],
          [
           "Validating stellar dynamical black hole measurements."
          ],
          [
           "8 kpc."
          ]
         ],
         "hovertemplate": "arxiv_id=1701.01583<br>x=%{x}<br>y=%{y}<br>nugget_answer=%{customdata[0]}<extra></extra>",
         "legendgroup": "1701.01583",
         "marker": {
          "color": "#EF553B",
          "symbol": "circle"
         },
         "mode": "markers",
         "name": "1701.01583",
         "orientation": "v",
         "showlegend": true,
         "type": "scatter",
         "x": [
          -4.312526702880859,
          -25.35783576965332,
          -5.479818344116211,
          24.100513458251953,
          24.23265266418457,
          -17.489425659179688,
          11.575701713562012,
          28.87862205505371
         ],
         "xaxis": "x",
         "y": [
          11.605119705200195,
          -26.3796329498291,
          10.700587272644043,
          -13.064176559448242,
          -11.602336883544922,
          -27.341907501220703,
          11.985044479370117,
          -8.726511001586914
         ],
         "yaxis": "y"
        },
        {
         "customdata": [
          [
           "Massive black holes (MBHs) are black holes with masses in the range of approximately $10^6-10^9$ times the mass of the Sun."
          ],
          [
           "Massive galaxies are formed through continuous accretion of dark matter and gas from cosmic filaments, as well as through galaxy mergers."
          ],
          [
           "Galaxy mergers are expected to lead to the formation of a population of massive black hole binaries in the nuclei of post-merger galaxies."
          ],
          [
           "The ongoing Pulsar Timing Array experiments include the European Pulsar Timing Array (EPTA), the Parkes Pulsar Timing Array (PPTA), and the North American Nanohertz Observatory for Gravitational Waves (NANOGrav), which join together in the International Pulsar Timing Array (IPTA)."
          ],
          [
           "The purpose of the Laser Interferometer Space Antenna (LISA) is to detect gravitational waves from various sources, including massive black hole binaries."
          ],
          [
           "Unresolved massive black hole binaries are expected to be relatively rare in the LISA frequency range."
          ],
          [
           "The main target of Pulsar Timing Arrays is the stochastic gravitational wave background produced by all the unresolved sources in the universe, including massive black hole binaries."
          ],
          [
           "PTA upper limits on the stochastic gravitational wave background from massive black hole binaries have steadily improved over the past few years."
          ],
          [
           "The last-parsec problem refers to the phenomenon where massive black hole binaries with large masses may stall at separations of less than a parsec due to inefficient three-body interactions and gravitational wave emission."
          ],
          [
           "Processes such as galaxy rotation or a tri-axiality in the galactic gravitational potential induced by mergers can help solve the last-parsec problem by replenishing the loss cone and making stellar scattering efficient again."
          ]
         ],
         "hovertemplate": "arxiv_id=1702.06964<br>x=%{x}<br>y=%{y}<br>nugget_answer=%{customdata[0]}<extra></extra>",
         "legendgroup": "1702.06964",
         "marker": {
          "color": "#00cc96",
          "symbol": "circle"
         },
         "mode": "markers",
         "name": "1702.06964",
         "orientation": "v",
         "showlegend": true,
         "type": "scatter",
         "x": [
          -11.049399375915527,
          -17.28675079345703,
          -22.454015731811523,
          24.380937576293945,
          22.60909080505371,
          21.892765045166016,
          23.248878479003906,
          23.005353927612305,
          -28.31816291809082,
          -28.006763458251953
         ],
         "xaxis": "x",
         "y": [
          1.7438886165618896,
          14.722512245178223,
          10.49954605102539,
          8.748821258544922,
          8.626774787902832,
          6.702390193939209,
          8.199358940124512,
          6.999547481536865,
          15.411890983581543,
          15.264890670776367
         ],
         "yaxis": "y"
        },
        {
         "customdata": [
          [
           "Self-interacting dark matter (SIDM) is a model of dark matter that includes interactions between dark matter particles."
          ],
          [
           "SIDM aims to solve the problem of observed shallow dark matter profiles in galaxies."
          ],
          [
           "SIDM creates cores of dark matter within galaxies by transferring mass from the dense central regions of dark matter haloes to the halo outskirts through self-scattering collisions."
          ],
          [
           "The core-cusp problem refers to the discrepancy between the observed shallow dark matter profiles in galaxies and the predicted cuspy profiles in the standard cold dark matter (CDM) model."
          ],
          [
           "Astrophysical observations such as the formation of cores in faint galaxies, the maintenance of the ellipsoidal shape of haloes and clusters, and the avoidance of the gravothermal catastrophe constrain the rate of collisions in SIDM."
          ],
          [
           "The relevant range of cross-sections for SIDM to impact galaxy evolution and avoid upper limits lies between 0.1 < σ/(cm^2/gr) < 1."
          ],
          [
           "A velocity-dependent cross section can ease the constraints on σ by allowing dark matter to behave as a collisional fluid in dwarfs and as a collisionless one at cluster scales."
          ],
          [
           "Supernovae-driven outflows remove the excess of low angular momentum gas and explain the formation of bulgeless galaxies."
          ],
          [
           "Outflows predict the formation of shallow dark matter profiles at the center of galaxies."
          ],
          [
           "The comparison between SIDM and CDM models coupled to baryon physics showed that the dark matter profiles and star formation histories of dwarf galaxies in SIDM simulations do not essentially differ from those in CDM simulations."
          ],
          [
           "The analytical calculation by Kaplinghat et al. predicted that the presence of baryons decreases the core radius and increases the core density of SIDM density profiles in Milky Way haloes."
          ],
          [
           "The adiabatic contraction effect due to baryons may loosen the constraints on SIDM cross sections."
          ],
          [
           "The authors of this paper explored the effect of a large constant cross section in SIDM simulations, including baryonic physics and supermassive black holes (SMBHs), and compared the results against a standard CDM+baryons run."
          ],
          [
           "The runs in this paper explicitly followed the orbital decay of supermassive black holes (SMBHs), which is a unique capability compared to previous work in the field."
          ]
         ],
         "hovertemplate": "arxiv_id=1701.04410<br>x=%{x}<br>y=%{y}<br>nugget_answer=%{customdata[0]}<extra></extra>",
         "legendgroup": "1701.04410",
         "marker": {
          "color": "#ab63fa",
          "symbol": "circle"
         },
         "mode": "markers",
         "name": "1701.04410",
         "orientation": "v",
         "showlegend": true,
         "type": "scatter",
         "x": [
          -27.919843673706055,
          -27.172109603881836,
          -26.519119262695312,
          -20.565126419067383,
          -25.434019088745117,
          -24.799684524536133,
          -23.48103141784668,
          -18.833118438720703,
          -19.403133392333984,
          -26.674945831298828,
          -24.469390869140625,
          -23.425880432128906,
          -26.071611404418945,
          -25.7664794921875
         ],
         "xaxis": "x",
         "y": [
          -1.735896110534668,
          -0.32328328490257263,
          -0.4715210199356079,
          -0.22363373637199402,
          -0.5826566219329834,
          -2.0356292724609375,
          -1.8869354724884033,
          7.644309997558594,
          6.733346462249756,
          -2.0987820625305176,
          0.36994972825050354,
          -0.8648462891578674,
          -3.254453182220459,
          -4.344615936279297
         ],
         "yaxis": "y"
        },
        {
         "customdata": [
          [
           "Non-baryonic matter"
          ],
          [
           "The discrepancy between the cuspy profiles obtained in N-body simulations and the profiles inferred from observed dwarf and low surface brightness galaxies"
          ],
          [
           "Cored dark matter profiles"
          ],
          [
           "Simulation results predict cuspy profiles while observations favor cored profiles"
          ],
          [
           "Baryonic effects may interact with dark matter through gravity and lead to flatter inner profiles"
          ]
         ],
         "hovertemplate": "arxiv_id=1701.02698<br>x=%{x}<br>y=%{y}<br>nugget_answer=%{customdata[0]}<extra></extra>",
         "legendgroup": "1701.02698",
         "marker": {
          "color": "#FFA15A",
          "symbol": "circle"
         },
         "mode": "markers",
         "name": "1701.02698",
         "orientation": "v",
         "showlegend": true,
         "type": "scatter",
         "x": [
          -34.62532424926758,
          -19.80170249938965,
          -21.977937698364258,
          -19.527612686157227,
          -23.375080108642578
         ],
         "xaxis": "x",
         "y": [
          -1.998610496520996,
          -0.5751908421516418,
          0.9207820296287537,
          -1.4389394521713257,
          1.1873081922531128
         ],
         "yaxis": "y"
        },
        {
         "customdata": [
          [
           "ULXs are highly luminous, compact, non-nuclear X-ray sources in nearby spiral galaxies."
          ],
          [
           "Yes, the luminosities of ULXs exceed the Eddington luminosity limit of a neutron star."
          ],
          [
           "The nature of ULXs is still not understood."
          ],
          [
           "ULXs might be intermediate mass black holes or stellar-mass black holes accreting above their Eddington limit."
          ],
          [
           "No, some ULXs are neutron stars."
          ],
          [
           "One possibility is that the photon emission of super-critical neutron stars and black holes is strongly collimated along the polar axis."
          ],
          [
           "The classical Eddington limit is not a barrier to accretion onto a highly magnetized neutron star because the electron scattering cross section is reduced for photon energies in the X-ray band, in the presence of a magnetic field."
          ],
          [
           "The generalization is the 'slim disk' model."
          ],
          [
           "No, idealized analytic models are not appropriate for detailed comparison with observations of super-Eddington flows."
          ],
          [
           "The inflow cannot settle into a standard, radiatively efficient, optically thick, geometrically thin accretion disk."
          ],
          [
           "The challenge is that the gas in the wind will scatter the radiation from the disk, causing anisotropic emission and making it a challenging problem that requires numerical simulations."
          ],
          [
           "Pioneering work has been done by Ohsuga and collaborators, who developed radiation-hydrodynamic and radiation-MHD codes."
          ],
          [
           "The authors used a state-of-the-art general relativistic radiation MHD code called 'KORAL' and a radiative-transfer and ray-tracing code called 'HEROIC'."
          ],
          [
           "Super-Eddington accretion flows in ULXs can serve as prototypes for tidal disruption events (TDEs) and some active galactic nuclei (AGN) in the local universe."
          ]
         ],
         "hovertemplate": "arxiv_id=1702.01158<br>x=%{x}<br>y=%{y}<br>nugget_answer=%{customdata[0]}<extra></extra>",
         "legendgroup": "1702.01158",
         "marker": {
          "color": "#19d3f3",
          "symbol": "circle"
         },
         "mode": "markers",
         "name": "1702.01158",
         "orientation": "v",
         "showlegend": true,
         "type": "scatter",
         "x": [
          -8.921345710754395,
          -10.985868453979492,
          -13.723105430603027,
          -9.076738357543945,
          -11.466973304748535,
          -6.82900857925415,
          -9.112044334411621,
          -36.23743438720703,
          -16.264751434326172,
          -15.769646644592285,
          -26.956558227539062,
          -21.073591232299805,
          -20.803422927856445,
          -8.51240062713623
         ],
         "xaxis": "x",
         "y": [
          -3.567819356918335,
          -4.480481147766113,
          -5.596704959869385,
          -4.301172256469727,
          -4.458375930786133,
          -7.357089996337891,
          -6.816860198974609,
          14.605485916137695,
          -12.045507431030273,
          -11.683968544006348,
          20.0678768157959,
          -21.671607971191406,
          -21.867950439453125,
          -4.8143839836120605
         ],
         "yaxis": "y"
        },
        {
         "customdata": [
          [
           "AGN metallicities have an important role in the study of the chemical evolution of galaxies and the Universe."
          ],
          [
           "The two methods used are the $T_{\rm e}$-method and the strong-line method."
          ],
          [
           "The $T_{\rm e}$-method provides reliable metallicity estimations for star-forming regions."
          ],
          [
           "No, the $T_{\rm e}$-method does not work for AGNs."
          ],
          [
           "The $T_{\rm e}$-method underestimates the expected oxygen abundances in AGNs, possibly due to the presence of a secondary heating source."
          ],
          [
           "The strong-line method is more reliable for AGN metallicity determinations."
          ],
          [
           "Some of the proposed calibrations include the ones by citet{thaisa98} and citet{dors14}."
          ],
          [
           "The purpose of the present study was to obtain a new relationship between abundances and the strong narrow emission-lines of Seyfert 2 AGNs."
          ],
          [
           "The index calibration was obtained using a grid of photoionization models."
          ],
          [
           "The calibration obtained in the study is presented in Section~\ref{cal}."
          ]
         ],
         "hovertemplate": "arxiv_id=1701.04997<br>x=%{x}<br>y=%{y}<br>nugget_answer=%{customdata[0]}<extra></extra>",
         "legendgroup": "1701.04997",
         "marker": {
          "color": "#FF6692",
          "symbol": "circle"
         },
         "mode": "markers",
         "name": "1701.04997",
         "orientation": "v",
         "showlegend": true,
         "type": "scatter",
         "x": [
          -3.543937921524048,
          15.180027961730957,
          15.460158348083496,
          16.996200561523438,
          16.32743263244629,
          14.199864387512207,
          38.23030090332031,
          5.9103922843933105,
          37.050086975097656,
          37.68882751464844
         ],
         "xaxis": "x",
         "y": [
          1.5652987957000732,
          3.5290470123291016,
          4.539134979248047,
          4.814194679260254,
          4.7208333015441895,
          5.1409502029418945,
          10.676619529724121,
          15.938429832458496,
          9.828523635864258,
          9.79960823059082
         ],
         "yaxis": "y"
        },
        {
         "customdata": [
          [
           "The BT2 line list is used for astrophysical studies and modeling water spectra in various objects."
          ],
          [
           "The BT2 line list has been extensively used in detecting and analyzing water spectra in different objects, including stars, brown dwarfs, exoplanets, and comets."
          ],
          [
           "The BT2 line list has been used for studying water spectra in stellar and substellar atmospheres, cometary comae, Venus' atmosphere, and for high-speed thermometry and tomographic imaging in gas engines and burners."
          ],
          [
           "The text mentions the VTT line list for HD$^{16}$O and the 3mol room-temperature line lists for hato, heto, and octo."
          ],
          [
           "The new line lists for heto and octo are intended to aid spectroscopic studies of these isotopologues and molecular line lists for exoplanet and other hot atmospheres."
          ],
          [
           "Water isotopologues are used in detecting and analyzing astronomical spectra, determining formation mechanisms in cometary dust particles and carbonaceous chrondrites, monitoring stellar evolution, and probing the atmosphere of Mars."
          ],
          [
           "The new line lists incorporate empirical energy levels derived for the main isotopologues of water and an improved procedure for enhancing the accuracy of calculations on isotopically substituted species. The accuracy of water transition intensities is also improved through advancements in the representation of the water dipole moment."
          ]
         ],
         "hovertemplate": "arxiv_id=1702.03570<br>x=%{x}<br>y=%{y}<br>nugget_answer=%{customdata[0]}<extra></extra>",
         "legendgroup": "1702.03570",
         "marker": {
          "color": "#B6E880",
          "symbol": "circle"
         },
         "mode": "markers",
         "name": "1702.03570",
         "orientation": "v",
         "showlegend": true,
         "type": "scatter",
         "x": [
          27.348264694213867,
          26.73056411743164,
          27.093278884887695,
          29.185466766357422,
          28.831439971923828,
          26.426279067993164,
          27.427082061767578
         ],
         "xaxis": "x",
         "y": [
          14.491983413696289,
          14.603876113891602,
          14.968514442443848,
          12.203129768371582,
          12.331862449645996,
          12.89363956451416,
          11.76998233795166
         ],
         "yaxis": "y"
        }
       ],
       "layout": {
        "legend": {
         "title": {
          "text": "arxiv_id"
         },
         "tracegroupgap": 0
        },
        "margin": {
         "t": 60
        },
        "template": {
         "data": {
          "bar": [
           {
            "error_x": {
             "color": "#2a3f5f"
            },
            "error_y": {
             "color": "#2a3f5f"
            },
            "marker": {
             "line": {
              "color": "#E5ECF6",
              "width": 0.5
             },
             "pattern": {
              "fillmode": "overlay",
              "size": 10,
              "solidity": 0.2
             }
            },
            "type": "bar"
           }
          ],
          "barpolar": [
           {
            "marker": {
             "line": {
              "color": "#E5ECF6",
              "width": 0.5
             },
             "pattern": {
              "fillmode": "overlay",
              "size": 10,
              "solidity": 0.2
             }
            },
            "type": "barpolar"
           }
          ],
          "carpet": [
           {
            "aaxis": {
             "endlinecolor": "#2a3f5f",
             "gridcolor": "white",
             "linecolor": "white",
             "minorgridcolor": "white",
             "startlinecolor": "#2a3f5f"
            },
            "baxis": {
             "endlinecolor": "#2a3f5f",
             "gridcolor": "white",
             "linecolor": "white",
             "minorgridcolor": "white",
             "startlinecolor": "#2a3f5f"
            },
            "type": "carpet"
           }
          ],
          "choropleth": [
           {
            "colorbar": {
             "outlinewidth": 0,
             "ticks": ""
            },
            "type": "choropleth"
           }
          ],
          "contour": [
           {
            "colorbar": {
             "outlinewidth": 0,
             "ticks": ""
            },
            "colorscale": [
             [
              0,
              "#0d0887"
             ],
             [
              0.1111111111111111,
              "#46039f"
             ],
             [
              0.2222222222222222,
              "#7201a8"
             ],
             [
              0.3333333333333333,
              "#9c179e"
             ],
             [
              0.4444444444444444,
              "#bd3786"
             ],
             [
              0.5555555555555556,
              "#d8576b"
             ],
             [
              0.6666666666666666,
              "#ed7953"
             ],
             [
              0.7777777777777778,
              "#fb9f3a"
             ],
             [
              0.8888888888888888,
              "#fdca26"
             ],
             [
              1,
              "#f0f921"
             ]
            ],
            "type": "contour"
           }
          ],
          "contourcarpet": [
           {
            "colorbar": {
             "outlinewidth": 0,
             "ticks": ""
            },
            "type": "contourcarpet"
           }
          ],
          "heatmap": [
           {
            "colorbar": {
             "outlinewidth": 0,
             "ticks": ""
            },
            "colorscale": [
             [
              0,
              "#0d0887"
             ],
             [
              0.1111111111111111,
              "#46039f"
             ],
             [
              0.2222222222222222,
              "#7201a8"
             ],
             [
              0.3333333333333333,
              "#9c179e"
             ],
             [
              0.4444444444444444,
              "#bd3786"
             ],
             [
              0.5555555555555556,
              "#d8576b"
             ],
             [
              0.6666666666666666,
              "#ed7953"
             ],
             [
              0.7777777777777778,
              "#fb9f3a"
             ],
             [
              0.8888888888888888,
              "#fdca26"
             ],
             [
              1,
              "#f0f921"
             ]
            ],
            "type": "heatmap"
           }
          ],
          "heatmapgl": [
           {
            "colorbar": {
             "outlinewidth": 0,
             "ticks": ""
            },
            "colorscale": [
             [
              0,
              "#0d0887"
             ],
             [
              0.1111111111111111,
              "#46039f"
             ],
             [
              0.2222222222222222,
              "#7201a8"
             ],
             [
              0.3333333333333333,
              "#9c179e"
             ],
             [
              0.4444444444444444,
              "#bd3786"
             ],
             [
              0.5555555555555556,
              "#d8576b"
             ],
             [
              0.6666666666666666,
              "#ed7953"
             ],
             [
              0.7777777777777778,
              "#fb9f3a"
             ],
             [
              0.8888888888888888,
              "#fdca26"
             ],
             [
              1,
              "#f0f921"
             ]
            ],
            "type": "heatmapgl"
           }
          ],
          "histogram": [
           {
            "marker": {
             "pattern": {
              "fillmode": "overlay",
              "size": 10,
              "solidity": 0.2
             }
            },
            "type": "histogram"
           }
          ],
          "histogram2d": [
           {
            "colorbar": {
             "outlinewidth": 0,
             "ticks": ""
            },
            "colorscale": [
             [
              0,
              "#0d0887"
             ],
             [
              0.1111111111111111,
              "#46039f"
             ],
             [
              0.2222222222222222,
              "#7201a8"
             ],
             [
              0.3333333333333333,
              "#9c179e"
             ],
             [
              0.4444444444444444,
              "#bd3786"
             ],
             [
              0.5555555555555556,
              "#d8576b"
             ],
             [
              0.6666666666666666,
              "#ed7953"
             ],
             [
              0.7777777777777778,
              "#fb9f3a"
             ],
             [
              0.8888888888888888,
              "#fdca26"
             ],
             [
              1,
              "#f0f921"
             ]
            ],
            "type": "histogram2d"
           }
          ],
          "histogram2dcontour": [
           {
            "colorbar": {
             "outlinewidth": 0,
             "ticks": ""
            },
            "colorscale": [
             [
              0,
              "#0d0887"
             ],
             [
              0.1111111111111111,
              "#46039f"
             ],
             [
              0.2222222222222222,
              "#7201a8"
             ],
             [
              0.3333333333333333,
              "#9c179e"
             ],
             [
              0.4444444444444444,
              "#bd3786"
             ],
             [
              0.5555555555555556,
              "#d8576b"
             ],
             [
              0.6666666666666666,
              "#ed7953"
             ],
             [
              0.7777777777777778,
              "#fb9f3a"
             ],
             [
              0.8888888888888888,
              "#fdca26"
             ],
             [
              1,
              "#f0f921"
             ]
            ],
            "type": "histogram2dcontour"
           }
          ],
          "mesh3d": [
           {
            "colorbar": {
             "outlinewidth": 0,
             "ticks": ""
            },
            "type": "mesh3d"
           }
          ],
          "parcoords": [
           {
            "line": {
             "colorbar": {
              "outlinewidth": 0,
              "ticks": ""
             }
            },
            "type": "parcoords"
           }
          ],
          "pie": [
           {
            "automargin": true,
            "type": "pie"
           }
          ],
          "scatter": [
           {
            "fillpattern": {
             "fillmode": "overlay",
             "size": 10,
             "solidity": 0.2
            },
            "type": "scatter"
           }
          ],
          "scatter3d": [
           {
            "line": {
             "colorbar": {
              "outlinewidth": 0,
              "ticks": ""
             }
            },
            "marker": {
             "colorbar": {
              "outlinewidth": 0,
              "ticks": ""
             }
            },
            "type": "scatter3d"
           }
          ],
          "scattercarpet": [
           {
            "marker": {
             "colorbar": {
              "outlinewidth": 0,
              "ticks": ""
             }
            },
            "type": "scattercarpet"
           }
          ],
          "scattergeo": [
           {
            "marker": {
             "colorbar": {
              "outlinewidth": 0,
              "ticks": ""
             }
            },
            "type": "scattergeo"
           }
          ],
          "scattergl": [
           {
            "marker": {
             "colorbar": {
              "outlinewidth": 0,
              "ticks": ""
             }
            },
            "type": "scattergl"
           }
          ],
          "scattermapbox": [
           {
            "marker": {
             "colorbar": {
              "outlinewidth": 0,
              "ticks": ""
             }
            },
            "type": "scattermapbox"
           }
          ],
          "scatterpolar": [
           {
            "marker": {
             "colorbar": {
              "outlinewidth": 0,
              "ticks": ""
             }
            },
            "type": "scatterpolar"
           }
          ],
          "scatterpolargl": [
           {
            "marker": {
             "colorbar": {
              "outlinewidth": 0,
              "ticks": ""
             }
            },
            "type": "scatterpolargl"
           }
          ],
          "scatterternary": [
           {
            "marker": {
             "colorbar": {
              "outlinewidth": 0,
              "ticks": ""
             }
            },
            "type": "scatterternary"
           }
          ],
          "surface": [
           {
            "colorbar": {
             "outlinewidth": 0,
             "ticks": ""
            },
            "colorscale": [
             [
              0,
              "#0d0887"
             ],
             [
              0.1111111111111111,
              "#46039f"
             ],
             [
              0.2222222222222222,
              "#7201a8"
             ],
             [
              0.3333333333333333,
              "#9c179e"
             ],
             [
              0.4444444444444444,
              "#bd3786"
             ],
             [
              0.5555555555555556,
              "#d8576b"
             ],
             [
              0.6666666666666666,
              "#ed7953"
             ],
             [
              0.7777777777777778,
              "#fb9f3a"
             ],
             [
              0.8888888888888888,
              "#fdca26"
             ],
             [
              1,
              "#f0f921"
             ]
            ],
            "type": "surface"
           }
          ],
          "table": [
           {
            "cells": {
             "fill": {
              "color": "#EBF0F8"
             },
             "line": {
              "color": "white"
             }
            },
            "header": {
             "fill": {
              "color": "#C8D4E3"
             },
             "line": {
              "color": "white"
             }
            },
            "type": "table"
           }
          ]
         },
         "layout": {
          "annotationdefaults": {
           "arrowcolor": "#2a3f5f",
           "arrowhead": 0,
           "arrowwidth": 1
          },
          "autotypenumbers": "strict",
          "coloraxis": {
           "colorbar": {
            "outlinewidth": 0,
            "ticks": ""
           }
          },
          "colorscale": {
           "diverging": [
            [
             0,
             "#8e0152"
            ],
            [
             0.1,
             "#c51b7d"
            ],
            [
             0.2,
             "#de77ae"
            ],
            [
             0.3,
             "#f1b6da"
            ],
            [
             0.4,
             "#fde0ef"
            ],
            [
             0.5,
             "#f7f7f7"
            ],
            [
             0.6,
             "#e6f5d0"
            ],
            [
             0.7,
             "#b8e186"
            ],
            [
             0.8,
             "#7fbc41"
            ],
            [
             0.9,
             "#4d9221"
            ],
            [
             1,
             "#276419"
            ]
           ],
           "sequential": [
            [
             0,
             "#0d0887"
            ],
            [
             0.1111111111111111,
             "#46039f"
            ],
            [
             0.2222222222222222,
             "#7201a8"
            ],
            [
             0.3333333333333333,
             "#9c179e"
            ],
            [
             0.4444444444444444,
             "#bd3786"
            ],
            [
             0.5555555555555556,
             "#d8576b"
            ],
            [
             0.6666666666666666,
             "#ed7953"
            ],
            [
             0.7777777777777778,
             "#fb9f3a"
            ],
            [
             0.8888888888888888,
             "#fdca26"
            ],
            [
             1,
             "#f0f921"
            ]
           ],
           "sequentialminus": [
            [
             0,
             "#0d0887"
            ],
            [
             0.1111111111111111,
             "#46039f"
            ],
            [
             0.2222222222222222,
             "#7201a8"
            ],
            [
             0.3333333333333333,
             "#9c179e"
            ],
            [
             0.4444444444444444,
             "#bd3786"
            ],
            [
             0.5555555555555556,
             "#d8576b"
            ],
            [
             0.6666666666666666,
             "#ed7953"
            ],
            [
             0.7777777777777778,
             "#fb9f3a"
            ],
            [
             0.8888888888888888,
             "#fdca26"
            ],
            [
             1,
             "#f0f921"
            ]
           ]
          },
          "colorway": [
           "#636efa",
           "#EF553B",
           "#00cc96",
           "#ab63fa",
           "#FFA15A",
           "#19d3f3",
           "#FF6692",
           "#B6E880",
           "#FF97FF",
           "#FECB52"
          ],
          "font": {
           "color": "#2a3f5f"
          },
          "geo": {
           "bgcolor": "white",
           "lakecolor": "white",
           "landcolor": "#E5ECF6",
           "showlakes": true,
           "showland": true,
           "subunitcolor": "white"
          },
          "hoverlabel": {
           "align": "left"
          },
          "hovermode": "closest",
          "mapbox": {
           "style": "light"
          },
          "paper_bgcolor": "white",
          "plot_bgcolor": "#E5ECF6",
          "polar": {
           "angularaxis": {
            "gridcolor": "white",
            "linecolor": "white",
            "ticks": ""
           },
           "bgcolor": "#E5ECF6",
           "radialaxis": {
            "gridcolor": "white",
            "linecolor": "white",
            "ticks": ""
           }
          },
          "scene": {
           "xaxis": {
            "backgroundcolor": "#E5ECF6",
            "gridcolor": "white",
            "gridwidth": 2,
            "linecolor": "white",
            "showbackground": true,
            "ticks": "",
            "zerolinecolor": "white"
           },
           "yaxis": {
            "backgroundcolor": "#E5ECF6",
            "gridcolor": "white",
            "gridwidth": 2,
            "linecolor": "white",
            "showbackground": true,
            "ticks": "",
            "zerolinecolor": "white"
           },
           "zaxis": {
            "backgroundcolor": "#E5ECF6",
            "gridcolor": "white",
            "gridwidth": 2,
            "linecolor": "white",
            "showbackground": true,
            "ticks": "",
            "zerolinecolor": "white"
           }
          },
          "shapedefaults": {
           "line": {
            "color": "#2a3f5f"
           }
          },
          "ternary": {
           "aaxis": {
            "gridcolor": "white",
            "linecolor": "white",
            "ticks": ""
           },
           "baxis": {
            "gridcolor": "white",
            "linecolor": "white",
            "ticks": ""
           },
           "bgcolor": "#E5ECF6",
           "caxis": {
            "gridcolor": "white",
            "linecolor": "white",
            "ticks": ""
           }
          },
          "title": {
           "x": 0.05
          },
          "xaxis": {
           "automargin": true,
           "gridcolor": "white",
           "linecolor": "white",
           "ticks": "",
           "title": {
            "standoff": 15
           },
           "zerolinecolor": "white",
           "zerolinewidth": 2
          },
          "yaxis": {
           "automargin": true,
           "gridcolor": "white",
           "linecolor": "white",
           "ticks": "",
           "title": {
            "standoff": 15
           },
           "zerolinecolor": "white",
           "zerolinewidth": 2
          }
         }
        },
        "xaxis": {
         "anchor": "y",
         "domain": [
          0,
          1
         ],
         "title": {
          "text": "x"
         }
        },
        "yaxis": {
         "anchor": "x",
         "domain": [
          0,
          1
         ],
         "title": {
          "text": "y"
         }
        }
       }
      },
      "text/html": [
       "<div>                            <div id=\"fe83c048-55d7-4566-99e7-610a69140659\" class=\"plotly-graph-div\" style=\"height:525px; width:100%;\"></div>            <script type=\"text/javascript\">                require([\"plotly\"], function(Plotly) {                    window.PLOTLYENV=window.PLOTLYENV || {};                                    if (document.getElementById(\"fe83c048-55d7-4566-99e7-610a69140659\")) {                    Plotly.newPlot(                        \"fe83c048-55d7-4566-99e7-610a69140659\",                        [{\"customdata\":[[\"The Integrated Sachs-Wolfe effect is a late-time re-procession of CMB patterns by the cosmic web.\"],[\"The Rees-Sciama effect is a late-time re-procession of CMB patterns on smaller scales.\"],[\"The amplitude of the ISW signal in cross-correlation with tracers of the matter distribution is approximately 1.38\\u00b10.32.\"],[\"The Planck team found an amplitude of the ISW signal of approximately 1.00\\u00b10.25 in cross-correlation functions.\"],[\"No high-significance detection of the ISW signal has been reported using catalogues of voids and superclusters.\"],[\"The detection significance of the ISW signal from isolated voids and superclusters in the BOSS data was 3.1\\u03c3.\"],[\"The detection significance of the ISW signal from voids with the most probable voids is approximately 3.4\\u03c3.\"],[\"The range of values reported for the ISW signal using stacking probes with merged sub-voids or supervoids is approximately 10.\"],[\"This paper uses a BOSS DR12 void catalogue called 'minimal' voids.\"],[\"The purpose of this paper is to test claims about the ISW signal using a different type of void catalogue and to study the implications of the findings.\"]],\"hovertemplate\":\"arxiv_id=1701.08583\\u003cbr\\u003ex=%{x}\\u003cbr\\u003ey=%{y}\\u003cbr\\u003enugget_answer=%{customdata[0]}\\u003cextra\\u003e\\u003c\\u002fextra\\u003e\",\"legendgroup\":\"1701.08583\",\"marker\":{\"color\":\"#636efa\",\"symbol\":\"circle\"},\"mode\":\"markers\",\"name\":\"1701.08583\",\"orientation\":\"v\",\"showlegend\":true,\"x\":[-23.709976196289062,-23.69084358215332,27.3092041015625,27.22140121459961,26.382587432861328,27.29556655883789,27.7257022857666,28.55935287475586,29.143413543701172,28.341691970825195],\"xaxis\":\"x\",\"y\":[-10.015315055847168,-10.014915466308594,-1.6530016660690308,-1.8776729106903076,1.6242674589157104,0.6934676766395569,0.4696137607097626,0.07187481969594955,2.9466135501861572,2.386098623275757],\"yaxis\":\"y\",\"type\":\"scatter\"},{\"customdata\":[[\"Physical processes such as radiative cooling, star formation, and feedback processes.\"],[\"By ignoring the effects of physical processes on the distribution of baryons and dark matter.\"],[\"Ignoring the effects of physical processes on large-scale structure.\"],[\"The tension between observed abundance of massive clusters and predictions based on a {it Planck} cosmology.\"],[\"At least 0.06 eV (0.1 eV) when adopting a normal (inverted) hierarchy.\"],[\"Neutrinos act as a form of hot dark matter that resists significant gravitational collapse.\"],[\"To examine the combined effects of baryon physics and massive neutrinos on large-scale structure.\"],[\"i) the halo mass function; ii) total mass density profiles in bins of halo mass; iii) the mass-concentration relation; iv) the spatial clustering of haloes; v) the clustering of matter.\"],[\"By treating the effects of baryon physics and neutrinos independently and multiplying their separate effects.\"]],\"hovertemplate\":\"arxiv_id=1702.02064\\u003cbr\\u003ex=%{x}\\u003cbr\\u003ey=%{y}\\u003cbr\\u003enugget_answer=%{customdata[0]}\\u003cextra\\u003e\\u003c\\u002fextra\\u003e\",\"legendgroup\":\"1702.02064\",\"marker\":{\"color\":\"#EF553B\",\"symbol\":\"circle\"},\"mode\":\"markers\",\"name\":\"1702.02064\",\"orientation\":\"v\",\"showlegend\":true,\"x\":[-19.117523193359375,-28.037874221801758,-27.721736907958984,-15.356151580810547,33.93764877319336,-34.54612731933594,-28.074472427368164,-22.771310806274414,-28.50849151611328],\"xaxis\":\"x\",\"y\":[10.358328819274902,-11.649763107299805,-12.092222213745117,2.546645402908325,-18.61853790283203,-4.8051018714904785,-9.045073509216309,3.5874361991882324,-10.813465118408203],\"yaxis\":\"y\",\"type\":\"scatter\"},{\"customdata\":[[\"Tracing the star-formation rate of galaxies across cosmic time.\"],[\"It sheds light on the build up of stellar mass and metal content at early times and clarifies the process of cosmic reionization.\"],[\"The lack of far-infrared (FIR) data for galaxies at z \\u003e 3.\"],[\"The citet{meurer1999} (M99) IRX-$\\\\beta$ relation.\"],[\"Calzetti-like reddening.\"],[\"The attenuation curve may be as steep, or steeper, than the SMC extinction curve at these redshifts.\"],[\"Previous UV luminosity corrections may have overestimated the dust attenuation and intrinsic luminosities at z ~ 3.\"],[\"No, direct measurements have not found strong evidence for a steep SMC-like curve.\"],[\"To use hydrodynamical simulations to constrain the form of the attenuation curve at z = 5.\"],[\"Because there is good consistency between measurements of the luminosity function and color magnitude relation at this redshift.\"]],\"hovertemplate\":\"arxiv_id=1701.07869\\u003cbr\\u003ex=%{x}\\u003cbr\\u003ey=%{y}\\u003cbr\\u003enugget_answer=%{customdata[0]}\\u003cextra\\u003e\\u003c\\u002fextra\\u003e\",\"legendgroup\":\"1701.07869\",\"marker\":{\"color\":\"#00cc96\",\"symbol\":\"circle\"},\"mode\":\"markers\",\"name\":\"1701.07869\",\"orientation\":\"v\",\"showlegend\":true,\"x\":[-11.576272010803223,-11.406837463378906,7.54652214050293,15.5901517868042,11.690258979797363,-2.4053080081939697,7.492292404174805,-0.7562282681465149,18.921537399291992,-3.656283140182495],\"xaxis\":\"x\",\"y\":[12.879267692565918,9.79880142211914,0.4692087769508362,-2.6902916431427,18.400619506835938,5.246615409851074,-0.1405579149723053,4.496409893035889,0.131320983171463,4.42893648147583],\"yaxis\":\"y\",\"type\":\"scatter\"},{\"customdata\":[[\"Ultracool dwarfs are the lowest-mass members of the stellar population, encompassing the coolest stars, brown dwarfs, and planetary-mass objects.\"],[\"The discovery of brown dwarfs over 20 years ago launched the understanding of ultracool atmospheres.\"],[\"Wide-field imaging surveys such as DENIS, SDSS, 2MASS, UKIDSS, and WISE have been major drivers for ultracool discoveries.\"],[\"Large photometric samples have provided much of our fundamental knowledge about ultracool dwarfs.\"],[\"The surprising diversity of near-IR colors in L dwarfs is believed to be caused by variations in surface gravity and\\u002for dusty clouds, or thermo-chemical instabilities.\"],[\"During the transition from L to T spectral types, there is a dramatic shift to bluer near-IR colors thought to be driven by the clearing of clouds and the formation of methane.\"],[\"UKIDSS and WISE have illustrated the diversity of late-T and Y dwarf near- and mid-IR colors.\"],[\"Large samples have revealed the mass and luminosity functions of the local ultracool population.\"],[\"Measurements of the space density of brown dwarfs have identified a relative paucity of L\\u002fT transition dwarfs, indicating that this evolutionary phase is short-lived.\"],[\"Proper motions have enabled searches to distinguish ultracool dwarfs from distant luminous red objects and to determine whether individual discoveries are members of star-forming regions.\"],[\"Proper motions have helped to find objects in crowded areas of the sky such as the Galactic plane and to identify ultracool dwarfs with atypical colors that were missed by color cuts used in photometry-only searches.\"],[\"Several studies have found clear evidence for dynamically cold (slow-moving) and hot (fast-moving) populations of ultracool dwarfs that are consistent with thin disk and thick disk\\u002fhalo populations.\"]],\"hovertemplate\":\"arxiv_id=1701.00490\\u003cbr\\u003ex=%{x}\\u003cbr\\u003ey=%{y}\\u003cbr\\u003enugget_answer=%{customdata[0]}\\u003cextra\\u003e\\u003c\\u002fextra\\u003e\",\"legendgroup\":\"1701.00490\",\"marker\":{\"color\":\"#ab63fa\",\"symbol\":\"circle\"},\"mode\":\"markers\",\"name\":\"1701.00490\",\"orientation\":\"v\",\"showlegend\":true,\"x\":[8.677417755126953,11.052414894104004,11.8762788772583,10.679110527038574,8.263300895690918,8.299899101257324,9.361594200134277,10.411331176757812,6.684464931488037,12.179253578186035,12.613485336303711,8.999746322631836],\"xaxis\":\"x\",\"y\":[31.291990280151367,31.095643997192383,27.977693557739258,30.137693405151367,26.789226531982422,25.523996353149414,27.04144287109375,29.30283546447754,30.459354400634766,29.669828414916992,29.54413604736328,30.25620460510254],\"yaxis\":\"y\",\"type\":\"scatter\"},{\"customdata\":[[\"Observational evidences in black hole X-ray binaries (BHBs) and active galactic nuclei (AGNs) support the coupling between the collimated relativistic jet and the accretion flow.\"],[\"There is a tight correlation between radio and X-ray luminosities in black hole X-ray binaries during their hard states.\"],[\"The relationship between radio luminosity, X-ray luminosity, and black hole mass in black hole X-ray binaries and low-luminosity active galactic nuclei is given by the equation: log(Lr) = 0.6log(Lx) + 0.78log(Mbh) + 7.33.\"],[\"The coupled accretion-jet model proposes that the thermal gas in a hot accretion flow is responsible for the X-ray emission, while the relativistic power-law distribution electrons in a jet produce the radio emission.\"],[\"The scatter in the correlation between radio and X-ray luminosities in black hole X-ray binaries and low-luminosity active galactic nuclei is 0.88 dex.\"],[\"The scatter in the correlation between radio and X-ray luminosities in black hole X-ray binaries and low-luminosity active galactic nuclei may be influenced by factors such as intrinsic variability in radio and X-rays, black hole spin, magnetic field strength, Doppler beaming effect, angular momentum of the accreting gas, and the environment.\"],[\"Active galactic nuclei with different radio loudness seem to follow relationships that are different in both normalization and correlation slope.\"],[\"Some black hole X-ray binaries and active galactic nuclei do not follow the correlation between radio and X-ray luminosities predicted by the original M03 FP during their fluctuations in luminosities.\"],[\"Some black hole X-ray binaries and active galactic nuclei exhibit a hybrid radio\\u002fX-ray correlation, where the radio luminosity is proportional to the X-ray luminosity to the power of approximately 1.3 when the X-ray luminosity is high, proportional to the X-ray luminosity to the power of approximately 0 when the X-ray luminosity is moderately low, and follows the original M03 FP when the X-ray luminosity is much lower.\"],[\"Quiescent active galactic nuclei, which have extremely low luminosities, do not follow the same correlation between radio and X-ray luminosities as normal low-luminosity active galactic nuclei.\"],[\"The difference in the correlation between radio and X-ray luminosities in quiescent active galactic nuclei compared to normal low-luminosity active galactic nuclei is due to the change in the origin of the X-ray emission. In quiescent active galactic nuclei, the X-ray emission originates from the jet instead of the hot accretion flow.\"],[\"In faint accretion systems, the relationship between radio luminosity and X-ray luminosity is steeper compared to normal low-luminosity active galactic nuclei.\"]],\"hovertemplate\":\"arxiv_id=1701.06143\\u003cbr\\u003ex=%{x}\\u003cbr\\u003ey=%{y}\\u003cbr\\u003enugget_answer=%{customdata[0]}\\u003cextra\\u003e\\u003c\\u002fextra\\u003e\",\"legendgroup\":\"1701.06143\",\"marker\":{\"color\":\"#FFA15A\",\"symbol\":\"circle\"},\"mode\":\"markers\",\"name\":\"1701.06143\",\"orientation\":\"v\",\"showlegend\":true,\"x\":[-5.825737953186035,-4.686333179473877,-4.466595649719238,-6.1482086181640625,-2.855327844619751,-3.4890360832214355,-1.241023302078247,-1.2172201871871948,-3.727125406265259,-1.7371556758880615,-2.4358766078948975,-3.0582938194274902],\"xaxis\":\"x\",\"y\":[-8.100990295410156,-5.5333476066589355,-4.238574028015137,-9.392927169799805,-5.457055568695068,-5.215956687927246,-2.488398790359497,-3.9866795539855957,-4.498941898345947,-3.302356004714966,-3.630467414855957,-2.850098133087158],\"yaxis\":\"y\",\"type\":\"scatter\"},{\"customdata\":[[\"Core-collapse supernovae are the deaths of stars with initial masses heavier than about 8 solar masses.\"],[\"Core-collapse supernovae are important sources of trans-iron species as well as intermediate-mass and iron-group elements.\"],[\"Traditional studies of CCSN nucleosynthesis are based on artificial one-dimensional explosion models with free parameters.\"],[\"The free parameters in traditional CCSN nucleosynthesis models include the mass-cut, the electron fraction of the ejecta, and the explosion energy.\"],[\"Parameterized models fail to reproduce the thermodynamic history of the neutrino-driven ejecta, where the electron fraction and entropy are reset by neutrino interactions.\"],[\"It is difficult to predict nucleosynthesis of iron-group and trans-iron elements based on parameterized models because they do not capture the nucleosynthesis in the innermost ejecta.\"],[\"It is important to complement existing studies of nucleosynthesis with more consistent models of the supernova engine to improve predictions of nucleosynthesis in the innermost ejecta.\"]],\"hovertemplate\":\"arxiv_id=1701.06786\\u003cbr\\u003ex=%{x}\\u003cbr\\u003ey=%{y}\\u003cbr\\u003enugget_answer=%{customdata[0]}\\u003cextra\\u003e\\u003c\\u002fextra\\u003e\",\"legendgroup\":\"1701.06786\",\"marker\":{\"color\":\"#19d3f3\",\"symbol\":\"circle\"},\"mode\":\"markers\",\"name\":\"1701.06786\",\"orientation\":\"v\",\"showlegend\":true,\"x\":[-15.147476196289062,-15.074533462524414,-21.0059871673584,-20.882381439208984,-18.978673934936523,-18.300004959106445,-17.808591842651367],\"xaxis\":\"x\",\"y\":[24.45587158203125,24.893739700317383,-15.476807594299316,-15.191587448120117,-13.087748527526855,-13.807103157043457,-14.441171646118164],\"yaxis\":\"y\",\"type\":\"scatter\"},{\"customdata\":[[\"Hubble\"],[\"Elliptical galaxies are dispersion-dominated, while disk galaxies are rotation dominated.\"],[\"Elliptical galaxies also contain a substantial fraction of rotating component.\"],[\"Spin\"],[\"As rotating disks\"],[\"The role of mergers in determining the final morphology of a galaxy is not clear.\"],[\"The ratio between slow and fast rotators in a cosmological context\"],[\"Merger remnants can approximate the spin-ellipticity distribution of observed galaxies.\"],[\"Massive round slow rotators through major and minor mergers\"],[\"To examine the evolutions of thousands of galaxies in simulated clusters and understand the general trend of galaxy spin evolution.\"]],\"hovertemplate\":\"arxiv_id=1702.00517\\u003cbr\\u003ex=%{x}\\u003cbr\\u003ey=%{y}\\u003cbr\\u003enugget_answer=%{customdata[0]}\\u003cextra\\u003e\\u003c\\u002fextra\\u003e\",\"legendgroup\":\"1702.00517\",\"marker\":{\"color\":\"#FF6692\",\"symbol\":\"circle\"},\"mode\":\"markers\",\"name\":\"1702.00517\",\"orientation\":\"v\",\"showlegend\":true,\"x\":[31.13379669189453,-24.38145637512207,-24.656599044799805,3.3750972747802734,-34.245506286621094,-25.500518798828125,-31.118701934814453,-25.4661808013916,-28.52876091003418,5.90326452255249],\"xaxis\":\"x\",\"y\":[19.283008575439453,16.793601989746094,15.90371322631836,-16.475908279418945,14.88118839263916,11.77907657623291,13.437349319458008,13.808816909790039,11.785502433776855,13.576119422912598],\"yaxis\":\"y\",\"type\":\"scatter\"},{\"customdata\":[[\"High-mass star formation plays a critical part in the evolution of galaxies.\"],[\"High-mass star formation starts in massive cold and dense gravitationally bound clumps that subsequently collapse and fragment into cores.\"],[\"The protostars in high-mass star formation are called massive young stellar objects (MYSOs).\"],[\"The formation of an HII region signifies the arrival of the embedded MYSO onto the main sequence and is a key stage in the evolution of massive stars.\"],[\"Yes, high-mass stars continue to accrete material even after the formation of an HII region.\"],[\"Investigating HII regions in their earliest stages allows us to determine at what evolutionary stage high-mass stars stop accumulating their mass and how the accretion and outflow processes evolve after the protostar arrives on the main sequence.\"],[\"The bright emission of embedded HII regions is caused by dust absorbing ultraviolet radiation from the HII regions and re-emitting it at infrared wavelengths.\"],[\"Far-IR colors, interstellar masers, and molecular lines have been employed to identify HII region candidates.\"],[\"The class of the densest and most compact ionized nebula is known as hyper-compact HII regions (hchiis).\"],[\"To date, approximately 600 young embedded compact and ultra-compact HII regions have been cataloged.\"],[\"Dust continuum emission in the submillimeter wavelength range can directly trace high column density regions in which high-mass stars form.\"],[\"The APEX Telescope Large Area Survey of the Galaxy (ATLASGAL) is a dust continuum survey at 870 \\u03bcm that provides an unbiased view of the dense gas located throughout the mid-plane of the inner Galaxy.\"],[\"ATLASGAL has identified approximately 10,000 dense clumps.\"],[\"The IRAM 30m and Mopra 22m telescopes were used for follow-up molecular line surveys of the selected dust clumps.\"],[\"The clumps were originally selected as the brightest 870 \\u03bcm clumps and later divided into three photometric categories based on their association with mid-IR emission.\"],[\"Additional information such as radio continuum observations is required to identify HII regions.\"],[\"The CORNISH survey and the targeted radio continuum observations conducted as part of the RMS survey have been used to identify HII regions associated with ATLASGAL clumps.\"]],\"hovertemplate\":\"arxiv_id=1702.02062\\u003cbr\\u003ex=%{x}\\u003cbr\\u003ey=%{y}\\u003cbr\\u003enugget_answer=%{customdata[0]}\\u003cextra\\u003e\\u003c\\u002fextra\\u003e\",\"legendgroup\":\"1702.02062\",\"marker\":{\"color\":\"#B6E880\",\"symbol\":\"circle\"},\"mode\":\"markers\",\"name\":\"1702.02062\",\"orientation\":\"v\",\"showlegend\":true,\"x\":[-13.277139663696289,-14.072440147399902,-10.039155960083008,-9.657221794128418,-9.948037147521973,-9.58260726928711,-6.683448791503906,16.128063201904297,13.942452430725098,13.131332397460938,-7.714431285858154,19.60757827758789,18.669189453125,20.03197479248047,19.695531845092773,15.662781715393066,18.595930099487305],\"xaxis\":\"x\",\"y\":[15.763227462768555,18.307802200317383,17.7998104095459,18.907026290893555,20.885162353515625,19.70481300354004,28.988479614257812,12.314613342285156,36.80705642700195,36.73724365234375,28.656536102294922,12.336464881896973,13.624917030334473,15.733925819396973,15.362929344177246,12.626487731933594,12.913424491882324],\"yaxis\":\"y\",\"type\":\"scatter\"},{\"customdata\":[[\"The annual modulation effect is the variation in the event rate observed by DAMA experiments over the course of a year.\"],[\"The DAMA experiments have a total exposure of 1.33 ton $\\times$ year.\"],[\"The observed annual modulation effect indicates the presence of Dark Matter particles in the Galactic halo at a significance level of 9.3$sigma$ C.L.\"],[\"The modulation amplitude of the single-hit events in the (2-6) keV energy interval is $(0.0112 pm 0.0012)$ cpd\\u002fkg\\u002fkeV.\"],[\"The measured phase of the annual modulation effect is $(144 pm 7)$ days.\"],[\"The measured period of the annual modulation effect is $(0.998 pm 0.002)$ yr.\"],[\"Yes, the annual modulation effect measured by DAMA experiments is model-independent.\"],[\"Some candidates for Dark Matter particles include WIMPs (lightest neutralino) and axions.\"],[\"The mirror world hypothesis suggests the existence of a parallel gauge sector with particle and interaction content similar to that of known particles.\"],[\"The full dynamics of two sectors in the mirror world theory is governed by the Einstein-Hilbert action.\"],[\"Mirror matter refers to matter that is invisible in terms of ordinary photons but gravitationally coupled to our matter.\"]],\"hovertemplate\":\"arxiv_id=1701.08590\\u003cbr\\u003ex=%{x}\\u003cbr\\u003ey=%{y}\\u003cbr\\u003enugget_answer=%{customdata[0]}\\u003cextra\\u003e\\u003c\\u002fextra\\u003e\",\"legendgroup\":\"1701.08590\",\"marker\":{\"color\":\"#FF97FF\",\"symbol\":\"circle\"},\"mode\":\"markers\",\"name\":\"1701.08590\",\"orientation\":\"v\",\"showlegend\":true,\"x\":[27.28103256225586,28.285913467407227,0.2284112274646759,24.373491287231445,25.83548927307129,25.675792694091797,27.339174270629883,-36.987152099609375,-38.466552734375,-37.888397216796875,-39.07223892211914],\"xaxis\":\"x\",\"y\":[-29.94756317138672,-29.127113342285156,-16.857641220092773,-28.13838005065918,-28.71759605407715,-28.658710479736328,-30.54357147216797,-5.675417900085449,-21.254077911376953,-21.88045310974121,-20.893924713134766],\"yaxis\":\"y\",\"type\":\"scatter\"},{\"customdata\":[[\"A statistically significant excess of GeV gamma rays.\"],[\"Spectral and morphological characteristics consistent with the annihilation of dark matter particles.\"],[\"Emission from a large population of unresolved millisecond pulsars (MSPs).\"],[\"An unresolved point source population in the region surrounding the Galactic Center.\"],[\"The gamma-ray luminosity function comparison and the lack of a plausible mechanism for the presence of so many gamma-ray bright MSPs in the Inner Galaxy.\"],[\"Many more gamma-ray point sources in the Inner Galaxy would be expected.\"],[\"Only a few percent of the observed excess, once the effects of MSP evolution are accounted for.\"],[\"It would have to drastically exceed observations.\"],[\"A population of MSPs in the Inner Galaxy.\"],[\"It would require a comparably large population of LMXBs, which has not been observed.\"],[\"The connection between MSPs and LMXBs and the gamma-ray emission from the Milky Way's globular cluster population.\"],[\"The assumption that it is similar in the Inner Galaxy to the ratio measured in globular clusters.\"],[\"An upper limit.\"],[\"MSP interpretations of Fermi's gamma-ray excess.\"]],\"hovertemplate\":\"arxiv_id=1701.02726\\u003cbr\\u003ex=%{x}\\u003cbr\\u003ey=%{y}\\u003cbr\\u003enugget_answer=%{customdata[0]}\\u003cextra\\u003e\\u003c\\u002fextra\\u003e\",\"legendgroup\":\"1701.02726\",\"marker\":{\"color\":\"#FECB52\",\"symbol\":\"circle\"},\"mode\":\"markers\",\"name\":\"1701.02726\",\"orientation\":\"v\",\"showlegend\":true,\"x\":[10.06041431427002,-1.1940706968307495,4.707298278808594,2.730029582977295,2.43414568901062,2.2883148193359375,5.031428337097168,10.025574684143066,4.093465805053711,9.679527282714844,3.6680715084075928,0.664942741394043,33.22945785522461,3.823301315307617],\"xaxis\":\"x\",\"y\":[-7.844657897949219,-16.396926879882812,-1.0485297441482544,2.608210802078247,-0.2240934520959854,1.057571530342102,44.03868865966797,44.61599349975586,0.8067900538444519,44.39283752441406,-0.7187044024467468,8.616573333740234,-21.461933135986328,-1.6797587871551514],\"yaxis\":\"y\",\"type\":\"scatter\"},{\"customdata\":[[\"Neutron backgrounds are often considered among the dominant backgrounds in many low-background experiments.\"],[\"Neutrino-less double beta-decay experiments rely on having a high energy resolution and very little background near the endpoint of the double beta-decay spectrum.\"],[\"Fast neutrons may produce a signal in the region of interest as they thermalize, or they may produce gamma rays that can produce such signals when they capture on detector materials.\"],[\"Examples of neutron-induced backgrounds include neutron captures on $^{136}$Xe, hydrogen, $^{65}$Cu, and $^{63}$Cu.\"],[\"Neutron-induced nuclear recoils are an important background in dark matter experiments, as they can produce a signal similar to what is expected from Weakly Interacting Massive Particles (WIMPs).\"],[\"Techniques such as pulse shape discrimination, comparing ionization and scintillation light, and comparing ionization and phonon production are effective at discriminating between electron and nuclear recoils in dark matter experiments.\"],[\"Nuclear recoil backgrounds result from alpha-decays on the inner surface of the detector ejecting a nucleus into the active volume of the detector or from neutrons scattering in the active volume.\"],[\"Radiogenic neutrons primarily result from spontaneous fission of thorium, uranium, and uranium-235, or from the alpha-n reaction occurring when alpha-particles produced in these decay chains interact with nuclei in the material they are traveling in.\"],[\"Cosmogenic neutrons are typically mitigated by moving a detector deep underground, where the muon flux is greatly reduced. External muon vetoes can also be used to tag muons coincident with nuclear recoils produced by neutrons.\"],[\"Radiogenic neutrons result from nuclear interactions within a given material and can produce a signal identical to that expected from a Weakly Interacting Massive Particle (WIMP).\"],[\"A quantitative description of radiogenic neutron backgrounds is necessary for low-background experiments to understand and minimize their backgrounds.\"]],\"hovertemplate\":\"arxiv_id=1702.02465\\u003cbr\\u003ex=%{x}\\u003cbr\\u003ey=%{y}\\u003cbr\\u003enugget_answer=%{customdata[0]}\\u003cextra\\u003e\\u003c\\u002fextra\\u003e\",\"legendgroup\":\"1702.02465\",\"marker\":{\"color\":\"#636efa\",\"symbol\":\"circle\"},\"mode\":\"markers\",\"name\":\"1702.02465\",\"orientation\":\"v\",\"showlegend\":true,\"x\":[-40.99982833862305,-39.343746185302734,-40.818363189697266,-41.86215591430664,-38.985626220703125,-38.53233337402344,-40.99932098388672,-40.46648025512695,-41.93069076538086,-39.68754959106445,-40.58208084106445],\"xaxis\":\"x\",\"y\":[-8.917284965515137,-9.01389217376709,-5.876230239868164,-8.470490455627441,-6.135717868804932,-7.178443431854248,-7.137579441070557,-4.652685165405273,-5.986111640930176,-5.509939193725586,-9.240616798400879],\"yaxis\":\"y\",\"type\":\"scatter\"},{\"customdata\":[[\"1.7 solar masses\"],[\"9\\u00b12 million years\"],[\"156\\u00b111 parsecs\"],[\"F4Ve\"],[\"83 km\\u002fs\"],[\"Transitional disk\"],[\"Widely separated (approximately 3300 au)\"],[\"1.3\\u00d710^-4 solar masses\"],[\"1.5\\u00d710^-2 solar masses\"],[\"Approximately 11 degrees\"],[\"Approximately 10^-11 to 10^-8 solar masses per year\"],[\"Approximately 50 au\"],[\"Sub-au\"],[\"Approximately 160 au\"],[\"0.5 Jupiter masses\"],[\"Greater than 100 au\"]],\"hovertemplate\":\"arxiv_id=1702.05108\\u003cbr\\u003ex=%{x}\\u003cbr\\u003ey=%{y}\\u003cbr\\u003enugget_answer=%{customdata[0]}\\u003cextra\\u003e\\u003c\\u002fextra\\u003e\",\"legendgroup\":\"1702.05108\",\"marker\":{\"color\":\"#EF553B\",\"symbol\":\"circle\"},\"mode\":\"markers\",\"name\":\"1702.05108\",\"orientation\":\"v\",\"showlegend\":true,\"x\":[25.436128616333008,-15.24291706085205,31.290996551513672,42.62593460083008,11.652807235717773,-34.62135696411133,34.39067840576172,24.368547439575195,24.702777862548828,37.398040771484375,22.217676162719727,36.18117904663086,37.83602523803711,35.855525970458984,26.208202362060547,35.9493522644043],\"xaxis\":\"x\",\"y\":[-13.53729248046875,38.37411880493164,-11.7530517578125,-7.115180492401123,-27.818578720092773,15.322710037231445,-10.626212120056152,-13.811029434204102,-14.172815322875977,-17.99150276184082,-13.092562675476074,-10.813364028930664,-8.3577241897583,-10.977819442749023,-15.07408332824707,-10.04617691040039],\"yaxis\":\"y\",\"type\":\"scatter\"},{\"customdata\":[[\"AGN feedback is the process in which mass and energy are transported from the nuclei of active galaxies to the host galaxy.\"],[\"Ultra-fast outflows are high-speed ionized gas outflows from the nuclei of active galaxies.\"],[\"The mass outflow rate of UFOs is between 0.01 and 1 solar masses per year.\"],[\"The kinetic energy of UFOs is between 10^42 and 10^45 ergs per second.\"],[\"Less than 10% of AGNs have relativistic jets.\"],[\"There is a possible interplay between fast outflows and relativistic jets, and they are also predicted to be connected by magneto-hydrodynamic (MHD) models.\"],[\"iras is located at R.A. 17h,03m,30.3830s, Dec. +45$^circ$, 40arcmin, 47arcsec.167.\"],[\"iras is a Narrow Line Seyfert 1 (NLS1) spiral galaxy.\"],[\"The black hole mass of iras is approximately $5.9\\times10^6$ solar masses.\"],[\"The X-ray spectrum observations of iras revealed a series of absorption lines corresponding to at least 5 outflowing components with velocities ranging from 23,000 to 33,000 km\\u002fs.\"],[\"The energetics of the wind in iras suggest that it may be able to produce feedback on the host galaxy.\"],[\"The presence of large scale molecular gas outflowing at low velocity that is associated with the fast X-ray wind provides evidence for feedback in iras.\"],[\"iras is a radio loud (RL) NLS1 galaxy based on its bright and compact radio emission.\"],[\"High angular resolution, multi-frequency Very Long Baseline Interferometry (VLBI) radio observations were obtained near simultaneously with the XMM-Newton observations of iras.\"],[\"The paper uses a $Lambda$CDM cosmology with $h = 0.705$, $Omega_m = 0.27$, and $Omega_Lambda=0.73$.\"],[\"The redshift of iras corresponds to a luminosity distance of 269 Mpc.\"],[\"In iras, 1 mas corresponds to an angular scale of 1.16 pc.\"],[\"The spectral index, denoted as $alpha$, is defined such that $S(\\nu)sim\\nu^{-alpha}$.\"],[\"Position angles (P.A.) are defined positive north through east.\"]],\"hovertemplate\":\"arxiv_id=1701.07298\\u003cbr\\u003ex=%{x}\\u003cbr\\u003ey=%{y}\\u003cbr\\u003enugget_answer=%{customdata[0]}\\u003cextra\\u003e\\u003c\\u002fextra\\u003e\",\"legendgroup\":\"1701.07298\",\"marker\":{\"color\":\"#00cc96\",\"symbol\":\"circle\"},\"mode\":\"markers\",\"name\":\"1701.07298\",\"orientation\":\"v\",\"showlegend\":true,\"x\":[-4.404033184051514,-2.9362823963165283,20.184720993041992,19.513647079467773,-0.5500327944755554,-5.038717269897461,24.895727157592773,24.192081451416016,22.667007446289062,-2.1873199939727783,-3.626664638519287,-2.946606159210205,23.983957290649414,21.434917449951172,-29.60246467590332,16.229217529296875,24.871166229248047,-20.576852798461914,4.9188737869262695],\"xaxis\":\"x\",\"y\":[0.4824666678905487,-9.573007583618164,-12.339208602905273,-12.209981918334961,-7.828683853149414,-10.52696418762207,-20.96052360534668,-21.890771865844727,-10.179224967956543,-12.428287506103516,-12.760242462158203,-12.506631851196289,-22.10008430480957,19.180421829223633,-5.498585224151611,-15.2789888381958,-18.87448501586914,-34.72257995605469,-32.64323425292969],\"yaxis\":\"y\",\"type\":\"scatter\"},{\"customdata\":[[\"White dwarfs are the inert remnants of stars with a Zero Age Main Sequence (ZAMS) mass of less than approximately 8 solar masses.\"],[\"As white dwarfs cool, they radiate away their energy.\"],[\"The pulsations in aging white dwarfs are caused by the excitation of g-mode oscillations in the partial ionization zone of hydrogen in the atmosphere of the white dwarf.\"],[\"Crystallization in cool white dwarfs releases latent heat, which significantly slows down the cooling rate.\"],[\"Only high mass white dwarfs have significantly crystallized cores while they are in the ZZ Ceti instability strip.\"],[\"The mean period spacing of radial overtones grows as the crystallized mass ratio increases in white dwarfs.\"],[\"The analysis of the luminosity function and color-magnitude diagram of the globular cluster NGC 6397 provides strong evidence for core crystallization in cool white dwarfs.\"],[\"The mass distribution of DA white dwarfs peaks at approximately 0.6 solar masses, with a tail toward higher masses.\"],[\"The lack of a large sample of high mass, variable DA white dwarfs has limited the testing of crystallization theory.\"],[\"There are approximately 30,000 spectroscopically confirmed white dwarfs in the SDSS catalogs.\"],[\"The goal of this work is to discover massive pulsating white dwarfs and carry out rigorous tests of crystallization theory using the SDSS WD catalogs.\"],[\"Currently, there are about 200 DAVs known.\"],[\"The study by Romero et al. (2013) found that a crystallized interior yields best-fitting solutions for 15 high mass DAVs.\"],[\"The most massive DAV currently known has a mass of 1.20 solar masses.\"]],\"hovertemplate\":\"arxiv_id=1702.03343\\u003cbr\\u003ex=%{x}\\u003cbr\\u003ey=%{y}\\u003cbr\\u003enugget_answer=%{customdata[0]}\\u003cextra\\u003e\\u003c\\u002fextra\\u003e\",\"legendgroup\":\"1702.03343\",\"marker\":{\"color\":\"#ab63fa\",\"symbol\":\"circle\"},\"mode\":\"markers\",\"name\":\"1702.03343\",\"orientation\":\"v\",\"showlegend\":true,\"x\":[7.669888496398926,4.47006893157959,2.9964282512664795,4.908748626708984,5.5552167892456055,3.1891748905181885,6.61297082901001,8.17906665802002,6.492324352264404,8.869430541992188,7.788038730621338,11.10216999053955,7.6037187576293945,25.88517189025879],\"xaxis\":\"x\",\"y\":[32.678016662597656,34.33881759643555,34.93546676635742,34.67887878417969,36.46984100341797,35.647193908691406,34.63728713989258,33.41789627075195,36.42293167114258,34.23173141479492,35.240234375,38.12540817260742,38.0355339050293,-12.053548812866211],\"yaxis\":\"y\",\"type\":\"scatter\"},{\"customdata\":[[\"Collisionless linearly polarized SA waves cannot oscillate when the amplitude of shear-Alfv\\u00e9n fluctuations exceeds a certain limit.\"],[\"The development of pressure anisotropy, where the pressure tensor differs in the directions perpendicular and parallel to the magnetic field.\"],[\"It is an instability that can be triggered when the pressure anisotropy is below a certain threshold.\"],[\"The plasma self-organizes to prevent further changes in field strength, leading to the development of tension-less field-line structures.\"],[\"It is the net transfer of mechanical energy of a wave to the plasma thermal energy due to spatial correlations between the wave's self-generated pressure anisotropy and the rate of change of the magnetic field.\"],[\"It is a regime where collisions act to balance the generation of pressure anisotropy and shear-Alfv\\u00e9n waves cannot oscillate when the amplitude of fluctuations exceeds a certain limit.\"],[\"It slowly decays in time until its amplitude is below a certain limit, at which point it can oscillate.\"],[\"Magnetic energy dominates over kinetic energy.\"]],\"hovertemplate\":\"arxiv_id=1701.03175\\u003cbr\\u003ex=%{x}\\u003cbr\\u003ey=%{y}\\u003cbr\\u003enugget_answer=%{customdata[0]}\\u003cextra\\u003e\\u003c\\u002fextra\\u003e\",\"legendgroup\":\"1701.03175\",\"marker\":{\"color\":\"#FFA15A\",\"symbol\":\"circle\"},\"mode\":\"markers\",\"name\":\"1701.03175\",\"orientation\":\"v\",\"showlegend\":true,\"x\":[-10.683837890625,-8.01707649230957,-8.887706756591797,-2.3693323135375977,-6.967459201812744,-10.2196044921875,-11.13930892944336,1.0396244525909424],\"xaxis\":\"x\",\"y\":[-35.65386962890625,-35.234413146972656,-35.67345428466797,-30.932893753051758,-34.23617172241211,-35.653865814208984,-37.57203674316406,-23.27947235107422],\"yaxis\":\"y\",\"type\":\"scatter\"},{\"customdata\":[[\"The issue of naturalness of the Higgs mass refers to the fine-tuning problem in which the Higgs mass is considered to be unnaturally light compared to a large effective theory cut-off.\"],[\"The consequence of theories that solve the naturalness problem is the prediction of fundamentally new physics close to the TeV scale.\"],[\"The concern is that null experimental searches at the LHC have not found evidence of new physics at the TeV scale, which poses a challenge to the solution of the Higgs naturalness problem.\"],[\"The proposed alternative approach suggests that the absence of new physics at the TeV scale can be compatible with a naturally light Higgs mass as a result of cosmological evolution in the early universe.\"],[\"The relaxion is a rolling scalar field that scans the Higgs mass while it evolves down its scalar potential in the early universe.\"],[\"In relaxion models, when the Higgs mass-squared passes through zero, a technically natural backreaction of the Higgs vacuum expectation value causes the relaxion to halt and freeze the Higgs vacuum expectation value at a small value.\"],[\"In the proposed approach, there is no backreaction from the Higgs onto the relaxion. Instead, the relaxion continues rolling once the Higgs vacuum expectation value reaches a small value.\"],[\"In the proposed approach, the vacuum expectation value of the relaxion backreacts on the inflationary sector and causes inflation to end.\"],[\"As the Universe cools, the decreasing value of the Hubble parameter backreacts on the relaxion field and causes it to stop rolling.\"],[\"The key point is that the period of time in which the relaxion evolves during the inflationary epoch is typically exponentially greater than the period of time between inflation ending and the Hubble parameter falling below a critical value.\"],[\"A small Higgs vacuum expectation value becomes a prediction of the theory in the proposed approach, even though the Higgs itself does not play a role in halting the relaxion evolution.\"],[\"The advantage is that it simplifies the relaxion sector of the theory, allowing for a minimal relaxion Lagrangian without additional scalar fields or new electroweak-symmetry-breaking physics.\"],[\"Section 1 of the paper discusses the issue of naturalness of the Higgs mass and the motivation for alternative approaches to naturalness.\"],[\"Section 2 of the paper demonstrates examples of how inflation could end with a weak-scale vacuum expectation value for the Higgs.\"],[\"Section 3 of the paper lists constraints on the relaxion parameter space.\"],[\"The final section of the paper concludes the findings and discussions.\"]],\"hovertemplate\":\"arxiv_id=1701.09167\\u003cbr\\u003ex=%{x}\\u003cbr\\u003ey=%{y}\\u003cbr\\u003enugget_answer=%{customdata[0]}\\u003cextra\\u003e\\u003c\\u002fextra\\u003e\",\"legendgroup\":\"1701.09167\",\"marker\":{\"color\":\"#19d3f3\",\"symbol\":\"circle\"},\"mode\":\"markers\",\"name\":\"1701.09167\",\"orientation\":\"v\",\"showlegend\":true,\"x\":[-32.80600357055664,-30.327404022216797,-31.228565216064453,-31.194124221801758,-31.205102920532227,-32.35103988647461,-31.898193359375,-33.773895263671875,-32.936058044433594,36.53993606567383,-31.607009887695312,-30.019851684570312,-32.807003021240234,-33.367305755615234,-29.91612434387207,-29.510061264038086],\"xaxis\":\"x\",\"y\":[-17.82741928100586,-17.117748260498047,-17.370407104492188,-17.893033981323242,-22.684520721435547,-22.361295700073242,-21.74906349182129,-21.46501922607422,-23.76813507080078,0.9472716450691223,-20.886953353881836,-21.77412223815918,-18.35527992248535,-20.2705078125,-24.40081787109375,-30.755765914916992],\"yaxis\":\"y\",\"type\":\"scatter\"},{\"customdata\":[[\"The third dredge-up is the mechanism responsible for turning the abundance of AGB stars from O-rich into C-enriched.\"],[\"Carbon-rich AGB stars are stars on the Asymptotic Giant Branch that have atmospheres containing carbon-bearing molecules and dust made of amorphous carbon and silicon carbide.\"],[\"During the evolution of stars on the AGB, they cool, expand, grow in brightness, burn nuclear fuel faster, and eventually begin to pulsate.\"],[\"The sequence of pulsation and dust formation in AGB stars may drive a wind off the surface of the star into interstellar space.\"],[\"DARWIN models are dynamic model atmospheres that are used to study the atmospheres of AGB stars and have successfully reproduced observations of carbon-rich stars.\"],[\"The purpose of this paper is to extend a previous study on a C-rich AGB star and investigate the dynamic processes happening in the atmospheres of a set of C-rich AGB stars.\"],[\"Long-baseline optical interferometry is an essential tool to study the stratification of the atmosphere of AGB stars and allows for scanning the regions of molecules and dust formation.\"],[\"The targets of this study are the C-rich AGB stars R Lep, R Vol, Y Pav, AQ Sgr, U Hya, and X TrA.\"]],\"hovertemplate\":\"arxiv_id=1701.04331\\u003cbr\\u003ex=%{x}\\u003cbr\\u003ey=%{y}\\u003cbr\\u003enugget_answer=%{customdata[0]}\\u003cextra\\u003e\\u003c\\u002fextra\\u003e\",\"legendgroup\":\"1701.04331\",\"marker\":{\"color\":\"#FF6692\",\"symbol\":\"circle\"},\"mode\":\"markers\",\"name\":\"1701.04331\",\"orientation\":\"v\",\"showlegend\":true,\"x\":[4.609427452087402,2.9083805084228516,0.6124215126037598,0.10138295590877533,3.4454126358032227,4.644344806671143,20.434377670288086,5.377234935760498],\"xaxis\":\"x\",\"y\":[19.286026000976562,18.41989517211914,20.054048538208008,20.11690902709961,17.447772979736328,17.813526153564453,19.69611930847168,17.654502868652344],\"yaxis\":\"y\",\"type\":\"scatter\"},{\"customdata\":[[\"The last decade of photometric and spectroscopic observations.\"],[\"Large and correlated star-to-star inhomogeneities in the abundance of several light elements, like C, N, Na, O, Mg, Al, and He.\"],[\"They are usually interpreted as being due to self-enrichment of a gas polluted by the proton capture processes.\"],[\"Intermediate-mass asymptotic giant branch (AGB) stars, fast rotating massive stars, interacting massive binary stars, and\\u002for super-massive stars.\"],[\"There is still a lack of a convincing comprehensive model.\"],[\"Potassium.\"],[\"The [K\\u002fFe] abundance ratio ranges from solar values up to +2.0 dex.\"],[\"There is a large anti-correlation between [K\\u002fFe] and [Mg\\u002fFe].\"],[\"The [K\\u002fFe] abundance ratio in NGC~2808 has a significant spread, but its amplitude is much smaller than that found in NGC~2419.\"],[\"There are significant correlations with [Na\\u002fFe] and [Al\\u002fFe], and anti-correlations with [O\\u002fFe] and [Mg\\u002fFe].\"],[\"The [K\\u002fFe] enhancement and the K-Mg anti-correlations are ascribable to the same self-enrichment process responsible for the observed chemical anomalies.\"],[\"They did not find any evidence of intrinsic K spread in the considered clusters.\"],[\"The mean [K\\u002fFe] and [Fe\\u002fH] ratios of the considered clusters appear to lie onto the same [K\\u002fFe] vs. [Fe\\u002fH] relation defined by field stars.\"],[\"They did not probe the extreme Mg-deficient population.\"],[\"The overall scenario of K abundances in Galactic field stars is not well understood, both from the observational and theoretical point of view.\"],[\"To study AGB-driven self-enrichment.\"]],\"hovertemplate\":\"arxiv_id=1702.02953\\u003cbr\\u003ex=%{x}\\u003cbr\\u003ey=%{y}\\u003cbr\\u003enugget_answer=%{customdata[0]}\\u003cextra\\u003e\\u003c\\u002fextra\\u003e\",\"legendgroup\":\"1702.02953\",\"marker\":{\"color\":\"#B6E880\",\"symbol\":\"circle\"},\"mode\":\"markers\",\"name\":\"1702.02953\",\"orientation\":\"v\",\"showlegend\":true,\"x\":[16.830564498901367,-0.8393131494522095,4.583059787750244,2.2426528930664062,-16.128467559814453,43.47011947631836,3.7302231788635254,2.338212490081787,2.425116539001465,2.274505138397217,3.418064832687378,0.7298868298530579,1.565398097038269,1.2245588302612305,1.8348519802093506,6.505506992340088],\"xaxis\":\"x\",\"y\":[19.70505142211914,15.116779327392578,10.621301651000977,18.654613494873047,-8.283446311950684,-9.768312454223633,8.067525863647461,11.29191780090332,6.746931552886963,11.536151885986328,10.74299144744873,42.5822868347168,8.561179161071777,42.68351364135742,5.999857425689697,18.79477882385254],\"yaxis\":\"y\",\"type\":\"scatter\"},{\"customdata\":[[\"AGN have been observed to influence their surrounding interstellar and intergalactic medium.\"],[\"The duty-cycle of an active SMBH refers to the portion of time it is active.\"],[\"The ages of radio-loud AGN can be derived using the spectral properties of the radio plasma.\"],[\"The synchrotron radio remnant regions of AGN slowly fade as time passes due to preferential cooling of high energy particles and\\u002for adiabatic expansion.\"],[\"Selecting radio sources that have a steep spectral index over a range of frequencies.\"],[\"The reason for the scarcity of detected AGN remnants compared to the entire population of active radio galaxies is still unknown.\"],[\"The recent availability of new deep images from the low frequency array.\"],[\"The determination of the active and switched off times of individual objects over a statistically significant sample.\"],[\"Bona fide remnants can show a total age of over a hundred Myr.\"],[\"The duration of the remnant phase in most cases appears to be shorter or comparable to that of the active phase.\"],[\"The duty cycle likely has a dependence on galaxy mass and source power during the active phase.\"],[\"The host galaxy of B2 0924+30 is IC 2476 (UGC 5043).\"],[\"The redshift of B2 0924+30 is 0.026141.\"],[\"The radio luminosity of B2 0924+30 is approximately 10^23.8 W\\u002fHz.\"],[\"Yes, B2 0924+30 is considered to be an AGN remnant.\"]],\"hovertemplate\":\"arxiv_id=1701.06903\\u003cbr\\u003ex=%{x}\\u003cbr\\u003ey=%{y}\\u003cbr\\u003enugget_answer=%{customdata[0]}\\u003cextra\\u003e\\u003c\\u002fextra\\u003e\",\"legendgroup\":\"1701.06903\",\"marker\":{\"color\":\"#FF97FF\",\"symbol\":\"circle\"},\"mode\":\"markers\",\"name\":\"1701.06903\",\"orientation\":\"v\",\"showlegend\":true,\"x\":[-3.4264392852783203,-37.92803192138672,1.646540880203247,1.0218325853347778,7.505311965942383,0.9086217880249023,22.340137481689453,33.13480758666992,-15.317956924438477,-25.801332473754883,-37.878196716308594,13.855868339538574,15.926082611083984,15.829017639160156,13.29085922241211],\"xaxis\":\"x\",\"y\":[0.9909727573394775,7.1389312744140625,-5.697807312011719,-4.530750274658203,-13.129120826721191,-3.5812788009643555,18.442947387695312,32.42966079711914,37.7872428894043,36.233116149902344,7.14154052734375,-16.281089782714844,-16.262449264526367,-18.045228958129883,-15.072023391723633],\"yaxis\":\"y\",\"type\":\"scatter\"},{\"customdata\":[[\"Understanding the formation mechanism of high-mass stars is important to elucidate the structure and evolution of galaxies.\"],[\"The theories of high-mass star formation include monolithic collapse and competitive accretion.\"],[\"Possible sites of high-mass star formation include massive and dense clouds such as hot cores and infrared dark clouds.\"],[\"It is puzzling that high-mass star formation is not commonly associated with HII regions, which are the most obvious signature of O\\u002fearly B star formation.\"],[\"Supersonic collision between interstellar molecular clouds is discussed as a possible triggering mechanism of high-mass star formation.\"],[\"Cloud-cloud collisions take place supersonically at a velocity of 10-30 km\\u002fs.\"],[\"Cloud-cloud collision increases the cloud density and the effective sound speed in the shocked interface layer.\"],[\"The mass accretion rate is enhanced by two orders of magnitude to 10^-4 - 10^-3 M_sun\\u002fyr due to cloud-cloud collision.\"],[\"The typical collision time scale is estimated to be 0.1 Myr.\"],[\"It is currently unknown if cloud-cloud collision is one of the major mechanisms of high-mass star formation.\"],[\"One of the difficulties in studying high-mass star formation is that the number of high-mass star forming regions is small compared to low-mass star formation sites.\"],[\"The nearest young O star cluster is the Orion Nebula Cluster (ONC) located at 410 pc from the sun.\"]],\"hovertemplate\":\"arxiv_id=1701.04669\\u003cbr\\u003ex=%{x}\\u003cbr\\u003ey=%{y}\\u003cbr\\u003enugget_answer=%{customdata[0]}\\u003cextra\\u003e\\u003c\\u002fextra\\u003e\",\"legendgroup\":\"1701.04669\",\"marker\":{\"color\":\"#FECB52\",\"symbol\":\"circle\"},\"mode\":\"markers\",\"name\":\"1701.04669\",\"orientation\":\"v\",\"showlegend\":true,\"x\":[-13.291361808776855,-14.736089706420898,-14.004256248474121,-11.755173683166504,-14.365510940551758,-14.50437068939209,-13.938141822814941,-15.351067543029785,-14.988656997680664,-13.26239013671875,-12.092950820922852,-5.5704426765441895],\"xaxis\":\"x\",\"y\":[16.074609756469727,18.083412170410156,19.28049659729004,19.045028686523438,21.00191879272461,34.01813507080078,33.10696792602539,33.993316650390625,35.80588150024414,21.43796730041504,18.596078872680664,12.752605438232422],\"yaxis\":\"y\",\"type\":\"scatter\"},{\"customdata\":[[\"The CE phase is a brief but crucial phase in the formation of many compact binary systems, where one component of a binary system is engulfed by the stellar envelope of the secondary star.\"],[\"The CE phase is short-lived, lasting approximately a year to a few hundred years.\"],[\"Transient phenomena produced by the interaction between stars in binary systems include type Ia supernovae, gamma-ray bursts, ultra-luminous x-ray sources, novae, millisecond pulsars, gravitational waves, and common envelopes.\"],[\"The Bondi-Hoyle-Lyttleton accretion radius is the distance from a compact object at which it can accrete mass from its surroundings.\"],[\"Hypercritical accretion is a type of accretion that occurs when the mass transfer rate in a binary system is significantly larger than the Eddington limit for accretion.\"],[\"The CE phase has been studied analytically, numerically in one- and two-dimensions, and through three-dimensional hydrodynamical simulations.\"]],\"hovertemplate\":\"arxiv_id=1702.03293\\u003cbr\\u003ex=%{x}\\u003cbr\\u003ey=%{y}\\u003cbr\\u003enugget_answer=%{customdata[0]}\\u003cextra\\u003e\\u003c\\u002fextra\\u003e\",\"legendgroup\":\"1702.03293\",\"marker\":{\"color\":\"#636efa\",\"symbol\":\"circle\"},\"mode\":\"markers\",\"name\":\"1702.03293\",\"orientation\":\"v\",\"showlegend\":true,\"x\":[-25.804168701171875,-25.79200553894043,-26.637575149536133,-10.858268737792969,-9.86170768737793,-26.58329963684082],\"xaxis\":\"x\",\"y\":[34.22837829589844,35.771827697753906,29.8934268951416,-8.467769622802734,-7.207189559936523,-29.079587936401367],\"yaxis\":\"y\",\"type\":\"scatter\"},{\"customdata\":[[\"Intrinsic alignments are correlations between galaxy shapes and the large-scale structure of the Universe.\"],[\"Intrinsic alignments are the main astrophysical systematic affecting cosmological constraints from weak gravitational lensing.\"],[\"Failing to account for intrinsic alignments can result in biased constraints on the equation of state of dark energy.\"],[\"State-of-the-art hydrodynamical simulations have typical volumes of $(100$ Mpc$\\u002fh)^3$.\"],[\"Future surveys will probe multi-Gpc$^3$ cosmological volumes.\"],[\"The alternative approach is to use dark matter-only (DMO) simulations.\"],[\"DMO simulations must be populated with galaxies bearing some statistical relation with their embedding dark matter haloes.\"],[\"Haloes have been shown to be subject to alignments up to large scales.\"],[\"To model observable 'satellite' galaxies in DMO simulations, one must specify how to populate haloes with satellites including a prescription for some level of alignment according to a 'halo model'.\"],[\"The purpose of this manuscript is to test the assumptions behind a model for populating dark matter haloes from DMO simulations with aligned galaxies.\"]],\"hovertemplate\":\"arxiv_id=1702.03913\\u003cbr\\u003ex=%{x}\\u003cbr\\u003ey=%{y}\\u003cbr\\u003enugget_answer=%{customdata[0]}\\u003cextra\\u003e\\u003c\\u002fextra\\u003e\",\"legendgroup\":\"1702.03913\",\"marker\":{\"color\":\"#EF553B\",\"symbol\":\"circle\"},\"mode\":\"markers\",\"name\":\"1702.03913\",\"orientation\":\"v\",\"showlegend\":true,\"x\":[-18.26275634765625,-18.365013122558594,-18.73716926574707,-18.986289978027344,-20.127845764160156,-30.492605209350586,-28.617855072021484,-27.514541625976562,-28.833160400390625,-29.24836540222168],\"xaxis\":\"x\",\"y\":[3.622823476791382,3.0875184535980225,2.1534464359283447,-5.559065818786621,-5.67954683303833,1.0566577911376953,2.54032039642334,6.036566257476807,3.1048474311828613,2.2058095932006836],\"yaxis\":\"y\",\"type\":\"scatter\"},{\"customdata\":[[\"The flux of Solar Energetic Particles (SEPs)\"],[\"Disrupt satellite communications and impact astronaut health and safety\"],[\"The solar wind's magnetic field and its spatial and temporal variations\"],[\"Using a transport equation\"],[\"Particle drifts are significant for SEP propagation because they play a significant role in SEP propagation to the Earth, especially for heavier elements\"],[\"Field-line meandering and cross-field diffusion\"],[\"The HCS is the boundary between the two hemispheres of the Solar dipole field\"],[\"The HCS changes the motion of charged particles due to the imposition of two distinct regions of drifts and the break-down of guiding centre motion at the sheet\"],[\"The HCS consists of a complex 3D structure due to the varying and complicated distribution of mean magnetic flux direction on the solar surface and the tilt of the solar magnetic axis with respect to the rotation axis\"],[\"Previous research on the HCS has mainly focused on galactic cosmic rays (GCRs) propagating inwards from the outer boundary of the heliosphere\"],[\"The current study is investigating how the presence of the HCS affects the propagation of SEPs from the Sun to the Earth\"],[\"The current study is assessing the effects of current sheet thickness and different dipole configurations on SEP propagation for protons of different energies\"],[\"The purpose of presenting SEP time profiles at virtual observers is to provide a basis of comparison with real observations\"]],\"hovertemplate\":\"arxiv_id=1701.04286\\u003cbr\\u003ex=%{x}\\u003cbr\\u003ey=%{y}\\u003cbr\\u003enugget_answer=%{customdata[0]}\\u003cextra\\u003e\\u003c\\u002fextra\\u003e\",\"legendgroup\":\"1701.04286\",\"marker\":{\"color\":\"#00cc96\",\"symbol\":\"circle\"},\"mode\":\"markers\",\"name\":\"1701.04286\",\"orientation\":\"v\",\"showlegend\":true,\"x\":[-1.3256787061691284,30.64590072631836,-3.1184520721435547,-8.619690895080566,-0.5260282754898071,-21.803010940551758,-3.182831048965454,-4.061727523803711,-3.4751665592193604,-1.7422127723693848,-1.1274398565292358,-0.10843200981616974,8.250833511352539],\"xaxis\":\"x\",\"y\":[-35.13993835449219,22.44649314880371,-33.488285064697266,-42.29684066772461,-34.8505973815918,-29.971506118774414,-38.61482620239258,-38.335304260253906,-39.00944519042969,-37.375099182128906,-36.66175079345703,-36.645626068115234,12.830501556396484],\"yaxis\":\"y\",\"type\":\"scatter\"},{\"customdata\":[[\"Long duration gamma-ray bursts (GRBs) are produced when the core of a massive star collapses to a neutron star or a black hole.\"],[\"The jet in a long duration gamma-ray burst (GRB) is surrounded by a hot cocoon made by the shock-heated plasma.\"],[\"The total amount of energy deposited in the cocoon of a long duration gamma-ray burst (GRB) depends on the size of the star and the jet luminosity.\"],[\"The temperature, energy, and Lorentz factor of the cocoon are the main parameters that affect its luminosity in a long duration gamma-ray burst (GRB).\"],[\"The radiation from the cocoon, once it breaks out of the star, expands and later decelerates into the stellar environment, provides information about the progenitor star in a long duration gamma-ray burst (GRB).\"],[\"The simulations of gamma-ray bursts (GRBs) considered the hydrodynamic or magnetohydrodynamic interactions of the jet with the progenitor star.\"],[\"The simulations of gamma-ray bursts (GRBs) did not consider the radiation escaping the cocoon or the interaction of this radiation with the relativistic jet.\"],[\"The paper by Suzuki et al. mainly focused on the impact of the circumstellar medium on the early thermal X-ray emission.\"],[\"The paper by Nakar et al. included the mixing of the shocked jet and shocked stellar material in their calculation of cocoon radiation.\"],[\"This paper presented lightcurves and spectra of radiation escaping the cocoon in long duration gamma-ray bursts (GRBs) based on hydrodynamical simulations.\"]],\"hovertemplate\":\"arxiv_id=1701.05198\\u003cbr\\u003ex=%{x}\\u003cbr\\u003ey=%{y}\\u003cbr\\u003enugget_answer=%{customdata[0]}\\u003cextra\\u003e\\u003c\\u002fextra\\u003e\",\"legendgroup\":\"1701.05198\",\"marker\":{\"color\":\"#ab63fa\",\"symbol\":\"circle\"},\"mode\":\"markers\",\"name\":\"1701.05198\",\"orientation\":\"v\",\"showlegend\":true,\"x\":[-11.049018859863281,-9.832016944885254,-8.968425750732422,-8.467510223388672,-9.9600830078125,-10.495977401733398,-11.024595260620117,-6.074254989624023,-7.4185686111450195,-9.451199531555176],\"xaxis\":\"x\",\"y\":[-12.203330993652344,-12.850408554077148,-12.343185424804688,-12.239094734191895,-11.78532886505127,-13.917430877685547,-14.414793014526367,-15.12340259552002,-15.002833366394043,-14.122577667236328],\"yaxis\":\"y\",\"type\":\"scatter\"},{\"customdata\":[[\"To present results on RR Lyrae stars with additional pulsational modes.\"],[\"The true complexity of their pulsational behaviour.\"],[\"AQ Leo is the first example of a star showing additional variability with a period ratio of 0.6-0.64 times the period of the first-overtone mode.\"],[\"It has not yet been explained.\"],[\"0.725 - 0.738.\"],[\"0.70 - 0.75.\"],[\"0.28 - 0.41 days.\"],[\"The pulsation nature of the newly discovered group of RR Lyrae stars.\"]],\"hovertemplate\":\"arxiv_id=1701.00751\\u003cbr\\u003ex=%{x}\\u003cbr\\u003ey=%{y}\\u003cbr\\u003enugget_answer=%{customdata[0]}\\u003cextra\\u003e\\u003c\\u002fextra\\u003e\",\"legendgroup\":\"1701.00751\",\"marker\":{\"color\":\"#FFA15A\",\"symbol\":\"circle\"},\"mode\":\"markers\",\"name\":\"1701.00751\",\"orientation\":\"v\",\"showlegend\":true,\"x\":[10.046416282653809,8.79357624053955,11.849702835083008,-14.841623306274414,35.678184509277344,35.666141510009766,37.26702117919922,9.792597770690918],\"xaxis\":\"x\",\"y\":[20.55687141418457,21.41631507873535,21.715822219848633,-6.134189128875732,-21.259048461914062,-21.103546142578125,-21.03837013244629,20.678632736206055],\"yaxis\":\"y\",\"type\":\"scatter\"},{\"customdata\":[[\"Studying the initial conditions of gas before the formation of a massive protostar.\"],[\"They assume that the initial condition is a massive pre-stellar core (PSC).\"],[\"They are expected to be highly deuterated and well-traced by species such as N2D+.\"],[\"They do not involve massive pre-stellar cores (PSCs) as the initial conditions.\"],[\"T13 used N2D+(3-2) to identify the C1-S core.\"],[\"The C1-S core is at a distance of about 5 kpc.\"],[\"The deuteration fraction measured in the C1-S core is approximately 0.2 to 0.7.\"],[\"T16 reported the detection of two protostellar outflow sources in the vicinity of the core center.\"],[\"If the protostars are embedded in the core, it would invalidate its status as a PSC.\"],[\"Another previously reported candidate massive PSC is G11.92-0.61-MM2.\"],[\"The non-detection of any molecular lines toward G11.92-0.61-MM2 makes it difficult to assess the reliability of the structure.\"],[\"The Cycle 2 observations of C1-S achieved a resolution of 0.2 arcseconds.\"],[\"The C1-S core remains a promising candidate to be a massive pre-stellar core (PSC).\"]],\"hovertemplate\":\"arxiv_id=1701.05953\\u003cbr\\u003ex=%{x}\\u003cbr\\u003ey=%{y}\\u003cbr\\u003enugget_answer=%{customdata[0]}\\u003cextra\\u003e\\u003c\\u002fextra\\u003e\",\"legendgroup\":\"1701.05953\",\"marker\":{\"color\":\"#19d3f3\",\"symbol\":\"circle\"},\"mode\":\"markers\",\"name\":\"1701.05953\",\"orientation\":\"v\",\"showlegend\":true,\"x\":[-19.093721389770508,-20.49623680114746,32.40742111206055,-20.304262161254883,31.543638229370117,28.720542907714844,31.391572952270508,-7.065962791442871,-21.529380798339844,26.12727928161621,24.80098533630371,29.31772232055664,27.113203048706055],\"xaxis\":\"x\",\"y\":[20.406702041625977,30.414026260375977,-3.1820201873779297,30.870580673217773,-4.491186141967773,-7.6604485511779785,-5.031758785247803,-1.2209762334823608,29.639604568481445,-6.017443656921387,1.840680480003357,-6.199398517608643,-6.568012714385986],\"yaxis\":\"y\",\"type\":\"scatter\"},{\"customdata\":[[\"FU Orionis objects and EXors are young stellar objects that undergo episodic accretion outbursts.\"],[\"The possible mechanisms to trigger the accretion outbursts of YSOs include disk thermal instability, gravitational instability and disk fragmentation, magneto-rotational instability and gravitational instability, planet-disk interactions, and encounters of stellar companions.\"],[\"Resolving properties of the circumstellar disks around FU Orionis objects and EXors on various spatial scales can help diagnose the probable outburst-triggering mechanisms in individual YSOs.\"],[\"(Sub)millimeter observations of dust spectral energy distributions can provide estimates for the overall gas mass in FU Orionis objects and EXors.\"],[\"Previous observations suggested that the short duration and repetitive accretion outbursts in EXors may not necessarily be triggered by disk gravitational instability.\"],[\"Previous observations suggested that the triggering mechanism for long duration outbursts in FU Orionis objects is less clear.\"],[\"The CARMA observations towards the FU Orionis-like object PP,13S* suggested that the surface density of the PP,13S* disk is ten times lower than the required density to trigger disk gravitational instability.\"],[\"Dunham et al. (2012) deduced that the FU Orionis object HBC,722 has a too low disk gas and dust mass to trigger gravitational instability.\"]],\"hovertemplate\":\"arxiv_id=1701.06531\\u003cbr\\u003ex=%{x}\\u003cbr\\u003ey=%{y}\\u003cbr\\u003enugget_answer=%{customdata[0]}\\u003cextra\\u003e\\u003c\\u002fextra\\u003e\",\"legendgroup\":\"1701.06531\",\"marker\":{\"color\":\"#FF6692\",\"symbol\":\"circle\"},\"mode\":\"markers\",\"name\":\"1701.06531\",\"orientation\":\"v\",\"showlegend\":true,\"x\":[-5.017764091491699,-6.878830432891846,-5.908844947814941,-5.197968482971191,-6.052595615386963,-5.696617603302002,-4.824004173278809,-4.80756950378418],\"xaxis\":\"x\",\"y\":[34.51114273071289,34.21955490112305,34.15022277832031,33.05048370361328,36.26017761230469,36.230674743652344,38.56415557861328,38.55766677856445],\"yaxis\":\"y\",\"type\":\"scatter\"},{\"customdata\":[[\"One approach is to assume that the Lorentzian dispersion relation is modified by higher order corrections.\"],[\"The corrections to the spectrum depend on whether the dispersion relation respects the adiabaticity condition when the modes are inside the horizon.\"],[\"The gluing method overestimates the correction to the power spectrum by an extra factor of (H\\u002fM).\"],[\"The numerical solution suggests that the exact behavior of the power spectrum is more involved and depends on other parameters in the problem.\"],[\"Effects of order one or higher on the power spectrum are often argued to be excluded due to the backreaction of excited states in the phase governed by the known physics.\"],[\"The upper bound on the second Bogolyubov coefficient is estimated to be of order sqrt(epsilon*eta) * H * M_pl \\u002f M^2.\"],[\"The back reaction of excited states with large Bogolyubov coefficients can be counteracted by simultaneously reducing the ratio of H and M.\"],[\"The largest value allowed for the new physics scale is approximately 21 * H.\"],[\"Super-excited initial conditions refer to highly excited initial conditions that can generate interesting observational effects.\"],[\"Super-excited states with k dependence can induce a running in the spectral index larger than O(epsilon^2). Position-dependent modulations of excited states with large occupation numbers can lead to the hemispherical anomaly.\"],[\"Rotational symmetry-breaking excited initial conditions can lead to statistically anisotropic power and bi-spectrum, which may have an impact for future galaxy surveys.\"],[\"The modified dispersion relations being explored have the form omega^2(k_ph) = bar(beta) * k_ph^6 - bar(alpha) * k_ph^4 + k_ph^2.\"]],\"hovertemplate\":\"arxiv_id=1702.06101\\u003cbr\\u003ex=%{x}\\u003cbr\\u003ey=%{y}\\u003cbr\\u003enugget_answer=%{customdata[0]}\\u003cextra\\u003e\\u003c\\u002fextra\\u003e\",\"legendgroup\":\"1702.06101\",\"marker\":{\"color\":\"#B6E880\",\"symbol\":\"circle\"},\"mode\":\"markers\",\"name\":\"1702.06101\",\"orientation\":\"v\",\"showlegend\":true,\"x\":[-19.932615280151367,-19.54656410217285,-16.696378707885742,-16.95684814453125,-18.985858917236328,-22.8797664642334,-23.199819564819336,-28.990095138549805,-29.47112464904785,-20.063779830932617,-28.40194320678711,-20.598020553588867],\"xaxis\":\"x\",\"y\":[-39.137359619140625,-39.74306869506836,-38.819969177246094,-37.08772659301758,-37.071319580078125,-37.95625686645508,-37.36775588989258,-18.87979507446289,19.288400650024414,-36.11008071899414,18.51947593688965,-38.81312942504883],\"yaxis\":\"y\",\"type\":\"scatter\"},{\"customdata\":[[\"revealing cosmic reionization history with galaxy evolution\"],[\"It occurred at z ~ 8 - 11\"],[\"It completed at z ~ 6\"],[\"low-mass galaxy formation with halo mass less than ~ 10^12 Msun\"],[\"Lya emitters (LAEs)\"],[\"Mh ~ 10^11 Msun\"],[\"LAEs\"],[\"Significant attenuation of Lyman-alpha fluxes due to neutral hydrogen in the IGM\"],[\"Sufficient ionizing photons\"],[\"Giant HII bubbles\"],[\"James Webb Space Telescope (JWST), European Extremely Large Telescope (E-ELT), Thirty Meter Telescope (TMT), Giant Magellan Telescope (GMT)\"],[\"Cosmic reionization and galaxy formation\"],[\"They made patchy ionization structures in an inside-out fashion\"]],\"hovertemplate\":\"arxiv_id=1701.05571\\u003cbr\\u003ex=%{x}\\u003cbr\\u003ey=%{y}\\u003cbr\\u003enugget_answer=%{customdata[0]}\\u003cextra\\u003e\\u003c\\u002fextra\\u003e\",\"legendgroup\":\"1701.05571\",\"marker\":{\"color\":\"#FF97FF\",\"symbol\":\"circle\"},\"mode\":\"markers\",\"name\":\"1701.05571\",\"orientation\":\"v\",\"showlegend\":true,\"x\":[-12.240219116210938,41.7702522277832,42.16616439819336,-15.190655708312988,47.39430236816406,22.774789810180664,47.375022888183594,10.475676536560059,9.177743911743164,31.173221588134766,27.647132873535156,-12.862625122070312,-4.550539493560791],\"xaxis\":\"x\",\"y\":[10.932774543762207,-17.14834213256836,-17.011014938354492,14.078630447387695,-3.985133171081543,-14.531886100769043,-4.003594875335693,-0.8802251815795898,-5.449589729309082,18.017868041992188,22.943683624267578,11.254037857055664,-17.644418716430664],\"yaxis\":\"y\",\"type\":\"scatter\"},{\"customdata\":[[\"The nature of dark matter remains unknown.\"],[\"Cold dark matter is a scenario where dark matter is made of heavy, cold thermal relic particles that decoupled from baryonic matter in the early Universe.\"],[\"The $Lambda$CDM model is the standard cosmological model that includes cold dark matter (CDM) and dark energy. CDM accounts for about 26% of the current energy density of the Universe, while dark energy accounts for about 69%.\"],[\"The challenges for the $Lambda$CDM model include the 'too big to fail problem' and the 'Milky Way satellite problem'.\"],[\"The 'too big to fail problem' refers to the fact that the measured Galactic velocities indicate that dwarf galaxies are hosted by haloes that are less massive than those predicted by the $Lambda$CDM model.\"],[\"The 'Milky Way satellite problem' is related to predictions within the $Lambda$CDM cosmology for the number of dark matter sub-halos, which is much larger than the observed number of satellite galaxies that orbit close to the Milky Way.\"],[\"Possible solutions include lowering the total mass of the satellites through baryon or supernovae feedback effects, or modifying the underlying dark matter model.\"],[\"Mixed dark matter (MDM) models are a modified version of the cold dark matter (CDM) model that allow for a mixed cosmology with an additional dark and inert relic.\"],[\"The purpose is to study how cosmological measurements can be used to derive limits on the fraction of the non-cold dark matter (NCDM) component with respect to the total dark matter, as a function of its mass.\"],[\"The matter power spectrum in MDM scenarios can be used to compute the number of dwarf satellite galaxies and improve the compatibility with observations of the local Universe.\"],[\"Examples include fermions and bosons that froze-out when still relativistic, such as a sterile neutrino.\"]],\"hovertemplate\":\"arxiv_id=1701.03128\\u003cbr\\u003ex=%{x}\\u003cbr\\u003ey=%{y}\\u003cbr\\u003enugget_answer=%{customdata[0]}\\u003cextra\\u003e\\u003c\\u002fextra\\u003e\",\"legendgroup\":\"1701.03128\",\"marker\":{\"color\":\"#FECB52\",\"symbol\":\"circle\"},\"mode\":\"markers\",\"name\":\"1701.03128\",\"orientation\":\"v\",\"showlegend\":true,\"x\":[-33.59861755371094,-32.497154235839844,-30.426164627075195,-32.92502975463867,-32.82296371459961,-32.657527923583984,-25.751514434814453,-31.22184181213379,-30.308425903320312,-28.613176345825195,-34.77642059326172],\"xaxis\":\"x\",\"y\":[-4.30522346496582,-2.863416910171509,-3.578395128250122,3.9560258388519287,4.449141979217529,3.3330600261688232,2.6447014808654785,-2.4960858821868896,-1.4502387046813965,0.538337230682373,-7.586147308349609],\"yaxis\":\"y\",\"type\":\"scatter\"},{\"customdata\":[[\"MACS~J0717.5+3745 is a merging galaxy cluster located at a redshift of $z=0.5458$.\"],[\"The global X-ray temperature of MACS~J0717.5+3745 is $11.6 pm 0.5$~keV.\"],[\"MACS~J0717.5+3745 consists of at least four separate merging substructures.\"],[\"A study of the Sunyaev-Zel'dovich (SZ) effect provided evidence for the presence of shock-heated gas in MACS~J0717.5+3745.\"],[\"The total mass of MACS~J0717.5+3745 is $M_{\\rm{vir}} = left(3.5 pm 0.6\\right) \\times 10^{15} M_odot$.\"],[\"The radio halo in MACS~J0717.5+3745 extends over an area of about 1.6~Mpc.\"],[\"The radio relic in MACS~J0717.5+3745 is about 0.7--0.8~Mpc in size.\"],[\"The radio luminosity (1.4~GHz radio power) of MACS~J0717.5+3745 is the largest known for any cluster.\"],[\"The problem with the standard scenario for radio relics in clusters is that shock Mach numbers in clusters are typically low, making the Diffusive Shock Acceleration (DSA) mechanism inefficient.\"]],\"hovertemplate\":\"arxiv_id=1701.04096\\u003cbr\\u003ex=%{x}\\u003cbr\\u003ey=%{y}\\u003cbr\\u003enugget_answer=%{customdata[0]}\\u003cextra\\u003e\\u003c\\u002fextra\\u003e\",\"legendgroup\":\"1701.04096\",\"marker\":{\"color\":\"#636efa\",\"symbol\":\"circle\"},\"mode\":\"markers\",\"name\":\"1701.04096\",\"orientation\":\"v\",\"showlegend\":true,\"x\":[19.98575210571289,21.355403900146484,20.034194946289062,-5.844557285308838,21.406658172607422,19.500802993774414,19.654300689697266,18.582426071166992,-7.5722527503967285],\"xaxis\":\"x\",\"y\":[-19.2854061126709,-18.227602005004883,-20.147945404052734,-14.030842781066895,-17.376270294189453,-17.985116958618164,-17.698936462402344,-18.457792282104492,1.2669624090194702],\"yaxis\":\"y\",\"type\":\"scatter\"},{\"customdata\":[[\"Angular momentum transport\"],[\"MRI-driven turbulence\"],[\"To probe numerical convergence of MHD turbulence in a particular disk model\"],[\"Local and global models\"],[\"Local models have a linear shear flow and are highly symmetric, while global models simulate a radial range within a disk without requiring a small scale height\"],[\"-Omega^2 z\"],[\"Unstratified models turn off the vertical component of gravity and use a uniform vertical density profile, while stratified models turn on the vertical component of gravity and use a $z$-dependent vertical density profile\"],[\"Zero mean field models have all the currents that sustain the field contained within the simulation volume and can decay, while mean field models have one or more components of the field fixed by the boundary conditions and cannot decay\"],[\"Explicit dissipation models incorporate dissipation directly in the model using parameters like viscosity and resistivity, while ILES models provide dissipation through the numerical scheme without explicit dissipation\"],[\"Large-scale structures\"]],\"hovertemplate\":\"arxiv_id=1702.00777\\u003cbr\\u003ex=%{x}\\u003cbr\\u003ey=%{y}\\u003cbr\\u003enugget_answer=%{customdata[0]}\\u003cextra\\u003e\\u003c\\u002fextra\\u003e\",\"legendgroup\":\"1702.00777\",\"marker\":{\"color\":\"#EF553B\",\"symbol\":\"circle\"},\"mode\":\"markers\",\"name\":\"1702.00777\",\"orientation\":\"v\",\"showlegend\":true,\"x\":[-8.31777572631836,20.28367042541504,19.243289947509766,-17.01984977722168,-16.515522003173828,43.76211166381836,-16.86766815185547,-15.586803436279297,-15.085681915283203,-5.024388790130615],\"xaxis\":\"x\",\"y\":[-41.74626922607422,1.8204646110534668,0.9402769207954407,-28.310327529907227,-29.27199935913086,-15.74620532989502,-30.192909240722656,-30.84537124633789,-29.23114013671875,-21.829357147216797],\"yaxis\":\"y\",\"type\":\"scatter\"},{\"customdata\":[[\"Pulsars are powerful electromagnetic machines in the Universe that produce low-frequency electromagnetic waves and particle radiation.\"],[\"The energy source of pulsars is their huge rotational kinetic energy.\"],[\"The surface magnetic field of pulsars mediates the conversion of rotational kinetic energy into observed particle radiation.\"],[\"Fermi has increased the number of detected gamma-ray pulsars and established trends and correlations in their study.\"],[\"The numerical solutions provide information about the field structure and properties of more realistic configurations of pulsars.\"],[\"The dissipative magnetosphere models reveal that the emission of gamma-ray light-curves occurs near the equatorial current-sheet.\"],[\"The FIDO models improve the fitting of observed data by considering a hybrid form of conductivity and modulating the gamma-ray emission based on local physical properties.\"],[\"The study explored the spectral properties of FIDO models and found that the conductivity values depend on the spin-down rate and pulsar age.\"],[\"The Fermi cutoff energies contain information needed to determine the accelerating electric-field values in the FIDO models.\"],[\"The comparisons with Fermi data provide tight constraints on the conductivity values and uncover their dependence on the spin-down rate.\"],[\"The comparisons with Fermi data provide hints about the dependence of gap-widths and the multiplicity of emitting particles on the spin-down rate.\"]],\"hovertemplate\":\"arxiv_id=1702.03069\\u003cbr\\u003ex=%{x}\\u003cbr\\u003ey=%{y}\\u003cbr\\u003enugget_answer=%{customdata[0]}\\u003cextra\\u003e\\u003c\\u002fextra\\u003e\",\"legendgroup\":\"1702.03069\",\"marker\":{\"color\":\"#00cc96\",\"symbol\":\"circle\"},\"mode\":\"markers\",\"name\":\"1702.03069\",\"orientation\":\"v\",\"showlegend\":true,\"x\":[2.426337957382202,2.7462944984436035,2.3385581970214844,6.8516645431518555,-16.49687385559082,-6.402690410614014,3.823399305343628,4.027202129364014,4.869344234466553,4.936919689178467,5.24763298034668],\"xaxis\":\"x\",\"y\":[-20.810352325439453,-22.00358009338379,-22.305988311767578,-37.0244140625,-36.64624786376953,-26.318025588989258,-39.99627685546875,-39.127967834472656,-40.33946990966797,-38.312477111816406,-38.011680603027344],\"yaxis\":\"y\",\"type\":\"scatter\"},{\"customdata\":[[\"The dominant nuclear fusion reaction in VLMS is the pp I chain reaction.\"],[\"The metallicity range of the usdL subclass of L subdwarfs is [Fe\\u002fH] \\u2264 -1.7.\"],[\"There are currently 36 L subdwarfs reported in the literature.\"],[\"According to the BT-Settl model fits, the metallicity of SDSS J0104+15 is [Fe\\u002fH] = -1.8 \\u00b1 0.2.\"]],\"hovertemplate\":\"arxiv_id=1702.02001\\u003cbr\\u003ex=%{x}\\u003cbr\\u003ey=%{y}\\u003cbr\\u003enugget_answer=%{customdata[0]}\\u003cextra\\u003e\\u003c\\u002fextra\\u003e\",\"legendgroup\":\"1702.02001\",\"marker\":{\"color\":\"#ab63fa\",\"symbol\":\"circle\"},\"mode\":\"markers\",\"name\":\"1702.02001\",\"orientation\":\"v\",\"showlegend\":true,\"x\":[-21.925172805786133,5.72575569152832,10.36896800994873,5.788676738739014],\"xaxis\":\"x\",\"y\":[39.675357818603516,7.166697025299072,34.63902282714844,7.0471625328063965],\"yaxis\":\"y\",\"type\":\"scatter\"},{\"customdata\":[[\"Transit spectroscopy is the leading technique for studying exoplanet atmospheric composition.\"],[\"Transit observations have enabled the characterization of exoplanets for atmospheric molecular species, clouds, and\\u002for hazes.\"],[\"Recent observational results have shown that hot Jupiter transit spectra demonstrate a complex continuum from clear sky to heavily clouded conditions.\"],[\"The anticipated launch of NASA's James Webb Space Telescope (JWST) is expected to revolutionize the field of exoplanet transit spectroscopy.\"],[\"Over the course of its mission, JWST is expected to provide in-depth observations of many tens of transiting exoplanets.\"],[\"JWST will probe planets in the poorly understood 2-4 Earth mass regime.\"],[\"JWST may even be capable of characterizing temperate Earth-sized planets.\"],[\"Refraction can affect the shape of an exoplanet transit lightcurve.\"],[\"Light multiple scattering has seen little study with regards to exoplanet transits.\"],[\"Scattering opacity in exoplanet transits has largely been treated as being equivalent to absorption opacity.\"],[\"The relative importance of scattering, refraction, and absorption remains largely unexplored for a wide portion of exoplanet parameter space.\"],[\"Studies on the relative importance of scattering, refraction, and absorption have been hindered by the lack of available simulation tools and a lack of a single, coherent theory of exoplanet transit spectroscopy.\"]],\"hovertemplate\":\"arxiv_id=1701.05564\\u003cbr\\u003ex=%{x}\\u003cbr\\u003ey=%{y}\\u003cbr\\u003enugget_answer=%{customdata[0]}\\u003cextra\\u003e\\u003c\\u002fextra\\u003e\",\"legendgroup\":\"1701.05564\",\"marker\":{\"color\":\"#FFA15A\",\"symbol\":\"circle\"},\"mode\":\"markers\",\"name\":\"1701.05564\",\"orientation\":\"v\",\"showlegend\":true,\"x\":[22.115158081054688,21.48891830444336,20.568115234375,27.98102569580078,27.70436668395996,27.766132354736328,27.68754768371582,18.121225357055664,18.425939559936523,19.345808029174805,18.457523345947266,18.737035751342773],\"xaxis\":\"x\",\"y\":[25.286081314086914,25.483976364135742,26.15631675720215,24.279634475708008,25.304080963134766,26.941709518432617,27.127376556396484,26.223325729370117,29.06537437438965,28.72194480895996,27.99803924560547,27.719350814819336],\"yaxis\":\"y\",\"type\":\"scatter\"},{\"customdata\":[[\"The Habitable Zone (HZ) is the region around a star where a planet can support liquid water for certain values of the atmospheric pressure.\"],[\"It is estimated that there are approximately 10^10 Earth-sized planets that lie within the HZ of their stars in the Milky Way.\"],[\"Most HZ studies have focused on exoplanets around M-dwarfs because Earth-sized planets in the HZ are quite common and detailed characterizations of their atmospheres are easier since they are situated much closer to the host star.\"],[\"The potential discovery of Proxima Centauri b is significant because Proxima Centauri is the nearest star to the Earth and plans are already underway for exploring Proxima Centauri b.\"],[\"Exoplanetary atmospheres are an important area of research because spectroscopic analyses can potentially reveal the presence of life via biosignatures.\"],[\"Determining the escape rates of close-in exoplanets is important because high escape rates might deplete the planet of its atmosphere after a short period of time.\"],[\"One of the primary scientific goals of NASA's MAVEN mission is to determine the escape rates of Mars' atmosphere.\"],[\"The net ion escape rate estimated for Mars is approximately 2.5 x 10^24 s^-1.\"],[\"Sophisticated magnetohydrodynamical (MHD) models are necessary for studying the stellar wind-exoplanet interaction.\"],[\"Recent publications on magnetized and unmagnetized exoplanets have focused on studying atmospheric losses arising from stellar wind interaction.\"]],\"hovertemplate\":\"arxiv_id=1702.04089\\u003cbr\\u003ex=%{x}\\u003cbr\\u003ey=%{y}\\u003cbr\\u003enugget_answer=%{customdata[0]}\\u003cextra\\u003e\\u003c\\u002fextra\\u003e\",\"legendgroup\":\"1702.04089\",\"marker\":{\"color\":\"#19d3f3\",\"symbol\":\"circle\"},\"mode\":\"markers\",\"name\":\"1702.04089\",\"orientation\":\"v\",\"showlegend\":true,\"x\":[21.915639877319336,20.830228805541992,21.42784881591797,22.91391944885254,23.22136688232422,24.835134506225586,25.8041934967041,26.89934730529785,-2.6515257358551025,-2.869952917098999],\"xaxis\":\"x\",\"y\":[34.557125091552734,33.94321060180664,33.271305084228516,31.853797912597656,29.8625545501709,30.899826049804688,30.952768325805664,31.85202407836914,-25.337472915649414,-25.408584594726562],\"yaxis\":\"y\",\"type\":\"scatter\"},{\"customdata\":[[\"The study of supernova remnants (SNRs) is focused on providing valuable information relevant to stellar evolution, the evolution of the Galaxy, and its interstellar medium.\"],[\"SNRs are primarily observed in X-rays, by emission from hot interior gas, and in radio, by synchrotron emission from relativistic electrons accelerated by the SNR shockwave.\"],[\"The observational constraints for different SNRs depend on the brightness of emissions in different wavebands by a given SNR and the instruments used to observe that SNR.\"],[\"Only a small fraction of the approximately 300 observed SNRs in our Galaxy have been well enough characterized to determine their evolutionary state, including explosion type, explosion energy, and age.\"],[\"The purpose of the presented set of SNR models and software implementation is to expedite the characterization of SNRs by providing a tool to obtain SNR physical properties of interest using different constraints from observations.\"],[\"Section 2 presents an overview of supernova remnant evolution.\"],[\"Section 3.1 describes some of the overall properties related to the calculation of SNR models, such as characteristic time and radius scales and electron-ion temperature equilibration.\"],[\"Section 3.2 describes the calculations for the standard evolutionary path of a SNR.\"],[\"Section 3.3 describes alternate evolutionary paths for SNRs, including cases of SNR in a cloudy ISM, the fractional energy loss model for SNR, and SNR evolution in a hot low-density ISM.\"],[\"Section 3.4 briefly describes the software.\"],[\"Section 4 gives results from example calculations done with the software.\"],[\"Section 5 gives a brief summary.\"]],\"hovertemplate\":\"arxiv_id=1701.05942\\u003cbr\\u003ex=%{x}\\u003cbr\\u003ey=%{y}\\u003cbr\\u003enugget_answer=%{customdata[0]}\\u003cextra\\u003e\\u003c\\u002fextra\\u003e\",\"legendgroup\":\"1701.05942\",\"marker\":{\"color\":\"#FF6692\",\"symbol\":\"circle\"},\"mode\":\"markers\",\"name\":\"1701.05942\",\"orientation\":\"v\",\"showlegend\":true,\"x\":[-5.578813552856445,9.515457153320312,9.7553071975708,-4.842433929443359,10.141498565673828,-6.310290336608887,11.039532661437988,12.060883522033691,11.965473175048828,-28.37082290649414,-28.15960693359375,-31.961750030517578],\"xaxis\":\"x\",\"y\":[24.99856948852539,5.683201789855957,6.252984523773193,25.190902709960938,8.057463645935059,24.781925201416016,8.07218074798584,7.965684413909912,7.725939750671387,-33.905731201171875,-32.71782684326172,-32.05659484863281],\"yaxis\":\"y\",\"type\":\"scatter\"},{\"customdata\":[[\"They observed a lack of Lyman-(alpha) absorption in the spectra of high redshift quasars.\"],[\"They concluded that the neutral hydrogen fraction ((xHi)) in the intergalactic medium near (z=2) is extremely low ((xHi \\u003c 10^{-5})).\"],[\"The lack of Gunn-Peterson troughs in the spectra of SDSS quasars with (z \\u003c 6) indicated that the intergalactic medium (IGM) was highly ionized.\"],[\"citet{Fan2006} observed a sharp increase in the effective optical depth to lya photons (\\teff) at (z gtrsim 5.7), indicating an acceleration of the evolution of the IGM ionization state.\"],[\"citet{Becker2015} detected a (sim!110,h^{-1}),Mpc Gunn-Peterson trough covering the redshift range (5.523 leq z leq 5.879) in the lya forest towards the (z = 5.98) quasar ULAS J0148+0600.\"],[\"citet{Mesinger2010} proposed a novel approach where the fraction of pixels that have zero measured flux in both lya and lyb is used to directly measure an upper limit to the volume-weighted mean neutral hydrogen fraction.\"],[\"citet{McGreer2011,McGreer2014} concluded that reionization must be (almost) complete by (z sim 6) based on their measurements of dark pixels in the lya and lyb forests.\"],[\"The most recent optical depth measurements from emph{Planck} suggest a model-dependent redshift of reionization between (sim7.8) and (sim8.8).\"],[\"The redshift of the quasar (uj) is (z = 7.084).\"]],\"hovertemplate\":\"arxiv_id=1702.03687\\u003cbr\\u003ex=%{x}\\u003cbr\\u003ey=%{y}\\u003cbr\\u003enugget_answer=%{customdata[0]}\\u003cextra\\u003e\\u003c\\u002fextra\\u003e\",\"legendgroup\":\"1702.03687\",\"marker\":{\"color\":\"#B6E880\",\"symbol\":\"circle\"},\"mode\":\"markers\",\"name\":\"1702.03687\",\"orientation\":\"v\",\"showlegend\":true,\"x\":[7.952456474304199,11.128647804260254,10.092061996459961,12.309860229492188,13.070509910583496,12.204011917114258,12.386530876159668,12.774731636047363,17.296401977539062],\"xaxis\":\"x\",\"y\":[1.804761290550232,0.6472371220588684,-0.060822244733572006,-2.206069231033325,-2.3513526916503906,0.35710495710372925,-3.349471092224121,-4.074647426605225,-15.518831253051758],\"yaxis\":\"y\",\"type\":\"scatter\"},{\"customdata\":[[\"Understanding the sources of cosmic reionization.\"],[\"At z \\u003e 6.\"],[\"Star-forming galaxies.\"],[\"They have steep faint-end slopes.\"],[\"Less than or equal to -16 mag.\"],[\"The numerical factor xi_ion.\"],[\"25.34 +\\u002f- 0.02 (log(xi_ion)\\u002f[erg^-1 Hz]).\"],[\"The fraction of escaping ionizing photons to those produced in a galaxy.\"],[\"Approximately 0.1.\"],[\"Approximately 0.6 and 0.9, respectively.\"],[\"Gravitational lensing.\"],[\"Cluster Lensing And Supernova survey with Hubble (CLASH).\"],[\"Approximately 29 AB mag at the 5\\u03c3 level.\"],[\"UV luminosity functions, properties of faint galaxies.\"],[\"Cosmology with \\u03a9m = 0.3, \\u03a9\\u039b = 0.7, \\u03a9b = 0.04, and H0 = 70 km s^-1 Mpc^-1.\"]],\"hovertemplate\":\"arxiv_id=1702.04867\\u003cbr\\u003ex=%{x}\\u003cbr\\u003ey=%{y}\\u003cbr\\u003enugget_answer=%{customdata[0]}\\u003cextra\\u003e\\u003c\\u002fextra\\u003e\",\"legendgroup\":\"1702.04867\",\"marker\":{\"color\":\"#FF97FF\",\"symbol\":\"circle\"},\"mode\":\"markers\",\"name\":\"1702.04867\",\"orientation\":\"v\",\"showlegend\":true,\"x\":[-12.139300346374512,42.858402252197266,-12.368500709533691,-2.4469377994537354,29.132007598876953,31.3891544342041,31.502408981323242,8.395346641540527,35.97862243652344,35.75712585449219,15.043723106384277,16.747224807739258,29.577415466308594,-0.06255953758955002,-29.428020477294922],\"xaxis\":\"x\",\"y\":[9.903984069824219,-16.63384246826172,13.958085060119629,7.022002220153809,-19.540542602539062,-16.501399993896484,-16.795318603515625,-4.90769624710083,-18.337047576904297,-19.271041870117188,16.924875259399414,15.97056770324707,-19.90323829650879,0.20789217948913574,-5.793047904968262],\"yaxis\":\"y\",\"type\":\"scatter\"},{\"customdata\":[[\"The radial velocity (RV) technique.\"],[\"About 20%.\"],[\"To determine the bulk densities of transiting planets and to look for more non-transiting planets in the system.\"],[\"Instrumental effects, time sampling effects, and the intrinsic variability of the star.\"],[\"Stellar variability.\"],[\"Techniques based on the stability and coherence of the periodic RV variability induced by a planet, compared to the transient nature of stellar activity.\"],[\"If the RV amplitude is not the same in all wavelengths, the variation is not caused by a planet but rather by a stellar spot.\"],[\"Photometry can provide information on the amount of stellar variability and its periodicity during the observations.\"],[\"Cross correlation function (CCF) properties, such as bisector span or full width at half maximum, and specific lines in the spectrum, such as ion{Ca}{II} H&K emission or the H\\u03b1 line.\"],[\"Exploring a tool to distinguish between coherent and incoherent periodic signals.\"]],\"hovertemplate\":\"arxiv_id=1702.03885\\u003cbr\\u003ex=%{x}\\u003cbr\\u003ey=%{y}\\u003cbr\\u003enugget_answer=%{customdata[0]}\\u003cextra\\u003e\\u003c\\u002fextra\\u003e\",\"legendgroup\":\"1702.03885\",\"marker\":{\"color\":\"#FECB52\",\"symbol\":\"circle\"},\"mode\":\"markers\",\"name\":\"1702.03885\",\"orientation\":\"v\",\"showlegend\":true,\"x\":[18.802162170410156,36.09944534301758,22.827566146850586,14.023430824279785,14.846617698669434,16.353290557861328,14.835628509521484,15.71574878692627,17.115421295166016,27.91059112548828],\"xaxis\":\"x\",\"y\":[22.041221618652344,-16.415781021118164,27.28778648376465,20.44439697265625,21.378156661987305,22.53974723815918,23.149810791015625,21.229087829589844,9.416807174682617,5.934597969055176],\"yaxis\":\"y\",\"type\":\"scatter\"},{\"customdata\":[[\"Blazars are Active Galactic Nuclei (AGN) with relativistically collimated jets.\"],[\"The central super-massive black hole in Blazars has a mass of approximately 10^8 solar masses.\"],[\"The two humps in the energy distribution of Blazars are one peaking in the IR-UV bands of clear Synchrotron origin and the other extending from hard X to gamma rays of likely inverse Compton nature.\"],[\"The two main flavors of Blazars are BL Lac-type sources and Flat Spectrum Radio Quasars (FSRQs).\"],[\"FSRQs feature Compton-dominated spectra at gamma-ray energies, a conspicuous Big Blue Bump, and strong, broad optical emission lines.\"],[\"The observed synchrotron radiation in Blazars is emitted by relativistic electrons within the jet.\"],[\"The luminosity of the synchrotron radiation in Blazars is proportional to the density of relativistic electrons, the source size, the magnetic field, and the Lorentz factor of the electrons.\"],[\"The synchrotron self-Compton (SSC) radiation process is responsible for the gamma-ray outputs in many BL Lacs.\"],[\"The present paper focuses on the origin and modeling of apparently recurrent emissions in Blazars, particularly BL Lacs.\"]],\"hovertemplate\":\"arxiv_id=1701.05350\\u003cbr\\u003ex=%{x}\\u003cbr\\u003ey=%{y}\\u003cbr\\u003enugget_answer=%{customdata[0]}\\u003cextra\\u003e\\u003c\\u002fextra\\u003e\",\"legendgroup\":\"1701.05350\",\"marker\":{\"color\":\"#636efa\",\"symbol\":\"circle\"},\"mode\":\"markers\",\"name\":\"1701.05350\",\"orientation\":\"v\",\"showlegend\":true,\"x\":[0.5661756992340088,23.559965133666992,3.372183084487915,3.5092122554779053,5.048048973083496,1.0777946710586548,1.1759952306747437,2.034836769104004,4.696528434753418],\"xaxis\":\"x\",\"y\":[-8.389422416687012,-10.307432174682617,-11.03147029876709,-9.303669929504395,-11.310708999633789,-11.89399528503418,-11.565408706665039,-12.993391036987305,-7.662334442138672],\"yaxis\":\"y\",\"type\":\"scatter\"},{\"customdata\":[[\"They form a massive iron core and may explode as CCSNe.\"],[\"They are types of supernovae that occur in a relatively narrow range of ZAMS masses.\"],[\"They are underenergetic, possibly underluminous, and have small ${}^{56}{\\rm Ni}$ yields and peculiar nucleosynthetic abundances.\"],[\"They allow for self-consistent studies in 1D and have attracted significant interest in the CCSN mechanism community.\"],[\"They found an energetic explosion by the prompt shock mechanism with an energy of ${sim}2cdot 10^{51}$ erg.\"]],\"hovertemplate\":\"arxiv_id=1702.03927\\u003cbr\\u003ex=%{x}\\u003cbr\\u003ey=%{y}\\u003cbr\\u003enugget_answer=%{customdata[0]}\\u003cextra\\u003e\\u003c\\u002fextra\\u003e\",\"legendgroup\":\"1702.03927\",\"marker\":{\"color\":\"#EF553B\",\"symbol\":\"circle\"},\"mode\":\"markers\",\"name\":\"1702.03927\",\"orientation\":\"v\",\"showlegend\":true,\"x\":[-15.289205551147461,-1.2416322231292725,4.053753852844238,-21.72119903564453,16.596359252929688],\"xaxis\":\"x\",\"y\":[25.93535614013672,29.3984432220459,28.954774856567383,-16.629859924316406,-11.6034574508667],\"yaxis\":\"y\",\"type\":\"scatter\"},{\"customdata\":[[\"October 2018\"],[\"Near InfraRed Camera (NIRCam) and Mid InfraRed Instrument (MIRI)\"],[\"0.7-25.5 \\u03bcm\"],[\"Lyman-break technique\"],[\"Implications for the cosmic star formation rate density and the formation of massive galaxies\"],[\"Advanced Camera for Surveys (ACS)\"],[\"It effectively absorbs radiation with wavelengths shorter than the Lyman \\u03b1 transition\"],[\"Wide-Field Camera 3 (WFC3)\"],[\"Visible and Infrared Survey Telescope for Astronomy (VISTA)\"],[\"Spitzer Space Telescope\"],[\"James Webb Space Telescope (JWST)\"],[\"First Billion Years, BlueTides, Renaissance\"],[\"BehrooziSilk, Mason, Mashian\"],[\"Some simulations are able to reproduce the galaxy population at z=0\"]],\"hovertemplate\":\"arxiv_id=1702.02146\\u003cbr\\u003ex=%{x}\\u003cbr\\u003ey=%{y}\\u003cbr\\u003enugget_answer=%{customdata[0]}\\u003cextra\\u003e\\u003c\\u002fextra\\u003e\",\"legendgroup\":\"1702.02146\",\"marker\":{\"color\":\"#00cc96\",\"symbol\":\"circle\"},\"mode\":\"markers\",\"name\":\"1702.02146\",\"orientation\":\"v\",\"showlegend\":true,\"x\":[38.78523635864258,26.019906997680664,36.0773811340332,14.472784042358398,-13.279187202453613,27.583538055419922,10.154051780700684,28.209821701049805,26.726322174072266,29.03809356689453,28.196910858154297,43.04224395751953,42.10785675048828,-15.624313354492188],\"xaxis\":\"x\",\"y\":[-13.550307273864746,20.160539627075195,-23.218996047973633,1.3050645589828491,12.416135787963867,19.19756507873535,-2.072779655456543,19.79014015197754,21.0541934967041,21.725404739379883,22.933408737182617,17.503711700439453,-3.605684518814087,10.204389572143555],\"yaxis\":\"y\",\"type\":\"scatter\"},{\"customdata\":[[\"Molecular clouds are composed of molecular (H$_2$) gas.\"],[\"Our understanding of molecular cloud and star formation is still limited.\"],[\"The density structure inside molecular clouds is governed by super-sonic turbulence.\"],[\"The density probability distribution function (pdf) of molecular clouds has a log-normal shape.\"],[\"The power-law tail in the density probability distribution function (pdf) of molecular clouds corresponds to small, pc-sized, high density gas clumps likely to collapse and form stars.\"],[\"The structure of molecular clouds has an imprint on the output stellar population.\"],[\"Low mass, low metallicity galaxies are primitive systems with large reservoirs of atomic gas and low abundance of metals.\"],[\"Metals affect the structure of star-forming clouds by acting as coolants and shielding cloud interiors from external radiation.\"],[\"The main effect of a lack of metals in pristine environments may be observational, rendering molecular gas hard to see or changing the balance of atomic and molecular gas in cold regions.\"],[\"Molecular cloud structure in our Galaxy is mapped by observing dust extinction, dust emission, or molecular line emission.\"],[\"Carbon monoxide (CO) is commonly used to trace H$_2$ molecules in molecular cloud structure mapping.\"],[\"In low metallicity environments, H$_2$ self-shielding becomes the primary shielding mechanism against dissociating radiation.\"]],\"hovertemplate\":\"arxiv_id=1701.02748\\u003cbr\\u003ex=%{x}\\u003cbr\\u003ey=%{y}\\u003cbr\\u003enugget_answer=%{customdata[0]}\\u003cextra\\u003e\\u003c\\u002fextra\\u003e\",\"legendgroup\":\"1701.02748\",\"marker\":{\"color\":\"#ab63fa\",\"symbol\":\"circle\"},\"mode\":\"markers\",\"name\":\"1701.02748\",\"orientation\":\"v\",\"showlegend\":true,\"x\":[-11.414382934570312,-12.637349128723145,-13.263898849487305,-14.01628589630127,-13.924284934997559,-11.041507720947266,-6.590013027191162,-10.831110954284668,-9.89720630645752,-10.610626220703125,-10.551377296447754,-11.393818855285645],\"xaxis\":\"x\",\"y\":[30.11740493774414,21.840614318847656,31.767066955566406,29.654022216796875,29.45988655090332,27.475038528442383,16.732526779174805,25.911354064941406,25.355947494506836,28.45867156982422,30.727569580078125,25.01862907409668],\"yaxis\":\"y\",\"type\":\"scatter\"},{\"customdata\":[[\"The phenomenon of multiple populations in globular clusters refers to the presence of different stellar populations within a single cluster, characterized by variations in chemical abundances.\"],[\"The major source of the multiple populations phenomenon in globular clusters is the CNO-cycle burning of hydrogen, which involves the depletion or accumulation of elements used as catalysts in various CNO sub-cycles.\"],[\"The Mg-Al anti-correlation refers to the observed pattern of abundance variations between magnesium (Mg) and aluminum (Al) in globular clusters, which can vary significantly from one cluster to another.\"],[\"Studying the Mg-Al anti-correlation can provide strong constraints on the type of star responsible for the peculiar chemistry observed in globular clusters, as the Mg-Al cycle requires high temperatures.\"],[\"Magnesium and aluminum suffer much less internal mixing compared to other elements like carbon (C), nitrogen (N), sodium (Na), and oxygen (O), making their observed abundances less dependent on the evolutionary status of a star.\"]],\"hovertemplate\":\"arxiv_id=1702.06083\\u003cbr\\u003ex=%{x}\\u003cbr\\u003ey=%{y}\\u003cbr\\u003enugget_answer=%{customdata[0]}\\u003cextra\\u003e\\u003c\\u002fextra\\u003e\",\"legendgroup\":\"1702.06083\",\"marker\":{\"color\":\"#FFA15A\",\"symbol\":\"circle\"},\"mode\":\"markers\",\"name\":\"1702.06083\",\"orientation\":\"v\",\"showlegend\":true,\"x\":[-2.7308130264282227,-2.674797534942627,0.9718254208564758,0.779981255531311,0.23526206612586975],\"xaxis\":\"x\",\"y\":[16.665067672729492,16.811338424682617,13.447149276733398,13.728495597839355,14.964852333068848],\"yaxis\":\"y\",\"type\":\"scatter\"},{\"customdata\":[[\"Both their radius and mass can be determined.\"],[\"Previous ground-based and space-based transit surveys.\"],[\"To understand planet formation, migration, and the composition of volatile-rich atmospheres.\"],[\"They occupy a region of parameter space that corresponds to the proposed dearth of short-period super-Neptune\\u002fsub-Jovian planets.\"],[\"Their atmospheres via transmission spectroscopy, spin-orbit (mis)alignments via the Rossiter-McLaughlin effect or doppler tomography, and possible presence of outer planets via transit timing variations.\"],[\"K2-105 b.\"],[\"High dispersion spectroscopy, high-contrast AO imaging, additional ground-based transit photometry, and radial velocity (RV) measurements.\"],[\"Approximately 230 parsecs.\"],[\"The international collaboration ESPRINT.\"],[\"ESPRINT (Equipo de Seguimiento de Planetas Rocosos Intepretando sus Transitos).\"]],\"hovertemplate\":\"arxiv_id=1701.01294\\u003cbr\\u003ex=%{x}\\u003cbr\\u003ey=%{y}\\u003cbr\\u003enugget_answer=%{customdata[0]}\\u003cextra\\u003e\\u003c\\u002fextra\\u003e\",\"legendgroup\":\"1701.01294\",\"marker\":{\"color\":\"#19d3f3\",\"symbol\":\"circle\"},\"mode\":\"markers\",\"name\":\"1701.01294\",\"orientation\":\"v\",\"showlegend\":true,\"x\":[-24.323749542236328,22.34025764465332,24.115549087524414,5.373512268066406,19.992237091064453,43.298702239990234,20.035680770874023,31.475997924804688,32.24103927612305,31.724916458129883],\"xaxis\":\"x\",\"y\":[-44.52772903442383,22.3322811126709,28.5228328704834,29.9512939453125,23.998559951782227,-9.434979438781738,21.805875778198242,-11.636537551879883,25.7076358795166,25.54265022277832],\"yaxis\":\"y\",\"type\":\"scatter\"},{\"customdata\":[[\"Fitting the spectral predictions of grid models to observations.\"],[\"By association with a stellar primary and evaluating the quality of fit.\"],[\"They can be traced back to the pioneering efforts of a few teams.\"],[\"Refining the thermal structure under the assumption of radiative-convective equilibrium.\"],[\"Thermochemical model, cloud model, convection model, and radiative transfer solver.\"],[\"Difficulty reproducing the general slope of near-infrared spectra of L dwarfs and discrepancies in inferred effective temperature.\"],[\"Low-gravity, low-metallicity\\u002fhigh-gravity, and unusual cloud properties.\"],[\"Confronting forward grid models with observations in a more nuanced manner.\"],[\"The weaker contrast in opacity windows and narrower temperature and pressure range.\"],[\"Introducing the new framework for performing retrievals in the cloudy L dwarf regime.\"],[\"Describing the validation of the retrieval technique using simulated targets.\"],[\"Presenting the first application of the retrieval technique to two mid-L dwarfs.\"],[\"Discussing the results and summarizing the conclusions.\"]],\"hovertemplate\":\"arxiv_id=1701.01257\\u003cbr\\u003ex=%{x}\\u003cbr\\u003ey=%{y}\\u003cbr\\u003enugget_answer=%{customdata[0]}\\u003cextra\\u003e\\u003c\\u002fextra\\u003e\",\"legendgroup\":\"1701.01257\",\"marker\":{\"color\":\"#FF6692\",\"symbol\":\"circle\"},\"mode\":\"markers\",\"name\":\"1701.01257\",\"orientation\":\"v\",\"showlegend\":true,\"x\":[-2.11106538772583,13.049859046936035,-22.44684600830078,-20.292747497558594,-20.331872940063477,7.380979537963867,-5.744654655456543,-2.2213127613067627,12.401579856872559,13.933329582214355,35.248138427734375,13.538797378540039,-30.131772994995117],\"xaxis\":\"x\",\"y\":[-20.271692276000977,14.667195320129395,-20.75172996520996,-25.125911712646484,-25.123620986938477,26.993743896484375,16.803560256958008,-20.283597946166992,-38.72334289550781,32.01751708984375,7.841758728027344,31.912569046020508,-30.38810920715332],\"yaxis\":\"y\",\"type\":\"scatter\"},{\"customdata\":[[\"Obtaining spectroscopy of them.\"],[\"It measures the apparent radius of a planet during primary transit as a function of wavelength.\"],[\"To increase our understanding of exoplanet atmospheres.\"],[\"It is an instrument on the European Southern Observatory's (ESO) Very Large Telescope (VLT) used for exoplanet spectroscopy.\"],[\"It improves the performance of the instrument for exoplanet spectroscopy.\"],[\"To test the performance of FORS2 and confirm signals detected with the Hubble Space Telescope (HST).\"],[\"It is an inflated hot-Jupiter with a mass and radius of approximately 0.48 MJ and 1.55 RJ, respectively.\"],[\"They revealed strong Rayleigh- and Mie-scattering by aerosols, and a strong K feature.\"],[\"Its previous observations show strong spectroscopic features that can be confirmed by FORS2.\"]],\"hovertemplate\":\"arxiv_id=1702.02150\\u003cbr\\u003ex=%{x}\\u003cbr\\u003ey=%{y}\\u003cbr\\u003enugget_answer=%{customdata[0]}\\u003cextra\\u003e\\u003c\\u002fextra\\u003e\",\"legendgroup\":\"1702.02150\",\"marker\":{\"color\":\"#B6E880\",\"symbol\":\"circle\"},\"mode\":\"markers\",\"name\":\"1702.02150\",\"orientation\":\"v\",\"showlegend\":true,\"x\":[18.274805068969727,18.233230590820312,23.71945571899414,25.386110305786133,24.718530654907227,23.575275421142578,26.8317813873291,-4.25588321685791,23.364032745361328],\"xaxis\":\"x\",\"y\":[18.120267868041992,25.050222396850586,28.517234802246094,22.877580642700195,23.877805709838867,15.696285247802734,-15.184551239013672,-16.1890926361084,15.572290420532227],\"yaxis\":\"y\",\"type\":\"scatter\"},{\"customdata\":[[\"Superluminous supernovae (SLSNe) are a new class of intrinsically bright supernovae.\"],[\"Superluminous supernovae are classified based on their spectrophotometric behavior.\"],[\"Superluminous supernovae are divided into SLSNe I and SLSNe II, based on the presence or absence of hydrogen in their ejecta.\"],[\"SLSNe I are commonly found in dwarf, metal poor galaxies.\"],[\"The light curves of SLSNe I show significant differences in width and temporal evolution, with the rise times being correlated with the decline rates.\"],[\"The two groups of hydrogen-rich SLSNe are strongly interacting SNe (SLSNe IIn) and bright, broad-lined SNe (SLSNe II).\"],[\"The most favored mechanism is a magnetar as a central engine, depositing additional energy into the supernova ejecta.\"],[\"SLSNe I are emerging as high redshift probes and might be a new class of distance indicators.\"],[\"Approaches to better understand SLSNe I include analyses of large datasets, spectropolarimetric studies, and spectroscopic modeling.\"],[\"The slowly evolving group of SLSNe I is of particular interest because their light curves decline at a rate consistent with powering by $^{56}$Co.\"]],\"hovertemplate\":\"arxiv_id=1701.00941\\u003cbr\\u003ex=%{x}\\u003cbr\\u003ey=%{y}\\u003cbr\\u003enugget_answer=%{customdata[0]}\\u003cextra\\u003e\\u003c\\u002fextra\\u003e\",\"legendgroup\":\"1701.00941\",\"marker\":{\"color\":\"#FF97FF\",\"symbol\":\"circle\"},\"mode\":\"markers\",\"name\":\"1701.00941\",\"orientation\":\"v\",\"showlegend\":true,\"x\":[-0.8326308727264404,-2.178959608078003,-1.4691390991210938,1.6081432104110718,1.4435921907424927,-0.7849577069282532,-16.871379852294922,1.377690315246582,2.918121814727783,1.3595466613769531],\"xaxis\":\"x\",\"y\":[27.532609939575195,27.497520446777344,27.085718154907227,28.151405334472656,25.213001251220703,26.37066650390625,-15.180781364440918,27.05893898010254,25.846073150634766,25.749637603759766],\"yaxis\":\"y\",\"type\":\"scatter\"},{\"customdata\":[[\"Fast radio bursts (FRBs) are millisecond-duration flashes of coherent GHz radio emission of unknown physical origin.\"],[\"Most fast radio bursts (FRBs) arise from high Galactic latitudes.\"],[\"The inferred dispersion measures of fast radio bursts (FRBs) are much larger than expected for propagation through the cold plasma of our Galaxy and its halo, strongly suggesting that they are at cosmological distances.\"],[\"The only repeating case of fast radio bursts (FRBs) that has been detected is FRB 121102.\"],[\"The discovery of both persistent radio and optical sources associated with FRB 121102 and the identification of a host dwarf galaxy at a redshift of $z=0.193$ confirm a cosmological origin of this FRB.\"],[\"Four types of radio emission have been discussed for FRB 121102: rotationally-powered, magnetically-powered, gravitationally-powered, and kinetically-powered.\"],[\"Possible energy sources for FRB 121102 include millisecond magnetars, the release of magnetic energy in a magnetar's interior, accretion of magnetized materials onto a neutron star, and the magnetosphere of a regular pulsar combed by a nearby strong plasma stream.\"],[\"Recent observations of FRB 121102 have derived stringent constraints on the spin period and surface magnetic field strength of a central pulsar.\"],[\"The persistent radio emission source associated with FRB 121102 is mysterious and its physical origin remains controversial.\"],[\"Proposed models for the persistent radio emission source associated with FRB 121102 include the interaction of an ultra-relativistic pulsar wind with the supernova ejecta, the forward shock produced by the interaction between the fast outer layer of supernova ejecta and its ambient medium, and the heating effect of an FRB on its ambient self-absorbed synchrotron nebula.\"],[\"Some models for the persistent radio emission source associated with FRB 121102 assume a supernova ejecta with a mass of approximately 10 solar masses.\"],[\"One proposed solution to the non-detection of dispersion measure (DM) evolution in the persistent radio emission source associated with FRB 121102 is an ultra-stripped supernova with a mass of less than 0.1 solar masses.\"],[\"The new scenario proposed in this paper is a rapidly-rotating strongly\"]],\"hovertemplate\":\"arxiv_id=1702.05831\\u003cbr\\u003ex=%{x}\\u003cbr\\u003ey=%{y}\\u003cbr\\u003enugget_answer=%{customdata[0]}\\u003cextra\\u003e\\u003c\\u002fextra\\u003e\",\"legendgroup\":\"1702.05831\",\"marker\":{\"color\":\"#FECB52\",\"symbol\":\"circle\"},\"mode\":\"markers\",\"name\":\"1702.05831\",\"orientation\":\"v\",\"showlegend\":true,\"x\":[7.163079738616943,8.355733871459961,8.676490783691406,9.335543632507324,10.910443305969238,8.048667907714844,8.388141632080078,7.802485942840576,9.847118377685547,9.318302154541016,10.293139457702637,10.441060066223145,-31.826112747192383],\"xaxis\":\"x\",\"y\":[-17.770700454711914,-16.826175689697266,-17.312381744384766,-19.28799057006836,-19.08156394958496,-20.642234802246094,-21.655807495117188,-22.59702491760254,-20.465539932250977,-21.42992401123047,-21.668914794921875,-22.50986671447754,15.288342475891113],\"yaxis\":\"y\",\"type\":\"scatter\"},{\"customdata\":[[\"They are used to attribute approximated ages and distances to star clusters.\"],[\"It is based on theoretical stellar isochrones.\"],[\"The purpose is to derive quantitative measurements of their star formation and chemical enrichment histories.\"],[\"Additional intrinsic stellar properties are required.\"],[\"Its evolution is determined by complex and interconnected processes that cannot be simply modeled from first principles.\"],[\"To enable a quantitative comparison between model predictions and the properties of TP-AGB populations observed in nearby galaxies.\"],[\"Processes like third dredge-up, hot-bottom burning, low-temperature opacity changes, distinct spectra of carbon (C) stars, reprocessing of radiation by circumstellar dust, and expected pulsation periods.\"],[\"They are used to compute the stellar evolutionary tracks.\"],[\"The new isochrones include more details than the previous ones and are specifically designed to advance in the calibration of the TP-AGB evolution.\"]],\"hovertemplate\":\"arxiv_id=1701.08510\\u003cbr\\u003ex=%{x}\\u003cbr\\u003ey=%{y}\\u003cbr\\u003enugget_answer=%{customdata[0]}\\u003cextra\\u003e\\u003c\\u002fextra\\u003e\",\"legendgroup\":\"1701.08510\",\"marker\":{\"color\":\"#636efa\",\"symbol\":\"circle\"},\"mode\":\"markers\",\"name\":\"1701.08510\",\"orientation\":\"v\",\"showlegend\":true,\"x\":[9.742866516113281,10.52867317199707,8.063058853149414,14.048442840576172,-15.765046119689941,7.017613887786865,5.032824516296387,10.035090446472168,36.32908248901367],\"xaxis\":\"x\",\"y\":[15.272276878356934,14.301358222961426,14.68458366394043,13.591431617736816,-10.019420623779297,14.113981246948242,21.544736862182617,15.003277778625488,15.38664722442627],\"yaxis\":\"y\",\"type\":\"scatter\"},{\"customdata\":[[\"The Magellanic Clouds are a highly-studied galaxy pair.\"],[\"Astronomers can study galaxy interactions and evolution in unprecedented detail.\"],[\"The tidal features include the Magellanic Bridge, the Magellanic Stream, and the Leading Arm.\"],[\"The Magellanic Bridge is a contiguous, gaseous tidal feature that spans the region between the LMC and SMC.\"],[\"The Magellanic Bridge is located at a distance of 55 kpc, the mean distance to the LMC and SMC.\"],[\"The bulk of the H\\textsc{i} emission in the Magellanic Bridge has a radial velocity in the range of +100 km\\u002fs to +300 km\\u002fs.\"],[\"The Magellanic Bridge is thought to have formed approximately 200 Myr ago when the LMC and SMC were at their closest approach to one another.\"],[\"Tidal tails, streams, and bridges serve as a siphon for galactic material to be dispensed into the diffuse intergalactic medium.\"],[\"The stretching and compressing of tidally stripped gas may serve as a mechanism for the amplification of existing magnetic fields.\"],[\"Classically, the radio continuum tidal bridge connecting the 'Taffy' galaxies was estimated to have a similar magnetic-field strength to the pre-collision galaxies.\"],[\"Tidal dwarfs in the Leo Triplet have a total magnetic-field strength of $B_T = 3.3 pm 0.5 mu$G, while those in Stephan's Quintet have $B_T = 6.5 pm 1.9 mu$G.\"],[\"Polarization vectors in the plane of the sky trace out a path from the SMC along the western Bridge oriented in the direction of the LMC.\"],[\"Studies of Faraday rotation of background polarized radio sources towards the LMC have determined that the galaxy has a coherent magnetic field of strength approximately 1 $mu$G.\"],[\"Observations of the SMC using Faraday rotation measures and polarized starlight have shown a possible alignment of the magnetic field with the Magellanic Bridge.\"],[\"Faraday rotation towards extragalactic polarized sightlines has shown that a high-velocity cloud in the Leading Arm hosts a coherent magnetic field.\"],[\"The existence of a coherent magnetic field connecting the two Magellanic Clouds, known as the Pan-Magellanic Field, has not been directly confirmed.\"],[\"Faraday rotation is the rotation of the polarization angle of electromagnetic waves as they pass through a magneto-ionic material.\"],[\"The rotation measure is the total observed Faraday rotation, defined as the change in polarization angle per unit squared wavelength.\"],[\"Faraday rotation can be used to analyze magnetism when the rotating material is located along the line-of-sight.\"]],\"hovertemplate\":\"arxiv_id=1701.05962\\u003cbr\\u003ex=%{x}\\u003cbr\\u003ey=%{y}\\u003cbr\\u003enugget_answer=%{customdata[0]}\\u003cextra\\u003e\\u003c\\u002fextra\\u003e\",\"legendgroup\":\"1701.05962\",\"marker\":{\"color\":\"#EF553B\",\"symbol\":\"circle\"},\"mode\":\"markers\",\"name\":\"1701.05962\",\"orientation\":\"v\",\"showlegend\":true,\"x\":[-7.910506725311279,-8.972180366516113,8.965923309326172,8.605572700500488,8.828882217407227,10.154711723327637,8.06333065032959,1.5747226476669312,0.20243269205093384,2.47291898727417,4.755887985229492,5.524491310119629,4.368952751159668,5.642923831939697,4.178808212280273,5.942529678344727,-8.348804473876953,-8.915547370910645,-7.8639092445373535],\"xaxis\":\"x\",\"y\":[10.581122398376465,11.017667770385742,-32.07645034790039,-31.2689151763916,-30.063716888427734,-28.242578506469727,-30.555831909179688,-27.642303466796875,-28.94548988342285,-28.13237190246582,-26.96275520324707,-31.56694793701172,-28.359352111816406,-30.082014083862305,-29.126161575317383,-29.275712966918945,-30.859704971313477,-30.937053680419922,-30.695627212524414],\"yaxis\":\"y\",\"type\":\"scatter\"},{\"customdata\":[[\"SU(5)\"],[\"It leads to an effective potential without holes of depth O(1) in natural units and allows for the possibility of Planck-compatible cosmological inflation.\"],[\"A single volume modulus field\"],[\"All the quadratic, bilinear, and trilinear scalar couplings vanish, leading to phenomenology that contradicts experimental constraints.\"],[\"Postulating universal values of m0, B0, and A0.\"],[\"A four-parameter theory that includes a universal gaugino mass.\"],[\"It relates B0 and A0 (B0 = A0 - m0).\"],[\"Because it requires m0 = A0 = B0 = 0.\"],[\"Pure gravity mediation, in which the gaugino masses, A and B terms are determined by anomaly mediation, leaving only the gravitino mass as a free parameter.\"],[\"Models where the input universality scale differs from the GUT scale.\"],[\"Super-GUT\"],[\"To accommodate smaller values of tan \\u03b2 and hence an acceptably long proton lifetime, while also having an acceptable value of the Higgs mass.\"],[\"A stau (or the stau is tachyonic).\"],[\"The problem of the lightest sparticle being a stau (or the stau being tachyonic).\"]],\"hovertemplate\":\"arxiv_id=1702.00379\\u003cbr\\u003ex=%{x}\\u003cbr\\u003ey=%{y}\\u003cbr\\u003enugget_answer=%{customdata[0]}\\u003cextra\\u003e\\u003c\\u002fextra\\u003e\",\"legendgroup\":\"1702.00379\",\"marker\":{\"color\":\"#00cc96\",\"symbol\":\"circle\"},\"mode\":\"markers\",\"name\":\"1702.00379\",\"orientation\":\"v\",\"showlegend\":true,\"x\":[40.684444427490234,22.933544158935547,-14.606402397155762,-29.405040740966797,-13.060042381286621,-35.77989959716797,-12.528796195983887,-12.429473876953125,-35.75732421875,-18.47786521911621,38.35945510864258,-32.52471923828125,-40.004886627197266,-39.85601806640625],\"xaxis\":\"x\",\"y\":[-7.460216045379639,-2.890672206878662,-32.218109130859375,-15.959254264831543,-47.08344650268555,-17.0523738861084,-47.26448059082031,-47.62483596801758,-16.97315216064453,-9.506377220153809,-7.77792501449585,-15.712237358093262,-15.863309860229492,-15.86965274810791],\"yaxis\":\"y\",\"type\":\"scatter\"},{\"customdata\":[[\"Classical novae are the result of a thermonuclear runaway taking place on the surface of a white dwarf and are fueled by matter accreted onto the white dwarf from a companion star.\"],[\"During a nova outburst, approximately $10^{-3} - 10^{-7} M_{odot}$ of mass is ejected.\"],[\"The ejected mass during a nova outburst has velocities greater than $10^3$ km\\u002fs.\"],[\"Nova outbursts in the GeV gamma-ray regime have gamma-ray luminosities of $10^{34}-10^{36}$ erg s$^{-1}$.\"],[\"Nova outbursts in the GeV gamma-ray regime last for 2--8 weeks around optical maximum.\"],[\"The two potential classes of processes for producing gamma rays from relativistic particles are leptonic and hadronic processes.\"],[\"In the leptonic process, electrons are accelerated to relativistic speeds.\"],[\"In the hadronic process, ions are accelerated to relativistic speeds.\"],[\"The likely source of the accelerated particles in novae is strong shocks.\"],[\"The first nova detected by Fermi\\u002fLAT was V407 Cyg.\"],[\"A model was proposed wherein a shock was generated as the nova ejecta interacted with the dense ambient medium.\"],[\"A similar model was proposed to explain the inferred presence of relativistic particles in RS Oph.\"],[\"The novae detected by Fermi\\u002fLAT without a detectable red-giant companion are V1324 Sco, V959 Mon, V339 Del, V1369 Cen, and V5668 Sgr.\"],[\"In novae without a detectable red-giant companion, it is more likely that the shocks are being produced within the ejecta, due to different components of the ejecta colliding with one another (internal shocks).\"],[\"There has been long-standing evidence for internal shocks in classical novae from X-ray observations.\"],[\"One idea for generating internal shocks in novae is the interaction of the binary with the puffed-up nova envelope, resulting in a relatively slow flow with density enhancement along the binary orbital plane.\"]],\"hovertemplate\":\"arxiv_id=1701.03094\\u003cbr\\u003ex=%{x}\\u003cbr\\u003ey=%{y}\\u003cbr\\u003enugget_answer=%{customdata[0]}\\u003cextra\\u003e\\u003c\\u002fextra\\u003e\",\"legendgroup\":\"1701.03094\",\"marker\":{\"color\":\"#ab63fa\",\"symbol\":\"circle\"},\"mode\":\"markers\",\"name\":\"1701.03094\",\"orientation\":\"v\",\"showlegend\":true,\"x\":[-30.43783187866211,13.629663467407227,13.700255393981934,11.84485912322998,11.617212295532227,-34.93183898925781,-34.29643630981445,-34.33707046508789,-30.23094367980957,19.3739070892334,-28.78188705444336,-25.928373336791992,19.510591506958008,-29.76820182800293,-30.73093032836914,-28.730878829956055],\"xaxis\":\"x\",\"y\":[30.042354583740234,-11.00162410736084,-11.277044296264648,-9.944635391235352,-10.068724632263184,-10.3773832321167,-11.44110107421875,-11.371207237243652,27.98967933654785,-4.973956108093262,27.29477882385254,-17.776662826538086,-4.692362308502197,28.73305320739746,27.82834243774414,28.1669864654541],\"yaxis\":\"y\",\"type\":\"scatter\"},{\"customdata\":[[\"BL Lac objects are a class of radio-loud active galactic nuclei (AGNs) characterized by rapid and large-amplitude flux variability, flat radio spectra, peculiar infrared colors, and significant and variable optical polarization.\"],[\"The two subclasses of radio-loud AGNs are BL Lac objects and flat spectrum radio quasars (FSRQs).\"],[\"Both BL Lacs and FSRQs feature a typical double-bumped spectral energy distribution (SED) with the first component peaking between the infrared (IR) and the X-rays and the second one in the gamma-rays.\"],[\"BL Lacs are traditionally discovered using radio, X-ray surveys, and\\u002for their combination.\"],[\"The most efficient survey for discovering new BL Lacs is the Fermi gamma-ray one, particularly when combining gamma-ray observations with mid-IR colors analyses and follow-up optical spectroscopic observations.\"],[\"The major open issue for BL Lac objects is proving the existence of radio-weak BL Lac objects (RWBLs).\"],[\"Proving the existence of radio-weak BL Lac objects would have implications on source counts and luminosity functions, gamma-ray association methods, and the unification scenario of AGNs.\"]],\"hovertemplate\":\"arxiv_id=1701.06067\\u003cbr\\u003ex=%{x}\\u003cbr\\u003ey=%{y}\\u003cbr\\u003enugget_answer=%{customdata[0]}\\u003cextra\\u003e\\u003c\\u002fextra\\u003e\",\"legendgroup\":\"1701.06067\",\"marker\":{\"color\":\"#FFA15A\",\"symbol\":\"circle\"},\"mode\":\"markers\",\"name\":\"1701.06067\",\"orientation\":\"v\",\"showlegend\":true,\"x\":[1.8524219989776611,3.165537118911743,4.5176310539245605,6.16942024230957,6.299234867095947,4.442824840545654,4.229452133178711],\"xaxis\":\"x\",\"y\":[-8.040407180786133,-8.880148887634277,-10.753495216369629,-8.393270492553711,-8.552556037902832,-5.5772385597229,-5.465976238250732],\"yaxis\":\"y\",\"type\":\"scatter\"},{\"customdata\":[[\"Fast radio bursts are a recently identified type of transient radio emission.\"],[\"The localization of the host galaxy of the repeating Fast Radio Burst 121102 established that sources of FRBs are cosmological objects.\"],[\"The host galaxy of the repeating Fast Radio Burst 121102 is located at a distance of approximately 1 Gpc.\"],[\"The equation for the instantaneous (isotropic-equivalent) luminosity of FRB 121102 is L_{FRB} = 4\\u03c0D^2(\\u03bdF_\\u03bd) \\u2248 10^42F_{1 Jy}D_{Gpc}^2 erg s^-1.\"],[\"The equation for the equipartition magnetic field energy density at the source of FRBs is B_eq = \\u221a(8\\u03c0)(\\u221a(\\u03bdF_\\u03bd)D)\\u002f(c^(3\\u002f2)\\u03c4) = 3 \\u00d7 10^8\\u03c4_{-3}^-1 G.\"],[\"The brightness temperature implies the presence of a coherent mechanism in FRBs.\"],[\"The estimate of the wave intensity parameter in FRBs is a \\u2248 10^5.\"],[\"The correct definition of the intensity parameter in FRBs is a_B = eE\\u002f(m_e c\\u03c9_B) \\u2248 1.\"],[\"The most promising loci of FRBs emission generation are magnetars and young pulsars.\"],[\"The two possible types of production of radio emission in FRBs are hypothetical radio emission accompanying giant flares in magnetars and giant pulses emitted by young pulsars.\"],[\"The sources of energy for FRBs in the case of magnetars are strong magnetic fields, while in the case of young pulsars it is the rotational energy.\"]],\"hovertemplate\":\"arxiv_id=1701.02003\\u003cbr\\u003ex=%{x}\\u003cbr\\u003ey=%{y}\\u003cbr\\u003enugget_answer=%{customdata[0]}\\u003cextra\\u003e\\u003c\\u002fextra\\u003e\",\"legendgroup\":\"1701.02003\",\"marker\":{\"color\":\"#19d3f3\",\"symbol\":\"circle\"},\"mode\":\"markers\",\"name\":\"1701.02003\",\"orientation\":\"v\",\"showlegend\":true,\"x\":[6.814301490783691,10.745113372802734,11.752110481262207,12.516009330749512,12.96444320678711,13.819753646850586,14.739189147949219,14.471062660217285,5.414252281188965,6.3568949699401855,4.0808610916137695],\"xaxis\":\"x\",\"y\":[-17.645858764648438,-18.437299728393555,-17.752534866333008,-21.986675262451172,-22.90180015563965,-20.613759994506836,-21.789979934692383,-22.021377563476562,-20.658920288085938,-19.913034439086914,-21.715131759643555],\"yaxis\":\"y\",\"type\":\"scatter\"},{\"customdata\":[[\"The natural expectation is that dark matter haloes and their resident galaxies grow in tandem.\"],[\"The growth channels include mergers (major\\u002fminor, with\\u002fwithout gas) and gas accretion (smooth or clumpy).\"],[\"Some baryonic processes involved in galaxy assembly are gas dissipation, star formation, and feedback processes due to active galactic nuclei or supernova.\"],[\"Baryonic processes can alter the dark matter distribution, especially in the most-central parts, through adiabatic halo contraction or halo expansion through gravitational heating from infalling gas clumps or outflows linked to feedback events.\"],[\"The relative distributions of dark matter and baryons in present-day galaxies contain clues about when and how they formed and how they have evolved.\"],[\"Halo growth is divided into two phases: an early phase of rapid growth via mergers and accretion, and a later phase of growth predominantly in the galaxy outskirts.\"],[\"During the early phase of halo growth, dark matter haloes experience an increase in core size and extent, while the halo concentration is kept fairly constant.\"],[\"The halo concentration is directly linked to the density of the universe at the epoch when the halo formed.\"],[\"During the later phase of halo growth, dark matter haloes get bigger in size while the core sizes may grow or shrink depending on various events.\"],[\"The observed dark matter density within the scale radius should reflect the epoch of halo assembly as well as imprints of how baryonic processes have altered the distribution of dark matter within the halo during galaxy evolution.\"],[\"Massive early-type galaxies formed through minor and\\u002for dry major mergers have a significant fraction of stars formed ex-situ, low angular momentum content, old central stars, and high dark matter fraction at large radii.\"],[\"Events such as violent relaxation, adiabatic halo contraction, or halo expansion can affect the core sizes of dark matter haloes during the later phase of halo growth.\"],[\"At a fiducial 5 effective radii, dark matter is expected to dominate the mass profiles in ETGs.\"],[\"On average, the dark matter fraction within 5 effective radii in most ETGs is greater than or equal to 0.6.\"],[\"Dynamical mass tracers such as planetary nebulae (PNe) or globular clusters (GCs) are used to probe the dark matter fraction at large radii in ETGs.\"]],\"hovertemplate\":\"arxiv_id=1701.05904\\u003cbr\\u003ex=%{x}\\u003cbr\\u003ey=%{y}\\u003cbr\\u003enugget_answer=%{customdata[0]}\\u003cextra\\u003e\\u003c\\u002fextra\\u003e\",\"legendgroup\":\"1701.05904\",\"marker\":{\"color\":\"#FF6692\",\"symbol\":\"circle\"},\"mode\":\"markers\",\"name\":\"1701.05904\",\"orientation\":\"v\",\"showlegend\":true,\"x\":[-24.055179595947266,-26.63082504272461,-19.07140350341797,-24.786638259887695,-21.412240982055664,-25.944677352905273,-25.339418411254883,-22.991792678833008,-25.681507110595703,-22.521299362182617,-17.083494186401367,-25.429061889648438,-15.841072082519531,-15.739416122436523,-15.473105430603027],\"xaxis\":\"x\",\"y\":[7.259747505187988,9.502705574035645,10.689412117004395,3.5083749294281006,4.9420857429504395,8.483595848083496,6.471340179443359,5.919469833374023,6.182670593261719,4.692489147186279,14.211149215698242,5.009316921234131,-1.4602760076522827,-1.6284412145614624,0.05327968671917915],\"yaxis\":\"y\",\"type\":\"scatter\"},{\"customdata\":[[\"Observations indicate a tight relationship between star formation rates and stellar masses.\"],[\"The Kennicutt-Schmidt relation is a relationship between star formation rates and gas surface densities.\"],[\"Bursty star formation refers to galaxies in which a significant fraction of star formation occurs in recurrent bursts, even if the star formation rate is time steady when averaged over cosmological timescales.\"],[\"A key prediction of the FIRE cosmological zoom-in simulations is bursty star formation at high redshift and in dwarf galaxies.\"],[\"The goal of the paper is to develop an analytic model to understand when and where galactic star formation is expected to be bursty vs. time steady.\"],[\"Bursty star formation in dwarf galaxies can produce cored dark matter halo profiles and help maintain a population of dwarf galaxies blue to z~0.\"],[\"The burstiness of star formation may explain several observational indications of time variable star formation on different timescales.\"]],\"hovertemplate\":\"arxiv_id=1701.04824\\u003cbr\\u003ex=%{x}\\u003cbr\\u003ey=%{y}\\u003cbr\\u003enugget_answer=%{customdata[0]}\\u003cextra\\u003e\\u003c\\u002fextra\\u003e\",\"legendgroup\":\"1701.04824\",\"marker\":{\"color\":\"#B6E880\",\"symbol\":\"circle\"},\"mode\":\"markers\",\"name\":\"1701.04824\",\"orientation\":\"v\",\"showlegend\":true,\"x\":[-5.705616474151611,-6.334840297698975,-10.257414817810059,-15.067862510681152,-9.944701194763184,-15.724421501159668,-9.661112785339355],\"xaxis\":\"x\",\"y\":[6.930691719055176,7.476620197296143,14.477544784545898,11.902629852294922,13.26406478881836,11.621590614318848,14.583274841308594],\"yaxis\":\"y\",\"type\":\"scatter\"},{\"customdata\":[[\"About 10%\"],[\"They are oblique magnetic rotators (OMR) with a dipolar magnetic field topology.\"],[\"The existence of well-ordered magnetic fields.\"],[\"Observable photometric, spectroscopic, and magnetic variability.\"],[\"The presence of large-scale magnetic fields.\"],[\"UV spectra and the H\\u03b1 line.\"],[\"Magnetically confined wind shock (MCWS).\"],[\"Accumulation of hot material close to the magnetic equatorial plane and X-ray radiation.\"],[\"\\u03c3 Ori E\"],[\"It works in opposition to the gravitational infall of the magnetospheric plasma.\"],[\"The existence of a centrifugal magnetosphere filled by stellar wind material.\"],[\"Optically thick emission arising from a stable rigidly rotating magnetosphere (RRM).\"],[\"They originate in regions far from the stellar surface where the kinetic energy density of the gas is high enough to brake the magnetic field lines forming current sheets.\"],[\"Radio emissions at different frequencies.\"],[\"Physical parameters such as the global magnetic field topology, the spatial stratification of the thermal electron density, and the non-thermal electron number density.\"],[\"The efficiency of the electron acceleration mechanism and the effects of rotation, wind, and magnetic field geometry.\"]],\"hovertemplate\":\"arxiv_id=1701.07679\\u003cbr\\u003ex=%{x}\\u003cbr\\u003ey=%{y}\\u003cbr\\u003enugget_answer=%{customdata[0]}\\u003cextra\\u003e\\u003c\\u002fextra\\u003e\",\"legendgroup\":\"1701.07679\",\"marker\":{\"color\":\"#FF97FF\",\"symbol\":\"circle\"},\"mode\":\"markers\",\"name\":\"1701.07679\",\"orientation\":\"v\",\"showlegend\":true,\"x\":[36.15554428100586,-33.728614807128906,-3.3248836994171143,15.985666275024414,-3.433039426803589,16.537893295288086,-2.107612371444702,-6.287695407867432,44.530174255371094,-5.101785182952881,-3.664383888244629,-4.933712959289551,-6.649183750152588,7.571016788482666,-5.036941051483154,-4.396938800811768],\"xaxis\":\"x\",\"y\":[-16.823162078857422,12.376482009887695,-30.053691864013672,20.75510597229004,-29.741943359375,10.345067024230957,-27.440763473510742,-27.450490951538086,-14.478710174560547,-24.799762725830078,-27.37833595275879,-27.46356201171875,-25.50340461730957,-14.294925689697266,-32.736778259277344,-32.906036376953125],\"yaxis\":\"y\",\"type\":\"scatter\"},{\"customdata\":[[\"Early-type galaxies are galaxies with either elliptical or lenticular morphologies.\"],[\"The two-phase evolution theory suggests that early-type galaxies undergo an initial phase of in-situ star formation followed by a phase of mass growth through the accretion of satellite systems.\"],[\"The main processes involved in the formation of lenticular galaxies are mergers\\u002faccretion and the removal of gas from a spiral galaxy through secular or environmental mechanisms.\"],[\"Ram pressure stripping is a process in which the intracluster medium strips gas away from galaxies as they fall into a cluster.\"],[\"The dominant processes in the formation of S0 galaxies in low-density field environments are mergers\\u002finteractions and secular processes such as gas loss through internal mechanisms.\"],[\"The alternate pathway for S0 galaxy formation suggests that these galaxies are initially compact spheroidal objects at high redshift, whose discs built up over time from cold gas accretion.\"],[\"Early-type galaxies can be classified based on their central kinematic measurements as centrally fast or slow rotators.\"]],\"hovertemplate\":\"arxiv_id=1702.05099\\u003cbr\\u003ex=%{x}\\u003cbr\\u003ey=%{y}\\u003cbr\\u003enugget_answer=%{customdata[0]}\\u003cextra\\u003e\\u003c\\u002fextra\\u003e\",\"legendgroup\":\"1702.05099\",\"marker\":{\"color\":\"#FECB52\",\"symbol\":\"circle\"},\"mode\":\"markers\",\"name\":\"1702.05099\",\"orientation\":\"v\",\"showlegend\":true,\"x\":[-22.538061141967773,-19.853275299072266,-20.28963279724121,-24.346830368041992,-19.46631622314453,-18.84625816345215,-23.019807815551758],\"xaxis\":\"x\",\"y\":[15.61504077911377,15.286409378051758,12.719358444213867,25.095449447631836,12.892070770263672,13.452549934387207,15.311327934265137],\"yaxis\":\"y\",\"type\":\"scatter\"},{\"customdata\":[[\"The Crab Nebula is a pulsar wind nebula and the brightest steady source in the Northern sky above 1 TeV.\"],[\"The first high-confidence TeV detection of the Crab Nebula was in 1989 using the Whipple telescope.\"],[\"Photons from synchrotron emission of the electrons themselves are likely the dominant target for inverse-Compton up-scattering in the Crab Nebula.\"],[\"Yes, the Crab Nebula is generally believed to be steady at higher energies.\"],[\"The High Altitude Water Cherenkov (HAWC) observatory is a new instrument sensitive to multi-TeV hadron and gamma-ray air showers.\"],[\"The HAWC observatory is located at a latitude of +19\\u00b0N at an altitude of 4,100 meters in the Sierra Negra, Mexico.\"],[\"The Water Cherenkov Detectors (WCDs) in HAWC consist of a 7.3-meter diameter, 5-meter tall steel tank lined with a plastic bladder and filled with purified water.\"],[\"Energetic particles that reach the HAWC detectors can interact in the water and produce optical light via Cherenkov radiation.\"],[\"The detector is fully efficient to gamma rays with a primary energy above 1 TeV.\"],[\"The discriminators in HAWC are used to estimate the total amount of charge collected in the PMTs by measuring the length of time that PMT pulses spend above certain thresholds.\"],[\"The hit rate of the 8-inch PMTs in HAWC is 20-30 kHz.\"],[\"The trigger condition for preserving events in HAWC is a simple multiplicity trigger, requiring some number of PMTs to be hit within 150 ns.\"]],\"hovertemplate\":\"arxiv_id=1701.01778\\u003cbr\\u003ex=%{x}\\u003cbr\\u003ey=%{y}\\u003cbr\\u003enugget_answer=%{customdata[0]}\\u003cextra\\u003e\\u003c\\u002fextra\\u003e\",\"legendgroup\":\"1701.01778\",\"marker\":{\"color\":\"#636efa\",\"symbol\":\"circle\"},\"mode\":\"markers\",\"name\":\"1701.01778\",\"orientation\":\"v\",\"showlegend\":true,\"x\":[16.97177505493164,17.84518051147461,0.8091026544570923,16.53995704650879,17.54368019104004,17.90268325805664,17.775705337524414,16.972429275512695,11.866473197937012,20.567975997924805,21.182952880859375,20.96673011779785],\"xaxis\":\"x\",\"y\":[-7.2361159324646,-6.708629131317139,-13.16181755065918,-7.441898345947266,-29.881166458129883,-28.61715316772461,-30.551374435424805,-30.349510192871094,-7.924551486968994,-33.2944221496582,-32.30263900756836,-32.86930847167969],\"yaxis\":\"y\",\"type\":\"scatter\"},{\"customdata\":[[\"The aim is to achieve mmag-level precision.\"],[\"It is carried out via an internal, self-calibrating method.\"],[\"The precision aimed for is better than the precision of other currently available large catalogues of photometric standards.\"],[\"Additional calibrations were carried out to address unexpected systematic effects, such as linear trends with time and increased background level.\"],[\"It is necessary to check that the calibrations have removed all the systematic effects and that the accuracies achieved are close to the photon noise level.\"],[\"Future releases are expected to have improved accuracies as further calibrations are introduced into the data processing.\"],[\"Some validation is given to the processing of the spectral calibrations of the blue and red photometers due to the use of colour information in the calibration of the G-band photometry.\"],[\"Sections BpRpCal to Convergence cover the direct validations of the calibrations carried out in the photometric processing.\"],[\"Sections Accumulation to Constant cover internal consistency checks using the accumulated photometric data, the photometric residuals, and an analysis of the epoch photometry of constant sources.\"],[\"Section External describes external comparisons.\"],[\"Section Conclusions summarizes the conclusions.\"],[\"Further validation of the overall catalogue can be found in CU9Validation.\"],[\"The following subsection provides a brief description of the Gaia instruments and data.\"]],\"hovertemplate\":\"arxiv_id=1701.05873\\u003cbr\\u003ex=%{x}\\u003cbr\\u003ey=%{y}\\u003cbr\\u003enugget_answer=%{customdata[0]}\\u003cextra\\u003e\\u003c\\u002fextra\\u003e\",\"legendgroup\":\"1701.05873\",\"marker\":{\"color\":\"#EF553B\",\"symbol\":\"circle\"},\"mode\":\"markers\",\"name\":\"1701.05873\",\"orientation\":\"v\",\"showlegend\":true,\"x\":[38.631874084472656,38.58614730834961,37.54417037963867,37.03132247924805,36.65155792236328,36.752044677734375,34.679847717285156,34.407596588134766,33.502803802490234,-30.783721923828125,-30.094655990600586,34.11958694458008,23.13363265991211],\"xaxis\":\"x\",\"y\":[15.371766090393066,12.701333045959473,15.323077201843262,12.144920349121094,12.240158081054688,14.831811904907227,10.688672065734863,10.998114585876465,11.865961074829102,-33.99214553833008,-31.328948974609375,8.637886047363281,21.285505294799805],\"yaxis\":\"y\",\"type\":\"scatter\"},{\"customdata\":[[\"The failure of the second reaction wheel in 2013.\"],[\"The spacecraft has been operating in a mode called K2, using the solar wind and periodic thruster firings to mitigate drift.\"],[\"The purpose is to enable continuing precision science with K2 by producing light curves with precision approaching that of the original Kepler mission.\"],[\"The pipeline developed in Paper I is called EVEREST (EPIC Variability Extraction and Removal for Exoplanet Science Targets).\"],[\"EVEREST employs a variant of pixel level decorrelation (PLD) based on the method of Deming et al. (2015).\"],[\"EVEREST 2.0 improves the precision of K2 light curves at all magnitudes relative to version 1.0.\"],[\"EVEREST 2.0 addresses certain issues with overfitting.\"],[\"EVEREST 2.0 reliably de-trends saturated stars and stars observed in short cadence mode.\"],[\"The mathematical framework of the EVEREST 2.0 model is derived in Section 2.\"],[\"The implementation of the EVEREST 2.0 pipeline is described in Section 3.\"],[\"The results are presented in Section 4.\"],[\"Section 5 briefly discusses how to use the EVEREST catalog and code.\"],[\"Section 6 provides a summary of the work.\"]],\"hovertemplate\":\"arxiv_id=1702.05488\\u003cbr\\u003ex=%{x}\\u003cbr\\u003ey=%{y}\\u003cbr\\u003enugget_answer=%{customdata[0]}\\u003cextra\\u003e\\u003c\\u002fextra\\u003e\",\"legendgroup\":\"1702.05488\",\"marker\":{\"color\":\"#00cc96\",\"symbol\":\"circle\"},\"mode\":\"markers\",\"name\":\"1702.05488\",\"orientation\":\"v\",\"showlegend\":true,\"x\":[-18.0534725189209,35.878082275390625,36.601165771484375,37.02863693237305,40.042877197265625,38.612762451171875,39.07484817504883,39.2071533203125,38.564125061035156,38.144588470458984,-28.5935115814209,39.020591735839844,-31.626564025878906],\"xaxis\":\"x\",\"y\":[28.205686569213867,20.15053367614746,20.1601619720459,25.130706787109375,23.3399600982666,21.712509155273438,22.788185119628906,21.738468170166016,24.702388763427734,24.966121673583984,-32.13759231567383,26.07292938232422,-31.994766235351562],\"yaxis\":\"y\",\"type\":\"scatter\"},{\"customdata\":[[\"The globular cluster $omega$ Cen (NGC 5139) is peculiar and extreme in many aspects.\"],[\"It is one of the most massive and less relaxed globular clusters in our Galaxy. It shows no strong sign of mass segregation, rotates, and is flattened. It is known to host multiple stellar populations with different chemical abundances.\"],[\"The controversy is regarding the presence of an intermediate-mass black hole (IMBH) in its center.\"],[\"Finding IMBHs could provide useful insights to understand galaxy formation and evolution. IMBHs could be the seeds for the growth of super-massive black holes found in the centers of many galaxies.\"],[\"Observing the X-ray luminosity in the center of the cluster and measuring the radio continuum emissions are some methods used to estimate the mass of a possible IMBH.\"],[\"Globular clusters are almost gas-free, so the absence of accreting IMBHs does not necessarily mean there is no IMBH present.\"],[\"The two most studied signatures are a shallow cusp in the surface brightness profile and a rise in the velocity dispersion profile towards the center of the cluster.\"],[\"Mass segregation, core collapse, the presence of binary stars in the center, and radially-biased pressure anisotropy can produce similar signatures to an IMBH in a cluster.\"],[\"The first claim was made by Noyola and Gebhardt in 2008.\"]],\"hovertemplate\":\"arxiv_id=1702.00725\\u003cbr\\u003ex=%{x}\\u003cbr\\u003ey=%{y}\\u003cbr\\u003enugget_answer=%{customdata[0]}\\u003cextra\\u003e\\u003c\\u002fextra\\u003e\",\"legendgroup\":\"1702.00725\",\"marker\":{\"color\":\"#ab63fa\",\"symbol\":\"circle\"},\"mode\":\"markers\",\"name\":\"1702.00725\",\"orientation\":\"v\",\"showlegend\":true,\"x\":[-3.7671196460723877,-3.531205177307129,-10.978612899780273,-10.930914878845215,-8.51509952545166,-9.225822448730469,1.3623826503753662,-9.907477378845215,39.365257263183594],\"xaxis\":\"x\",\"y\":[13.506747245788574,14.184697151184082,3.5635836124420166,5.409912109375,4.262912273406982,6.64133358001709,23.063621520996094,5.557614803314209,-13.08273696899414],\"yaxis\":\"y\",\"type\":\"scatter\"},{\"customdata\":[[\"The fact that they appear as unresolved point sources.\"],[\"Three-dimensional kinematic and chemical data from the expanding ejecta.\"],[\"Information about the explosion dynamics, nucleosynthetic yields, and mixing of the progenitor star's chemically distinct layers.\"],[\"The progenitor star system's evolutionary stages and mass-loss.\"],[\"The fate of the supernova's remnant core.\"],[\"The increasing interaction of the supernova with local environments.\"],[\"Inhomogeneous circumstellar and\\u002for interstellar mediums (CSM\\u002fISM), or non-spherical explosion.\"],[\"Both areas of research.\"],[\"Diversity and rates of supernova types and subclasses, as well as peak mean ejection velocities of chemically distinct layers.\"],[\"Detailed three-dimensional kinematic and chemical information of the ejecta and progenitor star mass loss distribution.\"]],\"hovertemplate\":\"arxiv_id=1701.00891\\u003cbr\\u003ex=%{x}\\u003cbr\\u003ey=%{y}\\u003cbr\\u003enugget_answer=%{customdata[0]}\\u003cextra\\u003e\\u003c\\u002fextra\\u003e\",\"legendgroup\":\"1701.00891\",\"marker\":{\"color\":\"#FFA15A\",\"symbol\":\"circle\"},\"mode\":\"markers\",\"name\":\"1701.00891\",\"orientation\":\"v\",\"showlegend\":true,\"x\":[2.9418725967407227,-4.857027053833008,-4.097265720367432,-6.752037525177002,-17.763853073120117,-18.84455108642578,-28.562410354614258,-22.964725494384766,-3.701882839202881,-5.155325412750244],\"xaxis\":\"x\",\"y\":[3.147860527038574,20.401382446289062,21.81322479248047,20.583480834960938,26.09186363220215,25.140775680541992,23.454288482666016,-29.899381637573242,22.17371940612793,20.650178909301758],\"yaxis\":\"y\",\"type\":\"scatter\"},{\"customdata\":[[\"Galaxy mergers\"],[\"Elliptical galaxies have a lower specific angular momentum than spiral galaxies.\"],[\"Galaxy mergers\"],[\"Galaxy mergers can naturally explain the positions of elliptical galaxies.\"],[\"It follows closely that of the inner parts of its halos.\"],[\"Mergers are not the only responsible, early quenching can also result in low specific angular momentum.\"],[\"Galaxies form a continuous sequence instead of two sequences.\"],[\"It is regulated by their mass and dynamical state.\"],[\"It has a scatter that correlates with the bulge-to-total mass ratio.\"],[\"They can be classified as fast and slow rotators.\"],[\"It increases steeply with stellar mass.\"],[\"They can be very varied.\"]],\"hovertemplate\":\"arxiv_id=1701.04407\\u003cbr\\u003ex=%{x}\\u003cbr\\u003ey=%{y}\\u003cbr\\u003enugget_answer=%{customdata[0]}\\u003cextra\\u003e\\u003c\\u002fextra\\u003e\",\"legendgroup\":\"1701.04407\",\"marker\":{\"color\":\"#19d3f3\",\"symbol\":\"circle\"},\"mode\":\"markers\",\"name\":\"1701.04407\",\"orientation\":\"v\",\"showlegend\":true,\"x\":[-23.982711791992188,-24.433860778808594,-23.983352661132812,-24.572431564331055,-0.3695308566093445,-27.05376625061035,-17.86162567138672,-24.255130767822266,-5.705133438110352,-32.23330307006836,-4.932747840881348,-32.19047546386719],\"xaxis\":\"x\",\"y\":[11.348438262939453,17.137130737304688,11.348644256591797,13.491340637207031,8.773212432861328,12.414660453796387,16.393220901489258,-44.423255920410156,5.236059188842773,12.469428062438965,6.437199592590332,10.795519828796387],\"yaxis\":\"y\",\"type\":\"scatter\"},{\"customdata\":[[\"Primordial non-Gaussianity (PNG) is one of the most promising probes to distinguish between different models of inflation.\"],[\"Inflation is a theory to describe an era of exponential expansion of the very early universe.\"],[\"Inflation can solve the horizon problem as well as the flatness problem.\"],[\"Inflation can explain the origin of structure formation through the creation of initial fluctuations.\"],[\"Measurements of the cosmic microwave background (CMB) with the Planck satellite provide the best constraints on primordial non-Gaussianity.\"],[\"Future galaxy surveys have the potential to significantly improve constraints on primordial non-Gaussianity.\"],[\"Redshift weighting is an analysis strategy that assigns weights to galaxies over a broad redshift range, taking into account the redshift evolution of the underlying physical theory.\"],[\"Redshift weighting has the potential to notably improve cosmological constraints from large scale structure surveys.\"],[\"Redshift weighting avoids information loss due to edge effects and disjoint bins, and reduces computational time by requiring a single analysis instead of measuring each redshift bin separately.\"],[\"The redshift weights are derived for optimising large scale structure surveys for local non-Gaussianity measurements.\"]],\"hovertemplate\":\"arxiv_id=1702.05088\\u003cbr\\u003ex=%{x}\\u003cbr\\u003ey=%{y}\\u003cbr\\u003enugget_answer=%{customdata[0]}\\u003cextra\\u003e\\u003c\\u002fextra\\u003e\",\"legendgroup\":\"1702.05088\",\"marker\":{\"color\":\"#FF6692\",\"symbol\":\"circle\"},\"mode\":\"markers\",\"name\":\"1702.05088\",\"orientation\":\"v\",\"showlegend\":true,\"x\":[-21.955101013183594,37.56055450439453,39.38719940185547,38.279457092285156,-21.9329891204834,-21.168909072875977,-38.84700393676758,-37.9957389831543,-38.54865264892578,-37.6109619140625],\"xaxis\":\"x\",\"y\":[-7.149162769317627,1.2619104385375977,1.922684669494629,1.4990698099136353,-6.2351250648498535,-5.987148284912109,21.068313598632812,20.60024642944336,21.577306747436523,20.248207092285156],\"yaxis\":\"y\",\"type\":\"scatter\"},{\"customdata\":[[\"The existence of power-law stellar density cusps in dynamically relaxed clusters around massive black holes.\"],[\"Peebles\"],[\"The nuclear star cluster around the massive black hole at the center of the Milky Way.\"],[\"The observations suggest the absence of a stellar cusp.\"],[\"Stellar collisions removing the envelopes of stars in the innermost, densest regions of the cusp.\"],[\"Around 80% of the stars formed more than 5 Gyr ago.\"],[\"Interaction with fragmenting gaseous discs in the past.\"],[\"To find the predicted stellar cusp of the nuclear stellar cluster around Sagittarius A*.\"],[\"0.47 \\u00b1 0.07\"],[\"Even fainter stars.\"]],\"hovertemplate\":\"arxiv_id=1701.03817\\u003cbr\\u003ex=%{x}\\u003cbr\\u003ey=%{y}\\u003cbr\\u003enugget_answer=%{customdata[0]}\\u003cextra\\u003e\\u003c\\u002fextra\\u003e\",\"legendgroup\":\"1701.03817\",\"marker\":{\"color\":\"#B6E880\",\"symbol\":\"circle\"},\"mode\":\"markers\",\"name\":\"1701.03817\",\"orientation\":\"v\",\"showlegend\":true,\"x\":[-13.633200645446777,32.2021484375,-4.655178070068359,7.317144870758057,-16.072439193725586,-11.543070793151855,-19.666385650634766,-2.7118117809295654,36.39472961425781,-2.7722127437591553],\"xaxis\":\"x\",\"y\":[4.610912322998047,19.53740692138672,11.376617431640625,2.9444446563720703,21.340991973876953,15.98349380493164,22.28324317932129,11.364531517028809,-22.006776809692383,8.51501178741455],\"yaxis\":\"y\",\"type\":\"scatter\"},{\"customdata\":[[\"The primary power-law X-ray emission from luminous accreting black holes originates from the corona.\"],[\"The primary power-law X-ray emission originates from the corona, which is a hot cloud close to the center of the accretion disc.\"],[\"Soft disc photons are Compton-upscattered in the corona to make the power-law continuum.\"],[\"The high-energy turnover in the power-law continuum is generally interpreted as the temperature of the corona.\"],[\"Rapid changes in the primary continuum, interpreted using X-ray reflection and reverberation signatures, indicate that the corona has a relatively small size.\"],[\"The fraction of the bolometric power passing through the corona ranges from about 10 to 50 percent.\"],[\"A compact corona in a luminous accreting black hole system must be a dynamic structure because the heating and cooling timescales for the hot electrons are less than the light crossing time of the corona.\"],[\"The thermal energy content of a spherical corona with typical properties is small.\"],[\"A spherical corona with typical properties has a very small mass.\"],[\"The luminosity obtained if all the coronal energy is released on a crossing time is much less than the Eddington luminosity.\"],[\"Higher luminosities in a compact corona require that both cooling and heating occur on a faster timescale.\"],[\"The energy supplying the heat in a compact corona must be stored in the corona, probably in the form of magnetic fields powered by the accretion disc.\"],[\"It is unclear what controls the plasma temperature, or temperatures, in the corona and how any stable equilibrium is established if only heating and cooling are involved.\"],[\"\\textit{NuSTAR} observations of Active Galactic Nuclei (AGN) show that they avoid the region where pair production runs away, indicating that the process may play a role.\"],[\"Observations of some AGN indicate that the temperature of the corona is much smaller than expected on the basis of purely thermal pair production.\"],[\"Hybrid coronae containing a mixture of thermal and nonthermal particles are considered in the study.\"],[\"The highly magnetized corona is powered by dissipation of magnetic energy.\"],[\"In a compact corona, energetic particles may not have time to thermalize before inverse Compton cooling reduces their energy.\"],[\"The cooling of energetic pairs in the corona can result in a relatively cool thermal particle population with a temperature well below 100 keV.\"],[\"The lowest temperature objects can be the most pair-dominated.\"],[\"Hybrid models for the corona were introduced over two decades ago.\"],[\"Hybrid models provide a better explanation for the hard X-ray spectra of luminous accreting black holes than purely nonthermal or thermal models.\"]],\"hovertemplate\":\"arxiv_id=1701.06774\\u003cbr\\u003ex=%{x}\\u003cbr\\u003ey=%{y}\\u003cbr\\u003enugget_answer=%{customdata[0]}\\u003cextra\\u003e\\u003c\\u002fextra\\u003e\",\"legendgroup\":\"1701.06774\",\"marker\":{\"color\":\"#FF97FF\",\"symbol\":\"circle\"},\"mode\":\"markers\",\"name\":\"1701.06774\",\"orientation\":\"v\",\"showlegend\":true,\"x\":[-8.714147567749023,-8.538981437683105,-7.406858444213867,-10.0909423828125,-11.975556373596191,-9.897587776184082,-11.283393859863281,-12.853781700134277,-12.352058410644531,-13.580048561096191,-11.50178050994873,-9.433769226074219,-13.122567176818848,-2.63759708404541,-13.788782119750977,-14.940659523010254,-9.002714157104492,-14.77122974395752,-14.870662689208984,-16.900558471679688,-15.76064682006836,-7.185142993927002],\"xaxis\":\"x\",\"y\":[-20.031614303588867,-20.16645622253418,-20.20122718811035,-21.198413848876953,-20.17683219909668,-19.031307220458984,-22.562698364257812,-19.386186599731445,-19.26585578918457,-17.898807525634766,-22.388402938842773,-22.984514236450195,-23.11463737487793,-0.3669596016407013,-20.793302536010742,-23.043092727661133,-23.001174926757812,-19.49945068359375,-20.106891632080078,-19.930543899536133,-24.02273941040039,-9.695903778076172],\"yaxis\":\"y\",\"type\":\"scatter\"},{\"customdata\":[[\"There is dynamical evidence for the existence of super massive black holes in the center of many nearby galaxies.\"],[\"The mass range of these super massive black holes is approximately $10^6-10^9$ M$_odot$.\"],[\"Scaling relations connect the mass of black holes with the properties of their host galaxies, such as the galactic bulge mass and the bulge stars velocity dispersion.\"],[\"The co-evolution between black holes and their host galaxies suggests a connection between the growth of the black hole and the evolution of the galaxy.\"],[\"The critical mass for triggering the co-evolution between black holes and galactic bulges is approximately $10^6$ M$_odot$.\"],[\"The detection of very bright quasars at high redshift implies the existence of black holes with masses of the order of $10^9$ M$_odot$ when the universe was about 1 Gyr old.\"],[\"One of the main challenges of current galaxy formation theories is understanding the rapid early evolution of black holes.\"],[\"Previous work by Prieto and Escala studied the mass transport process in high redshift galactic discs and the effect of supernova feedback on black hole growth.\"],[\"Outflows generated by AGN activity can have spatial extensions of at least kpc and can reach velocities of the order of 10^3 km\\u002fs.\"],[\"The paper is organized into sections that cover numerical details of the simulations, results based on gas dynamic analysis, discussion, and main conclusions.\"]],\"hovertemplate\":\"arxiv_id=1701.06172\\u003cbr\\u003ex=%{x}\\u003cbr\\u003ey=%{y}\\u003cbr\\u003enugget_answer=%{customdata[0]}\\u003cextra\\u003e\\u003c\\u002fextra\\u003e\",\"legendgroup\":\"1701.06172\",\"marker\":{\"color\":\"#FECB52\",\"symbol\":\"circle\"},\"mode\":\"markers\",\"name\":\"1701.06172\",\"orientation\":\"v\",\"showlegend\":true,\"x\":[-12.994197845458984,-11.39057731628418,-14.890822410583496,-14.314143180847168,-12.359234809875488,-11.34476375579834,-14.258862495422363,-16.393760681152344,-1.9533132314682007,-27.754249572753906],\"xaxis\":\"x\",\"y\":[4.84333610534668,1.243109107017517,5.299740791320801,6.6320109367370605,1.1075496673583984,0.13026754558086395,7.626341342926025,6.8021240234375,-9.261635780334473,-30.06158447265625],\"yaxis\":\"y\",\"type\":\"scatter\"},{\"customdata\":[[\"Conditions such as photo-evaporation, close stellar encounters, and nearby supernovae can influence the subsequent evolution of newborn stars and their protoplanetary discs.\"],[\"Some suggested mechanisms for the removal of gas from protoplanetary discs include photo-evaporation, angular momentum transport, magnetic winds, and magnetic braking.\"],[\"The movement of protoplanetary discs through an ambient medium can influence their evolution.\"],[\"A previous work investigated the extent to which stars surrounded by protoplanetary discs can sweep up gas from their surroundings.\"],[\"The two processes that decrease the size of a protoplanetary disc when a star and its disc move through a gaseous environment are stripping of disc material by ram pressure and the accretion of interstellar medium with little to no azimuthal angular momentum.\"],[\"As disc material migrates inwards, the surface density profile of a protoplanetary disc increases at smaller radii.\"],[\"The inward migration of gas in a protoplanetary disc could play a role in planet formation and\\u002for migration.\"],[\"The physical effects that determine the size of a protoplanetary disc and affect the process of entraining interstellar medium are ram pressure stripping, redistribution of angular momentum, close stellar encounters, and photo-evaporation.\"],[\"The purpose of the theoretical model presented in this paper is to describe the processes of ram pressure stripping and redistribution of angular momentum that can be implemented in future studies.\"]],\"hovertemplate\":\"arxiv_id=1702.04383\\u003cbr\\u003ex=%{x}\\u003cbr\\u003ey=%{y}\\u003cbr\\u003enugget_answer=%{customdata[0]}\\u003cextra\\u003e\\u003c\\u002fextra\\u003e\",\"legendgroup\":\"1702.04383\",\"marker\":{\"color\":\"#636efa\",\"symbol\":\"circle\"},\"mode\":\"markers\",\"name\":\"1702.04383\",\"orientation\":\"v\",\"showlegend\":true,\"x\":[-20.87504768371582,-23.28122329711914,-21.33893394470215,-20.174360275268555,-23.19260597229004,-22.318214416503906,-21.631147384643555,-22.756948471069336,-24.93221664428711],\"xaxis\":\"x\",\"y\":[23.782434463500977,22.277681350708008,22.298044204711914,21.133682250976562,23.485815048217773,20.804298400878906,21.434709548950195,23.52309226989746,24.898893356323242],\"yaxis\":\"y\",\"type\":\"scatter\"},{\"customdata\":[[\"The Milky Way nuclear star cluster.\"],[\"Discrete velocities in three dimensions.\"],[\"The mass distribution of the star cluster and the presence of a central dark massive object.\"],[\"(4.1 \\u00b1 0.6) \\u00d7 10^6 solar masses.\"],[\"A central dark mass of 2-5 \\u00d7 10^6 solar masses.\"],[\"Orbit-based models.\"],[\"Validating stellar dynamical black hole measurements.\"],[\"8 kpc.\"]],\"hovertemplate\":\"arxiv_id=1701.01583\\u003cbr\\u003ex=%{x}\\u003cbr\\u003ey=%{y}\\u003cbr\\u003enugget_answer=%{customdata[0]}\\u003cextra\\u003e\\u003c\\u002fextra\\u003e\",\"legendgroup\":\"1701.01583\",\"marker\":{\"color\":\"#EF553B\",\"symbol\":\"circle\"},\"mode\":\"markers\",\"name\":\"1701.01583\",\"orientation\":\"v\",\"showlegend\":true,\"x\":[-4.312526702880859,-25.35783576965332,-5.479818344116211,24.100513458251953,24.23265266418457,-17.489425659179688,11.575701713562012,28.87862205505371],\"xaxis\":\"x\",\"y\":[11.605119705200195,-26.3796329498291,10.700587272644043,-13.064176559448242,-11.602336883544922,-27.341907501220703,11.985044479370117,-8.726511001586914],\"yaxis\":\"y\",\"type\":\"scatter\"},{\"customdata\":[[\"Massive black holes (MBHs) are black holes with masses in the range of approximately $10^6-10^9$ times the mass of the Sun.\"],[\"Massive galaxies are formed through continuous accretion of dark matter and gas from cosmic filaments, as well as through galaxy mergers.\"],[\"Galaxy mergers are expected to lead to the formation of a population of massive black hole binaries in the nuclei of post-merger galaxies.\"],[\"The ongoing Pulsar Timing Array experiments include the European Pulsar Timing Array (EPTA), the Parkes Pulsar Timing Array (PPTA), and the North American Nanohertz Observatory for Gravitational Waves (NANOGrav), which join together in the International Pulsar Timing Array (IPTA).\"],[\"The purpose of the Laser Interferometer Space Antenna (LISA) is to detect gravitational waves from various sources, including massive black hole binaries.\"],[\"Unresolved massive black hole binaries are expected to be relatively rare in the LISA frequency range.\"],[\"The main target of Pulsar Timing Arrays is the stochastic gravitational wave background produced by all the unresolved sources in the universe, including massive black hole binaries.\"],[\"PTA upper limits on the stochastic gravitational wave background from massive black hole binaries have steadily improved over the past few years.\"],[\"The last-parsec problem refers to the phenomenon where massive black hole binaries with large masses may stall at separations of less than a parsec due to inefficient three-body interactions and gravitational wave emission.\"],[\"Processes such as galaxy rotation or a tri-axiality in the galactic gravitational potential induced by mergers can help solve the last-parsec problem by replenishing the loss cone and making stellar scattering efficient again.\"]],\"hovertemplate\":\"arxiv_id=1702.06964\\u003cbr\\u003ex=%{x}\\u003cbr\\u003ey=%{y}\\u003cbr\\u003enugget_answer=%{customdata[0]}\\u003cextra\\u003e\\u003c\\u002fextra\\u003e\",\"legendgroup\":\"1702.06964\",\"marker\":{\"color\":\"#00cc96\",\"symbol\":\"circle\"},\"mode\":\"markers\",\"name\":\"1702.06964\",\"orientation\":\"v\",\"showlegend\":true,\"x\":[-11.049399375915527,-17.28675079345703,-22.454015731811523,24.380937576293945,22.60909080505371,21.892765045166016,23.248878479003906,23.005353927612305,-28.31816291809082,-28.006763458251953],\"xaxis\":\"x\",\"y\":[1.7438886165618896,14.722512245178223,10.49954605102539,8.748821258544922,8.626774787902832,6.702390193939209,8.199358940124512,6.999547481536865,15.411890983581543,15.264890670776367],\"yaxis\":\"y\",\"type\":\"scatter\"},{\"customdata\":[[\"Self-interacting dark matter (SIDM) is a model of dark matter that includes interactions between dark matter particles.\"],[\"SIDM aims to solve the problem of observed shallow dark matter profiles in galaxies.\"],[\"SIDM creates cores of dark matter within galaxies by transferring mass from the dense central regions of dark matter haloes to the halo outskirts through self-scattering collisions.\"],[\"The core-cusp problem refers to the discrepancy between the observed shallow dark matter profiles in galaxies and the predicted cuspy profiles in the standard cold dark matter (CDM) model.\"],[\"Astrophysical observations such as the formation of cores in faint galaxies, the maintenance of the ellipsoidal shape of haloes and clusters, and the avoidance of the gravothermal catastrophe constrain the rate of collisions in SIDM.\"],[\"The relevant range of cross-sections for SIDM to impact galaxy evolution and avoid upper limits lies between 0.1 \\u003c \\u03c3\\u002f(cm^2\\u002fgr) \\u003c 1.\"],[\"A velocity-dependent cross section can ease the constraints on \\u03c3 by allowing dark matter to behave as a collisional fluid in dwarfs and as a collisionless one at cluster scales.\"],[\"Supernovae-driven outflows remove the excess of low angular momentum gas and explain the formation of bulgeless galaxies.\"],[\"Outflows predict the formation of shallow dark matter profiles at the center of galaxies.\"],[\"The comparison between SIDM and CDM models coupled to baryon physics showed that the dark matter profiles and star formation histories of dwarf galaxies in SIDM simulations do not essentially differ from those in CDM simulations.\"],[\"The analytical calculation by Kaplinghat et al. predicted that the presence of baryons decreases the core radius and increases the core density of SIDM density profiles in Milky Way haloes.\"],[\"The adiabatic contraction effect due to baryons may loosen the constraints on SIDM cross sections.\"],[\"The authors of this paper explored the effect of a large constant cross section in SIDM simulations, including baryonic physics and supermassive black holes (SMBHs), and compared the results against a standard CDM+baryons run.\"],[\"The runs in this paper explicitly followed the orbital decay of supermassive black holes (SMBHs), which is a unique capability compared to previous work in the field.\"]],\"hovertemplate\":\"arxiv_id=1701.04410\\u003cbr\\u003ex=%{x}\\u003cbr\\u003ey=%{y}\\u003cbr\\u003enugget_answer=%{customdata[0]}\\u003cextra\\u003e\\u003c\\u002fextra\\u003e\",\"legendgroup\":\"1701.04410\",\"marker\":{\"color\":\"#ab63fa\",\"symbol\":\"circle\"},\"mode\":\"markers\",\"name\":\"1701.04410\",\"orientation\":\"v\",\"showlegend\":true,\"x\":[-27.919843673706055,-27.172109603881836,-26.519119262695312,-20.565126419067383,-25.434019088745117,-24.799684524536133,-23.48103141784668,-18.833118438720703,-19.403133392333984,-26.674945831298828,-24.469390869140625,-23.425880432128906,-26.071611404418945,-25.7664794921875],\"xaxis\":\"x\",\"y\":[-1.735896110534668,-0.32328328490257263,-0.4715210199356079,-0.22363373637199402,-0.5826566219329834,-2.0356292724609375,-1.8869354724884033,7.644309997558594,6.733346462249756,-2.0987820625305176,0.36994972825050354,-0.8648462891578674,-3.254453182220459,-4.344615936279297],\"yaxis\":\"y\",\"type\":\"scatter\"},{\"customdata\":[[\"Non-baryonic matter\"],[\"The discrepancy between the cuspy profiles obtained in N-body simulations and the profiles inferred from observed dwarf and low surface brightness galaxies\"],[\"Cored dark matter profiles\"],[\"Simulation results predict cuspy profiles while observations favor cored profiles\"],[\"Baryonic effects may interact with dark matter through gravity and lead to flatter inner profiles\"]],\"hovertemplate\":\"arxiv_id=1701.02698\\u003cbr\\u003ex=%{x}\\u003cbr\\u003ey=%{y}\\u003cbr\\u003enugget_answer=%{customdata[0]}\\u003cextra\\u003e\\u003c\\u002fextra\\u003e\",\"legendgroup\":\"1701.02698\",\"marker\":{\"color\":\"#FFA15A\",\"symbol\":\"circle\"},\"mode\":\"markers\",\"name\":\"1701.02698\",\"orientation\":\"v\",\"showlegend\":true,\"x\":[-34.62532424926758,-19.80170249938965,-21.977937698364258,-19.527612686157227,-23.375080108642578],\"xaxis\":\"x\",\"y\":[-1.998610496520996,-0.5751908421516418,0.9207820296287537,-1.4389394521713257,1.1873081922531128],\"yaxis\":\"y\",\"type\":\"scatter\"},{\"customdata\":[[\"ULXs are highly luminous, compact, non-nuclear X-ray sources in nearby spiral galaxies.\"],[\"Yes, the luminosities of ULXs exceed the Eddington luminosity limit of a neutron star.\"],[\"The nature of ULXs is still not understood.\"],[\"ULXs might be intermediate mass black holes or stellar-mass black holes accreting above their Eddington limit.\"],[\"No, some ULXs are neutron stars.\"],[\"One possibility is that the photon emission of super-critical neutron stars and black holes is strongly collimated along the polar axis.\"],[\"The classical Eddington limit is not a barrier to accretion onto a highly magnetized neutron star because the electron scattering cross section is reduced for photon energies in the X-ray band, in the presence of a magnetic field.\"],[\"The generalization is the 'slim disk' model.\"],[\"No, idealized analytic models are not appropriate for detailed comparison with observations of super-Eddington flows.\"],[\"The inflow cannot settle into a standard, radiatively efficient, optically thick, geometrically thin accretion disk.\"],[\"The challenge is that the gas in the wind will scatter the radiation from the disk, causing anisotropic emission and making it a challenging problem that requires numerical simulations.\"],[\"Pioneering work has been done by Ohsuga and collaborators, who developed radiation-hydrodynamic and radiation-MHD codes.\"],[\"The authors used a state-of-the-art general relativistic radiation MHD code called 'KORAL' and a radiative-transfer and ray-tracing code called 'HEROIC'.\"],[\"Super-Eddington accretion flows in ULXs can serve as prototypes for tidal disruption events (TDEs) and some active galactic nuclei (AGN) in the local universe.\"]],\"hovertemplate\":\"arxiv_id=1702.01158\\u003cbr\\u003ex=%{x}\\u003cbr\\u003ey=%{y}\\u003cbr\\u003enugget_answer=%{customdata[0]}\\u003cextra\\u003e\\u003c\\u002fextra\\u003e\",\"legendgroup\":\"1702.01158\",\"marker\":{\"color\":\"#19d3f3\",\"symbol\":\"circle\"},\"mode\":\"markers\",\"name\":\"1702.01158\",\"orientation\":\"v\",\"showlegend\":true,\"x\":[-8.921345710754395,-10.985868453979492,-13.723105430603027,-9.076738357543945,-11.466973304748535,-6.82900857925415,-9.112044334411621,-36.23743438720703,-16.264751434326172,-15.769646644592285,-26.956558227539062,-21.073591232299805,-20.803422927856445,-8.51240062713623],\"xaxis\":\"x\",\"y\":[-3.567819356918335,-4.480481147766113,-5.596704959869385,-4.301172256469727,-4.458375930786133,-7.357089996337891,-6.816860198974609,14.605485916137695,-12.045507431030273,-11.683968544006348,20.0678768157959,-21.671607971191406,-21.867950439453125,-4.8143839836120605],\"yaxis\":\"y\",\"type\":\"scatter\"},{\"customdata\":[[\"AGN metallicities have an important role in the study of the chemical evolution of galaxies and the Universe.\"],[\"The two methods used are the $T_{\\rm e}$-method and the strong-line method.\"],[\"The $T_{\\rm e}$-method provides reliable metallicity estimations for star-forming regions.\"],[\"No, the $T_{\\rm e}$-method does not work for AGNs.\"],[\"The $T_{\\rm e}$-method underestimates the expected oxygen abundances in AGNs, possibly due to the presence of a secondary heating source.\"],[\"The strong-line method is more reliable for AGN metallicity determinations.\"],[\"Some of the proposed calibrations include the ones by citet{thaisa98} and citet{dors14}.\"],[\"The purpose of the present study was to obtain a new relationship between abundances and the strong narrow emission-lines of Seyfert 2 AGNs.\"],[\"The index calibration was obtained using a grid of photoionization models.\"],[\"The calibration obtained in the study is presented in Section~\\ref{cal}.\"]],\"hovertemplate\":\"arxiv_id=1701.04997\\u003cbr\\u003ex=%{x}\\u003cbr\\u003ey=%{y}\\u003cbr\\u003enugget_answer=%{customdata[0]}\\u003cextra\\u003e\\u003c\\u002fextra\\u003e\",\"legendgroup\":\"1701.04997\",\"marker\":{\"color\":\"#FF6692\",\"symbol\":\"circle\"},\"mode\":\"markers\",\"name\":\"1701.04997\",\"orientation\":\"v\",\"showlegend\":true,\"x\":[-3.543937921524048,15.180027961730957,15.460158348083496,16.996200561523438,16.32743263244629,14.199864387512207,38.23030090332031,5.9103922843933105,37.050086975097656,37.68882751464844],\"xaxis\":\"x\",\"y\":[1.5652987957000732,3.5290470123291016,4.539134979248047,4.814194679260254,4.7208333015441895,5.1409502029418945,10.676619529724121,15.938429832458496,9.828523635864258,9.79960823059082],\"yaxis\":\"y\",\"type\":\"scatter\"},{\"customdata\":[[\"The BT2 line list is used for astrophysical studies and modeling water spectra in various objects.\"],[\"The BT2 line list has been extensively used in detecting and analyzing water spectra in different objects, including stars, brown dwarfs, exoplanets, and comets.\"],[\"The BT2 line list has been used for studying water spectra in stellar and substellar atmospheres, cometary comae, Venus' atmosphere, and for high-speed thermometry and tomographic imaging in gas engines and burners.\"],[\"The text mentions the VTT line list for HD$^{16}$O and the 3mol room-temperature line lists for hato, heto, and octo.\"],[\"The new line lists for heto and octo are intended to aid spectroscopic studies of these isotopologues and molecular line lists for exoplanet and other hot atmospheres.\"],[\"Water isotopologues are used in detecting and analyzing astronomical spectra, determining formation mechanisms in cometary dust particles and carbonaceous chrondrites, monitoring stellar evolution, and probing the atmosphere of Mars.\"],[\"The new line lists incorporate empirical energy levels derived for the main isotopologues of water and an improved procedure for enhancing the accuracy of calculations on isotopically substituted species. The accuracy of water transition intensities is also improved through advancements in the representation of the water dipole moment.\"]],\"hovertemplate\":\"arxiv_id=1702.03570\\u003cbr\\u003ex=%{x}\\u003cbr\\u003ey=%{y}\\u003cbr\\u003enugget_answer=%{customdata[0]}\\u003cextra\\u003e\\u003c\\u002fextra\\u003e\",\"legendgroup\":\"1702.03570\",\"marker\":{\"color\":\"#B6E880\",\"symbol\":\"circle\"},\"mode\":\"markers\",\"name\":\"1702.03570\",\"orientation\":\"v\",\"showlegend\":true,\"x\":[27.348264694213867,26.73056411743164,27.093278884887695,29.185466766357422,28.831439971923828,26.426279067993164,27.427082061767578],\"xaxis\":\"x\",\"y\":[14.491983413696289,14.603876113891602,14.968514442443848,12.203129768371582,12.331862449645996,12.89363956451416,11.76998233795166],\"yaxis\":\"y\",\"type\":\"scatter\"}],                        {\"template\":{\"data\":{\"histogram2dcontour\":[{\"type\":\"histogram2dcontour\",\"colorbar\":{\"outlinewidth\":0,\"ticks\":\"\"},\"colorscale\":[[0.0,\"#0d0887\"],[0.1111111111111111,\"#46039f\"],[0.2222222222222222,\"#7201a8\"],[0.3333333333333333,\"#9c179e\"],[0.4444444444444444,\"#bd3786\"],[0.5555555555555556,\"#d8576b\"],[0.6666666666666666,\"#ed7953\"],[0.7777777777777778,\"#fb9f3a\"],[0.8888888888888888,\"#fdca26\"],[1.0,\"#f0f921\"]]}],\"choropleth\":[{\"type\":\"choropleth\",\"colorbar\":{\"outlinewidth\":0,\"ticks\":\"\"}}],\"histogram2d\":[{\"type\":\"histogram2d\",\"colorbar\":{\"outlinewidth\":0,\"ticks\":\"\"},\"colorscale\":[[0.0,\"#0d0887\"],[0.1111111111111111,\"#46039f\"],[0.2222222222222222,\"#7201a8\"],[0.3333333333333333,\"#9c179e\"],[0.4444444444444444,\"#bd3786\"],[0.5555555555555556,\"#d8576b\"],[0.6666666666666666,\"#ed7953\"],[0.7777777777777778,\"#fb9f3a\"],[0.8888888888888888,\"#fdca26\"],[1.0,\"#f0f921\"]]}],\"heatmap\":[{\"type\":\"heatmap\",\"colorbar\":{\"outlinewidth\":0,\"ticks\":\"\"},\"colorscale\":[[0.0,\"#0d0887\"],[0.1111111111111111,\"#46039f\"],[0.2222222222222222,\"#7201a8\"],[0.3333333333333333,\"#9c179e\"],[0.4444444444444444,\"#bd3786\"],[0.5555555555555556,\"#d8576b\"],[0.6666666666666666,\"#ed7953\"],[0.7777777777777778,\"#fb9f3a\"],[0.8888888888888888,\"#fdca26\"],[1.0,\"#f0f921\"]]}],\"heatmapgl\":[{\"type\":\"heatmapgl\",\"colorbar\":{\"outlinewidth\":0,\"ticks\":\"\"},\"colorscale\":[[0.0,\"#0d0887\"],[0.1111111111111111,\"#46039f\"],[0.2222222222222222,\"#7201a8\"],[0.3333333333333333,\"#9c179e\"],[0.4444444444444444,\"#bd3786\"],[0.5555555555555556,\"#d8576b\"],[0.6666666666666666,\"#ed7953\"],[0.7777777777777778,\"#fb9f3a\"],[0.8888888888888888,\"#fdca26\"],[1.0,\"#f0f921\"]]}],\"contourcarpet\":[{\"type\":\"contourcarpet\",\"colorbar\":{\"outlinewidth\":0,\"ticks\":\"\"}}],\"contour\":[{\"type\":\"contour\",\"colorbar\":{\"outlinewidth\":0,\"ticks\":\"\"},\"colorscale\":[[0.0,\"#0d0887\"],[0.1111111111111111,\"#46039f\"],[0.2222222222222222,\"#7201a8\"],[0.3333333333333333,\"#9c179e\"],[0.4444444444444444,\"#bd3786\"],[0.5555555555555556,\"#d8576b\"],[0.6666666666666666,\"#ed7953\"],[0.7777777777777778,\"#fb9f3a\"],[0.8888888888888888,\"#fdca26\"],[1.0,\"#f0f921\"]]}],\"surface\":[{\"type\":\"surface\",\"colorbar\":{\"outlinewidth\":0,\"ticks\":\"\"},\"colorscale\":[[0.0,\"#0d0887\"],[0.1111111111111111,\"#46039f\"],[0.2222222222222222,\"#7201a8\"],[0.3333333333333333,\"#9c179e\"],[0.4444444444444444,\"#bd3786\"],[0.5555555555555556,\"#d8576b\"],[0.6666666666666666,\"#ed7953\"],[0.7777777777777778,\"#fb9f3a\"],[0.8888888888888888,\"#fdca26\"],[1.0,\"#f0f921\"]]}],\"mesh3d\":[{\"type\":\"mesh3d\",\"colorbar\":{\"outlinewidth\":0,\"ticks\":\"\"}}],\"scatter\":[{\"fillpattern\":{\"fillmode\":\"overlay\",\"size\":10,\"solidity\":0.2},\"type\":\"scatter\"}],\"parcoords\":[{\"type\":\"parcoords\",\"line\":{\"colorbar\":{\"outlinewidth\":0,\"ticks\":\"\"}}}],\"scatterpolargl\":[{\"type\":\"scatterpolargl\",\"marker\":{\"colorbar\":{\"outlinewidth\":0,\"ticks\":\"\"}}}],\"bar\":[{\"error_x\":{\"color\":\"#2a3f5f\"},\"error_y\":{\"color\":\"#2a3f5f\"},\"marker\":{\"line\":{\"color\":\"#E5ECF6\",\"width\":0.5},\"pattern\":{\"fillmode\":\"overlay\",\"size\":10,\"solidity\":0.2}},\"type\":\"bar\"}],\"scattergeo\":[{\"type\":\"scattergeo\",\"marker\":{\"colorbar\":{\"outlinewidth\":0,\"ticks\":\"\"}}}],\"scatterpolar\":[{\"type\":\"scatterpolar\",\"marker\":{\"colorbar\":{\"outlinewidth\":0,\"ticks\":\"\"}}}],\"histogram\":[{\"marker\":{\"pattern\":{\"fillmode\":\"overlay\",\"size\":10,\"solidity\":0.2}},\"type\":\"histogram\"}],\"scattergl\":[{\"type\":\"scattergl\",\"marker\":{\"colorbar\":{\"outlinewidth\":0,\"ticks\":\"\"}}}],\"scatter3d\":[{\"type\":\"scatter3d\",\"line\":{\"colorbar\":{\"outlinewidth\":0,\"ticks\":\"\"}},\"marker\":{\"colorbar\":{\"outlinewidth\":0,\"ticks\":\"\"}}}],\"scattermapbox\":[{\"type\":\"scattermapbox\",\"marker\":{\"colorbar\":{\"outlinewidth\":0,\"ticks\":\"\"}}}],\"scatterternary\":[{\"type\":\"scatterternary\",\"marker\":{\"colorbar\":{\"outlinewidth\":0,\"ticks\":\"\"}}}],\"scattercarpet\":[{\"type\":\"scattercarpet\",\"marker\":{\"colorbar\":{\"outlinewidth\":0,\"ticks\":\"\"}}}],\"carpet\":[{\"aaxis\":{\"endlinecolor\":\"#2a3f5f\",\"gridcolor\":\"white\",\"linecolor\":\"white\",\"minorgridcolor\":\"white\",\"startlinecolor\":\"#2a3f5f\"},\"baxis\":{\"endlinecolor\":\"#2a3f5f\",\"gridcolor\":\"white\",\"linecolor\":\"white\",\"minorgridcolor\":\"white\",\"startlinecolor\":\"#2a3f5f\"},\"type\":\"carpet\"}],\"table\":[{\"cells\":{\"fill\":{\"color\":\"#EBF0F8\"},\"line\":{\"color\":\"white\"}},\"header\":{\"fill\":{\"color\":\"#C8D4E3\"},\"line\":{\"color\":\"white\"}},\"type\":\"table\"}],\"barpolar\":[{\"marker\":{\"line\":{\"color\":\"#E5ECF6\",\"width\":0.5},\"pattern\":{\"fillmode\":\"overlay\",\"size\":10,\"solidity\":0.2}},\"type\":\"barpolar\"}],\"pie\":[{\"automargin\":true,\"type\":\"pie\"}]},\"layout\":{\"autotypenumbers\":\"strict\",\"colorway\":[\"#636efa\",\"#EF553B\",\"#00cc96\",\"#ab63fa\",\"#FFA15A\",\"#19d3f3\",\"#FF6692\",\"#B6E880\",\"#FF97FF\",\"#FECB52\"],\"font\":{\"color\":\"#2a3f5f\"},\"hovermode\":\"closest\",\"hoverlabel\":{\"align\":\"left\"},\"paper_bgcolor\":\"white\",\"plot_bgcolor\":\"#E5ECF6\",\"polar\":{\"bgcolor\":\"#E5ECF6\",\"angularaxis\":{\"gridcolor\":\"white\",\"linecolor\":\"white\",\"ticks\":\"\"},\"radialaxis\":{\"gridcolor\":\"white\",\"linecolor\":\"white\",\"ticks\":\"\"}},\"ternary\":{\"bgcolor\":\"#E5ECF6\",\"aaxis\":{\"gridcolor\":\"white\",\"linecolor\":\"white\",\"ticks\":\"\"},\"baxis\":{\"gridcolor\":\"white\",\"linecolor\":\"white\",\"ticks\":\"\"},\"caxis\":{\"gridcolor\":\"white\",\"linecolor\":\"white\",\"ticks\":\"\"}},\"coloraxis\":{\"colorbar\":{\"outlinewidth\":0,\"ticks\":\"\"}},\"colorscale\":{\"sequential\":[[0.0,\"#0d0887\"],[0.1111111111111111,\"#46039f\"],[0.2222222222222222,\"#7201a8\"],[0.3333333333333333,\"#9c179e\"],[0.4444444444444444,\"#bd3786\"],[0.5555555555555556,\"#d8576b\"],[0.6666666666666666,\"#ed7953\"],[0.7777777777777778,\"#fb9f3a\"],[0.8888888888888888,\"#fdca26\"],[1.0,\"#f0f921\"]],\"sequentialminus\":[[0.0,\"#0d0887\"],[0.1111111111111111,\"#46039f\"],[0.2222222222222222,\"#7201a8\"],[0.3333333333333333,\"#9c179e\"],[0.4444444444444444,\"#bd3786\"],[0.5555555555555556,\"#d8576b\"],[0.6666666666666666,\"#ed7953\"],[0.7777777777777778,\"#fb9f3a\"],[0.8888888888888888,\"#fdca26\"],[1.0,\"#f0f921\"]],\"diverging\":[[0,\"#8e0152\"],[0.1,\"#c51b7d\"],[0.2,\"#de77ae\"],[0.3,\"#f1b6da\"],[0.4,\"#fde0ef\"],[0.5,\"#f7f7f7\"],[0.6,\"#e6f5d0\"],[0.7,\"#b8e186\"],[0.8,\"#7fbc41\"],[0.9,\"#4d9221\"],[1,\"#276419\"]]},\"xaxis\":{\"gridcolor\":\"white\",\"linecolor\":\"white\",\"ticks\":\"\",\"title\":{\"standoff\":15},\"zerolinecolor\":\"white\",\"automargin\":true,\"zerolinewidth\":2},\"yaxis\":{\"gridcolor\":\"white\",\"linecolor\":\"white\",\"ticks\":\"\",\"title\":{\"standoff\":15},\"zerolinecolor\":\"white\",\"automargin\":true,\"zerolinewidth\":2},\"scene\":{\"xaxis\":{\"backgroundcolor\":\"#E5ECF6\",\"gridcolor\":\"white\",\"linecolor\":\"white\",\"showbackground\":true,\"ticks\":\"\",\"zerolinecolor\":\"white\",\"gridwidth\":2},\"yaxis\":{\"backgroundcolor\":\"#E5ECF6\",\"gridcolor\":\"white\",\"linecolor\":\"white\",\"showbackground\":true,\"ticks\":\"\",\"zerolinecolor\":\"white\",\"gridwidth\":2},\"zaxis\":{\"backgroundcolor\":\"#E5ECF6\",\"gridcolor\":\"white\",\"linecolor\":\"white\",\"showbackground\":true,\"ticks\":\"\",\"zerolinecolor\":\"white\",\"gridwidth\":2}},\"shapedefaults\":{\"line\":{\"color\":\"#2a3f5f\"}},\"annotationdefaults\":{\"arrowcolor\":\"#2a3f5f\",\"arrowhead\":0,\"arrowwidth\":1},\"geo\":{\"bgcolor\":\"white\",\"landcolor\":\"#E5ECF6\",\"subunitcolor\":\"white\",\"showland\":true,\"showlakes\":true,\"lakecolor\":\"white\"},\"title\":{\"x\":0.05},\"mapbox\":{\"style\":\"light\"}}},\"xaxis\":{\"anchor\":\"y\",\"domain\":[0.0,1.0],\"title\":{\"text\":\"x\"}},\"yaxis\":{\"anchor\":\"x\",\"domain\":[0.0,1.0],\"title\":{\"text\":\"y\"}},\"legend\":{\"title\":{\"text\":\"arxiv_id\"},\"tracegroupgap\":0},\"margin\":{\"t\":60}},                        {\"responsive\": true}                    ).then(function(){\n",
       "                            \n",
       "var gd = document.getElementById('fe83c048-55d7-4566-99e7-610a69140659');\n",
       "var x = new MutationObserver(function (mutations, observer) {{\n",
       "        var display = window.getComputedStyle(gd).display;\n",
       "        if (!display || display === 'none') {{\n",
       "            console.log([gd, 'removed!']);\n",
       "            Plotly.purge(gd);\n",
       "            observer.disconnect();\n",
       "        }}\n",
       "}});\n",
       "\n",
       "// Listen for the removal of the full notebook cells\n",
       "var notebookContainer = gd.closest('#notebook-container');\n",
       "if (notebookContainer) {{\n",
       "    x.observe(notebookContainer, {childList: true});\n",
       "}}\n",
       "\n",
       "// Listen for the clearing of the current output cell\n",
       "var outputEl = gd.closest('.output');\n",
       "if (outputEl) {{\n",
       "    x.observe(outputEl, {childList: true});\n",
       "}}\n",
       "\n",
       "                        })                };                });            </script>        </div>"
      ]
     },
     "metadata": {},
     "output_type": "display_data"
    }
   ],
   "source": [
    "\n",
    "\n"
   ]
  },
  {
   "cell_type": "code",
   "execution_count": 23,
   "metadata": {},
   "outputs": [
    {
     "name": "stdout",
     "output_type": "stream",
     "text": [
      "1701.08583\n",
      "{'nugget_questions': ['What is the Integrated Sachs-Wolfe effect?', 'What is the Rees-Sciama effect?', 'What is the amplitude of the ISW signal in cross-correlation with tracers of the matter distribution?', 'What is the amplitude of the ISW signal found by the Planck team?', 'Has the ISW signal been detected using catalogues of voids and superclusters?', 'What was the detection significance of the ISW signal from isolated voids and superclusters in the BOSS data?', 'What is the detection significance of the ISW signal from voids with the most probable voids?', 'What is the range of values reported for the ISW signal using stacking probes with merged sub-voids or supervoids?', 'What type of void catalogue is used in this paper?', 'What is the purpose of this paper?'], 'nugget_answers': ['The Integrated Sachs-Wolfe effect is a late-time re-procession of CMB patterns by the cosmic web.', 'The Rees-Sciama effect is a late-time re-procession of CMB patterns on smaller scales.', 'The amplitude of the ISW signal in cross-correlation with tracers of the matter distribution is approximately 1.38±0.32.', 'The Planck team found an amplitude of the ISW signal of approximately 1.00±0.25 in cross-correlation functions.', 'No high-significance detection of the ISW signal has been reported using catalogues of voids and superclusters.', 'The detection significance of the ISW signal from isolated voids and superclusters in the BOSS data was 3.1σ.', 'The detection significance of the ISW signal from voids with the most probable voids is approximately 3.4σ.', 'The range of values reported for the ISW signal using stacking probes with merged sub-voids or supervoids is approximately 10.', \"This paper uses a BOSS DR12 void catalogue called 'minimal' voids.\", 'The purpose of this paper is to test claims about the ISW signal using a different type of void catalogue and to study the implications of the findings.'], 'embedding': [[-0.020094100385904312, 0.015046895481646061, 0.008633021265268326, 0.003208628622815013, -0.0258178748190403, -0.006738627329468727, -0.004387550055980682, -0.00207706680521369, -0.005656117107719183, -0.0234634131193161, 0.009181041270494461, 0.023152193054556847, 0.003954546060413122, 0.01198203768581152, 0.002139649586752057, -0.011332531459629536, 0.01449210848659277, 0.004996462259441614, -0.0024728598073124886, -0.016575941815972328, -0.010432694107294083, 0.014235012233257294, 0.006826581433415413, -0.016305314376950264, -0.005037056282162666, -0.002532059559598565, -0.00036492443177849054, -0.02767167240381241, -0.012861576862633228, -0.00022051921405363828, 0.00976965669542551, 0.002302026143297553, -0.03131161630153656, -0.008951008319854736, -0.0018250449793413281, -0.01806439273059368, 0.017902016639709473, -0.017076602205634117, 0.006396960001438856, -0.00489497696980834, 0.016562409698963165, 0.017563732340931892, -0.015222802758216858, 0.007083677686750889, -0.017482543364167213, 0.0035858158953487873, 0.025804342702031136, -0.017793765291571617, 0.006072206888347864, 0.0018994675483554602, 0.02282743901014328, -0.0038158493116497993, -0.021000701934099197, -0.008741271682083607, 0.010933355428278446, -0.01974228397011757, -0.019891129806637764, 0.011061904020607471, 0.021163079887628555, -0.017523137852549553, -0.0008123057195916772, -0.005808345042169094, -0.013321644626557827, -0.0033388682641088963, -0.0013886579545214772, -0.012408276088535786, 0.0043097445741295815, 0.02139311283826828, 0.0030750061850994825, 0.00653903977945447, 0.045167747884988785, 0.036724165081977844, -0.03239412605762482, -0.01860564760863781, 0.028199397027492523, -0.0024931568186730146, -0.018795087933540344, -0.016170000657439232, 0.005510654766112566, 0.005426083691418171, 0.01520927157253027, -0.005250175483524799, -0.026738008484244347, 0.030743297189474106, 0.013761414214968681, -0.025127774104475975, -0.0009767964947968721, 0.03396376594901085, -0.0075234477408230305, 0.008423284627497196, 0.01941753178834915, 0.010412397794425488, 0.005625671707093716, 0.024072326719760895, -0.020229414105415344, 0.01145431399345398, -0.003957928624004126, 0.020391790196299553, -0.011657284572720528, -0.019133372232317924, -0.005016759503632784, -0.022204995155334473, -0.011724941432476044, -0.018916869536042213, -0.011670815758407116, -0.00029430753784254193, -0.007097209338098764, 0.017536669969558716, 0.020730074495077133, -0.004319893196225166, -0.006718330550938845, 0.022394435480237007, -0.0016017771558836102, -0.0329895056784153, 0.0217719916254282, 0.010879229754209518, 0.012685669586062431, 0.0041642822325229645, -0.004664943553507328, -0.032935380935668945, 0.012665372341871262, -0.006911152508109808, 0.01305778231471777, -0.012103820219635963, 0.019606970250606537, 0.03136574104428291, -0.029444284737110138, -0.017861422151327133, -0.00997939333319664, -0.013950853608548641, -0.002917703939601779, 0.004032351542264223, -0.0076249330304563046, 0.015358117409050465, -0.012523292563855648, 0.004289447795599699, -0.01173170655965805, 0.011109263636171818, -0.0014487034641206264, -0.014086167328059673, 0.00999969057738781, 0.027184544131159782, -0.0358581580221653, -0.008477410301566124, -0.0167518500238657, 0.017374292016029358, 0.015804652124643326, 0.026913916692137718, -0.005926744546741247, -0.0358581580221653, 0.013423129916191101, -0.01523633487522602, -0.008951008319854736, -0.003178182989358902, 0.013592272065579891, 0.008416518568992615, 0.017861422151327133, 0.040621206164360046, -0.027631079778075218, -0.027793455868959427, -0.018037330359220505, 0.00506411911919713, 0.012726263143122196, -0.0005247638328000903, 0.02746870182454586, 0.02037825994193554, -0.015709932893514633, 0.008497706614434719, -0.0013937321491539478, -0.007063380442559719, -0.025208961218595505, -0.012841280549764633, -0.02874065190553665, 0.022840971127152443, -0.0045397779904305935, 0.0019705072045326233, -0.010270318016409874, 0.027225138619542122, -0.023341631516814232, -0.05469384044408798, -0.018740961328148842, 0.0030479435808956623, 0.0021328837610781193, -0.003920717630535364, 0.0032847425900399685, -0.007049849256873131, 0.01868683658540249, -0.024572987109422684, 0.015276928432285786, -0.02633206732571125, 0.013341940939426422, 0.021420175209641457, 0.0011636987328529358, -0.003262754064053297, -0.6451762318611145, -0.00983054842799902, 0.008964539505541325, -0.033855512738227844, 0.009823782369494438, 0.009674937464296818, 0.008720974437892437, -0.00833533052355051, -0.006850261241197586, 0.025222493335604668, -0.014762735925614834, 0.017996735870838165, -0.007225757464766502, -0.010980715043842793, -0.01970168948173523, -0.023314569145441055, -0.008951008319854736, -0.009350184351205826, -0.00031946745002642274, 0.021325455978512764, -0.015939965844154358, 0.021203672513365746, 0.01882215030491352, 0.018835682421922684, 0.014140293002128601, -0.000687986146658659, 0.04560075327754021, -0.032718878239393234, -0.015439305454492569, -2.296634738740977e-05, -0.009485498070716858, 0.0345320850610733, -0.005842173472046852, 0.009120150469243526, 0.0374007374048233, -0.026805665343999863, -0.012861576862633228, 0.02075713872909546, 0.017644919455051422, 0.010452991351485252, -0.014437982812523842, -0.022962752729654312, 0.0108859958127141, 0.005510654766112566, -0.013335175812244415, 0.02784758061170578, -0.00487467972561717, -0.022313246503472328, -0.00837592501193285, -0.0426238477230072, 0.0036264099180698395, 0.020324133336544037, 0.01360580325126648, 0.01434326358139515, 0.014329732395708561, 0.000579735089559108, -0.0038530605379492044, -0.006670970469713211, -0.010087644681334496, 0.023219849914312363, -0.007773777935653925, 0.011785832233726978, -0.008937477134168148, -0.0167518500238657, -0.015222802758216858, 0.0010808190563693643, -0.01577758975327015, 0.015493431128561497, 0.002095672534778714, 0.004563458263874054, 0.023531069979071617, 0.021406644955277443, 0.021203672513365746, 0.029254844412207603, 0.0017573880031704903, 0.01451917178928852, 0.026859790086746216, 0.009404309093952179, 0.007679058704525232, 0.007597870193421841, -0.021974962204694748, -0.007374602369964123, -0.017712576314806938, -0.015155145898461342, 0.01679244264960289, -0.016684193164110184, -0.029227782040834427, -0.023152193054556847, -0.005919978953897953, -0.03374726325273514, -0.004438292700797319, 0.0032745942007750273, -0.016927756369113922, -0.0387268103659153, -0.0227462500333786, 0.031419865787029266, 0.006836730055510998, 0.040404703468084335, -9.720394155010581e-05, -0.02874065190553665, -0.012496230192482471, 0.017144259065389633, 0.013693757355213165, -0.020486509427428246, 0.018808618187904358, 0.0013802008470520377, -0.0007767858332954347, -0.014627422206103802, 0.030066728591918945, -0.0196205023676157, 0.009965862147510052, -0.009647874161601067, -0.024167045950889587, -0.015845246613025665, -0.021663740277290344, -0.026927446946501732, 0.009857610799372196, 0.013741116970777512, -0.012144413776695728, -0.006363131571561098, 0.027333388105034828, 0.005882767494767904, 0.022137338295578957, 0.004749514628201723, -0.016927756369113922, -0.0010427620727568865, 0.022773314267396927, -0.01991819217801094, -0.018673304468393326, -0.008660083636641502, -0.011853489093482494, -0.00570685975253582, 0.014911581762135029, -0.009268995374441147, 0.016102343797683716, 0.0074896193109452724, 0.009742594324052334, -0.003920717630535364, -0.0227462500333786, -0.03326013311743736, -0.023788167163729668, 0.005395637825131416, 0.010209426283836365, -0.02013469487428665, 0.0014681548345834017, -0.035722844302654266, -0.017360761761665344, 0.01236091647297144, -0.006982192397117615, -0.010480054654181004, 0.005733922589570284, -0.003228925634175539, -0.008592426776885986, 0.0044721211306750774, 0.008463878184556961, 0.008477410301566124, -0.006407108623534441, -0.026277940720319748, -0.03775255009531975, -0.017780233174562454, -0.008342096582055092, 0.02121720463037491, -0.009871141985058784, 0.002907555317506194, -0.028497086837887764, -0.016724785789847374, -0.015128083527088165, 0.007834669202566147, -0.023774635046720505, -0.023896418511867523, 0.018592117354273796, -0.020960109308362007, -0.015073957853019238, 0.014843924902379513, -0.007476087659597397, 0.013281050138175488, -0.004972782451659441, -0.034613270312547684, -0.005872619338333607, -0.027401044964790344, 0.007442259229719639, 0.0030225720256567, -0.004434910137206316, -0.030283229425549507, 0.03499215096235275, 0.02155548892915249, 0.04465355724096298, -0.011704644188284874, -0.0013226924929767847, 0.011116028763353825, 0.012753326445817947, 0.028875965625047684, -0.009654640220105648, -0.01014853548258543, -0.0033659308683127165, -0.009025431238114834, -0.003792169503867626, 2.508062607375905e-05, 0.006400343030691147, 0.03393670171499252, 0.0035147760063409805, -0.014207949861884117, 0.0120902881026268, 0.001389503595419228, 0.005314449779689312, -0.027698736637830734, 0.003971460275352001, -0.038916248828172684, -0.006380045786499977, -0.001047836267389357, 0.014505639672279358, -0.036182910203933716, 0.0034809475764632225, -0.01282774843275547, 0.0013226924929767847, 0.04971429333090782, 0.0050844163633883, 0.016048217192292213, 0.013517849147319794, 0.00340145081281662, -0.037157170474529266, -0.019606970250606537, 0.03937631845474243, -0.020405322313308716, -0.023138660937547684, 0.01649475283920765, 0.0063698976300656796, 0.014992769807577133, 0.023355163633823395, -0.014262075535953045, 0.00032285027555190027, 0.02422117069363594, 0.024207640439271927, 0.019769346341490746, -0.0007873572176322341, 0.00035519874654710293, -0.0012558812741190195, 0.0018250449793413281, 0.028415899723768234, 0.001101961825042963, 0.008599191904067993, 0.006336068734526634, 0.021163079887628555, -0.005507271736860275, 0.03290831670165062, -0.0010402249172329903, 0.04248853400349617, 0.008206781931221485, -0.009911736473441124, -0.0042150248773396015, -0.012178242206573486, 0.016603004187345505, -0.020161757245659828, 0.016548877581954002, 0.024248234927654266, -0.028848903253674507, 0.023233380168676376, 0.012929233722388744, 0.016657128930091858, 0.027617547661066055, 0.006853644270449877, -0.009404309093952179, 0.01234061922878027, -0.020865388214588165, -0.007638464216142893, -0.0012026014737784863, -0.00032433029264211655, -0.008646552450954914, 0.012685669586062431, -0.00771288713440299, 0.004022202920168638, -0.019431062042713165, 0.001896084751933813, -0.046683263033628464, 0.04181196540594101, -0.0189033392816782, 0.025601372122764587, 0.008227079175412655, 0.014965706504881382, -0.006197372451424599, -0.0074287280440330505, -0.02890302985906601, 0.008775100111961365, 0.014613891020417213, -0.007334008347243071, -0.016778912395238876, 0.0006296320352703333, 0.015331054106354713, 0.004580372478812933, -0.003032720647752285, 0.00022728490876033902, 0.01046652253717184, 0.007252819836139679, -0.0006486605852842331, -0.016088811680674553, -0.016224125400185585, 0.022313246503472328, -0.016684193164110184, -0.003467416390776634, 0.004695388954132795, -0.0029126296285539865, 0.017320167273283005, 0.03147399052977562, -0.009478732012212276, 0.018321489915251732, 0.015520493499934673, -0.007550510577857494, -0.014613891020417213, -0.01248946413397789, 0.006779221817851067, 0.0019248388707637787, -0.020094100385904312, -0.020432384684681892, 0.0008452884503640234, -0.007983514107763767, -0.012563887052237988, -0.013991447165608406, -0.021596083417534828, -0.0037718722596764565, -0.0003308845334686339, 0.01742841862142086, -0.02194789983332157, -0.012854811735451221, -0.018172644078731537, 0.05796843394637108, 0.020703012123703957, 0.004519481211900711, -0.01339606661349535, 0.023977605625987053, -0.015358117409050465, -0.020486509427428246, -0.030662108212709427, -0.0099387988448143, 0.0004926268011331558, 0.016183530911803246, 0.007699355483055115, 0.014965706504881382, 0.03261062875390053, 0.003299965523183346, 0.010216192342340946, 0.013727585785090923, -0.030662108212709427, -0.00434695603325963, -0.010804807767271996, -0.020540636032819748, 0.007124271709471941, 0.014573296532034874, 0.028009958565235138, -0.004837468732148409, -0.02232677862048149, 0.014465046115219593, 0.03274594247341156, -0.012442104518413544, -0.035046275705099106, -0.009904970414936543, 0.013172798790037632, -0.01464095339179039, 0.017333699390292168, 0.008085000328719616, -0.001660131267271936, 0.009417841210961342, 0.019011590629816055, -0.01663006655871868, -0.00023172488727141172, -0.005223113112151623, -0.010520648211240768, 0.015249866060912609, -0.008971305564045906, 0.0035959642846137285, -0.01870036870241165, 0.029092468321323395, 0.031068049371242523, -0.013260752893984318, -0.028009958565235138, 0.01067625917494297, -0.014018510468304157, -0.020648887380957603, -0.010588305070996284, 0.0191604346036911, 0.002741795964539051, 0.008267673663794994, -0.002968446584418416, -0.009438137523829937, -0.02637265995144844, -0.023531069979071617, -0.00795645173639059, -0.01054771151393652, -0.012333853170275688, -0.0019146903650835156, -0.01796967349946499, 0.002433957066386938, -0.01721191592514515, -0.0035756672732532024, -0.016738317906856537, 0.006779221817851067, -0.025208961218595505, -0.02587199956178665, -0.00926223024725914, 0.03307069465517998, 0.019146904349327087, 0.020310603082180023, -0.004008671268820763, -0.0008753112051635981, -0.0063529834151268005, -0.017063070088624954, -0.02409938909113407, -0.003964694682508707, -0.02501952275633812, 0.003130823140963912, 0.002998892217874527, 0.007313711103051901, -0.012651841156184673, -0.011988802812993526, -0.0010571391321718693, 0.0018943932373076677, -0.004637880716472864, 0.018713898956775665, 0.012157945893704891, 0.012421807274222374, 0.025709623470902443, 0.015141614712774754, 0.014397389255464077, 0.008112062700092793, -0.004201493691653013, -0.007137803360819817, -0.010473288595676422, 0.005574928596615791, 0.02008056826889515, -0.005842173472046852, 0.012327088043093681, -0.006941598374396563, -0.01759079471230507, -0.014451514929533005, -0.0046683261170983315, 0.0076249330304563046, -0.03420732915401459, 0.02075713872909546, -0.016318844631314278, 0.012726263143122196, 0.021907305344939232, 0.024654176086187363, 0.01253005862236023, -0.002921086736023426, -0.01949871890246868, -0.008057937026023865, -0.03675122931599617, 0.004110157024115324, 0.004397698678076267, 0.0031223660334944725, 0.014221481047570705, -0.0004672554787248373, 0.004698771983385086, -0.011461079120635986, 0.0009345109574496746, -0.023273974657058716, 0.019228091463446617, 0.00888335146009922, -0.02443767338991165, -0.02759048528969288, -0.010588305070996284, -0.01667066104710102, 0.006850261241197586, -0.016738317906856537, -0.02155548892915249, -0.013937322422862053, -0.00905249360948801, 0.011718175373971462, -0.01227972749620676, 0.004955868236720562, -0.026264410465955734, 0.005622288677841425, -0.0213119238615036, 0.005960572976619005, 0.02434295415878296, -0.005909830331802368, -0.013497551903128624, 0.01464095339179039, -0.03280006721615791, 0.003458959050476551, -0.06240672618150711, -0.01726604253053665, -0.0074287280440330505, 0.024911271408200264, 0.03547928109765053, 0.020242946222424507, 0.024031732231378555, 0.022638000547885895, -0.008057937026023865, -0.014465046115219593, -0.022840971127152443, 0.012990125454962254, 0.012212070636451244, -0.010283849202096462, 0.02227265201508999, 0.0232063177973032, -0.022583873942494392, -0.0004964325344190001, 0.01822676882147789, 0.01164375338703394, 0.03209643438458443, -0.004005288705229759, -0.01430266909301281, 0.01464095339179039, -0.028118208050727844, -0.002745178760960698, -0.009471965953707695, 0.014478577300906181, 0.011521970853209496, -0.03675122931599617, -0.006988957989960909, 0.026521505787968636, 0.025750217959284782, -0.0020364727824926376, 0.017184853553771973, 0.03147399052977562, 0.002532059559598565, 0.048929471522569656, -0.0028990982100367546, -0.001426714938133955, -0.024058794602751732, -0.010798041708767414, 0.0033557824790477753, -0.0018504163017496467, 0.022840971127152443, 0.016887163743376732, 0.03169049322605133, -0.02097363956272602, 0.010608602315187454, 0.00943137239664793, 0.008917179889976978, 0.008436815813183784, 0.0018233535811305046, -0.014789799228310585, -0.007144568953663111, -0.02075713872909546, -0.039213940501213074, -0.03358488529920578, -0.04468061774969101, -0.007706121075898409, -0.00470553757622838, -0.015006300993263721, 0.014018510468304157, -0.015520493499934673, -0.003093611914664507, 0.02527661807835102, 0.010899526998400688, 0.05666942149400711, -0.0015341202961280942, 0.052258193492889404, 0.030229104682803154, -0.0007277345866896212, -0.026183221489191055, 0.00907279085367918, -0.01037856936454773, 0.0030242635402828455, 0.014126760885119438, 0.02754989080131054, -0.009668171405792236, -0.02123073674738407, 0.018849212676286697, -0.006197372451424599, -0.014437982812523842, -0.014952175319194794, -0.004908508155494928, -0.005033673718571663, 0.020608292892575264, -0.006028229836374521, -0.002992126625031233, -0.008200016804039478, 0.010040284134447575, -0.019985849037766457, -0.012841280549764633, -0.012672137469053268, -0.005635819863528013, -0.010243254713714123, 0.031040986999869347, -0.0026183221489191055, 0.01667066104710102, -0.011650518514215946, -0.0014038807712495327, 0.003215394215658307, -0.011765534989535809, 0.014235012233257294, -0.00017749365360941738, -0.001447012065909803, 0.03810436651110649, -0.0020297071896493435, -0.004299595952033997, -0.004380784463137388, 0.010060581378638744, -0.015939965844154358, -0.006146629806607962, -0.02155548892915249, 0.028199397027492523, 0.009607280604541302, -0.000552672310732305, -0.00928252749145031, -0.004533012397587299, 0.016048217192292213, 0.004695388954132795, -0.012746560387313366, -0.01848386600613594, 0.005277238320559263, 0.007794075179845095, 0.021000701934099197, 0.014437982812523842, 0.005936893168836832, 0.013869665563106537, -0.013362238183617592, 0.014194418676197529, -0.017699046060442924, 0.0036873011849820614, 0.017563732340931892, -0.037779614329338074, -0.0025033054407685995, -0.0072325230576097965, 0.020946577191352844, 0.025466058403253555, 0.020865388214588165, -0.0053279809653759, -0.010026752948760986, 0.017320167273283005, -0.02882184088230133, 0.02093304507434368, 0.03025616705417633, 0.017861422151327133, 0.004827320110052824, 0.011122794821858406, 0.010080878622829914, -0.010243254713714123, 0.01539871096611023, -0.001602622913196683, -0.024207640439271927, -0.007455790881067514, 0.02767167240381241, 0.016589472070336342, 0.017577262595295906, -0.021406644955277443, -0.0005150381475687027, 0.018578585237264633, 0.002217455068603158, -0.027319857850670815, -0.008260907605290413, -0.009850844740867615, -0.010791275650262833, -0.004306362010538578, 0.027739331126213074, -0.01704953983426094, 0.0010537562193349004, -0.00033469023765064776, 0.008105296641588211, 0.020324133336544037, -0.03201524540781975, -0.004160899668931961, -0.010283849202096462, 0.026602694764733315, 0.007604635786265135, 0.01569640077650547, 0.009235166944563389, -0.035587530583143234, -0.015276928432285786, -0.0025269852485507727, -0.022353840991854668, 0.016481220722198486, -0.009438137523829937, 0.016427095979452133, -0.012733029201626778, 0.0033321024384349585, -0.004624349530786276, -0.017063070088624954, -0.009079555980861187, -0.014086167328059673, -0.03047266975045204, -0.004560075234621763, -0.029254844412207603, 0.021799053996801376, 0.039646945893764496, -0.017699046060442924, -0.026927446946501732, 0.009526091627776623, -0.017617857083678246, -0.022597406059503555, -0.014668016694486141, -0.006166926585137844, 0.0170089453458786, -0.011001012288033962, -0.009539623744785786, 0.00835562776774168, 0.006403726059943438, -0.002203923650085926, -0.02008056826889515, -0.0029870523139834404, -0.00830826722085476, 0.012618012726306915, 0.01932281069457531, 0.018456803634762764, -0.011082200333476067, 0.012631543911993504, 0.01894393190741539, 0.007564041763544083, 0.0009531166288070381, 0.01615646854043007, 0.002954915165901184, -0.009986158460378647, 0.014329732395708561, -0.001487606205046177, -0.011332531459629536, 0.012124117463827133, -0.0010825104545801878, -0.04860471934080124, 0.0073610711842775345, 0.008835991844534874, 0.0006917918217368424, -0.008951008319854736, 0.01589937135577202, 0.019891129806637764, 0.008605957962572575, -0.01286834292113781, -0.017861422151327133, -0.04173077642917633, 0.019485188648104668, -0.025493120774626732, 0.035722844302654266, 0.006508593913167715, -0.002021250082179904, 0.021582551300525665, 0.031149238348007202, -0.015980560332536697, -0.0033659308683127165, 0.021366050466895103, -0.005662882700562477, 0.014140293002128601, -0.01286834292113781, -0.002576036611571908, 0.0015916286502033472, 0.006325920578092337, 0.010135004296898842, -0.01713072694838047, -0.012069991789758205, -0.04771164804697037, 0.0020466214045882225, -0.027536358684301376, 0.0037651066668331623, 0.03675122931599617, -0.0009793336503207684, 0.016264719888567924, 0.01105513796210289, -0.013084844686090946, -0.01379524264484644, 0.025628434494137764, 0.0016846568323671818, -0.001599240000359714, 0.005561397410929203, 0.027982894331216812, 0.0016271484782919288, -0.009688468649983406, -0.005733922589570284, -0.0021210438571870327, -0.0016415256541222334, 0.013382535427808762, 0.20827500522136688, 0.0012195156887173653, -0.012563887052237988, 0.016521815210580826, -0.020743606612086296, -0.022042619064450264, 0.013714054599404335, 0.02300334721803665, -0.003458959050476551, 0.023693447932600975, 0.005304301157593727, 0.029444284737110138, 0.015926435589790344, 0.005395637825131416, 0.013497551903128624, 0.006884089671075344, 0.005551248788833618, -0.002291877521201968, -0.020878920331597328, -0.0026521505787968636, 0.04708920419216156, -0.00037169011193327606, 0.0017438567010685802, -0.028172334656119347, 0.01902512088418007, -0.022462092339992523, -0.015466367825865746, -0.010980715043842793, 0.0033794622868299484, 0.026656819507479668, -0.0021836266387254, 0.013802007772028446, -0.0047021545469760895, 0.007760246749967337, -0.033774327486753464, 0.0032576799858361483, 0.024965398013591766, -0.013856133446097374, 0.013856133446097374, 0.01936340518295765, -0.028199397027492523, -0.00559184281155467, 0.010513883084058762, 0.00623458344489336, 0.002894024131819606, 0.003195097204297781, -0.01035827212035656, -0.018213238567113876, 0.015980560332536697, 0.0191604346036911, 0.0022259121760725975, -0.0024187343660742044, 0.004076328594237566, 0.03929512947797775, 0.0026859790086746216, -0.002954915165901184, 0.010973949916660786, 0.015723465010523796, -0.0010867390083149076, -0.0032272343523800373, -0.03393670171499252, 0.016278250142931938, -0.016440628096461296, -0.00818648561835289, -0.010568007826805115, 0.02298981510102749, -0.01181289553642273, -0.0006414719973690808, 0.027062760666012764, -0.0027231902349740267, 0.023693447932600975, -0.016521815210580826, -0.010385334491729736, -0.0108859958127141, -0.010649196803569794, -0.0006029921351000667, 0.03997169807553291, -0.010371803306043148, 0.026440316811203957, 0.042975664138793945, -0.002640310674905777, 0.021704334765672684, -0.040025822818279266, -0.02093304507434368, 0.006241349503397942, -0.02539840154349804, 0.01902512088418007, 0.002298643346875906, 0.0037143640220165253, -0.005997784435749054, 0.007117506116628647, 0.020648887380957603, -0.01750960573554039, -0.010770979337394238, 0.033395446836948395, -0.009045727550983429, -0.006583016831427813, -0.0032170857302844524, -0.004570223856717348, 0.02093304507434368, -0.021108953282237053, 0.059592198580503464, 0.014708610251545906, -0.01554755587130785, 0.002961680991575122, -0.009526091627776623, 0.006312388926744461, 0.00012357956438791007, 0.018077924847602844, -0.01687363162636757, -0.01052741426974535, -0.017360761761665344, 0.009302823804318905, -0.014275606721639633, -0.0217719916254282, 0.024708300828933716, 0.024194108322262764, 0.01949871890246868, -0.002819601446390152, 0.015439305454492569, 0.008423284627497196, -0.019133372232317924, 0.012144413776695728, 0.019674627110362053, -0.010838636197149754, -0.012969828210771084, -0.015561087988317013, -0.014262075535953045, 0.0018656391184777021, -0.028199397027492523, 0.028280586004257202, 0.006934832781553268, 0.016927756369113922, -0.0021954665426164865, 0.005693328566849232, -0.015371648594737053, 0.014776268042623997, -0.009722297079861164, -0.0036670041736215353, 0.005131775978952646, -0.03910569101572037, 0.016900693997740746, 0.002907555317506194, -0.005980870220810175, -0.008592426776885986, -0.00043067848309874535, 0.014437982812523842, 0.015358117409050465, -0.05055323615670204, 0.005754219368100166, -0.011461079120635986, 0.009586983360350132, 0.02675153873860836, -2.5252409614040516e-05, 0.005835407879203558, -0.011461079120635986, -0.015939965844154358, -0.010723618790507317, 0.006975426804274321, 0.006136481184512377, -0.01902512088418007, 0.002579419407993555, 0.005764367990195751, -0.010723618790507317, -0.007388134021311998, 0.011745238676667213, -0.17330992221832275, -0.004617583472281694, -0.0005285695660859346, -0.03577696904540062, 0.01501983217895031, 0.02045944705605507, 0.027414577081799507, 0.0003139703185297549, -0.01269920077174902, 0.019444594159722328, -0.0036974498070776463, -0.00021967350039631128, -0.026480911299586296, 0.0106559619307518, -0.0033084226306527853, 0.0022665061987936497, -0.026318535208702087, 0.0034707991871982813, 0.009113384410738945, 0.00892394594848156, 0.02451886236667633, -0.05775193125009537, 0.010743916034698486, -0.0028652697801589966, 0.004908508155494928, 0.028091145679354668, 0.012773623690009117, 0.01569640077650547, 0.006400343030691147, -0.01415382418781519, -0.031501054763793945, 0.007699355483055115, 0.03152811527252197, 0.0008249913807958364, 0.01924162358045578, 0.004938954021781683, 0.0018115135608240962, -0.013571974821388721, -0.0022698889952152967, 0.005449763499200344, 0.04468061774969101, -0.0072325230576097965, 0.010946886613965034, 0.03231293708086014, -0.001196681521832943, 0.007009255234152079, 0.023152193054556847, 0.012347384355962276, 0.00854506716132164, -0.01542577426880598, -0.016548877581954002, -0.0210548285394907, 0.01162345614284277, -0.004945719614624977, 0.01027708314359188, 0.01776670292019844, 0.011535502038896084, 0.01619706302881241, -0.007794075179845095, -0.0198775976896286, -0.005635819863528013, -0.004005288705229759, 0.01468154788017273, -0.019512251019477844, 0.0036636213771998882, -0.005409169476479292, 0.017712576314806938, -0.019390467554330826, -0.012333853170275688, 0.0118331927806139, -0.002609865041449666, 0.01230002474039793, -0.004380784463137388, -0.023937013000249863, -0.009005133993923664, 0.013592272065579891, -0.03041854314506054, 0.0315551795065403, -0.008741271682083607, -0.03907862678170204, -0.016305314376950264, 0.05434202402830124, -0.0038361463230103254, 0.002312174765393138, -0.007983514107763767, -0.013680226169526577, 0.021528426557779312, -0.006004550028592348, 0.014898049645125866, -0.010689790360629559, 0.006146629806607962, -0.02637265995144844, 0.004834085702896118, -0.03033735603094101, 0.022096743807196617, 0.01995878666639328, 0.005754219368100166, 0.03834793344140053, 0.011231046169996262, 0.014045572839677334, -0.006278560496866703, 0.0004676783282775432, -0.0101688327267766, 0.018510928377509117, 0.027982894331216812, 0.015331054106354713, -0.03477564826607704, -0.0036264099180698395, 0.02300334721803665, 0.004908508155494928, -0.02442414127290249, -0.015358117409050465, 0.007171631790697575, -0.011664049699902534, -0.010480054654181004, 0.021501364186406136, 0.01248946413397789, -0.007550510577857494, 0.0038530605379492044, -0.015967028215527534, 0.06489650160074234, -0.013707288540899754, -0.04860471934080124, -0.011907614767551422, -0.00812559388577938, -0.02557430975139141, -0.10565301775932312, -0.031582243740558624, -0.007476087659597397, 0.04091889411211014, 0.009126916527748108, 0.0184432715177536, -0.006501828320324421, -0.00812559388577938, -0.01784789189696312, 0.033178944140672684, -0.01069655641913414, -0.04359810799360275, -0.030364418402314186, 0.011197217740118504, -0.008802163414657116, -0.0030817720107734203, 0.015303991734981537, -0.015276928432285786, -0.026981573551893234, 0.008436815813183784, -0.021190142259001732, -0.012996891513466835, 0.010933355428278446, -0.005070884712040424, -0.017455480992794037, -0.005862470716238022, -0.021528426557779312, 0.0232063177973032, 0.0030174979474395514, 0.0016144628170877695, 0.0021548722870647907, -0.011894083581864834, -0.006975426804274321, -0.02527661807835102, -0.020094100385904312, -0.011210748925805092, -0.0008710826514288783, -0.005832024849951267, 0.024315891787409782, -0.00926223024725914, 0.010114707052707672, 0.015967028215527534, 0.004563458263874054, 0.013768179342150688, -0.00941107515245676, -0.0004010785778518766, -0.009877908043563366, 0.03003966435790062, 0.011305468156933784, -0.0170089453458786, -0.004482269752770662, -0.015709932893514633, -0.02298981510102749, -0.008720974437892437, 0.023734042420983315, 0.019823472946882248, 0.007733183912932873, 0.008876585401594639, -0.030202042311429977, 0.020364727824926376, 0.0034640333615243435, 0.013294581323862076, -0.038753874599933624, 0.00417781388387084, -0.0065187425352633, -0.003205245826393366, -0.02506011724472046, -0.006285326089709997, 0.0029363096691668034, -0.015872308984398842, -7.442259084200487e-05, 0.005331363994628191, -0.012144413776695728, -0.003066549077630043, -0.02328750677406788, -0.007334008347243071, -0.020229414105415344, -0.01649475283920765, 0.010967183858156204, -0.02814527228474617, -0.0035452216397970915, -0.027874644845724106, 0.025669028982520103, -0.0232063177973032, 0.015764057636260986, 0.016264719888567924, 0.0019316045800223947, -0.004079711157828569, 0.010229723528027534, -0.012374447658658028, 0.01156256441026926, 0.02198849432170391, 0.014424451626837254, -0.015128083527088165, -0.0167518500238657, 0.018132049590349197, -0.03810436651110649, -0.027198074385523796, 0.015980560332536697, 0.002850047079846263, -0.04792815074324608, 0.0042319390922784805, -0.03553340584039688, 0.030147915706038475, -0.004678474739193916, -0.01894393190741539, -0.016657128930091858, -0.0236663855612278, 0.003181565785780549, -0.011860255151987076, -0.004604052286595106, 0.021366050466895103, -0.016819506883621216, 0.030445605516433716, -0.013463723473250866, -0.010784510523080826, -0.009147212840616703, -0.011724941432476044, 0.022556811571121216, -0.004928805399686098, 0.007097209338098764, -0.0027333388570696115, -0.007367836777120829, 0.01067625917494297, 0.004218407906591892, 0.025709623470902443, -0.004103390965610743, -0.0035858158953487873, -0.0368865430355072, 0.015371648594737053, -0.027658142149448395, -0.0021210438571870327, 0.014248543418943882, -0.04013407602906227, 0.006606696639209986, 0.010919824242591858, 0.005862470716238022, -0.03277300298213959, 0.008802163414657116, 0.027874644845724106, 0.044112302362918854, 0.03851030766963959, -0.029931413009762764, -0.03940337896347046, -0.004475504159927368, 0.012766857631504536, -0.00040382714360021055, -0.0028652697801589966, -0.000293250399408862, 0.003873357782140374, 0.0043266587890684605, -0.00568656250834465, 0.023747572675347328, 0.0035587530583143234, 0.003775255288928747, -0.016088811680674553, -0.01128517184406519, 0.009762890636920929, 0.003053017659112811, -0.0018808619352057576, 0.010331208817660809, -0.01966109685599804, 0.03537102788686752, 0.005710242781788111, 0.01653534732758999, 0.010730384849011898, -0.0017024168046191335, 0.0031189832370728254, -0.012442104518413544, 0.0017945993458852172, -0.003974842838943005, -0.028470024466514587, -0.022313246503472328, -0.010770979337394238, 0.02083832584321499, 0.029173657298088074, 0.004509332589805126, -0.0220290869474411, -0.032475315034389496, -0.013213393278419971, -0.012902171351015568, -0.013504317961633205, 0.0034065251238644123, 0.02037825994193554, -0.023071004077792168, 0.0004697926342487335, 0.031203363090753555, 0.005172370001673698, -3.35905933752656e-05, 0.02017528936266899, 0.016400033608078957, -0.002576036611571908, 0.011312234215438366, 0.014424451626837254, -0.005500506144016981, -0.009783187881112099, 0.007334008347243071, 0.006312388926744461, -0.005470060743391514, 0.027225138619542122, 0.013693757355213165, 0.01595349796116352, -0.00048120971769094467, -0.0070701465010643005, -0.02123073674738407, -0.017739640548825264, -0.02227265201508999, 0.030770359560847282, -0.016359439119696617, -0.02003997378051281, -0.0026825962122529745, 0.028957154601812363, -0.007293414324522018, 0.013551677577197552, 0.010540945455431938, 0.006928066723048687, -0.006099269725382328, 0.04256972298026085, -0.016386501491069794, -0.022164400666952133, -0.016427095979452133, 0.005585077218711376, 0.008700678125023842, 0.006265029311180115, -0.0035621358547359705, -0.006961895152926445, 0.0006347063463181257, 0.0074625564739108086, 0.02067594975233078, -0.023612258955836296, 0.014627422206103802, 0.013551677577197552, 0.011806129477918148, -0.026575632393360138, 0.01324722170829773, 0.014965706504881382, -0.015303991734981537, 0.016481220722198486, 0.0030141149181872606, 0.007313711103051901, 0.012049694545567036, 0.07501797378063202, 0.0010317678097635508, -0.0011772301513701677, 0.011427250690758228, -0.0517439991235733, 0.008287970907986164, 0.0075911046005785465, -0.010669494047760963, -0.007564041763544083, -0.04156840220093727, 0.010452991351485252, 0.005514037795364857, 0.020567698404192924, -0.03274594247341156, -0.008633021265268326, 0.015141614712774754, -0.0077196527272462845, 0.02181258611381054, -0.013145736418664455, -0.027265731245279312, 0.0177261084318161, -0.022042619064450264, 0.036182910203933716, 0.015939965844154358, 0.005930127575993538, 0.0015425774035975337, 0.01615646854043007, 0.005838790908455849, 0.0028517383616417646, -0.035506341606378555, -0.005845556501299143, -0.00016755654360167682, -0.03599347174167633, -0.007692589890211821, -0.005280621349811554, -0.0241805762052536, 0.007577572949230671, -0.017496075481176376, 0.007503150496631861, 0.019336342811584473, -0.012570652179419994, 0.0020347812678664923, -0.03409907966852188, -0.009668171405792236, 0.01911984011530876, -0.013145736418664455, 0.016264719888567924, -0.018673304468393326, -0.035343967378139496], [-0.022751564159989357, 0.01160111278295517, 0.016032615676522255, -0.020129535347223282, -0.01616917923092842, -0.012577545829117298, -0.004038880579173565, -0.011963007040321827, -0.023079317063093185, -0.013642745092511177, 0.00562985148280859, 0.010979746468365192, -0.0028490666300058365, 0.010413005948066711, -0.002386456122621894, -0.01289847120642662, 0.007872914895415306, 0.016360368579626083, -0.009163444861769676, 0.0003023612662218511, 0.002794441068544984, 0.0077568357810378075, -0.012557060457766056, -0.013048691675066948, 0.005674234591424465, -0.0036667436361312866, 0.01719340868294239, -0.021768303588032722, -0.0014347756514325738, 0.01693393662571907, 0.02535993605852127, -0.002062116516754031, -0.025250686332583427, -0.005257714539766312, -0.02484099380671978, -0.02578328549861908, 0.014025123789906502, -0.003847690997645259, 0.0067428480833768845, -0.009559480473399162, 0.013048691675066948, 0.020334381610155106, -0.009559480473399162, 0.0035404220689088106, 0.00047626698506064713, -0.008610361255705357, 0.04880797863006592, -0.027353771030902863, -0.001494522439315915, 0.0065072751604020596, 0.028733067214488983, 0.011266530491411686, -0.02011587843298912, -0.0024308394640684128, -0.010897807776927948, -0.028896944597363472, -0.009921375662088394, 0.008863003924489021, 0.017930854111909866, -0.013881731778383255, -0.008596704341471195, 0.0013434484135359526, -0.003228031797334552, 0.011935694143176079, 0.025237029418349266, -0.010686133988201618, 0.006029300857335329, 0.008132386952638626, 0.006203419994562864, -0.018285920843482018, 0.024718085303902626, 0.016455963253974915, -0.023789450526237488, -0.02854187786579132, 0.02974364161491394, -0.013827105984091759, 0.007483707740902901, -0.0007246427703648806, 0.008999568410217762, 0.004069607704877853, 0.012174681760370731, -0.008664986118674278, -0.02957976423203945, 0.037254661321640015, 0.005199674516916275, 0.0005582054145634174, -0.00855573546141386, 0.014598692767322063, -0.005206502974033356, 0.005704961717128754, 0.01806741952896118, 0.004933374933898449, 0.011744504794478416, 0.019364776089787483, -0.02269693836569786, -0.0015525621129199862, -0.011266530491411686, 0.038210611790418625, -0.0032963138073682785, -0.013608603738248348, -0.012748250737786293, 0.011744504794478416, -0.00914978887885809, -0.01555464044213295, -0.0065721431747078896, 0.00659945560619235, -0.0047148726880550385, 0.004882163368165493, 0.01453041099011898, -0.008446483872830868, -0.015185917727649212, 0.016633495688438416, -0.01112313847988844, -0.02294275350868702, -0.01242049690335989, 0.020948918536305428, 0.009204414673149586, -0.008152871392667294, 0.0126389991492033, -0.041570086032152176, 0.018012793734669685, -0.006968178786337376, -0.0033219195902347565, -0.02002028375864029, 0.018176669254899025, 0.03646259009838104, -0.03624408692121506, -0.020156847313046455, -0.0013135750778019428, -0.0112528745085001, 0.0024359605740755796, 0.018777551129460335, 0.006619940511882305, 0.012516091577708721, -0.0024479099083691835, 0.0015235422179102898, -0.007435910403728485, 0.022123370319604874, -0.01805376261472702, -0.014707944355905056, -0.0016046271193772554, 0.025223372504115105, -0.04268990829586983, -0.008023135364055634, 0.0016165764536708593, 0.02021147310733795, 0.008822035044431686, 0.01743922382593155, 0.0031478004530072212, -0.004475885536521673, 0.02451324090361595, -0.033567432314157486, -0.013410585932433605, 0.022847158834338188, 0.022997379302978516, 0.015158604830503464, 0.015540984459221363, 0.02837800234556198, -0.02519606053829193, -0.029279323294758797, -0.000545829301699996, 0.008268950507044792, 0.014885476790368557, 0.006001988425850868, 0.0390026830136776, 0.011170935817062855, 0.0015790213365107775, 0.011894725263118744, 0.0064936187118291855, 0.005008485168218613, -0.02542821876704693, 0.010023798793554306, -0.03427756577730179, 0.019050680100917816, -0.012604857794940472, 0.011963007040321827, -0.010372037068009377, 0.018545392900705338, -0.02414451725780964, -0.03840180113911629, -0.028760381042957306, -0.014694287441670895, 0.011485033668577671, -0.00807093270123005, 0.0010105737019330263, -0.01168987900018692, 0.01883217692375183, -0.027804432436823845, 0.014707944355905056, -0.029006196185946465, 0.007838774472475052, 0.022109713405370712, -0.019296495243906975, -0.0031887695658951998, -0.6598773002624512, -0.03211985528469086, 0.01683834195137024, -0.03479650989174843, 0.0034806751646101475, 0.02242381125688553, 0.025237029418349266, 0.003581391181796789, -0.0014219727599993348, 0.010672477073967457, 0.0021918523125350475, 0.001992127625271678, 0.008412343449890614, -0.0003247662971261889, -0.041051141917705536, -0.023762138560414314, 0.007961682043969631, 0.001614015898667276, 0.02303834818303585, 0.017002219334244728, -0.029443200677633286, 0.027927340939641, 0.02837800234556198, 0.017466537654399872, 0.01581411249935627, -0.002929297974333167, 0.03009870834648609, -0.040259070694446564, -0.010727102868258953, 0.0007583569968119264, -0.01907799206674099, 0.02974364161491394, -0.009450229816138744, 0.001512446440756321, 0.048261720687150955, -0.003912558779120445, -0.009914547204971313, 0.014557723887264729, -0.0010421541519463062, 0.024363020434975624, -0.00732665928080678, -0.017507506534457207, 0.033294305205345154, -0.00014541934069711715, -0.027476679533720016, 0.016688121482729912, -0.0024922932498157024, -0.014038780704140663, -0.0033475253731012344, -0.028951570391654968, 0.004451986867934465, 0.036926910281181335, 0.0006516663706861436, 0.021181078627705574, 0.022915441542863846, 0.00359846162609756, 0.0225057490170002, -0.004929960705339909, -0.005271370988339186, 0.009265867993235588, -0.014134375378489494, -0.004093506373465061, -0.0037759949918836355, -0.014557723887264729, -0.007804633118212223, 0.003834034549072385, -0.009805295616388321, 0.0017736251465976238, 0.006903310772031546, -0.004793396685272455, 0.009614106267690659, 0.02157711423933506, 0.01805376261472702, 0.01778063364326954, -0.012748250737786293, 0.010829525999724865, 0.0260427575558424, -0.0022362356539815664, 0.003642844967544079, 0.0061248959973454475, -0.01104120071977377, -0.010167190805077553, -0.024089891463518143, 0.01100705936551094, 0.009853092953562737, -0.026261258870363235, -0.018886802718043327, -0.003134144004434347, -0.009422916918992996, -0.003670157864689827, -0.01597798988223076, -0.011102654039859772, -0.01571851782500744, -0.03698153421282768, -0.023611918091773987, 0.01993834599852562, -0.004568065982311964, 0.044984184205532074, -0.01112313847988844, -0.018941428512334824, -0.008753753267228603, 0.021768303588032722, 0.013376444578170776, -0.032775361090898514, -0.004066193476319313, -0.004868506919592619, 0.004079849924892187, -0.003554078284651041, 0.0288696326315403, -0.012748250737786293, 0.02347535267472267, -0.004301766399294138, -0.016865655779838562, -0.008746924810111523, -0.01899605430662632, -0.03810136020183563, 0.007278861943632364, 0.0036872283089905977, -0.0014689166564494371, -0.010727102868258953, 0.019474027678370476, -0.0027142097242176533, 0.007278861943632364, 0.005168947856873274, 0.011546486988663673, 0.01917358674108982, 0.029634390026330948, -0.0025161919184029102, -0.013028206303715706, -0.011778646148741245, -0.02073041722178459, -0.01392952911555767, 0.012174681760370731, -0.00902688130736351, 0.012734593823552132, 0.009723357856273651, 0.022287245839834213, -0.005646921694278717, -0.007517848629504442, -0.046622954308986664, -0.010508600622415543, 0.004421259742230177, 0.0013306456385180354, -0.020074909552931786, -0.007449566852301359, -0.034414131194353104, -0.026957735419273376, 0.016701778396964073, -0.007476879749447107, -0.013827105984091759, -0.011546486988663673, -0.0015295168850570917, 0.005267956759780645, -0.002068944741040468, 0.0007007441017776728, 0.017862573266029358, -0.01615552231669426, -0.023270508274435997, -0.025059495121240616, -0.009081507101655006, -0.007886571809649467, 0.02131764218211174, -0.025660376995801926, 0.020689448341727257, -0.026315884664654732, -0.025250686332583427, -0.01418900117278099, 0.013779308646917343, -0.0067428480833768845, -0.017425566911697388, -0.0001601426483830437, -0.03162822499871254, -0.0012674847384914756, 0.015158604830503464, 0.0002564842870924622, 0.004639762453734875, -0.010112565010786057, -0.019788125529885292, -0.013977326452732086, -0.016483275219798088, 0.006162451114505529, 0.006141966208815575, -0.012809704057872295, -0.018545392900705338, 0.03310311585664749, 0.024731742218136787, 0.04995511472225189, -0.025660376995801926, -0.008091418072581291, 0.01872292533516884, -0.0026595841627568007, 0.029361262917518616, -0.0241581741720438, -0.004547581542283297, 0.007101328577846289, -0.022369185462594032, 0.012181510217487812, 0.0004634641227312386, 0.006541416049003601, 0.021727334707975388, -0.0059815035201609135, -0.0026851899456232786, 0.02587888017296791, -0.007565646432340145, -0.008719611912965775, -0.04075070098042488, 0.01976081170141697, -0.03059033863246441, 0.002094550523906946, 0.0037759949918836355, 0.008241637609899044, -0.03695422038435936, -0.013403757475316525, -0.007654412649571896, -0.009641419164836407, 0.03561589494347572, 0.0013349131913855672, 0.017575787380337715, 0.010201331228017807, -0.007333487272262573, -0.024199143052101135, -0.016032615676522255, 0.03621677681803703, -0.022546717897057533, -0.04200708866119385, 0.006135138217359781, -0.0053464812226593494, 0.013062347657978535, 0.020129535347223282, -0.023243194445967674, 0.0032468093559145927, 0.03151897341012955, 0.012700453400611877, 0.01840882934629917, -0.007620271760970354, 0.007128641474992037, 0.0069920774549245834, 0.00685892766341567, 0.015295169316232204, 0.021385924890637398, 0.009416088461875916, 0.013130629435181618, 0.013185255229473114, -0.0012282226234674454, -0.0036155323032289743, -0.005271370988339186, 0.031054656952619553, 0.017425566911697388, 0.0028183397371321917, 0.00345848361030221, -0.011922038160264492, 0.00794802512973547, -0.013915873132646084, 0.019897377118468285, 0.016619840636849403, -0.03463263437151909, 0.02391235902905464, 0.0012401719577610493, 0.021768303588032722, 0.034250255674123764, -0.011485033668577671, 0.005073353182524443, 0.01147137675434351, -0.0273401141166687, 0.011150451377034187, -0.00767489755526185, 0.013984154909849167, -0.011867412365972996, -0.003796479431912303, -0.010815870016813278, -0.0057971421629190445, -0.016892967745661736, 0.006401437800377607, -0.055062610656023026, 0.010494944639503956, -0.0014270938700065017, 0.017917199060320854, -0.005674234591424465, 0.019719842821359634, -0.010214988142251968, -0.0028302890714257956, -0.025988131761550903, 0.017848916351795197, -0.009477542713284492, -0.0016225511208176613, -0.002386456122621894, -0.00024794903583824635, 0.019870063289999962, -0.0005325996316969395, 0.002533262362703681, 0.0031802344601601362, 0.016797373071312904, -0.012051774188876152, 0.015117635950446129, -0.01743922382593155, -0.0007229357142932713, 0.02235552854835987, -0.0018521493766456842, 0.011539658531546593, 0.00044639362022280693, 0.004871921148151159, 0.026233946904540062, 0.016346711665391922, -0.0031631640158593655, 0.015022041276097298, 0.01625111699104309, -0.004045709036290646, -0.022710595279932022, -0.02198680490255356, -0.002789319958537817, -5.41721674380824e-05, -0.01984275132417679, -0.0054147629998624325, 0.0024991214741021395, 0.005114322062581778, -0.012598030269145966, -0.009061021730303764, -0.025414561852812767, 0.0269850492477417, 0.0030914677772670984, 0.012946268543601036, -0.002948075532913208, -0.004851436708122492, -0.011669394560158253, 0.05631899833679199, 0.02372116781771183, 0.007777320221066475, -0.017766978591680527, 0.009982828982174397, -0.01509032305330038, -0.01216785330325365, -0.013424241915345192, -0.007149125915020704, -0.009900891222059727, -0.0118127865716815, 0.009422916918992996, 0.03831985965371132, 0.025769628584384918, -0.013431070372462273, 0.02398063987493515, -0.009696044959127903, -0.025291655212640762, 0.0007737205014564097, -0.009996485896408558, -0.013997810892760754, 0.014161688275635242, 0.005698133260011673, 0.03007139451801777, -0.0019699358381330967, -0.016892967745661736, 0.03359474614262581, 0.02123570442199707, -0.00474559934809804, -0.03796479478478432, -0.006848684977740049, 0.011403094977140427, -0.013424241915345192, 0.01533613819628954, 0.01100023090839386, -0.0026459277141839266, 0.014981072396039963, 0.0024683945812284946, -0.023584604263305664, 0.016018958762288094, 0.00011031811300199479, -0.00610099732875824, 0.017152439802885056, 0.0026305641513317823, 0.014216313138604164, -0.02802293561398983, -0.0023574363440275192, 0.025223372504115105, -0.005885908845812082, -0.019105305895209312, 0.02535993605852127, -0.00877423770725727, -0.01563658006489277, -0.002500828355550766, 0.02198680490255356, 0.020607508718967438, 0.003789651207625866, -0.012379528023302555, -0.0006106971995905042, -0.017248034477233887, -0.02930663712322712, 0.0005321728531271219, -0.026534387841820717, 0.0037350256461650133, -0.003202426014468074, -0.02740839682519436, -0.011655738577246666, -0.012953096069395542, -0.02115376479923725, -0.01565023511648178, -0.00876740925014019, -0.02365288697183132, -0.022041430696845055, -0.004673903342336416, 0.026848483830690384, 0.03220179304480553, 0.01631939969956875, -0.00794802512973547, -0.0014211192028596997, -0.004120818804949522, -0.0022772049997001886, -0.0245678648352623, -0.018709270283579826, -0.018012793734669685, -0.003946700133383274, 0.01631939969956875, 0.013888560235500336, -0.028896944597363472, -0.02508680894970894, -0.012877985835075378, 0.0066916365176439285, -0.0025878879241645336, 0.0207986980676651, 0.0017821603687480092, -0.007531505078077316, 0.01031741127371788, 0.0024137687869369984, 0.021344954147934914, 0.0018538564909249544, -0.011635254137217999, 0.001047275261953473, -0.004605621099472046, 0.0025878879241645336, 0.029852893203496933, -0.013594947755336761, 0.014516754075884819, -0.004646590445190668, -0.010727102868258953, 0.011990319937467575, -0.006828200537711382, -0.002661291277036071, -0.037855543196201324, 0.020771386101841927, -0.00029190556961111724, 0.016811029985547066, -0.0040866779163479805, 0.0072447205893695354, 0.01525420043617487, -0.015882395207881927, 0.0017147319158539176, -0.00319218379445374, -0.024171829223632812, 0.008159699849784374, 0.009737013839185238, -0.0026066654827445745, 0.0033338689245283604, 0.018340546637773514, 0.0018350789323449135, -0.023256851360201836, -0.004325665067881346, -0.025223372504115105, 0.02837800234556198, -0.005694719031453133, -0.029716329649090767, -0.034004438668489456, -0.0139636704698205, 0.007251549046486616, 0.01969253085553646, -0.009306837804615498, -0.013567634858191013, -0.01865464448928833, 0.010829525999724865, -0.005421591456979513, -0.00936146266758442, -0.001729241805151105, -0.031764790415763855, -0.00019705759768839926, -0.01513129286468029, -0.0027995621785521507, 0.010768072679638863, 0.013697369955480099, -0.013997810892760754, 0.0035370078403502703, -0.03539739176630974, -0.004250554833561182, -0.05233132839202881, 0.02104451321065426, -0.01780794747173786, 0.018163014203310013, 0.017821602523326874, 0.0311092808842659, 0.025455530732870102, 0.015308825299143791, -0.010214988142251968, -0.004830951802432537, -0.0027603001799434423, 0.032174479216337204, 0.007306174375116825, -0.018873145803809166, 0.025510156527161598, 0.018422484397888184, -0.015158604830503464, -0.005087009631097317, -0.008726440370082855, 0.016100896522402763, 0.020252441987395287, -0.007975338026881218, -0.013745167292654514, 0.017766978591680527, -0.026015443727374077, -0.003523351391777396, -0.02122204750776291, -0.0030095293186604977, 0.010112565010786057, -0.018326889723539352, 0.0047182864509522915, 0.02665729448199272, 0.0195013415068388, -0.01276190672069788, 0.015937021002173424, 0.04110576584935188, 0.001365640084259212, 0.04118770733475685, -0.006998905446380377, 0.02276522107422352, -0.01677006110548973, -0.012775563634932041, -0.004629519768059254, -0.008152871392667294, 0.0139636704698205, 0.01555464044213295, 0.01207225862890482, -0.016018958762288094, 0.007026218343526125, -0.002801269292831421, -0.0029002781957387924, 0.004574894439429045, 0.012604857794940472, -0.02148151956498623, -0.0008441362879239023, -0.01727534830570221, -0.024212799966335297, -0.03878417983651161, -0.052222076803445816, -0.0002351461589569226, 0.0030726902186870575, -0.02587888017296791, 0.02011587843298912, -0.01005111075937748, 0.0012982116313651204, 0.025414561852812767, 0.012700453400611877, 0.023844076320528984, -0.003796479431912303, 0.028323376551270485, 0.013676885515451431, -0.012345386669039726, -0.030399149283766747, 0.009463885799050331, -0.0038715896662324667, -0.010556397959589958, 0.024349363520741463, 0.011969835497438908, 0.007224236149340868, -0.01890045963227749, 0.023830419406294823, 0.005786899942904711, -0.01831323467195034, -0.03272073715925217, -0.008193840272724628, -0.0018675128230825067, 0.012796048074960709, -0.029934830963611603, -0.012563888914883137, -0.009525340050458908, 0.008187012746930122, -0.021891210228204727, -0.010378864593803883, -0.0007365921628661454, -0.00278419884853065, -0.031000031158328056, 0.030563024803996086, -0.029716329649090767, 0.019037023186683655, -0.00877423770725727, -0.023243194445967674, -0.006718949414789677, 0.011526002548635006, -0.002915641525760293, -0.009900891222059727, 0.0048480224795639515, 0.023270508274435997, -0.007784148678183556, -0.019487684592604637, -0.004574894439429045, 0.013082832098007202, -0.015540984459221363, -0.006985248997807503, -0.025291655212640762, 0.028815006837248802, 0.0028729652985930443, -0.01649693213403225, -0.0006969032110646367, 0.021809272468090057, 0.006193177774548531, 0.003554078284651041, -0.016196491196751595, -0.010631508193910122, -0.008542078547179699, 0.012748250737786293, 0.029525138437747955, 0.016210148110985756, -0.01371102686971426, 0.010822697542607784, -0.010467631742358208, 0.015609266236424446, -0.03569783270359039, 0.0030539126601070166, 0.01078172866255045, -0.019870063289999962, 0.01555464044213295, -0.005315754096955061, 0.02570134773850441, 0.035807084292173386, 0.0176167581230402, 0.006486790720373392, 0.0044929557479918, 0.011491861194372177, -0.03526082634925842, 0.035124264657497406, 0.012823360972106457, 0.013765652664005756, 0.01872292533516884, -0.002744936617091298, 0.005718618165701628, -0.009136131964623928, 0.026343198493123055, -0.0012538282899186015, -0.019392089918255806, -0.003139265114441514, 0.00575617328286171, 0.027558617293834686, 7.959121285239235e-05, -0.016182836145162582, -0.00366332964040339, 0.017589444294571877, -0.00496410159394145, -0.03242029622197151, -0.024308394640684128, 0.007176438812166452, 0.005387450102716684, -0.0063604689203202724, 0.019132617861032486, -0.018613675609230995, 0.0005432686884887516, 0.0039330436848104, -0.008828863501548767, 0.017002219334244728, -0.026930423453450203, 0.02355729229748249, -0.001295651076361537, 0.03616214916110039, -0.0032536375802010298, -0.003036842215806246, 0.013601775281131268, -0.014380190521478653, -0.012099571526050568, 0.01525420043617487, 0.003632602747529745, -0.0003211387956980616, -0.018736582249403, 0.012277104891836643, -0.012092743068933487, 0.01156697142869234, 3.7741810956504196e-05, -0.00043465764611028135, -0.01100023090839386, -0.01453041099011898, -0.03430487960577011, -0.01735728606581688, -0.024950245395302773, 0.036926910281181335, 0.04380973428487778, -0.0025554541498422623, -0.018108388409018517, 0.01427093893289566, -0.014284595847129822, -0.004161788150668144, -0.02182292938232422, -0.0033048491459339857, 0.01633305661380291, -0.0112528745085001, -0.009962344542145729, -0.0014544067671522498, -0.008849347941577435, -0.011048028245568275, -0.008241637609899044, 0.008350889198482037, -0.00808458961546421, -0.005684476811438799, 0.017466537654399872, 0.01173084881156683, -0.016374025493860245, 0.0052986834198236465, 0.023570949211716652, 0.004510026425123215, 0.016824686899781227, 0.006152208894491196, -0.008432827889919281, 0.0031102453358471394, -0.0025554541498422623, 0.007067187689244747, -0.00924538355320692, 0.0099282031878829, -0.0016942472429946065, -0.029033508151769638, -0.013786137104034424, 0.017220722511410713, -9.980909089790657e-05, -0.014735257253050804, 0.013540321961045265, -0.003796479431912303, 0.019187243655323982, -0.0049811722710728645, 0.0003386360767763108, -0.008576219901442528, 0.005578639917075634, -0.039221182465553284, 0.028241436928510666, 0.002176488982513547, -0.00556498346850276, 0.01780794747173786, 0.03171016275882721, -0.01813570037484169, -0.00427445350214839, 0.01780794747173786, -0.005715203937143087, 0.014803539030253887, -0.008378202095627785, -0.0005607659695670009, -0.0026971392799168825, 0.00713546946644783, 0.004643176216632128, -0.014284595847129822, 0.013751995749771595, -0.026370510458946228, -0.0166744664311409, -0.01383393444120884, 0.001385271199978888, 0.041296955198049545, -0.013130629435181618, 0.01357446238398552, 0.016483275219798088, -0.021017201244831085, -0.009095163084566593, 0.020839668810367584, 0.013076003640890121, -0.008542078547179699, 0.012748250737786293, 0.01839517243206501, -0.02346169762313366, -0.002534969476982951, 0.008589875884354115, -0.0017275346908718348, -0.017384598031640053, 0.014735257253050804, 0.1931561380624771, -0.0016379145672544837, -0.014557723887264729, 0.01666080951690674, -0.015199574641883373, 0.0018640987109392881, 0.0120790870860219, 0.0025247272569686174, -0.026629982516169548, 0.00692038144916296, -0.0027159168384969234, 0.008303091861307621, 0.012611686252057552, 0.003158042673021555, 0.010201331228017807, 0.0013519837521016598, -0.002304517664015293, 0.0005846646963618696, -0.01332864724099636, -0.0008381616207771003, 0.04304497689008713, -0.006159036885946989, -0.0044007753022015095, -0.015267856419086456, 0.014776226133108139, -0.03471457213163376, -0.014953759498894215, -0.009074678644537926, 0.021017201244831085, 0.03539739176630974, -0.01241366844624281, -0.0070603592321276665, -0.004445158410817385, -0.0018658058252185583, -0.02966170385479927, 0.015076667070388794, 0.012195166200399399, -0.02089429460465908, 0.007531505078077316, 0.03143703565001488, -0.01917358674108982, -0.005394278559833765, 0.03345818445086479, 0.01461234875023365, -0.018627330660820007, 0.009218070656061172, -0.014038780704140663, -0.02750399149954319, 0.01332864724099636, 0.004772912245243788, -0.00833040475845337, 0.0036155323032289743, 0.00851476565003395, 0.04047757387161255, 0.007579302415251732, -0.01173084881156683, 0.0012077379506081343, 0.014516754075884819, 0.0011778646148741245, -0.008699127472937107, -0.020866980776190758, 0.007360800169408321, -0.011676223017275333, -0.011061685159802437, -0.019911032170057297, 0.021590769290924072, -0.013499352149665356, 0.003195597790181637, 0.02664363943040371, -0.0077568357810378075, 0.003216082463040948, -0.010508600622415543, -0.01112996693700552, -0.02845994010567665, -0.013827105984091759, -0.008535251021385193, 0.044137489050626755, -0.0009738720837049186, 0.01633305661380291, 0.03310311585664749, -0.013431070372462273, 0.007422253955155611, -0.033376242965459824, -0.028487252071499825, 0.003243395360186696, -0.023229537531733513, 0.029361262917518616, 0.009894062764942646, -0.005722031928598881, 0.0013733218656852841, 0.00543866166844964, 0.011737676337361336, -0.03067227639257908, -0.0065106893889606, 0.026930423453450203, -0.01787622831761837, -0.0222735907882452, 0.00179923081304878, -0.00902688130736351, 0.019050680100917816, -0.0179718229919672, 0.03515157476067543, 0.033048491925001144, -0.013902216218411922, -0.006285358686000109, -0.018354203552007675, -0.006934037432074547, 0.017753321677446365, 0.02802293561398983, -0.020156847313046455, 0.01168987900018692, -0.0108704948797822, 0.010809041559696198, -0.001602920121513307, -0.015185917727649212, 0.03741854056715965, 0.014557723887264729, 0.016647152602672577, 0.01875023916363716, 0.006107825320214033, -0.0036087040789425373, -0.02088063769042492, 0.008398686535656452, 0.02019781805574894, -0.00333216181024909, -0.01461234875023365, -0.012809704057872295, -0.019037023186683655, 0.008869832381606102, -0.019992971792817116, 0.01941940188407898, -0.010255957022309303, 0.03774629160761833, 0.0026390994898974895, 0.004725114908069372, -0.006524345837533474, 0.016565214842557907, -0.0054796310141682625, 0.007155954372137785, -0.0013758824206888676, -0.0232158824801445, 0.01633305661380291, 0.0018640987109392881, -0.010474459268152714, -0.006804301869124174, 0.008562563918530941, 0.0016430357936769724, 0.02982557937502861, -0.055144548416137695, -0.0028797935228794813, 0.002884914632886648, -0.010542741976678371, 0.009006396867334843, 0.005254300311207771, 0.003036842215806246, -0.005015313159674406, -0.0084259994328022, -0.014912789687514305, 0.00855573546141386, 0.027626900002360344, -0.023434383794665337, 0.012939440086483955, 0.005592296365648508, -0.004028638359159231, 0.005602538585662842, -8.044474088819697e-05, -0.17567594349384308, 0.013622259721159935, 0.01044031884521246, -0.020689448341727257, 0.013260365463793278, -0.014694287441670895, 0.01057005487382412, 0.0139636704698205, -0.02242381125688553, 0.010966090485453606, 0.010856838896870613, 0.005203088745474815, -0.02055288292467594, 0.01580045558512211, -0.0030795184429734945, -0.007231064606457949, -0.02732645906507969, 0.002521313028410077, 0.011491861194372177, 0.007654412649571896, 0.009300009347498417, -0.05328727886080742, 0.014093405567109585, -0.0055683976970613, 0.019037023186683655, 0.003840862773358822, 0.008924458175897598, 0.020266098901629448, 0.0016601062379777431, -0.003946700133383274, -0.02785905823111534, 0.015281512401998043, 0.021850241348147392, -0.007155954372137785, 0.015486358664929867, 0.014134375378489494, 0.0007071455474942923, -0.0069920774549245834, -0.018258608877658844, 0.0070057339034974575, 0.03943968564271927, -0.004742185119539499, 0.009381947107613087, 0.0329938642680645, -0.004871921148151159, 0.011088998056948185, 0.01907799206674099, 0.01431190874427557, 0.012652656063437462, -0.006015644874423742, -0.040286384522914886, -0.02209605649113655, 0.004728528670966625, 0.0055581554770469666, 0.001263217069208622, 0.015704860910773277, 0.023079317063093185, 0.020348038524389267, -0.016264773905277252, -0.030153334140777588, -0.003567734733223915, -0.006357054691761732, 0.025551127269864082, 0.0015576832229271531, -0.0026903110556304455, -0.009873578324913979, 0.017261691391468048, -0.013185255229473114, -0.01370419841259718, 0.007292518392205238, 0.003844277001917362, -0.0016575456829741597, -0.027531305328011513, -0.028214124962687492, 0.0032451022416353226, 0.013984154909849167, -0.01806741952896118, 0.02021147310733795, -0.007313002832233906, -0.039931315928697586, -0.0055991243571043015, 0.07063090801239014, -0.003632602747529745, 0.009900891222059727, 0.01898239739239216, -0.011867412365972996, 0.01065882109105587, 0.011287015862762928, -0.0012307831784710288, -0.017234377562999725, 0.024649804458022118, -0.03162822499871254, -0.0018470282666385174, -0.026165664196014404, 0.016196491196751595, 0.035124264657497406, 0.0033219195902347565, 0.010986574925482273, 0.007101328577846289, 0.004137889482080936, 0.0016097482293844223, 0.006797473877668381, 0.0014006346464157104, 0.01615552231669426, 0.022068744525313377, 0.005831283051520586, -0.021549800410866737, 0.0036906423047184944, 0.023366102948784828, -0.014598692767322063, -0.0340590626001358, -0.0103105828166008, 0.005288441199809313, -0.002558868145570159, -0.0047182864509522915, 0.014953759498894215, 0.027312802150845528, -0.0064253369346261024, 0.00433932151645422, -0.026834828779101372, 0.06249169260263443, -0.01065882109105587, -0.024130860343575478, -0.006080512423068285, 0.01623746007680893, -0.037937480956315994, -0.1138397604227066, -0.032174479216337204, -0.019610591232776642, 0.03274805098772049, 0.015868738293647766, 0.011840099468827248, -0.010262785479426384, 0.002111620968207717, -0.014885476790368557, 0.03214716911315918, -0.023926014080643654, -0.026616325601935387, -0.017166096717119217, 0.017644070088863373, -0.008692299015820026, -0.004073021467775106, 0.011170935817062855, -0.02225993387401104, -0.02717623859643936, 0.025810597464442253, -0.03272073715925217, -0.007592958863824606, 0.012693624943494797, -0.01005793921649456, -0.0050460402853786945, 0.010167190805077553, -0.012017632834613323, 0.01883217692375183, 0.011635254137217999, 0.0011078754905611277, 0.0038067218847572803, -0.009593621827661991, -0.014038780704140663, -0.007722694892436266, -0.005226987414062023, -0.013321819715201855, -0.0067565045319497585, -0.009388775564730167, 0.02708064392209053, -0.010761244222521782, 0.008849347941577435, 0.010863667353987694, 0.0023335374426096678, 0.016264773905277252, -0.011771817691624165, -0.006456063594669104, -0.01229076087474823, 0.02751764841377735, 0.009730185382068157, -0.025851568207144737, -0.009798468090593815, -0.00807776115834713, -0.01976081170141697, -0.0033799593802541494, 0.026165664196014404, 0.004165202379226685, 0.018094731494784355, 0.006237561348825693, -0.03474188596010208, -0.012857501395046711, 0.0036974705290049314, 0.011266530491411686, -0.029252011328935623, 0.02708064392209053, -0.009061021730303764, -0.013786137104034424, -0.03616214916110039, -0.03384056314826012, -0.009040537290275097, -0.018340546637773514, -0.01933746412396431, 0.014981072396039963, -9.634163870941848e-05, 0.005660578142851591, -0.031054656952619553, -0.006841856986284256, -0.014981072396039963, -0.021686365827918053, 0.005667406599968672, -0.03247492015361786, -0.005585467908531427, -0.02243746630847454, 0.00962776318192482, -0.01276873517781496, 0.03190135210752487, 0.03157360106706619, 0.007982166483998299, -0.002586181042715907, 0.0005313193541951478, -0.0018145942594856024, -0.00034354382660239935, 0.022997379302978516, 0.014202657155692577, -0.02854187786579132, -0.02672557719051838, 0.022737907245755196, -0.03796479478478432, -0.009129304438829422, 0.016988562420010567, -0.007743179332464933, -0.046377137303352356, -0.004636348225176334, -0.02826875075697899, 0.027012361213564873, 0.008064105175435543, -0.01737094298005104, -0.006097583100199699, -0.0288696326315403, 0.02243746630847454, -0.0006610551499761641, -0.01941940188407898, -0.002080894075334072, -0.013485696166753769, 0.04176127538084984, -0.022410154342651367, -0.029934830963611603, -0.01605992764234543, -0.005411348771303892, 0.021727334707975388, -5.449224045150913e-05, 0.019665217027068138, 0.008746924810111523, -0.01812204346060753, 0.012918955646455288, 0.011450892314314842, 0.030481087043881416, 0.01078172866255045, 0.001294797519221902, -0.0359436459839344, 0.0061897640116512775, -0.028924258425831795, 0.007033046800643206, -0.004093506373465061, -0.027012361213564873, -0.005189432296901941, 0.001264070626348257, 0.004800225142389536, -0.003554078284651041, -0.00359846162609756, 0.01677006110548973, 0.04143352061510086, 0.015158604830503464, -0.01701587624847889, -0.0400678813457489, -0.004329079296439886, 0.007565646432340145, -0.0030965888872742653, -0.001404048758558929, -0.021099139004945755, -0.004721700679510832, 0.015950676053762436, -0.008958599530160427, 0.014680631458759308, 0.01651058904826641, 0.022737907245755196, -0.008630845695734024, -0.0056639923714101315, -0.0022891543339937925, -0.004397361073642969, 0.008344060741364956, 0.010699789971113205, -0.00821432564407587, 0.03635333850979805, 0.001014841254800558, 0.007709038443863392, 0.009095163084566593, -0.015691203996539116, 0.00298563065007329, 0.002526434138417244, 0.015308825299143791, -0.013909044675529003, -0.02399429678916931, -0.014598692767322063, -0.002750057727098465, 0.02768152579665184, 0.014148031361401081, 0.0027142097242176533, -0.010242301039397717, -0.02691676653921604, -0.010290098376572132, -0.010617852210998535, -0.0072583770379424095, -0.006022472865879536, 0.019788125529885292, -0.03351280838251114, 0.008972255513072014, 0.01443481631577015, 0.0030283068772405386, 0.004523682873696089, 0.017166096717119217, -0.0023779207840561867, -0.000708425824996084, 0.015486358664929867, 0.020416319370269775, 0.016455963253974915, 0.0005104080191813409, 0.007285689935088158, 0.008746924810111523, 0.010515429079532623, 0.015459045767784119, 0.017671383917331696, 0.031054656952619553, 0.0028729652985930443, 0.0016694950172677636, -0.02519606053829193, -0.01763041317462921, -0.015103979967534542, 0.028978882357478142, -0.026848483830690384, -0.01547270268201828, 0.017384598031640053, 0.028405314311385155, 0.008856176398694515, -0.007497364189475775, 0.004226656164973974, 0.013253537006676197, -0.01599164493381977, 0.03162822499871254, -0.015950676053762436, -0.024963900446891785, -0.003036842215806246, 0.009880405850708485, -0.0007698796107433736, 0.008569391444325447, 0.00084925745613873, -0.014885476790368557, 0.009689216502010822, 0.01216102484613657, 0.03009870834648609, -0.030044082552194595, 0.0051109082996845245, 0.025592096149921417, 0.020252441987395287, -0.023584604263305664, 0.003509695176035166, 0.009409260004758835, -0.020348038524389267, 0.026684608310461044, -0.005104079842567444, 0.011758161708712578, -0.0014381897635757923, 0.06904676556587219, -0.013765652664005756, -0.007231064606457949, 0.002004076959565282, -0.03026258572936058, 0.028815006837248802, 0.014325564727187157, 0.011102654039859772, -0.024895619601011276, -0.033048491925001144, 0.001180425169877708, 0.01160111278295517, 0.0292246975004673, -0.03203791752457619, -0.008453312329947948, -0.0030231857672333717, -0.007818290032446384, 0.0299894567579031, -0.008364546112716198, -0.024363020434975624, 0.009163444861769676, -0.013526665046811104, 0.02906082198023796, -0.00012728192086797208, 0.003388494485989213, 0.00045663589844480157, 0.010242301039397717, 0.005592296365648508, 0.0093682911247015, -0.008869832381606102, 0.008139215409755707, -0.00031473737908527255, -0.032447610050439835, 0.0029702673200517893, -0.0034960387274622917, -0.027572274208068848, 0.011894725263118744, -0.0009055900736711919, -0.009067850187420845, 0.017726007848978043, -0.02115376479923725, 0.01052225660532713, -0.04102382808923721, -0.0030795184429734945, 0.010679305531084538, -0.019528653472661972, 0.021358611062169075, -0.016387680545449257, -0.04255334660410881], [0.0008899981039576232, -0.0044197640381753445, 0.005121687427163124, 0.0006737957592122257, -0.010928505100309849, 0.009195527993142605, -0.021225616335868835, -0.0043458775617182255, 0.0010352525860071182, -0.01994939148426056, 0.015234081074595451, 0.03815237060189247, 0.0026968622114509344, 0.015543061308562756, 0.004372745286673307, 0.021857010200619698, 0.013232424855232239, -0.007744662929326296, 0.0005470130126923323, 0.0027170132379978895, -0.0106396758928895, 0.03197276219725609, 0.01421310193836689, -0.0012283653486520052, -0.007603606674820185, 0.023670591413974762, 0.0124935582280159, -0.014777326956391335, 0.006223269738256931, -0.018256716430187225, 0.020836031064391136, -0.00825515203177929, -0.035438716411590576, 0.012607746757566929, -0.004591046832501888, -0.025202060118317604, 0.012486841529607773, -0.015959514304995537, 0.01546245813369751, -0.01585204154253006, 0.005091460887342691, 0.013185406103730202, 0.005373573396354914, 0.0002707777312025428, 0.002527258824557066, 0.001379497116431594, 0.022286895662546158, 0.0024214666336774826, -0.005363497883081436, 0.010552355088293552, -0.002612900221720338, 0.028211262077093124, -0.015610231086611748, -0.018605997785925865, 0.005551573354750872, 0.00994111131876707, 0.020244939252734184, -0.002535654930397868, -0.0112240519374609, -0.016375964507460594, -0.009108207188546658, -0.031112991273403168, -0.03299374133348465, 0.013104802928864956, -0.007167003583163023, -0.009699299931526184, 0.0017548076575621963, 0.008449944667518139, 0.005588516592979431, 0.013225708156824112, 0.03302060812711716, 0.00863130297511816, -0.015193779021501541, -0.011996502988040447, 0.022461537271738052, 0.007603606674820185, 0.011573334224522114, 0.012621181085705757, 0.013595141470432281, -0.001469336566515267, 0.015287816524505615, -0.0195195060223341, -0.022716782987117767, 0.033289287239313126, 0.012869708240032196, 0.017625320702791214, -0.00909477286040783, 0.027673903852701187, -0.022931724786758423, 0.022380933165550232, 0.029232239350676537, 0.020164335146546364, 0.008537264540791512, -0.008161114528775215, 0.0006326543516479433, -0.019586674869060516, -0.022824253886938095, 0.03511630371212959, 0.0007434842991642654, -0.031112991273403168, 0.0007044419180601835, -0.011546466499567032, -0.0035868603736162186, -0.011082995682954788, -0.02928597666323185, -0.0124935582280159, 0.014092196710407734, 0.007052815519273281, 0.008671604096889496, -0.017383510246872902, -0.01882094144821167, 0.005847119726240635, 0.0014542232966050506, -0.005010857246816158, 0.01960011012852192, 0.012869708240032196, 0.035949207842350006, -0.009168660268187523, 0.007314777001738548, -0.029662126675248146, 0.01824328303337097, 0.0018454866949468851, 0.02131965383887291, -0.02027180604636669, 0.014051894657313824, 0.04419764131307602, -0.03530437871813774, -0.011022542603313923, -0.01546245813369751, -0.014011592604219913, -0.016040116548538208, 0.002104089828208089, 0.020137466490268707, -0.004913461394608021, -0.012110691517591476, 0.008946999907493591, -0.022354066371917725, 0.00825515203177929, 0.012506992556154728, -0.017356643453240395, 0.006854664999991655, 0.0320264995098114, -0.010323978029191494, -0.020594220608472824, 0.00553478067740798, 0.007831983268260956, 0.01702079363167286, 0.010102318599820137, -0.019062751904129982, -0.025242362171411514, -0.0035667093470692635, -0.009538092650473118, -0.010868052951991558, 0.0021947689820080996, -0.015126609243452549, 0.01358842384070158, -0.008463378064334393, 0.02369746007025242, -0.01016948837786913, -0.00453059421852231, -0.019385166466236115, 0.013574990443885326, 0.01863286644220352, -0.01671181432902813, 0.026679793372750282, 0.03132793307304382, -0.01370261237025261, -0.024140778928995132, 0.005094819236546755, 0.0025003908667713404, -0.002690145280212164, 0.01741037890315056, -0.011962918564677238, 0.02283768728375435, 0.0026229755021631718, 0.007408814504742622, 0.022354066371917725, 0.011788276955485344, -0.016846153885126114, -0.03705079108476639, -0.026451416313648224, 0.0036909733898937702, 0.0034290116745978594, -0.01652373932301998, -0.023885535076260567, -0.007321494165807962, 0.01730290614068508, -0.007308059837669134, 0.002458409871906042, -0.012742086313664913, 0.013098085299134254, 0.0088798301294446, -0.011371824890375137, -0.00423840619623661, -0.6448288559913635, -0.046911295503377914, -0.012144275940954685, -0.024422891438007355, -0.004282066598534584, 0.022636178880929947, 0.02428855188190937, 0.005971383769065142, -0.006387835368514061, 0.0165909081697464, -0.02572598308324814, 0.01757158525288105, -0.039495766162872314, -0.01779996231198311, -0.011754692532122135, -0.01847165822982788, -0.02780824340879917, 0.004829499404877424, -0.002789220539852977, 0.005565007217228413, -0.03697018697857857, 0.010962090454995632, 0.007106550969183445, 0.01808207482099533, 0.015946079045534134, -0.020312108099460602, 0.03374604135751724, -0.046373941004276276, -0.007905869744718075, 0.0008849604055285454, -0.017705924808979034, 0.021077841520309448, 0.003596935886889696, 0.019895656034350395, 0.015314684249460697, -0.04559477046132088, 0.005262743681669235, 0.0290979016572237, 0.01796117052435875, 0.015556495636701584, -0.02076886221766472, -0.0185522623360157, 0.01274880301207304, 0.020352410152554512, -0.012365936301648617, 0.026182737201452255, -0.0022720140404999256, -0.015583363361656666, -0.006065421272069216, -0.05247294530272484, 0.005585158243775368, 0.010109035298228264, -0.009853790514171124, 0.012298766523599625, 0.021386822685599327, -0.019398599863052368, 0.013205557130277157, -0.02826499752700329, -0.01585204154253006, 0.021655501797795296, -0.0025121455546468496, 0.004527235869318247, -0.007160286884754896, -0.007630474399775267, -0.0075498707592487335, -0.0006032675737515092, -0.006051987409591675, 0.0024013156071305275, 0.027861978858709335, 0.029527787119150162, 0.013037633150815964, 0.023321310058236122, 0.016416266560554504, -0.0012434785021468997, 0.0005449139280244708, 0.00910149049013853, 0.02756643295288086, 0.01290329359471798, 0.008664887398481369, 0.01216442696750164, 0.0004882395442109555, -0.016725247725844383, -0.019116487354040146, 0.0038790483959019184, 0.0183507539331913, 0.0036808978766202927, -0.010008281096816063, -0.019788185134530067, 0.009302998892962933, 0.0007094796164892614, 0.00833575613796711, 0.008456661365926266, -0.017773093655705452, -0.015717701986432076, -0.020634522661566734, 0.0269484706223011, -0.006602778565138578, 0.01843135803937912, 0.02221972681581974, -0.0020285239443182945, -0.012641332112252712, 0.007321494165807962, -0.0005079706315882504, -0.018847810104489326, 0.028668014332652092, -0.0082954540848732, -0.012809256091713905, 0.0002300561172887683, 0.031032387167215347, -0.039845049381256104, 0.049329403787851334, -0.010223223827779293, -0.030951783061027527, -0.006169534288346767, -0.008523831143975258, -0.02858741208910942, 0.013030915521085262, 0.036997053772211075, -0.00473546190187335, -0.0183507539331913, 0.015019138343632221, 0.01179499365389347, 0.01831045188009739, -0.0032459741923958063, -0.014078762382268906, 0.011781560257077217, 0.006528892088681459, -0.013057784177362919, -0.019653845578432083, -0.03224144130945206, -0.0017195435939356685, 0.002040278632193804, 0.00573964836075902, -0.01550276018679142, 0.0165909081697464, 0.02670666016638279, -0.004174594767391682, -0.011391975916922092, -0.021937614306807518, -0.019653845578432083, -0.04419764131307602, 0.0019328072667121887, 0.02373776212334633, -0.0230391975492239, -0.007677493151277304, -0.020473314449191093, -0.009417187422513962, 0.0039999536238610744, 0.0027119754813611507, -0.024705003947019577, 0.014159366488456726, -0.015529627911746502, -0.019398599863052368, 0.003640596056357026, 0.010465034283697605, 0.010377713479101658, -0.02572598308324814, -0.027284320443868637, 0.009168660268187523, 0.00557508273050189, -0.004755612462759018, 0.012997331097722054, -0.033719174563884735, 0.019183658063411713, -0.014078762382268906, -0.021212181076407433, 0.015986381098628044, -0.009202244691550732, -0.013037633150815964, -0.02183014340698719, 0.007274475414305925, 0.006905042100697756, -0.005286253057420254, 0.019022449851036072, -0.01224503107368946, -0.008248435333371162, -0.011667371727526188, -0.009168660268187523, -0.004161160904914141, -0.033557966351509094, 0.016335664317011833, 0.014065328985452652, -0.018525395542383194, -0.008725340478122234, 0.026800697669386864, 0.028909826651215553, 0.0230391975492239, -0.010088884271681309, 0.003323219483718276, 0.01859256438910961, -0.010800883173942566, 0.027620168402791023, -0.0013887329259887338, 0.01843135803937912, -0.011163598857820034, -0.013695895671844482, 0.010512053035199642, -0.022985460236668587, 0.019197091460227966, 0.03030695579946041, 0.03954949975013733, 0.0024903155863285065, 0.04755612462759018, -0.019344864413142204, 0.015274383127689362, -0.023603422567248344, -0.003989878576248884, -0.02260931022465229, 0.048792049288749695, 0.03030695579946041, 0.010975523851811886, -0.02401987463235855, 0.004349235910922289, -0.0001218499819515273, 0.0021443916484713554, 0.008691755123436451, -0.007361795753240585, 0.002104089828208089, 0.02807692252099514, -0.007630474399775267, -0.02054048515856266, 0.007032664492726326, 0.04360654950141907, -0.013091368600726128, -0.02912476845085621, -0.0018706752452999353, 0.0130779342725873, 0.023670591413974762, 0.0025322965811938047, 0.012184577994048595, -0.018565695732831955, -0.0013862140476703644, 0.023684024810791016, 0.015435590408742428, 0.008093944750726223, 0.016187889501452446, 0.006021760869771242, -0.003370238235220313, 0.02195104770362377, 0.01499227061867714, -0.0022098820190876722, 0.004349235910922289, 0.007099834270775318, 0.0026011455338448286, 0.005501195788383484, -0.04186013713479042, 0.021977916359901428, 0.02764703519642353, -0.008752208203077316, 0.005141837988048792, -0.005477686412632465, 0.0014920062385499477, -0.008980585262179375, 0.00011471319885458797, -8.690076356288046e-05, -0.007106550969183445, 0.024154212325811386, -0.0044533489271998405, 0.013984724879264832, 0.03645969554781914, 0.014374309219419956, 0.03517003729939461, 0.01812237687408924, -0.019197091460227966, -0.0008215690031647682, 0.019398599863052368, -0.022380933165550232, 0.005504554603248835, 0.006297156680375338, 0.017423812299966812, -0.0030478236731141806, 0.01429370604455471, 0.021077841520309448, -0.02475873939692974, 0.016375964507460594, -0.02311979979276657, 0.028453072533011436, 0.0067102499306201935, 0.01031054463237524, 0.003966369200497866, -0.025081153959035873, -0.016429701820015907, 0.016228191554546356, 0.027888847514986992, -0.00072375318268314, -0.00994111131876707, -0.016080418601632118, 0.018014905974268913, -0.004282066598534584, -0.0032056723721325397, -0.015153477899730206, 0.010975523851811886, 0.0035633509978652, 0.0012476765550673008, -0.0036036528181284666, 0.01139869261533022, 0.019788185134530067, -0.013272726908326149, 0.00029533664928749204, -0.000509649864397943, -0.0015188741963356733, -0.002402995014563203, -0.007025947328656912, -0.009437338449060917, 0.016429701820015907, -0.01126435399055481, 0.0011460825335234404, -0.022703347727656364, 0.010706845670938492, -0.004570895805954933, 0.003821954131126404, -0.019465770572423935, -0.0036976903211325407, 0.006011685356497765, -0.014616119675338268, -3.809779809671454e-05, 0.0023324668873101473, -0.01001499779522419, 0.051908720284700394, 0.006945343688130379, -0.0008383614476770163, -0.010988958179950714, -0.03229517862200737, -0.014777326956391335, 0.0018303735414519906, 0.03868972882628441, 0.01612072065472603, 0.004997423384338617, 0.03154287859797478, -0.028748618438839912, -0.01550276018679142, 0.0006242581293918192, 0.004251840058714151, -0.0074692671187222, -0.0008114935480989516, -0.008819377981126308, 0.016093851998448372, -0.007811832707375288, 0.010068733245134354, -0.006680023856461048, -0.007167003583163023, -0.03688958287239075, 0.02097037062048912, -0.0021813351195305586, 0.0002732965804170817, 0.01044488325715065, 0.0029319559689611197, 0.0328056663274765, 0.0016817606519907713, -0.003993236925452948, 0.02741865999996662, 0.021252483129501343, 0.0058303275145590305, -0.03382664546370506, -0.009967979043722153, 0.009967979043722153, 0.005514629650861025, -0.007180437445640564, -0.007119984831660986, 0.010283675976097584, 0.02273021638393402, 0.011956200934946537, -0.012755520641803741, -0.0075364368967711926, 0.004967196844518185, 0.01395785715430975, 0.008154397830367088, 0.013239141553640366, 0.004758971277624369, -0.02281082049012184, -0.0009151867707259953, 0.042075082659721375, -0.01984192058444023, 0.006297156680375338, 0.0039865197613835335, -0.0014533837093040347, 0.002703579142689705, -0.026061831042170525, -0.02209882065653801, -0.011533032171428204, 0.0023660515435039997, -0.0037312752101570368, -0.008577566593885422, -0.021037541329860687, -0.025443870574235916, -0.019774749875068665, 0.010726995766162872, 0.010572506114840508, -0.032671328634023666, -0.031408537179231644, -0.016470003873109818, -0.011600201949477196, -0.020473314449191093, 0.012137559242546558, -0.004006670787930489, -0.01964041218161583, -0.020903201773762703, 0.006018402520567179, 0.03807177022099495, 0.017504416406154633, -0.007858850993216038, 0.012594313360750675, -0.026424547657370567, 0.005719497334212065, -0.019573241472244263, -0.015650533139705658, -0.01472359150648117, -0.0033484080340713263, -0.012271898798644543, 0.029608391225337982, 0.008456661365926266, -0.005887421313673258, -0.030360691249370575, -0.002120882272720337, 0.0074289655312895775, 0.0016322230221703649, 0.025551341474056244, -0.014441478997468948, 0.0015407042810693383, 0.01399815920740366, 0.011472579091787338, 0.019573241472244263, 0.006381118670105934, 0.010888203047215939, 0.015878910198807716, -0.037856824696063995, -0.003387030679732561, -0.0047388202510774136, 0.005225800443440676, 0.0005377771449275315, -0.0029537861701101065, 0.0006494467379525304, -0.010626241564750671, 0.018619433045387268, -0.023966137319803238, -0.027620168402791023, 0.0185522623360157, -0.005927723366767168, 0.028184393420815468, 0.009779904037714005, 0.008503680117428303, 0.0010327337076887488, -0.023012328892946243, 0.0020369202829897404, -0.01726260595023632, -0.007375229615718126, 0.0136690279468894, 0.01158005092293024, -0.018538828939199448, 9.760592365637422e-05, -0.020715126767754555, 0.0025625228881835938, -0.0279157143086195, 0.010962090454995632, -0.01722230389714241, -0.0035096153151243925, 0.0006889089127071202, -0.01589234359562397, 0.0035398416221141815, -0.016228191554546356, -0.013581707142293453, 0.015032571740448475, 0.013239141553640366, -0.023670591413974762, 0.0007993190665729344, 0.015475891530513763, -0.004433198366314173, -0.020285239443182945, -0.0013601857936009765, -0.013460801914334297, -0.01730290614068508, 0.021077841520309448, -0.0037883694749325514, 0.004473499953746796, -0.007361795753240585, -0.02639768086373806, 4.544447801890783e-05, -0.016993926838040352, -0.020056864246726036, -0.04739492014050484, -0.04274677857756615, -0.006978928577154875, 0.03852852061390877, 0.0005537299439311028, 0.027861978858709335, 0.007375229615718126, -0.003643954638391733, 0.021776406094431877, -0.012762237340211868, 0.001996618462726474, 0.002626334084197879, 0.002817767672240734, -0.015529627911746502, 0.02144055813550949, 0.03791056200861931, -0.024772174656391144, 0.0006259373622015119, 0.0012258464703336358, 0.020701691508293152, 0.014441478997468948, -0.019774749875068665, 0.004483575467020273, 0.00657926918938756, -0.013225708156824112, 0.01651030406355858, -0.03033382259309292, 0.0033618418965488672, -0.009403754025697708, -0.03608354553580284, -0.015878910198807716, 0.0035868603736162186, -0.021037541329860687, -0.011526315473020077, -0.008093944750726223, 0.038447920233011246, -0.01925082691013813, 0.025833453983068466, 0.006182968150824308, 0.0119091821834445, -0.009625413455069065, -0.010404582135379314, -0.005672478582710028, 0.022824253886938095, 0.005387007724493742, 0.015798306092619896, 0.026115568354725838, -0.014334007166326046, 0.007119984831660986, 0.010357563383877277, -0.008859679102897644, -0.008792509324848652, -0.0037682184483855963, -0.014871364459395409, -0.022945158183574677, -0.013736197724938393, -0.03033382259309292, -0.035277511924505234, -0.03602981194853783, 0.010673260316252708, 0.011022542603313923, -0.008362623862922192, 0.031193595379590988, -0.01675211638212204, 0.0057833087630569935, 0.020903201773762703, 0.025954360142350197, 0.049651820212602615, -0.012601030059158802, 0.04237062856554985, 0.03030695579946041, -0.009444055147469044, -0.00653896713629365, -0.012849558144807816, -0.02236749976873398, -0.00245001376606524, 0.035089436918497086, 0.030360691249370575, -0.03525064140558243, -0.0030377483926713467, -0.0014189592329785228, 0.00595459109172225, -0.009611980058252811, -0.033369891345500946, 0.01820298098027706, -0.006646438967436552, 0.022327197715640068, -0.02369746007025242, 0.015556495636701584, -0.03006514348089695, 0.014857931062579155, -0.015220646746456623, 0.0008413001196458936, 0.006465080659836531, 0.008342472836375237, -0.016604341566562653, 0.00863130297511816, -0.009363451972603798, 0.020983804017305374, 0.005360139533877373, -0.005356781184673309, -0.014239969663321972, -0.0044533489271998405, -0.010941939428448677, -0.00986050721257925, -0.005608667619526386, 0.03600294142961502, -0.0015255911275744438, 0.012352501973509789, 0.0007678332622162998, 0.018404489383101463, -0.012198012322187424, -0.02780824340879917, -0.017034228891134262, 0.0316234789788723, -0.013796649873256683, -0.0011057807132601738, 0.000447517930297181, 0.009867224842309952, 0.017893999814987183, 0.007361795753240585, -0.013769782148301601, -0.014454913325607777, -0.014481781050562859, -0.011533032171428204, 0.03264445811510086, 0.014078762382268906, 0.020513616502285004, -0.01126435399055481, -0.025000551715493202, -0.0017245812341570854, -0.03312808275222778, -0.014562384225428104, 0.012554011307656765, -0.03178468719124794, -0.013232424855232239, 0.006199760362505913, 0.015905776992440224, 0.04030180349946022, 0.012822689488530159, -0.017719358205795288, 0.0064583634957671165, 0.026182737201452255, -0.037856824696063995, -0.0018085433403030038, 0.03568052873015404, 0.008980585262179375, -0.01442804466933012, 0.01730290614068508, 0.0034726718440651894, -0.023227272555232048, 0.026021530851721764, -0.0027606734074652195, -0.028668014332652092, 0.004977272357791662, 0.0167924165725708, 0.03108612261712551, 0.02291829138994217, -0.009128358215093613, 0.011660655029118061, 0.02736492268741131, 0.0012266860576346517, -8.558885019738227e-05, -0.016617776826024055, 0.0019042601343244314, -0.01370932999998331, 0.004013387951999903, 0.03377290815114975, -0.008060360327363014, 0.010612808167934418, 0.012520425952970982, -0.014266837388277054, 0.008779075928032398, -0.011082995682954788, -0.006952060852199793, -0.0008681679610162973, 0.01304434984922409, -0.02041957899928093, 0.004601122345775366, 0.013675744645297527, -0.01917022280395031, -0.027969449758529663, -0.003748067654669285, 0.0021645426750183105, -0.007952888496220112, -0.0026615981478244066, -0.0011334881419315934, -0.002151108579710126, 0.008241718634963036, -0.015529627911746502, -0.016040116548538208, 0.015140043571591377, -0.004137651529163122, -0.01827014982700348, 0.015865476801991463, 0.0017464114353060722, 0.014669856056571007, 0.02826499752700329, -0.026840999722480774, -0.01612072065472603, -0.010364280082285404, -0.02580658718943596, -0.02404674142599106, -0.035868603736162186, 0.018753772601485252, -0.008604434318840504, 0.0030898049008101225, -0.01827014982700348, 0.03938829526305199, -0.00016404093184974045, 0.008530547842383385, -0.0002968059852719307, -0.0149385342374444, -0.01220472902059555, 0.003576784860342741, 0.005884062964469194, 0.008584284223616123, -0.013622009195387363, -0.004456707742065191, 0.014481781050562859, -0.01714169979095459, 0.011687522754073143, 0.03831357881426811, -0.010753864422440529, -0.005581799428910017, -0.0036170866806060076, -0.002847993979230523, 0.002883258042857051, 0.0273380558937788, 0.011808427982032299, -0.028560543432831764, 0.000972280977293849, 0.027969449758529663, -0.0023626931942999363, 0.0038454635068774223, 0.0113248061388731, 0.006905042100697756, 0.013360047712922096, -0.018323885276913643, -0.012594313360750675, -0.029420314356684685, 0.030898047611117363, -0.03643282875418663, 0.01311823632568121, 0.010995674878358841, -0.008557415567338467, 0.005259385332465172, 0.017423812299966812, 0.018834374845027924, -0.019586674869060516, 0.008604434318840504, -0.013037633150815964, 0.012957029044628143, -0.017907433211803436, -0.0014710157411172986, -0.0012661482905969024, -0.00859100092202425, -0.017705924808979034, 0.0037379921413958073, -0.0007963803946040571, -0.018646299839019775, 0.004953762982040644, -0.03860912472009659, 0.02105097472667694, 0.023133235052227974, -0.026599189266562462, 0.0003075111308135092, 0.009383602999150753, -0.009141791611909866, -0.0014911666512489319, 0.004853008780628443, 0.003224144224077463, -0.004681725986301899, -0.010693411342799664, -0.00595459109172225, -0.014804195612668991, -0.021601766347885132, 0.002804333809763193, -0.010236657224595547, -0.006777419708669186, 0.023106366395950317, 0.19903716444969177, -0.008685038425028324, -0.0004655697848647833, 0.039065878838300705, -0.0025373343378305435, -0.0031552952714264393, 0.025081153959035873, 0.015086308121681213, -0.006884891074150801, 0.03369230777025223, 0.007845417596399784, 0.00913507491350174, -0.016577474772930145, 0.0025541267823427916, 0.0160132497549057, 0.012184577994048595, 0.00034172568120993674, -0.020433014258742332, -0.021534595638513565, 0.04540669545531273, 0.03809863701462746, 0.0018925054464489222, -0.004372745286673307, -0.02295859344303608, 0.01980161853134632, -0.00524259265512228, -0.004641423933207989, -0.0183507539331913, 0.009679149836301804, 0.012869708240032196, -0.03224144130945206, 0.018538828939199448, 0.028103789314627647, -0.008315605111420155, -0.009067905135452747, -0.015489325858652592, -0.003922708798199892, 0.009014169685542583, 0.004634707234799862, -0.007697644177824259, -0.022542141377925873, -0.022286895662546158, -0.0064113447442650795, -0.007287909276783466, 0.004510443191975355, 0.022045085206627846, -0.015650533139705658, -0.008288737386465073, 0.015180345624685287, 0.01173454150557518, -0.010747146792709827, 0.02019120194017887, 0.014575818553566933, 0.03721199557185173, -0.001156157930381596, -0.0094709238037467, 0.018525395542383194, -0.015690835192799568, 0.025470739230513573, -0.011815144680440426, -0.017316341400146484, 0.017074529081583023, -0.0290979016572237, 0.030280087143182755, -0.03245638310909271, 0.03194589540362358, -0.025296097621321678, -0.012453257106244564, 0.006455005146563053, -0.015596797689795494, 0.01616102270781994, -0.01955980807542801, -0.01808207482099533, 0.006199760362505913, -0.022313764318823814, -0.0054239509627223015, 0.024006439372897148, -0.0058907801285386086, 0.029474051669239998, 0.015878910198807716, 0.020365843549370766, 0.004261915571987629, -0.027620168402791023, -0.028882957994937897, -0.01253386028110981, -0.021252483129501343, 0.001156157930381596, 0.013930989429354668, 0.015408721752464771, 0.01184873003512621, -0.000505451753269881, 0.0062299869023263454, 0.0028093713335692883, -0.012856274843215942, 0.022985460236668587, -0.021306218579411507, 0.0014156007673591375, -0.02152116224169731, -0.0185522623360157, 0.005306404083967209, 0.0075498707592487335, 0.05053845793008804, 0.023254139348864555, -0.010673260316252708, -0.0010940260253846645, 0.0023694101255387068, 0.009625413455069065, -0.0010243374854326248, 0.02764703519642353, -0.015287816524505615, 0.00029092864133417606, -0.04124217852950096, 0.000544074340723455, -0.009551526978611946, 0.0149385342374444, 0.028882957994937897, 0.022004783153533936, -0.008020058274269104, 0.020164335146546364, -0.0017027511494234204, 0.01612072065472603, -0.015005704015493393, 0.022931724786758423, 0.005974742118269205, 0.004500367678701878, -0.03377290815114975, -0.022206293419003487, -0.002377806231379509, -0.019183658063411713, -0.03619101643562317, 0.022985460236668587, 0.006945343688130379, 0.00972616858780384, -0.003610369749367237, 0.017638755962252617, 0.004335802048444748, -0.019613543525338173, -0.01055907178670168, -0.026290208101272583, -0.002120882272720337, 0.014871364459395409, -0.01446834672242403, -0.02979646623134613, -0.004204821307212114, 0.016255060210824013, 0.0038286710623651743, 0.012198012322187424, 0.013299594633281231, -0.015516193583607674, -0.004312292672693729, -0.009920960292220116, -0.0020805804524570704, 0.0020167692564427853, -0.003301389282569289, 0.03353109955787659, -0.020097164437174797, -0.036217886954545975, -0.04159145802259445, 0.0016523738158866763, -0.0028748619370162487, -0.030172616243362427, -0.012883142568171024, 0.004923536907881498, -0.011559899896383286, 0.0035096153151243925, 0.030709972605109215, -0.17163193225860596, 0.015838608145713806, -0.002972257789224386, -0.021548030897974968, 0.010283675976097584, -0.022286895662546158, 0.027324622496962547, -0.0066497973166406155, -0.005161989014595747, 0.00015134166460484266, 0.01933143101632595, -0.002806012984365225, -0.03116672672331333, 0.008718622848391533, -0.005256026517599821, -0.002629692666232586, -0.010720279067754745, 0.01726260595023632, -0.0013417141744866967, 0.024154212325811386, 0.007731229066848755, -0.04097349941730499, 0.010364280082285404, 0.0007098994683474302, 0.006280364003032446, 0.01257416233420372, -0.004463424440473318, 0.020647956058382988, 0.005182140041142702, -0.008517114445567131, -0.013890687376260757, 0.0077110780403018, 0.02518862672150135, -0.0008648094953969121, 0.033208683133125305, -0.006015043705701828, -0.031220462173223495, -0.011606918647885323, -0.009249263443052769, 0.03302060812711716, 0.014441478997468948, -0.00650202389806509, 0.006676665041595697, 0.019183658063411713, -0.011667371727526188, 0.02330787479877472, 0.010008281096816063, 0.0021309577859938145, 0.006313948892056942, -0.02424824982881546, -0.007529719732701778, -0.012728651985526085, -0.000141371157951653, 0.00144750636536628, -0.002900050487369299, 0.0320264995098114, 0.010062016546726227, 0.02885608933866024, 0.01070012804120779, -0.01300404779613018, -0.013904121704399586, -0.01792086847126484, 0.004711952526122332, -0.025443870574235916, -0.002005014568567276, -0.011667371727526188, -0.004819423891603947, -0.0037010489031672478, -0.02955465391278267, 0.0009311395697295666, 0.015704268589615822, -0.03774935379624367, -0.006273647304624319, -0.022273462265729904, 0.0062299869023263454, -0.0019815051928162575, 0.006310590542852879, 0.008658170700073242, -0.006095647346228361, -0.025081153959035873, -0.023106366395950317, 0.03731947019696236, -0.009484357200562954, -0.018498526886105537, 0.01818954572081566, -0.0142534039914608, -0.006488590035587549, -0.0028798996936529875, 0.006747193168848753, -0.004762329626828432, 0.016899889335036278, -0.026034964248538017, 0.02311979979276657, -0.048630841076374054, 0.013501103967428207, 0.009504508227109909, 0.010250091552734375, 0.024745306000113487, 0.006179609801620245, 0.015838608145713806, 0.013729480095207691, -0.009081339463591576, -0.010243374854326248, 0.015489325858652592, 0.01263461448252201, 0.007603606674820185, -0.02279738523066044, -0.0007506210822612047, 0.007570021785795689, -0.0044197640381753445, -0.023751195520162582, -0.013548122718930244, 0.01921052485704422, 0.008946999907493591, -0.011868881061673164, 0.0402211993932724, -0.004805990029126406, -0.028802353888750076, 0.0076103233732283115, -0.013138387352228165, 0.043015457689762115, 0.0030679746996611357, -0.027969449758529663, -0.0042115384712815285, -0.012473407201468945, -0.036647770553827286, -0.10344129055738449, -0.018297018483281136, 0.010760581120848656, 0.022474970668554306, 0.011271070688962936, 0.03132793307304382, -0.0028731825295835733, -0.0026162585709244013, -0.010579222813248634, 0.037077657878398895, 0.006498665548861027, -0.04143025353550911, -0.03272506222128868, -0.009114923886954784, 0.008638019673526287, -0.009531375952064991, 0.0039730858989059925, -0.02608869969844818, 0.008322321809828281, 0.01683271862566471, 0.009000735357403755, -0.0015952796675264835, -0.011089712381362915, -0.0002122141740983352, -0.004067123401910067, 0.008349189534783363, -0.03022635169327259, 0.031569745391607285, 0.017437245696783066, -0.005743006709963083, 0.034417737275362015, -0.023966137319803238, 0.0016481757629662752, -0.0007220739498734474, -0.03979131206870079, -0.007274475414305925, -0.018914978951215744, -0.017289472743868828, 0.014011592604219913, 0.0038152371998876333, 0.005743006709963083, 0.0298770684748888, 0.0006221590447239578, 0.008732057176530361, -0.030360691249370575, -0.015650533139705658, 0.0018219773191958666, 0.003996595274657011, -0.013648876920342445, -0.01998969353735447, -0.02080916427075863, -0.017289472743868828, -0.027861978858709335, 0.009074622765183449, 0.000972280977293849, 0.00833575613796711, -0.0019076185999438167, -0.005017574410885572, -0.012365936301648617, 0.010243374854326248, -0.038125503808259964, 0.02135995402932167, -0.03245638310909271, 0.03817924112081528, -0.005944515578448772, -0.006931909825652838, -0.029151637107133865, -0.011432277970016003, -0.0021259200293570757, -0.0040469723753631115, -0.01162035297602415, 0.027539564296603203, -0.010203072801232338, -0.00448021711781621, -0.02807692252099514, -0.006441571284085512, -0.039227087050676346, -0.006643080152571201, 0.017396943643689156, -0.01870003528892994, -0.022542141377925873, -0.043203532695770264, 0.01757158525288105, -0.008624585345387459, 0.03815237060189247, 0.02023150399327278, -0.0035264077596366405, -0.008799226954579353, 0.04597092047333717, -0.0039999536238610744, -0.003654029918834567, 0.026102133095264435, 0.020164335146546364, -0.02936657890677452, -0.015637099742889404, 0.03041442669928074, -0.004302217159420252, -0.006062062457203865, 0.01597294770181179, -0.018283583223819733, -0.019506072625517845, 0.0037379921413958073, -0.04505741596221924, 0.050081703811883926, 0.02756643295288086, -0.005622101482003927, 0.0006313949124887586, -0.02772763930261135, 0.007388663478195667, -0.006884891074150801, 0.011492730118334293, 0.007046098355203867, 0.013339896686375141, 0.012083823792636395, -0.027754507958889008, -0.005467610899358988, -0.014535516500473022, -0.007744662929326296, 0.009538092650473118, -0.009873941540718079, 0.02670666016638279, 0.0038790483959019184, -0.005823610350489616, 0.006223269738256931, -0.0004124637634959072, 0.005675836931914091, -0.015865476801991463, 0.0009311395697295666, -0.013796649873256683, -0.0002453791967127472, -0.016228191554546356, 0.010827750898897648, 0.004268632270395756, -0.017128266394138336, -0.023885535076260567, 0.024664701893925667, -0.011250919662415981, -0.012406238354742527, 0.022071953862905502, 0.038125503808259964, 0.0171820018440485, 0.033450495451688766, -0.009309716522693634, -0.01655060611665249, -0.003207351779565215, 0.013151821680366993, -0.0027522773016244173, 0.0014970439951866865, 2.0150901036686264e-05, 0.006320666056126356, 0.01429370604455471, -0.0024735231418162584, 0.021265916526317596, 0.007885719649493694, 0.028560543432831764, -0.031301066279411316, -0.028023185208439827, 0.00775138009339571, 0.005413875449448824, -0.014320573769509792, 0.031059255823493004, 0.00020570711058098823, 0.04202134534716606, -0.003919350448995829, 0.007193871773779392, -0.016174456104636192, 0.013836951926350594, -0.01667151227593422, -0.011996502988040447, -0.009618696756660938, 0.019277695566415787, -0.03718512877821922, -0.02705594338476658, -0.029151637107133865, 0.02893669344484806, 0.0062904395163059235, -0.0018522036261856556, -0.006176250986754894, -0.007717795204371214, 0.0016422984190285206, -0.004413047339767218, -0.0028076921589672565, 0.016765549778938293, 0.009376886300742626, -0.024234816431999207, 0.0073819467797875404, 0.011600201949477196, 0.00023383440566249192, -0.02998454123735428, 0.03565366193652153, -0.011660655029118061, -0.024731872603297234, -0.026061831042170525, 0.02729775384068489, 0.00038349683745764196, 0.004349235910922289, 0.00360701116733253, 0.00012751741451211274, 0.011627069674432278, -0.0030948424246162176, 0.024651268497109413, 0.028211262077093124, 0.0029957671649754047, 0.0004844612558372319, -0.01220472902059555, -0.021642068400979042, -0.02027180604636669, 0.020298674702644348, -0.02912476845085621, -0.03439087048172951, -0.012782388366758823, -0.016805851832032204, -0.0007460031192749739, -0.01628192700445652, -0.020916635170578957, 0.018525395542383194, -0.0183507539331913, 0.017289472743868828, -0.012708501890301704, 0.006777419708669186, -0.004030180163681507, 0.012325634248554707, 0.01179499365389347, 0.003952934872359037, -0.01566396653652191, -0.009652281180024147, 0.006804287433624268, 0.008685038425028324, 0.04016746208071709, 0.0065759108401834965, 0.0028983713127672672, -0.0031284273136407137, 0.020473314449191093, 0.01976131647825241, 0.010760581120848656, 0.005652327556163073, -0.0017077889060601592, 0.004470141604542732, -0.018055208027362823, 0.007912587374448776, -0.004302217159420252, 0.09806771576404572, 0.019788185134530067, 0.002119203098118305, 0.016147589311003685, -0.02772763930261135, 0.015516193583607674, 0.019532939419150352, -0.008570849895477295, 0.011378541588783264, -0.039495766162872314, -0.005568365566432476, -0.012762237340211868, 0.017517849802970886, -0.02023150399327278, -0.011687522754073143, -0.02455723099410534, -0.010847901925444603, 0.020553918555378914, -0.030253218486905098, -0.027700772508978844, 0.006884891074150801, 0.015516193583607674, 0.007731229066848755, 0.01126435399055481, -0.0035667093470692635, -0.022004783153533936, 0.014656421728432178, 0.02780824340879917, -0.0004269472265150398, -0.041887007653713226, -0.013299594633281231, -0.005514629650861025, -0.006075496785342693, -0.029420314356684685, -0.013299594633281231, -0.006703533232212067, -0.00305957836098969, -0.03108612261712551, 0.01220472902059555, 0.022474970668554306, -0.01140541024506092, 0.0255782101303339, -0.013756348751485348, 0.010713562369346619, -0.0005709421820938587, 0.008664887398481369, -0.009732885286211967, -0.0077110780403018, -0.021991349756717682], [0.007134187500923872, -0.014375354163348675, 0.008143804967403412, -0.0014609372010454535, -0.017317287623882294, 0.013445970602333546, 0.000870879041031003, -0.0054860361851751804, -0.0003125803777948022, -0.01794579066336155, 0.023749422281980515, 0.03244149684906006, 0.011807848699390888, 0.017878929153084755, 0.0010756442788988352, 0.02171681448817253, 0.008230726234614849, -0.0047037494368851185, -0.00589723838493228, 0.0032428125850856304, -0.0054258606396615505, 0.02127552404999733, -0.0025407602079212666, 0.0030756571795791388, -0.009460989385843277, 0.01631435565650463, 0.016247494146227837, -0.0154184028506279, -0.00011982944124611095, -0.019363267347216606, 0.026704728603363037, -0.012636939063668251, -0.04142776504158974, 0.011781103909015656, -0.005800288170576096, -0.026530886068940163, -0.00022106285905465484, -0.002535745734348893, 0.017892301082611084, -0.01967083290219307, -0.00017843826208263636, 0.009922337718307972, -0.002617651829496026, -0.005783572793006897, -0.008625212125480175, 0.0027129303198307753, 0.02703903801739216, 0.010343569330871105, 0.014723037369549274, 0.013586381450295448, -0.008250785060226917, 0.028911177068948746, -0.028777454048395157, 0.0002626427449285984, 0.014562568627297878, -0.007675770670175552, 0.01293781865388155, 0.011613949202001095, -0.0008077779202722013, -0.017063211649656296, -0.01999177224934101, -0.0223052017390728, -0.027868129312992096, 0.019242916256189346, -0.00321941077709198, -0.014161395840346813, 0.01317183580249548, 0.005312195047736168, 0.007047266699373722, 0.007949905470013618, 0.034902021288871765, 0.0028550121933221817, -0.019831303507089615, -0.0037676801439374685, 0.013947436586022377, -0.004643573891371489, -0.0034116392489522696, 0.0013213625643402338, 0.013907319866120815, 0.0003558318130671978, 0.018186494708061218, -0.011252894066274166, -0.0162073764950037, 0.028830943629145622, 0.016274238005280495, 0.0026644552126526833, -0.016822507604956627, 0.03142519295215607, -0.03498225659132004, 0.007862984202802181, 0.034206658601760864, 0.024738982319831848, -0.004195597488433123, -0.015391658060252666, -0.0012762305559590459, -0.0026494113262742758, -0.029954226687550545, 0.02185053937137127, 0.0024488249327987432, -0.013646556995809078, 0.004188911523669958, -0.014295119792222977, -0.01339248102158308, -0.010323510505259037, -0.020031889900565147, -0.02000514417886734, -0.0013447642559185624, 0.0037609939463436604, 0.008765622973442078, -0.0023318161256611347, -0.02415059506893158, 0.004245744086802006, -0.016755646094679832, -0.014228257350623608, 0.0025507896207273006, 0.01345934346318245, 0.021235406398773193, -0.012610194273293018, 0.0015060690930113196, -0.014736409299075603, 0.03458108380436897, 0.012864270247519016, 0.02575528621673584, -0.010243276134133339, 0.00960808526724577, 0.04185568168759346, -0.04838142544031143, -0.022559277713298798, -0.021930772811174393, -0.008758937008678913, -0.025554699823260307, 0.013091601431369781, 0.01876150816679001, -0.0038178267423063517, -0.0047037494368851185, 0.026985548436641693, -0.0027563907206058502, 0.0037676801439374685, 0.0022081213537603617, -0.017344031482934952, 0.009882220067083836, 0.01432186458259821, -0.021422620862722397, -0.006763102952390909, 0.005389086436480284, 0.01380033977329731, 0.004265802912414074, 0.007074011489748955, -0.0001328884536633268, -0.014067788608372211, 0.003142519388347864, -0.000686590326949954, -0.010731369256973267, 0.021074937656521797, -0.00039699379703961313, 0.013813712634146214, -0.008010081015527248, 0.031184488907456398, -0.012108728289604187, -0.013586381450295448, -0.01749112829566002, 0.018453942611813545, 0.00773594668135047, -0.014843389391899109, 0.020633647218346596, 0.022024380043148994, -0.006702926941215992, -0.012977936305105686, 0.0005206887144595385, 0.00786967109888792, -0.028697218745946884, 0.024056987836956978, -0.032254282385110855, 0.03514272719621658, 0.013064856640994549, -0.00747518427670002, 0.008892660960555077, 0.011814535595476627, -0.01711670123040676, -0.02840302512049675, -0.0023368308320641518, 0.013439284637570381, 0.004309263080358505, -0.0003627269761636853, -0.021476110443472862, 0.004382811486721039, 0.012964563444256783, -0.00885923020541668, 0.012362804263830185, -0.0034601143561303616, 0.013466029427945614, 0.004713778849691153, -0.007635653484612703, -0.004095304291695356, -0.6508625745773315, -0.0351962149143219, 0.005218587815761566, -0.023829657584428787, 0.0003261617384850979, 0.030087951570749283, 0.020259220153093338, -0.001257007708773017, -0.026076223701238632, 0.02310754545032978, -0.03837885335087776, 0.003954893909394741, -0.027547189965844154, -0.024431416764855385, -0.014963740482926369, -0.013312246650457382, -0.014803271740674973, 0.00781618058681488, -0.003130818484351039, 0.018213240429759026, -0.02505991980433464, 0.006509026512503624, 0.0021496168337762356, 0.0165550597012043, 0.01864115707576275, -0.014228257350623608, 0.02346860244870186, -0.040411461144685745, -0.027547189965844154, -0.005646505393087864, -0.01051741000264883, 0.031318213790655136, 0.008504861034452915, 0.01815974898636341, 0.025474464520812035, -0.03902072831988335, -0.00015023081505205482, 0.02679833397269249, 0.011587204411625862, 0.03672067075967789, -0.016247494146227837, -0.018814997747540474, 0.010323510505259037, 0.009567968547344208, -0.01127295196056366, 0.025715168565511703, -0.00117175851482898, -0.01270380150526762, -0.009842103347182274, -0.056057196110486984, 0.016809135675430298, -0.012396235950291157, 0.0024956283159554005, 0.009414185769855976, 0.01276397705078125, -0.01000257208943367, 0.02124878019094467, -0.028135577216744423, -0.026731472462415695, 0.016260866075754166, 6.226534605957568e-05, -0.001962403068318963, -0.02483258955180645, -0.006137941963970661, -0.0014141337014734745, 0.001479324302636087, 0.00505811907351017, -0.005542869213968515, 0.03824513033032417, 0.03185310959815979, 0.01678238995373249, 0.01874813623726368, 0.0011341485660523176, -0.0031141028739511967, -0.004790670238435268, 0.01781206764280796, 0.006221519783139229, 0.0007463483489118516, -0.007254539057612419, 0.01529805175960064, -0.008658643811941147, -0.02899141237139702, -0.03701486438512802, 0.0026276810094714165, 0.031318213790655136, 0.012757291086018085, -0.008043511770665646, -0.016127141192555428, 0.009521164931356907, -0.011293010786175728, 0.02864372916519642, 0.005960757378488779, -0.005877179559320211, -0.019403384998440742, -0.017638225108385086, 0.031104255467653275, -0.005800288170576096, 0.004814072046428919, 0.021074937656521797, -0.00781618058681488, -0.008819112554192543, 0.008692074567079544, 0.011125855147838593, -0.021649952977895737, 0.02955305390059948, -0.013258757069706917, -0.006168029736727476, -0.007575477473437786, 0.02378953993320465, -0.032147303223609924, 0.02481921575963497, -0.004656946286559105, -0.03487527742981911, -0.002967006294056773, -0.011079052463173866, -0.03367175906896591, 0.010824976488947868, 0.019055701792240143, -0.0054158312268555164, -0.014936995692551136, 0.0029469477012753487, 7.485422247555107e-05, 0.02746695652604103, -0.006325155962258577, -0.007174304686486721, 0.014014299027621746, 0.00416885269805789, -0.011139228008687496, -0.02403024397790432, -0.011527027934789658, 0.0019206141587346792, -0.018213240429759026, 0.012563390657305717, 0.004015069920569658, 0.00810368824750185, 0.018427198752760887, -0.012817466631531715, -0.014468961395323277, 0.00782286748290062, -0.014896878972649574, -0.043406885117292404, -7.657801324967295e-05, 0.012516587972640991, -0.023950008675456047, -0.014749782159924507, -0.030970530584454536, -0.027186134830117226, -0.003358149668201804, 0.018667902797460556, -0.014455588534474373, 0.015819575637578964, -0.014415471814572811, -0.022331945598125458, 0.007936532609164715, 0.01587306521832943, 0.010015944950282574, -0.021074937656521797, -0.03436712548136711, 0.002910173498094082, -0.0067497300915420055, 0.010918582789599895, 0.020526668056845665, -0.020419688895344734, 0.0037910817191004753, -0.014228257350623608, -0.018908604979515076, 0.012757291086018085, -0.0021980919409543276, -0.013104974292218685, -0.0026360386982560158, 0.01622074842453003, 0.003433369565755129, 0.004834130872040987, 0.015659106895327568, -0.010136296041309834, -0.011961632408201694, -0.015445147641003132, -0.020847607403993607, -0.018828371539711952, -0.029954226687550545, 0.013024739921092987, 0.006361930165439844, -0.026129713281989098, -0.007889728993177414, 0.022117987275123596, 0.02576865814626217, 0.00948104728013277, -0.01688936911523342, -0.004850846249610186, 0.009400812909007072, -0.00199917727150023, 0.03324384242296219, -0.01149359717965126, 0.007949905470013618, -0.01815974898636341, 0.001516098389402032, 0.002921874402090907, -0.022358691319823265, 0.005282106809318066, 0.029258860275149345, 0.008237412199378014, 0.0012904388131573796, 0.03864630311727524, -0.02209124155342579, 0.010611017234623432, -0.04407550394535065, -0.00978192687034607, -0.02792161889374256, 0.030729826539754868, 0.013947436586022377, 0.007194363512098789, -0.02955305390059948, -0.013245384208858013, -0.004038471728563309, 0.011854652315378189, 0.021930772811174393, 0.0015587230445817113, 0.010036002844572067, 0.00497119827196002, 0.0042123133316636086, -0.0205667857080698, 0.016942858695983887, 0.027293113991618156, -0.01598004437983036, -0.031344957649707794, -0.009013012982904911, 0.0014291777042672038, 0.03278918191790581, 0.02138250321149826, 0.017745204269886017, -0.008885974995791912, -0.006254950538277626, 0.02033945545554161, 0.0157660860568285, 0.010437175631523132, 0.018373709172010422, 0.009668261744081974, -0.014308491721749306, 0.03573111444711685, 0.02794836275279522, -0.0031124313827604055, -0.008364450186491013, 0.004606799688190222, -0.0013623154954984784, -0.013706733472645283, -0.029606543481349945, 0.028670474886894226, 0.03426014631986618, 0.0008261649636551738, 0.013305560685694218, -0.009260402992367744, 0.006545800715684891, -0.007555418647825718, 0.0165550597012043, 0.02059353142976761, -0.009153422899544239, 0.01408116053789854, 0.0007016342715360224, 0.018814997747540474, 0.03827187418937683, 0.009260402992367744, 0.021355759352445602, 0.027787894010543823, -0.007916473783552647, -0.02345522865653038, 0.015177699737250805, -0.005001286044716835, -0.009079874493181705, 0.0015311423921957612, 0.003560407552868128, -0.0017049838788807392, -0.001434192294254899, 0.006940287537872791, -0.010430489666759968, 0.01781206764280796, -0.014388727024197578, 0.012409607879817486, 0.01156045962125063, 0.011975004337728024, 0.012677056714892387, -0.01955048181116581, -0.03091704100370407, 0.020660392940044403, 0.0223052017390728, -0.004794013686478138, -0.006729671731591225, -0.0016155558405444026, 0.023401739075779915, -0.012670370750129223, 0.0007918981718830764, -0.012449725531041622, 0.02044643461704254, -0.014361982233822346, -0.006793190725147724, 0.000837865867651999, 0.0053589981980621815, 0.02979375794529915, -0.018146377056837082, 0.0106310760602355, -0.01328550186008215, -0.0012519931187853217, -0.004854189231991768, -0.02241218090057373, -0.021877283230423927, 0.01277066394686699, 0.0006251607555896044, -0.006355243735015392, -0.032922904938459396, 0.02669135481119156, 0.006746387109160423, 0.01397418137639761, -0.014455588534474373, -0.010604331269860268, 0.01432186458259821, -0.010169727727770805, 0.002729645697399974, -0.00405853008851409, -0.01321863941848278, 0.06579232215881348, 0.011373245157301426, -0.0020175643730908632, -0.01408116053789854, -0.01873476430773735, -0.023481974378228188, 0.02286684326827526, 0.039368413388729095, 0.0051216380670666695, 0.0028031941037625074, 0.03968935087323189, -0.008872602134943008, -0.03514272719621658, -0.011573831550776958, -0.0006627707043662667, -0.009922337718307972, -0.013198581524193287, -0.016715528443455696, 0.023308131843805313, -0.004850846249610186, 0.01125958003103733, -0.010096179321408272, 0.0009653217275626957, -0.022492414340376854, 0.015725968405604362, 0.013211953453719616, -0.016595177352428436, 0.024297691881656647, 0.008230726234614849, 0.04313943535089493, -0.0027196165174245834, -0.013038111850619316, 0.022679628804326057, 0.016942858695983887, 0.006285038776695728, -0.026156459003686905, 0.007187677081674337, 0.028215812519192696, -0.00048475031508132815, -0.012570077553391457, -0.015592244453728199, 0.021890655159950256, 0.012884329073131084, 0.0015670807333663106, -0.008304274640977383, 0.001472637988626957, 0.009106620214879513, 0.011339814402163029, 0.013893947005271912, 0.015792831778526306, -0.0104572344571352, -0.020901096984744072, 0.005198529455810785, 0.043032456189394, -0.018560921773314476, -0.00451653590425849, 0.002520701615139842, -0.002751376014202833, 0.005084863863885403, -0.028376281261444092, -0.014214885421097279, -0.01367998868227005, -0.005365684628486633, -0.015217816457152367, 0.0027229594998061657, -0.027052411809563637, -0.02746695652604103, -0.025354113429784775, 0.007080697920173407, 0.00014239540905691683, -0.03070308268070221, -0.016474824398756027, -0.011707556433975697, -0.019470246508717537, -0.031906601041555405, 0.004225685726851225, -0.0012753948103636503, -0.008979582227766514, -0.029579799622297287, 0.015137582086026669, 0.03851257637143135, 0.023040683940052986, 0.0010137967765331268, 0.00924703013151884, -0.01852080598473549, 0.014268375001847744, -0.025461092591285706, -0.01246978435665369, -0.014468961395323277, -0.002950290683656931, -0.0101095512509346, 0.037549763917922974, -0.0007756004924885929, 0.0015837963437661529, -0.025100037455558777, -0.0035002315416932106, -0.0005829540314152837, 0.0018069485668092966, 0.013552950695157051, -0.023602325469255447, -0.017210308462381363, 0.014067788608372211, 0.0066394079476594925, 0.023749422281980515, -0.001830350374802947, 0.00554955517873168, 0.018427198752760887, -0.03059610351920128, 0.008805740624666214, 0.00704058026894927, -0.004195597488433123, 0.01619400456547737, 0.005422517191618681, 0.01172761432826519, -0.02103482000529766, 0.0020376229658722878, -0.009240344166755676, -0.021556345745921135, 0.014830016531050205, 0.0014542510034516454, 0.05011983960866928, -0.001736743375658989, 0.015137582086026669, 0.009059816598892212, -0.029472818598151207, -0.0101095512509346, -0.020285965874791145, 0.0005913118366152048, 0.010122924111783504, 0.007308029104024172, -0.021021448075771332, 0.0028533407021313906, -0.01378696784377098, 0.003607210936024785, -0.03254847601056099, 0.013031425885856152, 0.0025775344111025333, 0.0008353585144504905, -0.0059440420009195805, -0.01691611483693123, -0.008471429347991943, -0.012717173434793949, -0.00948773417621851, 0.012035179883241653, 0.004015069920569658, -0.01229594275355339, 0.010684565640985966, 0.023869775235652924, -0.010183099657297134, -0.004750553052872419, -0.005693309009075165, -0.02242555283010006, -0.02840302512049675, 0.005683279596269131, -0.013352364301681519, 0.015204444527626038, -0.0014926966978237033, -0.010102865286171436, -0.006034305784851313, -0.01631435565650463, -0.013292187824845314, -0.03990330919623375, -0.03391246497631073, -0.005532839801162481, 0.02104819379746914, 0.0102365892380476, 0.022933704778552055, 0.01396080944687128, -0.012382863089442253, 0.03059610351920128, -0.0074216946959495544, -0.011513656005263329, 0.002911844989284873, -0.001152535667642951, -0.01794579066336155, 0.017303915694355965, 0.026517514139413834, -0.017611481249332428, 0.019523736089468002, 0.0025558043271303177, 0.01608702354133129, 0.011426734738051891, -0.02336162142455578, 0.010229903273284435, 0.008812426589429379, -0.00924703013151884, 0.010885152034461498, -0.026932058855891228, 0.00592064019292593, -0.0035704367328435183, -0.029633289203047752, -0.013064856640994549, 0.017624853178858757, -0.016742272302508354, -0.0026711414102464914, 0.005302165634930134, 0.04161497950553894, -0.021823793649673462, 0.02381628379225731, 0.002692871494218707, 0.022251710295677185, -0.007368204649537802, -0.013907319866120815, -0.0109787592664361, 0.01702309399843216, 0.019135937094688416, 0.027627425268292427, 0.02941932901740074, -0.02655763179063797, 0.004997943062335253, 0.005258705001324415, -0.021208662539720535, -0.01265699788928032, 0.001131641212850809, -0.021583089604973793, -0.024632003158330917, -0.003557064337655902, -0.026718100532889366, -0.032708946615457535, -0.016153886914253235, 0.003904747311025858, -0.0027329889126122, -0.02231857366859913, 0.018440570682287216, -0.01747775636613369, -0.0029837219044566154, 0.014375354163348675, 0.025100037455558777, 0.043620843440294266, -0.016167258843779564, 0.04568019509315491, 0.043754566460847855, -0.008464743383228779, -0.020058633759617805, -0.016180630773305893, -0.01884174346923828, -0.010798231698572636, 0.029071645811200142, 0.019135937094688416, -0.050868693739175797, -0.019149309024214745, -0.0010923597728833556, 0.0008516561356373131, -0.025153527036309242, -0.025207016617059708, 0.016020162031054497, -0.007782749831676483, 0.025955872610211372, -0.009835416451096535, 0.008845857344567776, -0.020754000172019005, 0.004299233667552471, -0.009380754083395004, -0.0015520368469879031, 0.008524919860064983, -0.0023401740472763777, -0.026036106050014496, -0.0031508770771324635, 0.001284588361158967, 0.027627425268292427, 0.013646556995809078, -0.015672478824853897, -0.005258705001324415, -0.010811603628098965, -0.01114591397345066, -0.0010965386172756553, 0.0019741039723157883, 0.027159390971064568, 0.0004584233683999628, 0.02241218090057373, -0.0036272695288062096, 0.004981227219104767, -0.0034601143561303616, -0.004894306883215904, -0.00390809029340744, 0.027734404429793358, -0.00811706017702818, -0.01608702354133129, -0.006418762728571892, 0.0035804661456495523, 0.027105901390314102, -0.0007417515735141933, -0.026998920366168022, -0.011627321131527424, -0.027413466945290565, -0.004727151244878769, 0.03187985718250275, 0.035918328911066055, 0.02127552404999733, -0.006873425096273422, -0.016073651611804962, 0.0106310760602355, -0.03516947105526924, 0.001284588361158967, -0.0010020958725363016, -0.027065783739089966, 0.006853366736322641, 0.0005846255808137357, 0.013934064656496048, 0.034795042127370834, 0.01758473552763462, -0.0032912874594330788, 0.006037648767232895, 0.014000926166772842, -0.027065783739089966, 0.005990845151245594, 0.035704366862773895, 0.006743044126778841, -0.01747775636613369, 0.012095356360077858, 0.01035025529563427, -0.010657820850610733, 0.038004424422979355, -0.0034149824641644955, -0.015244562178850174, 0.021770304068922997, 0.012677056714892387, 0.03196008875966072, 0.007963277399539948, -0.0041454508900642395, 0.0010998817160725594, 0.030515868216753006, -0.00022503279615193605, -0.006873425096273422, -0.02150285616517067, 0.01599341817200184, 0.004539937246590853, 0.007675770670175552, 0.0411335714161396, -0.012055238708853722, 0.004439644515514374, 0.013165149837732315, -0.01523118931800127, 0.007535360287874937, -0.029044901952147484, 0.002264954149723053, -0.009099933318793774, 0.008932778611779213, -0.009280460886657238, 0.013064856640994549, -0.00204096594825387, -0.02332150563597679, -0.028349535539746284, 0.010684565640985966, 0.013191894628107548, -0.004753896035254002, -0.0068466803058981895, -0.0022916989400982857, -0.0018905262695625424, 0.00017237888823729008, -0.010056061670184135, -0.015552127733826637, 0.015926554799079895, -0.0036038679536432028, -0.015926554799079895, -0.0031408476643264294, 0.004894306883215904, 0.024672118946909904, 0.02297382242977619, -0.02104819379746914, -0.005850434768944979, -0.00764902587980032, -0.029847247526049614, -0.01622074842453003, -0.04656277596950531, 0.014067788608372211, -0.0008809083374217153, 0.011393303982913494, -0.015659106895327568, 0.03321709856390953, 0.009333951398730278, 0.015364913269877434, -0.015257934108376503, -0.0018520805751904845, -0.0108049176633358, 0.012376177124679089, 0.004787327256053686, 0.00032783328788354993, -0.014268375001847744, 0.0025808776263147593, 0.020085379481315613, -0.014214885421097279, 0.011801162734627724, 0.04514529928565025, -0.0101095512509346, -0.005566271021962166, 0.010504038073122501, 0.00643882155418396, 0.00468703405931592, 0.023749422281980515, 0.006184745579957962, -0.01967083290219307, 0.01212210115045309, 0.020272592082619667, 0.0007843761704862118, -0.0015996760921552777, 0.009280460886657238, 0.008143804967403412, -0.0030656277667731047, -0.006993777118623257, -0.009240344166755676, -0.033858973532915115, 0.027279742062091827, -0.04404876008629799, 0.018226612359285355, -0.008839171379804611, -0.018239984288811684, 0.0053589981980621815, 0.01573934219777584, 0.019376641139388084, -0.010263334028422832, 0.00603096280246973, -0.011125855147838593, 0.007682456634938717, -0.006779818329960108, -0.0007868834654800594, -0.008778995834290981, 0.003931492101401091, -0.0038044541142880917, -0.0017685028724372387, -0.009354009293019772, -0.022906959056854248, 0.00885923020541668, -0.03562413528561592, 0.012623567134141922, 0.02794836275279522, -0.019577227532863617, 0.010651134885847569, 0.00661266315728426, -0.00012379938561934978, 0.002833282109349966, 0.0042022839188575745, 0.00954790972173214, 0.0006468909559771419, -0.016407962888479233, 0.006733014713972807, -0.026504142209887505, -0.017397521063685417, 0.009527850896120071, -0.0003288780280854553, -6.921273597981781e-05, 0.013151777908205986, 0.21032145619392395, 0.0003923970216419548, -0.0031976804602891207, 0.03808465972542763, -0.010049375705420971, -0.00832433346658945, 0.011533714830875397, 0.015939928591251373, -0.005074834451079369, 0.024324437603354454, -0.014870134182274342, 0.008170549757778645, 0.00032010237919166684, 0.0001380075846100226, 0.019229544326663017, 0.00920022651553154, -0.008290901780128479, -0.019122565165162086, -0.03238800913095474, 0.038138147443532944, 0.03262871131300926, -0.0027162733022123575, 0.0019791184458881617, -0.024899451062083244, 0.009119992144405842, -0.005258705001324415, -0.004984570667147636, -0.025327367708086967, 0.015926554799079895, 0.02669135481119156, -0.021690068766474724, 0.016728900372982025, 0.02136913128197193, -0.006218176335096359, -0.016822507604956627, -0.01654168590903282, 0.00497119827196002, -0.0011934887152165174, 0.0216098353266716, -0.0025959215126931667, -0.024110477417707443, -0.0332973338663578, -0.006535771768540144, -0.0034266833681613207, 0.007241166662424803, 0.03129146993160248, -0.006271666381508112, -0.012623567134141922, 0.01794579066336155, 0.021823793649673462, -0.009514478966593742, 0.005482693202793598, 0.03169264271855354, 0.04327315837144852, -0.0009277118369936943, -0.00995576847344637, 0.010611017234623432, -0.00626497995108366, 0.026998920366168022, -0.007428380660712719, -0.02390989102423191, 0.0015737669309601188, -0.019283033907413483, 0.029499564319849014, -0.025207016617059708, 0.021208662539720535, -0.027172762900590897, 0.005476007238030434, 0.0057902587577700615, -0.0038947181310504675, 0.0044095562770962715, -0.028937922790646553, -0.010878466069698334, 0.0031893227715045214, -0.016407962888479233, -0.007147559896111488, 0.03979633003473282, 0.004386154469102621, 0.02645065262913704, 0.033404313027858734, -0.002341845538467169, -0.0016615234781056643, -0.015939928591251373, -0.03634624555706978, -0.007361518684774637, -0.03599856048822403, 0.008765622973442078, 0.01955048181116581, 0.020633647218346596, 0.011881397105753422, 0.004616829100996256, 0.009113306179642677, -0.006682868115603924, -0.006722985301166773, 0.016260866075754166, -0.025568071752786636, -0.009614772163331509, -0.011413362808525562, -0.013419225811958313, 0.015819575637578964, 0.016501570120453835, 0.03717533499002457, 0.020526668056845665, -0.023254642263054848, 0.0020693824626505375, -0.0074618118815124035, 0.005837062373757362, -0.0029820501804351807, 0.013813712634146214, -0.014241630211472511, 0.0020376229658722878, -0.043888289481401443, 0.0006548308301717043, -0.008959523402154446, 0.00079106236808002, 0.04645579680800438, 0.015084092505276203, 0.00788304302841425, 0.0020192358642816544, -0.008986268192529678, 0.007515301462262869, -0.019710950553417206, 0.008551664650440216, 0.006071079988032579, 0.0010931955184787512, -0.029927480965852737, -0.014856761321425438, -0.0004926901892758906, -0.024672118946909904, -0.03220079466700554, 0.034313637763261795, 0.0013723449083045125, 0.016167258843779564, 0.0006034305552020669, 0.013920691795647144, 0.0024120507296174765, -0.018092887476086617, -0.009260402992367744, -0.017437638714909554, -0.013673301786184311, 0.013185208663344383, -0.019149309024214745, -0.01806614361703396, 0.006412076763808727, 0.0019774469546973705, 0.0036473283544182777, 0.02504654787480831, -0.0021145143546164036, -0.009327264502644539, 0.0019323150627315044, -0.01414802297949791, -0.004787327256053686, -0.00838450901210308, -0.005114951636642218, 0.019817929714918137, -0.000511077290866524, -0.022840097546577454, -0.030622847378253937, 0.011975004337728024, 0.0007551239687018096, -0.006866739131510258, -0.0101095512509346, -0.003777709323912859, 0.00606773653998971, -0.0024571826215833426, 0.009835416451096535, -0.1711670160293579, 0.017664970830082893, 0.00046845266479067504, -0.01168081071227789, 0.00756210507825017, 0.008284215815365314, 0.027199506759643555, -0.007053953129798174, -0.003224425483494997, 0.007702515460550785, 0.017985908314585686, -0.0003207291883882135, -0.028456514701247215, 0.009815358556807041, -0.0003054762782994658, 0.0032779150642454624, -0.016528313979506493, 0.026276810094714165, 0.0026377104222774506, 0.03169264271855354, 0.030890295282006264, -0.03666718304157257, 0.0023786197416484356, -0.00327457208186388, 0.0029469477012753487, 0.014388727024197578, -0.007762691471725702, 0.016046907752752304, 0.006629378534853458, -0.009253716096282005, -0.013867202214896679, 0.022612767294049263, 0.02033945545554161, 0.0022900274489074945, 0.030435632914304733, -0.01224913913756609, -0.01817312277853489, -0.009059816598892212, 0.003336419351398945, 0.026477396488189697, 0.02416396699845791, -0.005780229810625315, -0.0030221675988286734, 0.022224966436624527, -0.014335237443447113, 0.02760067954659462, 0.01218896359205246, -0.007180991116911173, 0.0008052705670706928, -0.01656843163073063, -0.00045758759370073676, -0.025461092591285706, 0.029178626835346222, 0.008832485415041447, -0.007889728993177414, 0.013425912708044052, 0.01598004437983036, 0.011179345659911633, 0.003523633349686861, -0.012048552744090557, 0.0031458623707294464, -0.019510364159941673, -0.0015328138833865523, -0.01057090051472187, -1.1178509339515585e-05, -0.013432598672807217, -0.0034166539553552866, -0.02251916006207466, -0.03233451768755913, -0.008210667409002781, 0.008631899021565914, -0.03377873823046684, 0.0016748958732932806, -0.04206964001059532, 0.006853366736322641, -0.007729260250926018, -0.0004943617386743426, 0.011988377198576927, -0.022345317527651787, -0.018654529005289078, -0.01791904680430889, 0.036961376667022705, 0.007889728993177414, -0.007261225488036871, 0.005522810388356447, -0.018694646656513214, 0.00879236776381731, -0.003480172948911786, -0.0021529600489884615, -0.008979582227766514, 0.01691611483693123, -0.007247853092849255, 0.017410894855856895, -0.03931492194533348, 0.0066795251332223415, 0.008097002282738686, 0.001561230281367898, 0.02818906679749489, -0.0037208765279501677, 0.019858047366142273, 0.0029385897796601057, -0.005666564218699932, -0.022131359204649925, 0.0025491181295365095, 0.03575785830616951, 0.0037676801439374685, -0.019858047366142273, 0.007107442710548639, 0.0219575185328722, 0.006636064499616623, -0.029151881113648415, -0.012209021486341953, 0.022626139223575592, 0.01069793850183487, -0.011486911214888096, 0.044449932873249054, -0.00788304302841425, -0.029178626835346222, 0.012209021486341953, -0.028082087635993958, 0.058571211993694305, -0.004717122297734022, -0.029873991385102272, -0.0028449830133467913, -0.014228257350623608, -0.024324437603354454, -0.09483721852302551, -0.030061205849051476, 0.00321941077709198, 0.023481974378228188, 0.024056987836956978, 0.02127552404999733, -0.011413362808525562, -0.004028442315757275, -0.005934012588113546, 0.04656277596950531, 0.015284678898751736, -0.049504708498716354, -0.03139844909310341, 0.0007818688172847033, 0.0023401740472763777, -0.0007906444952823222, -0.0038947181310504675, -0.019577227532863617, -0.014656174927949905, 0.018694646656513214, -0.007160932291299105, -0.006261636968702078, -0.003690788522362709, 0.006395360920578241, 0.0011675796704366803, 0.010764800012111664, -0.020499924197793007, 0.037870701402425766, 0.018079515546560287, -0.0010137967765331268, 0.028135577216744423, -0.012382863089442253, 0.01345934346318245, -0.010370314121246338, -0.027894873172044754, -0.006716299336403608, -0.007227794267237186, -0.035463664680719376, 0.01702309399843216, -0.013546263799071312, 0.014509078115224838, 0.030622847378253937, -2.742391370702535e-05, -0.0035971817560493946, -0.018106259405612946, -0.004596770275384188, 0.011139228008687496, 0.01829347386956215, 0.00042081341962330043, -0.02530062384903431, -0.031237978488206863, -0.013191894628107548, -0.03209381550550461, -0.0038980611134320498, 0.003690788522362709, -0.006920228712260723, 0.00195404514670372, -0.0035069177392870188, -0.014896878972649574, -0.011293010786175728, -0.019630717113614082, 0.015097465366125107, -0.029258860275149345, 0.029847247526049614, -0.011801162734627724, -0.01292444672435522, -0.02689194120466709, -0.024217456579208374, 0.004396183881908655, -0.004416242707520723, -0.01304479781538248, 0.03779046609997749, -0.007308029104024172, -0.005522810388356447, -0.02070051059126854, -0.0002864623675122857, -0.03565087914466858, -0.012369491159915924, 0.015191071666777134, -0.0028499974869191647, -0.027226252481341362, -0.03583809360861778, 0.015284678898751736, -0.003094044281169772, 0.02875070832669735, 0.01512421015650034, -0.00626497995108366, 0.010149668902158737, 0.03081006184220314, -0.005736769177019596, -0.002360232640057802, 0.020860979333519936, 0.021128427237272263, -0.026009362190961838, -0.0035403489600867033, 0.023776168003678322, -0.009039757773280144, -0.008284215815365314, 0.0024906136095523834, -0.012095356360077858, -0.023883147165179253, 0.0023184437304735184, -0.04594764485955238, 0.04311269149184227, 0.009079874493181705, 0.00150189024861902, -0.017344031482934952, -0.013987554237246513, 0.008317646570503712, -0.0008892660844139755, 0.013011367060244083, 0.013298874720931053, 0.01086509320884943, 0.004987913649529219, -0.028697218745946884, -0.013606440275907516, -0.017557991668581963, -0.008698760531842709, -0.0037609939463436604, -0.0009369053295813501, 0.01432186458259821, 0.004292547702789307, -0.00805688463151455, 0.00937406811863184, 0.016060279682278633, 0.010042689740657806, 0.0004596770158968866, -0.007435067091137171, -0.028830943629145622, -0.008364450186491013, -0.016394590958952904, 0.004974541254341602, 0.0017919046804308891, -0.02369593270123005, -0.03567762300372124, 0.0317193865776062, -0.005840405356138945, -0.018480688333511353, 0.017196934670209885, 0.031318213790655136, 0.020299337804317474, 0.025621561333537102, -0.008250785060226917, -0.018346963450312614, 0.009347323328256607, 0.018908604979515076, 0.00399501109495759, 0.0013104974059388041, -0.007702515460550785, -0.0026778276078402996, 0.015284678898751736, -0.0021914057433605194, 0.03268219903111458, 0.0035804661456495523, 0.0154184028506279, -0.031451936811208725, -0.006555830128490925, -0.0017985908780246973, -0.0005674921558238566, -0.010530782863497734, 0.035490408539772034, 0.012409607879817486, 0.033858973532915115, -0.010036002844572067, -0.00014573850785382092, -0.01838708110153675, 0.0008341048378497362, -0.005492722615599632, -0.0025039862375706434, -0.007341459859162569, 0.0022398808505386114, -0.024311063811182976, -0.02035282738506794, -0.024738982319831848, 0.019042329862713814, 0.003961580339819193, 0.0011324770748615265, -0.001872139167971909, -0.01064444798976183, -0.01218227669596672, -0.004285861272364855, -0.008819112554192543, 0.025942500680685043, 0.012997995130717754, -0.025100037455558777, -0.004677004646509886, 0.02357558161020279, 0.0255279541015625, -0.021944144740700722, 0.024110477417707443, -0.005439233034849167, -0.01737077720463276, -0.007949905470013618, 0.0027697631157934666, 0.008678702637553215, 0.004091961309313774, 0.010316823609173298, -0.004630201496183872, 0.013907319866120815, 0.006676182150840759, 0.010423803701996803, 0.019135937094688416, -0.001672388636507094, -0.0035771229304373264, -0.008672015741467476, -0.028349535539746284, -0.016849253326654434, 0.011286324821412563, -0.02333487756550312, -0.035115983337163925, -0.01495036855340004, -0.006622692104429007, 0.00658591790124774, 0.007094070315361023, -0.01897546835243702, 0.019028957933187485, -0.018092887476086617, 0.004707092884927988, -0.002044309163466096, 0.002826595911756158, -0.012977936305105686, 0.009213599376380444, 0.018106259405612946, -0.006552487146109343, -0.006967032328248024, -0.02071388252079487, 0.01991153694689274, -0.004549966659396887, 0.03690788522362709, 0.008391194976866245, 0.010664506815373898, -0.015792831778526306, 0.006164686754345894, 0.023040683940052986, 0.015271306969225407, -0.0024939568247646093, -0.01064444798976183, 0.012536645866930485, -0.0058571211993694305, -0.002605950925499201, -0.0025023145135492086, 0.10045363754034042, 0.008885974995791912, -0.012302628718316555, 0.009066502563655376, -0.02749370038509369, 0.006188088562339544, 0.017758578062057495, -0.005713367369025946, 0.006589261349290609, -0.0496651791036129, -0.003358149668201804, -0.006920228712260723, 0.011934887617826462, -0.03388571739196777, -0.00393483554944396, -0.01979118585586548, -0.004386154469102621, 0.020540041849017143, -0.04902330040931702, -0.04129404202103615, 0.025808775797486305, 0.006448850966989994, 0.01039705891162157, 0.007448439486324787, 0.007575477473437786, -0.040170758962631226, 0.019042329862713814, 0.002091112546622753, 0.011239521205425262, -0.04078589007258415, 0.0045466236770153046, -0.018360335379838943, -0.023254642263054848, -0.028536750003695488, 0.0047706118784844875, -0.023762794211506844, 0.0004107840941287577, -0.027627425268292427, 0.014027670957148075, 0.010383686050772667, -0.01864115707576275, 0.02539423108100891, -0.016528313979506493, 0.0017735175788402557, 0.00017154311353806406, 0.01333230547606945, -0.0010296765249222517, -0.008471429347991943, -0.024204084649682045], [-0.032603323459625244, -0.006327266339212656, -0.0006269547739066184, -0.010339107364416122, -0.02398405224084854, 0.013062743470072746, -0.04282866790890694, -0.003580208867788315, -0.010385951958596706, -0.012480541132390499, 0.023836828768253326, 0.008438585326075554, 0.0011744423536583781, 0.012554152868688107, 0.001112541533075273, 0.016047365963459015, 0.018965069204568863, -0.011650735512375832, -0.003039831528440118, -0.009020787663757801, 0.014347603544592857, 0.017425913363695145, -0.007421404588967562, 0.001217103679664433, 0.00801699049770832, 0.019125675782561302, 0.019420122727751732, -0.024720171466469765, -0.012259705923497677, 0.004888490773737431, 0.024492643773555756, -0.019205980002880096, -0.028802277520298958, -0.004614119417965412, -0.015565543435513973, -0.01865723729133606, 0.030890176072716713, 0.006430991925299168, 0.0034145822282880545, 0.0031151161529123783, 0.0002593141980469227, 0.0271025151014328, -0.00019709969637915492, 0.004028571303933859, -0.015578927472233772, 0.005634646397083998, 0.03597607836127281, 0.03586900606751442, -0.004025225527584553, 0.02082543820142746, 0.00020337341993581504, 0.01389254815876484, -0.020504223182797432, 0.00493533443659544, -0.0001875845337053761, -0.017733745276927948, 0.010633554309606552, 0.0010949750430881977, -0.0019507119432091713, -0.03827812150120735, 0.006012743338942528, -0.015846606343984604, 0.0012455446412786841, 0.029016422107815742, -0.008498813025653362, -0.011269292794167995, -0.0009561165352351964, -0.007535168435424566, -0.0013919316697865725, -4.6138058678479865e-05, 0.034610915929079056, 0.030542192980647087, -0.02247166633605957, -0.02141433395445347, 0.04138319939374924, -0.018871381878852844, 0.007729236036539078, -0.003004698548465967, -0.006708709057420492, -0.006153274793177843, 0.008973944000899792, -0.010258804075419903, -0.033165447413921356, 0.016515804454684258, 0.01721177063882351, 0.04673678055405617, -0.005383697338402271, 0.012360085733234882, -0.018670622259378433, 0.0023455386981368065, 0.0038211201317608356, 0.02683483622968197, 0.006715401075780392, 0.015712765976786613, -0.01580645516514778, 0.00468103913590312, -0.0005274115828797221, 0.0318002849817276, 0.0063908398151397705, -0.021133270114660263, -0.038545798510313034, 0.0010874465806409717, -0.0031853821128606796, -0.005353583488613367, -0.02033023163676262, -0.005721642170101404, 0.012179401703178883, 0.01974133774638176, 0.015752919018268585, 0.0024542834144085646, -0.011356288567185402, 0.010339107364416122, -0.027075747027993202, 0.00024802147527225316, 0.008980635553598404, 0.004824916832149029, 0.026098718866705894, -0.010794161818921566, -0.010004508309066296, -0.0148160420358181, 0.01885799691081047, -0.018764309585094452, 0.023957284167408943, -0.013029282912611961, 0.01747944951057434, 0.02037038467824459, -0.03669881448149681, -0.024787090718746185, -0.035199809819459915, -0.023863596841692924, -0.01800142414867878, 0.018550166860222816, 0.005373659078031778, -0.02466663531959057, 0.004744613077491522, 0.006270384415984154, -0.015980446711182594, -0.002114665461704135, -0.0026115449145436287, -0.024532794952392578, -0.0148160420358181, 0.03495889902114868, -0.019995633512735367, -0.021762315183877945, 0.01908552460372448, -0.016221357509493828, 0.01662287674844265, -0.004704461432993412, -0.02154817245900631, -0.018684005364775658, -0.01576630212366581, -0.0027403654530644417, 0.005658068228513002, -0.015297864563763142, -0.01218609418720007, 0.00716041773557663, -0.01569938287138939, 0.020624680444598198, 0.01090792566537857, -0.035199809819459915, -0.012246321886777878, 0.03080987185239792, 0.01095476932823658, -0.01547185517847538, 0.016207972541451454, 0.0238502137362957, -0.000560871500056237, -0.009710061363875866, -0.00410552928224206, -0.011041765101253986, 0.0008532273350283504, 0.030274514108896255, -0.026593925431370735, 0.025349216535687447, -0.02595149539411068, 0.008144138380885124, -0.003767584217712283, 0.014173611998558044, -0.017452681437134743, -0.0506448969244957, -0.02335500717163086, -0.006601637229323387, 0.012882059440016747, -0.015311247669160366, -0.04360493645071983, 0.004794802982360125, 0.017265306785702705, -0.004567275755107403, 0.0029511628672480583, -0.012286473996937275, -0.008391741663217545, 0.006354033946990967, -0.020638063549995422, 0.000859919295180589, -0.630437970161438, -0.025335833430290222, 0.008110678754746914, -0.02592472732067108, 0.008532273583114147, 0.026353012770414352, 0.007963455282151699, 0.014200379140675068, -0.008318129926919937, 0.03672558069229126, -0.041704412549734116, 0.0008544820593670011, -0.024720171466469765, -0.009221547283232212, -0.029096724465489388, -0.0028357261326164007, -0.020209776237607002, -0.005430541001260281, 0.02328808791935444, 0.0101182721555233, -0.0274371150881052, 0.0426412895321846, 0.022190602496266365, 0.008358282037079334, 0.025871191173791885, -0.011342904530465603, 0.02545628882944584, -0.010981537401676178, -0.007126957643777132, -0.001972460886463523, -0.026339629665017128, 0.005105980206280947, -0.017358994111418724, 0.026353012770414352, 0.03841196000576019, -0.016181206330657005, 0.014909729361534119, 0.0441402941942215, 0.012875367887318134, 0.018898148089647293, -0.01304266694933176, -0.0011660773307085037, 0.023769909515976906, 0.012012102641165257, -0.018255718052387238, 0.03811751306056976, -0.004855030681937933, -0.010198576375842094, -0.01438775472342968, -0.0383048877120018, 0.02269919216632843, 0.002211699029430747, -0.005005600396543741, 0.021293876692652702, -0.0019390009110793471, -0.005925747565925121, 0.020932510495185852, -0.03699326142668724, 0.002589795971289277, 0.028079545125365257, -0.004774726927280426, 0.017158234491944313, 0.0036805884446948767, -0.019460275769233704, -0.004356478340923786, 0.02066483162343502, -0.007990223355591297, -0.01780066452920437, 0.009241622872650623, 0.012239629402756691, 0.010151732712984085, 0.009977741166949272, 0.02773156203329563, 0.013905932195484638, 0.0030465235468000174, 0.023769909515976906, 0.026071950793266296, 0.01062686275690794, 0.0022050070110708475, 0.02877550944685936, -0.021869387477636337, -0.03311191126704216, -0.029685618355870247, 0.014775889925658703, 0.005741718225181103, -0.0009753559716045856, -0.01401300448924303, -0.0019323090091347694, -0.001733222627080977, -0.011951874941587448, -0.01872415654361248, 0.006568177603185177, -0.003496559103950858, -0.03166644647717476, -0.0159001424908638, 0.02877550944685936, -0.0006545591750182211, 0.014227147214114666, 0.019594114273786545, -0.025710582733154297, -0.010646938346326351, 0.0012689665891230106, -0.008619269356131554, -0.033888183534145355, 0.013296962715685368, -0.014588514342904091, 0.003643782576546073, -0.02654038928449154, 0.04491656273603439, -0.03279069811105728, 0.0148160420358181, -0.005825367756187916, 0.009502610191702843, -0.011229140684008598, -0.02463986724615097, -0.029284100979566574, 0.007876459509134293, -0.0025713930372148752, -0.010941386222839355, 0.003320894669741392, -0.005989321041852236, 0.014923113398253918, 0.01580645516514778, -0.009301850572228432, -0.0020929165184497833, 0.002450937405228615, 0.009643142111599445, -0.02125372551381588, -0.02450602687895298, -0.014427906833589077, -0.024532794952392578, -0.019928714260458946, 0.029444707557559013, -0.01253407634794712, 0.0056078783236444, -0.0010723896557465196, 0.01199202612042427, -0.0010631881887093186, -0.02773156203329563, -0.021146653220057487, -0.022551968693733215, 0.012079021893441677, 0.0073076412081718445, -0.010178499855101109, -0.008853488601744175, -0.03450384363532066, -0.020945893600583076, 0.018911533057689667, 0.00413898890838027, -0.006126506719738245, -0.01576630212366581, -0.006022781133651733, -0.021668627858161926, 0.004343094304203987, 0.004814879037439823, 0.0007616308867000043, -0.020945893600583076, -0.02904318831861019, 0.01402638852596283, -0.000624445325229317, 0.015552159398794174, 0.0389740876853466, -0.015445088036358356, 0.0033359515946358442, -0.012199478223919868, -0.01612767018377781, 0.0023488847073167562, -0.014548362232744694, 0.008532273583114147, -0.016649644821882248, 0.008478737436234951, -0.001033910783007741, 0.03198765963315964, 0.02434542030096054, -0.023047175258398056, -0.00983720924705267, -0.004175794776529074, 0.002305386820808053, 0.006912814453244209, 0.008900332264602184, 0.01863046921789646, -0.0019908638205379248, -0.016408732160925865, -0.015980446711182594, -0.0016629567835479975, 0.021508021280169487, 0.029980067163705826, -0.02075851894915104, -0.01146335992962122, 0.009181395173072815, -0.021240342408418655, -0.006548101548105478, 0.0032188419718295336, -0.004028571303933859, -0.014668818563222885, -0.010305647738277912, 0.030622495338320732, -0.009569530375301838, -0.00280059315264225, 0.032469481229782104, 0.016770100221037865, -0.002798920264467597, 0.04090137779712677, -0.0033945064060389996, 0.005738371983170509, -0.007468248717486858, 0.006467797793447971, -0.008585808798670769, 0.008605885319411755, -0.006012743338942528, 0.007046653889119625, -0.005296701565384865, 0.01639534905552864, 0.011697579175233841, 0.0030465235468000174, 0.010633554309606552, -0.006159966811537743, -0.002097935415804386, 0.02346207946538925, 0.016087517142295837, -0.004543853923678398, -0.00845866184681654, 0.029230564832687378, -0.028454294428229332, -0.00908101536333561, -0.0009887398919090629, 0.04727214202284813, 0.004011841490864754, 0.013143046759068966, 0.005276625510305166, 0.0018503322498872876, 0.0020912433974444866, 0.021441100165247917, 0.010158424265682697, -0.003908115904778242, 0.008806644007563591, 0.015873374417424202, -0.01358471717685461, -0.0011225794441998005, 0.012139249593019485, -0.009014096111059189, 0.0072273374535143375, -0.013946084305644035, 0.02148125320672989, 0.020129473879933357, -0.02069159969687462, 0.02204337902367115, -0.014133459888398647, -0.021869387477636337, 0.006795704830437899, 0.009689985774457455, 0.010934693738818169, -0.03300483897328377, 0.02683483622968197, 0.016930706799030304, -0.029016422107815742, 0.010017892345786095, 0.00957622192800045, 0.031719982624053955, 0.034637682139873505, 0.006594945210963488, 0.01084100641310215, 0.020410535857081413, -0.013136355206370354, 0.008284670300781727, 0.01974133774638176, 0.013049359433352947, -0.002452610293403268, 0.008659420534968376, 0.006441029720008373, -0.010499714873731136, -0.02184261940419674, 0.028936117887496948, -0.04250745102763176, 0.02739696204662323, -0.01994209736585617, 0.017198385670781136, 0.019527195021510124, 0.02319439873099327, 0.005112672224640846, -0.023073943331837654, -0.04360493645071983, 0.0260451827198267, 0.015940293669700623, 0.002146452199667692, -0.018911533057689667, 0.0003724504495039582, 0.030890176072716713, -0.029846226796507835, 0.0050524440594017506, -0.005952515173703432, -0.001596873509697616, -0.010633554309606552, -0.004607427399605513, 0.0006980570615269244, 0.002770479302853346, 0.01895168423652649, -0.011055149137973785, -0.014856193214654922, 0.016341812908649445, -0.015886757522821426, 0.002608198905363679, 0.011389748193323612, -0.02213706634938717, 0.01935320347547531, -0.0019038680475205183, -0.006223540753126144, -0.0017215115949511528, 0.014146843925118446, 0.01563246361911297, -0.0020761864725500345, 0.01863046921789646, 0.0024894161615520716, 0.001714819693006575, -0.014534978196024895, -0.012132558040320873, -0.009977741166949272, -0.004028571303933859, 0.02703559584915638, 0.017760513350367546, -0.01350441388785839, -0.03281746432185173, -0.0015776340151205659, -0.01668979600071907, 0.021039582788944244, 0.025871191173791885, -0.012948979623615742, 0.004838300868868828, 0.03182705119252205, 0.002402420388534665, -0.0361902229487896, -0.013129662722349167, -0.0012212861329317093, -0.00581532996147871, -0.02775833010673523, 0.00639753183349967, 0.004272828809916973, 0.018282486125826836, 0.03659174218773842, 0.018777692690491676, 0.0008816682384349406, -0.023381775245070457, -0.0035233269445598125, -0.005353583488613367, -0.03233564272522926, 0.007929995656013489, -0.01067370641976595, 0.023930517956614494, 0.005159515887498856, 0.0017566444585099816, 0.02154817245900631, -0.003039831528440118, 0.011349596083164215, -0.021066350862383842, 0.0006123160710558295, 0.03956298157572746, 0.012507309205830097, 0.02644670195877552, -0.011443284340202808, 0.0137185575440526, 0.015980446711182594, 0.01304266694933176, 0.0016328429337590933, -0.007842999882996082, 0.030568961054086685, 0.007929995656013489, 0.01511048898100853, 0.023595917969942093, -0.014039772562682629, -0.02073175087571144, -0.0036370905581861734, 0.05104641616344452, -0.019406739622354507, -0.005460654851049185, 0.015538775362074375, -0.030006833374500275, 0.008431893773376942, -0.023435311391949654, 0.01764005608856678, 0.004607427399605513, -0.004085453227162361, -0.015886757522821426, 0.01599382981657982, -0.025737350806593895, -0.017760513350367546, 0.003944921772927046, -0.024987850338220596, 0.01197195053100586, -0.01743929833173752, -0.025777503848075867, 0.0018586971564218402, -0.02089235931634903, -0.022685809060931206, 0.004212600644677877, 0.022150451317429543, 0.017586521804332733, -0.01958073116838932, 0.025630280375480652, 0.029712386429309845, 0.0020310156978666782, 0.0004186669539194554, 0.00010032740829046816, 0.013437493704259396, -0.002708578482270241, -0.03862610459327698, -0.026781300082802773, 0.010325723327696323, -0.02043730393052101, -0.0010372567921876907, 0.018737541511654854, -0.016341812908649445, -0.008204366080462933, -0.004570621531456709, 0.00798353087157011, 0.022592121735215187, -0.0010849371319636703, 0.027517417445778847, 0.010700474493205547, 0.023528998717665672, 0.02683483622968197, 0.0020561106503009796, 0.011242524720728397, 0.009569530375301838, -0.0013375593116506934, 0.004567275755107403, -0.02992653101682663, -0.015297864563763142, -0.015578927472233772, -0.006504603661596775, 0.0076623158529400826, -0.01519079227000475, 0.01626150868833065, -0.01142990030348301, 0.010740626603364944, -0.010767394676804543, -0.022096915170550346, 0.021869387477636337, -0.013404034078121185, 0.002547970972955227, 0.02148125320672989, -0.01305605098605156, 0.010111580602824688, 0.0045906975865364075, -0.027048978954553604, -0.03321898356080055, -0.006420954130589962, 0.013156430795788765, 0.012045562267303467, -0.004142335150390863, 0.0224315132945776, -0.010205267928540707, -0.024318652227520943, -0.026071950793266296, 0.015123873017728329, -0.03348666429519653, 0.009656526148319244, 0.013758708722889423, -0.03022097796201706, -0.013839012943208218, -0.006123160943388939, 0.020838823169469833, 0.0008574098465032876, -0.002086224500089884, -0.017988039180636406, -0.013250118121504784, 0.011289368383586407, -0.01869739033281803, -0.03557455912232399, -0.02075851894915104, -0.0296320840716362, -0.02775833010673523, 0.008157522417604923, -0.008960559964179993, -0.005360275041311979, 0.01141651626676321, -0.013825628906488419, -0.018309254199266434, -0.022511817514896393, -0.001714819693006575, -0.03453061357140541, -0.013216658495366573, -0.015445088036358356, 0.03442354127764702, 0.023863596841692924, 0.03624375909566879, 0.016663027927279472, 0.002333827782422304, 0.005982629489153624, -0.016636259853839874, -0.002148125320672989, 0.010780778713524342, 0.014468058943748474, -0.011396440677344799, 0.0135646415874362, 0.008980635553598404, -0.020062552765011787, -0.0076623158529400826, 0.003519980935379863, 0.00949591863900423, 0.008545657619833946, -0.011476743966341019, -0.006257000379264355, -0.009703369811177254, -0.03453061357140541, -0.0024609751999378204, -0.04202562943100929, 0.013946084305644035, -0.0036203607451170683, -0.026714380830526352, 0.013852396979928017, 0.0077426196075975895, 0.0035266729537397623, -0.010493023321032524, -0.009134551510214806, 0.039402373135089874, -0.006635097321122885, 0.017292074859142303, 0.0039549595676362514, -0.0035668248310685158, -0.013437493704259396, -0.0073076412081718445, -0.002675118623301387, 0.0077426196075975895, 0.004751305095851421, 0.004630849696695805, -0.007809539791196585, -0.01994209736585617, 0.0025730659253895283, 0.001121743000112474, 0.009924205020070076, -0.010058044455945492, 0.014735737815499306, 0.005614570342004299, -0.035628095269203186, -0.008866872638463974, -0.0383048877120018, -0.028802277520298958, -0.019339820370078087, 0.007749311625957489, 0.002770479302853346, -0.014628666453063488, 0.010854390449821949, -0.02207014709711075, -0.009422306902706623, 0.01725192181766033, 0.002624928718432784, 0.04066046327352524, -0.013250118121504784, 0.05249188467860222, 0.029096724465489388, 0.001955730840563774, -0.04194532334804535, -0.0072139534167945385, -0.00020661485905293375, -0.004908566828817129, 0.017653441056609154, 0.014722353778779507, -0.02138756588101387, -0.0011351269204169512, 0.007374560926109552, -0.00179846934042871, -0.032308876514434814, -0.0375821553170681, 0.007729236036539078, 0.003643782576546073, 0.02184261940419674, -0.022257521748542786, -0.0038746558129787445, -0.01251400075852871, 0.02423834800720215, -0.010901234112679958, 0.00036596760037355125, -0.02089235931634903, 0.003918153699487448, -0.007796155754476786, 0.0071202656254172325, -0.024693403393030167, 0.04563929885625839, 0.010687090456485748, -0.009616374038159847, -0.009977741166949272, -0.002210026141256094, 0.0014345929957926273, 0.006313882302492857, -0.0020912433974444866, 0.032897770404815674, -0.0025780850555747747, 0.008117370307445526, -0.012239629402756691, 0.009904129430651665, -0.006022781133651733, -0.007501708343625069, -0.01300920732319355, 0.025964878499507904, -0.02473355457186699, -0.022739345207810402, 0.02536260150372982, -0.00025743208243511617, -0.004918604623526335, -0.012079021893441677, -0.008552349172532558, -0.013785476796329021, -0.02368960529565811, 0.009168011136353016, 0.015565543435513973, 0.022123683243989944, 0.031853821128606796, -0.011095301248133183, -0.018255718052387238, 0.01297574769705534, -0.03233564272522926, -0.013296962715685368, 0.0020711675751954317, -0.02746388129889965, -0.011784574948251247, 0.004507048055529594, -0.016448885202407837, 0.03351343050599098, -0.00030092993983998895, 0.0042527527548372746, 0.019661035388708115, 0.02362268604338169, -0.016435500234365463, -0.0022334479726850986, 0.024546179920434952, 9.677228808868676e-05, -0.01539155188947916, 0.0007775243138894439, 0.021374180912971497, -0.0057785240933299065, 0.02346207946538925, 0.006072971038520336, -0.015659231692552567, -0.015123873017728329, 0.025041386485099792, 0.005433887243270874, 0.01619458943605423, -0.0027253085281699896, 0.015793070197105408, 0.03929530084133148, 0.0032556478399783373, -0.006722093094140291, 0.0009711734601296484, 0.02947147563099861, -0.022163834422826767, -0.004195870831608772, 0.004323018714785576, 0.002992987632751465, 0.01197195053100586, -0.012125866487622261, -0.021896155551075935, 0.0058755576610565186, -0.017492832615971565, 0.002638312755152583, -0.00019814532424788922, 0.015565543435513973, -0.027156051248311996, -0.012580920942127705, 0.004821571055799723, -0.014146843925118446, -0.0028390721417963505, -0.016234740614891052, 0.022444898262619972, 0.003834503935649991, 0.025630280375480652, 0.02299364097416401, -0.025483056902885437, 0.004072069190442562, -0.022297674790024757, -0.018938301131129265, 0.02220398746430874, -0.008405125699937344, -0.024920929223299026, 0.00962306559085846, -0.005524228792637587, 0.0281866155564785, 0.055730801075696945, -0.007147033698856831, -0.01800142414867878, -0.012099098414182663, -0.015311247669160366, -0.00983720924705267, -0.025188609957695007, 0.006283768452703953, 0.008251209743320942, 0.0034697912633419037, -0.024131275713443756, 0.035333648324012756, 0.005651376210153103, -0.02484062686562538, 0.016863787546753883, -0.02315424755215645, 0.0021280492655932903, 0.028400758281350136, 0.031131086871027946, 0.007300949189811945, -0.026660844683647156, 0.003227206878364086, 0.03437000513076782, 0.005045752041041851, 0.002034361707046628, 0.01849663071334362, -0.010961461812257767, 0.006046202965080738, 0.0035601328127086163, -0.012801756151020527, -0.013644944876432419, 0.0076623158529400826, 0.023207783699035645, -0.025335833430290222, 0.0011008305009454489, 0.015498623251914978, -0.007802847772836685, -0.0018971760291606188, 0.008405125699937344, -0.008090603165328503, -0.010292263701558113, -0.009830517694354057, -0.007019886281341314, -0.0274371150881052, 0.010145040228962898, -0.021829236298799515, 0.009750213474035263, 0.038358423858881, -0.01678348332643509, 0.0281866155564785, 0.017399145290255547, -0.015297864563763142, -0.010847697965800762, -0.004962102510035038, -0.011061841621994972, 0.005751756019890308, 0.005758448038250208, 0.0026332938577979803, -0.014481442980468273, -0.022659040987491608, -0.01820218376815319, -0.025964878499507904, 0.019620882347226143, -0.00823113415390253, 0.002226755954325199, -0.04727214202284813, 0.021534789353609085, 0.0058487895876169205, -0.013250118121504784, 0.022913336753845215, 0.01784081570804119, -0.013905932195484638, 0.020972661674022675, 0.01718500256538391, -0.007669007871299982, -0.022779496386647224, 0.012326625175774097, 0.005410464946180582, -0.0090341717004776, -0.01937997154891491, -0.0012120846658945084, -0.011282676830887794, -0.0023639416322112083, 0.014481442980468273, 0.20782610774040222, -0.0032071310561150312, -0.007421404588967562, 0.03731447458267212, -0.00849212147295475, 0.007481632754206657, 0.03530688211321831, 0.010794161818921566, 0.020945893600583076, 0.019005220383405685, 0.011905030347406864, 0.02319439873099327, -0.00908101536333561, 0.0016110939905047417, 0.03742154687643051, 0.004881798755377531, -0.015659231692552567, -0.033058375120162964, -0.0369129553437233, 0.021494636312127113, 0.008257902227342129, -0.017814047634601593, -0.001439612009562552, 0.0009987779194489121, 0.016248125582933426, -0.017747128382325172, -0.010506407357752323, -0.004142335150390863, 0.02014285698533058, 0.03008713759481907, -0.02463986724615097, 0.017880968749523163, 0.017091315239667892, -0.013685096986591816, 0.0027135976124554873, -0.013678405433893204, 0.004460203927010298, -0.0026115449145436287, 0.006892738398164511, 0.016970859840512276, -0.018255718052387238, -0.027651257812976837, 0.021641859784722328, -0.0007825433276593685, 0.009375462308526039, 0.006594945210963488, -0.012734835967421532, 0.0025513169821351767, 0.02371637336909771, -0.0055911485105752945, -0.002064475556835532, 0.009602990001440048, 0.016114285215735435, 0.013905932195484638, -0.006939582526683807, -0.026433316990733147, 0.01734560914337635, -0.0056078783236444, -0.012607689015567303, -0.020905742421746254, -0.004276174586266279, 0.01146335992962122, -0.007341100834310055, 0.01612767018377781, -0.047780729830265045, 0.024291884154081345, -0.01632842980325222, 0.013731940649449825, -0.008666113018989563, 0.0041456809267401695, 0.0056747980415821075, -0.00694627407938242, -0.021668627858161926, -0.011905030347406864, -0.030167441815137863, -0.022485049441456795, 0.005353583488613367, -0.0013400687603279948, 0.011349596083164215, 0.022163834422826767, 0.0015073682880029082, -0.007990223355591297, -0.019661035388708115, -0.02082543820142746, 0.003964997828006744, -0.009669910185039043, 0.010091504082083702, 0.03929530084133148, -0.0026650805957615376, -0.007468248717486858, -0.015204176306724548, 0.019112292677164078, -0.016181206330657005, -0.03209473192691803, 0.0213474128395319, -0.020557759329676628, -0.00975690595805645, -0.01856354996562004, -0.032148268073797226, -0.007849691435694695, -0.0169842429459095, 0.05830052122473717, 0.021588323637843132, -0.005162861663848162, 0.003991765435785055, 0.0009226566180586815, 0.023395158350467682, -0.009683293290436268, 0.02125372551381588, -0.018175415694713593, 0.013363881967961788, -0.0440867580473423, -0.0056078783236444, 0.0015358092496171594, 0.00023505576245952398, 0.029257332906126976, 0.01560569554567337, -0.002434207359328866, 0.011617275886237621, -0.004855030681937933, 0.0068492405116558075, -0.013390650041401386, 0.007387944962829351, 0.035761937499046326, -0.0060629332438111305, -0.03142553195357323, -0.009255006909370422, -0.0013944411184638739, -0.010285572148859501, -0.03150583803653717, 0.01569938287138939, -0.0044401283375918865, 0.003934883512556553, -0.013665021397173405, 0.012487232685089111, 0.0035701708402484655, -0.01432083547115326, -0.001845313236117363, -0.01639534905552864, 0.00016186224820557982, 0.015485239215195179, 0.007849691435694695, -0.0009527705260552466, -0.000317869009450078, 0.005283317528665066, 0.014508211053907871, 0.03610992059111595, -0.0077426196075975895, -0.021508021280169487, -0.014160227961838245, 0.008813336491584778, -0.0026299478486180305, -0.006464452017098665, 0.004965448286384344, 0.024385571479797363, -0.023729758337140083, -0.024974465370178223, -0.021789083257317543, -0.01899183727800846, -0.0064008780755102634, -0.026620693504810333, -0.011884954757988453, 0.025483056902885437, 0.002163182245567441, -0.011309444904327393, 0.014079923741519451, -0.16981565952301025, 0.007816231809556484, -0.02362268604338169, -0.026915140450000763, 0.013705173507332802, -0.016877170652151108, 0.032442715018987656, 0.0006717073847539723, -0.0040519931353628635, -0.00342963938601315, 0.024532794952392578, -0.005885595455765724, -0.03916146233677864, 0.014160227961838245, 0.0035032511223107576, -0.005129402037709951, -0.01790773682296276, 0.014615282416343689, -0.0019523849477991462, 0.007889843545854092, 0.02174893207848072, -0.03487859666347504, 0.014347603544592857, -0.013785476796329021, 0.006246962584555149, 0.013102894648909569, -0.013430802151560783, 0.015257712453603745, 0.012273089960217476, -0.003894731868058443, -0.003837849944829941, 0.011737731285393238, 0.023395158350467682, 0.003230552887544036, 0.0347447544336319, 0.01325681060552597, -0.02125372551381588, 0.01039933506399393, -0.0019490389386191964, 0.020678214728832245, 0.03581547364592552, -0.016381964087486267, 0.012085714377462864, 0.004453511908650398, 0.007327717263251543, 0.03482506051659584, 0.02549644000828266, 0.016596108675003052, 0.01865723729133606, -0.017332226037979126, -0.007675699889659882, -0.0009577894816175103, 0.002263561822474003, 0.006012743338942528, -0.0101182721555233, 0.02592472732067108, 0.0028390721417963505, 0.01895168423652649, 0.0024459182750433683, -0.011945182457566261, -0.009228238835930824, -0.019928714260458946, -0.01569938287138939, -0.019165828824043274, -0.02095927856862545, -0.006380802020430565, -0.0017516255611553788, -0.016944091767072678, -0.019433507695794106, -0.011229140684008598, 0.01197195053100586, -0.025483056902885437, -0.013578025624155998, -0.018309254199266434, 0.008967251516878605, 0.0007532659219577909, -0.021628476679325104, 0.011657427996397018, -0.00924831535667181, -0.014133459888398647, -0.009716753847897053, 0.05482069402933121, -0.012654532678425312, -0.01540493592619896, 0.015056952834129333, 0.009636449627578259, -0.01090792566537857, -0.012092405930161476, 0.0024877432733774185, 0.0002841999812517315, 0.04090137779712677, 0.01330365426838398, -3.918467336916365e-05, -0.03950944542884827, 0.01163065992295742, 0.03886701539158821, -0.01671656407415867, 0.018898148089647293, 0.0015224252128973603, 0.010078120045363903, 0.02069159969687462, 0.0013626542640849948, -0.01705116219818592, 0.005530920810997486, 0.020383767783641815, -0.0005031531909480691, -0.026393165811896324, 0.017559753730893135, 0.037662457674741745, -0.01619458943605423, -0.003463099244982004, -0.007863075472414494, 0.021963074803352356, 0.009268390946090221, 0.00987066887319088, 0.04582667350769043, -0.017666824162006378, -0.010191883891820908, 0.025416135787963867, -0.026660844683647156, 0.04903882369399071, -0.00594582362100482, -0.010733934119343758, -0.0034764830488711596, -0.017680209130048752, -0.002084551379084587, -0.10021907836198807, -0.0426948256790638, -0.007769387681037188, -0.003369411453604698, -0.01580645516514778, 0.0072139534167945385, -0.0072273374535143375, -0.0020460726227611303, -0.03311191126704216, 0.029551779851317406, 0.01253407634794712, -0.043016042560338974, -0.024398956447839737, -0.014842809177935123, 0.028159847483038902, -0.014722353778779507, -0.014561746269464493, -0.031586140394210815, 0.0033459896221756935, 0.025108305737376213, 0.012808447703719139, -0.0032472829334437847, -0.001843640231527388, -0.0044836257584393024, -0.015592311508953571, -0.014173611998558044, -0.01741253025829792, 0.02463986724615097, 0.010794161818921566, -0.0014437944628298283, 0.004376554396003485, -0.012380161322653294, -0.0012840235140174627, -0.013731940649449825, -0.033192217350006104, 0.0030281206127256155, -0.02346207946538925, -0.012447081506252289, 0.0281866155564785, -0.022324442863464355, 0.01189164724200964, 0.026915140450000763, -0.0012514000991359353, 0.0023488847073167562, -0.023609302937984467, -0.013825628906488419, -0.00017399145872332156, 0.023247934877872467, 0.0032523018307983875, -0.024251732975244522, -0.03776952996850014, -0.021280493587255478, -0.025188609957695007, -0.008291361853480339, 0.01272814441472292, -0.0018101803725585341, 0.019326435402035713, 0.028159847483038902, -0.012607689015567303, 0.007428096607327461, 0.0017348956316709518, 0.0067756287753582, -0.02394390106201172, 0.03921499848365784, -0.008431893773376942, 0.0007014030707068741, -0.02233782596886158, -0.02303379215300083, -0.0025412789545953274, -0.026058565825223923, -0.009449074044823647, 0.027651257812976837, -0.011838111095130444, -0.00799691490828991, -0.008973944000899792, -0.0036136687267571688, -0.02405097335577011, -0.014856193214654922, 0.013102894648909569, -0.024586331099271774, -0.028454294428229332, -0.012386852875351906, 0.02194969169795513, 0.002305386820808053, 0.04844992980360985, 0.017037779092788696, -0.0008423528634011745, -0.0037140483036637306, 0.03479829058051109, -0.013731940649449825, 0.01008481252938509, 0.029819458723068237, -0.002529568038880825, -0.027972472831606865, -0.004677693359553814, 0.02759772166609764, 0.005002254154533148, -0.013731940649449825, 0.015525391325354576, -0.007682391908019781, -0.014561746269464493, -0.013417418114840984, -0.037528619170188904, 0.04724537208676338, 0.010814238339662552, -0.0063071902841329575, -0.011362980119884014, -0.03078310377895832, -0.014561746269464493, 0.008418509736657143, -0.0018252372974529862, -0.00481153279542923, -0.002556336112320423, 0.04004480317234993, -0.023181015625596046, 0.010834313929080963, -0.009502610191702843, -0.03166644647717476, 0.016448885202407837, -0.009094399400055408, 0.021039582788944244, 0.02217721939086914, -0.018054960295557976, -0.007100189570337534, 0.012018794193863869, 0.01836279034614563, -0.006641789339482784, -0.0038278119172900915, -0.022163834422826767, -0.0034463691990822554, -0.0061331987380981445, 0.0038579259999096394, 0.03972358629107475, -0.03383464738726616, -0.022364594042301178, 0.008177598007023335, 0.0009971049148589373, -0.027999240905046463, -0.010064736939966679, 0.019768105819821358, 0.04293573647737503, 0.024920929223299026, -0.007876459509134293, -0.01292890403419733, -0.0006382475257851183, 0.0003245609987061471, -0.016007214784622192, -0.008083910681307316, -0.006772282999008894, 0.015016800723969936, 0.01737237721681595, 0.005430541001260281, 0.027115900069475174, 0.021374180912971497, 0.011115376837551594, -0.03803721070289612, 0.002097935415804386, 0.01005135290324688, -0.00572498794645071, 0.005266587715595961, 0.013076127506792545, -0.007468248717486858, 0.03337959200143814, 0.006096392869949341, 0.001271476037800312, 4.890895797871053e-05, -0.0002319188934052363, 0.009850593283772469, -0.019687801599502563, 0.014990033581852913, 0.011423208750784397, -0.04456857964396477, -0.02979269064962864, 0.0028591479640454054, 0.016703179106116295, 0.005751756019890308, 0.0008348244009539485, -0.0007490834104828537, -0.010586710646748543, 0.0004270319186616689, -0.0033192215487360954, -0.009957664646208286, -0.00037830593646503985, -0.002367287641391158, -0.010974845848977566, 0.016248125582933426, 0.04368523880839348, 0.0090341717004776, 0.0016102574300020933, 0.025643663480877876, 0.0054037729278206825, -0.01628827676177025, 0.00359693868085742, 0.012654532678425312, 0.004336402285844088, 0.015913525596261024, -0.0010104888351634145, 0.014655434526503086, -0.013691789470613003, 0.041838254779577255, 0.025054769590497017, 0.02834722399711609, 0.0013718557311221957, -0.002546298084780574, -0.004580659791827202, -0.002450937405228615, -0.0101182721555233, 0.04082107171416283, -0.02739696204662323, -0.02572396770119667, -0.0043464405462145805, 0.017037779092788696, -0.017599904909729958, -0.010493023321032524, -8.175455150194466e-06, 0.018148647621273994, 0.008177598007023335, -0.0040754154324531555, -0.013591409660875797, -0.01619458943605423, 0.0004872597346547991, 0.012734835967421532, 0.0021063003223389387, 0.007434788625687361, 0.021508021280169487, -0.00435982458293438, 0.02138756588101387, 0.009060939773917198, 0.04654940590262413, -0.03892055153846741, 0.015752919018268585, -0.014133459888398647, 0.011362980119884014, -0.0180683434009552, -0.005520882550626993, 0.01764005608856678, 0.009382154792547226, 0.005888941697776318, -0.018536781892180443, -0.004343094304203987, 0.0005098451511003077, 0.08683512359857559, -0.010111580602824688, -0.012286473996937275, 0.012882059440016747, -0.04638879746198654, 0.020905742421746254, 0.03254978731274605, -0.013879165053367615, -0.0018871381180360913, -0.05075196921825409, 0.014789273962378502, -0.022003227844834328, 0.022511817514896393, -0.028454294428229332, -0.02116003818809986, -0.032308876514434814, -0.02441233955323696, 0.017171617597341537, -0.007722544018179178, -0.02506815269589424, 0.001073226099833846, -0.022377977147698402, 0.041249360889196396, 0.024653250351548195, 0.0008256229339167476, 0.0033945064060389996, 0.0021380872931331396, 0.02253858558833599, 0.010640246793627739, -0.03343312814831734, 0.01547185517847538, -0.008505505509674549, -0.01488296128809452, -0.01980825886130333, -0.0013492702273651958, 0.007140341680496931, 0.0029980065301060677, -0.024760322645306587, 0.009602990001440048, 0.004634195473045111, -0.009736829437315464, 0.005390389356762171, -0.02667422778904438, -0.01088785007596016, -0.00845866184681654, -0.011014997959136963, -0.004620811436325312, 0.004246060736477375, -0.009348695166409016], [-0.014966636896133423, -0.011512798257172108, -0.011622443795204163, -0.01532298605889082, -0.011951380409300327, 0.009888671338558197, -0.023148946464061737, -0.0008416163618676364, -0.008545511402189732, -0.022216958925127983, 0.012677783146500587, 0.03289370983839035, -0.016323503106832504, 0.00151105469558388, 0.007777991238981485, 0.016227561980485916, 0.002991271670907736, 0.0036080286372452974, 0.0016626741271466017, 0.008997799828648567, -0.016008270904421806, 0.016200151294469833, -0.005797516088932753, 0.008703126572072506, 0.003796482225880027, 0.008456423878669739, 0.023998701944947243, -0.02161390706896782, -0.007613522931933403, -0.008374189957976341, 0.024053523316979408, -0.013637183234095573, -0.03346934914588928, 0.01837936043739319, -0.021997667849063873, -0.007394231390208006, 0.01816006749868393, -0.0006347457529045641, 0.012773723341524601, -0.0024241977371275425, 0.01870829612016678, 0.015569688752293587, 0.002975852694362402, 0.0021123928017914295, -0.0113688874989748, 0.005396624095737934, 0.020558567717671394, 0.0016892289277166128, 0.001959916902706027, 0.01554227713495493, 0.006064777262508869, 0.029933273792266846, -0.033716052770614624, -0.00766149302944541, 0.0016498250188305974, -0.01169782504439354, 0.02331341616809368, -0.004495473578572273, -0.01421282347291708, -0.033277466893196106, -0.00694194296374917, -0.03845822811126709, -0.01237625814974308, 0.020983444526791573, 0.0034795375540852547, -0.006499934010207653, -0.009450088255107403, 0.010669896379113197, -0.004457782953977585, -0.0017646104097366333, 0.04333746060729027, 0.013602918945252895, -0.02062709629535675, 3.595072485040873e-05, 0.034373924136161804, -0.007743726950138807, 0.0001221735728904605, 0.00790819525718689, 0.005591930355876684, -0.00041309872176498175, 0.01191711612045765, -0.02105197310447693, -0.011026245541870594, 0.02075044810771942, 0.011862293817102909, 0.040843021124601364, -0.014966636896133423, 0.02639720030128956, -0.03240030258893967, 0.004149404354393482, 0.014185411855578423, 0.014623994939029217, 0.007805402856320143, 0.0051225097849965096, -0.00879906676709652, -0.0077094631269574165, -0.011375741101801395, 0.04426945000886917, 0.019640285521745682, -0.033825695514678955, -0.01332195196300745, -0.010066845454275608, -0.014980343170464039, -0.006362876854836941, -0.025328155606985092, -0.014459526166319847, 0.009772172197699547, 0.015871213749051094, 0.019338758662343025, -0.0012480763252824545, -0.014226528815925121, 0.01636461913585663, -0.010580809786915779, -0.018543828278779984, 0.014027795754373074, 0.014788462780416012, 0.019530639052391052, 0.008339925669133663, 0.0008942976710386574, -0.0091417096555233, 0.023121535778045654, 0.0032294082920998335, 0.03530591353774071, -0.03363381698727608, 0.014171705581247807, 0.023477884009480476, -0.038403403013944626, -0.031166788190603256, -0.025944912806153297, -0.002335110679268837, 0.009874965064227581, 0.007921901531517506, 0.01371256448328495, -0.01784483715891838, -0.009189680218696594, 0.005869471002370119, -0.012835399247705936, 0.005674164742231369, 0.009655673988163471, -0.01136203482747078, 0.00585233885794878, 0.036731306463479996, -0.00256296806037426, -0.018680885434150696, 0.024615459144115448, 0.007579258643090725, 0.02220325358211994, 0.009265061467885971, -0.024670280516147614, -0.016748379915952682, -0.012670930474996567, -0.016460560262203217, -0.015117400325834751, 0.017995599657297134, 0.005876324139535427, 0.012013056315481663, 0.006736357230693102, 0.012958750128746033, 0.00766149302944541, -0.02530074492096901, 0.003128328826278448, 0.025369271636009216, 0.0007204064750112593, -0.007264027372002602, 0.024217993021011353, 0.027712948620319366, -0.004540016874670982, -0.016131622716784477, -0.0003818325640168041, 0.01670726202428341, -0.01572045125067234, 0.00947064720094204, -0.008888154290616512, 0.030837852507829666, 0.00841530691832304, 0.005081392824649811, 0.019366171211004257, 0.02776777185499668, -0.016652440652251244, -0.030371857807040215, -0.03637496009469032, 0.0004959754296578467, 0.030728206038475037, -0.02598602883517742, -0.030152566730976105, 0.007531288545578718, 0.014802169054746628, -0.011944527737796307, 0.023477884009480476, -0.0010973135940730572, 0.0005473718629218638, 0.002583526773378253, -0.009744761511683464, 0.01093030534684658, -0.6372607946395874, -0.008771655149757862, 0.01043004635721445, -0.01008740346878767, 0.002168928971514106, 0.03089267387986183, 0.016241269186139107, -0.0012540726456791162, -0.005547387059777975, 0.037169888615608215, -0.03352417051792145, 0.01025872491300106, -0.012437933124601841, -0.012108996510505676, -0.023121535778045654, -0.020791564136743546, -0.010491722263395786, 0.013568654656410217, 0.020366687327623367, -7.57561792852357e-05, -0.047421764582395554, 0.016583912074565887, 0.004687353502959013, 0.023491589352488518, 0.02228548750281334, 0.00914856232702732, 0.015871213749051094, -0.039499860256910324, -0.019530639052391052, -0.04246029630303383, -0.01400038506835699, 0.010272431187331676, 0.014322469010949135, 0.023875350132584572, 0.02684948965907097, -0.036292724311351776, 0.009710497222840786, 0.03489474207162857, 0.0041014342568814754, 0.022778892889618874, -0.008483835496008396, -0.01673467457294464, 0.02397128939628601, 0.00824398547410965, -0.024464694783091545, 0.04572225362062454, 0.004214506596326828, -0.003912980668246746, -0.012999868020415306, -0.04824410378932953, 0.004509179387241602, -0.0119924983009696, -0.01550116017460823, 0.010861776769161224, -0.00013587927969638258, -0.018543828278779984, 0.018009305000305176, -0.01940728724002838, 0.0037279536481946707, -0.0006818591500632465, 0.0028833390679210424, 0.0119924983009696, -0.0032619594130665064, -0.023477884009480476, 0.0046325307339429855, 0.001438243081793189, -0.005506269633769989, -0.007250321563333273, 0.03325005620718002, 0.00824398547410965, 0.013061542995274067, 0.01059451512992382, 0.008956682868301868, 0.011937675066292286, -0.0012549292296171188, 0.0240672305226326, 0.0190646443516016, 0.010827512480318546, -0.00970364362001419, 0.029385047033429146, -0.021106796339154243, -0.024711398407816887, -0.045777078717947006, -0.0027531348168849945, 0.010053139179944992, 0.006112747360020876, -0.008812773041427135, 0.01186914648860693, -0.002991271670907736, -0.0227377749979496, 0.0018674032762646675, 0.004940909333527088, 0.005794089753180742, -0.015693040564656258, 0.012492756359279156, 0.02486216090619564, -0.004341284278780222, 0.012198083102703094, 0.025725621730089188, -0.019640285521745682, -0.0208600927144289, -0.005749545991420746, -0.007449054159224033, -0.028014475479722023, 0.011327770538628101, -0.017474781721830368, 0.0024241977371275425, -0.016803203150629997, 0.028151532635092735, -0.03999326750636101, 0.02519109845161438, 0.011019391939043999, -0.01739254780113697, -0.008566070348024368, -0.019023528322577477, -0.028590114787220955, 0.005766678135842085, 0.02184690535068512, -0.02127126418054104, 0.0030837850645184517, 0.0021312381140887737, 0.014569171704351902, 0.016638733446598053, -0.0258626788854599, -0.012067879550158978, 0.0049374825321137905, 0.03231806680560112, -0.013938709162175655, -0.028727171942591667, -0.014569171704351902, -0.010937158018350601, -0.013952414505183697, 0.006791179999709129, -0.020544862374663353, 0.01883164793252945, 0.004046611487865448, 0.007695757318288088, -0.01204046793282032, -0.009100592695176601, -0.03122161142528057, -0.03903386741876602, 0.0020764153450727463, 0.015199634246528149, -0.024122051894664764, -0.019201701506972313, -0.022984478622674942, -0.0293028112500906, 0.003947244957089424, 0.004587986972182989, -0.021559083834290504, 0.008908712305128574, -0.006643843837082386, -0.017447371035814285, -0.009374707005918026, 0.002482447074726224, -0.00010413128620712087, -0.0028679200913757086, -0.017186962068080902, -0.008216573856770992, -0.0016018550377339125, -0.005002584774047136, 0.017008788883686066, -0.00655133044347167, -0.004091154783964157, -0.01940728724002838, -0.02028445340692997, 0.011293506249785423, -0.007311997469514608, -0.007449054159224033, -0.014281352050602436, 0.011581326834857464, -0.003486390458419919, 0.015048871748149395, 0.011108479462563992, -0.011910263448953629, 0.016981376335024834, -0.006239525508135557, -0.017337724566459656, -0.01826971396803856, -0.017872247844934464, 0.024944394826889038, 0.007092705927789211, -0.015076283365488052, -0.021901726722717285, 0.024670280516147614, 0.015418926253914833, 0.02943986840546131, -0.020147396251559258, 0.006613005883991718, 0.00512936245650053, -0.02272406965494156, 0.016529088839888573, 0.020462628453969955, -0.0023231180384755135, 0.0015418925322592258, 0.014500643126666546, 0.030262211337685585, -0.015597100369632244, -0.01410317700356245, 0.03272923827171326, 0.029686572030186653, 0.015898626297712326, 0.04415980353951454, -0.012348846532404423, 0.008833331055939198, -0.01704990491271019, 0.009107445366680622, -0.019133172929286957, 0.010210755281150341, 0.009922935627400875, 0.0167209692299366, -0.007455907296389341, -0.0002651198592502624, 0.006986486725509167, 0.007051588501781225, 0.03286629542708397, -0.002511571627110243, -0.001158989267423749, 0.008339925669133663, 0.010491722263395786, -0.016912847757339478, -0.005992822349071503, 0.030837852507829666, -0.004653089214116335, -0.031057143583893776, -0.01983216591179371, 0.041857242584228516, 0.00818916317075491, 0.026589080691337585, 0.008442718535661697, -0.004063743632286787, 0.009347295388579369, 0.02272406965494156, 0.022696658968925476, 0.00264691561460495, 0.011574473232030869, 0.005221876315772533, -0.002172355307266116, 0.011903410777449608, -0.011629296466708183, -0.013945561833679676, 0.0008206294733099639, 0.005739266984164715, 0.0017731764819473028, 0.007147528696805239, -0.01917429082095623, 0.028809405863285065, 0.009004652500152588, -0.02038039267063141, 0.007236615754663944, -0.011033098213374615, -0.0010467737447470427, -0.0219565499573946, 0.018461594358086586, 0.026671314612030983, -0.019777342677116394, 0.008161751553416252, 0.007942459546029568, 0.017077317461371422, 0.0371973030269146, 0.017008788883686066, 0.01961287297308445, 0.018584944307804108, -0.0016207004664465785, -0.001439956366084516, 0.012828546576201916, 0.002235744148492813, 0.003321921918541193, 0.011670413427054882, 0.007236615754663944, -0.0026400627102702856, -0.00029638601699844003, -0.003171158954501152, -0.017406253144145012, 0.03278406336903572, -0.00476273475214839, 0.008298808708786964, 0.0164879709482193, 0.013760535046458244, 0.0041356985457241535, -0.02933022379875183, -0.0293028112500906, 0.0044817677699029446, 0.03667648509144783, -0.006969354581087828, -0.012533873319625854, 0.003474398050457239, 0.028480468317866325, -0.009463793598115444, -0.007620375603437424, -0.009388412348926067, 0.006270362995564938, 0.005876324139535427, -0.004872380755841732, 0.010957716964185238, 0.0013123218668624759, 0.011848587542772293, -0.029467280954122543, -0.017680367454886436, 0.003799908561632037, 0.01336992159485817, -0.009662526659667492, -0.003988361917436123, 0.005057407543063164, 0.01805042289197445, -0.00310605694539845, -0.013232864439487457, -0.0032842312939465046, 0.008298808708786964, -0.005920867435634136, 0.00068571389419958, -0.012684635818004608, -0.018639767542481422, 0.021559083834290504, -0.003040954703465104, -0.011978792026638985, 0.006373155862092972, -0.006366303190588951, 0.04237806051969528, 0.01681690849363804, -0.008216573856770992, -0.02963174879550934, -0.006558183114975691, -0.023340826854109764, 0.00546172633767128, 0.01739254780113697, 0.014185411855578423, 0.003402442904189229, 0.03166019544005394, -0.004718191456049681, -0.03799223154783249, 0.007634081412106752, -0.002946728141978383, -0.010299842804670334, -0.017995599657297134, -0.0091417096555233, 0.021449439227581024, 0.011526503600180149, 0.011129038408398628, 0.0003175870515406132, -2.3931457690196112e-05, -0.031276434659957886, 0.015788979828357697, -0.0016678138636052608, -0.024245403707027435, 0.01595344766974449, 0.0052835517562925816, 0.027027662843465805, -0.0062600839883089066, -0.015089988708496094, 0.027918534353375435, 0.02775406651198864, 0.005698149558156729, -0.023162653669714928, 0.0008917278610169888, 0.037635885179042816, 0.00493062986060977, -0.005759825464338064, -0.007181792985647917, 0.007414789870381355, 0.012006203643977642, 0.01020390260964632, -0.02053115703165531, -0.028288589790463448, 0.0138701805844903, 0.015131105668842793, 0.012067879550158978, 0.021915433928370476, -0.004622251261025667, -0.02139461599290371, 0.0033664654474705458, 0.05997619405388832, -0.019791048020124435, 0.001086177653633058, 0.007963018491864204, -0.015679335221648216, 0.011745794676244259, -0.037745531648397446, 0.0035292208194732666, -0.011074215173721313, -0.001028785016387701, -0.02253219112753868, 0.005985969677567482, -0.038841988891363144, -0.01615903340280056, -0.019749930128455162, -0.008305661380290985, -0.004050037823617458, -0.03155054897069931, -0.02439616620540619, 0.005235582124441862, -0.024656575173139572, -0.03623790293931961, -5.3645013394998387e-05, 0.0003107341763097793, 0.004043185152113438, -0.011327770538628101, 0.0015101981116458774, 0.05252028629183769, 0.012533873319625854, 0.005304110702127218, 0.01126609556376934, 0.0027925388421863317, 0.0018656899919733405, -0.02053115703165531, -0.023820526897907257, 0.008113780990242958, -0.018913881853222847, 0.0009645394748076797, 0.0293028112500906, 0.004317298997193575, -0.006904252339154482, -0.0062600839883089066, -0.010073698125779629, 0.005776957608759403, 0.011793765239417553, 0.009888671338558197, 0.003621734445914626, 0.022929655387997627, 0.013143777847290039, 0.02220325358211994, 0.012417375110089779, -0.0008596050902269781, -0.010066845454275608, 0.022148430347442627, -0.029494691640138626, -0.022477367892861366, 0.002482447074726224, -0.0008480409160256386, 0.011574473232030869, -0.011355182155966759, -0.010265578515827656, -0.022874832153320312, 0.020914915949106216, -0.003486390458419919, -0.017858542501926422, 0.0292205773293972, -0.01759813353419304, 0.00677404785528779, 0.01554227713495493, 0.008703126572072506, -0.006784327328205109, -0.00803154706954956, -0.017557017505168915, -0.021600201725959778, 8.458994125248864e-05, 0.0229707732796669, 0.007387378718703985, -0.014240234158933163, -0.00010252514766762033, -0.024492107331752777, -0.011773206293582916, -0.019475815817713737, 0.004190521314740181, -0.015665628015995026, 0.01916058547794819, -0.005427462048828602, -0.019571756944060326, -0.006287495139986277, -0.015679335221648216, 0.006451963912695646, -0.002350529655814171, -0.007414789870381355, -0.03075561672449112, -0.019489523023366928, 0.01276001799851656, 0.003040954703465104, -0.019146880134940147, -0.0023419635836035013, -0.02106567844748497, -0.03286629542708397, 0.02149055525660515, -0.017186962068080902, 0.0066986666060984135, -0.0035463529638946056, -0.020599685609340668, -0.00016821619647089392, -0.0192976426333189, -0.021230148151516914, -0.040404438972473145, -0.020887505263090134, -0.012232347391545773, 0.036046020686626434, 0.027397718280553818, 0.024670280516147614, 0.012746311724185944, 0.012903927825391293, 0.016981376335024834, -0.006513639353215694, 0.002436190377920866, 0.002974139526486397, 0.00020954747742507607, -0.013739976100623608, 0.007407937198877335, 0.008764802478253841, -0.00970364362001419, 0.004050037823617458, -0.004529737867414951, 0.03218100965023041, 0.01784483715891838, -0.005430888384580612, 0.0014176846016198397, -0.011643001809716225, -0.02128496952354908, 0.016556499525904655, -0.03790999948978424, 0.025273332372307777, 0.010724719613790512, -0.03634754940867424, -0.012403668835759163, 0.015871213749051094, -0.009237649850547314, -0.01617274060845375, 0.005341801326721907, 0.04023997113108635, -0.011848587542772293, 0.011732089333236217, 0.006873414386063814, 0.006263510324060917, -0.004187094978988171, -0.0068665617145597935, -0.01164985541254282, 0.01615903340280056, 0.01715955138206482, 0.0245332233607769, 0.018968705087900162, -0.003299650037661195, 0.008113780990242958, -0.004026053007692099, 0.012472197413444519, 0.003679983550682664, 0.012718900106847286, -0.0021946271881461143, -0.026479436084628105, 0.0007945029647089541, -0.02943986840546131, -0.03670389577746391, -0.010608221404254436, 0.012300875969231129, 0.005643326789140701, 0.002172355307266116, 0.016076799482107162, -0.016899142414331436, -0.013911297544836998, 0.03300335258245468, 0.0465720072388649, 0.04805222526192665, -0.01606309413909912, 0.043638985604047775, 0.028151532635092735, -0.002514998195692897, -0.017748896032571793, -0.02508145198225975, 0.0019307921174913645, 0.007599817123264074, 0.02598602883517742, 0.02472510375082493, -0.029851039871573448, -0.0007311140652745962, 0.006167570129036903, 0.009388412348926067, -0.014295057393610477, -0.03810187801718712, 0.015240751206874847, -0.0095323221758008, 0.00693851662799716, -0.014171705581247807, 0.014116883277893066, -0.011780058965086937, 0.021161619573831558, -0.0026452024467289448, 0.008305661380290985, -0.008895006962120533, 0.019037233665585518, -0.0021637892350554466, -0.0017903086263686419, -0.021216442808508873, 0.027685537934303284, -0.00013898448378313333, -0.014788462780416012, -0.00227172183804214, -0.012150113470852375, 0.0016326928744092584, -0.019571756944060326, -0.009107445366680622, 0.03097490780055523, 0.00947064720094204, -0.004796999040991068, 0.00022057630121707916, 0.012451639398932457, -0.015062577091157436, 0.002931309165433049, -0.023765703663229942, 0.030454091727733612, -0.004817557521164417, -0.023779410868883133, -0.0024910131469368935, 0.004680500365793705, 0.007572405971586704, 0.00019669838366098702, -0.018749414011836052, -0.02139461599290371, -0.027726655825972557, 0.005002584774047136, 0.0334419384598732, 0.02619161456823349, 0.01951693370938301, -0.012807987630367279, -0.017255490645766258, -0.0030495207756757736, -0.03823893517255783, 0.00246702809818089, -0.002874772995710373, -0.027123603969812393, -0.01310266088694334, 0.005982543341815472, 0.001151279779151082, 0.03401757776737213, 0.027219543233513832, -0.007599817123264074, 0.012705194763839245, 0.038293760269880295, -0.029604338109493256, 0.0042624762281775475, 0.017337724566459656, 0.026780961081385612, -0.024245403707027435, 0.011608737520873547, 0.011211272329092026, -0.015912331640720367, 0.03865010663866997, -0.01092345267534256, -0.00015493879618588835, -0.021312382072210312, 0.004382401239126921, 0.021929139271378517, 0.004173389170318842, -0.0005854908959008753, 0.030399268493056297, 0.00401234719902277, -0.0018160068430006504, -0.01739254780113697, -0.005794089753180742, 0.02785000577569008, -0.017981894314289093, -0.0011804044479504228, 0.00512593612074852, -0.004982026293873787, -0.006105894688516855, 0.0101970499381423, -0.027027662843465805, 0.003004977246746421, -0.01365774217993021, -0.012451639398932457, -0.017913365736603737, 0.0054000504314899445, -0.025259627029299736, -0.018201185390353203, 0.010388929396867752, -0.024108346551656723, -0.018310831859707832, 0.009881818667054176, 0.02809670940041542, -0.013739976100623608, 0.001487926347181201, -0.0026452024467289448, 0.0005572228692471981, 0.0010964568937197328, -0.0033750315196812153, -0.02642461284995079, 0.019749930128455162, 0.00657874159514904, -0.01805042289197445, 0.0017543311696499586, -0.011971939355134964, 0.022449955344200134, 0.020901210606098175, -0.0017449083970859647, -0.022710364311933517, -0.01042319368571043, -0.008312514051795006, -0.01459658332169056, -0.038403403013944626, 0.00897038821130991, 0.0028987580444663763, 0.0059311469085514545, -0.01259554922580719, 0.02083268202841282, 0.004769587889313698, 0.006143585313111544, -0.030837852507829666, -0.03588155284523964, -0.007928754203021526, 0.0021946271881461143, 0.011958234012126923, 0.0009979471797123551, -0.02062709629535675, 0.006664402317255735, 0.013184894807636738, 0.005749545991420746, 0.012712047435343266, 0.025615975260734558, -0.01493922621011734, -0.01220493670552969, -0.006989913061261177, 0.00014358875341713428, 0.0017329159891232848, 0.022271782159805298, 0.0031026306096464396, -0.041089724749326706, 0.011471680365502834, 0.030070330947637558, 0.0043207257986068726, -0.002042151056230068, 0.009840700775384903, -0.011341476812958717, 0.012294023297727108, -0.0034418469294905663, 0.0016035683220252395, -0.02075044810771942, 0.02941245771944523, -0.01603568345308304, -0.006907678674906492, 0.03525109216570854, -0.010580809786915779, 0.020777858793735504, 0.011841734871268272, 0.0068425764329731464, -0.015651922672986984, 0.007750580087304115, -0.02061339095234871, 0.023107830435037613, -0.003076932393014431, 0.008483835496008396, -0.005050554871559143, -0.02317635901272297, -0.01332195196300745, -0.025807855650782585, 0.015884919092059135, -0.01426764577627182, 0.00713382288813591, -0.04424203932285309, 0.006904252339154482, 0.018749414011836052, -0.02342306077480316, -0.004711338318884373, 0.012198083102703094, -0.020010339096188545, 0.00863459799438715, 0.0068768407218158245, -0.001958203501999378, -0.029247989878058434, -0.012294023297727108, -0.003292797366157174, -0.010155932046473026, -0.015693040564656258, 0.0006985630025155842, -0.003679983550682664, -0.02272406965494156, 0.02364235371351242, 0.20865575969219208, -0.01684431917965412, -0.01075213123112917, 0.0396917425096035, 0.002766840625554323, 0.004653089214116335, 0.02006516233086586, 0.003270525485277176, 0.009278766810894012, 0.025245921686291695, 0.018776824697852135, 0.02328600361943245, 0.006736357230693102, 0.0025561151560395956, 0.031194200739264488, 0.018872765824198723, 0.0012874803505837917, -0.020037749782204628, -0.028919052332639694, 0.04415980353951454, 0.020599685609340668, -0.015734156593680382, -0.003638866590335965, -0.016529088839888573, 0.024039817973971367, -0.008901859633624554, -0.009038916788995266, -0.007037883158773184, 0.02630126103758812, 0.03536073490977287, -0.030152566730976105, 0.007250321563333273, 0.011896558105945587, -0.005160200409591198, 0.01003943383693695, -0.004365269094705582, 0.00014765762898605317, 0.000538377498742193, 0.004433797672390938, 0.00909374002367258, -0.022367721423506737, -0.016967670992016792, 0.008662009611725807, 0.0033493333030492067, 0.00766149302944541, 0.019667696207761765, -0.014253940433263779, 0.012465344741940498, 0.017022494226694107, -0.0005319529445841908, -0.0068494295701384544, 0.01959916763007641, 0.009278766810894012, 0.01892758719623089, 0.009196532890200615, -0.008984094485640526, 0.02708248607814312, -0.009189680218696594, 0.016213856637477875, -0.014473231509327888, -0.02462916448712349, 0.009922935627400875, -0.03292112052440643, -0.00512593612074852, -0.028809405863285065, 0.018351947888731956, -0.0049374825321137905, 0.021202735602855682, -0.001700364868156612, -0.014034649357199669, 0.010505428537726402, -0.011505944654345512, -0.02083268202841282, -0.027137309312820435, -0.029357634484767914, -0.01781742461025715, 0.017858542501926422, -0.009792731143534184, 0.03078302927315235, 0.02831600047647953, 0.004581134300678968, -0.0003908269281964749, -0.009450088255107403, -0.018639767542481422, 3.0704006348969415e-05, -0.022052491083741188, 0.006359450053423643, 0.02183319814503193, 0.003714247839525342, 0.0052732727490365505, -0.007058441638946533, 0.005389770958572626, -0.0005936286179348826, -0.01870829612016678, 0.02509515918791294, -0.01592603698372841, -0.008545511402189732, -0.004557149019092321, -0.03357899561524391, -0.010018874891102314, 0.005201317835599184, 0.059482790529727936, 0.02262813039124012, -0.003635440021753311, -0.008620892651379108, -0.0020678492728620768, 0.0017903086263686419, -0.010656191036105156, 0.029357634484767914, -0.012006203643977642, 0.002234030980616808, -0.037389181554317474, -0.008771655149757862, -0.005694723222404718, 0.010964569635689259, 0.0334419384598732, 0.01455546636134386, 0.014349880628287792, -0.0039403922855854034, -0.009018358774483204, 0.02018851414322853, -0.009916082955896854, 0.019886987283825874, 0.019133172929286957, 0.0031129098497331142, -0.024670280516147614, -0.004248770885169506, 0.005934573244303465, -0.02565709315240383, -0.024903278797864914, 0.03456580638885498, 0.0004899792256765068, 0.006794606801122427, 0.0068494295701384544, 0.014089471660554409, -0.008655156940221786, -0.026246437802910805, 0.0034486998338252306, -0.028891639783978462, -0.010950863361358643, 0.01221178937703371, 0.003549779299646616, 0.0016883723437786102, 0.01388388592749834, -0.0037382328882813454, -0.0007448197575286031, 0.02519109845161438, -0.003786202985793352, -0.03741659224033356, -0.0017971614142879844, -0.008614039979875088, 0.004344710614532232, -0.020421510562300682, 0.0033630391117185354, 0.024149464443325996, -0.025136275216937065, -0.030234800651669502, -0.015035165473818779, -0.02206619642674923, -0.013219159096479416, -0.027219543233513832, 0.0005396623746491969, 0.016762085258960724, -0.004978599958121777, -0.0041014342568814754, 0.008257691748440266, -0.17620062828063965, 0.017447371035814285, 0.0005512266070581973, -0.030234800651669502, 0.02875458262860775, -0.021572791039943695, 0.03190689533948898, -0.003731379983946681, 0.0007743727182969451, -0.01204046793282032, 0.01353439036756754, 0.010306695476174355, -0.03804705664515495, 9.968764061341062e-05, 0.00015825814625713974, 0.00382046727463603, -0.02018851414322853, 0.021983962506055832, 0.009785878472030163, 0.01861235685646534, 0.016652440652251244, -0.04747658595442772, -0.003995215054601431, -0.014473231509327888, 0.013637183234095573, 0.011197566986083984, -0.023053007200360298, 0.003628587117418647, 0.011437416076660156, -0.0011135890381410718, -0.009881818667054176, 0.011211272329092026, 0.018680885434150696, -0.004444077145308256, 0.05008067190647125, 0.004087728448212147, -0.009669379331171513, -0.011732089333236217, 0.006294348277151585, 0.022093607112765312, 0.013226011767983437, -0.0018793956842273474, 0.005773531273007393, 0.007743726950138807, -0.0002709019463509321, 0.018804237246513367, 0.014788462780416012, 0.02261442504823208, 0.014623994939029217, -0.012246053665876389, -0.010142226703464985, -0.015418926253914833, 0.02351900190114975, 0.006198408082127571, -0.016529088839888573, 0.03218100965023041, -0.00801784172654152, 0.03971915319561958, 0.006116173695772886, -0.019105762243270874, 0.011012539267539978, -0.020901210606098175, 0.010512281209230423, -0.015514865517616272, -0.017776308581233025, -0.014802169054746628, 0.005910588428378105, -0.010217607952654362, -0.027795184403657913, -0.009443235583603382, 0.013815357349812984, -0.02473880909383297, -0.025149980559945107, -0.03198913112282753, -0.005201317835599184, 0.012739459052681923, -0.0076751988381147385, 0.023875350132584572, 0.005300683900713921, -0.03122161142528057, -0.006164143793284893, 0.03401757776737213, -0.0028679200913757086, -0.0208600927144289, 0.008572923019528389, 0.00457085482776165, -0.0146514056250453, 0.004656515549868345, -0.014390997588634491, -0.012965603731572628, 0.017118433490395546, -0.0033578993752598763, -0.0015084849437698722, -0.0276581272482872, 0.005119083449244499, 0.025944912806153297, 0.0003422144800424576, 0.0340723991394043, -0.019448405131697655, 0.016899142414331436, 0.012958750128746033, 0.0064039938151836395, -0.019009822979569435, 0.01961287297308445, 0.0025064321234822273, 0.013047837652266026, -0.019434699788689613, -0.003734806552529335, 0.022340310737490654, -0.012108996510505676, -0.016104212030768394, -0.015076283365488052, 0.02397128939628601, 0.006095615215599537, -0.000913999683689326, 0.05575483664870262, 0.004800425376743078, -0.013856474310159683, 0.024355050176382065, -0.03908868879079819, 0.05685129389166832, 0.016076799482107162, -0.020544862374663353, -0.0049032182432711124, -0.018036717548966408, -0.02106567844748497, -0.10416340827941895, -0.036512017250061035, 0.004087728448212147, 0.026123085990548134, 0.000952546950429678, 0.004457782953977585, -0.0049100713804364204, 0.002353955991566181, -0.03845822811126709, 0.05071113258600235, 0.018256008625030518, -0.04901162534952164, -0.03736177086830139, -0.009874965064227581, 0.008470130153000355, -0.010889188386499882, -0.004098007921129465, -0.01421282347291708, 0.014336174353957176, 0.019462110474705696, 0.005084819160401821, 0.0032825178932398558, 0.006294348277151585, 0.011752648279070854, 0.011492239311337471, -0.008483835496008396, -0.023724587634205818, 0.01961287297308445, 0.0006844289600849152, 0.022436250001192093, 0.024889573454856873, -0.014569171704351902, 0.0008694560965523124, -0.0009953773114830256, -0.04862786456942558, 0.00420765345916152, -0.021682435646653175, -0.02520480379462242, 0.021929139271378517, 0.0012001063441857696, 0.016583912074565887, 0.019092056900262833, -0.009922935627400875, -0.013397333212196827, -0.02409464120864868, -0.002782259602099657, 0.00509852496907115, 0.02673984318971634, 0.0023882202804088593, -0.009025211445987225, -0.02251848392188549, -0.018804237246513367, -0.02719213254749775, -0.003400729736313224, -0.0016335495747625828, -0.001099883345887065, 0.027151014655828476, 0.012081584893167019, -0.02183319814503193, 0.0022408838849514723, -7.3507588240318e-05, 0.003306502941995859, -0.02941245771944523, 0.04871010035276413, -0.0039678034372627735, 0.0031129098497331142, -0.03544297069311142, -0.039527274668216705, 0.013212306424975395, -0.0038375994190573692, -0.01670726202428341, 0.012163818813860416, -0.019146880134940147, 0.0034898167941719294, -0.020325571298599243, -0.003632013686001301, -0.03508662059903145, -0.021682435646653175, 0.006595873739570379, -0.017118433490395546, -0.020544862374663353, -0.02787741832435131, 0.013575507327914238, -0.0012780575780197978, 0.02741142362356186, 0.008113780990242958, -0.01003258116543293, -0.002991271670907736, 0.02340935543179512, -0.011759500950574875, 0.009895524010062218, 0.012437933124601841, 0.01126609556376934, -0.021353498101234436, -0.00693509029224515, 0.022984478622674942, -0.01042319368571043, -0.0227377749979496, 0.0034212882164865732, -0.021572791039943695, -0.011499091982841492, 0.003027249127626419, -0.046106014400720596, 0.04136383906006813, 0.004317298997193575, -0.008154898881912231, -0.0013508691918104887, -0.03667648509144783, -0.004995732102543116, 0.002465314930304885, 0.006287495139986277, 0.008833331055939198, 0.010176490992307663, 0.00803154706954956, -0.03440133482217789, -0.006469096057116985, -0.010896041058003902, -0.021243853494524956, 0.0124242277815938, -0.006846003234386444, 0.03220842406153679, 0.004913497716188431, -0.02107938565313816, -0.012712047435343266, 0.008840183727443218, -0.009984610602259636, -0.014952931553125381, -0.020325571298599243, -0.01606309413909912, -0.00012720613449346274, -0.025355566293001175, 0.0026554816868156195, 0.01332195196300745, -0.027260661125183105, -0.00936100073158741, 0.011567620560526848, -0.019900692626833916, -0.02963174879550934, 0.005821500904858112, 0.027959652245044708, 0.03645719215273857, 0.016926554962992668, -0.005609062500298023, -0.04048667103052139, 0.003515515010803938, 0.009463793598115444, -0.025944912806153297, 0.0044475034810602665, -0.009895524010062218, 0.0065307714976370335, 0.005502843298017979, 0.0034504130017012358, 0.03322264552116394, 0.010663043707609177, 0.009456940926611423, -0.03292112052440643, -0.0018057274864986539, 0.007832814007997513, 0.005067687015980482, 0.006801459472626448, 0.005800942424684763, -0.008984094485640526, 0.04221359267830849, 0.012198083102703094, 0.019420994445681572, 0.021559083834290504, 0.018214890733361244, 0.005732413846999407, -0.00819601584225893, -0.0046153985895216465, -0.0013123218668624759, -0.030399268493056297, -0.02005145698785782, -0.016213856637477875, 0.01147853396832943, 0.009463793598115444, 0.007270880043506622, 0.0034949565306305885, -0.00602023396641016, -0.0013928429689258337, -0.0119924983009696, 0.008429013192653656, 0.013356216251850128, -0.011046803556382656, 0.00017688934167381376, 0.0005902022239752114, 0.02798706293106079, 0.009943493641912937, -0.008703126572072506, 0.014199117198586464, -0.01041634101420641, -0.026931723579764366, 0.005036849062889814, 0.024382460862398148, 0.014733640477061272, -0.008257691748440266, 0.014500643126666546, 0.030947497114539146, -0.004642809741199017, 0.0221895482391119, 0.020668214187026024, 0.017461076378822327, -0.009826995432376862, -0.018228596076369286, -0.004409812856465578, -0.03135867044329643, -0.01761183887720108, 0.007051588501781225, -0.015679335221648216, -0.04037702828645706, -0.01995551586151123, -0.003813614370301366, 0.004276182036846876, 0.0039849355816841125, -0.00842215958982706, 0.02451951801776886, -0.0026554816868156195, 0.010854924097657204, 0.0028319426346570253, -0.013280835002660751, -0.01075213123112917, 0.01796818897128105, 0.011773206293582916, -0.0021929137874394655, -0.012013056315481663, -0.015857508406043053, 0.002120958874002099, 0.009888671338558197, 0.03919833526015282, -0.01805042289197445, 0.006205261219292879, -0.014788462780416012, 0.013602918945252895, -0.016131622716784477, 0.0032653857488185167, 0.013205453753471375, -0.001397982588969171, -0.0021346646826714277, -0.020928621292114258, -0.0027736935298889875, 0.0073394086211919785, 0.08974500000476837, 0.007819108664989471, -0.014089471660554409, 0.014637700282037258, -0.03914351388812065, 0.014665111899375916, 0.025108864530920982, -0.018913881853222847, 0.009484352543950081, -0.058002572506666183, 0.018338242545723915, -0.02073674276471138, 0.026671314612030983, -0.019242819398641586, -0.025917500257492065, -0.03256477043032646, -0.017872247844934464, 0.01370571181178093, -0.012664077803492546, -0.032592181116342545, 0.008154898881912231, -6.585166556760669e-05, 0.028919052332639694, 0.013356216251850128, 0.0024636017624288797, -0.017790013924241066, -0.01147853396832943, -0.0013148917350918055, 0.009717349894344807, -0.028288589790463448, 0.00727773318067193, -0.01818748004734516, -0.0339079312980175, -0.024135759100317955, -0.004656515549868345, -0.007257174234837294, -0.0009731055470183492, -0.03075561672449112, 0.00638000899925828, 0.02197025530040264, -0.012732606381177902, 0.029494691640138626, -0.02420428767800331, -0.024245403707027435, 0.006568462587893009, -0.00512936245650053, 0.0026057984214276075, -0.006856282241642475, -0.012616108171641827], [-0.011714344844222069, -0.011700691655278206, -0.007611593697220087, -0.012581315822899342, -0.01929180696606636, -0.0070996033027768135, -0.04068618640303612, -0.01845896802842617, -0.01813129335641861, 0.00242854212410748, 0.01729845628142357, 0.03091057948768139, -0.010021362453699112, 0.0043928795494139194, 0.011618773452937603, 0.024261528626084328, 0.0003374871448613703, 0.0054544066078960896, 0.016370046883821487, -0.007789083756506443, -0.026145653799176216, 0.018513580784201622, -0.018759336322546005, -0.001751007861457765, 0.004334853962063789, 0.021940503269433975, 0.016042372211813927, -0.013673562556505203, 0.004795645363628864, -0.012055671773850918, 0.03017331287264824, -0.021803973242640495, -0.041696514934301376, 0.018022069707512856, -0.006021009758114815, -0.0054305135272443295, 0.01772170141339302, -0.0032938062213361263, 0.022391056641936302, -0.01239017304033041, 0.019646786153316498, 0.0023193175438791513, 0.014554186724126339, -0.000821318244561553, 0.0031333824153989553, 0.0055397385731339455, 0.0131957046687603, -0.00271013705059886, -0.00508918659761548, 0.012130764313042164, 0.01841800846159458, 0.005051640793681145, -0.025667795911431313, -0.0032511402387171984, 0.010997558012604713, 0.0004206856247037649, 0.017271149903535843, -0.009912137873470783, -0.02007003128528595, -0.03770981356501579, -0.016219861805438995, -0.034678831696510315, -0.011427630670368671, 0.0326581746339798, -0.008382992818951607, -0.0028210682794451714, -0.008260115049779415, 0.014936472289264202, 0.0067787556909024715, 0.009966750629246235, 0.03814671188592911, 0.017148271203041077, -0.0050038546323776245, -0.00023210240760818124, 0.038174018263816833, 0.005751361139118671, -0.0072770933620631695, 0.017421333119273186, 0.005751361139118671, -0.00012789099127985537, 0.007181521505117416, -0.027538267895579338, -0.015810269862413406, 0.020247522741556168, 0.005000441800802946, 0.03446038067340851, -0.014226512052118778, 0.043389495462179184, -0.02381097711622715, 0.0015496249543502927, 0.012287774123251438, 0.018213212490081787, 0.015509902499616146, -0.0015180521877482533, -0.01234238687902689, -0.026869267225265503, -0.007898308336734772, 0.05259167402982712, 0.013434633612632751, -0.036481037735939026, -0.010321730747818947, -0.005369074642658234, -0.011932794004678726, -0.001559864729642868, -0.028671473264694214, -0.024329792708158493, 0.010478741489350796, 0.016861557960510254, 0.027169635519385338, -0.005614830181002617, -0.0002918346435762942, 0.02385193482041359, 0.0022322789300233126, -0.013229837641119957, 0.025340121239423752, 0.011516375467181206, 0.02869877964258194, 0.011270619928836823, 0.003401324152946472, -0.005509018898010254, 0.029135677963495255, -0.008109930902719498, 0.04642048105597496, -0.028808005154132843, 0.01855454035103321, 0.039238959550857544, -0.037300221621990204, -0.018759336322546005, -0.024985142052173615, -0.010663057677447796, 0.021817626431584358, 0.002771575702354312, 0.011413977481424809, -0.013420980423688889, -0.02067076787352562, 0.011181875132024288, -0.03222127631306648, 0.014567838981747627, 0.006229219026863575, -0.007188348099589348, -0.00248656771145761, 0.0260773878544569, -0.015810269862413406, -0.013523378409445286, 0.02117593213915825, -0.0020070031750947237, 0.017749007791280746, -0.004136884119361639, -0.03893859311938286, -0.029135677963495255, -0.021790320053696632, -0.011502722278237343, -0.015673739835619926, 0.010826895013451576, -0.013598470948636532, 0.01467706449329853, -0.005201824475079775, 0.008205503225326538, -0.011079477146267891, -0.015496249310672283, -0.01882760040462017, 0.020506929606199265, 0.0024507283233106136, -0.012403826229274273, 0.01859549805521965, 0.017803620547056198, -0.007195174694061279, -0.007679859176278114, -0.003367191646248102, -1.6906356904655695e-05, -0.02187223918735981, 0.004007179755717516, -0.008737972937524319, 0.018745683133602142, 0.005696748849004507, 0.003430337179452181, 0.02233644388616085, 0.012977255508303642, -0.016370046883821487, -0.0245482437312603, -0.034815359860658646, 0.002131587592884898, 0.02353791519999504, -0.023128323256969452, -0.037081774324178696, 0.00817137025296688, 0.022595852613449097, -0.007318052463233471, 0.009188524447381496, -0.005997116677463055, 0.003179461695253849, 0.008273768238723278, -0.02473938651382923, 0.006123407743871212, -0.637872040271759, -0.009297749027609825, -0.008266941644251347, -0.006427188869565725, 0.007611593697220087, 0.026132000610232353, 0.008260115049779415, 0.0010837134905159473, -0.005693335551768541, 0.03607144579291344, -0.028453024104237556, 0.01269054040312767, -0.018445314839482307, -0.010417302139103413, -0.009161219000816345, -0.017107313498854637, -0.02150360494852066, 0.013509725220501423, 0.005239370744675398, -0.0010845668148249388, -0.0297091081738472, 0.020452318713068962, -0.007522848434746265, 0.018472621217370033, 0.028862617909908295, 0.012649580836296082, 0.006212152540683746, -0.03664487600326538, -0.03222127631306648, -0.024343445897102356, -0.009174871258437634, 0.008922290056943893, -0.004416772164404392, 0.032002825289964676, 0.022131647914648056, -0.03639911860227585, 0.008014359511435032, 0.03891128674149513, 0.0063077243976294994, 0.018650110810995102, -0.008034839294850826, -0.010069148615002632, 0.01841800846159458, 0.016602149233222008, -0.009256790392100811, 0.03945741057395935, 0.0027903488371521235, -0.01799476332962513, -0.012465264648199081, -0.05229130759835243, 0.0013670149492099881, -0.015168574638664722, -0.01103169098496437, 0.006389642599970102, 0.01776266098022461, -0.020547889173030853, 0.013113786466419697, -0.023469649255275726, 0.009632250294089317, 0.0002862880937755108, -0.002754509449005127, 0.01665676198899746, 0.0036692661233246326, -0.010437781922519207, -0.007884655147790909, 0.003723878413438797, 0.0014847727725282311, -0.005891305394470692, 0.030582904815673828, 0.02431614138185978, 0.0017902604304254055, 0.03036445565521717, 0.016397353261709213, -0.0003432470257394016, 0.001457466627471149, 0.01731210947036743, 0.019401030614972115, 0.008062145672738552, 0.004368986468762159, 0.028534943237900734, -0.01929180696606636, -0.025026101619005203, -0.030937885865569115, -0.0031333824153989553, 0.0020001765806227922, 0.012048845179378986, -0.011809916235506535, 0.005249610170722008, -0.002962718950584531, -0.011502722278237343, -0.004211976192891598, 0.0002824481634888798, 0.007748124655336142, -0.015892188996076584, -0.002194733126088977, 0.027661146596074104, -0.0073112258687615395, 0.010663057677447796, 0.03216666355729103, -0.00909295305609703, -0.02464381419122219, -0.0010103281820192933, -0.0181722529232502, -0.029053760692477226, 0.015892188996076584, -0.004884390160441399, -0.007236133795231581, -0.0267600417137146, 0.02233644388616085, -0.04631125554442406, 0.026323143392801285, 0.0020991615019738674, -0.01269054040312767, -0.016438310965895653, -0.011113609187304974, -0.02565414272248745, 0.018076682463288307, 0.026377756148576736, -0.015182227827608585, 0.0015786377480253577, 0.005474886391311884, 0.02588624507188797, 0.03137478604912758, -0.007864175364375114, -0.013168398290872574, -0.0028005887288600206, 0.022391056641936302, -0.003990113269537687, -0.026514286175370216, -0.012943122535943985, -0.008983728475868702, -0.006952832452952862, 0.01956486701965332, -0.019537560641765594, -0.003983287140727043, 0.009700515307486057, 0.011277446523308754, -0.021708400920033455, -0.023565221577882767, -0.024206915870308876, -0.034678831696510315, 0.015141269192099571, 0.0055602178908884525, -0.03156592696905136, -0.016411006450653076, -0.019182581454515457, -0.03304046019911766, -0.003220421029254794, 0.003723878413438797, -0.014240165241062641, 0.023892894387245178, -0.01873202994465828, -0.020779991522431374, 0.0006937472498975694, 0.0041061644442379475, -0.0010401943000033498, -0.003754597855731845, -0.02431614138185978, -0.014554186724126339, -0.005212064366787672, 0.004788818769156933, 0.02034309320151806, -0.01478628907352686, -0.014390349388122559, -0.012130764313042164, -0.0341327078640461, 0.011502722278237343, -0.015905842185020447, -0.02183127962052822, -0.018486274406313896, 0.004109577741473913, 0.01303186733275652, 0.013325409032404423, 0.010144240222871304, -0.015714697539806366, 0.021435340866446495, 0.0007014271104708314, -0.018977785483002663, 0.0037204651162028313, -0.021694747731089592, 0.017339415848255157, 0.006973312236368656, -0.01531875878572464, -0.019223541021347046, 0.0048980433493852615, 0.027196941897273064, 0.03612605854868889, -0.00909295305609703, 0.019578520208597183, 0.004932176321744919, -0.0263914093375206, 0.002211799379438162, 0.020192909985780716, 0.009038341231644154, -0.013086480088531971, 0.01587853580713272, 0.02984563820064068, -0.02284160815179348, -0.0034525233786553144, 0.04347141459584236, 0.03440576791763306, 0.00588447879999876, 0.034760747104883194, -0.028671473264694214, 0.008963248692452908, -0.018022069707512856, 0.009099779650568962, -0.008219155482947826, 0.02943604625761509, 0.016602149233222008, -0.006546653341501951, -0.00700403144583106, -0.009215830825269222, 0.011338884942233562, -0.009229484014213085, 0.051799796521663666, -0.0007713991799391806, -0.0023841694928705692, 0.018377048894762993, 0.010512873530387878, -0.007338532246649265, -0.004778578877449036, 0.03773711994290352, 0.005270089954137802, -0.02408403903245926, -0.009454759769141674, 0.030992498621344566, -0.0030975432600826025, 0.010847373865544796, -0.0031726351007819176, -0.01605602540075779, -0.0014881860697641969, 0.0219131987541914, 0.02722424641251564, 0.012021539732813835, 0.004355333279818296, 0.0002517287211958319, 6.330550240818411e-05, 0.018445314839482307, 0.004986788611859083, 0.002430248772725463, 0.01634274050593376, 0.001163925277069211, -0.004853670950978994, -0.0018295131158083677, -0.012199029326438904, 0.042652230709791183, 0.016574842855334282, -0.016875211149454117, 0.009775606915354729, -0.0024968076031655073, 0.01262227538973093, -0.019401030614972115, 0.009871179237961769, 0.013461939990520477, -0.020288480445742607, 0.011018037796020508, -0.0022425188217312098, 0.011782610788941383, 0.03263086825609207, 0.018977785483002663, 0.016533883288502693, 0.01591949537396431, 0.001639223308302462, 0.009038341231644154, 0.0025736060924828053, -0.0189641322940588, 0.009768780320882797, 0.011946447193622589, 0.0042153894901275635, -0.005782080814242363, 0.00045567163033410907, 0.0009540091850794852, -0.01195327378809452, 0.02875339239835739, -0.005655789747834206, 0.008150890469551086, 0.014936472289264202, 0.009270443581044674, -0.0040720319375395775, -0.028179962188005447, -0.023701751604676247, 0.0013047227403149009, 0.031019804999232292, -0.00901786144822836, -0.010137413628399372, -0.00350201572291553, 0.024944182485342026, -0.0054544066078960896, -0.000805958523415029, -0.012929469347000122, 0.003345005214214325, 0.0077959103509783745, 0.0049697221256792545, 0.015496249310672283, 0.010471914894878864, 0.01684790477156639, -0.020698074251413345, -0.020042724907398224, 0.007106429431587458, 0.007857348769903183, -0.0072634401731193066, -0.008485390804708004, -0.0034491100814193487, 0.017598824575543404, 0.01130475290119648, -0.011407150886952877, -0.006382816005498171, 0.0029541857074946165, -0.007481889333575964, -0.008150890469551086, -0.0020104164723306894, -0.015509902499616146, 0.003751184558495879, -0.012731499969959259, -0.01684790477156639, 0.01096342597156763, -0.0010632338235154748, 0.03282201290130615, 0.01458149217069149, 0.0008469177992083132, -0.019960807636380196, -0.014472267590463161, -0.023647138848900795, -0.0008968368638306856, 0.029217597097158432, 0.017926497384905815, 0.006242872215807438, 0.02957257814705372, -0.006041489075869322, -0.0197560116648674, 0.004478211048990488, 0.01744863949716091, -0.005662616342306137, 0.0024797411169856787, -0.012704193592071533, 0.018431661650538445, 0.006512520369142294, 0.014663411304354668, 0.0208072979003191, 0.0065056937746703625, -0.01428112480789423, 0.014840900897979736, -0.0026435782201588154, -0.020793644711375237, 0.0019472709391266108, 0.0029234662652015686, 0.02057519555091858, -0.011495895683765411, -0.013741827569901943, 0.024234222248196602, 0.014799942262470722, 0.010526526719331741, -0.016602149233222008, -0.0052188909612596035, 0.042379170656204224, 0.0016247169114649296, 0.0052530234679579735, -0.021489951759576797, 0.01605602540075779, 0.00553632527589798, 0.0012637635227292776, -0.00846491102129221, -0.0074750627391040325, 7.541194645455107e-05, 0.010471914894878864, 0.009038341231644154, 0.013666735962033272, 0.010253464803099632, -0.02583163231611252, -0.0019097250187769532, 0.0536293089389801, -0.010697190649807453, -0.001870472333393991, 0.0035122556146234274, -0.01624716818332672, 0.0048775640316307545, -0.026637164875864983, 0.010731322690844536, -0.0038843019865453243, -0.006434015464037657, -0.011960100382566452, -0.0010939532658085227, -0.036617569625377655, -0.003522495273500681, -0.007864175364375114, -0.007529675029218197, -0.0012731499737128615, -0.034760747104883194, -0.029463352635502815, 0.010424128733575344, -0.027115022763609886, -0.0363445058465004, -0.009775606915354729, -0.0020889216102659702, 0.0043212007731199265, -0.017776314169168472, 0.0017595411045476794, 0.046393174678087234, -0.002754509449005127, -0.0005469766329042614, 0.009611770510673523, -0.010622098110616207, 0.009427453391253948, -0.014130940660834312, -0.021066706627607346, -0.00955033116042614, -0.013810093514621258, -0.0010555540211498737, 0.03757328540086746, -0.00350201572291553, -0.016438310965895653, -0.02049327827990055, -0.004389466252177954, 0.015660086646676064, 0.022527586668729782, 0.010383169166743755, -0.008662881329655647, 0.03216666355729103, 0.0030378110241144896, 0.016533883288502693, 0.013584817759692669, 0.008970075286924839, -0.008983728475868702, 0.0023483303375542164, -0.03705446794629097, -0.010895160026848316, -0.024234222248196602, -0.006836781278252602, 0.013666735962033272, -0.008430778980255127, -0.003730704775080085, -0.024520937353372574, 0.017967456951737404, -0.013830573298037052, -0.019687745720148087, 0.037764426320791245, -0.01492281910032034, 0.008772105909883976, 0.028480330482125282, 0.0013490952551364899, -0.015277800150215626, -0.012827071361243725, -0.011693865060806274, -0.022322790697216988, -0.010990731418132782, 0.021285155788064003, 0.0032733266707509756, -0.0050755334086716175, 0.007522848434746265, -0.01109312940388918, -0.016124291345477104, -0.02990025095641613, 0.012670060619711876, -0.012301427312195301, 0.024206915870308876, 0.0033313522581011057, -0.023524262011051178, 0.0037170518189668655, -0.016834251582622528, -0.003938914276659489, 0.0007577461074106395, 0.0026026188861578703, -0.020875563845038414, -0.004205149598419666, 0.02427518181502819, -0.011263793334364891, -0.007911961525678635, -0.0029200532007962465, -0.013216184452176094, -0.015701044350862503, 0.011850875802338123, -0.019742358475923538, 0.011727998033165932, -0.013277622871100903, -0.01481359452009201, -0.003198234597221017, -0.008109930902719498, -0.018704723566770554, -0.03405078873038292, -0.02584528550505638, -0.013598470948636532, 0.02053423598408699, 0.013455113396048546, 0.00998723041266203, 0.009563984349370003, 0.0023056643549352884, 0.018581844866275787, -0.004116404335945845, 0.0038467561826109886, 0.012984082102775574, -0.007522848434746265, -0.00774129806086421, 0.025312814861536026, 0.028480330482125282, -0.0038092101458460093, 0.016765985637903214, 0.004017419647425413, 0.035143036395311356, 0.022541239857673645, -0.0020547888707369566, 0.004160777200013399, -0.009823393076658249, -0.01458149217069149, 0.008819891139864922, -0.03710908070206642, 0.021817626431584358, -0.0074545834213495255, -0.027988819405436516, -0.011427630670368671, 0.005157452076673508, -0.015236840583384037, -0.014540533535182476, -0.0002453288179822266, 0.03383233770728111, -0.016178904101252556, 0.02241836115717888, -0.003611240303143859, 0.016411006450653076, -0.005150625482201576, -0.007338532246649265, -0.013250316493213177, -0.007700338494032621, 0.007413623854517937, 0.016397353261709213, 0.012403826229274273, -0.02090287022292614, 0.028261881321668625, -0.01652023009955883, -0.001723701716400683, -0.01568739302456379, -0.0019694571383297443, -0.0036726791877299547, -0.02140803448855877, -0.0010794468689709902, -0.017653435468673706, -0.03724560886621475, -0.02297813817858696, -0.00010693137301132083, 0.009475239552557468, 0.008724319748580456, 0.018745683133602142, -0.021749360486865044, -0.012185376137495041, 0.011195528320968151, 0.03132017329335213, 0.05264628678560257, 0.003433750243857503, 0.042242638766765594, 0.03820132464170456, -0.0029098133090883493, -0.012949949130415916, -0.021585524082183838, 0.011946447193622589, 0.002621392020955682, 0.018308784812688828, 0.017844580113887787, -0.0282345749437809, -0.009707341901957989, 0.0015931441448628902, -0.00034964692895300686, -0.014731676317751408, -0.028999147936701775, 0.013345888815820217, -0.003286979626864195, -0.001781727303750813, -0.019127968698740005, 0.025777019560337067, -0.020930176600813866, 0.03705446794629097, -0.00677192909643054, 0.00754332821816206, -0.00674803601577878, 0.02514897845685482, -0.003635133383795619, 0.005222304258495569, -0.007161041721701622, 0.01989254169166088, 0.0032426072284579277, 0.0030105048790574074, -0.006430602166801691, -0.0208072979003191, 0.008266941644251347, 0.0012757099466398358, -0.009284096769988537, 0.037300221621990204, 0.004788818769156933, 0.009720995090901852, -0.008492217399179935, 0.003150448901578784, -0.009632250294089317, -0.0013985877158120275, -0.02615930698812008, 0.029681801795959473, -0.013250316493213177, -0.014062675647437572, 0.003160688793286681, -0.0005951891071163118, 0.008642401546239853, 0.00396963395178318, -0.007516022305935621, -0.016451964154839516, -0.011086302809417248, -0.0035702812019735575, 0.031538620591163635, 0.022527586668729782, 0.018841253593564034, -0.01956486701965332, -0.014322083443403244, -0.0017347948160022497, -0.053547389805316925, 0.0016153303440660238, 0.004174429923295975, -0.018213212490081787, -0.0062940712086856365, 0.0054305135272443295, -0.005522672086954117, 0.03238511085510254, 0.020547889173030853, -0.018076682463288307, 0.0189641322940588, 0.029108373448252678, -0.024384405463933945, -0.0022851848043501377, 0.014062675647437572, 0.02704675681889057, -0.023374076932668686, 0.007195174694061279, 0.007529675029218197, -0.026241226121783257, 0.04180574044585228, -0.010465088300406933, -0.004181256517767906, -0.016806945204734802, 0.010970251634716988, 0.026514286175370216, -0.003030984429642558, 0.007604767102748156, 0.024712080135941505, 0.02361983247101307, 0.005553391296416521, -0.013407327234745026, -0.004420185461640358, 0.03091057948768139, -0.026405062526464462, -0.007857348769903183, 0.012089804746210575, -0.003445696784183383, 0.004430425353348255, 0.007386317942291498, -0.0312928669154644, 0.009577637538313866, -0.004222216084599495, -0.007065470330417156, -0.01960582658648491, 0.00225446536205709, -0.030009476467967033, -0.029463352635502815, 0.01813129335641861, -0.005618243478238583, -0.015468942932784557, 0.006051728967577219, 0.02625487744808197, -0.013045520521700382, 0.0044509051367640495, 0.004747859667986631, -0.01206932496279478, 0.007700338494032621, -0.004952655639499426, -0.023838283494114876, 0.028343800455331802, -0.011864528991281986, -0.014881860464811325, 0.010075975209474564, -0.019715052098035812, 0.022022422403097153, 0.03459691256284714, 0.0054544066078960896, -0.013188878074288368, -0.009304575622081757, -0.001451493357308209, -0.028316494077444077, -0.03579838201403618, 0.01384422555565834, -0.004433838650584221, 0.005481712985783815, -0.0076525527983903885, 0.03284931555390358, -0.013161571696400642, 0.0006506547215394676, -0.02579067274928093, -0.033013153821229935, 0.0025087539106607437, -0.004979962017387152, 0.004795645363628864, 0.0050414009019732475, -0.01744863949716091, 0.006389642599970102, 0.022964484989643097, 0.009168045595288277, 0.0036180668976157904, 0.03533417731523514, -0.007734471466392279, -0.019510256126523018, -0.0014839194482192397, -0.0023466236889362335, -0.00862874835729599, 0.0015214653685688972, 0.006440842058509588, -0.04721236228942871, 0.014704369939863682, 0.018704723566770554, -0.005212064366787672, -0.001743328059092164, 0.008382992818951607, 0.007666205987334251, 0.010492393746972084, -0.014608798548579216, -0.0014480800600722432, -0.03151131421327591, 0.031183641403913498, -0.019960807636380196, 0.0028893337585031986, 0.02265046536922455, -0.0032016478944569826, 0.01361212320625782, 0.016902515664696693, 0.027579227462410927, -0.023565221577882767, 0.005246196873486042, -0.01845896802842617, 0.02495783567428589, -0.004160777200013399, 0.0053110490553081036, -0.012444784864783287, -0.014458614401519299, -0.009768780320882797, -0.0029354128055274487, -0.002913226606324315, -0.010383169166743755, -0.0035702812019735575, -0.04587435722351074, 0.026691777631640434, 0.0282345749437809, -0.015141269192099571, 0.018295131623744965, 0.009120259433984756, -0.00479905866086483, 0.008567309938371181, 0.010758629068732262, -0.0031299693509936333, -0.018663763999938965, 0.002457554917782545, 0.004396292846649885, -0.0008179050055332482, -0.0062019131146371365, 0.002561659784987569, -0.006430602166801691, -0.02652793936431408, 0.020274827256798744, 0.2145172357559204, -0.01314791850745678, 0.0071678683161735535, 0.03765520080924034, 0.00015807710587978363, 0.007338532246649265, 0.034351155161857605, -0.006608092226088047, 0.011830396018922329, 0.02053423598408699, 0.022309137508273125, 0.01280659157782793, -0.0193327646702528, 0.005345182027667761, 0.012567662633955479, 0.011195528320968151, -0.0002174893452320248, -0.043771784752607346, -0.03852900117635727, 0.05218208208680153, 0.027374431490898132, -0.006229219026863575, -0.0007713991799391806, -0.012137590907514095, 0.017981110140681267, -0.0017117552924901247, 0.007181521505117416, -0.014595145359635353, 0.03336813300848007, 0.021653790026903152, -0.023524262011051178, 0.008751626126468182, 0.010157893411815166, 0.0023227306082844734, -0.00012661100481636822, -0.01929180696606636, 0.011755304411053658, -0.003563454607501626, 0.015837576240301132, 0.006427188869565725, -0.019687745720148087, -0.01199423335492611, 0.0006032955716364086, 0.002901280065998435, 0.010260291397571564, 0.016998087987303734, -0.014185553416609764, 0.0053110490553081036, 0.01234238687902689, 0.0035566280130296946, -0.005969810299575329, 0.015032044611871243, 0.004068618640303612, 0.02629583701491356, 0.005027747713029385, -0.008382992818951607, 0.02210434153676033, -0.0067070769146084785, 0.02325120009481907, -0.013735000975430012, -0.021435340866446495, 0.012533529661595821, -0.03238511085510254, 0.006038075778633356, -0.03847438842058182, 0.03219396993517876, -0.01393979787826538, 0.01776266098022461, -0.00018079667643178254, -0.02127150259912014, 0.013011387549340725, -0.012615448795258999, -0.020930176600813866, -0.009461586363613605, -0.03503381088376045, -0.0071678683161735535, 0.020247522741556168, -0.0034815361723303795, 0.02949065901339054, 0.021749360486865044, 0.006847021169960499, -0.014963778667151928, -0.010478741489350796, -0.03416001424193382, -0.01292264275252819, -0.02943604625761509, -0.00388771528378129, 0.01938737742602825, 0.009850699454545975, 0.012287774123251438, -0.008144063875079155, -0.008287421427667141, 0.005126732401549816, -0.023742711171507835, 0.023701751604676247, -0.008935942314565182, 0.007591113913804293, -0.0222818311303854, -0.027374431490898132, 0.009529851377010345, 0.0019370311638340354, 0.06291340291500092, 0.020370399579405785, 0.0008601442095823586, 0.011693865060806274, 0.012137590907514095, -0.0042017363011837006, 0.0018909520003944635, 0.03243972361087799, -0.022090688347816467, -0.0001218110992340371, -0.03607144579291344, 0.0006980138714425266, -0.00574453454464674, 0.013250316493213177, 0.019414683803915977, 0.018144946545362473, 0.0026811242569237947, -0.00021588937670458108, 0.008574135601520538, 0.015660086646676064, -0.013284449465572834, 0.0156464334577322, 0.027538267895579338, -0.0021298809442669153, -0.030337149277329445, -0.019073355942964554, 0.005867412313818932, -0.018486274406313896, -0.0363445058465004, 0.02726520597934723, 0.0072634401731193066, -0.0007735324907116592, 0.003979873843491077, 0.014062675647437572, -0.0015658378833904862, -0.026555245742201805, -0.01195327378809452, -0.03110172227025032, 0.0005303369252942502, 0.017243843525648117, -0.007830043323338032, 0.005051640793681145, 0.01229460071772337, -0.0006946005742065609, 0.01010328158736229, 0.019305458292365074, 0.0016067972173914313, -0.02741539105772972, 0.004399706143885851, -0.018540887162089348, -0.010041842237114906, -0.0018363395938649774, 0.0010837134905159473, 0.017639782279729843, -0.019960807636380196, -0.03981238976120949, -0.02497148886322975, -0.011175048537552357, 0.010738149285316467, -0.03252164274454117, -0.0006852141232229769, 0.006898220162838697, 0.0031641018576920033, -0.011168221943080425, 0.023237546905875206, -0.17508713901042938, 0.017653435468673706, -0.009256790392100811, -0.024602854624390602, 0.021995116025209427, -0.011345711536705494, 0.026691777631640434, 0.005887892097234726, -0.006819714792072773, -0.012779285199940205, 0.014909166842699051, 0.005068706814199686, -0.016370046883821487, 0.008649228140711784, 3.5172688512830064e-05, -0.0065637193620204926, -0.02417960949242115, 0.023374076932668686, 0.010724497027695179, 0.020384052768349648, 0.02274603582918644, -0.03937549144029617, 0.015509902499616146, -0.011557335034012794, -0.002399529330432415, 0.005413447506725788, -0.018240518867969513, -3.677265704027377e-05, 0.020465971902012825, -0.00976195465773344, -0.006143887061625719, 0.005037987604737282, 0.03312237933278084, -0.008109930902719498, 0.03891128674149513, -0.023060057312250137, -0.022404709830880165, -0.009837046265602112, 0.005307635758072138, 0.02288256771862507, 0.013066000305116177, -0.003486656118184328, -0.006055142264813185, -0.001096513238735497, -0.01591949537396431, 0.018431661650538445, 0.005334942135959864, 0.009693688713014126, 0.011598293669521809, -0.019865235313773155, 0.0009531558607704937, -0.014240165241062641, 0.005833279807120562, 0.008901810273528099, -0.008546830154955387, 0.03858361393213272, -0.023920200765132904, 0.02574971504509449, 0.0068845669738948345, -0.015660086646676064, -0.009884832426905632, -0.018977785483002663, 0.016506576910614967, -0.02377001754939556, -0.023196587339043617, -0.014294777996838093, -0.0023909960873425007, -0.012048845179378986, -0.012014713138341904, 0.006369163282215595, 0.0215991772711277, -0.04409945756196976, -0.026227572932839394, -0.02815265767276287, 0.00909295305609703, 0.012403826229274273, 0.00479905866086483, 0.023360425606369972, -0.0024643815122544765, -0.026500632986426353, -0.007113256026059389, 0.024930529296398163, -0.0027903488371521235, -0.014499573968350887, -0.010212506167590618, -0.0033637783490121365, -0.006785582285374403, 0.0018824187573045492, -0.011748477816581726, -0.009045167826116085, 0.011325232684612274, -0.010970251634716988, 0.009256790392100811, -0.030855966731905937, 0.0152504937723279, 0.01568739302456379, 0.007556981407105923, 0.030255232006311417, -0.008137237280607224, 0.022691423073410988, 0.009011034853756428, -0.006304311100393534, -0.015864882618188858, 0.013946624472737312, 3.3966043702093884e-06, 0.0018431661883369088, -0.03104710951447487, 0.011536855250597, 0.015537207946181297, -0.009495719335973263, -0.008949595503509045, -0.020370399579405785, 0.034760747104883194, 0.006014183163642883, -0.011570987291634083, 0.036890629678964615, 0.0024370753671973944, -0.0020786819513887167, 0.02030213363468647, -0.027893248945474625, 0.04409945756196976, 0.003457643324509263, -0.02916298434138298, -0.0033637783490121365, -0.00858096219599247, -0.015141269192099571, -0.10676711052656174, -0.020220216363668442, 0.013339062221348286, 0.040495045483112335, 0.004474797751754522, 0.0003763131098821759, -0.009557157754898071, -0.00140114757232368, -0.016274474561214447, 0.055895719677209854, 0.006860674358904362, -0.052400533109903336, -0.035416096448898315, -0.00665587792173028, -0.0031180228106677532, -0.021844932809472084, -0.005167691968381405, -0.016738679260015488, 0.00338596454821527, 0.021053053438663483, 0.0009028100757859647, -0.001264616847038269, 0.0038365162909030914, -0.0024507283233106136, -0.004266588483005762, -0.0023466236889362335, -0.03164784610271454, 0.009652729146182537, -0.005887892097234726, 0.0011954980436712503, 0.038174018263816833, -0.009400147944688797, -0.0035702812019735575, -0.016370046883821487, -0.03517034277319908, 0.016438310965895653, -0.019346417859196663, -0.013700868934392929, 0.015223187394440174, -0.002507047262042761, 0.013277622871100903, 0.028507636860013008, 0.0031282627023756504, -0.00591861130669713, -0.020452318713068962, -0.008587788790464401, -0.010280771180987358, 0.020384052768349648, -0.005655789747834206, -0.0033023394644260406, -0.018772989511489868, -0.008881330490112305, -0.0333954393863678, -0.0017049286980181932, 0.00339791108854115, -0.004396292846649885, 0.003447403432801366, 0.009686862118542194, -0.014827247709035873, 0.009652729146182537, -0.01997446082532406, 0.0049355896189808846, -0.031729765236377716, 0.044454436749219894, 0.012444784864783287, -0.0037648375146090984, -0.024616507813334465, -0.04139614850282669, 0.014253818430006504, -0.0077959103509783745, -0.007529675029218197, 0.011509548872709274, -0.014526880346238613, 0.010314904153347015, -0.027019450441002846, 0.012629101984202862, -0.013448286801576614, -0.014444961212575436, -0.002885920461267233, 0.003802383551374078, -0.013837399892508984, -0.03579838201403618, 0.0178582314401865, -0.006546653341501951, 0.03538879007101059, 0.01531875878572464, -0.008021186105906963, 0.003309166058897972, 0.025777019560337067, -0.011079477146267891, 0.01744863949716091, 0.01998811401426792, 0.010232985951006413, -0.016602149233222008, -0.01878664270043373, 0.03369580954313278, -0.01017837319523096, -0.020233869552612305, 0.003278446616604924, -0.009980403818190098, -0.01148906908929348, -0.00485708424821496, -0.0371909961104393, 0.04388100653886795, 0.019783316180109978, -0.007242960389703512, -0.0018875387031584978, -0.04325296729803085, -0.0031743417493999004, 0.003870649030432105, -0.0006745476275682449, 0.002529233694076538, 0.0014182139420881867, 0.002426835475489497, -0.0341327078640461, -0.007420450448989868, -0.02726520597934723, -0.016397353261709213, 0.0028227749280631542, -0.004058378748595715, 0.03252164274454117, -0.0011434457264840603, -0.01849992759525776, -0.014431308954954147, -0.0036385466810315847, -0.001148565555922687, -0.016219861805438995, -0.017776314169168472, -0.016370046883821487, -0.0013772547245025635, -0.034023482352495193, 0.0012850963976234198, 0.0073453583754599094, -0.023278506472706795, 0.0019114315509796143, 0.017749007791280746, -0.02057519555091858, -0.03036445565521717, -0.0035600413102656603, 0.02615930698812008, 0.035962220281362534, 0.0029405327513813972, -0.01227412186563015, -0.03451499342918396, 0.0006126820808276534, -0.0019643371924757957, -0.016301780939102173, -0.003925261087715626, -0.007993879728019238, -0.000834971375297755, 0.004621568601578474, 0.001249257125891745, 0.0271832887083292, 0.004993615206331015, 0.004730793181806803, -0.008737972937524319, -0.025176284834742546, 0.006215565837919712, -0.017557865008711815, -0.017462292686104774, 0.01634274050593376, -0.020001767203211784, 0.033422745764255524, 0.00828059483319521, 0.02478034608066082, 0.004338267259299755, 0.01841800846159458, 0.0030224511865526438, -0.015660086646676064, -0.004396292846649885, 0.0010436074808239937, -0.035006504505872726, -0.020315786823630333, -0.008382992818951607, 0.028999147936701775, 0.016725026071071625, 0.00035476681659929454, -0.00456695631146431, 0.0010768868960440159, -0.0004522583622019738, -0.022363750264048576, 0.0032460205256938934, 0.010437781922519207, -0.009905311278998852, -0.00046591146383434534, -0.007789083756506443, 0.03637181222438812, -0.004194909706711769, 0.0010777402203530073, 0.02695118635892868, -0.013577991165220737, -0.026828307658433914, -4.813244959223084e-05, 0.024698426946997643, -0.004126644227653742, -0.012151244096457958, 0.007126909215003252, 0.025490306317806244, -0.013878358528017998, 0.013994409702718258, 0.031729765236377716, 0.010826895013451576, -0.005208651069551706, -0.015755657106637955, -0.02243201434612274, -0.027101369574666023, -0.01818590611219406, 0.011168221943080425, -0.012827071361243725, -0.030009476467967033, -0.006908460054546595, 0.00603466248139739, 0.01766708865761757, 0.0025514198932796717, -0.01206249836832285, 0.02127150259912014, -0.004696660675108433, 0.011270619928836823, -0.011366191320121288, -0.016356393694877625, -0.01568739302456379, 0.020602501928806305, 0.008307901211082935, 0.007113256026059389, -0.0060585555620491505, -0.002034309320151806, -0.0014199205907061696, -0.003996939864009619, 0.0319209061563015, -0.028207268565893173, 0.021353421732783318, -0.008335206657648087, 0.021285155788064003, -0.007031337823718786, -0.0011724585201591253, 0.0181722529232502, 0.0016494630835950375, 0.005119906272739172, -0.024520937353372574, -0.0013892011484131217, 0.01919623464345932, 0.0891273245215416, 0.0033893778454512358, -0.013653082773089409, 0.005911784712225199, -0.03197551891207695, 0.03416001424193382, 0.020752685144543648, -0.0018346330616623163, 0.027155982330441475, -0.054421186447143555, 0.01382374670356512, -0.022486627101898193, 0.03997622802853584, -0.01587853580713272, -0.011570987291634083, -0.04125961661338806, -0.033886950463056564, 0.01772170141339302, -0.02206338196992874, -0.01075180247426033, 0.019592173397541046, -0.004389466252177954, 0.036289893090724945, 0.010048668831586838, 0.0063657499849796295, -0.023223893716931343, 0.009263616986572742, 0.001584610901772976, 0.011400324292480946, -0.022732382640242577, -0.014390349388122559, -0.0032050611916929483, -0.015673739835619926, -0.0394027978181839, -0.002676004311069846, 0.004351919982582331, 0.005334942135959864, -0.035880301147699356, 0.004713726695626974, 0.027538267895579338, -0.011263793334364891, 0.03134747967123985, -0.012472091242671013, -0.02020656317472458, -0.008144063875079155, -0.0015939974691718817, 0.011134088970720768, 0.0012987494701519608, -0.010656231082975864], [-0.009985702112317085, -0.023441128432750702, -0.001482999767176807, -0.019274728372693062, -0.013291502371430397, 0.0014095754595473409, -0.03887730464339256, -0.01575036346912384, -0.02065442129969597, -0.018168240785598755, 0.011433697305619717, 0.03491580858826637, 0.003374102059751749, -0.007362918928265572, 0.019015181809663773, 0.012690448202192783, -0.013072937726974487, 0.00505432253703475, -0.00034535027225501835, -0.005371925421059132, -0.033467814326286316, 0.006133488845080137, -0.008360123261809349, 0.010846303775906563, -0.009432459250092506, 0.02471153996884823, 0.006597940344363451, -0.014452630653977394, -0.005146529991179705, -0.005348019767552614, 0.03136412054300308, -0.013475917279720306, -0.04417751356959343, 0.014534592628479004, -0.007916162721812725, -0.011126340366899967, 0.007711257319897413, 0.006249601952731609, 0.014739497564733028, -0.011775205843150616, 0.011351735331118107, 0.0027252361178398132, -0.004794776439666748, -0.001254189177416265, -0.0006719175726175308, -0.0024947181809693575, -0.0014881223905831575, 0.004330325406044722, -0.009575892239809036, 0.013585199601948261, 0.00986275915056467, -0.005747584626078606, -0.029943447560071945, 0.0035619314294308424, 0.02368701621890068, -0.007117033004760742, 0.018045298755168915, 0.003375809406861663, -0.0037600062787532806, -0.0393417552113533, -0.0068062604404985905, -0.022867394611239433, -0.011351735331118107, 0.025667764246463776, -0.021952154114842415, -0.021474041044712067, 0.010491134598851204, 0.009760307148098946, 0.009760307148098946, -0.000589955598115921, 0.026569345965981483, 0.034314751625061035, -0.014725837856531143, 0.00048152668750844896, 0.010627738200128078, -0.00802544504404068, 0.011884489096701145, 0.015190289355814457, 0.01029305998235941, 0.0021549174562096596, -0.001604235265403986, -0.019343029707670212, -0.03245694935321808, 0.021132532507181168, 0.01426138635724783, 0.015162968076765537, -0.006457922048866749, 0.019329369068145752, -0.025544820353388786, -0.004299589432775974, 0.012096223421394825, 0.02401486411690712, 0.006707223132252693, 0.001951719867065549, 0.004600116517394781, -0.006413525901734829, -0.013708142563700676, 0.02763485163450241, 0.0017280320171266794, -0.02024461142718792, -0.0040434580296278, -0.011303924955427647, -0.022689811885356903, -0.0011952790664508939, -0.037265386432409286, -0.008571858517825603, 0.007690766826272011, 0.0028020755853503942, 0.01416576374322176, -0.006744788959622383, -0.01984846219420433, 0.02003970742225647, 0.017143717035651207, -0.0030633294954895973, 0.01191863976418972, 0.009425628930330276, 0.033549774438142776, 0.004576211329549551, -0.006809675600379705, -0.01656998321413994, 0.04456000402569771, -0.015381533652544022, 0.034178148955106735, -0.023509431630373, 0.01999872550368309, 0.04283880069851875, -0.03286675736308098, -0.019028842449188232, -0.018318504095077515, -0.009234384633600712, 0.004378136247396469, 0.002626198809593916, 0.020872987806797028, -0.0005523896543309093, 0.002035389421507716, 0.0051567754708230495, -0.006293998099863529, 0.012294298969209194, 0.023372827097773552, -0.017171036452054977, 0.021515022963285446, 0.026569345965981483, -0.0022744452580809593, -0.012943164445459843, 0.0008179123396985233, -0.0081893689930439, 0.02363237366080284, -0.00687456177547574, -0.016815869137644768, -0.034068867564201355, -0.0312548391520977, -0.018851257860660553, -0.011590791866183281, 0.0006616723258048296, -0.01214403472840786, 0.025626782327890396, 0.005768075119704008, 0.008742612786591053, -0.009685175493359566, 0.016979793086647987, -0.014698516577482224, 0.01997140422463417, 0.018619032576680183, 0.014234066009521484, 0.007793219294399023, 0.00994472112506628, -0.006884807255119085, -0.017375942319631577, 0.00034278896055184305, 0.02044951729476452, -0.0139130474999547, 0.011092189699411392, -0.022799093276262283, 0.004323495086282492, -0.004357645753771067, 0.0070282407104969025, 0.0036677990574389696, 0.006297412794083357, -0.006362299434840679, -0.026719609275460243, -0.009090950712561607, -0.007834200747311115, 0.012997806072235107, -0.005918338894844055, -0.034014225006103516, -0.004900644067674875, 0.04046190157532692, -0.000918657286092639, 0.007137523498386145, 0.006765279453247786, 0.02059978060424328, 0.018427787348628044, -0.0062017906457185745, 0.016651945188641548, -0.6434562802314758, -0.02438369207084179, 0.002766217105090618, -0.018017977476119995, 0.017089074477553368, 0.014930742792785168, 0.016720246523618698, -0.005310453940182924, -0.011775205843150616, 0.022594189271330833, -0.02857741340994835, 0.02044951729476452, -0.023072300478816032, -0.02013532817363739, -0.0009434166713617742, -0.007117033004760742, -0.02059978060424328, 0.0036643838975578547, 0.005884187761694193, -0.003131631063297391, -0.021036911755800247, 0.01191180944442749, -0.0070077502168715, 0.021392079070210457, 0.01922008767724037, 0.0009289025911130011, 0.03229302540421486, -0.02752556838095188, -0.017676468938589096, 0.0038146476726979017, -0.017293980345129967, 0.015545457601547241, -0.013598860241472721, 0.01656998321413994, 0.03324924781918526, -0.014357008971273899, -0.00827816128730774, 0.03510705381631851, 0.0024622748605906963, 0.033577095717191696, -0.00834646262228489, -0.010101815685629845, 0.022389283403754234, -0.009452949278056622, -0.018441447988152504, 0.024943765252828598, 0.005300208926200867, 0.0034953374415636063, -0.00408785417675972, -0.042401671409606934, 0.01378327514976263, -0.010463814251124859, -0.0044054570607841015, 0.024807162582874298, 0.02760753035545349, -0.017717450857162476, 0.004152740817517042, -0.022075096145272255, 0.003259696764871478, -0.0022334642708301544, -0.011556640267372131, 0.008489896543323994, -0.004111759830266237, -0.005798810627311468, -0.00802544504404068, -0.008865555748343468, 0.00019156480266246945, -0.013482747599482536, 0.0320744588971138, 0.013503237627446651, 0.01378327514976263, 0.02434271201491356, 0.019165445119142532, 0.010067664086818695, 0.007820540107786655, 0.02435637079179287, 0.03147340565919876, 0.003275064518675208, 0.005327529273927212, 0.021419400349259377, -0.0008597471169196069, -0.02434271201491356, -0.027006475254893303, 0.005778320133686066, 0.0030291785951703787, 0.0018970785895362496, -0.013462256640195847, -0.0074038999155163765, 0.007991294376552105, -0.013004635460674763, 0.003596082329750061, 0.012635806575417519, -0.0004806729266420007, -0.041254203766584396, -0.01375595387071371, 0.012704108841717243, 0.013455427251756191, 0.014739497564733028, 0.027252361178398132, -0.010771171189844608, -0.027156740427017212, 0.013059277087450027, -0.0036541386507451534, -0.012874863110482693, 0.0018595126457512379, -0.004487419035285711, -0.01661096327006817, -0.01587330549955368, 0.00997887272387743, -0.022184379398822784, 0.017936015501618385, -0.0030889424961060286, -0.017580846324563026, -0.015176628716289997, -0.016925150528550148, -0.03292139992117882, 0.012116714380681515, 0.017293980345129967, -0.01588696613907814, -0.006020791362971067, 0.020900307223200798, 0.026118554174900055, 0.03680093213915825, 0.018796617165207863, -0.0007679667905904353, -0.0016144805122166872, 0.01021792832762003, -0.009493930265307426, -0.008831404149532318, -0.02361871302127838, -0.0026193687226623297, -0.01587330549955368, 0.018332164734601974, -0.022799093276262283, -0.007185334339737892, 0.004200552124530077, 0.004511324688792229, -0.022416604682803154, -0.012526524253189564, -0.02827688679099083, -0.03589935228228569, 0.017785752192139626, 0.012765579856932163, -0.025189651176333427, 0.0030069805216044188, -0.03513437509536743, -0.046308524906635284, 0.01600990816950798, 0.020627101883292198, -0.018564390018582344, 0.006505732890218496, -0.015436175279319286, -0.01984846219420433, 0.0009485392947681248, -0.0030735747423022985, -0.00489722890779376, -0.011146830394864082, -0.021624304354190826, -0.00834646262228489, -0.008851895108819008, -0.002747434191405773, 0.03333120793104172, -0.03475188463926315, -0.014397989958524704, -0.00834646262228489, -0.022266341373324394, -0.003500459948554635, -0.012977315112948418, -0.008694801479578018, -0.01411112304776907, 0.0038453834131360054, 0.008489896543323994, 0.005119209177792072, 0.0030786972492933273, -0.02855009399354458, -6.638067134190351e-05, 0.008797253482043743, -0.00102196354418993, -0.013441766612231731, -0.02423342876136303, 0.006242771632969379, 0.016911489889025688, -0.014152104035019875, -0.009111441671848297, 0.026842551305890083, 0.01674756594002247, 0.04423215612769127, -0.014507272280752659, 0.0046308524906635284, 0.029369713738560677, -0.0060173762030899525, 0.008223519660532475, 0.006324733607470989, 0.014575573615729809, -0.018140921369194984, 0.01613285206258297, 0.02421976812183857, -0.027061117812991142, -0.010538945905864239, 0.037921082228422165, 0.03701949864625931, -0.0016682679997757077, 0.009254874661564827, -0.006242771632969379, 0.014602894894778728, 0.0029181884601712227, 0.004268853459507227, -0.029724882915616035, 0.02372799627482891, 0.022799093276262283, 0.0075883143581449986, -0.005593905691057444, 0.0009391478379257023, 0.015381533652544022, -0.010620907880365849, 0.02017631009221077, -0.0010825813515111804, 0.006587694864720106, 0.011112679727375507, -0.00717167416587472, -0.009910570457577705, 0.001051845494657755, 0.041418127715587616, -0.0021258890628814697, -0.03150072693824768, -0.01663828454911709, 0.025285273790359497, -0.0023478695657104254, 0.017826732248067856, 0.0079503133893013, 0.013025126419961452, -0.0010629445314407349, 0.026159536093473434, 0.02013532817363739, 0.00616080965846777, 0.016925150528550148, 0.02020363137125969, -0.008045935072004795, 0.03524365648627281, 0.03576274961233139, 0.006375960074365139, 0.010334040969610214, 0.014520932920277119, -0.00986275915056467, 0.004285929258912802, 0.0017229093937203288, 0.05587075650691986, -0.004910889081656933, -0.023195242509245872, 0.0010988028952851892, -0.0017135178204625845, 0.022648829966783524, -0.01012230571359396, 0.025613121688365936, -0.010552606545388699, -0.015081006102263927, 0.013250521384179592, 0.0010544068645685911, 0.021829210221767426, 0.029205789789557457, 0.011501999571919441, 0.012758749537169933, 0.026036592200398445, -0.011051208712160587, 0.009295855648815632, 0.0038453834131360054, -0.010313550941646099, -0.0022522471845149994, 0.004764040932059288, 0.004108344670385122, -0.0200806874781847, 0.007513182703405619, 0.005201171152293682, -0.02824956551194191, 0.02852277271449566, -0.03292139992117882, 0.02462957799434662, 0.02370067499577999, 0.020777365192770958, 0.006922373082488775, -0.01588696613907814, -0.023277204483747482, 0.013790104538202286, 0.02375531755387783, -0.008920196443796158, 0.0011790574062615633, -0.012430901639163494, 0.01978016085922718, -0.006440846249461174, 0.01620115339756012, -0.0025835102424025536, 0.01375595387071371, 0.01575036346912384, 0.01012913603335619, 0.011488338932394981, 0.011174151673913002, 0.02427440881729126, -0.01600990816950798, -0.013387124985456467, 0.0005993470549583435, 0.010409172624349594, -0.01191180944442749, 0.0020592950750142336, -0.021146193146705627, 0.025503840297460556, 0.00716484384611249, -0.010463814251124859, -0.018400466069579124, 0.0054504722356796265, 0.011290264315903187, -0.006126658990979195, -0.021405739709734917, -0.004244948271661997, 0.021433060988783836, -0.0032665268518030643, -0.031063593924045563, -0.007267296314239502, -0.011201472021639347, 0.03158268705010414, 0.003485092194750905, 0.00420738197863102, -0.020627101883292198, -0.011297094635665417, -0.012697278521955013, 0.006772109307348728, 0.029178468510508537, 0.012294298969209194, 0.002498133108019829, 0.011788866482675076, -0.01605089008808136, -0.042265065014362335, 0.023140601813793182, 0.029041865840554237, -0.02454761601984501, 0.009514421224594116, 0.0035892522428184748, 0.01606455072760582, -0.009316346608102322, 0.010593587532639503, 0.012909013777971268, 0.0031487063970416784, -0.029123827815055847, 0.009275365620851517, 0.005423151887953281, -0.030599143356084824, 0.014070142060518265, 0.007431220728904009, 0.05300208553671837, -0.005809056106954813, 0.00089645927073434, 0.02760753035545349, 0.0019414746202528477, 0.010545776225626469, -0.031090915203094482, -0.0013540803920477629, 0.034369394183158875, 0.007253636140376329, 0.01424772571772337, 0.0031043104827404022, -0.004381551407277584, 0.0008435255149379373, -0.017703790217638016, -0.01620115339756012, -0.009261704981327057, -0.002633028896525502, 0.026610326021909714, 0.008209859021008015, 0.0031265083234757185, 0.007977633737027645, -0.023359166458249092, -0.019001521170139313, 0.045707471668720245, -0.0016580227529630065, -0.012355769984424114, -0.007274126634001732, -0.029342392459511757, -0.0002689377870410681, -0.040434580296278, -0.011618112213909626, -0.011420037597417831, 0.0064613367430865765, -0.008592348545789719, -0.006188130471855402, -0.028987223282456398, -0.022307321429252625, 0.007328767795115709, 0.0064203557558357716, -0.0098695894703269, -0.03579007089138031, -0.04404091089963913, -0.0029728296212852, -0.0122328270226717, -0.03185589239001274, -0.011775205843150616, -0.0028635470662266016, 0.006263262126594782, -0.021091552451252937, 0.013072937726974487, 0.03904122859239578, -0.0027064532041549683, 0.006413525901734829, 0.00420738197863102, 0.0006497195572592318, 0.013236861675977707, -0.012827051803469658, -0.004460098221898079, 0.0034833846148103476, -0.014288706704974174, -0.002153209876269102, 0.029096506536006927, -0.009302685968577862, -0.0026620570570230484, 0.013646671548485756, -0.007205824833363295, 0.008435254916548729, 0.02080468460917473, 0.010716530494391918, -0.020995929837226868, 0.0018714654725044966, 0.01376961451023817, -0.00354144093580544, 0.0035380260087549686, 0.011638602241873741, 0.002245417097583413, 0.010866793803870678, -0.02833152748644352, -0.01971185952425003, -0.013072937726974487, 0.0018612202256917953, 0.0015470326179638505, -0.018373146653175354, 0.017293980345129967, -0.014056481420993805, 0.005962735041975975, -0.012342109344899654, -0.021200835704803467, 0.02454761601984501, 0.0037634214386343956, 0.007239975966513157, 0.02010800875723362, 0.0025186236016452312, -0.009391478262841702, -0.04475124552845955, 0.011556640267372131, -0.018974201753735542, 0.0033058002591133118, 0.021637964993715286, 0.002755971858277917, -0.021023251116275787, 0.01376961451023817, -0.010743850842118263, -0.014466291293501854, -0.034697242081165314, 0.022170718759298325, -0.01967087760567665, 0.0396149605512619, 0.004053703509271145, -0.02458859793841839, 0.0053787557408213615, -0.025872668251395226, -0.011338075622916222, 0.005918338894844055, 0.0012132081901654601, -0.030107371509075165, -0.00348167703486979, 0.025189651176333427, -0.008455744944512844, -0.018810277804732323, -0.01595526747405529, -0.013325653970241547, -0.015067346394062042, 0.012622146867215633, -0.025995612144470215, 0.018209222704172134, -0.01632409729063511, 0.0009067045175470412, -0.0076292953453958035, -0.00792299211025238, -0.021719926968216896, -0.037565913051366806, -0.03281211853027344, -0.014876101166009903, 0.038112327456474304, 0.008148388005793095, 0.014479951933026314, 0.031391441822052, 0.011727394536137581, -0.004770870786160231, -0.0010211097542196512, -0.011399546638131142, 0.011467848904430866, 0.005307038780301809, -0.026501042768359184, -0.0003534610732458532, 0.026214176788926125, -0.007738578133285046, 0.004494249355047941, 0.013653501868247986, 0.04521569982171059, 0.025435537099838257, -0.012116714380681515, 0.0008913366473279893, -0.013311993330717087, -0.01182984746992588, 0.017212018370628357, -0.029861485585570335, 0.017116395756602287, -0.004729889798909426, -0.029178468510508537, -0.01189814880490303, 0.010743850842118263, -0.013421275652945042, -0.02050415799021721, -0.01208256371319294, 0.03210178017616272, -0.005122624337673187, 0.02783975563943386, -0.0036541386507451534, 0.0014206744963303208, -0.008961177431046963, 0.0011244160123169422, -0.026227837428450584, 0.004231287632137537, 0.0018953710095956922, 0.0017032725736498833, -0.009514421224594116, -0.01180935651063919, 0.01632409729063511, -0.008524047210812569, 0.0006112998235039413, -0.01174788549542427, -0.002489595441147685, 0.004900644067674875, -0.02356407232582569, 0.010730190202593803, -0.026145875453948975, -0.038358211517333984, -0.01625579409301281, 0.01659730263054371, 0.02389192022383213, -0.014288706704974174, 0.012772410176694393, -0.022430265322327614, -0.013530558906495571, 0.046335846185684204, 0.022143397480249405, 0.04764723777770996, -0.006526223383843899, 0.03614523634314537, 0.041691333055496216, -0.01205524243414402, -0.009323175996541977, -0.010723360814154148, 0.010730190202593803, 0.0047845314256846905, 0.021200835704803467, 0.030599143356084824, -0.0165153406560421, -0.022170718759298325, -0.0004956139018759131, -0.014234066009521484, 0.005873942747712135, -0.025435537099838257, 0.013195880688726902, -0.007820540107786655, 0.005628056824207306, -0.02771681360900402, 0.005354850087314844, -0.033686377108097076, 0.022826414555311203, 0.008578687906265259, -0.010272569954395294, 0.0069906748831272125, 0.015463495627045631, -0.005255812779068947, 0.010614077560603619, -0.01945231296122074, 0.022498566657304764, 0.007970803417265415, -0.008366953581571579, -0.022744452580809593, -0.008933857083320618, 0.013673991896212101, 0.01957525499165058, -0.0031435838900506496, 0.03895926475524902, 0.005235322285443544, -0.003551686182618141, 0.002342746825888753, 0.001390792545862496, -0.0021327193826436996, -0.008578687906265259, -0.0236460343003273, 0.030380578711628914, -0.00018302710668649524, -0.004460098221898079, 0.0039990623481571674, -0.011686413548886776, 0.019192766398191452, -0.0036131576634943485, -0.013195880688726902, -0.008455744944512844, -0.01935669034719467, 0.00045164470793679357, 0.027429945766925812, 0.007253636140376329, 0.013277842663228512, -0.025626782327890396, -0.014643875882029533, -6.670084076176863e-06, -0.04723742604255676, -0.017157375812530518, 0.016952471807599068, -0.021351099014282227, -0.018987860530614853, -0.007690766826272011, -0.002131011802703142, 0.025708744302392006, 0.01622847467660904, -0.012287468649446964, 0.017485225573182106, 0.029069185256958008, -0.034505996853113174, -0.005501698702573776, 0.02402852289378643, 0.023372827097773552, -0.022102417424321175, -0.002641566563397646, 0.004309834912419319, -0.033959586173295975, 0.019042503088712692, -0.009924231097102165, -0.00965102482587099, -0.021173514425754547, 0.008530877530574799, 0.010976077057421207, -0.01566840149462223, -0.010272569954395294, 0.01646069996058941, 0.013469086959958076, 0.010156456381082535, -0.010709700174629688, -0.01021792832762003, 0.026419080793857574, -0.012362600304186344, -0.0006830166094005108, 0.018523409962654114, -0.0014633630635216832, 0.000344923377269879, -0.010552606545388699, -0.009036309085786343, 0.018960541114211082, -0.02434271201491356, 0.006669656839221716, -0.006560374516993761, -0.002718406030908227, -0.017471564933657646, -0.019192766398191452, -0.010655058547854424, -0.011187811382114887, -0.018017977476119995, 0.010798492468893528, 0.014671196229755878, -0.0062017906457185745, -0.013291502371430397, 0.00986275915056467, -0.006515978369861841, 0.01030672062188387, -0.01576402224600315, -0.01184350810945034, 0.02357773296535015, -0.012041582725942135, -0.02341380901634693, -0.0014650705270469189, -0.01594160683453083, 0.03953300043940544, 0.014807799831032753, -0.001970502780750394, -0.029533637687563896, -0.0030701595824211836, -0.018851257860660553, -0.030298616737127304, -0.017731111496686935, 0.021187175065279007, 0.007724917493760586, 0.017662808299064636, -0.025845346972346306, 0.034505996853113174, -0.006679902318865061, -0.003879534313455224, -0.029123827815055847, -0.023509431630373, 0.01656998321413994, 0.005242152139544487, 0.009569062851369381, -0.005682697985321283, -0.026897193863987923, 0.001419820706360042, 0.01230112835764885, 0.0001120574088417925, -0.0014582404401153326, 0.014220405369997025, 0.014739497564733028, 0.006761864293366671, 0.001216623350046575, 0.010907774791121483, 0.012697278521955013, 0.0049689458683133125, 0.005136284977197647, -0.03150072693824768, 0.0027252361178398132, 0.012929503805935383, -0.005204586312174797, -0.0018612202256917953, -0.0013745708856731653, -0.0137764448300004, 0.0019261067500337958, -0.007239975966513157, -0.004166400991380215, -0.037784479558467865, 0.023167923092842102, -0.02417878806591034, 0.009125101380050182, 0.025544820353388786, -0.017252998426556587, 0.02024461142718792, 0.016843188554048538, 0.030489860102534294, -0.016720246523618698, 0.0029745372012257576, -0.00717167416587472, 0.01594160683453083, 0.017649149522185326, 0.0137764448300004, -0.01987578347325325, 0.005750999785959721, -0.01409746240824461, -0.00841476395726204, -0.002663764636963606, 0.0072194854728877544, 0.00980811845511198, -0.033877622336149216, 0.022949356585741043, 0.03609059751033783, -0.004309834912419319, 0.009377817623317242, 0.01647436060011387, -0.010265739634633064, 0.002368360059335828, 0.01424772571772337, -0.008947517722845078, -0.021460380405187607, 0.016843188554048538, 0.01180935651063919, -0.017990656197071075, -0.0034936298616230488, -0.008045935072004795, 0.0018099939916282892, -0.017430583015084267, 0.012997806072235107, 0.20610707998275757, -0.008517216891050339, -0.004760625772178173, 0.06261896342039108, 0.0035243656020611525, -0.009268535301089287, 0.026255156844854355, 0.011392716318368912, 0.022922037169337273, 0.021678946912288666, 0.009924231097102165, -0.011795696802437305, -0.0038829492405056953, -0.0007812002440914512, 0.02449297532439232, 0.029014544561505318, -0.009398308582603931, -0.026063913479447365, -0.022116078063845634, 0.046062637120485306, 0.031036274507641792, -0.015695720911026, -0.004893813747912645, -0.0016827820800244808, 0.01986212283372879, -0.0009878127602860332, -0.012587996199727058, -0.0005148237687535584, 0.02855009399354458, 0.03161000832915306, -0.018400466069579124, 0.007718087639659643, 0.017840392887592316, -0.009084120392799377, -0.000678747717756778, -0.012683617882430553, 0.011583961546421051, -0.004600116517394781, 0.009131931699812412, 0.007417560089379549, -0.020763704553246498, -0.018250202760100365, 0.0028259812388569117, 0.004316664766520262, 0.007103372365236282, 0.012717768549919128, -0.006300827953964472, 0.006212035659700632, 0.01979382149875164, 1.5541296306764707e-05, 0.0011372226290404797, 0.00034855189733207226, 0.01652900129556656, 0.016966132447123528, 0.0005750145646743476, -0.014602894894778728, 0.033741019666194916, -0.014548253268003464, 0.012765579856932163, -0.010081324726343155, -0.009002158418297768, 0.012874863110482693, -0.030817708000540733, 0.016966132447123528, -0.026405422016978264, 0.03548954054713249, -0.004480588715523481, 0.010545776225626469, -0.01003351341933012, -0.021228155121207237, 0.026487383991479874, -0.0009758599335327744, -0.02723870240151882, -0.01975283958017826, -0.0396149605512619, -0.021515022963285446, 0.022348303347826004, 0.017143717035651207, 0.0315280444920063, 0.01669292524456978, 0.00303942384198308, 0.007533673197031021, -0.003145291469991207, -0.01208939403295517, -0.007547333370894194, -0.022662490606307983, 0.006399865262210369, 0.021050570532679558, 0.01378327514976263, 0.011426867917180061, -0.011850337497889996, 0.007301447447389364, -0.01225331798195839, -0.013154899701476097, 0.022143397480249405, -0.002371775219216943, 0.008162048645317554, 0.0022249266039580107, -0.029670240357518196, -0.018578050658106804, 0.00980128813534975, 0.03691021725535393, 0.013981349766254425, -0.013974519446492195, 0.005716848652809858, 0.011788866482675076, -0.00196196511387825, -0.00980128813534975, 0.01173422485589981, -0.01585964486002922, -0.008503556251525879, -0.030243974179029465, 0.0010791661916300654, -0.014316027984023094, 0.028031000867486, 0.02017631009221077, 0.006553544197231531, 0.006406695581972599, 0.007663446012884378, -0.0060481117106974125, -0.003869289066642523, -0.034833844751119614, 0.02024461142718792, 0.007827370427548885, -0.01633775606751442, -0.007800049614161253, -0.011652262881398201, 0.010969246737658978, 0.003876119153574109, -0.03969692438840866, 0.03562614694237709, -0.0012567505473271012, 0.02061344124376774, -0.014534592628479004, 0.009227554313838482, -0.019343029707670212, -0.012266977690160275, 0.003903439734131098, -0.03956032171845436, -0.005296793766319752, 0.025175992399454117, -0.0004635975055862218, 0.005515358876436949, 0.0018834182992577553, 0.018728313967585564, -9.300764941144735e-05, 0.0281676035374403, 0.012909013777971268, -0.012492373585700989, 0.00401272252202034, -0.013742294162511826, -0.012704108841717243, -0.010518455877900124, 0.019165445119142532, 0.019069822505116463, -0.01221916638314724, -0.033741019666194916, -0.017867714166641235, -0.011221962980926037, -0.0033997150603681803, -0.04327592998743057, 0.017895035445690155, 0.02738896571099758, -0.004726474639028311, -0.025216972455382347, 0.03712878003716469, -0.17528937757015228, 0.015135647729039192, -0.008735782466828823, -0.024916445836424828, 0.02333184704184532, 0.013503237627446651, 0.03223838284611702, -0.009056800045073032, -0.00827133096754551, -0.005621226504445076, 0.01174788549542427, -0.0031265083234757185, -0.023003999143838882, 0.018168240785598755, 0.010429663583636284, -0.008530877530574799, -0.010409172624349594, 0.018250202760100365, -0.016993451863527298, 0.013482747599482536, 0.014288706704974174, -0.03573542833328247, 0.01426138635724783, -0.017498884350061417, 0.0162421353161335, 0.002810613252222538, -0.010880454443395138, 0.01669292524456978, 0.02811296284198761, -0.0012328448938205838, -0.0060481117106974125, -0.005809056106954813, 0.027074778452515602, -0.012540184892714024, 0.026883533224463463, -0.011474678292870522, -0.014015500433743, 0.01424772571772337, 0.0056417169980704784, 0.03281211853027344, 0.023031318560242653, -0.003283602185547352, -0.0014488489832729101, 0.009459779597818851, -0.006225696299225092, 0.011420037597417831, 0.01424772571772337, 0.017580846324563026, -0.004238117951899767, -0.012205506674945354, -0.004285929258912802, -0.015504476614296436, 0.010846303775906563, 0.0001806792279239744, -0.010764341801404953, 0.015613758936524391, -0.005853452254086733, 0.012997806072235107, 0.021214494481682777, -0.013680822215974331, 0.007636125665158033, -0.01595526747405529, -1.970342782442458e-05, -0.02005336619913578, -0.02868669666349888, 0.0005489746108651161, -0.013639841228723526, 0.00802544504404068, -0.016897831112146378, -0.0019448897801339626, 9.90907647064887e-05, -0.04360377788543701, 0.011727394536137581, -0.029560957103967667, 0.015613758936524391, -0.0012371138436719775, 0.0015367873711511493, 0.021952154114842415, -0.02065442129969597, -0.016774887219071388, -0.0020934457425028086, 0.033932264894247055, 0.006270092446357012, -0.010914605110883713, -0.021296456456184387, -0.0026569345500320196, -0.013817425817251205, -0.0030855273362249136, 0.0015547164948657155, -0.006065187510102987, 0.012533354572951794, -0.010921435430645943, 0.01182984746992588, -0.03622720018029213, 0.018045298755168915, 0.021173514425754547, 0.008530877530574799, 0.020927628502249718, 0.005020171869546175, 0.023290865123271942, 0.006785769946873188, -0.008469405584037304, -0.0007086297264322639, 0.012902183458209038, 0.019110804423689842, -0.011563470587134361, -0.01987578347325325, 0.010497964918613434, 0.02346844971179962, 0.004425947554409504, -0.01609187014400959, -0.004688908811658621, 0.024916445836424828, 0.0035346108488738537, -0.014452630653977394, 0.037893760949373245, -0.012745089828968048, -0.00204392708837986, -0.004531815182417631, -0.014438970945775509, 0.046089958399534225, 0.0026193687226623297, -0.0394783578813076, 0.0027269436977803707, -0.022566867992281914, -0.025667764246463776, -0.11256113648414612, -0.023195242509245872, 0.01599624939262867, 0.022512227296829224, 0.0034646017011255026, 0.0015760607784613967, -0.023031318560242653, -0.007123862858861685, -0.017075413838028908, 0.06420356035232544, 0.005505113862454891, -0.058138370513916016, -0.01562741957604885, -0.0035380260087549686, 0.005501698702573776, -0.0021958984434604645, -0.025626782327890396, -0.01584598422050476, -0.014684856869280338, 0.041937217116355896, 0.00518751097843051, -0.008646990172564983, -0.023386487737298012, -0.0007901648059487343, -0.010955586098134518, 0.0025135010946542025, -0.02394656091928482, 0.021132532507181168, 0.01953427493572235, 0.004542060196399689, 0.029724882915616035, -0.014042820781469345, 0.022225359454751015, -0.008428424596786499, -0.025899989530444145, -0.007882011123001575, -0.027129419147968292, -0.02017631009221077, 0.01411112304776907, -0.0018578051822260022, 0.021911172196269035, 0.03128216043114662, -0.017895035445690155, -0.015436175279319286, -0.026760589331388474, 0.003678044304251671, -0.006546713877469301, 0.006300827953964472, -0.017171036452054977, -0.014671196229755878, -0.021064231172204018, -0.01969819888472557, -0.015067346394062042, -0.0012029629433527589, -0.009309516288340092, -0.010996567085385323, 0.01644703932106495, -0.012109884060919285, -0.015135647729039192, 0.0015034902608022094, -0.02476618066430092, 0.0014872686006128788, -0.029560957103967667, 0.03729270398616791, -0.019274728372693062, 0.00045975553803145885, -0.03201981633901596, -0.02333184704184532, 0.020859327167272568, 0.0027935379184782505, -0.02024461142718792, 0.020927628502249718, -0.012697278521955013, 0.014316027984023094, -0.03292139992117882, -0.000687712337821722, -0.023017659783363342, -0.025094030424952507, 0.0050030965358018875, -0.0015513014513999224, -0.0048494176007807255, -0.02468421868979931, -0.002663764636963606, -0.012833882123231888, 0.03161000832915306, 0.030189333483576775, -0.006444261409342289, -0.018960541114211082, 0.02783975563943386, -0.017608167603611946, 0.008571858517825603, 0.03939639776945114, 0.0002636017161421478, -0.02370067499577999, -0.0037053648848086596, 0.014930742792785168, -0.013605690561234951, -0.011590791866183281, -0.0027850002516061068, -0.02423342876136303, -0.033795662224292755, -0.0006501463940367103, -0.04294808208942413, 0.037921082228422165, 0.015285911038517952, -0.00033510502544231713, -0.0006552690174430609, -0.021883850917220116, 0.00045890177716501057, -0.0006586841191165149, -0.0018646352691575885, 0.008940687403082848, -0.0080869160592556, 0.021077891811728477, -0.03141876310110092, -0.0064237709157168865, -0.017990656197071075, -0.013134408742189407, 0.0023359167389571667, -0.013578370213508606, 0.037429310381412506, -0.0012900475412607193, -0.026774249970912933, 0.01650168001651764, -0.008790423162281513, 0.005126039497554302, -0.005470962729305029, -0.011795696802437305, -0.02855009399354458, -0.01650168001651764, -0.011071698740124702, -0.007144353352487087, 0.018823936581611633, -0.021651625633239746, -0.014766818843781948, 0.019110804423689842, -0.009507590904831886, -0.038549456745386124, -0.0012268685968592763, 0.032484270632267, 0.030407898128032684, -0.0014189669163897634, -0.0163787379860878, -0.03584470972418785, -0.0021737003698945045, 0.014985384419560432, -0.012649467214941978, -0.0003447099297773093, -0.006714052986353636, 0.011406376957893372, -0.0031077254097908735, 0.002892575226724148, 0.02790805697441101, -0.008312311954796314, 0.009753476828336716, -0.021624304354190826, -0.021064231172204018, 0.004658173304051161, -0.007608804851770401, -0.011140001006424427, 0.030681105330586433, 0.0007406460936181247, 0.030380578711628914, 0.005126039497554302, 0.027033796533942223, 0.0007082028314471245, 0.0056417169980704784, -0.005846621934324503, -0.014479951933026314, -0.007724917493760586, 0.01581866480410099, -0.03297604247927666, -0.007800049614161253, -0.007069221697747707, 0.017744770273566246, 0.022689811885356903, -0.003095772583037615, -0.007752238307148218, 0.0005856867064721882, 0.012348939664661884, -0.021747248247265816, 0.003838553326204419, 0.01416576374322176, 0.0013412737753242254, -0.029096506536006927, 0.0024691049475222826, 0.027279682457447052, -0.0026979155372828245, -0.017635488882660866, 0.03502508997917175, -0.00025356991682201624, -0.01424772571772337, -0.005925168748944998, 0.017744770273566246, -0.018509749323129654, -0.003164074383676052, -0.005064568016678095, 0.025285273790359497, -0.008394273929297924, 0.018782956525683403, 0.018769295886158943, 0.01631043665111065, -0.017512544989585876, -0.00014599479618482292, -0.025667764246463776, -0.016911489889025688, -0.01968453824520111, 0.010586757212877274, -0.0064203557558357716, -0.022717131301760674, -0.02340014837682247, -0.006977014243602753, -0.005214831791818142, -0.002136134309694171, -0.0019209841266274452, 0.021528683602809906, -0.006584279704838991, -0.0008166317129507661, -0.017881374806165695, -0.02053147926926613, -0.019056163728237152, 0.02762119099497795, 0.00514994515106082, -0.008524047210812569, -0.009937891736626625, 0.014124782755970955, -0.00011750019621104002, -0.005508529022336006, 0.04669101536273956, -0.01411112304776907, -0.007076052017509937, -0.005095303989946842, 0.023509431630373, -0.017457904294133186, -0.011501999571919441, -0.008947517722845078, -0.004384966567158699, 0.02064076066017151, -0.011850337497889996, 0.010778001509606838, -0.007144353352487087, 0.08163414150476456, -2.8441238100640476e-05, -0.021569663658738136, 0.01633775606751442, -0.03163732960820198, 0.03666432946920395, 0.007697597146034241, 0.004511324688792229, 0.008845064789056778, -0.05272888019680977, 0.0062017906457185745, -0.01958891563117504, 0.021952154114842415, -0.01602356880903244, -0.0007222900167107582, -0.029943447560071945, -0.001191863906569779, 0.028877941891551018, -0.03600863367319107, -0.007984464056789875, 0.01650168001651764, -0.03964228183031082, 0.030872350558638573, 0.031227517873048782, 0.014753158204257488, -0.013735463842749596, -0.003167489543557167, 0.02080468460917473, -0.0032101778779178858, -0.03691021725535393, -0.0006309365853667259, -0.006495487876236439, -0.021009590476751328, -0.017307640984654427, -0.007731747813522816, 0.008797253482043743, 0.003783911932259798, -0.025940969586372375, 0.004856247920542955, 0.02814028412103653, -0.004586456343531609, 0.01568206027150154, -0.01190497912466526, -0.009036309085786343, -0.0034424036275595427, -0.0062086209654808044, -0.004357645753771067, 0.009910570457577705, -0.026227837428450584], [-0.01932554505765438, 0.005550655536353588, -0.01567656733095646, -0.016616880893707275, -0.008350543677806854, 0.028911126777529716, -0.03800550103187561, -0.01693967543542385, -0.03230748325586319, -0.01926940679550171, -0.01311526633799076, -0.002450779313221574, -0.0020753557328134775, 0.012490729801356792, 0.0010271519422531128, 0.006066424772143364, -0.0011876719072461128, -0.00621729576960206, 0.005866432562470436, 0.002989354310557246, -0.015648499131202698, 0.0200132355093956, -0.020981619134545326, 0.011789003387093544, 0.017122123390436172, 0.0021209679543972015, 0.030342647805809975, -0.013409990817308426, 0.0021069333888590336, -0.0036244166549295187, 0.024083249270915985, -0.023185038939118385, -0.01557832583785057, -0.013374905101954937, -0.006996212061494589, 0.019522028043866158, 0.0178378839045763, 0.0188624057918787, 0.012610022909939289, 0.0002802519593387842, -0.011845141649246216, 0.009768031537532806, -0.004424384795129299, 0.00508049875497818, 0.021290378645062447, -0.0021139506716281176, 0.030960168689489365, 0.0019262388814240694, 0.004754196386784315, 0.0010043458314612508, 0.030370717868208885, 0.03564770147204399, -0.02583756484091282, 0.011732865124940872, 0.0010253976797685027, -0.00853299256414175, -0.0035595069639384747, 0.011690761893987656, -0.005557673051953316, -0.015087117440998554, -0.005371715407818556, -0.009536461904644966, -0.0020420236978679895, 0.023521868512034416, -0.011438139714300632, -0.005185757763683796, -0.018539611250162125, 0.005361189600080252, 0.004420876037329435, -0.01632215641438961, 0.008182129822671413, 0.015241497196257114, -0.014399425126612186, 0.006610262673348188, 0.03528280183672905, -0.001273633330129087, 0.006406761705875397, -0.004596307873725891, 0.011796019971370697, -0.0010306605836376548, -0.001306965365074575, 0.003852477762848139, -0.030286511406302452, 0.016981778666377068, 0.011164466850459576, 0.012638092041015625, 0.014469597488641739, 0.019072923809289932, -0.019072923809289932, 0.002456042217090726, -0.005855906754732132, 0.027297155931591988, 0.036602046340703964, -0.0061085280030965805, -0.021823691204190254, 0.024251664057374, -0.007508472073823214, 0.033009208738803864, 0.00898209773004055, -0.04493855684995651, -0.027830468490719795, 0.0017297555459663272, -0.015606394968926907, -0.007438299711793661, -0.01870802603662014, -0.013809975236654282, 0.01330473180860281, -0.01404856238514185, 0.019662372767925262, 0.0074172476306557655, -0.019100992009043694, 0.0234797652810812, -0.0038875641766935587, -0.024883218109607697, 0.022932417690753937, 0.025809496641159058, 0.03474948927760124, -0.004234918858855963, -0.014876599423587322, -0.004091064911335707, 0.026848051697015762, 0.009255770593881607, 0.04187903180718422, -0.0032489930745214224, 0.026777878403663635, 0.0361810103058815, -0.03985805809497833, -0.03168996423482895, -0.018357161432504654, -0.014806426130235195, 0.008097922429442406, 0.036966945976018906, 0.008420716971158981, 0.006501494906842709, -0.00822423305362463, 0.010013635270297527, -0.023746421560645103, 0.028546229004859924, -0.00805581919848919, -0.020406203344464302, -0.003859495045617223, 0.03615294396877289, -0.00898209773004055, -0.016280051320791245, 0.002840237459167838, 0.01091886218637228, -0.007824249565601349, -0.011887244880199432, -0.0046033249236643314, -0.009908376261591911, -0.00556819885969162, -0.015437980182468891, -0.0035209120251238346, -0.007076910696923733, 0.013248594477772713, -0.001429767464287579, 0.013662612996995449, 0.015508152544498444, 0.0017367728287354112, -0.01917116530239582, -0.012624057941138744, 0.02827957272529602, 0.013262628577649593, -0.015087117440998554, 0.037556394934654236, 0.025206010788679123, 0.011697778478264809, 0.0076277656480669975, 0.016069533303380013, -0.007361109834164381, -0.007662851829081774, 0.012111796997487545, -0.03528280183672905, 0.016616880893707275, -0.02561301365494728, 0.014848530292510986, 0.014581874012947083, 0.02376045472919941, -0.01061010267585516, -0.03236361965537071, -0.011880227364599705, -0.0007504086242988706, 0.0034665283747017384, 0.00969785824418068, -0.026244565844535828, 0.021290378645062447, 0.0035174035001546144, -0.012006537988781929, 0.021879827603697777, 0.008996131829917431, 0.004455962684005499, 0.00952242687344551, -0.019367648288607597, 0.008757545612752438, -0.6615315079689026, -0.03407583385705948, -0.01153638120740652, -0.022216657176613808, -0.022034207358956337, 0.02858833223581314, 0.01626601815223694, -0.007726007606834173, 0.010350463911890984, 0.016392327845096588, -0.0296409223228693, -0.00047015666496008635, -0.0033349546138197184, -0.013220525346696377, 0.0034928431268781424, -0.011255690827965736, -0.0018139627063646913, -0.005238387268036604, 0.028293607756495476, 0.012546868063509464, -0.030090026557445526, 0.009845221415162086, -0.0005355049506761134, -0.01049782708287239, 0.03081982210278511, -0.0030139146838337183, 0.04718407988548279, -0.014132768847048283, 0.009950480423867702, -0.02317100577056408, -0.018048401921987534, 0.026216497644782066, -0.0046559544280171394, 0.010862723924219608, 0.03890370950102806, -0.008196163922548294, -0.02623053267598152, 0.018918544054031372, 0.011838124133646488, 0.012490729801356792, -0.03236361965537071, -0.008118974044919014, 0.026188427582383156, -0.014680115506052971, -0.014076631516218185, 0.012343366630375385, 0.018876438960433006, -0.007424265146255493, -0.0032367128878831863, -0.012069693766534328, -0.0016815118724480271, -0.011157449334859848, 0.001166620058938861, 0.007010246627032757, -0.0021630716510117054, -0.013802957721054554, 0.029865475371479988, -0.006413779221475124, 0.0033542520832270384, -0.007213747128844261, 0.005052430089563131, -0.013501215726137161, -0.005424344912171364, -0.01870802603662014, 0.010799569077789783, 0.0025139348581433296, -0.018693991005420685, -0.007424265146255493, 0.013136317953467369, -0.012441609054803848, 0.008666320703923702, 0.03143734112381935, 0.00016622143448330462, 0.00868737231940031, 0.010139945894479752, 0.0196343045681715, 0.03401969373226166, 0.00785231776535511, -0.01870802603662014, 0.02576739341020584, 0.01420294214040041, 0.00268761208280921, -0.03357059136033058, 0.009761014021933079, 0.012694230303168297, 0.009536461904644966, -0.018764162436127663, -0.022006139159202576, -0.00890490785241127, -0.0021613172721117735, -0.004410350229591131, -0.006592719350010157, -0.00921366736292839, -0.024770941585302353, -0.015030979178845882, 0.01945185475051403, 9.215640602633357e-05, 0.013017023913562298, 0.027872571721673012, -0.017150193452835083, -0.026216497644782066, -0.004950679372996092, 0.02378852479159832, -0.00308935041539371, 0.001494677155278623, 0.0006929548108018935, -0.0030279492493718863, -0.013571388088166714, 0.021023722365498543, -0.039044056087732315, 0.020771101117134094, -0.016125671565532684, -0.018076471984386444, 0.009480323642492294, -0.034300386905670166, -0.03733184188604355, 0.032195206731557846, 0.0010824128985404968, -0.019381683319807053, -0.006662892177700996, 0.01220302190631628, 0.017543159425258636, 0.021332481876015663, -0.022693831473588943, -0.01722036488354206, -0.004087556153535843, -0.010560981929302216, 0.005501534789800644, -0.04864367097616196, -0.011003069579601288, -0.0073400577530264854, -0.010708344168961048, 0.029219886288046837, -0.02740943245589733, 0.04016681760549545, -0.005427853669971228, 0.008189146406948566, -0.024335870519280434, -0.005564690101891756, -0.019830787554383278, -0.007704955525696278, -0.015648499131202698, 0.006417287513613701, -0.023648178204894066, -0.011746899224817753, -0.026118256151676178, -0.025570908561348915, 0.030904030427336693, -0.010420636273920536, 0.017613332718610764, -0.013031058944761753, -0.00776811083778739, -0.014076631516218185, -0.010525895282626152, 0.009669789113104343, -0.011978468857705593, -0.028111157938838005, -0.01542394608259201, -0.006417287513613701, 0.01345911156386137, 0.011311829090118408, 0.018918544054031372, -0.010631154291331768, -0.015999361872673035, -0.006329571828246117, -0.020897410809993744, 0.002866552211344242, 0.007950560189783573, 0.00030788243748247623, -0.03761253505945206, -0.0015657269395887852, 0.008876838721334934, 0.012736333534121513, -0.0010990789160132408, -0.023648178204894066, 0.009669789113104343, -0.018623817712068558, -0.009220684878528118, -0.01175391674041748, -0.01759929768741131, -0.0007552329916507006, 0.01670108735561371, -0.011164466850459576, 0.009887324646115303, -0.005308560095727444, 0.01280650682747364, 0.02193596586585045, 0.009375064633786678, -0.02035006508231163, 0.017206331714987755, 0.0200132355093956, 0.019746581092476845, 0.001468362403102219, -0.0023104341235011816, -0.016055500134825706, 0.02319907397031784, 0.010743430815637112, 0.015157289803028107, -0.010217135772109032, 0.026441050693392754, 0.01359945721924305, 0.008575096726417542, 0.016588810831308365, -0.018441369757056236, 0.020616721361875534, -0.0044840313494205475, 0.006996212061494589, -0.003754236036911607, 0.008371595293283463, 0.01691160537302494, 0.018848370760679245, -0.02209034562110901, -0.011143415234982967, 0.006764642428606749, -0.009171564131975174, 0.015816912055015564, -6.611578282900155e-05, 0.011438139714300632, -0.013950319960713387, 0.007964594289660454, 0.010125911794602871, -0.002906901529058814, 0.031184719875454903, -0.0061611575074493885, -0.03084789216518402, -0.004045452456921339, 0.018567679449915886, 0.0017209840007126331, 0.03800550103187561, 0.0023244686890393496, -0.014350304380059242, 0.011550416238605976, 0.007487420458346605, -0.0067260474897921085, 0.008392647840082645, 0.01691160537302494, 0.03556349128484726, -0.014441529288887978, 0.014946771785616875, 0.014806426130235195, -0.01496080681681633, 0.02930409274995327, -0.014259080402553082, -0.0005175232072360814, 0.00549802603200078, -0.0020350064150989056, 0.01204864215105772, -0.002980582881718874, -0.02209034562110901, 0.010960966348648071, -0.007150591816753149, 0.0038033570162951946, -0.018006298691034317, 0.008525975048542023, 0.013452094979584217, -0.0019332561641931534, -0.008645269088447094, 0.01381699275225401, 0.0007718990091234446, 0.018974680453538895, 0.001531517831608653, 0.011234639212489128, 0.006936565041542053, -0.0010894301813095808, 0.006915513426065445, -0.009557513520121574, -0.011332880705595016, 0.007368126884102821, -0.004462979733943939, -0.008217215538024902, 0.007880386896431446, 0.001260475954040885, 0.0067541166208684444, -0.032447826117277145, 0.030679477378726006, 0.005810294300317764, 0.0015069573419168591, -1.833808346418664e-05, 0.024335870519280434, 0.007140066009014845, -0.025570908561348915, -0.030426856130361557, -0.004277022089809179, 0.025346357375383377, 0.0009911884553730488, -0.0117398826405406, -0.002780590672045946, 0.019381683319807053, -0.007248833309859037, -0.0031384711619466543, 0.012553884647786617, 0.007122522685676813, 0.035759977996349335, 0.008701407350599766, -0.006168175023049116, -0.005203301087021828, 0.009346995502710342, -0.03295307233929634, -0.014890633523464203, -0.005059447139501572, -0.01542394608259201, 0.005441888235509396, -0.00859614834189415, -0.008694389835000038, 0.04193516820669174, 0.0020122004207223654, -0.0171922966837883, 0.015437980182468891, -0.0259217731654644, -0.007101471070200205, -0.0036735376343131065, 0.009711893275380135, -0.016995813697576523, 0.0004348510701674968, -0.010308360680937767, -0.016687054187059402, -0.01367664709687233, 0.001264861784875393, 0.02614632435142994, 0.014441529288887978, -0.011697778478264809, -0.019072923809289932, 0.004726127255707979, -0.0125117814168334, 0.01976061426103115, 0.002831466030329466, 0.010771499946713448, 0.015592359937727451, -0.0033840753603726625, -0.02006937377154827, -0.045050833374261856, 0.00285778078250587, 0.012476694770157337, -0.007557593286037445, -0.005252421833574772, 0.0062664165161550045, 0.007908456027507782, -0.0010376778664067388, 0.014750288799405098, -0.0037226583808660507, 0.0020507953595370054, -0.018932577222585678, -0.012118814513087273, -0.017894022166728973, -0.03045492433011532, 0.030595270916819572, -0.004806825891137123, 0.018637852743268013, 0.006841832306236029, -0.01398540660738945, 0.04215972125530243, -0.008013715036213398, 0.016532672569155693, -0.013620508834719658, -0.0008622462628409266, 0.013192456215620041, 0.021051790565252304, 0.014153821393847466, -0.009578565135598183, -0.004291056655347347, 0.006231330335140228, 0.0007898807525634766, 0.0035209120251238346, 0.006459391210228205, -0.00799266342073679, -0.002866552211344242, 0.010855707339942455, 0.010238188318908215, -0.003915633074939251, -0.019620269536972046, 0.00876456219702959, 0.028055021539330482, 0.006799728609621525, -0.03556349128484726, 0.004420876037329435, -0.0034735456574708223, -0.0002806905540637672, -0.01428013201802969, 0.02568318508565426, 0.01512922067195177, -0.0018332601757720113, 0.0030349665321409702, 0.006855866871774197, -0.027156811207532883, 0.010729396715760231, -0.014806426130235195, -0.005834854673594236, -0.012890713289380074, -0.014918702654540539, -0.036349426954984665, -0.008806666359305382, 0.004034926649183035, -0.01960623450577259, -0.0006039232830516994, -0.0008530361228622496, 0.011760934256017208, -0.006090985145419836, 0.007978629320859909, 0.029556715860962868, 0.008911925368010998, 0.026553325355052948, -0.006940073799341917, 0.010834655724465847, -0.009101390838623047, -0.02075706608593464, -0.020265858620405197, 0.022567519918084145, -0.02363414503633976, -0.006747099105268717, 0.018693991005420685, -0.012448625639081001, 0.011122362688183784, -0.004034926649183035, -0.0016578285722061992, 0.003919141832739115, -0.00985223799943924, 0.0246305949985981, -0.016336189582943916, 0.015353772789239883, 0.010294325649738312, 0.01778174564242363, 0.011241656728088856, -0.0007188309682533145, -0.0032489930745214224, 0.016658984124660492, -0.018357161432504654, -0.008294405415654182, -0.01898871548473835, -0.008399664424359798, 0.007473385892808437, -0.007789162918925285, 0.004077030345797539, -0.0005543638253584504, -0.0009841712890192866, -0.016799328848719597, -0.03500211238861084, 0.001367489225231111, -0.012659143656492233, -0.007564610335975885, -0.006547106895595789, -0.0016051990678533912, -0.0034033728297799826, -0.003792830975726247, 0.002740241587162018, -0.01793612539768219, -0.015185358934104443, 0.012553884647786617, 0.023620110005140305, -0.019971132278442383, 0.03432845324277878, -0.0002767433470580727, -0.047408632934093475, -0.008175112307071686, 0.012174952775239944, -0.004329651594161987, 0.03107244335114956, 0.007403213065117598, -0.03444072976708412, -0.01768350414931774, 0.0002784976677503437, -0.003961245529353619, -0.0006210278370417655, -0.0011718830792233348, -0.019592201337218285, 0.002306925365701318, 0.03612487390637398, -0.005006817635148764, -0.0006131334230303764, -0.02232893370091915, -0.017697539180517197, -0.026370877400040627, 0.004210358485579491, -0.02291838265955448, 0.021767552942037582, 0.005515569355338812, 0.0020823730155825615, 0.008876838721334934, -0.015508152544498444, -0.01037853304296732, -0.04693146049976349, -0.018848370760679245, -0.02124827541410923, 0.042075514793395996, 0.016827398911118507, 0.02202017419040203, 0.005620828364044428, 0.0255288053303957, -0.015101151540875435, 0.0073260231874883175, -0.007333040703088045, 0.00031533828587271273, 0.03017423488199711, -0.019100992009043694, 0.010792551562190056, 0.004133168142288923, 0.0002447270671837032, 0.01793612539768219, -0.02227279543876648, 0.031044375151395798, 0.004869981203228235, -0.022188588976860046, -8.585183968534693e-05, -0.01276440266519785, -0.007017263676971197, -0.0037858139257878065, -0.03525473177433014, 0.02214648388326168, -0.0061085280030965805, -0.04429296776652336, -0.010666240938007832, 0.023718351498246193, -0.0034086359664797783, -0.0001478011254221201, -0.012799489311873913, 0.025444598868489265, 8.27817802928621e-06, 0.018750129267573357, -0.0002738925686571747, 0.017613332718610764, 0.013662612996995449, 0.023283280432224274, -0.02063075639307499, -0.00477173924446106, 0.01611163839697838, -0.00610151095315814, -0.006897970102727413, -0.0036735376343131065, -0.0052208444103598595, 0.008490889333188534, -0.014413460157811642, 0.017108088359236717, 0.013802957721054554, 0.03211100026965141, -0.007943542674183846, -0.033654797822237015, -0.020855307579040527, -0.01585901528596878, -0.0022735935635864735, 0.02434990555047989, 0.036068737506866455, -0.003101630602031946, 0.019030818715691566, -0.028083089739084244, -0.021571068093180656, 0.024490250274538994, 0.0007280411082319915, 0.029977750033140182, -0.0009245245018973947, 0.02202017419040203, 0.017613332718610764, -0.021178102120757103, -0.025206010788679123, 0.0008455803035758436, 0.0035156491212546825, -0.022342968732118607, 0.010890793055295944, 0.01272931694984436, -0.029079541563987732, -0.02432183548808098, -0.0015139746246859431, 0.0017481758259236813, -0.011613572016358376, -0.01557832583785057, 0.017051950097084045, 0.003792830975726247, 0.025360390543937683, -0.020490409806370735, 0.011704795993864536, -0.022441210225224495, 0.015943223610520363, -0.024279732257127762, 0.01303807646036148, -0.02486918307840824, -0.011690761893987656, -0.012343366630375385, 0.007185677997767925, -0.025262149050831795, 0.04190709814429283, 0.012673178687691689, -0.014055578969419003, 0.0063576409593224525, 0.0032893423922359943, -0.006105019710958004, 0.00583134638145566, -0.009410150349140167, 0.029360231012105942, 0.012904748320579529, -0.008820700459182262, -0.004754196386784315, 0.0030788243748247623, -0.00018255850591231138, 0.0026367369573563337, -0.02961285226047039, 0.02676384337246418, 0.005199792329221964, -0.028644470497965813, 0.026034047827124596, 0.010336429812014103, 0.028490090742707253, -0.02481304481625557, -0.006873409729450941, -0.020139547064900398, -0.022749969735741615, -0.0072347987443208694, -0.0003028388018719852, 0.0020806186366826296, 0.0062804510816931725, -0.010217135772109032, -0.018076471984386444, -0.014441529288887978, -0.02286224626004696, -0.00289988424628973, -0.003845460480079055, -0.033907417207956314, -0.014118734747171402, 0.0047331443056464195, -0.02812519297003746, 0.0077330246567726135, -0.007936525158584118, -0.013087197206914425, 0.01657477766275406, 0.023395556956529617, -0.005599776282906532, -0.008862804621458054, 0.01765543594956398, -0.017641400918364525, -0.018469437956809998, -0.01613970659673214, 0.01604146510362625, -0.02419552579522133, 0.01973254606127739, -0.02019568532705307, -0.00997153203934431, -0.041429925709962845, -0.003908616025000811, -0.00575415650382638, -0.01911502704024315, 0.017894022166728973, 0.008554044179618359, -0.0037402017042040825, 0.029219886288046837, -0.004459470976144075, -0.016799328848719597, 0.02493935637176037, -0.010778517462313175, 0.0012727562570944428, -0.009108408354222775, -0.01452573575079441, -0.009789083153009415, -0.005582233425229788, -0.001423627370968461, 0.015971291810274124, -0.03225134313106537, -0.004505083430558443, -0.0034103901125490665, 0.019620269536972046, 0.0023700809106230736, -0.03561963140964508, -0.011606554500758648, 0.0246305949985981, -0.003226187080144882, 0.010820620693266392, 0.0209114458411932, -0.0036489772610366344, 0.011683744378387928, 0.0016385311027988791, 0.003266536397859454, -0.003154260106384754, -0.010448705404996872, -0.00016698894614819437, 0.00012345999130047858, -0.0005841872189193964, -0.01288369670510292, -0.011564450338482857, -0.0036910807248204947, 0.03416004031896591, 0.021388620138168335, 0.0008982097497209907, -0.029079541563987732, 0.0032296956051141024, -0.00579976849257946, 0.010855707339942455, 0.0034647739958018064, 0.006764642428606749, 0.010287309065461159, 0.012638092041015625, 0.020799169316887856, 0.03385128080844879, 0.013704716227948666, -0.02093951590359211, -0.016434431076049805, -0.02199210412800312, -0.009964514523744583, 0.02620246261358261, 0.02781643345952034, -0.010848689824342728, -0.02623053267598152, -0.014097683131694794, 0.012932817451655865, 0.00776811083778739, -0.0011411824962124228, 0.009704875759780407, 0.0030279492493718863, -0.0061751920729875565, 0.0024490251671522856, 0.006617279723286629, 0.018146643415093422, 0.0011192535748705268, -0.008778597228229046, -0.04788580909371376, -0.02016761526465416, 0.0034174073953181505, 0.021388620138168335, -0.00830142293125391, 0.015466049313545227, -0.01852557621896267, -0.015522187575697899, 0.001287667895667255, -0.004631394054740667, -0.0021981578320264816, 0.011746899224817753, -0.004606833681464195, 0.012617040425539017, 0.024911286309361458, -0.004298074170947075, 0.0338793508708477, 0.011318846605718136, -0.016995813697576523, -0.014567839913070202, -0.0002561301225796342, -0.01790805719792843, -0.005448905285447836, 0.010469757951796055, -0.013838044367730618, 0.007620748598128557, -0.012245125137269497, -0.008511940948665142, -0.029388301074504852, 0.0038244088646024466, -0.020560583099722862, 0.008175112307071686, -0.020925480872392654, 0.007452334277331829, 0.012504763901233673, -0.003859495045617223, 0.011760934256017208, 0.012097762897610664, 0.001544675207696855, 0.009094374254345894, 0.011494277976453304, -0.02350783348083496, -0.022258760407567024, 0.016799328848719597, -0.0010736413532868028, -0.019774649292230606, 0.0036735376343131065, 0.020027270540595055, -0.012196004390716553, -0.008161078207194805, 0.019718511030077934, 0.21568262577056885, -0.004778756760060787, 0.01235740166157484, 0.0449104867875576, 0.004473505541682243, 0.0051401457749307156, 0.02493935637176037, -0.027058569714426994, 0.006845340598374605, 0.024013075977563858, 0.01152234710752964, 0.015171323902904987, 0.017557194456458092, 0.0021034248638898134, 0.02193596586585045, -0.008820700459182262, -0.027830468490719795, -0.020841272547841072, -0.019718511030077934, 0.045584145933389664, 0.014399425126612186, -0.00792950764298439, 0.00299286306835711, -0.0052068098448216915, 0.03472142294049263, -0.029725128784775734, -0.014238027855753899, -0.01932554505765438, 0.02053251303732395, 0.026567360386252403, -0.0038209001068025827, 0.0017104580765590072, 0.006508511956781149, 0.0018893983215093613, 0.0002657788572832942, 0.002534986473619938, 0.010034686885774136, -0.01654670760035515, -0.0006683943793177605, -0.00981715228408575, -0.007901439443230629, -0.01588708534836769, -0.024897251278162003, 0.031212789937853813, 0.0010297835106030107, 0.03856687992811203, -0.019409751519560814, -0.018202781677246094, 0.02450428530573845, 0.01288369670510292, -0.03292500227689743, -0.005603285040706396, 0.03713535889983177, 0.012603005394339561, 0.0073260231874883175, -0.02376045472919941, -0.0019332561641931534, 0.01526956632733345, 0.008083888329565525, 0.004417367745190859, 0.0005267333472147584, 0.044068414717912674, -0.0034419680014252663, 0.006775168236345053, -0.0002846377610694617, 0.020672859624028206, -0.0346372127532959, -0.027311190962791443, 0.004361229483038187, -0.029360231012105942, 0.03376707434654236, -0.005627845413982868, -0.014231011271476746, -0.008869821205735207, -0.022539451718330383, -0.04255268722772598, 0.0009464534814469516, 0.018722059205174446, 0.023311350494623184, 0.021079860627651215, -0.010680275037884712, 0.007297954522073269, 0.005185757763683796, 0.0062278215773403645, -0.022062277421355247, -0.015550256706774235, -0.013452094979584217, 0.022216657176613808, 0.0035752959083765745, -0.010055739432573318, -0.017290538176894188, -0.008968062698841095, -0.007003229111433029, -0.008280371315777302, 0.028911126777529716, 0.008343527093529701, -0.021725447848439217, 0.0009455762919969857, -0.025220045819878578, -0.0017806306714192033, -0.043478965759277344, 0.03620908036828041, 0.02422359399497509, 0.01223810762166977, 0.002794625237584114, 0.01511518657207489, -0.02607615292072296, 0.0052208444103598595, 0.009080339223146439, -0.017332641407847404, 0.010490809567272663, -0.004968222696334124, 0.008939994499087334, -0.010055739432573318, 0.013424025848507881, 0.019157130271196365, 0.010350463911890984, -0.007936525158584118, 0.004677006509155035, -0.012490729801356792, 0.0033630237448960543, -0.010322394780814648, 0.025542840361595154, 0.015002910047769547, 0.0009604879887774587, -0.013024041429162025, -0.020251823589205742, 0.025009527802467346, 0.004077030345797539, -0.02397097274661064, -0.004157728981226683, 0.0052734739147126675, 0.004192815162241459, 0.0034174073953181505, 0.0011280251201242208, 0.005396275781095028, -0.004466488491743803, -0.006269925273954868, -0.02035006508231163, -0.005280490964651108, 0.0044980659149587154, 0.016813363879919052, 0.014245045371353626, -0.0027086639311164618, -0.004284039605408907, -0.0031402255408465862, 0.026090186089277267, -0.008294405415654182, -0.025641081854701042, -0.036040667444467545, -0.024434112012386322, -0.018483472988009453, -0.016897570341825485, -0.014238027855753899, 0.027058569714426994, -0.008968062698841095, -0.011852158233523369, -0.013101231306791306, 0.016153741627931595, -0.007031298242509365, -0.04199130833148956, -0.0047331443056464195, 0.021697379648685455, -0.004031417891383171, 0.00038068657158873975, 0.0037191498558968306, -0.18289797008037567, 0.007052350323647261, 0.018946612253785133, -0.024883218109607697, 0.028672540560364723, -0.006526055280119181, 0.016588810831308365, 0.0011876719072461128, -0.006985686253756285, -0.013929268345236778, 0.0007556715863756835, 0.024672700092196465, -0.013571388088166714, 0.004073521587997675, 0.0016946692485362291, 0.0060699330642819405, -0.030118096619844437, -0.018637852743268013, 0.009227701462805271, 0.024265699088573456, 0.013880147598683834, -0.0022227182053029537, 0.004547187127172947, -0.007775128353387117, 0.0031700488179922104, 0.018609782680869102, 0.013332800939679146, 0.04123344272375107, 0.0034840714652091265, -0.013241576962172985, -0.00242446456104517, -0.007115505635738373, 0.012813523411750793, 0.0062804510816931725, 0.017430882900953293, -0.0036173993721604347, 0.0035191578790545464, 0.007347075268626213, 0.009017184376716614, 0.013332800939679146, 0.006897970102727413, 0.011311829090118408, -0.006290976889431477, -0.015901120379567146, -0.008820700459182262, 0.026876119896769524, 0.024672700092196465, 0.005494517739862204, -0.005196284037083387, -0.021921932697296143, -0.00033310073195025325, -0.005638371221721172, 0.01678529568016529, 0.018315058201551437, 0.00905928760766983, 0.005329611711204052, 0.0019823769107460976, 0.024518320336937904, -0.011732865124940872, -0.007389178965240717, -0.013045093044638634, -0.016280051320791245, 0.004322634544223547, 0.004203340969979763, -0.0023192057851701975, -0.009375064633786678, 0.004894541576504707, -0.014308201149106026, -0.015690602362155914, 0.004666480235755444, 0.006192735396325588, -0.03474948927760124, -0.003852477762848139, -0.014167855493724346, -0.0046419198624789715, 0.016308121383190155, 0.003985805902630091, 0.016771260648965836, 0.0037682706024497747, -0.013718750327825546, 0.008357561193406582, 0.019957099109888077, -0.010182050056755543, -0.01299597229808569, -0.0019455363508313894, 0.005666440352797508, -0.020672859624028206, -0.0033665322698652744, -0.011360949836671352, -0.004669988993555307, -0.009957497008144855, -0.0039893146604299545, -0.013634543865919113, -0.010118894279003143, -0.0034945972729474306, 0.03887564316391945, -0.007796179968863726, -0.014301183633506298, -0.016953708603978157, 0.004726127255707979, 0.0346372127532959, -0.00014440213271882385, -0.027283120900392532, 0.016237948089838028, 0.022441210225224495, 0.013802957721054554, 0.009241736494004726, 0.005736613180488348, 0.024546388536691666, -0.002906901529058814, -0.013964354991912842, 0.007894421927630901, 0.010869741439819336, 0.018357161432504654, -0.004898050334304571, 0.018020333722233772, 0.0233534537255764, -0.032475896179676056, 0.012939834035933018, -0.0112907774746418, 0.02750767394900322, 0.022623658180236816, -0.020714962854981422, 0.013143335469067097, -0.005483991466462612, -0.02183772437274456, -0.10351867228746414, -0.012553884647786617, 0.0016815118724480271, 0.032195206731557846, -0.010504843667149544, 0.009753996506333351, -0.024911286309361458, 0.003041983814910054, -0.0259217731654644, 0.025753358379006386, -0.0020051831379532814, -0.01960623450577259, -0.033009208738803864, 0.0007368127116933465, 0.015971291810274124, -0.010652206838130951, -0.018174713477492332, -0.0178378839045763, -0.007055858615785837, 0.008708423934876919, 0.001461345236748457, 0.006827797740697861, 0.008273353800177574, -0.0009666280820965767, 0.009255770593881607, -0.01626601815223694, -0.025388460606336594, 0.019100992009043694, 0.024237629026174545, 0.011880227364599705, 0.011424105614423752, -0.017585262656211853, -0.01183110661804676, -0.007676886394619942, -0.0063190460205078125, -0.004820859991014004, -0.007473385892808437, -0.009389098733663559, 0.021164067089557648, -0.01976061426103115, -0.0002045970904873684, 0.01115043181926012, 0.0060313381254673, 0.005055938381701708, -0.015437980182468891, -0.023563971742987633, -0.01827295497059822, 0.01716422662138939, 0.016223913058638573, -0.015592359937727451, -0.030651407316327095, -0.0019262388814240694, -0.016153741627931595, -0.027746260166168213, 0.013409990817308426, -0.018160678446292877, 0.016687054187059402, 0.020265858620405197, -0.01451170165091753, 0.005862923804670572, -0.006940073799341917, 0.008820700459182262, -0.01299597229808569, 0.04041944071650505, -0.018301023170351982, -0.0049050673842430115, -0.022497348487377167, -0.01678529568016529, -0.0037577447947114706, -0.025781426578760147, -0.008125991560518742, 0.03115665167570114, -0.011760934256017208, -0.0012525815982371569, -0.012034607119858265, -0.00032498702057637274, -0.027114707976579666, -0.004922610707581043, 0.008624217472970486, -0.009487340226769447, -0.013718750327825546, -0.015016944147646427, -0.00549100898206234, -0.018202781677246094, 0.029781267046928406, 0.03343024477362633, -0.03264431282877922, 0.03079175390303135, 0.03682659938931465, -0.04404034838080406, 0.010624137707054615, 0.01939571648836136, 0.011683744378387928, -0.03205486014485359, -0.005059447139501572, 0.014385391026735306, 0.00257533579133451, -0.0033805668354034424, 0.0007113750907592475, -0.022034207358956337, -0.04272110015153885, 0.0026174394879490137, -0.05321892723441124, 0.029388301074504852, 0.008273353800177574, -0.010462740436196327, -0.024827079847455025, -0.015437980182468891, -0.00936804711818695, -0.00020075953216291964, -0.017865953966975212, 0.01553622167557478, -0.035479284822940826, 0.018258919939398766, -0.028195366263389587, 0.00018047525372821838, -0.018609782680869102, -0.04628587141633034, 0.038454607129096985, -0.016518639400601387, 0.012645109556615353, 0.03733184188604355, -0.016336189582943916, 0.001332402927801013, -0.005852397996932268, 0.007027789484709501, -0.0104557229205966, -0.023423627018928528, -0.015662532299757004, -0.01709405519068241, -0.02186579443514347, 0.009578565135598183, 0.003982297144830227, -0.033626727759838104, 0.04628587141633034, 0.023311350494623184, 0.0009552250267006457, -0.016715122386813164, -0.01598532684147358, 0.002985845785588026, 0.02763398550450802, -0.013276662677526474, -0.0010499580530449748, -0.020462341606616974, 0.017515091225504875, -0.005469956900924444, -0.018637852743268013, 0.015564290806651115, -0.003115665167570114, 0.005055938381701708, 0.005866432562470436, 0.018932577222585678, 0.03519859537482262, 0.015059048309922218, 0.00992942787706852, -0.048924364149570465, 0.014336270280182362, 0.027283120900392532, -0.004259479232132435, 0.00011030261521227658, -0.01284159254282713, -0.012876679189503193, 0.04019488766789436, 0.008722458966076374, 0.008175112307071686, -0.005013835150748491, 0.009915393777191639, -0.006206769961863756, -3.423657108214684e-05, -0.0017209840007126331, -0.0019788683857768774, -0.037865154445171356, -0.029977750033140182, -0.01991499401628971, 0.01497484091669321, 0.01780981570482254, 0.007978629320859909, -0.001320999930612743, -0.010504843667149544, 0.018329093232750893, -0.01383102685213089, 0.04098081961274147, 0.012736333534121513, -0.014609943144023418, -0.006697978358715773, 0.0036033650394529104, 0.028167296200990677, -0.01136796735227108, 0.01373980287462473, 0.02635684236884117, -0.00492611899971962, 0.004403333179652691, 0.003033212386071682, 0.01898871548473835, -0.012027590535581112, -0.010862723924219608, -0.016027430072426796, 0.026721740141510963, -0.012848610058426857, 0.013585423119366169, 0.021683344617486, 0.011655675247311592, 0.012624057941138744, 0.0019630794413387775, -0.0010464494116604328, -0.021795621141791344, -0.019311510026454926, 0.013585423119366169, -0.011318846605718136, -0.012610022909939289, -0.01601339504122734, 0.01672915741801262, 0.014034527353942394, -0.012027590535581112, -0.009704875759780407, 0.018160678446292877, 0.012848610058426857, -0.0016218650853261352, 0.008231250569224358, -0.04190709814429283, 0.0020753557328134775, 0.022188588976860046, 0.005627845413982868, 0.01258897129446268, 0.0019244846189394593, -0.013550336472690105, 0.00973996240645647, 0.022342968732118607, 0.047156013548374176, -0.017669470980763435, 0.0054524140432477, -0.012581953778862953, 0.010441688820719719, -0.017515091225504875, -0.01947992481291294, 0.0005670826067216694, -0.005694509483873844, -0.0020034287590533495, -0.001466608140617609, 0.010680275037884712, -0.0018788723973557353, 0.09958900511264801, -0.005971691571176052, -0.01189426239579916, 0.018820300698280334, -0.030118096619844437, 0.014455563388764858, 0.02527618408203125, 0.00284199183806777, 0.005543638486415148, -0.04218779131770134, 0.0279708132147789, 0.005634862929582596, 0.024518320336937904, -0.011094294488430023, -0.00046533229760825634, -0.009957497008144855, -0.011276742443442345, 0.01824488677084446, 0.003266536397859454, -0.03138120472431183, 0.007066384423524141, -0.006782185286283493, -0.0019279932603240013, 0.015648499131202698, -0.011564450338482857, 0.011311829090118408, -0.019409751519560814, 0.0011394282337278128, 0.0018472947413101792, -0.020981619134545326, 0.012694230303168297, -0.0050489213317632675, -0.03227941319346428, -0.028854988515377045, 0.022651728242635727, -0.003091104794293642, 0.0006903233006596565, -0.0005868186708539724, -0.010645189322531223, 0.022876279428601265, -0.02397097274661064, 0.028055021539330482, -0.03505824878811836, -0.025641081854701042, -0.016251983121037483, -0.03205486014485359, 0.00011260515748290345, -0.010624137707054615, -0.021051790565252304], [-0.007347104139626026, 0.005552728194743395, -0.004219666589051485, -0.017353547737002373, -0.008642854169011116, 0.006746717728674412, -0.019307348877191544, -5.46962401131168e-05, -0.02214307337999344, -0.019565140828490257, -0.008887078613042831, 0.018466128036379814, 0.0022607778664678335, 0.006458396092057228, 0.013133881613612175, 0.01481632050126791, 0.013120313175022602, 0.005305111408233643, 0.0040941620245575905, -0.0002529171179048717, -0.01997218281030655, -0.0009836843237280846, -0.025317998602986336, 0.00029680129955522716, 0.007686305791139603, 0.016010310500860214, 0.007048606872558594, -0.02527729421854019, -0.018167631700634956, 0.019999319687485695, 0.004524947609752417, -0.01605101488530636, -0.025100909173488617, -0.0068586538545787334, -0.01439571101218462, -0.023703400045633316, 0.009762219153344631, -0.011573554947972298, 0.011057968251407146, -0.01044062152504921, 0.004714900627732277, 0.010142124257981777, 0.0024541227612644434, -0.01582035794854164, 0.011057968251407146, 0.007876258343458176, 0.026810485869646072, 0.013317050412297249, 0.008500388823449612, 0.01575251668691635, 0.011227569542825222, -0.007238559890538454, -0.010094636119902134, -0.006475356407463551, 0.009721514768898487, 0.0010371084790676832, 0.014707776717841625, 0.0064244759269058704, -0.00509819807484746, -0.025602927431464195, 0.0009048199863173068, 0.014599232003092766, -0.011037616059184074, 0.02816729061305523, -0.005352599546313286, -0.017841998487710953, 0.0010379565646871924, 0.001632407191209495, -0.0011838132049888372, -0.004117906093597412, 0.014599232003092766, 0.03164071589708328, -0.018818898126482964, 0.0025999792851507664, 0.04301074892282486, -0.011539634317159653, -0.024843117222189903, -0.013574843294918537, 0.014422846958041191, -0.0018605201039463282, 0.0070214709267020226, -0.012326582334935665, -0.021803870797157288, 0.017774157226085663, 0.013337402604520321, 0.022740067914128304, -0.008758182637393475, 0.03256334364414215, -0.021071195602416992, 0.014192190021276474, -0.018737489357590675, 0.018316879868507385, -0.0039924015291035175, -0.001552694826386869, -0.006278619635850191, 0.007482784800231457, -0.025725040584802628, 0.033160336315631866, -0.016620872542262077, -0.03733929991722107, -0.0140158049762249, -0.005657880567014217, 0.008317220024764538, -0.00844611693173647, -0.010888367891311646, -0.01242834236472845, -0.0002563091111369431, -0.01099691167473793, 0.018506832420825958, -0.009321256540715694, -0.01243512611836195, 0.01335097011178732, -8.91993913683109e-05, -0.0033072144724428654, 0.028194427490234375, 0.01569824479520321, 0.005925850011408329, -0.0033614865969866514, -0.00042166985804215074, -0.009477289393544197, 0.02263152226805687, -0.0150605458766222, 0.028981374576687813, -0.01516909059137106, 0.026606963947415352, 0.014056509360671043, -0.04265797883272171, -0.03174925968050957, -0.02613208256661892, -0.010488109663128853, -0.023730535060167313, 0.017109323292970657, 0.01043383777141571, -0.008554661646485329, -0.0011753331637009978, 0.017692748457193375, -0.01871035434305668, 0.02773311361670494, 0.014517823234200478, -0.020542042329907417, -0.0026305075734853745, 0.0280316099524498, -0.016376648098230362, -0.022862179204821587, -0.013391674496233463, 0.007421728689223528, 0.0129574965685606, -0.006380380131304264, -0.02233302593231201, -0.012625079602003098, -0.019307348877191544, -0.02493809349834919, -0.008595366030931473, -0.012631863355636597, 0.0038872489240020514, 0.03082663007080555, 0.0019707605242729187, 0.021980255842208862, -0.01709575392305851, -0.006739933509379625, -0.003137613646686077, 0.022807907313108444, 0.011261489242315292, 0.014843457378447056, 0.029578369110822678, 0.018154064193367958, 0.012068788520991802, 0.0029951489996165037, 0.0175027959048748, -0.004891285207122564, -0.024205418303608894, 0.012062004767358303, -0.018859602510929108, 0.02128828503191471, -0.010074283927679062, 0.01134289801120758, 0.009857195429503918, 0.019877206534147263, -0.004033105447888374, -0.017896270379424095, -0.02024354413151741, 0.005603608675301075, 0.026240626350045204, -0.009551913477480412, -0.02325565367937088, -0.0042841145768761635, 0.012380854226648808, 9.868643246591091e-05, 0.004725076723843813, -0.007041822653263807, 0.01807265542447567, 0.020637018606066704, -0.017177162691950798, 0.013717307709157467, -0.6582136750221252, -0.02108476497232914, -0.0010133644100278616, -0.009321256540715694, 0.02613208256661892, 0.021491805091500282, 0.006298971362411976, -0.007550625130534172, -0.005196566693484783, 0.05039177089929581, -0.03234625235199928, 0.007516704965382814, -0.007693089544773102, -0.027095414698123932, -0.011621043086051941, -0.011831347830593586, -0.011254705488681793, -0.009843626990914345, 0.02459889091551304, -0.0006792509811930358, -0.019945047795772552, 0.04461177811026573, 0.02135612629354, 0.0028730365447700024, 0.021030491217970848, 0.01793697476387024, 0.01453139167279005, -0.012998200953006744, 0.005403479561209679, -0.009328041225671768, -0.014409279450774193, 0.02984973043203354, -0.0006703469553031027, 0.02402903325855732, 0.0399443656206131, -0.021193308755755424, 0.005528984125703573, 0.019280212000012398, 0.0035582236014306545, 0.005227094981819391, -0.033513106405735016, -0.019443029537796974, 0.019931478425860405, 0.008920999243855476, -0.0049523417837917805, 0.016132421791553497, 0.005206742789596319, 0.018574673682451248, -4.346018977230415e-05, -0.02710898220539093, -0.006166683044284582, -0.006448219995945692, -0.013710523955523968, 0.008310436271131039, 0.021139036864042282, -0.015738949179649353, 0.010990127921104431, -0.018411856144666672, -0.0013551099691540003, 0.03942878171801567, -0.0022777379490435123, 0.01983650214970112, -0.007564193103462458, -0.01617312617599964, 0.014829888939857483, 0.016268102452158928, -0.009748650714755058, 0.016905801370739937, 0.000532122328877449, 0.0007822834304533899, 0.0027712760493159294, 0.02914419211447239, -0.01212306134402752, 0.01271327119320631, 0.009450153447687626, 0.022807907313108444, 0.02305213361978531, 0.008676773868501186, -0.0038228007033467293, 0.026037106290459633, -0.0025830192025750875, -0.01708218641579151, -0.032400526106357574, -0.004331602714955807, 0.01689223386347294, -0.01544045191258192, -0.02052847295999527, -0.010135340504348278, 0.003968657460063696, -0.00015444267774000764, -0.008127267472445965, 0.0029544448480010033, -0.013025336898863316, -0.015372611582279205, -0.014965569600462914, 0.028764285147190094, 0.01773345284163952, 0.009375529363751411, 0.016770120710134506, -0.02919846400618553, -0.006346459966152906, -0.0028560764621943235, -0.011614258401095867, -0.020826971158385277, -0.002482954878360033, -0.0070011187344789505, 0.009606186300516129, -0.007408160250633955, 0.020542042329907417, -0.04442182555794716, 0.018031951040029526, 0.002601675456389785, -0.0015840709675103426, -0.004697940777987242, -0.005851225461810827, -0.03997150436043739, 0.048437971621751785, 0.0032359822653234005, -0.005905497819185257, -0.008839590474963188, 0.010535597801208496, 0.011641395278275013, 0.023486310616135597, 0.004809876903891563, -0.007218207698315382, 0.018018383532762527, -0.018615378066897392, -0.007462432608008385, -0.024083305150270462, -0.005769817158579826, -0.0027865401934832335, -0.027977338060736656, 0.022821476683020592, -0.009233064018189907, 0.0039008171297609806, 0.004657236393541098, 0.015806788578629494, -0.027068277820944786, -0.018954578787088394, -0.011919540353119373, -0.031423624604940414, 0.017882702872157097, -0.004497811663895845, -0.014083645306527615, -0.008066210895776749, -0.017747022211551666, -0.03671516850590706, 0.011308977380394936, 0.00021857295359950513, 0.005569688510149717, -0.004413011483848095, -0.020338520407676697, -0.030935175716876984, -0.0031291337218135595, -0.0047284686006605625, 0.00448424369096756, -0.01239442266523838, -0.027339639142155647, -0.009843626990914345, -0.0098029226064682, -0.017109323292970657, 0.03812624514102936, -0.012611511163413525, 0.00667548505589366, -0.011688883416354656, -0.016417352482676506, -0.01516909059137106, 0.005213527008891106, -0.0030867333989590406, -0.030636677518486977, 0.012034868821501732, 0.026376307010650635, 0.00672636553645134, 0.03310606628656387, -0.013147449120879173, -0.004039889667183161, -0.004918421618640423, -0.010277804918587208, -0.019239507615566254, -0.024069737643003464, 0.015006273984909058, 0.018194766715168953, -0.021559646353125572, -0.011702450923621655, -0.0011761811329051852, 0.027421047911047935, 0.03446286916732788, -0.007428512442857027, -0.007611681241542101, 0.019782230257987976, -0.007557408884167671, -0.00725212786346674, 0.009477289393544197, 0.008174755610525608, -0.027516024187207222, 0.011119024828076363, 0.003358094720169902, -0.020474201068282127, 0.01282181590795517, 0.021681759506464005, 0.03321461006999016, -0.008602149784564972, 0.01876462623476982, -0.0016612393083050847, 0.009463720954954624, 0.002761100186035037, 0.007204639725387096, -0.0006398187833838165, 0.019443029537796974, 0.014721344225108624, 0.014368575066328049, -0.01899528317153454, -0.015874629840254784, 0.011688883416354656, -0.0026152434293180704, 0.019510868936777115, -0.012869304046034813, -0.01134289801120758, -0.009077032096683979, 0.024978797882795334, -0.027149686589837074, 0.00048633012920618057, 0.020202839747071266, -0.00586818577721715, -0.045832905918359756, 0.000688155007082969, 0.022007392719388008, -0.00037799763958901167, 0.015643972903490067, -0.010230316780507565, -0.0024863469880074263, 0.01757063716650009, 0.018669649958610535, 0.013364538550376892, 0.03256334364414215, 0.01305925752967596, 0.011512498371303082, -0.01492486521601677, 0.03269902244210243, 0.012129845097661018, 0.001128692994825542, 0.021817440167069435, -0.0011515890946611762, 0.0022387297358363867, 0.024395370855927467, 0.0006457548006437719, 0.024693867191672325, 0.007923746481537819, -0.034707095474004745, 0.004843797069042921, -0.005088022444397211, 0.005118550267070532, -0.016566600650548935, 0.00036739761708304286, 0.009674026630818844, -0.020189272239804268, -0.002745836041867733, 0.000534666352905333, 0.006387163884937763, 0.027692409232258797, 0.03250906988978386, 0.010935856029391289, 0.00991146732121706, 0.0013992061140015721, -0.013513786718249321, 0.01891387440264225, -0.007469216827303171, 0.011559986509382725, 0.0045079877600073814, -0.005393303465098143, -0.02563006430864334, -0.015359043143689632, 0.0206641536206007, -0.024151146411895752, 0.030311044305562973, -0.004799700807780027, 0.03264475241303444, 0.005261015146970749, 0.025100909173488617, 0.00017023674445226789, -0.019714390859007835, -0.02431396208703518, 0.013696955516934395, 0.02478884533047676, -0.00031142935040406883, -0.0248702522367239, -0.006780637428164482, 0.0371222086250782, -0.014124349690973759, -0.008642854169011116, -0.012760760262608528, -0.005976730026304722, 0.0031766218598932028, -0.020501337945461273, -0.004497811663895845, 0.028004474937915802, 0.02606424130499363, -0.004497811663895845, -0.0005300022894516587, 0.0049421656876802444, 0.0007250431808643043, -0.009083815850317478, -0.017964109778404236, -0.016010310500860214, 0.025969265028834343, -0.00833757221698761, -0.0004519859794527292, -0.01793697476387024, 0.01828974485397339, -0.008778534829616547, -0.0005015942151658237, 7.139131048461422e-05, -0.007835553959012032, -0.005847833584994078, -0.003330958541482687, -0.015454019419848919, -0.007224991451948881, 0.004365522880107164, 0.03790915757417679, 0.008520741015672684, -0.0067772455513477325, -0.02752959169447422, -0.012116276659071445, -0.003068077377974987, 0.027203958481550217, 0.03210202977061272, 0.008398628793656826, 0.017272138968110085, 0.030039682984352112, -0.024408938363194466, -0.03354024142026901, -0.007869474589824677, 0.012143413536250591, -0.013133881613612175, -0.01667514443397522, -0.003995793405920267, 0.008975271135568619, -0.004582611843943596, 0.006611037068068981, 0.021546078845858574, -0.008147619664669037, -0.011085104197263718, -0.001547606778331101, -0.013364538550376892, -0.019809367135167122, 0.021491805091500282, -0.0072928317822515965, 0.025820016860961914, 0.0018656081520020962, -0.008934566751122475, 0.031912077218294144, 0.008120483718812466, 0.01982293464243412, -0.029469825327396393, -0.025060204789042473, 0.030446724966168404, 0.010427054017782211, 0.005247447174042463, -0.022387297824025154, 0.01624096743762493, -0.0012143412604928017, 0.013133881613612175, -0.008697126060724258, 0.015318338759243488, -0.005077846348285675, -0.0011269969400018454, 0.003503951244056225, -0.007306399755179882, -0.0014144701417535543, -0.02430039457976818, 0.018886739388108253, 0.04124690219759941, -0.03185780346393585, -0.006499100476503372, 0.005257622804492712, -0.034137237817049026, -0.005539160221815109, -0.03332315385341644, 0.03809911012649536, -0.0009285640553571284, -0.015548995696008205, 0.007048606872558594, 0.014938433654606342, -0.016295239329338074, -0.013907261192798615, 0.0019419285235926509, 0.004202706273645163, -0.0008318916661664844, -0.03370305895805359, -0.03256334364414215, -0.02599640190601349, -0.02290288358926773, -0.02093551494181156, 0.0072928317822515965, 0.005803737323731184, -0.01415148563683033, -0.034571416676044464, 0.011621043086051941, 0.04086699336767197, 0.016159558668732643, 0.02984973043203354, 0.010739118792116642, -0.018818898126482964, 0.009823274798691273, -0.020962651818990707, -0.02473457157611847, 0.00045919400872662663, -0.031776394695043564, 0.0055662961676716805, 0.02128828503191471, -0.016376648098230362, -0.010420269332826138, 0.003057901281863451, 0.009233064018189907, 0.002761100186035037, 0.00869034230709076, 0.013106745667755604, -0.03047386184334755, 0.02221091277897358, 0.03039245307445526, 0.009660458192229271, 0.0017417996423318982, 0.005807129200547934, 0.005308503285050392, -0.003856720868498087, -0.014449982903897762, -0.013242426328361034, -0.023581286892294884, -0.007082527037709951, 0.01603744551539421, -0.011777075938880444, -0.0005109222256578505, 0.0016408872324973345, 0.014599232003092766, -0.009463720954954624, -0.03145076334476471, 0.002386282430961728, -0.009999659843742847, 0.007503136992454529, 0.019293779507279396, -0.00758454529568553, 0.030582405626773834, -0.0028560764621943235, -0.015779653564095497, -0.027895929291844368, -0.0020097687374800444, -0.0061124106869101524, 0.008140835911035538, -0.033947285264730453, 0.013439162634313107, -0.02387978509068489, -0.02298429235816002, -0.027271799743175507, 0.0061632911674678326, -0.01941589266061783, 0.019388757646083832, -0.0033224786166101694, -0.023581286892294884, 0.0007199551328085363, 0.0006928190123289824, 0.0019487125100567937, -0.0033021264243870974, 0.00495912553742528, -0.013601979240775108, -0.005593432579189539, 0.007604897487908602, 0.0002671211550477892, -0.015223362483084202, 0.018859602510929108, -0.02719039097428322, -0.021247580647468567, 0.01095620822161436, -0.024124009534716606, 0.013296698220074177, 0.001919880392961204, -0.006875614169985056, -0.0025440112221986055, -0.006397339981049299, -0.004969301633536816, -0.059428099542856216, -0.03096231073141098, -0.010759470984339714, 0.04789524897933006, 0.019714390859007835, 0.028384380042552948, 0.006614428944885731, 0.010840879753232002, -0.0010761166922748089, -0.00362606393173337, -0.011193648912012577, 0.016783690080046654, 0.010908720083534718, -0.030066819861531258, 0.025195885449647903, 0.01082731131464243, -0.011336113326251507, 0.002398154465481639, 0.013907261192798615, 0.022265184670686722, 0.024978797882795334, -0.02088124305009842, 0.0035480475053191185, -0.00562056852504611, -0.0010176044888794422, -0.005844441708177328, -0.0013067737454548478, 0.001656999229453504, -0.004189138300716877, -0.041355445981025696, -3.2144642318598926e-05, 0.009185575880110264, 0.003410670906305313, -0.00700790248811245, -0.006251483224332333, 0.014368575066328049, -0.011790643446147442, 0.016715848818421364, -0.01016247645020485, 0.0031036934815347195, -0.012279093265533447, 0.014232894405722618, -0.02984973043203354, -0.005942809861153364, 0.002279433887451887, 0.00805942714214325, 0.0013983581447973847, -0.0043858750723302364, 0.003470031078904867, 0.0039618732407689095, -0.00911095179617405, 0.0029798850882798433, 0.01731284335255623, 0.005230486858636141, -0.0224144347012043, -0.025820016860961914, -0.03237339109182358, -0.024124009534716606, 0.006441436242312193, 0.002805196214467287, 0.015928901731967926, -0.011607474647462368, 0.001237237360328436, -0.01869678497314453, -0.008032291196286678, 0.013357754796743393, -0.00725212786346674, 0.041979577392339706, -0.0023506663274019957, 0.04252229630947113, 0.041789621114730835, -0.048220884054899216, -0.023866215720772743, 0.017217867076396942, -0.003921169321984053, -0.017774157226085663, 0.022645091637969017, 0.023621991276741028, -0.026511987671256065, -0.012102709151804447, -0.0028883006889373064, 0.009551913477480412, -0.013907261192798615, -0.014449982903897762, -0.0014890944585204124, -0.006363419815897942, 0.016634440049529076, -0.02172246389091015, 0.02332349494099617, -0.032536204904317856, 0.028357243165373802, -0.012638647109270096, 0.01292357686907053, 0.0017943758284673095, 0.0065465886145830154, -0.0018571281107142568, 0.0224144347012043, -0.013717307709157467, 0.04146398976445198, 0.015087681822478771, -0.00316983787342906, -0.003592143766582012, 0.0021064411848783493, -0.011641395278275013, 0.0059224581345915794, -0.010834095068275928, 0.03549404442310333, 0.0008751398418098688, -0.007421728689223528, 0.0037685285788029432, 0.005640920717269182, -0.008880294859409332, 0.0085750138387084, -0.015114817768335342, 0.02795020304620266, -0.0017757198074832559, 0.005678232759237289, 0.011973812244832516, 0.005054102279245853, 0.01138360146433115, -0.01918523572385311, -0.005542552098631859, -0.022821476683020592, 0.003775312565267086, 0.002376106334850192, 0.020976219326257706, 0.02808588370680809, 0.007096095010638237, -0.015182658098638058, -0.008907430805265903, 0.00780841801315546, -0.0350055918097496, -0.0051321182399988174, 0.011051184497773647, -0.015074114315211773, -0.013357754796743393, 0.00819510780274868, -0.00953156128525734, 0.025317998602986336, 0.02401546575129032, -0.015548995696008205, 0.027366776019334793, 0.02990400232374668, -0.017489228397607803, -0.02976832166314125, 0.023974761366844177, -0.018181199207901955, -0.011532850563526154, 0.013771580532193184, 0.010006443597376347, -0.021451102569699287, 0.036877986043691635, -0.023296358063817024, -0.021057628095149994, -0.02738034352660179, 0.0119059719145298, 0.013947964645922184, -0.012692919932305813, 0.003931345418095589, 0.0034530709963291883, 0.024639595299959183, -0.008222243748605251, 0.010800175368785858, -0.008357924409210682, 0.007693089544773102, -0.016145991161465645, -0.012143413536250591, 0.016145991161465645, -0.008235812187194824, 0.014884160831570625, -0.008317220024764538, -0.009565481916069984, 0.011003696359694004, -0.030283909291028976, -0.018737489357590675, -0.01426003035157919, 0.00015878869453445077, -0.03096231073141098, -0.018791763111948967, -0.0018978322623297572, -0.007699873764067888, -0.013920828700065613, -0.01708218641579151, 0.022088801488280296, -0.0065567647106945515, 0.0032902543898671865, -0.0150605458766222, 0.005043926183134317, 0.004260370507836342, -0.025697903707623482, -0.0077270097099244595, 0.009538345970213413, -0.005525592248886824, -0.01892744190990925, -0.001081204740330577, -0.012943929061293602, 0.022604387253522873, 0.02310640551149845, -0.004053457640111446, -0.034652821719646454, 0.007944098673760891, -0.03326888009905815, -0.021763166412711143, -0.010922287590801716, -0.013581627048552036, 0.005569688510149717, 0.005488280206918716, 0.01282181590795517, 0.039618734270334244, -0.0014916384825482965, -0.03166785091161728, -0.024829547852277756, -0.019917910918593407, 0.003609103849157691, 0.0022709539625793695, 0.014599232003092766, 0.008262948133051395, -0.024056170135736465, -0.012034868821501732, 0.031559307128190994, 0.0026915636844933033, 0.008262948133051395, 0.017760589718818665, -0.014612799510359764, -0.014165054075419903, -0.0015297987265512347, 0.008683557622134686, -0.002939180936664343, -0.006383772008121014, 0.00581391341984272, -0.038207653909921646, 0.007828770205378532, 0.012251957319676876, -0.007503136992454529, -0.017285708338022232, 0.010277804918587208, -0.01057630218565464, 0.0034513750579208136, -0.008839590474963188, -0.003073165426030755, -0.035765405744314194, 0.01814049482345581, -0.005600216332823038, 0.0007428512326441705, 0.02046063356101513, -0.00628540338948369, 0.022319458425045013, 0.01411078218370676, -0.011824564076960087, -0.02458532340824604, 0.012082356959581375, -0.009870762936770916, 0.020121432840824127, 0.010942639783024788, 0.002113225171342492, -0.00033559746225364506, -0.01120721735060215, -0.002718699863180518, -0.02303856424987316, 0.0018961363239213824, -0.0311794001609087, -0.000729283201508224, -0.026729077100753784, 0.0036328479181975126, 0.0021369692403823137, -0.009938603267073631, -0.013771580532193184, 0.009205928072333336, 0.011166512966156006, 0.005539160221815109, -0.0015942469472065568, -0.0003877496928907931, -0.014137918129563332, 0.016865096986293793, -0.00495573366060853, -0.010752687230706215, 0.013859773054718971, -0.008378276601433754, -0.006543196737766266, -0.016837961971759796, -0.0005109222256578505, 0.22360162436962128, -0.004158610012382269, 0.014612799510359764, 0.03234625235199928, -0.0064651803113520145, -0.001974152633920312, 0.0357382670044899, -0.00448085181415081, 0.016064582392573357, 0.013683388009667397, 0.005573080386966467, 0.015223362483084202, -0.0030392452608793974, -0.000618618680164218, 0.026186354458332062, 0.005108374170958996, -0.005037141963839531, -0.04846510663628578, -0.013683388009667397, 0.046049993485212326, 0.0276788417249918, -0.012706487439572811, 0.0140158049762249, -0.004993045702576637, 0.037230756133794785, -0.028058746829628944, -0.0003811776696238667, -0.01694650575518608, 0.032888974994421005, 0.01694650575518608, -0.03543977066874504, 0.01323564164340496, 0.012842168100178242, -0.0008407956920564175, -0.007564193103462458, 0.0026915636844933033, 0.031559307128190994, -0.009694378823041916, 0.03530409187078476, -0.024056170135736465, 0.00772022595629096, -0.04138258099555969, -0.006078490521758795, 0.012733623385429382, 0.009253416210412979, 0.01519622653722763, -0.01898171566426754, -0.012407990172505379, 0.02108476497232914, 0.004874325357377529, -0.019945047795772552, 0.005902105942368507, 0.01590176485478878, 0.0010311724618077278, 0.011261489242315292, -0.01975509524345398, 0.024544619023799896, -0.006712797563523054, 0.0245174840092659, -0.008385060355067253, -0.013846204616129398, 0.006461788434535265, -0.014558527618646622, 0.010108204558491707, -0.02611851505935192, 0.023934056982398033, -0.027895929291844368, -0.010691630654036999, -0.005590040236711502, -0.0045181638561189175, 0.011980595998466015, -0.032671887427568436, 0.0004697940603364259, 0.0018961363239213824, -0.01975509524345398, -0.015223362483084202, 0.01780129410326481, 0.010006443597376347, 0.025046637281775475, 0.031152265146374702, -0.006098842713981867, -0.003412366844713688, -0.016227398067712784, -0.008853158913552761, -0.0034581590443849564, -0.006512668449431658, -0.003346222685649991, 0.004697940777987242, 0.00027390519971959293, 0.00415182625874877, -0.020637018606066704, 0.017624909058213234, -0.01911739632487297, -0.027516024187207222, 0.021342556923627853, -0.013140665367245674, 0.011695667169988155, -0.010779823176562786, -0.01176350750029087, 0.011390386149287224, -0.007123230956494808, 0.08661849051713943, 0.02046063356101513, 0.0013398458249866962, 0.004402835387736559, 0.019497301429510117, 0.009368744678795338, 0.003517519449815154, 0.0005936025991104543, -0.026172786951065063, 0.01884603500366211, -0.041002675890922546, 0.002393066417425871, -0.03104371950030327, 0.010671278461813927, 0.022102368995547295, 0.021817440167069435, -0.010352429002523422, 0.0280316099524498, 0.01453139167279005, -0.002130185253918171, -0.016919370740652084, 0.014273598790168762, 0.019103826954960823, 0.002120009157806635, -0.03202062100172043, 0.006743325386196375, 0.0017468876903876662, -0.018954578787088394, -0.01891387440264225, 0.012577591463923454, 0.012577591463923454, 0.013500219210982323, -0.0006181946955621243, 0.0185611043125391, -0.014870593324303627, -0.005247447174042463, -0.011926324106752872, -0.031342215836048126, -0.011478578671813011, 0.04767816141247749, -0.0012160373153164983, -0.011512498371303082, 0.003673552069813013, 0.002065737033262849, 0.012075573205947876, 0.027638137340545654, -0.014002237468957901, -0.008079779334366322, -0.019348053261637688, -0.0017172074876725674, -0.015793221071362495, 0.011112240143120289, -0.006129371002316475, 0.03354024142026901, 0.014436415396630764, -0.013758012093603611, -0.019917910918593407, 0.018398288637399673, -0.008805670775473118, -0.033865876495838165, -0.0017655437113717198, 0.018466128036379814, 0.028601469472050667, -0.005525592248886824, 0.009260200895369053, -0.17475660145282745, 0.01743495650589466, -0.003727824194356799, -0.028465788811445236, 0.03234625235199928, -0.001671415288001299, 0.042495161294937134, -0.014544959180057049, -0.006570332683622837, 0.006722973193973303, 0.005366167519241571, 0.01563040353357792, -0.0350055918097496, -0.0034937753807753325, -0.003431023098528385, -0.0028713406063616276, -0.021274717524647713, 0.0032851663418114185, -0.010460973717272282, 0.02101692371070385, 0.00935517717152834, -0.021179741248488426, 0.020542042329907417, -0.004755605012178421, -0.008636069484055042, 0.014517823234200478, -0.014911296777427197, 0.016376648098230362, 0.007998370565474033, -0.029822593554854393, 0.005891929846256971, 0.017964109778404236, 0.03543977066874504, 0.012794679962098598, 0.010230316780507565, 0.0031206535641103983, -0.02438180334866047, 0.004609748255461454, -0.0029731011018157005, 0.011831347830593586, 0.025100909173488617, -0.0014992705546319485, -0.011797427199780941, 0.009850410744547844, -0.0031240456737577915, 0.013337402604520321, 0.007496352773159742, 0.008914214558899403, 0.009680810384452343, -0.044313281774520874, -0.004976085852831602, -0.009850410744547844, 0.002852684585377574, 0.011661747470498085, -0.003931345418095589, 0.015711812302470207, -0.009443369694054127, 0.00886672642081976, 0.0035209113266319036, 0.003395406762138009, -0.006027610506862402, -0.015250498428940773, -0.0016425831709057093, -0.006739933509379625, -0.016023878008127213, 0.008676773868501186, -0.010508461855351925, 0.001255045528523624, -0.01492486521601677, 0.006580508779734373, -0.005071062128990889, -0.008846374228596687, -0.005352599546313286, -0.006807773839682341, 0.029334144666790962, 0.012889656238257885, -0.011539634317159653, 0.0019554966129362583, -0.00633628387004137, -0.018886739388108253, 0.0013703739969059825, 0.019917910918593407, -0.012530102394521236, -0.0008149315835908055, 0.013812283985316753, -0.007265695836395025, 0.001662087277509272, 0.0047182925045490265, -0.007319968193769455, -0.0011388689745217562, 0.02927987277507782, -0.01653946377336979, -0.007638817187398672, -0.03033818118274212, 0.016553033143281937, 0.022862179204821587, -0.004233234561979771, 0.015779653564095497, 0.010528814047574997, 0.002589803421869874, 0.01990434341132641, -0.004402835387736559, -0.008242595940828323, 0.014721344225108624, 0.007733793929219246, -0.009036327712237835, -0.014965569600462914, 0.009294120594859123, 0.0392116904258728, -0.005423831753432751, -0.03343169763684273, -0.006210779305547476, 0.031152265146374702, 0.007516704965382814, 0.008520741015672684, 0.015223362483084202, 0.0004714900569524616, -0.0182219035923481, 0.0070214709267020226, -0.034435734152793884, 0.05470641702413559, 0.0085750138387084, -0.01240120641887188, -0.001845256076194346, -0.01835758425295353, -0.01575251668691635, -0.10773038864135742, -0.04320070147514343, 0.017774157226085663, 0.008324004709720612, 0.002879820531234145, 0.013805500231683254, 0.003849936882033944, 0.008357924409210682, -0.010284588672220707, 0.042142391204833984, -0.006170074921101332, -0.02752959169447422, -0.025874288752675056, -0.01862894557416439, 0.008941351436078548, -0.020284248515963554, -0.018316879868507385, -0.02584715373814106, 0.002301482018083334, 0.025820016860961914, 0.008588581345975399, -0.0023591462522745132, -0.014083645306527615, -0.006302363704890013, 0.000659746874589473, -0.003196974052116275, -0.02781452238559723, 0.019361620768904686, 0.003514127340167761, -0.007699873764067888, -0.0063328915275633335, -0.003007021266967058, 0.0016756553668528795, -0.016729416325688362, -0.020908379927277565, -0.002120009157806635, -0.009226280264556408, -0.013004984706640244, 0.03234625235199928, 0.00023977304226718843, 0.016824394464492798, 0.03622671961784363, 0.015386179089546204, -0.004297683015465736, -0.021139036864042282, -0.012910008430480957, -0.014829888939857483, 0.013093177229166031, 0.010508461855351925, -0.02051490545272827, -0.03524981811642647, -3.7974667066009715e-05, -0.013554491102695465, 0.0046165320090949535, 0.021030491217970848, -0.01561683602631092, -0.010142124257981777, 0.005746073089540005, -0.010460973717272282, -0.0013330618385225534, -0.030148228630423546, 0.010773039422929287, -0.028954239562153816, 0.017896270379424095, -0.018113359808921814, -0.009443369694054127, -0.028954239562153816, -0.03826192766427994, 0.014097213745117188, -0.01598317362368107, -0.004555475898087025, 0.005505240056663752, -0.014002237468957901, 0.01632237620651722, -0.007821986451745033, -0.014789184555411339, -0.019565140828490257, -0.005993690341711044, 0.002778060035780072, -0.0020080727990716696, -0.01530477125197649, -0.023934056982398033, 0.007130015175789595, -0.01253688707947731, 0.03199348226189613, 0.011688883416354656, -0.004701332654803991, 0.008568229153752327, 0.03932023420929909, -0.00805264338850975, 0.005437399726361036, 0.005413655657321215, 0.004524947609752417, -0.029307007789611816, -0.010203180834650993, 0.019524438306689262, -0.005851225461810827, -0.01134289801120758, 0.011254705488681793, -0.009782570414245129, -0.03392014652490616, -0.0029680130537599325, -0.04292934015393257, 0.03375733271241188, 0.01876462623476982, -0.0192530769854784, -0.011553202755749226, -0.007896610535681248, -0.004348563030362129, 0.0030273732263594866, -0.008147619664669037, 0.006397339981049299, -0.016091719269752502, 0.02431396208703518, -0.034435734152793884, 0.0038533287588506937, -0.016783690080046654, -0.021274717524647713, 0.030989447608590126, -0.015101250261068344, 0.02367626316845417, 0.021451102569699287, -0.0019419285235926509, -0.01016247645020485, 0.01561683602631092, 0.019429460167884827, -0.0041823540814220905, -0.015996741130948067, -0.02214307337999344, -0.01758420467376709, -0.014965569600462914, -0.005406871438026428, 0.016634440049529076, -0.014544959180057049, -0.00046216201735660434, 0.011051184497773647, -0.009572265669703484, -0.0041925301775336266, -0.02234659343957901, 0.04225093498826027, 0.034435734152793884, 0.04089413210749626, 0.004545299801975489, -0.013540923595428467, 0.01187205221503973, -0.0018096399726346135, -0.002401546575129032, -0.0022082016803324223, 0.012170549482107162, 0.022400865331292152, 0.013045689091086388, -0.009450153447687626, 0.0357382670044899, 0.01771988533437252, -0.002418506657704711, -0.02626776322722435, 0.002484650816768408, 0.004212882369756699, 0.0031359177082777023, -0.0023727144580334425, 0.011546418070793152, -0.003251246176660061, 0.025942130014300346, -0.009850410744547844, 0.024843117222189903, 0.0008331636199727654, -0.0005779145285487175, -0.0019114003516733646, -0.015996741130948067, -0.008887078613042831, 0.028818558901548386, -0.02360842376947403, -0.021613918244838715, 0.0009667242411524057, 0.006102234590798616, 0.010359213687479496, 0.011865267530083656, 0.016729416325688362, 0.004348563030362129, 0.0037210402078926563, 0.0016883753705769777, 0.00011204249312868342, 0.015019841492176056, 0.008493605069816113, -0.01666157692670822, 0.005121942609548569, 0.022930020466446877, 0.013601979240775108, -0.003249550238251686, 0.023920489475131035, -0.009456937201321125, -0.02430039457976818, 0.014721344225108624, 0.008106915280222893, -0.004389267414808273, 0.0006063226610422134, -0.022536545991897583, 0.012726839631795883, -0.008018722757697105, 0.014178621582686901, 0.03769207000732422, 0.021491805091500282, 0.00581730529665947, -0.000313125376123935, -0.009165223687887192, -0.018167631700634956, -0.028465788811445236, 0.017055051401257515, -0.015915334224700928, -0.039483051747083664, -0.0024252906441688538, 0.004067025613039732, -0.004993045702576637, 0.007733793929219246, -0.011722803115844727, 0.008568229153752327, -0.0023252260871231556, -0.00040449778316542506, -0.00018009479390457273, -0.01773345284163952, -0.011451441794633865, 0.014572096057236195, -0.008988839574158192, 0.009361960925161839, -0.0018469521310180426, -0.002058953046798706, -0.01159390714019537, 0.020826971158385277, 0.04216952994465828, -0.010148908011615276, 0.003110477700829506, -0.0025711471680551767, 0.023160677403211594, -0.0020572571083903313, -0.0048505812883377075, 0.004687764681875706, 0.012774327769875526, -0.004189138300716877, -0.0023625383619219065, 0.0025864113122224808, -0.010535597801208496, 0.0861843153834343, 0.0182083360850811, -0.0008437637006863952, -0.008269731886684895, -0.05058172345161438, 0.004158610012382269, 0.030229635536670685, -0.005854617804288864, 0.012068788520991802, -0.036742303520441055, 0.010630574077367783, -0.003524303436279297, 0.03025677241384983, -0.03299751877784729, -0.013473083265125751, -0.007998370565474033, -0.026783348992466927, 0.013086393475532532, -0.005705369170755148, -0.009565481916069984, 0.015888197347521782, -0.02955123409628868, 0.025969265028834343, 0.0192666444927454, -0.009199144318699837, -0.010338861495256424, -0.016566600650548935, -0.013507002964615822, -0.00010536445915931836, -0.037149347364902496, -0.003325870493426919, 0.012279093265533447, -0.012360502034425735, -0.030663814395666122, -0.002681387821212411, -0.010773039422929287, 0.012441910803318024, -0.014273598790168762, -0.0010405005887150764, 0.013819068670272827, -0.0070893107913434505, 0.017177162691950798, -0.021831007674336433, -0.0027831480838358402, -0.028954239562153816, -0.017055051401257515, -0.006088666617870331, 0.007801634259521961, -0.0070893107913434505]]}\n"
     ]
    }
   ],
   "source": [
    "0for arxiv_id, blob in dataset.items():\n",
    "    print(arxiv_id)\n",
    "    print(blob.get(\"embedding_df\"))\n",
    "    nugget_questions = blob['embedding_df']['nugget_questions']\n",
    "    nugget_answers = blob['embedding_df']['nugget_answers']\n",
    "    embeddings = np.array(blob['embedding_df']['embeddings'])\n",
    "    \n",
    "    break"
   ]
  },
  {
   "cell_type": "code",
   "execution_count": null,
   "metadata": {},
   "outputs": [],
   "source": []
  }
 ],
 "metadata": {
  "kernelspec": {
   "display_name": "Python 3 (ipykernel)",
   "language": "python",
   "name": "python3"
  },
  "language_info": {
   "codemirror_mode": {
    "name": "ipython",
    "version": 3
   },
   "file_extension": ".py",
   "mimetype": "text/x-python",
   "name": "python",
   "nbconvert_exporter": "python",
   "pygments_lexer": "ipython3",
   "version": "3.8.15"
  }
 },
 "nbformat": 4,
 "nbformat_minor": 4
}
